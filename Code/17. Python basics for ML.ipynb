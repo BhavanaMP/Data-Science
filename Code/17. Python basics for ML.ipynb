{
 "cells": [
  {
   "cell_type": "markdown",
   "id": "a4c2af82",
   "metadata": {},
   "source": [
    "### Python Operators"
   ]
  },
  {
   "cell_type": "markdown",
   "id": "c77231a2",
   "metadata": {},
   "source": [
    "    Ref: https://www.programiz.com/python-programming/operators\n",
    "\n",
    "    - Arithmetic operators - ( +, -, *, /, %, //, ** )\n",
    "    - Assignment Operators - ( =, +=, -=, /=, *=, %=, **= )\n",
    "    - Comparison Operators - ( ==, !=, >=, <=, >, < )\n",
    "    - Walrus operator or assignment expression \":=\"  Ref: https://realpython.com/python-walrus-operator/\n",
    "    - Logical Operators - \n",
    "        (and - \ta and b\tLogical AND: True only if both the operands are True\n",
    "        (or - \ta or b\tLogical OR: True if at least one of the operands is True\n",
    "        (not\tnot a\tLogical NOT: True if the operand is False and vice-versa)\n",
    "        \n",
    "    - Bitwise Operators - acts on bits\n",
    "        Let x = 10 (0000 1010 in binary) and y = 4 (0000 0100 in binary)\n",
    "            Operator\tMeaning\t           Example\n",
    "            --------------------------------------\n",
    "                &\t   Bitwise AND\t        x & y = 0 (0000 0000)\n",
    "                |\t   Bitwise OR\t        x | y = 14 (0000 1110)\n",
    "                ~\t   Bitwise NOT\t        ~x = -11 (1111 0101)\n",
    "                ^\t   Bitwise XOR\t        x ^ y = 14 (0000 1110)\n",
    "                >>\t   Bitwiserightshift    x >> 2 = 2 (0000 0010)\n",
    "                <<\t   Bitwise left shift   x << 2 = 40 (0010 1000)\n",
    "   \n",
    "    - Special Operators:\n",
    "        > Identity operators: is , is not\n",
    "             -- 'is and is not' are used to check if two values are located on the same part of the memory. Two variables that are equal does not imply that they are identical.\n",
    "        > Membership operators : in , not in\n",
    "           -- 'in and not in' are the membership operators. They are used to test whether a value or variable is found in a sequence (string, list, tuple, set and dictionary). In a dictionary we can only test for presence of key, not the value.\n",
    "           \n",
    "        > Inplace operator - \"|=\"\n",
    "                \n",
    "                |= performs an in-place+ operation between pairs of objects. In particular, between:\n",
    "\n",
    "                                sets: a union operation\n",
    "                                dicts: an update operation\n",
    "                                counters: a union (of multisets) operation\n",
    "                                numbers: a bitwise OR, binary operation\n",
    "                                In most cases, it is related to the | operator. See examples below.\n",
    "\n",
    "                       For Sets:\n",
    "                       ----------\n",
    "\n",
    "                            For eg, the union of two sets assigned to s1 and s2 share the following equivalent expressions:\n",
    "\n",
    "                                            >>> s1 = s1 | s2                                           # 1\n",
    "                                            >>> s1 |= s2                                               # 2\n",
    "                                            >>> s1.__ior__(s2)                                         # 3\n",
    "                                            \n",
    "                                            where the final value of s1 is equivalent either by:\n",
    "\n",
    "                                            1. an assigned OR operation\n",
    "                                            2. an in-place OR operation\n",
    "                                            3. an in-place OR operation via special method++\n",
    "                            Eg's:\n",
    "\n",
    "                            Here we apply OR (|) and the in-place OR (|=) to sets:\n",
    "\n",
    "                                    >>> s1 = {\"a\", \"b\", \"c\"}\n",
    "                                    >>> s2 = {\"d\", \"e\", \"f\"}\n",
    "\n",
    "                                    >>> # OR, | \n",
    "                                    >>> s1 | s2\n",
    "                                        {'a', 'b', 'c', 'd', 'e', 'f'}\n",
    "                                    >>> s1                                                     # `s1` is unchanged\n",
    "                                        {'a', 'b', 'c'}\n",
    "                                    >>> print(id(s1))\n",
    "                                        1767097386816\n",
    "\n",
    "                                    >>> # In-place OR, |=\n",
    "                                    >>> s1 |= s2\n",
    "                                    >>> s1                                                     # `s1` is reassigned\n",
    "                                        {'a', 'b', 'c', 'd', 'e', 'f'}\n",
    "                                    >>> print(id(s1))\n",
    "                                        1767097386816                                          #id reference wont change\n",
    "    \n",
    "                For Dictionaries:\n",
    "                -----------------\n",
    "\n",
    "                In Python 3.9+, new merge (|) and update (|=) operators are proposed between dictionaries. Note: these are not the same as set operators mentioned above.\n",
    "\n",
    "                Given operations between two dicts assigned to d1 and d2:\n",
    "\n",
    "                                >>> d1 = d1 | d2                                           # 1\n",
    "                                >>> d1 |= d2                                               # 2\n",
    "                                \n",
    "                                where d1 is equivalent via:\n",
    "\n",
    "                                1. an assigned merge-right operation\n",
    "                                2. an in-place merge-right (update) operation; equivalent to d1.update(d2)\n",
    "                Eg:\n",
    "\n",
    "                Here we apply merge (|) and update (|=) to dicts:\n",
    "\n",
    "                            >>> d1 = {\"a\": 0, \"b\": 1, \"c\": 2}\n",
    "                            >>> d2 = {\"c\": 20, \"d\": 30}\n",
    "\n",
    "                            >>> # Merge, | \n",
    "                            >>> d1 | d2\n",
    "                                {\"a\": 0, \"b\": 1, \"c\": 20, \"d\": 30}\n",
    "                            >>> d1 \n",
    "                                {\"a\": 0, \"b\": 1, \"c\": 2}\n",
    "\n",
    "                            >>> # Update, |=\n",
    "                            >>> d1 |= d2\n",
    "                            >>> d1 \n",
    "                            {\"a\": 0, \"b\": 1, \"c\": 20, \"d\": 30}\n",
    "          For Counters:\n",
    "          -------------\n",
    "\n",
    "            The collections.Counter is related to a mathematical datastructure called a multiset (mset). It is basically a dict of (object, multiplicity) key-value pairs. \n",
    "            \n",
    "            Multiset: A multiset (or bag, or mset) is a modification of the concept of a set that, unlike a set, allows for multiple instances for each of its elements. The number of instances given for each element is called the multiplicity of that element in the multiset. Multisets are containers that store elements following a specific order, and where multiple elements can have equivalent values i.e same element can appear multiple times unlike set. \n",
    "            In a multiset, the value of an element also identifies it (the value is itself the key). The value of the elements in a multiset cannot be modified once in the container (the elements are always const), but they can be inserted or removed from the container. Internally, the elements in a multiset are always sorted following a specific strict weak ordering criterion indicated by its internal comparison object (of type Compare). multiset containers are generally slower than unordered_multiset containers to access individual elements by their key, but they allow the direct iteration on subsets based on their order. Multisets are typically implemented as binary search trees.\n",
    "\n",
    "            Given operations between two counters assigned to c1 and c2:\n",
    "\n",
    "                            >>> c1 = c1 | c2                                           # 1\n",
    "                            >>> c1 |= c2                                               # 2\n",
    "                            \n",
    "                            where c1 is equivalent via:\n",
    "\n",
    "                            1. an assigned union operation\n",
    "                            2. an in-place union operation\n",
    "            \n",
    "            A union of multisets contains the maximum multiplicities per entry. Note, this does not behave the same way as between two sets or between two regular dicts.\n",
    "\n",
    "                        Eg:\n",
    "\n",
    "                        Here we apply union (|) and the in-place union (|=) to Counters:\n",
    "\n",
    "                                    import collections as ct\n",
    "\n",
    "\n",
    "                                    >>> c1 = ct.Counter({2: 2, 3: 3})\n",
    "                                    >>> c2 = ct.Counter({1: 1, 3: 5})\n",
    "\n",
    "                                    >>> # Union, |    \n",
    "                                    >>> c1 | c2\n",
    "                                        Counter({2: 2, 3: 5, 1: 1})\n",
    "                                    >>> c1\n",
    "                                        Counter({2: 2, 3: 3})\n",
    "\n",
    "                                    >>> # In-place Union, |=\n",
    "                                    >>> c1 |= c2\n",
    "                                    >>> c1\n",
    "                                        Counter({2: 2, 3: 5, 1: 1})\n",
    "        For Numbers:\n",
    "        ------------\n",
    "\n",
    "            Lastly, we can do binary math.\n",
    "\n",
    "            Given operations between two numbers assigned to n1 and n2:\n",
    "\n",
    "                    >>> n1 = n1 | n2                                           # 1\n",
    "                    >>> n1 |= n2                                               # 2\n",
    "                    where n1 is equivalent via:\n",
    "\n",
    "                    1. an assigned bitwise OR operation\n",
    "                    2. an in-place bitwise OR operation\n",
    "               \n",
    "               Eg:\n",
    "\n",
    "                    Here we apply bitwise OR (|) and the in-place bitwise OR (|=) to numbers:\n",
    "\n",
    "                                    >>> n1 = 0\n",
    "                                    >>> n2 = 1\n",
    "\n",
    "                                    >>> # Bitwise OR, |\n",
    "                                    >>> n1 | n2\n",
    "                                    1\n",
    "                                    >>> n1\n",
    "                                    0\n",
    "\n",
    "                                    >>> # In-place Bitwise OR, |=\n",
    "                                    >>> n1 |= n2\n",
    "                                    >>> n1\n",
    "                                    1\n",
    "                                    \n",
    "                This below section briefly reviews some bitwise math. In the simplest case, the bitwise OR operation compares two binary bits. It will always return 1 except when both bits are 0.\n",
    "\n",
    "                        >>> assert 1 == (1 | 1) == (1 | 0) == (0 | 1)\n",
    "                        >>> assert 0 == (0 | 0)\n",
    "            \n",
    "            We now extend this idea beyond binary numbers. Given any two integral numbers (lacking fractional components), we apply the bitwise OR and get an integral result:\n",
    "\n",
    "                            >>> a = 10 \n",
    "                            >>> b = 16 \n",
    "                            >>> a | b\n",
    "                                26\n",
    "                \n",
    "            How? In general, the bitwise operations follow some \"rules\":\n",
    "\n",
    "                - internally compare binary equivalents\n",
    "                - apply the operation\n",
    "                - return the result as the given type\n",
    "            \n",
    "            Let's apply these rules to our regular integers above.\n",
    "\n",
    "                (1) Compare binary equivalents, seen here as strings (0b denotes binary):\n",
    "\n",
    "                                >>> bin(a)\n",
    "                                   '0b1010'\n",
    "                                >>> bin(b)\n",
    "                                   '0b10000'\n",
    "                \n",
    "                (2) Apply a bitwise OR operation to each column (0 when both are 0, else 1):\n",
    "\n",
    "                                    01010\n",
    "                                    10000\n",
    "                                    -----\n",
    "                                    11010\n",
    "                \n",
    "                (3) Return the result in the given type, e.g. base 10, decimal:\n",
    "\n",
    "                                >>> int(0b11010)\n",
    "                                    26\n",
    "                The internal binary comparison means we can apply the latter to integers in any base, e.g. hex and octal:\n",
    "\n",
    "                            >>> a = 10                                   # 10, dec\n",
    "                            >>> b = 0b10000                              # 16, bin\n",
    "                            >>> c = 0xa                                  # 10, hex\n",
    "                            >>> d = 0o20                                 # 16, oct\n",
    "\n",
    "                            >>> a | b\n",
    "                                26\n",
    "                            >>> c | d\n",
    "                                26"
   ]
  },
  {
   "cell_type": "code",
   "execution_count": 422,
   "id": "daf8779b",
   "metadata": {},
   "outputs": [
    {
     "name": "stdout",
     "output_type": "stream",
     "text": [
      "1767097386816\n",
      "1767097386816\n"
     ]
    }
   ],
   "source": [
    "#set with inplace operator\n",
    "s1 = {\"a\", \"b\", \"c\"}\n",
    "s2 = {\"d\", \"e\", \"f\"}\n",
    "print(id(s1))\n",
    "s1 |= s2\n",
    "print(id(s1))"
   ]
  },
  {
   "cell_type": "code",
   "execution_count": 339,
   "id": "60a5e649",
   "metadata": {},
   "outputs": [
    {
     "name": "stdout",
     "output_type": "stream",
     "text": [
      "False\n",
      "True\n",
      "False\n"
     ]
    }
   ],
   "source": [
    "#identity operators is and is not\n",
    "x1 = 5\n",
    "y1 = 5\n",
    "x2 = 'Hello'\n",
    "y2 = 'Hello'\n",
    "x3 = [1,2,3]\n",
    "y3 = [1,2,3]\n",
    "\n",
    "print(x1 is not y1)\n",
    "print(x2 is y2)\n",
    "print(x3 is y3)\n",
    "\n",
    "#Observation:\n",
    "    #Here, we see that x1 and y1 are integers of the same values, so they are equal as well as identical. Same is the case with x2 and y2 (strings).\n",
    "    #But x3 and y3 are lists. They are equal but not identical. It is because the interpreter locates them separately in memory although they are equal."
   ]
  },
  {
   "cell_type": "code",
   "execution_count": 423,
   "id": "743195f7",
   "metadata": {},
   "outputs": [
    {
     "name": "stdout",
     "output_type": "stream",
     "text": [
      "20\n",
      "True\n"
     ]
    }
   ],
   "source": [
    "#ternary operator\n",
    "a, b = 10, 20\n",
    "#true => func at index 1 will execute\n",
    "#false => func at index 0 will execute\n",
    "print((lambda: a+2, lambda: b)[a<b]())\n",
    "\n",
    "#we can also acheive this using if else in single line\n",
    "# Python Ternary Operator\n",
    "age = 20\n",
    "can_vote = True if age >= 18 else False\n",
    "print(can_vote)"
   ]
  },
  {
   "cell_type": "code",
   "execution_count": 14,
   "id": "8af73c0a",
   "metadata": {},
   "outputs": [
    {
     "name": "stdout",
     "output_type": "stream",
     "text": [
      "Usual comparision\n",
      "pythonic concatenation operation\n"
     ]
    }
   ],
   "source": [
    "#concatenation in comparison operator\n",
    "#Eg: to test if a value is between 1 and 11, we can do:\n",
    "a = 10\n",
    "if a>1 and a<11:\n",
    "    print(\"Usual comparision\")\n",
    "if 1 < a < 11:\n",
    "    print(\"pythonic concatenation operation\")\n"
   ]
  },
  {
   "cell_type": "code",
   "execution_count": 10,
   "id": "02957be0",
   "metadata": {},
   "outputs": [
    {
     "name": "stdout",
     "output_type": "stream",
     "text": [
      "1 2 3 4\n"
     ]
    }
   ],
   "source": [
    "#use of * to unpack the elements in the list or dictonaries\n",
    "c = [1, 2, 3, 4]\n",
    "print(*c)"
   ]
  },
  {
   "cell_type": "code",
   "execution_count": 196,
   "id": "5e40062a",
   "metadata": {},
   "outputs": [],
   "source": [
    "#keyword and non keyword arguments\n",
    "#** represents key word args , also used to unpack keyword args\n",
    "#* represents positional args(arguments without keywords)"
   ]
  },
  {
   "cell_type": "markdown",
   "id": "7333b57f",
   "metadata": {},
   "source": [
    "### Lists"
   ]
  },
  {
   "cell_type": "markdown",
   "id": "8b52f5d2",
   "metadata": {},
   "source": [
    "#### --------------------------------- Lists appending - append(), +, extend() ----------------------------------------"
   ]
  },
  {
   "cell_type": "code",
   "execution_count": 1,
   "id": "ed547c2f",
   "metadata": {},
   "outputs": [
    {
     "data": {
      "text/plain": [
       "[1, 2, 3, 'charval']"
      ]
     },
     "execution_count": 1,
     "metadata": {},
     "output_type": "execute_result"
    }
   ],
   "source": [
    "a = [1, 2, 3]\n",
    "a.append(\"charval\")\n",
    "a"
   ]
  },
  {
   "cell_type": "code",
   "execution_count": 17,
   "id": "6ea8a3ef",
   "metadata": {},
   "outputs": [
    {
     "data": {
      "text/plain": [
       "[1, 2, 3, 4]"
      ]
     },
     "execution_count": 17,
     "metadata": {},
     "output_type": "execute_result"
    }
   ],
   "source": [
    "a = [1, 2, 3]\n",
    "a.append(4)\n",
    "a"
   ]
  },
  {
   "cell_type": "code",
   "execution_count": 11,
   "id": "63fc6dbc",
   "metadata": {},
   "outputs": [
    {
     "data": {
      "text/plain": [
       "[1, 2, 3, '4']"
      ]
     },
     "execution_count": 11,
     "metadata": {},
     "output_type": "execute_result"
    }
   ],
   "source": [
    "a = [1, 2, 3]\n",
    "a += '4' \n",
    "a"
   ]
  },
  {
   "cell_type": "markdown",
   "id": "314a1301",
   "metadata": {},
   "source": [
    "#### Observation:\n",
    "    In the above cell, \"a += 4\" gives error as \"int object is not iterable\" bcz the value we are appending is int. We can only append strings using \"+\" operator but we can append anything using append(). But append() only appends one single element at a time or multiple elements as a list  where as \"+\" operator can append more than element that is given as list or tuple. Meaning, we can't append using a.append(4, 'char') but we can append a.append([4, 'char']).\n",
    "    \n",
    "    The only difference between \"+\" operator and append() for appending multiple elements is, append() appends the list of elements as a list without unpacking whereas + operator unpacks(not for nested lists though) and appends. Observe the cells below."
   ]
  },
  {
   "cell_type": "code",
   "execution_count": 15,
   "id": "6b78c611",
   "metadata": {},
   "outputs": [
    {
     "data": {
      "text/plain": [
       "[1, 2, 3, 4, 'charval']"
      ]
     },
     "execution_count": 15,
     "metadata": {},
     "output_type": "execute_result"
    }
   ],
   "source": [
    "a = [1, 2, 3]\n",
    "a += [4, 'charval']\n",
    "a \n",
    "#observe here, we can append the list that also contains int.\n",
    "#So, it makes sense to convert the vals to list before appending using + operator"
   ]
  },
  {
   "cell_type": "code",
   "execution_count": 25,
   "id": "53fb638f",
   "metadata": {},
   "outputs": [
    {
     "data": {
      "text/plain": [
       "[1, 2, 3, 4]"
      ]
     },
     "execution_count": 25,
     "metadata": {},
     "output_type": "execute_result"
    }
   ],
   "source": [
    "a = [1, 2]\n",
    "b = [3, 4]\n",
    "a += b\n",
    "a"
   ]
  },
  {
   "cell_type": "code",
   "execution_count": 424,
   "id": "19c67b2b",
   "metadata": {},
   "outputs": [
    {
     "data": {
      "text/plain": [
       "[1, 2, 3, 4, 'charval', ['nested', 2]]"
      ]
     },
     "execution_count": 424,
     "metadata": {},
     "output_type": "execute_result"
    }
   ],
   "source": [
    "#appending nested lists using += \n",
    "a = [1, 2, 3]\n",
    "a += [4, 'charval', ['nested', 2]]\n",
    "a"
   ]
  },
  {
   "cell_type": "code",
   "execution_count": 18,
   "id": "b5f95775",
   "metadata": {},
   "outputs": [
    {
     "data": {
      "text/plain": [
       "[1, 2, 3, [5, 'charvalue']]"
      ]
     },
     "execution_count": 18,
     "metadata": {},
     "output_type": "execute_result"
    }
   ],
   "source": [
    "##appending lists using append - notice append() wont unpack the list \n",
    "a = [1, 2, 3]\n",
    "a.append([5, 'charvalue'])\n",
    "a"
   ]
  },
  {
   "cell_type": "code",
   "execution_count": 19,
   "id": "f59b4a93",
   "metadata": {
    "collapsed": true
   },
   "outputs": [
    {
     "ename": "TypeError",
     "evalue": "append() takes exactly one argument (2 given)",
     "output_type": "error",
     "traceback": [
      "\u001b[1;31m---------------------------------------------------------------------------\u001b[0m",
      "\u001b[1;31mTypeError\u001b[0m                                 Traceback (most recent call last)",
      "Input \u001b[1;32mIn [19]\u001b[0m, in \u001b[0;36m<cell line: 2>\u001b[1;34m()\u001b[0m\n\u001b[0;32m      1\u001b[0m a \u001b[38;5;241m=\u001b[39m [\u001b[38;5;241m1\u001b[39m, \u001b[38;5;241m2\u001b[39m, \u001b[38;5;241m3\u001b[39m]\n\u001b[1;32m----> 2\u001b[0m \u001b[43ma\u001b[49m\u001b[38;5;241;43m.\u001b[39;49m\u001b[43mappend\u001b[49m\u001b[43m(\u001b[49m\u001b[38;5;241;43m5\u001b[39;49m\u001b[43m,\u001b[49m\u001b[43m \u001b[49m\u001b[38;5;124;43m'\u001b[39;49m\u001b[38;5;124;43mcharvalue\u001b[39;49m\u001b[38;5;124;43m'\u001b[39;49m\u001b[43m)\u001b[49m\n\u001b[0;32m      3\u001b[0m a\n",
      "\u001b[1;31mTypeError\u001b[0m: append() takes exactly one argument (2 given)"
     ]
    }
   ],
   "source": [
    "a = [1, 2, 3]\n",
    "a.append(5, 'charvalue')\n",
    "a #expand to see the error"
   ]
  },
  {
   "cell_type": "code",
   "execution_count": 20,
   "id": "7a7337b2",
   "metadata": {},
   "outputs": [
    {
     "data": {
      "text/plain": [
       "[1, 2, 3, 4, 'strgg', 'hola', 6]"
      ]
     },
     "execution_count": 20,
     "metadata": {},
     "output_type": "execute_result"
    }
   ],
   "source": [
    "#--------extend() : appends all the elements of an iterable (list, tuple, string etc.) to the end of the list with unpacking(doesn't unpack for nested lists---------\n",
    "a = [1, 2, 3]\n",
    "a.extend([4, 'strgg', 'hola', 6])\n",
    "a"
   ]
  },
  {
   "cell_type": "code",
   "execution_count": 26,
   "id": "e3807698",
   "metadata": {},
   "outputs": [
    {
     "data": {
      "text/plain": [
       "[1, 2, 3, 4, 'str1']"
      ]
     },
     "execution_count": 26,
     "metadata": {},
     "output_type": "execute_result"
    }
   ],
   "source": [
    "a = [1, 2, 3]\n",
    "b = (4, 'str1') #tuple\n",
    "a.extend(b)\n",
    "a"
   ]
  },
  {
   "cell_type": "code",
   "execution_count": 27,
   "id": "a7b86b78",
   "metadata": {},
   "outputs": [
    {
     "data": {
      "text/plain": [
       "[1, 2, 3, 4, 'str1']"
      ]
     },
     "execution_count": 27,
     "metadata": {},
     "output_type": "execute_result"
    }
   ],
   "source": [
    "a = [1, 2, 3]\n",
    "b = {4, 'str1'} #set\n",
    "a.extend(b)\n",
    "a"
   ]
  },
  {
   "cell_type": "code",
   "execution_count": 23,
   "id": "8ada9217",
   "metadata": {},
   "outputs": [
    {
     "data": {
      "text/plain": [
       "[1, 2, 3, 4, 'strgg', ['hola', 8, 9]]"
      ]
     },
     "execution_count": 23,
     "metadata": {},
     "output_type": "execute_result"
    }
   ],
   "source": [
    "a = [1, 2, 3]\n",
    "b = [4, 'strgg', ['hola', 8, 9]]\n",
    "a.extend(b)\n",
    "a"
   ]
  },
  {
   "cell_type": "code",
   "execution_count": 29,
   "id": "dcd04328",
   "metadata": {},
   "outputs": [
    {
     "data": {
      "text/plain": [
       "[1, 2, 3, 4]"
      ]
     },
     "execution_count": 29,
     "metadata": {},
     "output_type": "execute_result"
    }
   ],
   "source": [
    "#appending using list slicing syntax\n",
    "a = [1, 2]\n",
    "b = [3, 4]\n",
    "a[len(a):] = b\n",
    "a"
   ]
  },
  {
   "cell_type": "markdown",
   "id": "1306550d",
   "metadata": {},
   "source": [
    "#### Observation:\n",
    "    Difference between extend() and append() when appending multilple elements is a1 = [1, 2], a2 = [1, 2], b = (3, 4)\n",
    "    a1.extend(b) gives [1, 2, 3, 4] whereas a2.append(b) gives [1, 2, (3, 4)]"
   ]
  },
  {
   "cell_type": "markdown",
   "id": "772f1213",
   "metadata": {},
   "source": [
    "#### ------------------------------------------ List Slicing -----------------------------------------------------------------"
   ]
  },
  {
   "cell_type": "code",
   "execution_count": 32,
   "id": "fae6bd5d",
   "metadata": {},
   "outputs": [
    {
     "data": {
      "text/plain": [
       "[2]"
      ]
     },
     "execution_count": 32,
     "metadata": {},
     "output_type": "execute_result"
    }
   ],
   "source": [
    "# -------- Index starts from 0. Slicing is start index inclusive and end index exclusive------------------\n",
    "#syntax of slicing: list[startidx: endidx: step]\n",
    "a = [1, 2, 3, 4]\n",
    "a[1:2]"
   ]
  },
  {
   "cell_type": "code",
   "execution_count": 33,
   "id": "79c2c9bb",
   "metadata": {},
   "outputs": [
    {
     "data": {
      "text/plain": [
       "[2, 3]"
      ]
     },
     "execution_count": 33,
     "metadata": {},
     "output_type": "execute_result"
    }
   ],
   "source": [
    "a = [1, 2, 3, 4]\n",
    "a[1:3]"
   ]
  },
  {
   "cell_type": "code",
   "execution_count": 41,
   "id": "e7848f48",
   "metadata": {},
   "outputs": [
    {
     "data": {
      "text/plain": [
       "[2, 3, 4]"
      ]
     },
     "execution_count": 41,
     "metadata": {},
     "output_type": "execute_result"
    }
   ],
   "source": [
    "a = [1, 2, 3, 4]\n",
    "a[1:]"
   ]
  },
  {
   "cell_type": "code",
   "execution_count": 42,
   "id": "d51afa86",
   "metadata": {},
   "outputs": [
    {
     "data": {
      "text/plain": [
       "[1, 2, 3]"
      ]
     },
     "execution_count": 42,
     "metadata": {},
     "output_type": "execute_result"
    }
   ],
   "source": [
    "a = [1, 2, 3, 4]\n",
    "a[:3]"
   ]
  },
  {
   "cell_type": "code",
   "execution_count": 34,
   "id": "e3ba1f7b",
   "metadata": {},
   "outputs": [
    {
     "data": {
      "text/plain": [
       "4"
      ]
     },
     "execution_count": 34,
     "metadata": {},
     "output_type": "execute_result"
    }
   ],
   "source": [
    "a = [1, 2, 3, 4]\n",
    "a[-1] #negative indexing: -1 indicates the last element in the list, -2 last but one, -3 third element from last"
   ]
  },
  {
   "cell_type": "code",
   "execution_count": 40,
   "id": "5107d9e3",
   "metadata": {},
   "outputs": [
    {
     "data": {
      "text/plain": [
       "[1, 2, 3]"
      ]
     },
     "execution_count": 40,
     "metadata": {},
     "output_type": "execute_result"
    }
   ],
   "source": [
    "a = [1, 2, 3, 4]\n",
    "a[:-1] #starts at starting index and ends at -2 as -1 end is exclusive"
   ]
  },
  {
   "cell_type": "code",
   "execution_count": 43,
   "id": "bdcfab67",
   "metadata": {},
   "outputs": [
    {
     "data": {
      "text/plain": [
       "[3, 4]"
      ]
     },
     "execution_count": 43,
     "metadata": {},
     "output_type": "execute_result"
    }
   ],
   "source": [
    "a = [1, 2, 3, 4]\n",
    "a[-2:] #starts at -2 to till list end"
   ]
  },
  {
   "cell_type": "code",
   "execution_count": 44,
   "id": "bb429e81",
   "metadata": {},
   "outputs": [
    {
     "data": {
      "text/plain": [
       "[1, 2]"
      ]
     },
     "execution_count": 44,
     "metadata": {},
     "output_type": "execute_result"
    }
   ],
   "source": [
    "a = [1, 2, 3, 4]\n",
    "a[:-2] #starts at the list starting index to till index -3 bcz -2 index is exclusive and the one below -2 index is -3 index"
   ]
  },
  {
   "cell_type": "code",
   "execution_count": 48,
   "id": "2fe570ce",
   "metadata": {},
   "outputs": [
    {
     "name": "stdout",
     "output_type": "stream",
     "text": [
      "x is : [ 1  2  3  4  5  6  7  8  9 10]\n"
     ]
    },
    {
     "data": {
      "text/plain": [
       "array([1, 3, 5, 7, 9])"
      ]
     },
     "execution_count": 48,
     "metadata": {},
     "output_type": "execute_result"
    }
   ],
   "source": [
    "import numpy as np\n",
    "x = np.arange(1, 11)\n",
    "print(f\"x is : {x}\")\n",
    "odd = x[::2] #given only the step of 2 from strarting idx to ending idx\n",
    "odd"
   ]
  },
  {
   "cell_type": "code",
   "execution_count": 49,
   "id": "2c100575",
   "metadata": {},
   "outputs": [
    {
     "data": {
      "text/plain": [
       "array([ 2,  4,  6,  8, 10])"
      ]
     },
     "execution_count": 49,
     "metadata": {},
     "output_type": "execute_result"
    }
   ],
   "source": [
    "import numpy as np\n",
    "x = np.arange(1, 11)\n",
    "even = x[1::2] #given the starting idx as 1 and the step of 2 from strarting idx 1 to ending idx\n",
    "even"
   ]
  },
  {
   "cell_type": "code",
   "execution_count": 55,
   "id": "b9684882",
   "metadata": {},
   "outputs": [
    {
     "name": "stdout",
     "output_type": "stream",
     "text": [
      "even is [10  8  6  4  2]\n",
      "odd is [9 7 5 3 1]\n"
     ]
    }
   ],
   "source": [
    "#finding even and odd using list slicing with negative indexing and in reverse order\n",
    "import numpy as np\n",
    "x = np.arange(1, 11)\n",
    "even = x[-1::-2]\n",
    "odd = x[-2::-2]\n",
    "print(f\"even is {even}\")\n",
    "print(f\"odd is {odd}\")"
   ]
  },
  {
   "cell_type": "code",
   "execution_count": 59,
   "id": "44e85b9f",
   "metadata": {},
   "outputs": [
    {
     "data": {
      "text/plain": [
       "array([7, 5, 3])"
      ]
     },
     "execution_count": 59,
     "metadata": {},
     "output_type": "execute_result"
    }
   ],
   "source": [
    "odd = x[-4:-9:-2] #here we are specing start and end index as well to get odd numbers 7 5 3\n",
    "odd"
   ]
  },
  {
   "cell_type": "code",
   "execution_count": 197,
   "id": "c1a1b5b0",
   "metadata": {},
   "outputs": [
    {
     "data": {
      "text/plain": [
       "array([ 1,  2,  3,  4,  5,  6,  7,  8,  9, 10])"
      ]
     },
     "execution_count": 197,
     "metadata": {},
     "output_type": "execute_result"
    }
   ],
   "source": [
    "import numpy as np\n",
    "a = np.arange(1, 11)\n",
    "a"
   ]
  },
  {
   "cell_type": "code",
   "execution_count": 198,
   "id": "c88b2f5d",
   "metadata": {},
   "outputs": [
    {
     "data": {
      "text/plain": [
       "array([10,  9,  8,  7,  6,  5,  4,  3,  2,  1])"
      ]
     },
     "execution_count": 198,
     "metadata": {},
     "output_type": "execute_result"
    }
   ],
   "source": [
    "#reverses the list\n",
    "a[::-1] #observe we are specify the step as -1 here"
   ]
  },
  {
   "cell_type": "code",
   "execution_count": 199,
   "id": "9edfea2f",
   "metadata": {},
   "outputs": [
    {
     "data": {
      "text/plain": [
       "array([10])"
      ]
     },
     "execution_count": 199,
     "metadata": {},
     "output_type": "execute_result"
    }
   ],
   "source": [
    "a[-1:]"
   ]
  },
  {
   "cell_type": "code",
   "execution_count": 200,
   "id": "db4f3b70",
   "metadata": {},
   "outputs": [
    {
     "data": {
      "text/plain": [
       "array([1, 2, 3, 4, 5, 6, 7, 8, 9])"
      ]
     },
     "execution_count": 200,
     "metadata": {},
     "output_type": "execute_result"
    }
   ],
   "source": [
    "a[:-1]"
   ]
  },
  {
   "cell_type": "code",
   "execution_count": 201,
   "id": "3eb21b2c",
   "metadata": {},
   "outputs": [
    {
     "data": {
      "text/plain": [
       "array([ 8,  9, 10])"
      ]
     },
     "execution_count": 201,
     "metadata": {},
     "output_type": "execute_result"
    }
   ],
   "source": [
    "a[-3:]"
   ]
  },
  {
   "cell_type": "code",
   "execution_count": 202,
   "id": "0cda84ed",
   "metadata": {},
   "outputs": [
    {
     "data": {
      "text/plain": [
       "array([1, 2, 3, 4, 5, 6, 7])"
      ]
     },
     "execution_count": 202,
     "metadata": {},
     "output_type": "execute_result"
    }
   ],
   "source": [
    "a[:-3]"
   ]
  },
  {
   "cell_type": "markdown",
   "id": "d77a1ace",
   "metadata": {},
   "source": [
    "#### -------------------------------------- List insert --------------------------------------------"
   ]
  },
  {
   "cell_type": "code",
   "execution_count": 62,
   "id": "845fdf26",
   "metadata": {},
   "outputs": [
    {
     "data": {
      "text/plain": [
       "['a', 'b', 'str3', 6]"
      ]
     },
     "execution_count": 62,
     "metadata": {},
     "output_type": "execute_result"
    }
   ],
   "source": [
    "l = ['a', 'b', 6]\n",
    "l.insert(2, 'str3') #syntax list.insert(idxwheretoinsert, element/s)\n",
    "l"
   ]
  },
  {
   "cell_type": "code",
   "execution_count": 64,
   "id": "dfe6b798",
   "metadata": {},
   "outputs": [
    {
     "data": {
      "text/plain": [
       "[{'a', 'b', 'c'}, (4, 5, 6), [2, 3]]"
      ]
     },
     "execution_count": 64,
     "metadata": {},
     "output_type": "execute_result"
    }
   ],
   "source": [
    "mixedlist = [{'a', 'b', 'c'}, [2, 3]]\n",
    "tup = (4, 5, 6)\n",
    "mixedlist.insert(1, tup)\n",
    "mixedlist"
   ]
  },
  {
   "cell_type": "markdown",
   "id": "0f0d6f4f",
   "metadata": {},
   "source": [
    "#### ---------------------------- List remove ------------------------------------------------"
   ]
  },
  {
   "cell_type": "code",
   "execution_count": 66,
   "id": "bebb703b",
   "metadata": {},
   "outputs": [
    {
     "data": {
      "text/plain": [
       "['cat', 'dog']"
      ]
     },
     "execution_count": 66,
     "metadata": {},
     "output_type": "execute_result"
    }
   ],
   "source": [
    "#remove() removes(only) the first matching specified element(single element) from a list.Throws value error when element is not found\n",
    "#syntax list.remove(element)\n",
    "a = ['cat', 'dog', 'pig']\n",
    "a.remove('pig')\n",
    "a"
   ]
  },
  {
   "cell_type": "code",
   "execution_count": 67,
   "id": "df0901e6",
   "metadata": {
    "collapsed": true
   },
   "outputs": [
    {
     "ename": "ValueError",
     "evalue": "list.remove(x): x not in list",
     "output_type": "error",
     "traceback": [
      "\u001b[1;31m---------------------------------------------------------------------------\u001b[0m",
      "\u001b[1;31mValueError\u001b[0m                                Traceback (most recent call last)",
      "Input \u001b[1;32mIn [67]\u001b[0m, in \u001b[0;36m<cell line: 2>\u001b[1;34m()\u001b[0m\n\u001b[0;32m      1\u001b[0m a \u001b[38;5;241m=\u001b[39m [\u001b[38;5;124m'\u001b[39m\u001b[38;5;124mcat\u001b[39m\u001b[38;5;124m'\u001b[39m, \u001b[38;5;124m'\u001b[39m\u001b[38;5;124mdog\u001b[39m\u001b[38;5;124m'\u001b[39m, \u001b[38;5;124m'\u001b[39m\u001b[38;5;124mpig\u001b[39m\u001b[38;5;124m'\u001b[39m]\n\u001b[1;32m----> 2\u001b[0m \u001b[43ma\u001b[49m\u001b[38;5;241;43m.\u001b[39;49m\u001b[43mremove\u001b[49m\u001b[43m(\u001b[49m\u001b[38;5;124;43m'\u001b[39;49m\u001b[38;5;124;43mcrow\u001b[39;49m\u001b[38;5;124;43m'\u001b[39;49m\u001b[43m)\u001b[49m\n\u001b[0;32m      3\u001b[0m a\n",
      "\u001b[1;31mValueError\u001b[0m: list.remove(x): x not in list"
     ]
    }
   ],
   "source": [
    "a = ['cat', 'dog', 'pig']\n",
    "a.remove('crow')\n",
    "a #value error"
   ]
  },
  {
   "cell_type": "code",
   "execution_count": 69,
   "id": "4a002002",
   "metadata": {},
   "outputs": [
    {
     "data": {
      "text/plain": [
       "['cat', 'pig', 'cat', 'dog', 'pig']"
      ]
     },
     "execution_count": 69,
     "metadata": {},
     "output_type": "execute_result"
    }
   ],
   "source": [
    "#remove() method on a list having duplicate elements - removes only first matching element\n",
    "a = ['cat', 'dog', 'pig','cat', 'dog', 'pig']\n",
    "a.remove('dog')\n",
    "a"
   ]
  },
  {
   "cell_type": "markdown",
   "id": "33b88920",
   "metadata": {},
   "source": [
    "#### -------------------------- List pop ---------------------------------\n",
    "    pop() removes the item at the given index from the list and returns the removed item\n",
    "    syntax: list.pop(idx)\n",
    "    The argument passed to the method is optional. If not passed, the default index -1 is passed as an argument.\n",
    "    If the index passed to the method is not in range, it throws IndexError: pop index out of range exception."
   ]
  },
  {
   "cell_type": "code",
   "execution_count": 76,
   "id": "5d682bff",
   "metadata": {},
   "outputs": [
    {
     "name": "stdout",
     "output_type": "stream",
     "text": [
      "popped element is : dog\n",
      "a : ['cat', 'pig']\n"
     ]
    }
   ],
   "source": [
    "a = ['cat', 'dog', 'pig']\n",
    "popped_elem = a.pop(1)\n",
    "print(f\"popped element is : {popped_elem}\")\n",
    "print(f\"a : {a}\")"
   ]
  },
  {
   "cell_type": "code",
   "execution_count": 77,
   "id": "30035ba9",
   "metadata": {},
   "outputs": [
    {
     "name": "stdout",
     "output_type": "stream",
     "text": [
      "popped element is : pig\n"
     ]
    }
   ],
   "source": [
    "a = ['cat', 'dog', 'pig']\n",
    "popped_elem = a.pop() #last element will be popped\n",
    "print(f\"popped element is : {popped_elem}\")"
   ]
  },
  {
   "cell_type": "markdown",
   "id": "59b7f5f9",
   "metadata": {},
   "source": [
    "#### -------------------------------- List del -------------------------------------\n",
    "    del() keyword is used to delete any type of variable like lists, tuples, dictionaries, list slices, user defined objects, specified indexes.\n",
    "    Note: We can't delete the elements from string or tuples as they both are immutable but we can delete them entirely. Also, it cannot delete array elements but can delete entire array\n",
    "    Syntax: del var/slice/obj..."
   ]
  },
  {
   "cell_type": "code",
   "execution_count": 78,
   "id": "66a4f094",
   "metadata": {},
   "outputs": [
    {
     "data": {
      "text/plain": [
       "array([ 1,  2,  3,  4,  5,  6,  7,  8,  9, 10])"
      ]
     },
     "execution_count": 78,
     "metadata": {},
     "output_type": "execute_result"
    }
   ],
   "source": [
    "a = np.arange(1, 11)\n",
    "a"
   ]
  },
  {
   "cell_type": "code",
   "execution_count": 79,
   "id": "1a194dbf",
   "metadata": {
    "collapsed": true
   },
   "outputs": [
    {
     "ename": "NameError",
     "evalue": "name 'a' is not defined",
     "output_type": "error",
     "traceback": [
      "\u001b[1;31m---------------------------------------------------------------------------\u001b[0m",
      "\u001b[1;31mNameError\u001b[0m                                 Traceback (most recent call last)",
      "Input \u001b[1;32mIn [79]\u001b[0m, in \u001b[0;36m<cell line: 2>\u001b[1;34m()\u001b[0m\n\u001b[0;32m      1\u001b[0m \u001b[38;5;28;01mdel\u001b[39;00m a\n\u001b[1;32m----> 2\u001b[0m \u001b[43ma\u001b[49m\n",
      "\u001b[1;31mNameError\u001b[0m: name 'a' is not defined"
     ]
    }
   ],
   "source": [
    "del a\n",
    "a"
   ]
  },
  {
   "cell_type": "code",
   "execution_count": 91,
   "id": "b3e8322b",
   "metadata": {
    "collapsed": true
   },
   "outputs": [
    {
     "ename": "NameError",
     "evalue": "name 'a' is not defined",
     "output_type": "error",
     "traceback": [
      "\u001b[1;31m---------------------------------------------------------------------------\u001b[0m",
      "\u001b[1;31mNameError\u001b[0m                                 Traceback (most recent call last)",
      "Input \u001b[1;32mIn [91]\u001b[0m, in \u001b[0;36m<cell line: 5>\u001b[1;34m()\u001b[0m\n\u001b[0;32m      3\u001b[0m c_dict \u001b[38;5;241m=\u001b[39m {\u001b[38;5;124m'\u001b[39m\u001b[38;5;124mq\u001b[39m\u001b[38;5;124m'\u001b[39m: \u001b[38;5;241m3\u001b[39m, \u001b[38;5;124m'\u001b[39m\u001b[38;5;124mt\u001b[39m\u001b[38;5;124m'\u001b[39m: \u001b[38;5;241m5\u001b[39m}\n\u001b[0;32m      4\u001b[0m \u001b[38;5;28;01mdel\u001b[39;00m a, b_tup, c_dict\n\u001b[1;32m----> 5\u001b[0m \u001b[43ma\u001b[49m\n",
      "\u001b[1;31mNameError\u001b[0m: name 'a' is not defined"
     ]
    }
   ],
   "source": [
    "a = [2, 3]\n",
    "b_tup = (1, 8)\n",
    "c_dict = {'q': 3, 't': 5}\n",
    "del a, b_tup, c_dict\n",
    "a"
   ]
  },
  {
   "cell_type": "code",
   "execution_count": 83,
   "id": "0f84acc4",
   "metadata": {},
   "outputs": [
    {
     "data": {
      "text/plain": [
       "[1, 2, 4, 5, 6, 7, 8, 9]"
      ]
     },
     "execution_count": 83,
     "metadata": {},
     "output_type": "execute_result"
    }
   ],
   "source": [
    "my_list = [1, 2, 3, 4, 5, 6, 7, 8, 9]\n",
    "\n",
    "# deleting the third item\n",
    "del my_list[2]\n",
    "my_list"
   ]
  },
  {
   "cell_type": "code",
   "execution_count": 84,
   "id": "ca5a7841",
   "metadata": {},
   "outputs": [
    {
     "data": {
      "text/plain": [
       "[1, 2, 6, 7, 8, 9]"
      ]
     },
     "execution_count": 84,
     "metadata": {},
     "output_type": "execute_result"
    }
   ],
   "source": [
    "my_list = [1, 2, 3, 4, 5, 6, 7, 8, 9]\n",
    "del my_list[2:5]\n",
    "my_list"
   ]
  },
  {
   "cell_type": "code",
   "execution_count": 85,
   "id": "741d9b27",
   "metadata": {},
   "outputs": [
    {
     "data": {
      "text/plain": [
       "[]"
      ]
     },
     "execution_count": 85,
     "metadata": {},
     "output_type": "execute_result"
    }
   ],
   "source": [
    "my_list = [1, 2, 3, 4, 5, 6, 7, 8, 9]\n",
    "del my_list[:] #deleting all the elements\n",
    "my_list"
   ]
  },
  {
   "cell_type": "code",
   "execution_count": 86,
   "id": "71b59ff6",
   "metadata": {
    "collapsed": true
   },
   "outputs": [
    {
     "ename": "NameError",
     "evalue": "name 'my_list' is not defined",
     "output_type": "error",
     "traceback": [
      "\u001b[1;31m---------------------------------------------------------------------------\u001b[0m",
      "\u001b[1;31mNameError\u001b[0m                                 Traceback (most recent call last)",
      "Input \u001b[1;32mIn [86]\u001b[0m, in \u001b[0;36m<cell line: 3>\u001b[1;34m()\u001b[0m\n\u001b[0;32m      1\u001b[0m my_list \u001b[38;5;241m=\u001b[39m [\u001b[38;5;241m1\u001b[39m, \u001b[38;5;241m2\u001b[39m, \u001b[38;5;241m3\u001b[39m, \u001b[38;5;241m4\u001b[39m, \u001b[38;5;241m5\u001b[39m, \u001b[38;5;241m6\u001b[39m, \u001b[38;5;241m7\u001b[39m, \u001b[38;5;241m8\u001b[39m, \u001b[38;5;241m9\u001b[39m]\n\u001b[0;32m      2\u001b[0m \u001b[38;5;28;01mdel\u001b[39;00m my_list \u001b[38;5;66;03m#deleting the list itself\u001b[39;00m\n\u001b[1;32m----> 3\u001b[0m \u001b[43mmy_list\u001b[49m\n",
      "\u001b[1;31mNameError\u001b[0m: name 'my_list' is not defined"
     ]
    }
   ],
   "source": [
    "my_list = [1, 2, 3, 4, 5, 6, 7, 8, 9]\n",
    "del my_list #deleting the list itself\n",
    "my_list"
   ]
  },
  {
   "cell_type": "code",
   "execution_count": 89,
   "id": "05f0c118",
   "metadata": {},
   "outputs": [
    {
     "data": {
      "text/plain": [
       "{'name': 'xxx', 'age': 111}"
      ]
     },
     "execution_count": 89,
     "metadata": {},
     "output_type": "execute_result"
    }
   ],
   "source": [
    "my_dict = {'name': 'xxx', 'age': 111, 'profession': 'stud'}\n",
    "del my_dict['profession']\n",
    "my_dict"
   ]
  },
  {
   "cell_type": "code",
   "execution_count": 80,
   "id": "d1882534",
   "metadata": {
    "collapsed": true
   },
   "outputs": [
    {
     "ename": "ValueError",
     "evalue": "cannot delete array elements",
     "output_type": "error",
     "traceback": [
      "\u001b[1;31m---------------------------------------------------------------------------\u001b[0m",
      "\u001b[1;31mValueError\u001b[0m                                Traceback (most recent call last)",
      "Input \u001b[1;32mIn [80]\u001b[0m, in \u001b[0;36m<cell line: 2>\u001b[1;34m()\u001b[0m\n\u001b[0;32m      1\u001b[0m a \u001b[38;5;241m=\u001b[39m np\u001b[38;5;241m.\u001b[39marange(\u001b[38;5;241m1\u001b[39m, \u001b[38;5;241m11\u001b[39m)\n\u001b[1;32m----> 2\u001b[0m \u001b[38;5;28;01mdel\u001b[39;00m a[\u001b[38;5;241m1\u001b[39m]\n\u001b[0;32m      3\u001b[0m a\n",
      "\u001b[1;31mValueError\u001b[0m: cannot delete array elements"
     ]
    }
   ],
   "source": [
    "a = np.arange(1, 11)\n",
    "del a[1]\n",
    "a #can't delete array elements"
   ]
  },
  {
   "cell_type": "code",
   "execution_count": 92,
   "id": "1f5e7445",
   "metadata": {
    "collapsed": true
   },
   "outputs": [
    {
     "ename": "SyntaxError",
     "evalue": "cannot delete function call (1553646817.py, line 2)",
     "output_type": "error",
     "traceback": [
      "\u001b[1;36m  Input \u001b[1;32mIn [92]\u001b[1;36m\u001b[0m\n\u001b[1;33m    del my_tuple(1)\u001b[0m\n\u001b[1;37m        ^\u001b[0m\n\u001b[1;31mSyntaxError\u001b[0m\u001b[1;31m:\u001b[0m cannot delete function call\n"
     ]
    }
   ],
   "source": [
    "my_tuple = (1, 2, 3)\n",
    "del my_tuple(1)"
   ]
  },
  {
   "cell_type": "code",
   "execution_count": 94,
   "id": "89e5bc3a",
   "metadata": {
    "collapsed": true
   },
   "outputs": [
    {
     "ename": "SyntaxError",
     "evalue": "cannot delete function call (4212575769.py, line 2)",
     "output_type": "error",
     "traceback": [
      "\u001b[1;36m  Input \u001b[1;32mIn [94]\u001b[1;36m\u001b[0m\n\u001b[1;33m    del my_str(3)\u001b[0m\n\u001b[1;37m        ^\u001b[0m\n\u001b[1;31mSyntaxError\u001b[0m\u001b[1;31m:\u001b[0m cannot delete function call\n"
     ]
    }
   ],
   "source": [
    "my_str = \"abcdefg\"\n",
    "del my_str(3)"
   ]
  },
  {
   "cell_type": "code",
   "execution_count": 103,
   "id": "0b4d1db0",
   "metadata": {
    "collapsed": true
   },
   "outputs": [
    {
     "name": "stdout",
     "output_type": "stream",
     "text": [
      "<__main__.my_class object at 0x00000261BB64ADC0>\n"
     ]
    },
    {
     "ename": "NameError",
     "evalue": "name 'clsobj' is not defined",
     "output_type": "error",
     "traceback": [
      "\u001b[1;31m---------------------------------------------------------------------------\u001b[0m",
      "\u001b[1;31mNameError\u001b[0m                                 Traceback (most recent call last)",
      "Input \u001b[1;32mIn [103]\u001b[0m, in \u001b[0;36m<cell line: 9>\u001b[1;34m()\u001b[0m\n\u001b[0;32m      7\u001b[0m \u001b[38;5;28mprint\u001b[39m(clsobj)\n\u001b[0;32m      8\u001b[0m \u001b[38;5;28;01mdel\u001b[39;00m clsobj\n\u001b[1;32m----> 9\u001b[0m \u001b[38;5;28mprint\u001b[39m(\u001b[43mclsobj\u001b[49m)\n",
      "\u001b[1;31mNameError\u001b[0m: name 'clsobj' is not defined"
     ]
    }
   ],
   "source": [
    "#deleting the user defined object\n",
    "class my_class:\n",
    "    a = 10\n",
    "    def func(self):\n",
    "        print(\"Hello\")\n",
    "clsobj = my_class()\n",
    "print(clsobj)\n",
    "del clsobj\n",
    "print(clsobj)"
   ]
  },
  {
   "cell_type": "markdown",
   "id": "c1aa5383",
   "metadata": {},
   "source": [
    "#### ---------------------------- List count -------------------------------\n",
    "    count() gives the count of the specified element in a list. If the element is not found, it return count as 0\n",
    "        Syntax: list.count(elem)"
   ]
  },
  {
   "cell_type": "code",
   "execution_count": 104,
   "id": "93ce029e",
   "metadata": {},
   "outputs": [
    {
     "data": {
      "text/plain": [
       "3"
      ]
     },
     "execution_count": 104,
     "metadata": {},
     "output_type": "execute_result"
    }
   ],
   "source": [
    "a = [1, 2, 3, 4, 5, 6, 2, 3, 4, 2, 3]\n",
    "a.count(2)"
   ]
  },
  {
   "cell_type": "code",
   "execution_count": 106,
   "id": "0259a950",
   "metadata": {},
   "outputs": [
    {
     "data": {
      "text/plain": [
       "0"
      ]
     },
     "execution_count": 106,
     "metadata": {},
     "output_type": "execute_result"
    }
   ],
   "source": [
    "a = [1, 2, 'b', 'c', 'b', 6, 2, 3, 4, 2, 3]\n",
    "a.count('a')"
   ]
  },
  {
   "cell_type": "code",
   "execution_count": 107,
   "id": "e30020a4",
   "metadata": {},
   "outputs": [
    {
     "data": {
      "text/plain": [
       "2"
      ]
     },
     "execution_count": 107,
     "metadata": {},
     "output_type": "execute_result"
    }
   ],
   "source": [
    "nested_list = ['a', ('a', 'b'), ('a', 'b'), [3, 4]]\n",
    "nested_list.count(('a', 'b'))"
   ]
  },
  {
   "cell_type": "code",
   "execution_count": 108,
   "id": "b2685d4c",
   "metadata": {},
   "outputs": [
    {
     "data": {
      "text/plain": [
       "1"
      ]
     },
     "execution_count": 108,
     "metadata": {},
     "output_type": "execute_result"
    }
   ],
   "source": [
    "nested_list.count('a')"
   ]
  },
  {
   "cell_type": "markdown",
   "id": "8e7a5ca4",
   "metadata": {},
   "source": [
    "#### --------------------------- List concatenation -------------------------------"
   ]
  },
  {
   "cell_type": "code",
   "execution_count": 299,
   "id": "83bd475f",
   "metadata": {},
   "outputs": [
    {
     "data": {
      "text/plain": [
       "[1, 2, 3, 4, 3, 4, 5, 6]"
      ]
     },
     "execution_count": 299,
     "metadata": {},
     "output_type": "execute_result"
    }
   ],
   "source": [
    "#using + operator\n",
    "a = [1, 2, 3, 4]\n",
    "b = [3, 4, 5, 6]\n",
    "concat = a + b\n",
    "concat"
   ]
  },
  {
   "cell_type": "code",
   "execution_count": 300,
   "id": "ad6a6e63",
   "metadata": {},
   "outputs": [
    {
     "data": {
      "text/plain": [
       "[1, 2, 3, 4, 3, 4, 5, 6]"
      ]
     },
     "execution_count": 300,
     "metadata": {},
     "output_type": "execute_result"
    }
   ],
   "source": [
    "#using unpacking operator\n",
    "a = [1, 2, 3, 4]\n",
    "b = [3, 4, 5, 6]\n",
    "concat = [*a, *b]\n",
    "concat"
   ]
  },
  {
   "cell_type": "code",
   "execution_count": 301,
   "id": "1e3e73c0",
   "metadata": {},
   "outputs": [
    {
     "data": {
      "text/plain": [
       "[1, 2, 3, 4, 3, 4, 5, 6]"
      ]
     },
     "execution_count": 301,
     "metadata": {},
     "output_type": "execute_result"
    }
   ],
   "source": [
    "# using itertools chain\n",
    "import itertools\n",
    "\n",
    "a = [1, 2, 3, 4]\n",
    "b = [3, 4, 5, 6]\n",
    "concat = list(itertools.chain(a, b))\n",
    "concat"
   ]
  },
  {
   "cell_type": "code",
   "execution_count": 305,
   "id": "e0327352",
   "metadata": {},
   "outputs": [
    {
     "name": "stdout",
     "output_type": "stream",
     "text": [
      "[3, 4, 5, 6]\n",
      "1\n",
      "2\n",
      "3\n",
      "4\n",
      "[3, 4, 5, 6]\n",
      "3\n",
      "4\n",
      "5\n",
      "6\n"
     ]
    },
    {
     "data": {
      "text/plain": [
       "[1, 2, 3, 4, 3, 4, 5, 6]"
      ]
     },
     "execution_count": 305,
     "metadata": {},
     "output_type": "execute_result"
    }
   ],
   "source": [
    "#using list comprehension\n",
    "a = [1, 2, 3, 4]\n",
    "b = [3, 4, 5, 6]\n",
    "\n",
    "for i in [a, b]:\n",
    "    print(x)\n",
    "    for j in i:\n",
    "        print(j)\n",
    "\n",
    "# using list comprehension to concat\n",
    "concat = [j for i in [a, b] for j in i]\n",
    "concat"
   ]
  },
  {
   "cell_type": "code",
   "execution_count": 309,
   "id": "6e242a3e",
   "metadata": {},
   "outputs": [
    {
     "data": {
      "text/plain": [
       "[1, 2, 3, 4, 3, 4, 5, 6]"
      ]
     },
     "execution_count": 309,
     "metadata": {},
     "output_type": "execute_result"
    }
   ],
   "source": [
    "#using extend\n",
    "a = [1, 2, 3, 4]\n",
    "b = [3, 4, 5, 6]\n",
    "a.extend(b)\n",
    "a"
   ]
  },
  {
   "cell_type": "code",
   "execution_count": 310,
   "id": "23ffc2ab",
   "metadata": {},
   "outputs": [
    {
     "data": {
      "text/plain": [
       "[1, 2, 3, 4, 3, 4, 5, 6]"
      ]
     },
     "execution_count": 310,
     "metadata": {},
     "output_type": "execute_result"
    }
   ],
   "source": [
    "#using += operator\n",
    "a = [1, 2, 3, 4]\n",
    "b = [3, 4, 5, 6]\n",
    "a+=b\n",
    "a"
   ]
  },
  {
   "cell_type": "code",
   "execution_count": 322,
   "id": "29e36e80",
   "metadata": {},
   "outputs": [
    {
     "name": "stdout",
     "output_type": "stream",
     "text": [
      "Usual concatenation: ['the ', 'we ', 'has ', 'be ', 'food ', 'eat ', 'to ', 'broken ']\n",
      "Element wise concatenation using zip: ['the food ', 'we eat ', 'has to ', 'be broken ']\n",
      "Element wise concatenation using itertools: ['the food ', 'we eat ', 'has to ', 'be broken ']\n"
     ]
    }
   ],
   "source": [
    "#concatenate lists element wise\n",
    "a = ['the ', 'we ', 'has ', 'be ']\n",
    "b = ['food ', 'eat ', 'to ', 'broken ']\n",
    "usualconcat = a+b\n",
    "print(f\"Usual concatenation: {usualconcat}\")\n",
    "\n",
    "#element wise concatenation using zip\n",
    "elementwiseconcat = [i + j for i, j in zip(a, b)]\n",
    "print(f\"Element wise concatenation using zip: {elementwiseconcat}\")\n",
    "\n",
    "#element wise concatenation using zip, lambda and map\n",
    "# list(map(lambda (i,j) : i + j, zip(a, b)))\n",
    "\n",
    "#using itertools\n",
    "elementwiseconcat = list(map(''.join, itertools.zip_longest(a, b)))\n",
    "print(f\"Element wise concatenation using itertools: {elementwiseconcat}\")"
   ]
  },
  {
   "cell_type": "code",
   "execution_count": 338,
   "id": "432229a1",
   "metadata": {},
   "outputs": [
    {
     "name": "stdout",
     "output_type": "stream",
     "text": [
      "Row wise concatenation using zip: [[4, 3, 5, 1, 3], [1, 2, 3, 9, 3, 5, 7], [3, 7, 4, 8]]\n",
      "Row wise concatenation using extend: [[4, 3, 5, 1, 3], [1, 2, 3, 9, 3, 5, 7], [3, 7, 4, 8]]\n",
      "Row wise concatenation using numpy: [[1 2 5]\n",
      " [3 4 6]]\n"
     ]
    }
   ],
   "source": [
    "#row wise concatenation (of 2d matrix)\n",
    "test_list1 = [[4, 3, 5, ], [1, 2, 3], [3, 7, 4]]\n",
    "test_list2 = [[1, 3], [9, 3, 5, 7], [8]]\n",
    "\n",
    "#using zip\n",
    "rowwiseconcat = [i+j for i, j in zip(test_list1, test_list2)]\n",
    "print(f\"Row wise concatenation using zip: {rowwiseconcat}\")\n",
    "\n",
    "#using extend\n",
    "for i in range(0, len(test_list1)):\n",
    "    test_list1[i].extend(test_list2[i])\n",
    "print(f\"Row wise concatenation using extend: {test_list1}\")\n",
    "\n",
    "#Using numpy\n",
    "a = np.array([[1, 2], [3, 4]])\n",
    "b = np.array([[5, 6]])\n",
    "rowwiseconcat = np.concatenate((a, b.T), axis=1)\n",
    "print(f\"Row wise concatenation using numpy: {rowwiseconcat}\")"
   ]
  },
  {
   "cell_type": "markdown",
   "id": "e4e3e336",
   "metadata": {},
   "source": [
    "#### ------------------------------ List reverse  and reversed---------------------------------\n",
    "    The reverse() method reverses the elements of the list. reversed() is used when accessing the elements of a list in reverse order without explicilty reversing the list\n",
    "    Syntax: list.reverse()"
   ]
  },
  {
   "cell_type": "code",
   "execution_count": 109,
   "id": "5513c4c8",
   "metadata": {},
   "outputs": [
    {
     "data": {
      "text/plain": [
       "[3, 2, 4, 3, 2, 6, 5, 4, 3, 2, 1]"
      ]
     },
     "execution_count": 109,
     "metadata": {},
     "output_type": "execute_result"
    }
   ],
   "source": [
    "a = [1, 2, 3, 4, 5, 6, 2, 3, 4, 2, 3]\n",
    "a.reverse()\n",
    "a"
   ]
  },
  {
   "cell_type": "code",
   "execution_count": 111,
   "id": "7a9ee182",
   "metadata": {},
   "outputs": [
    {
     "data": {
      "text/plain": [
       "[[3, 4], ('a', 'b'), ('a', 'b'), 'a']"
      ]
     },
     "execution_count": 111,
     "metadata": {},
     "output_type": "execute_result"
    }
   ],
   "source": [
    "nested_list = ['a', ('a', 'b'), ('a', 'b'), [3, 4]]\n",
    "nested_list.reverse()\n",
    "nested_list"
   ]
  },
  {
   "cell_type": "code",
   "execution_count": 113,
   "id": "47e114f3",
   "metadata": {},
   "outputs": [
    {
     "name": "stdout",
     "output_type": "stream",
     "text": [
      "6\n",
      "5\n",
      "4\n",
      "3\n",
      "2\n",
      "1\n"
     ]
    }
   ],
   "source": [
    "#accesing the list in reverse order using reversed\n",
    "a = [1, 2, 3, 4, 5, 6]\n",
    "for i in reversed(a):\n",
    "    print(i)"
   ]
  },
  {
   "cell_type": "code",
   "execution_count": 114,
   "id": "6b2e727a",
   "metadata": {},
   "outputs": [
    {
     "data": {
      "text/plain": [
       "[6, 5, 4, 3, 2, 1]"
      ]
     },
     "execution_count": 114,
     "metadata": {},
     "output_type": "execute_result"
    }
   ],
   "source": [
    "#reverse using slice operator\n",
    "a = [1, 2, 3, 4, 5, 6]\n",
    "reverselist = a[::-1]\n",
    "reverselist"
   ]
  },
  {
   "cell_type": "markdown",
   "id": "8ec79fa4",
   "metadata": {},
   "source": [
    "#### --------------------------------- List sort() and sorted() -------------------------------\n",
    "    sort() and sorted() - both are used to sort the given list in either ascending or descending order. The difference between sort() and sorted() is: sort() changes the list directly and doesn't return any value, while sorted() doesn't change the list and returns the sorted list.\n",
    "        sort() Syntax: list.sort(key=..., reverse=True/False) \n",
    "        sorted() Syntax: sorted(list, key=..., reverse=...)\n",
    "        \n",
    "        params are optional.reverse=True make it sorted in descending order, key = function that serves as a key for the sort comparison.the function can be any including lambda function or comparison function"
   ]
  },
  {
   "cell_type": "code",
   "execution_count": 116,
   "id": "2311da0b",
   "metadata": {},
   "outputs": [
    {
     "data": {
      "text/plain": [
       "['a', 'e', 'i', 'o', 'u']"
      ]
     },
     "execution_count": 116,
     "metadata": {},
     "output_type": "execute_result"
    }
   ],
   "source": [
    "vowels = ['e', 'a', 'u', 'o', 'i']\n",
    "vowels.sort()\n",
    "vowels"
   ]
  },
  {
   "cell_type": "code",
   "execution_count": 117,
   "id": "db1a1657",
   "metadata": {},
   "outputs": [
    {
     "data": {
      "text/plain": [
       "['a', 'e', 'i', 'o', 'u']"
      ]
     },
     "execution_count": 117,
     "metadata": {},
     "output_type": "execute_result"
    }
   ],
   "source": [
    "vowels = ['e', 'a', 'u', 'o', 'i']\n",
    "sortedvowels = sorted(vowels)\n",
    "sortedvowels"
   ]
  },
  {
   "cell_type": "code",
   "execution_count": 118,
   "id": "74e5e673",
   "metadata": {},
   "outputs": [
    {
     "data": {
      "text/plain": [
       "['u', 'o', 'i', 'e', 'a']"
      ]
     },
     "execution_count": 118,
     "metadata": {},
     "output_type": "execute_result"
    }
   ],
   "source": [
    "vowels = ['e', 'a', 'u', 'o', 'i']\n",
    "sortedvowels = sorted(vowels, reverse=True)\n",
    "sortedvowels"
   ]
  },
  {
   "cell_type": "code",
   "execution_count": 123,
   "id": "4df0c39e",
   "metadata": {},
   "outputs": [
    {
     "data": {
      "text/plain": [
       "['4', 'we', 'the', 'food']"
      ]
     },
     "execution_count": 123,
     "metadata": {},
     "output_type": "execute_result"
    }
   ],
   "source": [
    "my_list = ['the', 'food', 'we', '4']\n",
    "sorted_with_len = sorted(my_list, key=len) #sorted as per length of the elements in the list\n",
    "sorted_with_len"
   ]
  },
  {
   "cell_type": "code",
   "execution_count": 126,
   "id": "81c8074f",
   "metadata": {},
   "outputs": [
    {
     "data": {
      "text/plain": [
       "[(0, -1), (6, 5), (7, 3)]"
      ]
     },
     "execution_count": 126,
     "metadata": {},
     "output_type": "execute_result"
    }
   ],
   "source": [
    "my_list_tuples = [(6, 5), (0, -1), (7, 3)]\n",
    "sorted_tuples = sorted(my_list_tuples) #tuples are sorted based on the first element in each tuple by default\n",
    "sorted_tuples"
   ]
  },
  {
   "cell_type": "code",
   "execution_count": 128,
   "id": "e0e91423",
   "metadata": {},
   "outputs": [
    {
     "data": {
      "text/plain": [
       "[(0, -1), (7, 3), (6, 5)]"
      ]
     },
     "execution_count": 128,
     "metadata": {},
     "output_type": "execute_result"
    }
   ],
   "source": [
    "my_list_tuples = [(6, 5), (0, -1), (7, 3)]\n",
    "sorted_tuples = sorted(my_list_tuples, key=lambda a: a[-1]) #here tuples are sorted based on the second element using key func\n",
    "sorted_tuples"
   ]
  },
  {
   "cell_type": "code",
   "execution_count": 130,
   "id": "4925560a",
   "metadata": {},
   "outputs": [
    {
     "data": {
      "text/plain": [
       "[(0, -1), (7, 3), (6, 5)]"
      ]
     },
     "execution_count": 130,
     "metadata": {},
     "output_type": "execute_result"
    }
   ],
   "source": [
    "def takeSecond(elem):\n",
    "    return elem[-1]\n",
    "\n",
    "my_list_tuples = [(6, 5), (0, -1), (7, 3)]\n",
    "my_list_tuples.sort(key=takeSecond)\n",
    "my_list_tuples"
   ]
  },
  {
   "cell_type": "code",
   "execution_count": 137,
   "id": "ee176481",
   "metadata": {},
   "outputs": [
    {
     "data": {
      "text/plain": [
       "[{'Name': 'John Hopkins', 'age': 18, 'salary': 1000},\n",
       " {'Name': 'Alan Turing', 'age': 25, 'salary': 10000},\n",
       " {'Name': 'Sharon Lin', 'age': 30, 'salary': 8000},\n",
       " {'Name': 'Mikhail Tal', 'age': 40, 'salary': 15000}]"
      ]
     },
     "execution_count": 137,
     "metadata": {},
     "output_type": "execute_result"
    }
   ],
   "source": [
    "# sorting using custom key of the employees list where each element is a dictionary\n",
    "employees = [\n",
    "    {'Name': 'Alan Turing', 'age': 25, 'salary': 10000},\n",
    "    {'Name': 'Sharon Lin', 'age': 30, 'salary': 8000},\n",
    "    {'Name': 'John Hopkins', 'age': 18, 'salary': 1000},\n",
    "    {'Name': 'Mikhail Tal', 'age': 40, 'salary': 15000},\n",
    "]\n",
    "#sorted_by_age = sorted(employees, key=lambda a: a['age']) #ok to use\n",
    "sorted_by_age = sorted(employees, key=lambda a: a.get('age')) #good practice as we can give alternative default value in get() when key in get() doesnt exist\n",
    "sorted_by_age"
   ]
  },
  {
   "cell_type": "code",
   "execution_count": 138,
   "id": "17a5c66f",
   "metadata": {},
   "outputs": [
    {
     "name": "stdout",
     "output_type": "stream",
     "text": [
      "[{'Name': 'Alan Turing', 'age': 25, 'salary': 10000}, {'Name': 'John Hopkins', 'age': 18, 'salary': 1000}, {'Name': 'Mikhail Tal', 'age': 40, 'salary': 15000}, {'Name': 'Sharon Lin', 'age': 30, 'salary': 8000}]\n",
      "\n",
      "[{'Name': 'John Hopkins', 'age': 18, 'salary': 1000}, {'Name': 'Alan Turing', 'age': 25, 'salary': 10000}, {'Name': 'Sharon Lin', 'age': 30, 'salary': 8000}, {'Name': 'Mikhail Tal', 'age': 40, 'salary': 15000}]\n",
      "\n",
      "[{'Name': 'Mikhail Tal', 'age': 40, 'salary': 15000}, {'Name': 'Sharon Lin', 'age': 30, 'salary': 8000}, {'Name': 'Alan Turing', 'age': 25, 'salary': 10000}, {'Name': 'John Hopkins', 'age': 18, 'salary': 1000}]\n",
      "\n"
     ]
    }
   ],
   "source": [
    "#sorting using sort() by name\n",
    "employees = [\n",
    "    {'Name': 'Alan Turing', 'age': 25, 'salary': 10000},\n",
    "    {'Name': 'Sharon Lin', 'age': 30, 'salary': 8000},\n",
    "    {'Name': 'John Hopkins', 'age': 18, 'salary': 1000},\n",
    "    {'Name': 'Mikhail Tal', 'age': 40, 'salary': 15000},\n",
    "]\n",
    "\n",
    "def get_name(employees):\n",
    "    return employees.get('Name')\n",
    "\n",
    "def get_age(employees):\n",
    "    return employees.get('age')\n",
    "\n",
    "def get_salary(employee):\n",
    "    return employee.get('salary')\n",
    "\n",
    "employees.sort(key=get_name)\n",
    "print(employees, end='\\n\\n')\n",
    "\n",
    "employees.sort(key=get_age)\n",
    "print(employees, end='\\n\\n')\n",
    "\n",
    "employees.sort(key=get_age, reverse=True)\n",
    "print(employees, end='\\n\\n')\n",
    "\n",
    "employees.sort(key=lambda x: x.get('age'), reverse=True) #best practice to use lambda whenever possible"
   ]
  },
  {
   "cell_type": "code",
   "execution_count": 141,
   "id": "8e09a96e",
   "metadata": {},
   "outputs": [
    {
     "data": {
      "text/plain": [
       "[('Jimmy', 90, 22),\n",
       " ('Terence', 75, 12),\n",
       " ('David', 75, 20),\n",
       " ('Alison', 50, 18),\n",
       " ('John', 45, 12)]"
      ]
     },
     "execution_count": 141,
     "metadata": {},
     "output_type": "execute_result"
    }
   ],
   "source": [
    "#sorting with multiple keys\n",
    "#Scenario: We want to sort the list in such a way that the student with the highest marks is in the beginning. \n",
    "#In case the students have equal marks, they must be sorted so that the younger participant comes first.\n",
    "#To do this, we should know how the comparison is being done for tuples\n",
    "#For tuples, the first element is compared first from both the tuples in comparison, if the comparison holds then the result is returned.\n",
    "#If the first element is same in both the tuples, then the second element in the tuples are compared to return the result\n",
    "#(1,3) > (1, 4) returns False (Second element is compared)\n",
    "# (1, 4) < (2,2) returns True (Second element is compared)\n",
    "#(1, 4, 1) < (2, 1) returns True\n",
    "#we gonna use this same logic for our multiple comparison scenario\n",
    "\n",
    "# List elements: (Student's Name, Marks out of 100, Age)\n",
    "students_list = [\n",
    "    ('Alison', 50, 18),\n",
    "    ('Terence', 75, 12),\n",
    "    ('David', 75, 20),\n",
    "    ('Jimmy', 90, 22),\n",
    "    ('John', 45, 12)\n",
    "]\n",
    "\n",
    "def sorter(list):\n",
    "    error = 100 - list[1] #diving the score of each student from the total max score which is 100.students with less value are considered as toppers\n",
    "    #score = list[1] #we can do this as well, but the sorting will be done in ascending order by default,so lower comes first and higher at end.Hence we are using 100-score to get the scores as we required(highest first)\n",
    "    age = list[2]\n",
    "    return (error, age) #returning as tuple\n",
    "\n",
    "students_list.sort(key=sorter)\n",
    "students_list"
   ]
  },
  {
   "cell_type": "code",
   "execution_count": 143,
   "id": "15baef32",
   "metadata": {},
   "outputs": [
    {
     "data": {
      "text/plain": [
       "[('Jimmy', 90, 22),\n",
       " ('Terence', 75, 12),\n",
       " ('David', 75, 20),\n",
       " ('Alison', 50, 18),\n",
       " ('John', 45, 12)]"
      ]
     },
     "execution_count": 143,
     "metadata": {},
     "output_type": "execute_result"
    }
   ],
   "source": [
    "#sorting with multiple keys using lambda\n",
    "students_list = [\n",
    "    ('Alison', 50, 18),\n",
    "    ('Terence', 75, 12),\n",
    "    ('David', 75, 20),\n",
    "    ('Jimmy', 90, 22),\n",
    "    ('John', 45, 12)\n",
    "]\n",
    "students_list.sort(key=lambda i: (100-i[1], i[2]))\n",
    "students_list\n",
    "#sorted(students_list, key=lambda i: (100-i[1], i[2]))"
   ]
  },
  {
   "cell_type": "markdown",
   "id": "976be149",
   "metadata": {},
   "source": [
    "#### ----------------------------------------- List copy() -------------------------------\n",
    "    copy() makes 2 types of copies \n",
    "        -shallow copy.\n",
    "        -deep copy\n",
    "    \n",
    "    Shallow copy: A shallow copy creates a \"new and independent object\" with same content. This same content was not actually the exact copy of the elements but the \"references of the original list 'elements'\". So, a shallow copy 'doesn't create a copy of objects/elements', instead it just copies the reference of objects/elements. This essentially means, that when the original list 'elements' which were referenced into the copied list are modified, then the change also appears in the copied list, as this is bcz the shallow copy just copied the references(address id) instead of actually copying the objects newly and independently. But, when we add new elements to the old list, it wont get refelected in the copied list as the copied list is independent and new object.\n",
    "    \n",
    "    Deep copy: A deep copy creates a \"new object and recursively adds the copies of elements present in the original list. Meaning, the deep copy creates independent copy of original object and all its nested objects. If you make changes to any nested objects in original list, you’ll see no changes to the copied new list.\n",
    "    \n",
    "    Syntax: list.copy()\n",
    "    \n",
    "    \n",
    "    Note: We can also copy using \"=\" operator.  You may think that this creates a new object; it doesn't. It only creates a new variable that shares the reference of the original object. Meaning the new list is referencing or pointing to the same old_list object. Hence modifying the copied list modifies the original list as well and vice versa."
   ]
  },
  {
   "cell_type": "code",
   "execution_count": 147,
   "id": "608c34ea",
   "metadata": {},
   "outputs": [
    {
     "name": "stdout",
     "output_type": "stream",
     "text": [
      "Original list: [[1, 2], [3, 4]]\n",
      "Original list reference id: 2618784899968\n",
      "Shallow copied list: [[1, 2], [3, 4]]\n",
      "Shallow copied list reference id: 2618784617984\n"
     ]
    }
   ],
   "source": [
    "#SHALLOW COPY\n",
    "my_list = [[1, 2], [3, 4]]\n",
    "shallow_copy = my_list.copy()\n",
    "print(f\"Original list: {my_list}\")\n",
    "print(f\"Original list reference id: {id(my_list)}\")\n",
    "\n",
    "print(f\"Shallow copied list: {shallow_copy}\")\n",
    "print(f\"Shallow copied list reference id: {id(shallow_copy)}\")"
   ]
  },
  {
   "cell_type": "code",
   "execution_count": 154,
   "id": "0728da0e",
   "metadata": {},
   "outputs": [
    {
     "name": "stdout",
     "output_type": "stream",
     "text": [
      "Original list: [[1, 2], [3, 4]]\n",
      "Shallow copied list: [[1, 2], [3, 4]]\n",
      "After appending, Original list: [[1, 2], [3, 4], [5, 6]]\n",
      "After appending, Shallow copied list: [[1, 2], [3, 4]]\n"
     ]
    }
   ],
   "source": [
    "#adding new element to original list my_list \n",
    "my_list = [[1, 2], [3, 4]]\n",
    "shallow_copy = my_list.copy()\n",
    "print(f\"Original list: {my_list}\")\n",
    "print(f\"Shallow copied list: {shallow_copy}\")\n",
    "\n",
    "my_list.append([5, 6])\n",
    "print(f\"After appending, Original list: {my_list}\")\n",
    "print(f\"After appending, Shallow copied list: {shallow_copy}\")\n",
    "#adding new element to original will not effect the shallow copied list"
   ]
  },
  {
   "cell_type": "code",
   "execution_count": 155,
   "id": "21472d03",
   "metadata": {},
   "outputs": [
    {
     "name": "stdout",
     "output_type": "stream",
     "text": [
      "Original list: [[1, 2], [3, 4]]\n",
      "Original list elements reference: (2618784036224, 2618784404800)\n",
      "Shallow copied list: [[1, 2], [3, 4]]\n",
      "Shallow copied list elements reference: (2618784036224, 2618784404800)\n",
      "After modification, Original list: [[1, 2], [3, 'A']]\n",
      "After modification, Shallow copied list: [[1, 2], [3, 'A']]\n"
     ]
    }
   ],
   "source": [
    "#modifying the existing and shallow copied elements of original list my_list\n",
    "my_list = [[1, 2], [3, 4]]\n",
    "shallow_copy = my_list.copy()\n",
    "print(f\"Original list: {my_list}\")\n",
    "print(f\"Original list elements reference: {id(my_list[0]), id(my_list[1])}\")\n",
    "print(f\"Shallow copied list: {shallow_copy}\")\n",
    "print(f\"Shallow copied list elements reference: {id(shallow_copy[0]), id(shallow_copy[1])}\")\n",
    "\n",
    "my_list[1][1] = \"A\" #modifying the original list which was copied into shallow list\n",
    "print(f\"After modification, Original list: {my_list}\")\n",
    "print(f\"After modification, Shallow copied list: {shallow_copy}\")"
   ]
  },
  {
   "cell_type": "code",
   "execution_count": 156,
   "id": "ca22cf60",
   "metadata": {},
   "outputs": [
    {
     "name": "stdout",
     "output_type": "stream",
     "text": [
      "Original list: [[1, 2], [3, 4]]\n",
      "Original list elements reference: (2618783693056, 2618784407104)\n",
      "Shallow copied list: [[1, 2], [3, 4]]\n",
      "Shallow copied list elements reference: (2618783693056, 2618784407104)\n",
      "After modification, Original list: [[1, 2], [3, 'B']]\n",
      "After modification, Shallow copied list: [[1, 2], [3, 'B']]\n"
     ]
    }
   ],
   "source": [
    "#modifying the existing and shallow copied elements of copied list also works the same\n",
    "my_list = [[1, 2], [3, 4]]\n",
    "shallow_copy = my_list.copy()\n",
    "print(f\"Original list: {my_list}\")\n",
    "print(f\"Original list elements reference: {id(my_list[0]), id(my_list[1])}\")\n",
    "print(f\"Shallow copied list: {shallow_copy}\")\n",
    "print(f\"Shallow copied list elements reference: {id(shallow_copy[0]), id(shallow_copy[1])}\")\n",
    "\n",
    "shallow_copy[1][1] = \"B\" #modifying the copied list effects the original list which has same reference (i.e copied elements)\n",
    "print(f\"After modification, Original list: {my_list}\")\n",
    "print(f\"After modification, Shallow copied list: {shallow_copy}\")"
   ]
  },
  {
   "cell_type": "code",
   "execution_count": 161,
   "id": "df30f029",
   "metadata": {},
   "outputs": [
    {
     "name": "stdout",
     "output_type": "stream",
     "text": [
      "Original list: [[1, 2], [3, 4]]\n",
      "Original list elements reference: (2618782196224, 2618782428672)\n",
      "Deep copied list: [[1, 2], [3, 4]]\n",
      "Deep copied list elements reference: (2618778668096, 2618783204864)\n"
     ]
    }
   ],
   "source": [
    "#DEEP COPY - uses when we dont want any dependencies between the original and copied lists\n",
    "import copy\n",
    "my_list = [[1, 2], [3, 4]]\n",
    "deep_copy = copy.deepcopy(my_list)\n",
    "print(f\"Original list: {my_list}\")\n",
    "print(f\"Original list elements reference: {id(my_list[0]), id(my_list[1])}\")\n",
    "print(f\"Deep copied list: {deep_copy}\")\n",
    "print(f\"Deep copied list elements reference: {id(deep_copy[0]), id(deep_copy[1])}\")"
   ]
  },
  {
   "cell_type": "code",
   "execution_count": 162,
   "id": "b4ab2c07",
   "metadata": {},
   "outputs": [
    {
     "name": "stdout",
     "output_type": "stream",
     "text": [
      "Original list: [[1, 2], [3, 4]]\n",
      "Deep copied list: [[1, 2], [3, 4]]\n",
      "After modification, Original list: [[1, 2], ['A', 4]]\n",
      "After modification, Deep copied list: [[1, 2], [3, 4]]\n"
     ]
    }
   ],
   "source": [
    "import copy\n",
    "my_list = [[1, 2], [3, 4]]\n",
    "deep_copy = copy.deepcopy(my_list)\n",
    "print(f\"Original list: {my_list}\")\n",
    "print(f\"Deep copied list: {deep_copy}\")\n",
    "\n",
    "my_list[1][0] = \"A\"\n",
    "print(f\"After modification, Original list: {my_list}\")\n",
    "print(f\"After modification, Deep copied list: {deep_copy}\")"
   ]
  },
  {
   "cell_type": "code",
   "execution_count": 163,
   "id": "b4f5681e",
   "metadata": {},
   "outputs": [
    {
     "name": "stdout",
     "output_type": "stream",
     "text": [
      "Original list: [[1, 2], [3, 4]]\n",
      "Deep copied list: [[1, 2], [3, 4]]\n",
      "After appending, Original list: [[1, 2], [3, 4], ['A', 'B']]\n",
      "After appending, Deep copied list: [[1, 2], [3, 4]]\n"
     ]
    }
   ],
   "source": [
    "import copy\n",
    "my_list = [[1, 2], [3, 4]]\n",
    "deep_copy = copy.deepcopy(my_list)\n",
    "print(f\"Original list: {my_list}\")\n",
    "print(f\"Deep copied list: {deep_copy}\")\n",
    "\n",
    "my_list.append(['A', 'B'])\n",
    "print(f\"After appending, Original list: {my_list}\")\n",
    "print(f\"After appending, Deep copied list: {deep_copy}\")"
   ]
  },
  {
   "cell_type": "code",
   "execution_count": 149,
   "id": "2193ed73",
   "metadata": {},
   "outputs": [
    {
     "name": "stdout",
     "output_type": "stream",
     "text": [
      "Original list: [[1, 2], [3, 4]]\n",
      "Original list reference id: 2618784649088\n",
      "Shallow copied list: [[1, 2], [3, 4]]\n",
      "Shallow copied list reference id: 2618784649088\n"
     ]
    }
   ],
   "source": [
    "#COPY using \"=\"\n",
    "my_list = [[1, 2], [3, 4]]\n",
    "equalto_copy = my_list\n",
    "print(f\"Original list: {my_list}\")\n",
    "print(f\"Original list reference id: {id(my_list)}\")\n",
    "\n",
    "print(f\"Shallow copied list: {equalto_copy}\")\n",
    "print(f\"Shallow copied list reference id: {id(equalto_copy)}\")\n",
    "#both referring to same location"
   ]
  },
  {
   "cell_type": "code",
   "execution_count": 164,
   "id": "887bbc8d",
   "metadata": {},
   "outputs": [
    {
     "name": "stdout",
     "output_type": "stream",
     "text": [
      "Original list: [[1, 2], [3, 4]]\n",
      "Shallow copied list: [[1, 2], [3, 4]]\n",
      "After appending, Original list: [[1, 2], [3, 4], [5, 6]]\n",
      "After appending, Shallow copied list: [[1, 2], [3, 4], [5, 6]]\n"
     ]
    }
   ],
   "source": [
    "#COPY using \"=\" and modifying original list\n",
    "my_list = [[1, 2], [3, 4]]\n",
    "equalto_copy = my_list\n",
    "print(f\"Original list: {my_list}\")\n",
    "print(f\"Shallow copied list: {equalto_copy}\")\n",
    "\n",
    "my_list.append([5, 6])\n",
    "print(f\"After appending, Original list: {my_list}\")\n",
    "print(f\"After appending, Shallow copied list: {equalto_copy}\")"
   ]
  },
  {
   "cell_type": "code",
   "execution_count": 427,
   "id": "e63ab3d4",
   "metadata": {},
   "outputs": [
    {
     "name": "stdout",
     "output_type": "stream",
     "text": [
      "Original list: [[1, 2], [3, 4]]\n",
      "Shallow copied list: [[1, 2], [3, 4]]\n",
      "After modification, Original list: [[7, 2], [5, 6]]\n",
      "After modification, Shallow copied list: [[7, 2], [5, 6]]\n"
     ]
    }
   ],
   "source": [
    "#COPY using \"=\" and modifying original list elements\n",
    "my_list = [[1, 2], [3, 4]]\n",
    "equalto_copy = my_list\n",
    "print(f\"Original list: {my_list}\")\n",
    "print(f\"Shallow copied list: {equalto_copy}\")\n",
    "\n",
    "my_list[1] = [5, 6]\n",
    "equalto_copy[0][0] = 7\n",
    "print(f\"After modification, Original list: {my_list}\")\n",
    "print(f\"After modification, Shallow copied list: {equalto_copy}\")"
   ]
  },
  {
   "cell_type": "code",
   "execution_count": 167,
   "id": "87eb8793",
   "metadata": {},
   "outputs": [
    {
     "name": "stdout",
     "output_type": "stream",
     "text": [
      "Original list: [[1, 2], [3, 4]]\n",
      "copied list: [[1, 2], [3, 4]]\n"
     ]
    }
   ],
   "source": [
    "#Copy using list slicing\n",
    "original_list = [[1, 2], [3, 4]]\n",
    "new_list = original_list[:]\n",
    "print(f\"Original list: {original_list}\")\n",
    "print(f\"copied list: {new_list}\")"
   ]
  },
  {
   "cell_type": "code",
   "execution_count": 169,
   "id": "72241399",
   "metadata": {},
   "outputs": [
    {
     "name": "stdout",
     "output_type": "stream",
     "text": [
      "Original list: [[1, 2], [3, 4]]\n",
      "copied list: [[1, 2], [3, 4]]\n",
      "After modification, Original list: [[1, 2], [5, 6]]\n",
      "After modification, copied list: [[1, 2], [3, 4]]\n"
     ]
    }
   ],
   "source": [
    "original_list = [[1, 2], [3, 4]]\n",
    "new_list = original_list[:]\n",
    "print(f\"Original list: {original_list}\")\n",
    "print(f\"copied list: {new_list}\")\n",
    "\n",
    "original_list[1] = [5, 6]\n",
    "print(f\"After modification, Original list: {original_list}\")\n",
    "print(f\"After modification, copied list: {new_list}\") #deep copies"
   ]
  },
  {
   "cell_type": "markdown",
   "id": "96018428",
   "metadata": {},
   "source": [
    "#### ------------------------------------- List clear --------------------------------\n",
    "    clear() empties all the elements in a list. we cal also use del list[:] to make the list empty"
   ]
  },
  {
   "cell_type": "code",
   "execution_count": 170,
   "id": "fc40c084",
   "metadata": {},
   "outputs": [
    {
     "name": "stdout",
     "output_type": "stream",
     "text": [
      "[]\n"
     ]
    }
   ],
   "source": [
    "mylist = [1, 2, 3, 4]\n",
    "mylist.clear()\n",
    "print(mylist)"
   ]
  },
  {
   "cell_type": "code",
   "execution_count": 172,
   "id": "cb454315",
   "metadata": {},
   "outputs": [
    {
     "data": {
      "text/plain": [
       "[]"
      ]
     },
     "execution_count": 172,
     "metadata": {},
     "output_type": "execute_result"
    }
   ],
   "source": [
    "mylist = [{1, 2}, ('a'), ['1.1', '2.2']]\n",
    "mylist.clear()\n",
    "mylist"
   ]
  },
  {
   "cell_type": "markdown",
   "id": "a24cac94",
   "metadata": {},
   "source": [
    "#### ---------------------------------------- List index ------------------------------------\n",
    "    The index() method returns the index of the specified element in the list. we can also specify start and stop index inorder to search for the element in the specified index range. If the element is not found, a ValueError exception is raised.\n",
    "    Note: The index() method only returns the first occurrence of the matching element.\n",
    "    \n",
    "    syntax:  list.index(element, start index, stop index)"
   ]
  },
  {
   "cell_type": "code",
   "execution_count": 173,
   "id": "f2660df2",
   "metadata": {},
   "outputs": [
    {
     "data": {
      "text/plain": [
       "3"
      ]
     },
     "execution_count": 173,
     "metadata": {},
     "output_type": "execute_result"
    }
   ],
   "source": [
    "mylist = [1, 2, 3, 4]\n",
    "mylist.index(4)"
   ]
  },
  {
   "cell_type": "code",
   "execution_count": 175,
   "id": "a112fe84",
   "metadata": {},
   "outputs": [
    {
     "data": {
      "text/plain": [
       "3"
      ]
     },
     "execution_count": 175,
     "metadata": {},
     "output_type": "execute_result"
    }
   ],
   "source": [
    "mylist = [1, 2, 3, 4, 7, 4, 8]\n",
    "mylist.index(4, 2, 6)"
   ]
  },
  {
   "cell_type": "code",
   "execution_count": 176,
   "id": "59b8497c",
   "metadata": {
    "collapsed": true
   },
   "outputs": [
    {
     "name": "stdout",
     "output_type": "stream",
     "text": [
      "The index of e: 1\n",
      "The index of i: 6\n"
     ]
    },
    {
     "ename": "ValueError",
     "evalue": "'i' is not in list",
     "output_type": "error",
     "traceback": [
      "\u001b[1;31m---------------------------------------------------------------------------\u001b[0m",
      "\u001b[1;31mValueError\u001b[0m                                Traceback (most recent call last)",
      "Input \u001b[1;32mIn [176]\u001b[0m, in \u001b[0;36m<cell line: 13>\u001b[1;34m()\u001b[0m\n\u001b[0;32m     10\u001b[0m \u001b[38;5;28mprint\u001b[39m(\u001b[38;5;124m'\u001b[39m\u001b[38;5;124mThe index of i:\u001b[39m\u001b[38;5;124m'\u001b[39m, index)\n\u001b[0;32m     12\u001b[0m \u001b[38;5;66;03m# 'i' between 3rd and 5th index is searched\u001b[39;00m\n\u001b[1;32m---> 13\u001b[0m index \u001b[38;5;241m=\u001b[39m \u001b[43malphabets\u001b[49m\u001b[38;5;241;43m.\u001b[39;49m\u001b[43mindex\u001b[49m\u001b[43m(\u001b[49m\u001b[38;5;124;43m'\u001b[39;49m\u001b[38;5;124;43mi\u001b[39;49m\u001b[38;5;124;43m'\u001b[39;49m\u001b[43m,\u001b[49m\u001b[43m \u001b[49m\u001b[38;5;241;43m3\u001b[39;49m\u001b[43m,\u001b[49m\u001b[43m \u001b[49m\u001b[38;5;241;43m5\u001b[39;49m\u001b[43m)\u001b[49m\n\u001b[0;32m     14\u001b[0m \u001b[38;5;28mprint\u001b[39m(\u001b[38;5;124m'\u001b[39m\u001b[38;5;124mThe index of i:\u001b[39m\u001b[38;5;124m'\u001b[39m, index)\n",
      "\u001b[1;31mValueError\u001b[0m: 'i' is not in list"
     ]
    }
   ],
   "source": [
    "# alphabets list\n",
    "alphabets = ['a', 'e', 'i', 'o', 'g', 'l', 'i', 'u']\n",
    "\n",
    "# index of 'i' in alphabets\n",
    "index = alphabets.index('e')\n",
    "print('The index of e:', index)\n",
    "\n",
    "# 'i' after the 4th index is searched\n",
    "index = alphabets.index('i', 4)\n",
    "print('The index of i:', index)\n",
    "\n",
    "# 'i' between 3rd and 5th index is searched\n",
    "index = alphabets.index('i', 3, 5)\n",
    "print('The index of i:', index)"
   ]
  },
  {
   "cell_type": "markdown",
   "id": "9f096cf3",
   "metadata": {},
   "source": [
    "#### ------------------------------ List Comprehension --------------------------------------\n",
    "    - Creating a list on the fly using for loop\n",
    "    - Syntax [expression for iterator in iterable]\n",
    "    - [expression for item in list if expression]\n",
    "    - [expression if condition else expression for item in list]"
   ]
  },
  {
   "cell_type": "code",
   "execution_count": 177,
   "id": "83126e69",
   "metadata": {},
   "outputs": [
    {
     "data": {
      "text/plain": [
       "['h', 'u', 'm', 'a', 'n']"
      ]
     },
     "execution_count": 177,
     "metadata": {},
     "output_type": "execute_result"
    }
   ],
   "source": [
    "word = \"human\"\n",
    "mylist = [i for i in word]\n",
    "mylist"
   ]
  },
  {
   "cell_type": "code",
   "execution_count": 180,
   "id": "9f2e4881",
   "metadata": {},
   "outputs": [
    {
     "data": {
      "text/plain": [
       "['h', 'u', 'm', 'a', 'n']"
      ]
     },
     "execution_count": 180,
     "metadata": {},
     "output_type": "execute_result"
    }
   ],
   "source": [
    "#we can also ddo this using lambda\n",
    "mylist = list(map(lambda a: a, \"human\")) #map() is applying lambda function to each element in our string human and converting the result into list using list()\n",
    "mylist"
   ]
  },
  {
   "cell_type": "code",
   "execution_count": 181,
   "id": "0cf2d717",
   "metadata": {},
   "outputs": [
    {
     "data": {
      "text/plain": [
       "[0, 2, 4, 6, 8, 10, 12, 14, 16, 18]"
      ]
     },
     "execution_count": 181,
     "metadata": {},
     "output_type": "execute_result"
    }
   ],
   "source": [
    "#conditional if using list comprehensions\n",
    "evennumbers = [x for x in range(20) if x%2==0]\n",
    "evennumbers"
   ]
  },
  {
   "cell_type": "code",
   "execution_count": 187,
   "id": "43c4ca63",
   "metadata": {},
   "outputs": [
    {
     "data": {
      "text/plain": [
       "['Even',\n",
       " 'Odd',\n",
       " 'Even',\n",
       " 'Odd',\n",
       " 'Even',\n",
       " 'Odd',\n",
       " 'Even',\n",
       " 'Odd',\n",
       " 'Even',\n",
       " 'Odd',\n",
       " 'Even',\n",
       " 'Odd',\n",
       " 'Even',\n",
       " 'Odd',\n",
       " 'Even',\n",
       " 'Odd',\n",
       " 'Even',\n",
       " 'Odd',\n",
       " 'Even',\n",
       " 'Odd']"
      ]
     },
     "execution_count": 187,
     "metadata": {},
     "output_type": "execute_result"
    }
   ],
   "source": [
    "#conditional if else\n",
    "evenorodd = [\"Even\" if x%2==0 else \"Odd\" for x in range(20)]\n",
    "evenorodd"
   ]
  },
  {
   "cell_type": "code",
   "execution_count": 186,
   "id": "c0932ea3",
   "metadata": {},
   "outputs": [
    {
     "data": {
      "text/plain": [
       "[0, 10, 20]"
      ]
     },
     "execution_count": 186,
     "metadata": {},
     "output_type": "execute_result"
    }
   ],
   "source": [
    "#nested if - divsible iwth both 2 and 5\n",
    "evennumbers = [x for x in range(21) if x%2==0 if x%5==0]\n",
    "evennumbers"
   ]
  },
  {
   "cell_type": "code",
   "execution_count": 239,
   "id": "ef14ca6b",
   "metadata": {},
   "outputs": [
    {
     "data": {
      "text/plain": [
       "[0, 10, 20]"
      ]
     },
     "execution_count": 239,
     "metadata": {},
     "output_type": "execute_result"
    }
   ],
   "source": [
    "#if - divsible iwth both 2 and 5 using and\n",
    "evennumbers = [x for x in range(21) if x%2==0 and x%5==0]\n",
    "evennumbers"
   ]
  },
  {
   "cell_type": "code",
   "execution_count": 190,
   "id": "be90cf17",
   "metadata": {},
   "outputs": [
    {
     "name": "stdout",
     "output_type": "stream",
     "text": [
      "0\n",
      "[1, 2, 3, 4]\n",
      "[5, 6, 7, 8]\n",
      "1\n",
      "[1, 2, 3, 4]\n",
      "[5, 6, 7, 8]\n",
      "2\n",
      "[1, 2, 3, 4]\n",
      "[5, 6, 7, 8]\n",
      "3\n",
      "[1, 2, 3, 4]\n",
      "[5, 6, 7, 8]\n",
      "Transposed matrix [[1, 5], [2, 6], [3, 7], [4, 8]]\n"
     ]
    }
   ],
   "source": [
    "#nested loops in list comprehension\n",
    "\n",
    "#conversion of a matrix to its transpose \n",
    "#below is the general way without comprehension\n",
    "matrix = [[1, 2, 3, 4], [5, 6, 7, 8]] #2*4 matrix, transpose = 4*2\n",
    "\n",
    "transposed = []\n",
    "for i in range(len(matrix[0])):\n",
    "    transposed_row = []\n",
    "    print(i)\n",
    "    for j in matrix:\n",
    "        print(j)\n",
    "        transposed_row.append(j[i])\n",
    "    transposed.append(transposed_row)\n",
    "print(f\"Transposed matrix {transposed}\")\n",
    "    "
   ]
  },
  {
   "cell_type": "code",
   "execution_count": 198,
   "id": "e347d053",
   "metadata": {},
   "outputs": [
    {
     "data": {
      "text/plain": [
       "[[1, 2, 3, 4], [5, 6, 7, 8]]"
      ]
     },
     "execution_count": 198,
     "metadata": {},
     "output_type": "execute_result"
    }
   ],
   "source": [
    "#using list comprehension - nested for loop\n",
    "#note, first the last for loop is executed first and then the inner loop is execute in list comprehensions\n",
    "#for i in range(2) is executed before j[i] for j in matrix\n",
    "\n",
    "matrix = [[1, 5], [2, 6], [3, 7], [4, 8]]\n",
    "#1, 5\n",
    "#2, 6\n",
    "#3, 7\n",
    "#4, 8\n",
    "#Tip: write the list by hand to visualise. Then find out how to traverse the indexes to get the desired result\n",
    "transposed_matrix = [[j[i] for j in matrix] for i in range(2)]\n",
    "transposed_matrix"
   ]
  },
  {
   "cell_type": "code",
   "execution_count": 212,
   "id": "1491596c",
   "metadata": {
    "scrolled": true
   },
   "outputs": [
    {
     "name": "stdout",
     "output_type": "stream",
     "text": [
      "1\n",
      "2\n",
      "fizz\n",
      "4\n",
      "buzz\n",
      "fizz\n",
      "7\n",
      "8\n",
      "fizz\n",
      "buzz\n",
      "11\n",
      "fizz\n",
      "13\n",
      "14\n",
      "fizzbuzz\n",
      "16\n",
      "17\n",
      "fizz\n",
      "19\n",
      "buzz\n",
      "fizz\n",
      "22\n",
      "23\n",
      "fizz\n",
      "buzz\n",
      "26\n",
      "fizz\n",
      "28\n",
      "29\n",
      "fizzbuzz\n",
      "31\n",
      "32\n",
      "fizz\n",
      "34\n",
      "buzz\n",
      "fizz\n",
      "37\n",
      "38\n",
      "fizz\n",
      "buzz\n",
      "41\n",
      "fizz\n",
      "43\n",
      "44\n",
      "fizzbuzz\n",
      "46\n",
      "47\n",
      "fizz\n",
      "49\n",
      "buzz\n",
      "fizz\n",
      "52\n",
      "53\n",
      "fizz\n",
      "buzz\n",
      "56\n",
      "fizz\n",
      "58\n",
      "59\n",
      "fizzbuzz\n",
      "61\n",
      "62\n",
      "fizz\n",
      "64\n",
      "buzz\n",
      "fizz\n",
      "67\n",
      "68\n",
      "fizz\n",
      "buzz\n",
      "71\n",
      "fizz\n",
      "73\n",
      "74\n",
      "fizzbuzz\n",
      "76\n",
      "77\n",
      "fizz\n",
      "79\n",
      "buzz\n",
      "fizz\n",
      "82\n",
      "83\n",
      "fizz\n",
      "buzz\n",
      "86\n",
      "fizz\n",
      "88\n",
      "89\n",
      "fizzbuzz\n",
      "91\n",
      "92\n",
      "fizz\n",
      "94\n",
      "buzz\n",
      "fizz\n",
      "97\n",
      "98\n",
      "fizz\n",
      "buzz\n"
     ]
    }
   ],
   "source": [
    "#The famous fizz-buzz problem prints 1 to 100 with all 3-multiples replaced with “fizz,” \n",
    "#all 5-multiples replaced with “buzz,” and if a number is both a multiple of 3 and 5, print “fizzbuzz.”\n",
    "#nested if else\n",
    "mylist = [\"fizzbuzz\" if x%15==0 else \"buzz\" if x%5==0 else \"fizz\" if x%3==0 else str(x) for x in range(1, 101)]\n",
    "print(\"\\n\".join(mylist))"
   ]
  },
  {
   "cell_type": "code",
   "execution_count": 428,
   "id": "04c784ab",
   "metadata": {},
   "outputs": [
    {
     "data": {
      "text/plain": [
       "['northsouth',\n",
       " 'northeast',\n",
       " 'north',\n",
       " 'westsouth',\n",
       " 'westeast',\n",
       " 'west',\n",
       " 'south',\n",
       " 'east']"
      ]
     },
     "execution_count": 428,
     "metadata": {},
     "output_type": "execute_result"
    }
   ],
   "source": [
    "#nested for loop - inner for loop first and outer for loop last executed. The if loop is executed after iterating each element through existing for loop\n",
    "directions = [a+b for a in [\"north\", \"west\", \"\"] for b in [\"south\", \"east\", \"\"] if not (a==\"\" and b==\"\")]\n",
    "directions"
   ]
  },
  {
   "cell_type": "code",
   "execution_count": 221,
   "id": "8df5c2e1",
   "metadata": {},
   "outputs": [
    {
     "name": "stdout",
     "output_type": "stream",
     "text": [
      "[1, 2, 3, 4, 5, 6, 7, 8, 9, 10]\n",
      "[2, 4, 6, 8, 10, 12, 14, 16, 18, 20]\n",
      "[3, 6, 9, 12, 15, 18, 21, 24, 27, 30]\n",
      "[4, 8, 12, 16, 20, 24, 28, 32, 36, 40]\n",
      "[5, 10, 15, 20, 25, 30, 35, 40, 45, 50]\n",
      "[6, 12, 18, 24, 30, 36, 42, 48, 54, 60]\n",
      "[7, 14, 21, 28, 35, 42, 49, 56, 63, 70]\n",
      "[8, 16, 24, 32, 40, 48, 56, 64, 72, 80]\n",
      "[9, 18, 27, 36, 45, 54, 63, 72, 81, 90]\n",
      "[10, 20, 30, 40, 50, 60, 70, 80, 90, 100]\n"
     ]
    }
   ],
   "source": [
    "#here the last loop execute first and then the inner loop\n",
    "tables = [[i*j for j in range(1, 11)] for i in range(1, 11)]\n",
    "for row in tables:\n",
    "    print(row)"
   ]
  },
  {
   "cell_type": "markdown",
   "id": "9bdfb9ee",
   "metadata": {},
   "source": [
    "#### ---------------------------- List enumerate ------------------------------------\n",
    "    enumerate is used to loop through the list along with the index variable"
   ]
  },
  {
   "cell_type": "code",
   "execution_count": 223,
   "id": "0a7c8f00",
   "metadata": {
    "collapsed": true
   },
   "outputs": [
    {
     "name": "stdout",
     "output_type": "stream",
     "text": [
      "index: 0\n",
      "20\n",
      "index: 1\n",
      "21\n",
      "index: 2\n",
      "22\n",
      "index: 3\n",
      "23\n",
      "index: 4\n",
      "24\n",
      "index: 5\n",
      "25\n",
      "index: 6\n",
      "26\n",
      "index: 7\n",
      "27\n",
      "index: 8\n",
      "28\n",
      "index: 9\n",
      "29\n",
      "index: 10\n",
      "30\n"
     ]
    }
   ],
   "source": [
    "mylist = range(20, 31)\n",
    "for idx, i in  enumerate(mylist):\n",
    "    print(f\"index: {idx}\")\n",
    "    print(i)"
   ]
  },
  {
   "cell_type": "markdown",
   "id": "932d063f",
   "metadata": {},
   "source": [
    "#### ---------------------------- List zip -----------------------------------\n",
    "    Zip is used to unpack elements from multiple lists and gives each element of the same index from different lists as a tuple until the list of shortest lest is exhausted. \n",
    "    The zip() function is like a zipper, taking one element from each input list and putting them side by side. You may provide more than two lists to zip(). It will produce all matching items (i.e., stop whenever it hits the end of the shortest input list)."
   ]
  },
  {
   "cell_type": "code",
   "execution_count": 224,
   "id": "9fb9f958",
   "metadata": {},
   "outputs": [
    {
     "name": "stdout",
     "output_type": "stream",
     "text": [
      "(1, 'a')\n",
      "(2, 'e')\n",
      "(3, 'i')\n",
      "(4, 'o')\n",
      "(5, 'u')\n"
     ]
    }
   ],
   "source": [
    "l1 = [1, 2, 3, 4, 5]\n",
    "l2 = ['a', 'e', 'i', 'o', 'u']\n",
    "for i in zip(l1, l2):\n",
    "    print(i)"
   ]
  },
  {
   "cell_type": "code",
   "execution_count": 225,
   "id": "456e66d2",
   "metadata": {},
   "outputs": [
    {
     "name": "stdout",
     "output_type": "stream",
     "text": [
      "(1, 'a', 'x')\n",
      "(2, 'e', 'y')\n"
     ]
    }
   ],
   "source": [
    "l1 = [1, 2, 3, 4, 5]\n",
    "l2 = ['a', 'e', 'i', 'o', 'u']\n",
    "l3 = ['x', 'y']\n",
    "for i in zip(l1, l2, l3):\n",
    "    print(i)"
   ]
  },
  {
   "cell_type": "code",
   "execution_count": 226,
   "id": "50c5e32c",
   "metadata": {},
   "outputs": [
    {
     "data": {
      "text/plain": [
       "[[1, 1, 1],\n",
       " [2, 4, 8],\n",
       " [3, 9, 27],\n",
       " [4, 16, 64],\n",
       " [5, 25, 125],\n",
       " [6, 36, 216],\n",
       " [7, 49, 343],\n",
       " [8, 64, 512],\n",
       " [9, 81, 729],\n",
       " [10, 100, 1000]]"
      ]
     },
     "execution_count": 226,
     "metadata": {},
     "output_type": "execute_result"
    }
   ],
   "source": [
    "#one usecase of zip\n",
    "results = []\n",
    "for n in range(1, 11):\n",
    "    squared, cubed = n**2, n**3\n",
    "    results.append([n, squared, cubed])\n",
    "results"
   ]
  },
  {
   "cell_type": "code",
   "execution_count": 229,
   "id": "4dddc2de",
   "metadata": {},
   "outputs": [
    {
     "name": "stdout",
     "output_type": "stream",
     "text": [
      "numbers (1, 2, 3, 4, 5, 6, 7, 8, 9, 10)\n",
      "squares (1, 4, 9, 16, 25, 36, 49, 64, 81, 100)\n",
      "cubes (1, 8, 27, 64, 125, 216, 343, 512, 729, 1000)\n"
     ]
    }
   ],
   "source": [
    "#we can also use zip to unpack the arbitratry lists\n",
    "numbers, squares, cubes = zip(*results)\n",
    "print(f\"numbers {numbers}\")\n",
    "print(f\"squares {squares}\")\n",
    "print(f\"cubes {cubes}\")"
   ]
  },
  {
   "cell_type": "code",
   "execution_count": 6,
   "id": "59adf25c",
   "metadata": {},
   "outputs": [
    {
     "name": "stdout",
     "output_type": "stream",
     "text": [
      "{('Triangle', 3, 'red'), ('Hexagon', 6, 'yellow'), ('Pentagon', 5, 'blue'), ('Square', 4, 'green')}\n",
      "0 Shape-  Triangle ; Sides  3\n",
      "1 Shape-  Square ; Sides  4\n",
      "2 Shape-  Hexagon ; Sides  6\n",
      "3 Shape-  Pentagon ; Sides  5\n"
     ]
    }
   ],
   "source": [
    "#enumerate and zip together\n",
    "\n",
    "name = ['Triangle', 'Square', 'Hexagon', 'Pentagon', 'rhombus']\n",
    "sides = [3, 4, 6, 5]\n",
    "colors = ['red', 'green', 'yellow', 'blue']\n",
    "shapes = zip(name, sides, colors)\n",
    " \n",
    "# Tuples are created from one item from each list\n",
    "print(set(shapes))\n",
    " \n",
    "# Easy to use enumerate and zip together for iterating through multiple lists in one go\n",
    "for i, (n, s, c) in enumerate(zip(name, sides, colors)):\n",
    "    print(i, 'Shape- ', n, '; Sides ', s)"
   ]
  },
  {
   "cell_type": "markdown",
   "id": "8c56025f",
   "metadata": {},
   "source": [
    "#### ------------------ List Map, Filter and Reduce (Functional Programming) ------------------------------------"
   ]
  },
  {
   "cell_type": "markdown",
   "id": "b597862a",
   "metadata": {},
   "source": [
    "#### Map:\n",
    "    The map() function applies a given function to each element of an iterable (list, tuple, strings, sets etc.) and returns an iterator containing the results.We can convert this iterator to a list using list() or set() or tuple(). We can pass more than one iterable to the map() function. Lambda functions are commonly used while working with map() functions.\n",
    "    \n",
    "    Syntax: map(function, iterable)"
   ]
  },
  {
   "cell_type": "code",
   "execution_count": 231,
   "id": "d9958eeb",
   "metadata": {},
   "outputs": [
    {
     "name": "stdout",
     "output_type": "stream",
     "text": [
      "<map object at 0x00000261BC5328E0>\n",
      "[1, 4, 9, 16, 25, 36, 49, 64, 81, 100]\n"
     ]
    }
   ],
   "source": [
    "#map()\n",
    "def func(element):\n",
    "    return element**2\n",
    "\n",
    "mapiterator = map(func, range(1, 11))\n",
    "#note: sometimes we can also achieve this small functions using list comprehension\n",
    "print(mapiterator)\n",
    "print(list(mapiterator))"
   ]
  },
  {
   "cell_type": "code",
   "execution_count": 236,
   "id": "bebd5f54",
   "metadata": {},
   "outputs": [
    {
     "name": "stdout",
     "output_type": "stream",
     "text": [
      "<map object at 0x00000261BB9F6100>\n",
      "{16, 1, 4, 9}\n"
     ]
    }
   ],
   "source": [
    "def calculateSquare(n):\n",
    "    return n*n\n",
    "\n",
    "numbers = (1, 2, 3, 4)\n",
    "result = map(calculateSquare, numbers)\n",
    "print(result) #calculating the squares of tuple elements\n",
    "\n",
    "# converting map object to set\n",
    "numbersSquare = set(result)\n",
    "print(numbersSquare)"
   ]
  },
  {
   "cell_type": "code",
   "execution_count": 237,
   "id": "e0a8257d",
   "metadata": {},
   "outputs": [
    {
     "name": "stdout",
     "output_type": "stream",
     "text": [
      "<map object at 0x00000261BB6C0C70>\n",
      "[1, 4, 9, 16]\n"
     ]
    }
   ],
   "source": [
    "#using the above logic with lambda\n",
    "numbers = (1, 2, 3, 4)\n",
    "result = map(lambda x: x**2, numbers)\n",
    "print(result) #calculating the squares of tuple elements\n",
    "\n",
    "# converting map object to list\n",
    "numbersSquare = list(result)\n",
    "print(numbersSquare)"
   ]
  },
  {
   "cell_type": "code",
   "execution_count": 238,
   "id": "b3d5071d",
   "metadata": {},
   "outputs": [
    {
     "name": "stdout",
     "output_type": "stream",
     "text": [
      "[5, 7, 9]\n"
     ]
    }
   ],
   "source": [
    "#Passing Multiple Iterators to map() Using Lambda\n",
    "l1 = [1, 2, 3]\n",
    "l2 = [4, 5, 6]\n",
    "result = map(lambda i, j: i+j, l1, l2)\n",
    "print(list(result))"
   ]
  },
  {
   "cell_type": "markdown",
   "id": "40e5bb25",
   "metadata": {},
   "source": [
    "#### Filter:\n",
    "    Filter is also applied same as map. It takes function as first argument and the iterable as second argument. The filter() method filters the given sequence with the help of a function that tests each element in the sequence to be true or not. The values which are true will be returned.\n",
    "                Syntax: filter(function, sequence)\n",
    "     It returns an iterator that is already filtered. If possible, we can pass the return value from map() to filter() or vice versa. We can also consider map() and filter() as another way to write list comprehension (sometimes easier to read as the logic is modularized)."
   ]
  },
  {
   "cell_type": "code",
   "execution_count": 241,
   "id": "9f8421b5",
   "metadata": {},
   "outputs": [
    {
     "name": "stdout",
     "output_type": "stream",
     "text": [
      "<filter object at 0x00000261BC347460>\n",
      "Odd numbers are : [1, 3, 5, 7, 9]\n"
     ]
    }
   ],
   "source": [
    "#filter()\n",
    "my_list = range(1, 11)\n",
    "filtered_list = filter(lambda x: x%2 != 0, my_list)\n",
    "print(filtered_list)\n",
    "print(f\"Odd numbers are : {list(filtered_list)}\")"
   ]
  },
  {
   "cell_type": "code",
   "execution_count": 243,
   "id": "6d7a9f63",
   "metadata": {},
   "outputs": [
    {
     "name": "stdout",
     "output_type": "stream",
     "text": [
      "Vowels are: ['a', 'e']\n"
     ]
    }
   ],
   "source": [
    "#filter with user defined function\n",
    "def filtervowels(element):\n",
    "    vowels = ['a', 'e', 'i', 'o', 'u']\n",
    "    if element in vowels:\n",
    "        return True\n",
    "    else:\n",
    "        return False\n",
    "\n",
    "my_list = ['a', 'b', 'c', 'd', 'e', 'f']\n",
    "filtered = filter(filtervowels, my_list)\n",
    "print(f\"Vowels are: {list(filtered)}\")"
   ]
  },
  {
   "cell_type": "code",
   "execution_count": 244,
   "id": "f77890fe",
   "metadata": {},
   "outputs": [
    {
     "name": "stdout",
     "output_type": "stream",
     "text": [
      "Vowels are: [3, 6, 9]\n"
     ]
    }
   ],
   "source": [
    "#filter with lambda and user defined function\n",
    "def is_muliples_of_3(element):\n",
    "    return element%3 == 0\n",
    "\n",
    "my_list = range(1, 11)\n",
    "filtered = list(filter(lambda x: is_muliples_of_3(x), my_list))\n",
    "print(f\"Vowels are: {list(filtered)}\")"
   ]
  },
  {
   "cell_type": "code",
   "execution_count": 247,
   "id": "d6fb8e80",
   "metadata": {},
   "outputs": [
    {
     "data": {
      "text/plain": [
       "{'b': (4, 8)}"
      ]
     },
     "execution_count": 247,
     "metadata": {},
     "output_type": "execute_result"
    }
   ],
   "source": [
    "#Filter the dictionary of tuples\n",
    "test_dict = {'a' : (6, 3), 'b' : (4, 8), 'c' : (8, 4)}\n",
    "#usual with dictionary comprehension\n",
    "filtered = {key: val for key, val in test_dict.items() if val[0]<=6 and val[1]>=8}\n",
    "filtered"
   ]
  },
  {
   "cell_type": "code",
   "execution_count": 430,
   "id": "a9bf892e",
   "metadata": {},
   "outputs": [
    {
     "name": "stdout",
     "output_type": "stream",
     "text": [
      "{'b': (4, 8)}\n"
     ]
    }
   ],
   "source": [
    "#Filtering the dictionary of tuples with filter and lambda\n",
    "test_dict = {'a' : (6, 3), 'b' : (4, 8), 'c' : (8, 4)}\n",
    "# filtered = dict(filter(lambda (k, (x, y)): x <= 6 and y >= 8, test_dict.items()))\n",
    "# filtered\n",
    "res = dict(filter(lambda x: x[1][0] <= 6 and x[1][1] >= 8, test_dict.items())) #here x or x[0] represents key, x[1] represents value(tuple), x[1][0] represents first element in the tuple\n",
    "print(res)"
   ]
  },
  {
   "cell_type": "markdown",
   "id": "1f8a1902",
   "metadata": {},
   "source": [
    "#### ---------------------------------------- Reduce ------------------------------------\n",
    "    Python’s reduce() process iterables and reduce them to a single cumulative value without using a for loop. Python’s reduce() implements a mathematical technique commonly known as folding or reduction. You’re doing a fold or reduction when you reduce a list of items to a single cumulative value. Python’s reduce() operates on any iterable—not just lists—and performs the following steps:\n",
    "    - Apply a function (or callable) to the first two items in an iterable and generate a partial result.\n",
    "    - Use that partial result, together with the third item in the iterable, to generate another partial result.\n",
    "    - Repeat the process until the iterable is exhausted and then return a single cumulative value.\n",
    "    - Note: reduce only accepts the function that has min 2 arguments to it\n",
    "    Syntax: reduce(func, iterable, intializer(optional))"
   ]
  },
  {
   "cell_type": "code",
   "execution_count": 267,
   "id": "83700008",
   "metadata": {},
   "outputs": [
    {
     "data": {
      "text/plain": [
       "10"
      ]
     },
     "execution_count": 267,
     "metadata": {},
     "output_type": "execute_result"
    }
   ],
   "source": [
    "#sum of numbers in the list using reduce\n",
    "from functools import reduce\n",
    "\n",
    "def add(a, b):\n",
    "    return a+b\n",
    "\n",
    "my_list = range(0, 5)\n",
    "reducedvalue = reduce(add, my_list)\n",
    "reducedvalue #cumulative value \n",
    "#0 + 1 = 1\n",
    "#1 + 2 = 3\n",
    "#3 + 3 = 6\n",
    "#6 + 4 = 10\n",
    "#10"
   ]
  },
  {
   "cell_type": "code",
   "execution_count": 272,
   "id": "a33deb54",
   "metadata": {},
   "outputs": [
    {
     "data": {
      "text/plain": [
       "110"
      ]
     },
     "execution_count": 272,
     "metadata": {},
     "output_type": "execute_result"
    }
   ],
   "source": [
    "#reduce with initializer- intializer acts as initial seed value\n",
    "#this initial also acts as default value.this is useful when the list is empty,\n",
    "#instead of getting error or nothing, we get a default value of the initial value\n",
    "\n",
    "#sum of numbers in the list using lambda and reduce\n",
    "from functools import reduce\n",
    "\n",
    "my_list = range(0, 5)\n",
    "reducedvalue = reduce(lambda x, y: x+y, my_list, 100)\n",
    "reducedvalue"
   ]
  },
  {
   "cell_type": "code",
   "execution_count": 273,
   "id": "f0642c56",
   "metadata": {},
   "outputs": [
    {
     "name": "stdout",
     "output_type": "stream",
     "text": [
      "Min value: 1\n",
      "Max value: 7\n"
     ]
    }
   ],
   "source": [
    "#Finding the Minimum and Maximum Value without reduce\n",
    "numbers = [3, 5, 2, 4, 7, 1]\n",
    "\n",
    "# Minimum\n",
    "min_value, *rest = numbers #first value 3 goes to min_value, rest of the values goes to rest variable i.e [5,2,4,7,1]\n",
    "for num in rest:\n",
    "    if num < min_value:\n",
    "        min_value = num\n",
    "\n",
    "#Maximum\n",
    "max_value, *rest = numbers\n",
    "for num in rest:\n",
    "    if num > max_value:\n",
    "        max_value = num\n",
    "        \n",
    "print(f\"Min value: {min_value}\")\n",
    "print(f\"Max value: {max_value}\")"
   ]
  },
  {
   "cell_type": "code",
   "execution_count": 275,
   "id": "83189b7f",
   "metadata": {},
   "outputs": [
    {
     "name": "stdout",
     "output_type": "stream",
     "text": [
      "Min value: 1\n",
      "Max value: 7\n"
     ]
    }
   ],
   "source": [
    "#Finding the Minimum and Maximum Value with reduce\n",
    "from functools import reduce\n",
    "\n",
    "# Minimum\n",
    "def my_min_func(a, b):\n",
    "    return a if a < b else b\n",
    "\n",
    "\n",
    "\n",
    "numbers = [3, 5, 2, 4, 7, 1]\n",
    "\n",
    "min = reduce(my_min_func, numbers)\n",
    "\n",
    "#using lambda\n",
    "max = reduce(lambda a, b: a if a > b else b, numbers)\n",
    "\n",
    "print(f\"Min value: {min}\")\n",
    "print(f\"Max value: {max}\")"
   ]
  },
  {
   "cell_type": "markdown",
   "id": "1431d3b4",
   "metadata": {},
   "source": [
    "### Dictionary"
   ]
  },
  {
   "cell_type": "code",
   "execution_count": 354,
   "id": "6be00f0f",
   "metadata": {},
   "outputs": [
    {
     "name": "stdout",
     "output_type": "stream",
     "text": [
      "1.5\n",
      "1.5\n",
      "100\n",
      "None\n",
      "dict_items([('apple', 1.5), ('orange', 1.25), ('banana', 0.5)])\n",
      "dict_keys(['apple', 'orange', 'banana'])\n",
      "dict_values([1.5, 1.25, 0.5])\n",
      "['apple', 'orange', 'banana']\n",
      "{'apple': 1.5, 'orange': 1.25, 'banana': 0.5, 'grapes': 1.1}\n",
      "1.5\n",
      "Dictionary after Popping orange: 1.25\n",
      "Popped item: ('grapes', 1.1)\n",
      "None\n",
      "{'apple': 1.5, 'banana': 0.5, 'mango': None}\n",
      "Updated dict: {'apple': 1.5, 'orange': 1.25, 'banana': 0.5, 'kiwi': 50, 'mango': 70}\n",
      "Updated marks: {'Physics': 67, 'Maths': 87, 'Practical': 48}\n",
      "{1: 'one', 2: 'two'}\n",
      "{1: 'one', 2: 'two', 3: 'three'}\n"
     ]
    }
   ],
   "source": [
    "my_dict =  {\n",
    "    \"apple\": 1.5,\n",
    "    \"orange\": 1.25,\n",
    "    \"banana\": 0.5\n",
    "}\n",
    "print(my_dict['apple'])\n",
    "print(my_dict.get('apple'))\n",
    "print(my_dict.get('kiwi', 100)) #100 acts as default value when given key 'kiwi' doesnt exist\n",
    "print(my_dict.get('kiwi')) #no need to even specify the deafault value if not needed. It can return None\n",
    "print(my_dict.items()) #gives key value pairs\n",
    "print(my_dict.keys())\n",
    "print(my_dict.values())\n",
    "print(list(my_dict.keys()))\n",
    "\n",
    "#inserting a new element\n",
    "my_dict['grapes'] = 1.1\n",
    "print(my_dict)\n",
    "\n",
    "#checking the key exists or not in the dictionary\n",
    "if 'apple' in my_dict:\n",
    "    print(my_dict['apple'])\n",
    "    \n",
    "#The pop() method removes and returns an element/value from a dictionary having the given key.\n",
    "pop_dict = my_dict.pop('orange')\n",
    "print(f\"Dictionary after Popping orange: {pop_dict}\")\n",
    "    \n",
    "#popitem() method removes and returns the (key, value) pair from the dictionary in the Last In, First Out (LIFO) order.Returns the latest inserted element (key,value) pair from the dictionary.\n",
    "pop_dict = my_dict.popitem()\n",
    "print(f\"Popped item: {pop_dict}\")\n",
    "\n",
    "#setdefault(key, defaultvalue-optional) method returns the value of a key (if the key is in dictionary). \n",
    "#If not, it inserts key with the default value specified to the dictionary.If no default value specified, the None is inserted\n",
    "defval = my_dict.setdefault('mango')\n",
    "print(defval)\n",
    "print(my_dict)\n",
    "\n",
    "\n",
    "# The update() method updates the dictionary by taking the elements from another dictionary object or from an iterable of key/value pairs.(generally tuples)\n",
    "#update() method adds element(s) to the dictionary if the key is not in the dictionary.\n",
    "#If the key is in the dictionary, it updates the key with the new value.\n",
    "#If update() is called without passing parameters, the dictionary remains unchanged\n",
    "#when a tuple is passed, then first element in each tuple acts as key\n",
    "my_dict =  {\n",
    "    \"apple\": 1.5,\n",
    "    \"orange\": 1.25,\n",
    "    \"banana\": 0.5\n",
    "}\n",
    "new_dict = [('kiwi', 50), ('mango', 70)]\n",
    "my_dict.update(new_dict)\n",
    "print(f\"Updated dict: {my_dict}\")\n",
    "\n",
    "marks = {'Physics':67, 'Maths':87}\n",
    "internal_marks = {'Practical':48}\n",
    "marks.update(internal_marks)\n",
    "print(f\"Updated marks: {marks}\")\n",
    "\n",
    "\n",
    "d = {1: \"one\", 2: \"too\"}\n",
    "d1 = {2: \"two\"}\n",
    "# updates the value of key 2\n",
    "d.update(d1)\n",
    "print(d)\n",
    "d1 = {3: \"three\"}\n",
    "# adds element with key 3\n",
    "d.update(d1)\n",
    "print(d)\n",
    "    \n",
    "#Note: Most of the list functions are applicable to dictionaries as well"
   ]
  },
  {
   "cell_type": "code",
   "execution_count": 295,
   "id": "ae9a910d",
   "metadata": {},
   "outputs": [
    {
     "data": {
      "text/plain": [
       "{'apple': 1.5, 'orange': 1.25, 'strawberry': 1.0, 'banana': 0.5}"
      ]
     },
     "execution_count": 295,
     "metadata": {},
     "output_type": "execute_result"
    }
   ],
   "source": [
    "#combining dicts / dictionary concatenation\n",
    "price1 = {\n",
    "    \"apple\": 1.5,\n",
    "    \"orange\": 1.25,\n",
    "    \"strawberry\": 1.0\n",
    "}\n",
    "price2 = {\n",
    "    \"banana\": 0.5\n",
    "}\n",
    "\n",
    "price1_list = list(price1.items())\n",
    "price2_list = list(price2.items())\n",
    "combined = price1_list + price2_list\n",
    "dict(combined)"
   ]
  },
  {
   "cell_type": "code",
   "execution_count": 342,
   "id": "2f0be2b9",
   "metadata": {},
   "outputs": [
    {
     "data": {
      "text/plain": [
       "{'apple': 1.5, 'orange': 1.25, 'strawberry': 1.0, 'banana': 0.5}"
      ]
     },
     "execution_count": 342,
     "metadata": {},
     "output_type": "execute_result"
    }
   ],
   "source": [
    "price = {**price1, **price2} #arbitrary keywords concatenation\n",
    "price"
   ]
  },
  {
   "cell_type": "code",
   "execution_count": 346,
   "id": "ca79ade2",
   "metadata": {},
   "outputs": [
    {
     "data": {
      "text/plain": [
       "{'a': 1, 'b': 1, 'c': 1}"
      ]
     },
     "execution_count": 346,
     "metadata": {},
     "output_type": "execute_result"
    }
   ],
   "source": [
    "#fromkeys : creates a dictionary using given keys and values\n",
    "#Note: The same value is assigned to all the keys of the dictionary. If no value is specified, then None is assigned to all keys\n",
    "keys = ['a', 'b', 'c']\n",
    "val = 1\n",
    "my_dict = dict.fromkeys(keys, val)\n",
    "my_dict"
   ]
  },
  {
   "cell_type": "code",
   "execution_count": 352,
   "id": "6abbb0da",
   "metadata": {},
   "outputs": [
    {
     "name": "stdout",
     "output_type": "stream",
     "text": [
      "{'key1': 0, 'key2': 0, 'key3': 0}\n"
     ]
    }
   ],
   "source": [
    "#fromkeys()\n",
    "x = ('key1', 'key2', 'key3')\n",
    "y = 0\n",
    "\n",
    "thisdict = dict.fromkeys(x, y)\n",
    "\n",
    "print(thisdict)"
   ]
  },
  {
   "cell_type": "markdown",
   "id": "e283a6f8",
   "metadata": {},
   "source": [
    "### Tuples"
   ]
  },
  {
   "cell_type": "markdown",
   "id": "60569a58",
   "metadata": {},
   "source": [
    "    Tuple is just like a list that behaves like an array of mixed data(heterogenous) but it cannot be modified after it is created. It is immutable. Creating a tuple is just like creating a list, except using parentheses, (): We can access tuple elements using indexing. But you cannot assign/modify a new value to a tuple because a tuple is immutable. If you try to do it, Python will throw a TypeError with the reason that the tuple does not support the item assignment.\n",
    "\n",
    "    Note: In Python, creating a tuple with one element is a bit tricky. Having one element within parentheses is not enough. We will need a trailing comma to indicate that it is a tuple. We can also create tuple without braces\n",
    "                var1 = (\"Hello\") # string\n",
    "                var2 = (\"Hello\",) # tuple\n",
    "                var3 = \"Hello\", #tuple\n",
    "                var4 = 1 , 2, 'x' #tuple\n",
    "                var5 = (1, 2, 'x') #tuple\n",
    "                \n",
    "     Advantages:\n",
    "     -----------\n",
    "     We generally use tuples for heterogeneous (different) data types and lists for homogeneous (similar) data types. But lists can also have heterogeneous data.\n",
    "    Since tuples are immutable, iterating through a tuple is faster than with a list. So there is a slight performance boost.\n",
    "    Tuples that contain immutable elements can be used as a key for a dictionary. With lists, this is not possible.\n",
    "    If you have data that doesn't change, implementing it as tuple will guarantee that it remains write-protected."
   ]
  },
  {
   "cell_type": "code",
   "execution_count": 358,
   "id": "0a420a2e",
   "metadata": {},
   "outputs": [
    {
     "name": "stdout",
     "output_type": "stream",
     "text": [
      "(2, 4, 8)\n",
      "number: 2, Square: 4, Cube: 8\n"
     ]
    }
   ],
   "source": [
    "#A tuple is handy to represent multiple return values of a function.\n",
    "#For example, the following function produces a value’s multiple powers as a tuple:\n",
    "\n",
    "def powers(n):\n",
    "    return n, n**2, n**3\n",
    "x = powers(2)\n",
    "print(x)\n",
    "\n",
    "#unpacking\n",
    "number, square, cube = x\n",
    "print(f\"number: {number}, Square: {square}, Cube: {cube}\")"
   ]
  },
  {
   "cell_type": "code",
   "execution_count": 433,
   "id": "07a10881",
   "metadata": {},
   "outputs": [
    {
     "data": {
      "text/plain": [
       "[('alpha', 0.5), ('alpha', 0.5, 1)]"
      ]
     },
     "execution_count": 433,
     "metadata": {},
     "output_type": "execute_result"
    }
   ],
   "source": [
    "#Tuple sorting\n",
    "\n",
    "#For tuples, the first element is compared first from both the tuples in comparison, if the comparison holds then the result is returned.\n",
    "#If the first element is same in both the tuples, then the second element in the tuples are compared to return the result\n",
    "#(1,3) > (1, 4) returns False (Second element is compared)\n",
    "# (1, 4) < (2,2) returns True (Second element is compared)\n",
    "#(1, 4, 1) < (2, 1) returns True\n",
    "\n",
    "x = [(\"alpha\", 0.5) , (\"alpha\", 0.5, 1)]\n",
    "sorted(x)"
   ]
  },
  {
   "cell_type": "markdown",
   "id": "2edef992",
   "metadata": {},
   "source": [
    "### Strings\n",
    "    \n",
    "    Strings are immutable. That means the characters of a string cannot be changed. If we try to access an index out of the range or use numbers other than an integer, we will get errors."
   ]
  },
  {
   "cell_type": "code",
   "execution_count": 369,
   "id": "5fabe3af",
   "metadata": {},
   "outputs": [
    {
     "name": "stdout",
     "output_type": "stream",
     "text": [
      "d\n",
      "ell\n"
     ]
    },
    {
     "ename": "TypeError",
     "evalue": "'str' object does not support item assignment",
     "output_type": "error",
     "traceback": [
      "\u001b[1;31m---------------------------------------------------------------------------\u001b[0m",
      "\u001b[1;31mTypeError\u001b[0m                                 Traceback (most recent call last)",
      "Input \u001b[1;32mIn [369]\u001b[0m, in \u001b[0;36m<cell line: 10>\u001b[1;34m()\u001b[0m\n\u001b[0;32m      8\u001b[0m \u001b[38;5;66;03m#updating gives error\u001b[39;00m\n\u001b[0;32m      9\u001b[0m message \u001b[38;5;241m=\u001b[39m \u001b[38;5;124m'\u001b[39m\u001b[38;5;124mHola Amigos\u001b[39m\u001b[38;5;124m'\u001b[39m\n\u001b[1;32m---> 10\u001b[0m message[\u001b[38;5;241m0\u001b[39m] \u001b[38;5;241m=\u001b[39m \u001b[38;5;124m'\u001b[39m\u001b[38;5;124mH\u001b[39m\u001b[38;5;124m'\u001b[39m\n\u001b[0;32m     11\u001b[0m \u001b[38;5;28mprint\u001b[39m(message)\n",
      "\u001b[1;31mTypeError\u001b[0m: 'str' object does not support item assignment"
     ]
    }
   ],
   "source": [
    "\n",
    "str1 = \"Hello World\"\n",
    "\n",
    "print(str1[-1]) #accessing via indexing\n",
    "\n",
    "# access character from 1st index to 3rd index\n",
    "print(str1[1:4])\n",
    "\n",
    "#updating gives error\n",
    "message = 'Hola Amigos'\n",
    "message[0] = 'H'\n",
    "print(message)"
   ]
  },
  {
   "cell_type": "code",
   "execution_count": 370,
   "id": "48ba0daf",
   "metadata": {},
   "outputs": [
    {
     "name": "stdout",
     "output_type": "stream",
     "text": [
      "Hello Friends\n"
     ]
    }
   ],
   "source": [
    "#However, we can assign the variable name to a new string. For example,\n",
    "message = 'Hola Amigos'\n",
    "# assign new string to message variable\n",
    "message = 'Hello Friends'\n",
    "print(message); # prints \"Hello Friends\""
   ]
  },
  {
   "cell_type": "code",
   "execution_count": 371,
   "id": "6a669fcb",
   "metadata": {},
   "outputs": [
    {
     "name": "stdout",
     "output_type": "stream",
     "text": [
      "\n",
      "Hey, this is\n",
      "a multiline string\n",
      "\n"
     ]
    }
   ],
   "source": [
    "#We can also create a multiline string in Python. \n",
    "#For this, we use triple double quotes \"\"\" or triple single quotes '''.\n",
    "str2 = \"\"\"\n",
    "Hey, this is\n",
    "a multiline string\n",
    "\"\"\"\n",
    "print(str2)"
   ]
  },
  {
   "cell_type": "code",
   "execution_count": 372,
   "id": "7a847a21",
   "metadata": {},
   "outputs": [
    {
     "name": "stdout",
     "output_type": "stream",
     "text": [
      "False\n",
      "True\n"
     ]
    }
   ],
   "source": [
    "#Compare Two Strings\n",
    "#We use the == operator to compare two strings. \n",
    "#If two strings are equal, the operator returns True. Otherwise, it returns False.\n",
    "\n",
    "str1 = \"Hello, world!\"\n",
    "str2 = \"I love Python.\"\n",
    "str3 = \"Hello, world!\"\n",
    "\n",
    "# compare str1 and str2\n",
    "print(str1 == str2)\n",
    "\n",
    "# compare str1 and str3\n",
    "print(str1 == str3)"
   ]
  },
  {
   "cell_type": "code",
   "execution_count": 373,
   "id": "0dc14a9e",
   "metadata": {},
   "outputs": [
    {
     "data": {
      "text/plain": [
       "'Hello, world!I love Python.'"
      ]
     },
     "execution_count": 373,
     "metadata": {},
     "output_type": "execute_result"
    }
   ],
   "source": [
    "#concatenate strings or join strings\n",
    "str1 = \"Hello, world!\"\n",
    "str2 = \"I love Python.\"\n",
    "\n",
    "concat_str = str1 + str2\n",
    "concat_str"
   ]
  },
  {
   "cell_type": "code",
   "execution_count": 374,
   "id": "e19c46fa",
   "metadata": {},
   "outputs": [
    {
     "name": "stdout",
     "output_type": "stream",
     "text": [
      "H\n",
      "e\n",
      "l\n",
      "l\n",
      "o\n"
     ]
    }
   ],
   "source": [
    "#Iterating\n",
    "greet = 'Hello'\n",
    "\n",
    "# iterating through greet string\n",
    "for letter in greet:\n",
    "    print(letter)"
   ]
  },
  {
   "cell_type": "code",
   "execution_count": 375,
   "id": "d757c106",
   "metadata": {},
   "outputs": [
    {
     "name": "stdout",
     "output_type": "stream",
     "text": [
      "5\n"
     ]
    }
   ],
   "source": [
    "greet = 'Hello'\n",
    "\n",
    "# count length of greet string\n",
    "print(len(greet))"
   ]
  },
  {
   "cell_type": "code",
   "execution_count": 376,
   "id": "49c8bc96",
   "metadata": {},
   "outputs": [
    {
     "name": "stdout",
     "output_type": "stream",
     "text": [
      "True\n",
      "False\n"
     ]
    }
   ],
   "source": [
    "#string membership\n",
    "print('a' in 'program')\n",
    "print('at' not in 'battle')"
   ]
  },
  {
   "cell_type": "code",
   "execution_count": 377,
   "id": "7e02655e",
   "metadata": {},
   "outputs": [
    {
     "ename": "SyntaxError",
     "evalue": "invalid syntax (987957067.py, line 3)",
     "output_type": "error",
     "traceback": [
      "\u001b[1;36m  Input \u001b[1;32mIn [377]\u001b[1;36m\u001b[0m\n\u001b[1;33m    example = \"He said, \"What's there?\"\"\u001b[0m\n\u001b[1;37m                         ^\u001b[0m\n\u001b[1;31mSyntaxError\u001b[0m\u001b[1;31m:\u001b[0m invalid syntax\n"
     ]
    }
   ],
   "source": [
    "#escape sequences in string\n",
    "\n",
    "example = \"He said, \"What's there?\"\"\n",
    "\n",
    "print(example) # throws error"
   ]
  },
  {
   "cell_type": "code",
   "execution_count": 383,
   "id": "43b779c9",
   "metadata": {},
   "outputs": [
    {
     "name": "stdout",
     "output_type": "stream",
     "text": [
      "He said, \"What's there?\"\n"
     ]
    }
   ],
   "source": [
    "example = \"He said, \\\"What\\'s there?\\\"\"\n",
    "print(example)\n",
    "\n",
    "#escape sequences\n",
    "#\\\\\tBackslash\n",
    "#\\'\tSingle quote\n",
    "#\\\"\tDouble quote\n",
    "#\\a\tASCII Bell\n",
    "#\\b\tASCII Backspace\n",
    "#\\f\tASCII Formfeed\n",
    "#\\n\tASCII Linefeed\n",
    "#\\r\tASCII Carriage Return\n",
    "#\\t\tASCII Horizontal Tab\n",
    "#\\v\tASCII Vertical Tab\n",
    "#\\ooo\tCharacter with octal value ooo\n",
    "#\\xHH\tCharacter with hexadecimal value HH"
   ]
  },
  {
   "cell_type": "markdown",
   "id": "261a1b94",
   "metadata": {},
   "source": [
    "#### String Methods\n",
    "    capitalize()\n",
    "    center()\n",
    "    casefold()\n",
    "    count()\n",
    "    endswith()\n",
    "    expandtabs()\n",
    "    encode()\n",
    "    find()\n",
    "    format()\n",
    "    index()\n",
    "    isalnum()\n",
    "    isalpha()\n",
    "    isdecimal()\n",
    "    isdigit()\n",
    "    isidentifier()\n",
    "    islower()\n",
    "    isnumeric()\n",
    "    isprintable()\n",
    "    isspace()\n",
    "    istitle()\n",
    "    isupper()\n",
    "    join()\n",
    "    ljust()\n",
    "    rjust()\n",
    "    lower()\n",
    "    upper()\n",
    "    swapcase()\n",
    "    lstrip()\n",
    "    rstrip()\n",
    "    strip()\n",
    "    partition()\n",
    "    maketrans()\n",
    "    rpartition()\n",
    "    translate()\n",
    "    replace()\n",
    "    rfind()\n",
    "    rindex()\n",
    "    split()\n",
    "    rsplit()\n",
    "    splitlines()\n",
    "    startswith()\n",
    "    title()\n",
    "    zfill()\n",
    "    format_map()\n"
   ]
  },
  {
   "cell_type": "markdown",
   "id": "6490d484",
   "metadata": {},
   "source": [
    "#### -------------------------------captalize()----------------------------------\n",
    "    captilizes the first letter in a string or in a sentence and keeps the remaining letter in lower case.\n",
    "    The capitalize() method returns a new string and doesn't modify the original string"
   ]
  },
  {
   "cell_type": "code",
   "execution_count": 384,
   "id": "53eed152",
   "metadata": {},
   "outputs": [
    {
     "name": "stdout",
     "output_type": "stream",
     "text": [
      "Before capitalize(): i am learning PYTHON.\n",
      "After capitalize(): I am learning python.\n"
     ]
    }
   ],
   "source": [
    "sentence = \"i am learning PYTHON.\"\n",
    "\n",
    "# capitalize the first character \n",
    "capitalized_string = sentence.capitalize()\n",
    "\n",
    "# the sentence string is not modified \n",
    "print('Before capitalize():', sentence)\n",
    "\n",
    "print('After capitalize():', capitalized_string)"
   ]
  },
  {
   "cell_type": "markdown",
   "id": "16dbedd6",
   "metadata": {},
   "source": [
    "#### -------------------------- center() --------------------------"
   ]
  },
  {
   "cell_type": "code",
   "execution_count": 387,
   "id": "da72580a",
   "metadata": {},
   "outputs": [
    {
     "name": "stdout",
     "output_type": "stream",
     "text": [
      "After centered: ******Python is awesome*******\n"
     ]
    }
   ],
   "source": [
    "#--------------------center(width, fillchar)------------------------\n",
    "#The center() method returns a new centered string after padding it with the specified character.\n",
    "#If fillchar is not provided, whitespace is taken as the default argument.\n",
    "sentence = \"Python is awesome\"\n",
    "centered_sentence = sentence.center(30, '*')\n",
    "print('After centered:', centered_sentence)"
   ]
  },
  {
   "cell_type": "markdown",
   "id": "5a3601b6",
   "metadata": {},
   "source": [
    "#### ------------------------- casefold() ---------------------------\n",
    "    The casefold() method converts all characters of the string into lowercase letters and returns a new string. The casefold() method is similar to the lower() method but it is more aggressive. \n",
    "    \n",
    "    This means the casefold() method converts more characters into lower case compared to lower() . For example, the German letter ß is already lowercase so, the lower() method doesn't make the conversion. But the casefold() method will convert ß to its equivalent character ss."
   ]
  },
  {
   "cell_type": "code",
   "execution_count": 390,
   "id": "a47affde",
   "metadata": {},
   "outputs": [
    {
     "name": "stdout",
     "output_type": "stream",
     "text": [
      "After casefolded: python is awesome\n",
      "Using casefold: gross\n",
      "Using lower: groß\n"
     ]
    }
   ],
   "source": [
    "sentence = \"PyTHon IS awEsOme\"\n",
    "casefolded_sentence = sentence.casefold()\n",
    "print('After casefolded:', casefolded_sentence)\n",
    "\n",
    "\n",
    "sentence = \"groß\"\n",
    "casefolded_sentence = sentence.casefold()\n",
    "print('Using casefold:', casefolded_sentence)\n",
    "print('Using lower:', sentence.lower())"
   ]
  },
  {
   "cell_type": "markdown",
   "id": "a6f58d77",
   "metadata": {},
   "source": [
    "#### ------------------------------count()---------------------------------------"
   ]
  },
  {
   "cell_type": "code",
   "execution_count": 392,
   "id": "50ca8777",
   "metadata": {},
   "outputs": [
    {
     "name": "stdout",
     "output_type": "stream",
     "text": [
      "Number of occurrences of p: 4\n",
      "The count is: 1\n"
     ]
    }
   ],
   "source": [
    "#------------------------------count()---------------------------------------\n",
    "#The count() method returns the number of occurrences of a substring in the given string.\n",
    "#Syntax:  string.count(substring, start=..., end=...)\n",
    "\n",
    "message = 'python is popular programming language'\n",
    "print('Number of occurrences of p:', message.count('p'))\n",
    "\n",
    "\n",
    "string = \"Python is awesome, isn't it?\"\n",
    "substring = \"i\"\n",
    "# count after first 'i' and before the last 'i'\n",
    "count = string.count(substring, 8, 25)\n",
    "# print count\n",
    "print(\"The count is:\", count)"
   ]
  },
  {
   "cell_type": "markdown",
   "id": "0b8cc687",
   "metadata": {},
   "source": [
    "#### ----------------------------endswith(), startswith()----------------------------------"
   ]
  },
  {
   "cell_type": "code",
   "execution_count": 434,
   "id": "50199c0c",
   "metadata": {},
   "outputs": [
    {
     "name": "stdout",
     "output_type": "stream",
     "text": [
      "True\n",
      "False\n",
      "True\n",
      "True\n",
      "False\n",
      "False\n",
      "False\n",
      "True\n",
      "True\n",
      "False\n",
      "True\n",
      "True\n",
      "True\n",
      "False\n",
      "True\n",
      "True\n",
      "False\n",
      "False\n"
     ]
    }
   ],
   "source": [
    "#----------------------------endswith()----------------------------------\n",
    "#The endswith() method returns True if a string ends with the specified suffix. If not, it returns False.\n",
    "# Syntax: str.endswith(suffix[, start[, end]])\n",
    "#It's possible to pass a tuple suffix to the endswith() method in Python.\n",
    "#If the string ends with any item of the tuple, endswith() returns True. If not, it returns False\n",
    "\n",
    "#----------------------------startswith()----------------------------------\n",
    "#startswith() also work in the same manner but it checks the substring with the string prefix and returns True if present else False\n",
    "#Syntax: str.startswith(prefix[, start[, end]])\n",
    "#It's also possible to pass a tuple of prefixes to the startswith() method in Python.\n",
    "#If the string starts with any item of the tuple, startswith() returns True. If not, it returns False\n",
    "\n",
    "message = 'python is popular programming language'\n",
    "substring = \"language\"\n",
    "print(message.endswith(substring))\n",
    "\n",
    "\n",
    "text = \"Python is easy to learn.\"\n",
    "result = text.endswith('to learn')\n",
    "print(result) #False as . is missing\n",
    "result = text.endswith('to learn.')\n",
    "print(result)\n",
    "result = text.endswith('learn.', 7)\n",
    "print(result)\n",
    "result = text.endswith('is', 7, 26)\n",
    "print(result)\n",
    "result = text.endswith('easy', 7, 26)\n",
    "print(result)\n",
    "\n",
    "text = \"programming is easy\"\n",
    "result = text.endswith(('programming', 'python'))\n",
    "print(result)\n",
    "\n",
    "result = text.endswith(('python', 'easy', 'java'))\n",
    "print(result)\n",
    "\n",
    "message = 'Python is fun'\n",
    "\n",
    "\n",
    "# check if the message starts with Python\n",
    "print(message.startswith('Python'))\n",
    "\n",
    "text = \"Python is easy to learn.\"\n",
    "\n",
    "result = text.startswith('is easy')\n",
    "# returns False\n",
    "print(result)\n",
    "\n",
    "result = text.startswith('Python is ')\n",
    "# returns True\n",
    "print(result)\n",
    "\n",
    "result = text.startswith('Python is easy to learn.')\n",
    "# returns True\n",
    "print(result)\n",
    "\n",
    "text = \"Python programming is easy.\"\n",
    "\n",
    "# start parameter: 7\n",
    "# 'programming is easy.' string is searched\n",
    "result = text.startswith('programming is', 7)\n",
    "print(result)\n",
    "\n",
    "# start: 7, end: 18\n",
    "# 'programming' string is searched\n",
    "result = text.startswith('programming is', 7, 18)\n",
    "print(result)\n",
    "\n",
    "result = text.startswith('program', 7, 18)\n",
    "print(result)\n",
    "\n",
    "text = \"programming is easy\"\n",
    "result = text.startswith(('python', 'programming'))\n",
    "\n",
    "# prints True\n",
    "print(result)\n",
    "\n",
    "result = text.startswith(('is', 'easy', 'java'))\n",
    "\n",
    "# prints False\n",
    "print(result)\n",
    "\n",
    "# With start and end parameter\n",
    "# 'is easy' string is checked\n",
    "result = text.startswith(('programming', 'easy'), 12, 19)\n",
    "\n",
    "# prints False\n",
    "print(result)"
   ]
  },
  {
   "cell_type": "markdown",
   "id": "9dcd6c98",
   "metadata": {},
   "source": [
    "#### --------------------------------expandtabs()----------------------------------------"
   ]
  },
  {
   "cell_type": "code",
   "execution_count": 435,
   "id": "10710601",
   "metadata": {},
   "outputs": [
    {
     "name": "stdout",
     "output_type": "stream",
     "text": [
      "13\n",
      "xyz\t12345\tabc\n",
      "xyz     12345   abc\n",
      "19\n"
     ]
    }
   ],
   "source": [
    "#--------------------------------expandtabs()--------------------------\n",
    "#The expandtabs() method returns a copy of string with all tab characters '\\t' replaced with whitespace characters until the next multiple of tabsize parameter.\n",
    "#Syntax: string.expandtabs(tabsize)\n",
    "#The default tabsize is 8.\n",
    "\n",
    "str = 'xyz\\t12345\\tabc'\n",
    "print(len(str))\n",
    "print(str)\n",
    "expanded_tabs_str = str.expandtabs()\n",
    "print(expanded_tabs_str)\n",
    "print(len(expanded_tabs_str))\n",
    "\n",
    "#Working:\n",
    "#The expandtabs() method keeps track of the current cursor position. \n",
    "#The position of first '\\t' character in the above program is 3. And, the tabsize is 8 (if argument is not passed).\n",
    "#The expandtabs() character replaces the '\\t' with whitespace until the next tab stop. \n",
    "#i.e The position of '\\t' is 3 and the first tab stop is 8. Hence, the number of spaces after 'xyz' is 5.\n",
    "#The next tab stops are the multiples of tabsize. The next tab stops are 16, 24, 32 and so on.\n",
    "#Now, the position of second '\\t' character is 13(3+5+5)=>(xyz+5spaces+12345).\n",
    "#And, the next tab stop is 16. Hence, there are 3 spaces after '12345'."
   ]
  },
  {
   "cell_type": "code",
   "execution_count": 405,
   "id": "a6d052d5",
   "metadata": {},
   "outputs": [
    {
     "name": "stdout",
     "output_type": "stream",
     "text": [
      "Original: xyz\t12345\tabc\n",
      "Tabsize 2: xyz 12345 abc\n",
      "Tabsize 3: xyz   12345 abc\n",
      "Tabsize 4: xyz 12345   abc\n",
      "Tabsize 5: xyz  12345     abc\n",
      "Tabsize 6: xyz   12345 abc\n"
     ]
    }
   ],
   "source": [
    "#expand tabs with different tab sizes\n",
    "str = \"xyz\\t12345\\tabc\"\n",
    "print('Original:', str)\n",
    "\n",
    "# tabsize is set to 2\n",
    "print('Tabsize 2:', str.expandtabs(2))\n",
    "\n",
    "# tabsize is set to 3\n",
    "print('Tabsize 3:', str.expandtabs(3))\n",
    "\n",
    "# tabsize is set to 4\n",
    "print('Tabsize 4:', str.expandtabs(4))\n",
    "\n",
    "# tabsize is set to 5\n",
    "print('Tabsize 5:', str.expandtabs(5))\n",
    "\n",
    "# tabsize is set to 6\n",
    "print('Tabsize 6:', str.expandtabs(6))"
   ]
  },
  {
   "cell_type": "markdown",
   "id": "ed42ac20",
   "metadata": {},
   "source": [
    "#### Explanation: \n",
    "    The default tabsize is 8. The tab stops are 8, 16 and so on. Hence, there is 5 spaces after 'xyz' and 3 after '12345' when you print the original string.\n",
    "    When you set the tabsize to 2. The tab stops are 2, 4, 6, 8, 10 and so on. For 'xyz', the tab stop is 4, and for '12345', the tab stop is 10. Hence, there is 1 space after 'xyz' and 1 space after '12345'.\n",
    "    When you set the tabsize to 3. The tab stops are 3, 6, 9, 12 and so on. For 'xyz', the tab stop is 6, and for '12345', the tab stop is 12. Hence, there are 3 spaces after 'xyz' and 1 space after '12345'.\n",
    "    When you set the tabsize to 4. The tab stops are 4, 8, 12 and so on. For 'xyz', the tab stop is 4 and for '12345', the tab stop is 12. Hence, there is 1 space after 'xyz' and 3 spaces after '12345'.\n",
    "    When you set the tabsize to 5. The tab stops are 5, 10, 15 and so on. For 'xyz', the tab stop is 5 and for '12345', the tab stop is 15. Hence, there are 2 spaces after 'xyz' and 5 spaces after '12345'.\n",
    "    When you set the tabsize to 6. The tab stops are 6, 12, 18 and so on. For 'xyz', the tab stop is 6 and for '12345', the tab stop is 12. Hence, there are 3 spaces after 'xyz' and 1 space after '12345'."
   ]
  },
  {
   "cell_type": "markdown",
   "id": "7198e6cb",
   "metadata": {},
   "source": [
    "#### ---------------------------encode() -----------------------------\n",
    "    The encode() method returns an encoded version of the given string.\n",
    "    \n",
    "    The Unicode character encoding standard is a fixed-length, character encoding scheme that includes characters from almost all of the living languages of the world.\n",
    "    Since Python 3.0, strings are stored as Unicode, i.e. each character in the string is represented by a code point. So, each string is just a sequence of Unicode code points. For efficient storage of these strings, the sequence of code points is converted into a set of bytes. The process is known as encoding. There are various encodings present which treat a string differently. The popular encodings being utf-8, ascii, etc. \n",
    "\n",
    "    Using the string encode() method, you can convert unicode strings into any encodings supported by Python. By default, Python uses utf-8 encoding.\n",
    "    \n",
    "                        Syntax: string.encode(encoding='UTF-8',errors='strict')\n",
    "    \n",
    "    By default, the encode() method doesn't require any parameters. It returns an utf-8 encoded version of the string. In case of failure, it raises a UnicodeDecodeError exception.\n",
    "\n",
    "    However, it takes two parameters:\n",
    "\n",
    "        encoding - the encoding type a string has to be encoded to\n",
    "        errors - response when encoding fails. There are six types of error response\n",
    "            strict - default response which raises a UnicodeDecodeError exception on failure\n",
    "            ignore - ignores the unencodable unicode from the result\n",
    "            replace - replaces the unencodable unicode to a question mark ?\n",
    "            xmlcharrefreplace - inserts XML character reference instead of unencodable unicode\n",
    "            backslashreplace - inserts a \\uNNNN escape sequence instead of unencodable unicode\n",
    "            namereplace - inserts a \\N{...} escape sequence instead of unencodable unicode\n",
    "            \n",
    "            Note: https://medium.com/@apiltamang/unicode-utf-8-and-ascii-encodings-made-easy-5bfbe3a1c45a\n",
    "            "
   ]
  },
  {
   "cell_type": "code",
   "execution_count": 408,
   "id": "7fae22ec",
   "metadata": {},
   "outputs": [
    {
     "name": "stdout",
     "output_type": "stream",
     "text": [
      "Original string: Hey this is string to be encoded\n",
      "Encoded string: b'Hey this is string to be encoded'\n"
     ]
    }
   ],
   "source": [
    "my_str = \"Hey this is string to be encoded\"\n",
    "encoded_string = my_str.encode()\n",
    "print(\"Original string:\", my_str)\n",
    "print(\"Encoded string:\", encoded_string)"
   ]
  },
  {
   "cell_type": "code",
   "execution_count": 409,
   "id": "3acdf85b",
   "metadata": {},
   "outputs": [
    {
     "name": "stdout",
     "output_type": "stream",
     "text": [
      "Original string is: pythön!\n",
      "The encoded version is: b'pyth\\xc3\\xb6n!'\n"
     ]
    }
   ],
   "source": [
    "# unicode string\n",
    "string = 'pythön!'\n",
    "print('Original string is:', string)\n",
    "\n",
    "# default encoding to utf-8\n",
    "string_utf = string.encode()\n",
    "print('The encoded version is:', string_utf)\n",
    "\n",
    "\n",
    "#The German characters are here encoded as utf-8 encodings.\n",
    "#If you want to see the umlauts etc in the interpreter then you can decode to str\n",
    "\n"
   ]
  },
  {
   "cell_type": "code",
   "execution_count": 436,
   "id": "d7c2da9e",
   "metadata": {},
   "outputs": [
    {
     "name": "stdout",
     "output_type": "stream",
     "text": [
      "pythön!\n",
      "b'spannkr \\xc3\\xa4ftig, da\\xc3\\x9f unser'\n",
      "spannkr äftig, daß unser\n"
     ]
    }
   ],
   "source": [
    "#decode of utf-8 encoded string\n",
    "bs = b'pyth\\xc3\\xb6n!'\n",
    "s = bs.decode('utf-8')\n",
    "print(s) #prints pythön\n",
    "\n",
    "#If we are are dealing with a str that somehow contains utf-8 encoded data. In that case we need to perform an extra step:\n",
    "s = 'spannkr \\xc3\\xa4ftig, da\\xc3\\x9f unser'\n",
    "bs = s.encode('raw-unicode-escape')  # encode to bytes without double-encoding\n",
    "print(bs) #prints the encoded data as bytes\n",
    "#decoding \n",
    "decoded = bs.decode('utf-8')\n",
    "print(decoded)"
   ]
  },
  {
   "cell_type": "code",
   "execution_count": 410,
   "id": "daf81b47",
   "metadata": {},
   "outputs": [
    {
     "name": "stdout",
     "output_type": "stream",
     "text": [
      "The string is: pythön!\n",
      "The encoded version (with ignore) is: b'pythn!'\n",
      "The encoded version (with replace) is: b'pyth?n!'\n"
     ]
    }
   ],
   "source": [
    "#Encoding with error parameter\n",
    "string = 'pythön!'\n",
    "print('The string is:', string)\n",
    "\n",
    "# ignore error\n",
    "print('The encoded version (with ignore) is:', string.encode(\"ascii\", \"ignore\"))\n",
    "#ascii encoding couldn't encode the german characters\n",
    "\n",
    "# replace error\n",
    "print('The encoded version (with replace) is:', string.encode(\"ascii\", \"replace\"))"
   ]
  },
  {
   "cell_type": "markdown",
   "id": "009bac5a",
   "metadata": {},
   "source": [
    "#### ----------------------- find() and rfind() ---------------------------------------\n",
    "    \n",
    "    The find() method returns the index of first occurrence of the substring (if found). If not found, it returns -1. \n",
    "    \n",
    "    The rfind() gives the index of the substring from the right of the string. i.e it returns the highest index of the substring (if found). If not found, it returns -1.\n",
    "\n",
    "\n",
    "            Syntax: str.find(sub[, start[, end]] )\n",
    "                    str.rfind(sub[, start[, end]] )\n",
    "    \n",
    "    The find() method returns an integer value:\n",
    "             If the substring exists inside the string, it returns the index of the first occurence of the substring.\n",
    "             If a substring doesn't exist inside the string, it returns -1."
   ]
  },
  {
   "cell_type": "code",
   "execution_count": 411,
   "id": "c4ce0ac8",
   "metadata": {},
   "outputs": [
    {
     "name": "stdout",
     "output_type": "stream",
     "text": [
      "12\n"
     ]
    }
   ],
   "source": [
    "message = 'Python is a fun programming language'\n",
    "print(message.find('fun'))"
   ]
  },
  {
   "cell_type": "code",
   "execution_count": 413,
   "id": "e018826d",
   "metadata": {},
   "outputs": [
    {
     "name": "stdout",
     "output_type": "stream",
     "text": [
      "4\n",
      "14\n",
      "-1\n"
     ]
    }
   ],
   "source": [
    "message = 'let it be let it be'\n",
    "print(message.find('it'))\n",
    "print(message.rfind('it'))\n",
    "print(message.find('python'))"
   ]
  },
  {
   "cell_type": "code",
   "execution_count": 492,
   "id": "5a61bd5c",
   "metadata": {},
   "outputs": [
    {
     "name": "stdout",
     "output_type": "stream",
     "text": [
      "Substring 'let it': 22\n",
      "Substring 'small ': -1\n",
      "Highest index where 'be,' occurs: 18\n",
      "-1\n",
      "25\n",
      "-1\n",
      "18\n"
     ]
    }
   ],
   "source": [
    "quote = 'Let it be, let it be, let it be'\n",
    "\n",
    "result = quote.rfind('let it')\n",
    "print(\"Substring 'let it':\", result)\n",
    "\n",
    "result = quote.rfind('small')\n",
    "print(\"Substring 'small ':\", result)\n",
    "\n",
    "result = quote.rfind('be,')\n",
    "if  (result != -1):\n",
    "    print(\"Highest index where 'be,' occurs:\", result)\n",
    "else:\n",
    "    print(\"Doesn't contain substring\")\n",
    "\n",
    "quote = 'Do small things with great love'\n",
    "\n",
    "# Substring is searched in 'hings with great love'\n",
    "print(quote.rfind('things', 10))\n",
    "\n",
    "# Substring is searched in ' small things with great love' \n",
    "print(quote.rfind('t', 2))\n",
    "\n",
    "# Substring is searched in 'hings with great lov'\n",
    "print(quote.rfind('o small ', 10, -1))\n",
    "\n",
    "# Substring is searched in 'll things with'\n",
    "print(quote.rfind('th', 6, 20))"
   ]
  },
  {
   "cell_type": "markdown",
   "id": "cd93c7c9",
   "metadata": {},
   "source": [
    "#### ---------------------------------- format ----------------------------------------"
   ]
  },
  {
   "cell_type": "code",
   "execution_count": 428,
   "id": "68ba5a47",
   "metadata": {},
   "outputs": [
    {
     "name": "stdout",
     "output_type": "stream",
     "text": [
      "Hello Adam, your balance is 230.2346.\n",
      "Hello Adam, your balance is   230.235.\n",
      "Hello Adam, your balance is 230.2346.\n",
      "Hello Adam, your balance is 230.2346.\n",
      "The number is:123\n",
      "The float number is:123.456790\n",
      "bin: 1100, oct: 14, hex: c\n",
      "percentage: 100.000000%\n",
      "   12\n",
      "1234\n",
      "  12.235\n",
      "00012\n",
      "0012.235\n",
      "+12.230000 -12.230000\n",
      "12.230000 -12.230000\n",
      " 12.230000 -12.230000\n",
      "   12\n",
      "  12.235  \n",
      "12000\n",
      "- 12.235\n",
      "cat  \n",
      "  cat\n",
      " cat \n",
      "*cat*\n",
      "cat\n",
      "cat  \n",
      " cat \n",
      "Adam's age is: 23\n",
      "Adam's age is: 23\n",
      "Adam's age is: 23\n"
     ]
    }
   ],
   "source": [
    "# default arguments\n",
    "print(\"Hello {}, your balance is {}.\".format(\"Adam\", 230.2346))#Adam 230.2346\n",
    "\n",
    "# positional arguments\n",
    "print(\"Hello {0}, your balance is {1:9.3f}.\".format(\"Adam\", 230.2346)) #Adam 230.235\n",
    "\n",
    "#The part before the \".\" (9) specifies the minimum width/padding the number (230.2346) can take. \n",
    "#In this case, 230.2346 is allotted a minimum of 9 places including the \".\".\n",
    "#If no alignment option is specified, it is aligned to the right of the remaining spaces. \n",
    "#(For strings, it is aligned to the left.)\n",
    "#The part after the \".\" (3) truncates the decimal part (2346) upto the given number. In this case, 2346 is truncated after 3 places.\n",
    "#Remaining numbers (46 in .2346) is rounded off outputting .235.\n",
    "\n",
    "# keyword arguments\n",
    "print(\"Hello {name}, your balance is {blc}.\".format(name=\"Adam\", blc=230.2346)) #Adam 230.2346\n",
    "\n",
    "# mixed arguments\n",
    "print(\"Hello {0}, your balance is {blc}.\".format(\"Adam\", blc=230.2346)) #Adam 230.2346\n",
    "\n",
    "# integer arguments\n",
    "print(\"The number is: {:d}\".format(123)) #123\n",
    "\n",
    "# float arguments\n",
    "print(\"The float number is:{:f}\".format(123.4567898)) # 123.456790\n",
    "\n",
    "# octal, binary and hexadecimal format\n",
    "print(\"bin: {0:b}, oct: {0:o}, hex: {0:x}\".format(12)) #bin: 1100, oct: 14, hex: c\n",
    "\n",
    "# percentage format\n",
    "print(\"percentage: {:%}\".format(1)) #Percentage. Multiples by 100 and puts % at the end. output 100.000000%\n",
    "\n",
    "\n",
    "#Number formatting with padding for int and floats\n",
    "# integer numbers with minimum width\n",
    "print(\"{:5d}\".format(12))  #   12\n",
    "\n",
    "# width doesn't work for numbers longer than padding\n",
    "print(\"{:2d}\".format(1234))  #1234\n",
    "\n",
    "# padding for float numbers\n",
    "print(\"{:8.3f}\".format(12.2346)) #  12.235\n",
    "\n",
    "# integer numbers with minimum width filled with zeros\n",
    "print(\"{:05d}\".format(12)) #00012\n",
    "\n",
    "# padding for float numbers filled with zeros\n",
    "print(\"{:08.3f}\".format(12.2346)) #0012.235\n",
    "\n",
    "#Number formatting for signed numbers\n",
    "# show the + sign\n",
    "print(\"{:+f} {:+f}\".format(12.23, -12.23)) #+12.230000 -12.230000\n",
    "\n",
    "# show the - sign only\n",
    "print(\"{:-f} {:-f}\".format(12.23, -12.23)) #12.230000 -12.230000\n",
    "\n",
    "# show space for + sign\n",
    "print(\"{: f} {: f}\".format(12.23, -12.23)) # 12.230000 -12.230000\n",
    "\n",
    "\n",
    "#Number formatting with left, right and center alignment\n",
    "# integer numbers with right alignment - right aligned to the remaining space\n",
    "print(\"{:>5d}\".format(12)) #default - right aligned >      o/p:    12\n",
    "#Here :>5d =~ :5d\n",
    "\n",
    "# float numbers with center alignment - Center aligned to the remaining space ^\n",
    "print(\"{:^10.3f}\".format(12.2346)) #o/p:   12.235  \n",
    "\n",
    "# integer left alignment filled with zeros - left aligned to the remaining space\n",
    "print(\"{:<05d}\".format(12)) #o/p:12000\n",
    "\n",
    "# float numbers with center alignment\n",
    "print(\"{:=8.3f}\".format(-12.2346)) #here = Forces the signed (+) (-) to the leftmost position. o/p: - 12.235\n",
    "\n",
    "\n",
    "#String formatting with padding and alignment\n",
    "# string padding with left alignment\n",
    "print(\"{:5}\".format(\"cat\")) #cat  \n",
    "\n",
    "# string padding with right alignment\n",
    "print(\"{:>5}\".format(\"cat\")) #  cat\n",
    "\n",
    "# string padding with center alignment\n",
    "print(\"{:^5}\".format(\"cat\")) # cat \n",
    "\n",
    "# string padding with center alignment\n",
    "# and '*' padding character\n",
    "print(\"{:*^5}\".format(\"cat\")) #*cat*\n",
    "\n",
    "#Truncating strings with format()\n",
    "# truncating strings to 3 letters\n",
    "print(\"{:.3}\".format(\"caterpillar\")) #cat\n",
    "\n",
    "# truncating strings to 3 letters\n",
    "# and padding\n",
    "print(\"{:5.3}\".format(\"caterpillar\")) #cat  \n",
    "\n",
    "# truncating strings to 3 letters,\n",
    "# padding and center alignment\n",
    "print(\"{:^5.3}\".format(\"caterpillar\")) # cat \n",
    "\n",
    "#Formatting class members using format()\n",
    "# define Person class\n",
    "class Person:\n",
    "    age = 23\n",
    "    name = \"Adam\"\n",
    "\n",
    "# format age\n",
    "print(\"{p.name}'s age is: {p.age}\".format(p=Person())) #Adam's age is: 23\n",
    "\n",
    "#Formatting dictionary members using format()\n",
    "# define Person dictionary\n",
    "person = {'age': 23, 'name': 'Adam'}\n",
    "\n",
    "# format age\n",
    "print(\"{p[name]}'s age is: {p[age]}\".format(p=person)) #Adam's age is: 23\n",
    "\n",
    "#here's an easier way to format dictionaries in Python using str.format(**mapping).\n",
    "# define Person dictionary\n",
    "person = {'age': 23, 'name': 'Adam'}\n",
    "\n",
    "# format age\n",
    "print(\"{name}'s age is: {age}\".format(**person)) #using arbitrary keyword unpacking #Adam's age is: 23"
   ]
  },
  {
   "cell_type": "code",
   "execution_count": 429,
   "id": "6c4b4d0a",
   "metadata": {},
   "outputs": [
    {
     "name": "stdout",
     "output_type": "stream",
     "text": [
      "*cat*\n",
      "123.24  \n"
     ]
    }
   ],
   "source": [
    "#Arguments as format codes using format()\n",
    "#You can also pass format codes like precision, alignment, fill character as positional or keyword arguments dynamically.\n",
    "#Dynamic formatting using format()\n",
    "\n",
    "# dynamic string format template\n",
    "string = \"{:{fill}{align}{width}}\"\n",
    "\n",
    "# passing format codes as arguments\n",
    "print(string.format('cat', fill='*', align='^', width=5))\n",
    "\n",
    "# dynamic float format template\n",
    "num = \"{:{align}{width}.{precision}f}\"\n",
    "\n",
    "# passing format codes as arguments\n",
    "print(num.format(123.236, align='<', width=8, precision=2))"
   ]
  },
  {
   "cell_type": "code",
   "execution_count": 430,
   "id": "105828cf",
   "metadata": {},
   "outputs": [
    {
     "name": "stdout",
     "output_type": "stream",
     "text": [
      "It's now: 2023/03/07 18:39:32\n",
      "Real part: 1.0 and Imaginary part: 2.0\n",
      "Adam's age is: 23\n"
     ]
    }
   ],
   "source": [
    "#Type-specific formatting with format() and overriding __format__() method\n",
    "\n",
    "import datetime\n",
    "\n",
    "# datetime formatting\n",
    "date = datetime.datetime.now()\n",
    "print(\"It's now: {:%Y/%m/%d %H:%M:%S}\".format(date))\n",
    "\n",
    "# complex number formatting\n",
    "complexNumber = 1+2j\n",
    "print(\"Real part: {0.real} and Imaginary part: {0.imag}\".format(complexNumber))\n",
    "\n",
    "# custom __format__() method\n",
    "class Person:\n",
    "    def __format__(self, format):\n",
    "        if(format == 'age'):\n",
    "            return '23'\n",
    "        return 'None'\n",
    "\n",
    "print(\"Adam's age is: {:age}\".format(Person()))"
   ]
  },
  {
   "cell_type": "markdown",
   "id": "06488904",
   "metadata": {},
   "source": [
    "#### -----------------------index() and rindex()----------------------------------\n",
    "    index() method returns the index of a substring inside the string (if found). If the substring is not found, it raises an exception. \n",
    "    The rindex() method returns the highest index of the substring inside the string (if found) i.e index from the right of the string. If the substring is not found, it raises an exception.\n",
    "\n",
    "        Syntax: str.index(sub[, start[, end]] )\n",
    "                str.rindex(sub[, start[, end]] )\n",
    "        \n",
    "     The index() method is similar to the find() method for strings. The only difference is that find() or rfind() method returns -1 if the substring is not found, whereas index() or rindex() throws an exception."
   ]
  },
  {
   "cell_type": "code",
   "execution_count": 431,
   "id": "72681aaa",
   "metadata": {},
   "outputs": [
    {
     "name": "stdout",
     "output_type": "stream",
     "text": [
      "7\n"
     ]
    }
   ],
   "source": [
    "text = 'Python is fun'\n",
    "result = text.index('is')\n",
    "print(result)"
   ]
  },
  {
   "cell_type": "code",
   "execution_count": 432,
   "id": "683e552a",
   "metadata": {
    "collapsed": true
   },
   "outputs": [
    {
     "name": "stdout",
     "output_type": "stream",
     "text": [
      "Substring 'is fun': 19\n"
     ]
    },
    {
     "ename": "ValueError",
     "evalue": "substring not found",
     "output_type": "error",
     "traceback": [
      "\u001b[1;31m---------------------------------------------------------------------------\u001b[0m",
      "\u001b[1;31mValueError\u001b[0m                                Traceback (most recent call last)",
      "Input \u001b[1;32mIn [432]\u001b[0m, in \u001b[0;36m<cell line: 6>\u001b[1;34m()\u001b[0m\n\u001b[0;32m      3\u001b[0m result \u001b[38;5;241m=\u001b[39m sentence\u001b[38;5;241m.\u001b[39mindex(\u001b[38;5;124m'\u001b[39m\u001b[38;5;124mis fun\u001b[39m\u001b[38;5;124m'\u001b[39m)\n\u001b[0;32m      4\u001b[0m \u001b[38;5;28mprint\u001b[39m(\u001b[38;5;124m\"\u001b[39m\u001b[38;5;124mSubstring \u001b[39m\u001b[38;5;124m'\u001b[39m\u001b[38;5;124mis fun\u001b[39m\u001b[38;5;124m'\u001b[39m\u001b[38;5;124m:\u001b[39m\u001b[38;5;124m\"\u001b[39m, result)\n\u001b[1;32m----> 6\u001b[0m result \u001b[38;5;241m=\u001b[39m \u001b[43msentence\u001b[49m\u001b[38;5;241;43m.\u001b[39;49m\u001b[43mindex\u001b[49m\u001b[43m(\u001b[49m\u001b[38;5;124;43m'\u001b[39;49m\u001b[38;5;124;43mJava\u001b[39;49m\u001b[38;5;124;43m'\u001b[39;49m\u001b[43m)\u001b[49m\n\u001b[0;32m      7\u001b[0m \u001b[38;5;28mprint\u001b[39m(\u001b[38;5;124m\"\u001b[39m\u001b[38;5;124mSubstring \u001b[39m\u001b[38;5;124m'\u001b[39m\u001b[38;5;124mJava\u001b[39m\u001b[38;5;124m'\u001b[39m\u001b[38;5;124m:\u001b[39m\u001b[38;5;124m\"\u001b[39m, result)\n",
      "\u001b[1;31mValueError\u001b[0m: substring not found"
     ]
    }
   ],
   "source": [
    "sentence = 'Python programming is fun.'\n",
    "\n",
    "result = sentence.index('is fun')\n",
    "print(\"Substring 'is fun':\", result)\n",
    "\n",
    "result = sentence.index('Java')\n",
    "print(\"Substring 'Java':\", result)"
   ]
  },
  {
   "cell_type": "code",
   "execution_count": 493,
   "id": "1caae86f",
   "metadata": {},
   "outputs": [
    {
     "name": "stdout",
     "output_type": "stream",
     "text": [
      "Substring 'let it': 22\n"
     ]
    },
    {
     "ename": "ValueError",
     "evalue": "substring not found",
     "output_type": "error",
     "traceback": [
      "\u001b[1;31m---------------------------------------------------------------------------\u001b[0m",
      "\u001b[1;31mValueError\u001b[0m                                Traceback (most recent call last)",
      "Input \u001b[1;32mIn [493]\u001b[0m, in \u001b[0;36m<cell line: 6>\u001b[1;34m()\u001b[0m\n\u001b[0;32m      3\u001b[0m result \u001b[38;5;241m=\u001b[39m quote\u001b[38;5;241m.\u001b[39mrindex(\u001b[38;5;124m'\u001b[39m\u001b[38;5;124mlet it\u001b[39m\u001b[38;5;124m'\u001b[39m)\n\u001b[0;32m      4\u001b[0m \u001b[38;5;28mprint\u001b[39m(\u001b[38;5;124m\"\u001b[39m\u001b[38;5;124mSubstring \u001b[39m\u001b[38;5;124m'\u001b[39m\u001b[38;5;124mlet it\u001b[39m\u001b[38;5;124m'\u001b[39m\u001b[38;5;124m:\u001b[39m\u001b[38;5;124m\"\u001b[39m, result)\n\u001b[1;32m----> 6\u001b[0m result \u001b[38;5;241m=\u001b[39m \u001b[43mquote\u001b[49m\u001b[38;5;241;43m.\u001b[39;49m\u001b[43mrindex\u001b[49m\u001b[43m(\u001b[49m\u001b[38;5;124;43m'\u001b[39;49m\u001b[38;5;124;43msmall\u001b[39;49m\u001b[38;5;124;43m'\u001b[39;49m\u001b[43m)\u001b[49m\n\u001b[0;32m      7\u001b[0m \u001b[38;5;28mprint\u001b[39m(\u001b[38;5;124m\"\u001b[39m\u001b[38;5;124mSubstring \u001b[39m\u001b[38;5;124m'\u001b[39m\u001b[38;5;124msmall \u001b[39m\u001b[38;5;124m'\u001b[39m\u001b[38;5;124m:\u001b[39m\u001b[38;5;124m\"\u001b[39m, result)\n",
      "\u001b[1;31mValueError\u001b[0m: substring not found"
     ]
    }
   ],
   "source": [
    "quote = 'Let it be, let it be, let it be'\n",
    "\n",
    "result = quote.rindex('let it')\n",
    "print(\"Substring 'let it':\", result)\n",
    "  \n",
    "result = quote.rindex('small')\n",
    "print(\"Substring 'small ':\", result)"
   ]
  },
  {
   "cell_type": "code",
   "execution_count": 494,
   "id": "c47ca9d8",
   "metadata": {},
   "outputs": [
    {
     "name": "stdout",
     "output_type": "stream",
     "text": [
      "25\n",
      "18\n"
     ]
    },
    {
     "ename": "ValueError",
     "evalue": "substring not found",
     "output_type": "error",
     "traceback": [
      "\u001b[1;31m---------------------------------------------------------------------------\u001b[0m",
      "\u001b[1;31mValueError\u001b[0m                                Traceback (most recent call last)",
      "Input \u001b[1;32mIn [494]\u001b[0m, in \u001b[0;36m<cell line: 10>\u001b[1;34m()\u001b[0m\n\u001b[0;32m      7\u001b[0m \u001b[38;5;28mprint\u001b[39m(quote\u001b[38;5;241m.\u001b[39mrindex(\u001b[38;5;124m'\u001b[39m\u001b[38;5;124mth\u001b[39m\u001b[38;5;124m'\u001b[39m, \u001b[38;5;241m6\u001b[39m, \u001b[38;5;241m20\u001b[39m))\n\u001b[0;32m      9\u001b[0m \u001b[38;5;66;03m# Substring is searched in 'hings with great lov'\u001b[39;00m\n\u001b[1;32m---> 10\u001b[0m \u001b[38;5;28mprint\u001b[39m(\u001b[43mquote\u001b[49m\u001b[38;5;241;43m.\u001b[39;49m\u001b[43mrindex\u001b[49m\u001b[43m(\u001b[49m\u001b[38;5;124;43m'\u001b[39;49m\u001b[38;5;124;43mo small \u001b[39;49m\u001b[38;5;124;43m'\u001b[39;49m\u001b[43m,\u001b[49m\u001b[43m \u001b[49m\u001b[38;5;241;43m10\u001b[39;49m\u001b[43m,\u001b[49m\u001b[43m \u001b[49m\u001b[38;5;241;43m-\u001b[39;49m\u001b[38;5;241;43m1\u001b[39;49m\u001b[43m)\u001b[49m)\n",
      "\u001b[1;31mValueError\u001b[0m: substring not found"
     ]
    }
   ],
   "source": [
    "quote = 'Do small things with great love'\n",
    "\n",
    "# Substring is searched in ' small things with great love' \n",
    "print(quote.rindex('t', 2))\n",
    "\n",
    "# Substring is searched in 'll things with'\n",
    "print(quote.rindex('th', 6, 20))\n",
    "\n",
    "# Substring is searched in 'hings with great lov'\n",
    "print(quote.rindex('o small ', 10, -1))"
   ]
  },
  {
   "cell_type": "markdown",
   "id": "430865d3",
   "metadata": {},
   "source": [
    "#### --------------------------- isalnum() -------------------------------------\n",
    "    The isalnum() method returns True if all characters in the string are alphanumeric (either alphabet or numbers). If not, it returns False."
   ]
  },
  {
   "cell_type": "code",
   "execution_count": 433,
   "id": "3fac6336",
   "metadata": {},
   "outputs": [
    {
     "name": "stdout",
     "output_type": "stream",
     "text": [
      "True\n",
      "False\n"
     ]
    }
   ],
   "source": [
    "# string contains either alphabet or number \n",
    "name1 = \"Python3\"\n",
    "\n",
    "print(name1.isalnum())\n",
    "\n",
    "# string contains whitespace\n",
    "name2 = \"Python 3\"\n",
    "\n",
    "print(name2.isalnum())"
   ]
  },
  {
   "cell_type": "code",
   "execution_count": 434,
   "id": "09c1047b",
   "metadata": {},
   "outputs": [
    {
     "name": "stdout",
     "output_type": "stream",
     "text": [
      "True\n",
      "False\n",
      "False\n"
     ]
    }
   ],
   "source": [
    "# contains either numeric or alphabet\n",
    "string1 = \"M234onica\"\n",
    "\n",
    "print(string1.isalnum())\n",
    "\n",
    "# contains whitespace\n",
    "string2 = \"M3onica Gell22er\"\n",
    "\n",
    "print(string2.isalnum())\n",
    "\n",
    "# contains non-alphanumeric character \n",
    "string3 = \"@Monica!\"\n",
    "\n",
    "print(string3.isalnum())"
   ]
  },
  {
   "cell_type": "code",
   "execution_count": 435,
   "id": "a855a4ac",
   "metadata": {},
   "outputs": [
    {
     "name": "stdout",
     "output_type": "stream",
     "text": [
      "All characters are not alphanumeric.\n"
     ]
    }
   ],
   "source": [
    "text = \"Python#Programming123\"\n",
    "\n",
    "# checks if all the characters are alphanumeric \n",
    "if text.isalnum() == True:\n",
    "    print(\"All characters of string are alphanumeric.\")\n",
    "else:\n",
    "    print(\"All characters are not alphanumeric.\")"
   ]
  },
  {
   "cell_type": "markdown",
   "id": "5c08eace",
   "metadata": {},
   "source": [
    "#### ------------------------------ isalpha() -------------------------------------------\n",
    "    The isalpha() method returns True if all characters in the string are alphabet. If not, it returns False."
   ]
  },
  {
   "cell_type": "code",
   "execution_count": 437,
   "id": "b663310c",
   "metadata": {},
   "outputs": [
    {
     "name": "stdout",
     "output_type": "stream",
     "text": [
      "True\n",
      "False\n",
      "False\n",
      "All characters are alphabet\n"
     ]
    }
   ],
   "source": [
    "name = \"Monica\"\n",
    "print(name.isalpha())\n",
    "\n",
    "# contains whitespace\n",
    "name = \"Monica Geller\"\n",
    "print(name.isalpha())\n",
    "\n",
    "# contains number\n",
    "name = \"Mo3nicaGell22er\"\n",
    "print(name.isalpha())\n",
    "\n",
    "name = \"MonicaGeller\"\n",
    "\n",
    "if name.isalpha() == True:\n",
    "   print(\"All characters are alphabet\")\n",
    "else:\n",
    "    print(\"All characters are not alphabet\")"
   ]
  },
  {
   "cell_type": "markdown",
   "id": "84cb8ff1",
   "metadata": {},
   "source": [
    "#### ------------------------------------- isdecimal(), isdigit(), isnumeric() --------------------------------------\n",
    "    The isdecimal() method returns True if all characters in a string are decimal characters. If not, it returns False.\n",
    "    The isdigit() method returns True if all characters in a string are digits. If not, it returns False."
   ]
  },
  {
   "cell_type": "code",
   "execution_count": 438,
   "id": "485304b9",
   "metadata": {},
   "outputs": [
    {
     "name": "stdout",
     "output_type": "stream",
     "text": [
      "True\n",
      "False\n",
      "False\n"
     ]
    }
   ],
   "source": [
    "s = \"28212\"\n",
    "print(s.isdecimal())\n",
    "\n",
    "# contains alphabets\n",
    "s = \"32ladk3\"\n",
    "print(s.isdecimal())\n",
    "\n",
    "# contains alphabets and spaces\n",
    "s = \"Mo3 nicaG el l22er\"\n",
    "print(s.isdecimal())"
   ]
  },
  {
   "cell_type": "code",
   "execution_count": 439,
   "id": "8e1372e6",
   "metadata": {},
   "outputs": [
    {
     "name": "stdout",
     "output_type": "stream",
     "text": [
      "True\n",
      "False\n",
      "False\n"
     ]
    }
   ],
   "source": [
    "s = '23455'\n",
    "print(s.isdecimal())\n",
    "\n",
    "#s = '²3455' superscript\n",
    "s = '\\u00B23455'\n",
    "print(s.isdecimal())\n",
    "\n",
    "# s = '½' subscript\n",
    "s = '\\u00BD'\n",
    "print(s.isdecimal())\n",
    "\n",
    "#Observation:\n",
    "#The superscript and subscripts are considered digit characters but not decimals.\n",
    "#If the string contains these characters (usually written using unicode), isdecimal() returns False.\n",
    "#Similarly, roman numerals, currency numerators and fractions are considered numeric numbers (usually written using unicode) but not decimals.\n",
    "#The isdecimal() also returns False in this case.\n",
    "#There are two methods isdigit() and isnumeric() that checks whether the string contains digit characters and numeric characters respectively."
   ]
  },
  {
   "cell_type": "code",
   "execution_count": 441,
   "id": "e9c567bf",
   "metadata": {},
   "outputs": [
    {
     "name": "stdout",
     "output_type": "stream",
     "text": [
      "True\n",
      "False\n",
      "True\n",
      "False\n",
      "True\n",
      "True\n",
      "False\n"
     ]
    }
   ],
   "source": [
    "str1 = '342'\n",
    "print(str1.isdigit())\n",
    "\n",
    "str2 = 'python'\n",
    "print(str2.isdigit())\n",
    "\n",
    "s = \"28212\"\n",
    "print(s.isdigit())\n",
    "\n",
    "# contains alphabets and spaces\n",
    "s = \"Mo3 nicaG el l22er\"\n",
    "print(s.isdigit())\n",
    "\n",
    "s = '23455'\n",
    "print(s.isdigit())\n",
    "\n",
    "#s = '²3455'\n",
    "# subscript is a digit\n",
    "s = '\\u00B23455'\n",
    "print(s.isdigit())\n",
    "\n",
    "# s = '½'\n",
    "# fraction is not a digit\n",
    "s = '\\u00BD'\n",
    "print(s.isdigit())"
   ]
  },
  {
   "cell_type": "markdown",
   "id": "ce47df65",
   "metadata": {},
   "source": [
    "\n",
    "    str.isdigit return true if all characters in the string are digits and there is at least one character, false otherwise. Digits include decimal characters and digits that need special handling, such as the compatibility superscript digits. This covers digits which cannot be used to form numbers in base 10, like the Kharosthi numbers.\n",
    "    \n",
    "    Formally, a digit is a character that has property value:\n",
    "            Numeric_Type = Digit\n",
    "            Numeric_Type = Decimal\n",
    "\n",
    "    To check whether a character is a numeric character or not, you can use isnumeric() method. \n",
    "    \n",
    "    Numeric characters include digit characters, and all characters that have the Unicode numeric value property, e.g. U+2155, VULGAR FRACTION ONE FIFTH. Formally, numeric characters are those with the property value Numeric_Type=Digit, Numeric_Type=Decimal or Numeric_Type=Numeric\n",
    "    \n",
    "    str.isdecimal return true if all characters in the string are decimal characters and there is at least one character, false otherwise. Decimal characters are those that can be used to form numbers in base 10, e.g. U+0660, ARABIC-INDIC DIGIT ZERO. Formally a decimal character is a character in the Unicode General Category “Nd”.\n",
    "    \n",
    "    In Python, superscript and subscripts (usually written using unicode) are also considered digit characters. Hence, if the string contains these characters along with decimal characters, isdigit() returns True. The roman numerals, currency numerators and fractions (usually written using unicode) are considered numeric characters but not digits. The isdigit() returns False if the string contains these characters."
   ]
  },
  {
   "cell_type": "code",
   "execution_count": 448,
   "id": "096b8a13",
   "metadata": {},
   "outputs": [
    {
     "name": "stdout",
     "output_type": "stream",
     "text": [
      "True\n",
      "True\n",
      "False\n",
      "True\n",
      "True\n"
     ]
    }
   ],
   "source": [
    "#The isnumeric() method checks if all the characters in the string are numeric.\n",
    "pin = \"523\"\n",
    "\n",
    "# checks if every character of pin is numeric \n",
    "print(pin.isnumeric())\n",
    "\n",
    "string1 = \"012345\"\n",
    "\n",
    "# returns True as symbol_number has all numeric characters  \n",
    "print(string1.isnumeric()) \n",
    "\n",
    "string2 = \"Python3\"\n",
    "\n",
    "# returns False as every character of text is not numeric \n",
    "print(string2.isnumeric())\n",
    "\n",
    "# string with superscript \n",
    "superscript_string = '²3455'\n",
    "print(superscript_string.isnumeric())\n",
    "\n",
    "# string with fraction value \n",
    "fraction_string = '½123'\n",
    "print(fraction_string.isnumeric())"
   ]
  },
  {
   "cell_type": "markdown",
   "id": "8309bd0d",
   "metadata": {},
   "source": [
    "#### ---------------------------------------- isidentifier() ---------------------------------------\n",
    "    The isidentifier() method returns True if the string is a valid identifier in Python. If not, it returns False.\n",
    "    \n",
    "    Note: Identifiers (also referred to as names) are described by the following lexical definitions. The valid characters for identifiers are the uppercase and lowercase letters A through Z, the underscore _ and, except for the first character, the digits 0 through 9."
   ]
  },
  {
   "cell_type": "code",
   "execution_count": 442,
   "id": "cff7b9ad",
   "metadata": {},
   "outputs": [
    {
     "name": "stdout",
     "output_type": "stream",
     "text": [
      "True\n",
      "False\n",
      "False\n",
      "False\n"
     ]
    }
   ],
   "source": [
    "str = 'Python'\n",
    "print(str.isidentifier())\n",
    "\n",
    "str = 'Py thon'\n",
    "print(str.isidentifier())\n",
    "\n",
    "str = '22Python'\n",
    "print(str.isidentifier())\n",
    "\n",
    "str = ''\n",
    "print(str.isidentifier())"
   ]
  },
  {
   "cell_type": "code",
   "execution_count": 443,
   "id": "88d472dc",
   "metadata": {},
   "outputs": [
    {
     "name": "stdout",
     "output_type": "stream",
     "text": [
      "root33 is a valid identifier.\n",
      "33root is not a valid identifier.\n",
      "root 33 is not a valid identifier.\n"
     ]
    }
   ],
   "source": [
    "str = 'root33'\n",
    "if str.isidentifier() == True:\n",
    "    print(str, 'is a valid identifier.')\n",
    "else:\n",
    "    print(str, 'is not a valid identifier.')\n",
    "\n",
    "str = '33root'\n",
    "if str.isidentifier() == True:\n",
    "    print(str, 'is a valid identifier.')\n",
    "else:\n",
    "    print(str, 'is not a valid identifier.')\n",
    "\n",
    "str = 'root 33'\n",
    "if str.isidentifier() == True:\n",
    "    print(str, 'is a valid identifier.')\n",
    "else:\n",
    "    print(str, 'is not a valid identifier.')"
   ]
  },
  {
   "cell_type": "markdown",
   "id": "484bbe55",
   "metadata": {},
   "source": [
    "#### -------------------------------------------- islower() ---------------------------------------------------\n",
    "    The islower() method returns True if all alphabets in a string are lowercase alphabets. If the string contains at least one uppercase alphabet, it returns False"
   ]
  },
  {
   "cell_type": "code",
   "execution_count": 444,
   "id": "87b5a921",
   "metadata": {},
   "outputs": [
    {
     "name": "stdout",
     "output_type": "stream",
     "text": [
      "True\n",
      "True\n",
      "False\n"
     ]
    }
   ],
   "source": [
    "s = 'this is good'\n",
    "print(s.islower())\n",
    "\n",
    "s = 'th!s is a1so g00d'\n",
    "print(s.islower())\n",
    "\n",
    "s = 'this is Not good'\n",
    "print(s.islower())"
   ]
  },
  {
   "cell_type": "code",
   "execution_count": 445,
   "id": "6e9216de",
   "metadata": {},
   "outputs": [
    {
     "name": "stdout",
     "output_type": "stream",
     "text": [
      "Does not contain uppercase letter.\n",
      "Contains uppercase letter.\n"
     ]
    }
   ],
   "source": [
    "s = 'this is good'\n",
    "if s.islower() == True:\n",
    "    print('Does not contain uppercase letter.')\n",
    "else:\n",
    "    print('Contains uppercase letter.')\n",
    "\n",
    "s = 'this is Good'\n",
    "if s.islower() == True:\n",
    "    print('Does not contain uppercase letter.')\n",
    "else:\n",
    "    print('Contains uppercase letter.')"
   ]
  },
  {
   "cell_type": "markdown",
   "id": "74d78537",
   "metadata": {},
   "source": [
    "#### ------------------------------------------ isprintable() ---------------------------------------------------\n",
    "    The isprintable() method returns True if all characters in the string are printable. If not, it returns False. Characters that occupy printing space on the screen are known as printable characters. For example letters and symbols, digits, punctuation, whitespace. Characters that do not occupy a space and are used for formatting is known as non-printable characters. For example line breaks, page breaks"
   ]
  },
  {
   "cell_type": "code",
   "execution_count": 452,
   "id": "64579f2e",
   "metadata": {},
   "outputs": [
    {
     "name": "stdout",
     "output_type": "stream",
     "text": [
      "True\n",
      "True\n",
      "False\n",
      "True\n",
      "Not Printable\n"
     ]
    }
   ],
   "source": [
    "text = 'apple'\n",
    "\n",
    "# returns True if text is printable \n",
    "result = text.isprintable()\n",
    "\n",
    "print(result)\n",
    "\n",
    "text1 = 'python programming'\n",
    "\n",
    "# checks if text1 is printable \n",
    "result1 = text1.isprintable()\n",
    "print(result1)\n",
    "\n",
    "text2 = 'python programming\\n'\n",
    "\n",
    "# checks if text2 is printable \n",
    "result2 = text2.isprintable() \n",
    "print(result2)\n",
    "\n",
    "\n",
    "empty_string = ' '\n",
    "\n",
    "# returns True with an empty string \n",
    "print(empty_string.isprintable())\n",
    "\n",
    "# defining string using ASCII value \n",
    "text = chr(27) + chr(97) #chr(27) - is escape character i.e. backslash \\ and chr(97) - is letter 'a'\n",
    "\n",
    "# checks if text is printable \n",
    "if text.isprintable():\n",
    "    print('Printable')\n",
    "else:\n",
    "    print('Not Printable')"
   ]
  },
  {
   "cell_type": "markdown",
   "id": "405299f0",
   "metadata": {},
   "source": [
    "#### ------------------------------------------------------- isspace ------------------------------------------------\n",
    "    The isspace() method returns True if there are only whitespace characters in the string. If not, it return False.\n",
    "    Characters that are used for spacing are called whitespace characters. For example: tabs, spaces, newline, etc."
   ]
  },
  {
   "cell_type": "code",
   "execution_count": 454,
   "id": "e203ca6f",
   "metadata": {},
   "outputs": [
    {
     "name": "stdout",
     "output_type": "stream",
     "text": [
      "True\n",
      "False\n",
      "False\n",
      "All whitespace characters\n",
      "Contains non-whitespace characters.\n"
     ]
    }
   ],
   "source": [
    "s = '   \\t'\n",
    "print(s.isspace())\n",
    "\n",
    "s = ' a '\n",
    "print(s.isspace())\n",
    "\n",
    "s = '' #nothing - no space\n",
    "print(s.isspace())\n",
    "\n",
    "s = '\\t  \\n'\n",
    "if s.isspace() == True:\n",
    "    print('All whitespace characters')\n",
    "else:\n",
    "    print('Contains non-whitespace characters')\n",
    "\n",
    "s = '2+2 = 4'\n",
    "if s.isspace() == True:\n",
    "    print('All whitespace characters')\n",
    "else:\n",
    "    print('Contains non-whitespace characters.')"
   ]
  },
  {
   "cell_type": "markdown",
   "id": "098ffa48",
   "metadata": {},
   "source": [
    "#### --------------------------------------------------- istitle() and title() -----------------------------------------\n",
    "    The istitle() returns True if the string is a titlecased string. If not, it returns False. Title case = first letter uppercase and remaining lower case.\n",
    "    \n",
    "    The title() method returns a title cased version of the string. Meaning, the first character of each word is capitalized (if the first character is a letter)."
   ]
  },
  {
   "cell_type": "code",
   "execution_count": 438,
   "id": "d4a80b68",
   "metadata": {},
   "outputs": [
    {
     "name": "stdout",
     "output_type": "stream",
     "text": [
      "True\n",
      "False\n",
      "True\n",
      "True\n",
      "False\n",
      "Titlecased String\n",
      "Not a Titlecased String\n"
     ]
    }
   ],
   "source": [
    "s = 'Python Is Good.'\n",
    "print(s.istitle())\n",
    "\n",
    "s = 'Python is good'\n",
    "print(s.istitle())\n",
    "\n",
    "s = 'This Is @ Symbol.'\n",
    "print(s.istitle())\n",
    "\n",
    "s = '99 Is A Number'\n",
    "print(s.istitle())\n",
    "\n",
    "s = 'PYTHON'\n",
    "print(s.istitle())\n",
    "\n",
    "s = 'I Love Python.'\n",
    "if s.istitle() == True:\n",
    "    print('Titlecased String')\n",
    "else:\n",
    "    print('Not a Titlecased String')\n",
    "    \n",
    "s = 'PYthon'\n",
    "if s.istitle() == True:\n",
    "    print('Titlecased String')\n",
    "else:\n",
    "    print('Not a Titlecased String')"
   ]
  },
  {
   "cell_type": "code",
   "execution_count": 440,
   "id": "4347226a",
   "metadata": {},
   "outputs": [
    {
     "name": "stdout",
     "output_type": "stream",
     "text": [
      "My Favorite Number Is 25.\n",
      "234 K3L2 *43 Fun\n",
      "He'S An Engineer, Isn'T He?\n",
      "He's An Engineer, Isn't He?\n"
     ]
    }
   ],
   "source": [
    "#title()\n",
    "text = 'My favorite number is 25.'\n",
    "print(text.title())\n",
    "\n",
    "text = '234 k3l2 *43 fun'\n",
    "print(text.title())\n",
    "\n",
    "#title with apostrophes - title() capitalizes the first letter after apostrophes as well.\n",
    "text = \"He's an engineer, isn't he?\"\n",
    "print(text.title())\n",
    "\n",
    "#To solve this issue, we can use regex\n",
    "import re\n",
    "\n",
    "def titlecase(s):\n",
    "    return re.sub(\n",
    "        r\"[A-Za-z]+('[A-Za-z]+)?\",\n",
    "        lambda mo: mo.group(0)[0].upper() + mo.group(0)[1:].lower(),\n",
    "        s\n",
    "    )\n",
    "\n",
    "text = \"He's an engineer, isn't he?\"\n",
    "print(titlecase(text))"
   ]
  },
  {
   "cell_type": "markdown",
   "id": "44abcb0f",
   "metadata": {},
   "source": [
    "#### ----------------------------- isupper() ----------------------------------\n",
    "    The string isupper() method returns whether or not all characters in a string are uppercased or not."
   ]
  },
  {
   "cell_type": "code",
   "execution_count": 457,
   "id": "462f7169",
   "metadata": {},
   "outputs": [
    {
     "name": "stdout",
     "output_type": "stream",
     "text": [
      "True\n",
      "True\n",
      "False\n"
     ]
    }
   ],
   "source": [
    "# example string\n",
    "string = \"THIS IS GOOD!\"\n",
    "print(string.isupper());\n",
    "\n",
    "# numbers in place of alphabets\n",
    "string = \"THIS IS ALSO G00D!\"\n",
    "print(string.isupper());\n",
    "\n",
    "# lowercase string\n",
    "string = \"THIS IS not GOOD!\"\n",
    "print(string.isupper());"
   ]
  },
  {
   "cell_type": "markdown",
   "id": "7aa49d02",
   "metadata": {},
   "source": [
    "#### ------------------------------------------ join() -----------------------------------------\n",
    "    The string join() method returns a string by joining all the elements of an iterable (list, string, tuple), separated by the given separator.\n",
    "    Syntax: string(or)seperator.join(iterable)\n",
    "    \n",
    "    The join() method provides a flexible way to create strings from iterable objects. It joins each element of an iterable (such as list, string, and tuple) by a string separator (the string on which the join() method is called) and returns the concatenated string. \n",
    "    If the iterable contains any non-string values, it raises the TypeError exception."
   ]
  },
  {
   "cell_type": "code",
   "execution_count": 458,
   "id": "6c31d4bb",
   "metadata": {},
   "outputs": [
    {
     "name": "stdout",
     "output_type": "stream",
     "text": [
      "Python is a fun programming language\n"
     ]
    }
   ],
   "source": [
    "text = ['Python', 'is', 'a', 'fun', 'programming', 'language']\n",
    "\n",
    "# join elements of text with space\n",
    "print(' '.join(text))"
   ]
  },
  {
   "cell_type": "code",
   "execution_count": 460,
   "id": "4188784a",
   "metadata": {},
   "outputs": [
    {
     "name": "stdout",
     "output_type": "stream",
     "text": [
      "1, 2, 3, 4\n",
      "1, 2, 3, 4\n",
      "s1.join(s2): 1abc2abc3\n",
      "s2.join(s1): a123b123c\n",
      "1, 2, 3\n",
      "Java->->Python->->Ruby\n"
     ]
    }
   ],
   "source": [
    "# .join() with lists\n",
    "numList = ['1', '2', '3', '4']\n",
    "separator = ', '\n",
    "print(separator.join(numList))\n",
    "\n",
    "# .join() with tuples\n",
    "numTuple = ('1', '2', '3', '4')\n",
    "print(separator.join(numTuple))\n",
    "\n",
    "s1 = 'abc'\n",
    "s2 = '123'\n",
    "\n",
    "# each element of s2 is separated by s1\n",
    "# '1'+ 'abc'+ '2'+ 'abc'+ '3'\n",
    "print('s1.join(s2):', s1.join(s2))\n",
    "\n",
    "# each element of s1 is separated by s2\n",
    "# 'a'+ '123'+ 'b'+ '123'+ 'b'\n",
    "print('s2.join(s1):', s2.join(s1))\n",
    "\n",
    "# .join() with sets\n",
    "test = {'2', '1', '3'}\n",
    "s = ', '\n",
    "print(s.join(test)) #1, 2, 3\n",
    "\n",
    "test = {'Python', 'Java', 'Ruby'}\n",
    "s = '->->'\n",
    "print(s.join(test)) #Java->->Python->->Ruby"
   ]
  },
  {
   "cell_type": "code",
   "execution_count": 461,
   "id": "f4d19900",
   "metadata": {},
   "outputs": [
    {
     "name": "stdout",
     "output_type": "stream",
     "text": [
      "mat->that\n"
     ]
    },
    {
     "ename": "TypeError",
     "evalue": "sequence item 0: expected str instance, int found",
     "output_type": "error",
     "traceback": [
      "\u001b[1;31m---------------------------------------------------------------------------\u001b[0m",
      "\u001b[1;31mTypeError\u001b[0m                                 Traceback (most recent call last)",
      "Input \u001b[1;32mIn [461]\u001b[0m, in \u001b[0;36m<cell line: 13>\u001b[1;34m()\u001b[0m\n\u001b[0;32m     11\u001b[0m s \u001b[38;5;241m=\u001b[39m \u001b[38;5;124m'\u001b[39m\u001b[38;5;124m, \u001b[39m\u001b[38;5;124m'\u001b[39m\n\u001b[0;32m     12\u001b[0m \u001b[38;5;66;03m# this gives error since key isn't string\u001b[39;00m\n\u001b[1;32m---> 13\u001b[0m \u001b[38;5;28mprint\u001b[39m(\u001b[43ms\u001b[49m\u001b[38;5;241;43m.\u001b[39;49m\u001b[43mjoin\u001b[49m\u001b[43m(\u001b[49m\u001b[43mtest\u001b[49m\u001b[43m)\u001b[49m)\n",
      "\u001b[1;31mTypeError\u001b[0m: sequence item 0: expected str instance, int found"
     ]
    }
   ],
   "source": [
    "#.join() with dictionaries\n",
    "\n",
    "test = {'mat': 1, 'that': 2}\n",
    "s = '->'\n",
    "\n",
    "# joins the keys only of type string\n",
    "print(s.join(test)) #mat->that\n",
    "\n",
    "\n",
    "test = {1: 'mat', 2: 'that'}\n",
    "s = ', '\n",
    "# this gives error since key isn't string\n",
    "print(s.join(test))\n",
    "#The join() method tries to join the keys (not values) of the dictionary with the string separator.\n",
    "#They keys should be string to perform join"
   ]
  },
  {
   "cell_type": "markdown",
   "id": "d69519eb",
   "metadata": {},
   "source": [
    "#### ----------------------------------------------- ljust() and rjust() ----------------------------------------------------\n",
    "    The string ljust() method returns a left-justified string of a given minimum width.\n",
    "        \n",
    "        Syntax: string.ljust(width[, fillchar])\n",
    "            \n",
    "            If width is less than or equal to the length of the string, the original string is returned. fillchar (Optional) - character to fill the remaining space of the width. Default fill char is whitespace\n",
    "            \n",
    "     If you want to right justify the string, use rjust()."
   ]
  },
  {
   "cell_type": "code",
   "execution_count": 463,
   "id": "ce6015b0",
   "metadata": {},
   "outputs": [
    {
     "data": {
      "text/plain": [
       "'cat**'"
      ]
     },
     "execution_count": 463,
     "metadata": {},
     "output_type": "execute_result"
    }
   ],
   "source": [
    "my_string = 'cat'\n",
    "my_string.ljust(5, \"*\")\n",
    "\n",
    "#The string cat will be aligned to the left which makes leaves two spaces on the right of the word."
   ]
  },
  {
   "cell_type": "code",
   "execution_count": 464,
   "id": "0edf99f0",
   "metadata": {},
   "outputs": [
    {
     "data": {
      "text/plain": [
       "'**cat'"
      ]
     },
     "execution_count": 464,
     "metadata": {},
     "output_type": "execute_result"
    }
   ],
   "source": [
    "my_string = 'cat'\n",
    "my_string.rjust(5, \"*\")\n",
    "\n",
    "#The string cat will be aligned to the right which makes leaves two spaces on the left of the word."
   ]
  },
  {
   "cell_type": "markdown",
   "id": "5fe6d0ef",
   "metadata": {},
   "source": [
    "#### ------------------------------------------- lower() and upper() and swapcase() -------------------------------------------\n",
    "    The lower() method converts all uppercase characters in a string into lowercase characters and returns it. If no uppercase characters exist, it returns the original string.\n",
    "    \n",
    "    The upper() method converts all lowercase characters in a string into uppercase characters and returns it. If no lowercase characters exist, it returns the original string.\n",
    "    \n",
    "    The swapcase() method returns the string by converting all the characters to their opposite letter case( uppercase to lowercase and vice versa)."
   ]
  },
  {
   "cell_type": "code",
   "execution_count": 465,
   "id": "53c23b5b",
   "metadata": {},
   "outputs": [
    {
     "data": {
      "text/plain": [
       "'CAT IS CUTE'"
      ]
     },
     "execution_count": 465,
     "metadata": {},
     "output_type": "execute_result"
    }
   ],
   "source": [
    "my_string = 'cat is cute'\n",
    "my_string.upper()"
   ]
  },
  {
   "cell_type": "code",
   "execution_count": 466,
   "id": "62e3ab0f",
   "metadata": {},
   "outputs": [
    {
     "data": {
      "text/plain": [
       "'cat is cute'"
      ]
     },
     "execution_count": 466,
     "metadata": {},
     "output_type": "execute_result"
    }
   ],
   "source": [
    "my_string = 'CAT IS CUTE'\n",
    "my_string.lower()"
   ]
  },
  {
   "cell_type": "code",
   "execution_count": 467,
   "id": "53718105",
   "metadata": {},
   "outputs": [
    {
     "name": "stdout",
     "output_type": "stream",
     "text": [
      "th!s sh0uld b3 l0w3rcas3!\n"
     ]
    }
   ],
   "source": [
    "string = \"Th!s Sh0uLd B3 L0w3rCas3!\"\n",
    "print(string.lower())"
   ]
  },
  {
   "cell_type": "code",
   "execution_count": 468,
   "id": "30e7da57",
   "metadata": {},
   "outputs": [
    {
     "name": "stdout",
     "output_type": "stream",
     "text": [
      "The strings are same.\n"
     ]
    }
   ],
   "source": [
    "firstString = \"PYTHON IS AWESOME!\"\n",
    "secondString = \"PyThOn Is AwEsOmE!\"\n",
    "\n",
    "if(firstString.lower() == secondString.lower()):\n",
    "    print(\"The strings are same.\")\n",
    "else:\n",
    "    print(\"The strings are not same.\")"
   ]
  },
  {
   "cell_type": "code",
   "execution_count": 469,
   "id": "68ead037",
   "metadata": {},
   "outputs": [
    {
     "name": "stdout",
     "output_type": "stream",
     "text": [
      "jOhN cEnA\n"
     ]
    }
   ],
   "source": [
    "name = \"JoHn CeNa\"\n",
    "\n",
    "# converts lowercase to uppercase and vice versa\n",
    "print(name.swapcase())"
   ]
  },
  {
   "cell_type": "code",
   "execution_count": 470,
   "id": "6115b4d7",
   "metadata": {},
   "outputs": [
    {
     "name": "stdout",
     "output_type": "stream",
     "text": [
      "this should all be lowercase.\n",
      "THIS SHOULD ALL BE UPPERCASE.\n",
      "tHiS sHoUlD bE mIxEd CaSeD.\n"
     ]
    }
   ],
   "source": [
    "sentence1 = \"THIS SHOULD ALL BE LOWERCASE.\"\n",
    "\n",
    "# converts uppercase to lowercase\n",
    "print(sentence1.swapcase())\n",
    "\n",
    "sentence2 = \"this should all be uppercase.\"\n",
    "\n",
    "# converts lowercase to uppercase\n",
    "print(sentence2.swapcase())\n",
    "\n",
    "sentence3 = \"ThIs ShOuLd Be MiXeD cAsEd.\"\n",
    "\n",
    "# converts lowercase to uppercase and vice versa\n",
    "print(sentence3.swapcase())"
   ]
  },
  {
   "cell_type": "code",
   "execution_count": 471,
   "id": "8e4d5413",
   "metadata": {},
   "outputs": [
    {
     "name": "stdout",
     "output_type": "stream",
     "text": [
      "GROSS \n",
      "gross \n",
      "False\n"
     ]
    }
   ],
   "source": [
    "#swapcase on non english characters\n",
    "#Not necessarily, string.swapcase().swapcase() == string\n",
    "\n",
    "text = \"groß \"\n",
    "\n",
    "# converts text to uppercase\n",
    "print(text.swapcase()) \n",
    "\n",
    "# performs swapcase() on text.swapcase() \n",
    "print(text.swapcase().swapcase()) \n",
    "\n",
    "print(text.swapcase().swapcase() == text) "
   ]
  },
  {
   "cell_type": "markdown",
   "id": "9142daec",
   "metadata": {},
   "source": [
    "#### --------------------------------------------------- lstrip() and rstrip()  and strip()------------------------------------------\n",
    "    The lstrip() method removes any leading characters (space is the default leading character to remove when no chars argument is provided). It removes characters from the left, based on the argument (a string specifying the set of characters to be removed).\n",
    "        Syntax: string.lstrip([chars])\n",
    "        \n",
    "        Here chars (optional) - a string specifying the set of characters to be removed. All combinations of characters in the chars argument are removed from the left of the string until the first mismatch.\n",
    "        \n",
    "     ---------------------------------------------------------------------------------------------------   \n",
    "     The rstrip() method returns a copy of the string with trailing characters removed (based on the string argument passed).\n",
    "            Syntax: string.rstrip([chars])\n",
    "     \n",
    "     The rstrip() removes characters from the right based on the argument (a string specifying the set of characters to be removed).If chars argument is not provided, all whitespaces on the right are removed from the string. All combinations of characters in chars argument are removed from the right of the string until the first mismatch.\n",
    "     ----------------------------------------------------------------------------------------------------\n",
    "     \n",
    "     The strip() method returns a copy of the string by removing both the leading and the trailing characters (based on the string argument passed).\n",
    "               Syntax:  string.strip([chars])\n",
    "               \n",
    "           If chars argument is not provided, all whitespaces on the left and right are removed from the string\n",
    "      \n",
    "     When the character of the string in the left mismatches with all the characters in the chars argument, it stops removing the leading characters.Similarly, when the character of the string in the right mismatches with all the characters in the chars argument, it stops removing the trailing characters."
   ]
  },
  {
   "cell_type": "code",
   "execution_count": 473,
   "id": "8750215b",
   "metadata": {},
   "outputs": [
    {
     "name": "stdout",
     "output_type": "stream",
     "text": [
      "this is good \n",
      "   this is good \n",
      "his is good \n",
      "www.programiz.com/\n"
     ]
    }
   ],
   "source": [
    "random_string = '   this is good '\n",
    "\n",
    "# Leading whitepsace are removed\n",
    "print(random_string.lstrip())\n",
    "\n",
    "# Argument doesn't contain space\n",
    "#first leading argument is space and then char t which is not mentioned. Hence nothing will be removed\n",
    "# No characters are removed.\n",
    "print(random_string.lstrip('sti'))\n",
    "\n",
    "print(random_string.lstrip('s ti')) #space and t are there in leading chars\n",
    "\n",
    "website = 'https://www.programiz.com/'\n",
    "print(website.lstrip('htps:/.')) #www.programiz.com/"
   ]
  },
  {
   "cell_type": "code",
   "execution_count": 472,
   "id": "dfe0b167",
   "metadata": {},
   "outputs": [
    {
     "name": "stdout",
     "output_type": "stream",
     "text": [
      "banana\n"
     ]
    }
   ],
   "source": [
    "txt = \",,,,,ssaaww.....banana\"\n",
    "\n",
    "x = txt.lstrip(\",.asw\")\n",
    "\n",
    "print(x) #removes all the chars that were specified in the chars argument until the mismatch char  which is 'b' encountered"
   ]
  },
  {
   "cell_type": "code",
   "execution_count": 474,
   "id": "96582a47",
   "metadata": {},
   "outputs": [
    {
     "name": "stdout",
     "output_type": "stream",
     "text": [
      "Python Programming\n"
     ]
    }
   ],
   "source": [
    "title = 'Python Programming   '\n",
    "\n",
    "# remove trailing whitespace from title\n",
    "result = title.rstrip()\n",
    "print(result)"
   ]
  },
  {
   "cell_type": "code",
   "execution_count": 476,
   "id": "d34717b3",
   "metadata": {},
   "outputs": [
    {
     "name": "stdout",
     "output_type": "stream",
     "text": [
      "this is good\n",
      "this is good\n",
      "this is g\n",
      "www.programiz.co\n"
     ]
    }
   ],
   "source": [
    "random_string = 'this is good    '\n",
    "\n",
    "# Trailing whitespace are removed\n",
    "print(random_string.rstrip())\n",
    "\n",
    "# 'si oo' are not trailing characters so nothing is removed\n",
    "print(random_string.rstrip('si oo'))\n",
    "\n",
    "# in 'sid oo', 'd oo' are the trailing characters, 'ood' is removed from the string\n",
    "print(random_string.rstrip('sid oo'))\n",
    "\n",
    "website = 'www.programiz.com/' \n",
    "print(website.rstrip('m/.'))"
   ]
  },
  {
   "cell_type": "code",
   "execution_count": 477,
   "id": "12f09ba6",
   "metadata": {},
   "outputs": [
    {
     "name": "stdout",
     "output_type": "stream",
     "text": [
      "Message: Learn Python\n"
     ]
    }
   ],
   "source": [
    "message = '     Learn Python  '\n",
    "\n",
    "# remove leading and trailing whitespaces\n",
    "print('Message:', message.strip())"
   ]
  },
  {
   "cell_type": "code",
   "execution_count": 478,
   "id": "f45e5c28",
   "metadata": {},
   "outputs": [
    {
     "name": "stdout",
     "output_type": "stream",
     "text": [
      "xoxo love xoxo\n",
      "lov\n",
      "  xoxo love xoxo   \n",
      "droid is awesome\n"
     ]
    }
   ],
   "source": [
    "string = '  xoxo love xoxo   '\n",
    "\n",
    "# Leading and trailing whitespaces are removed\n",
    "print(string.strip())\n",
    "\n",
    "# All <whitespace>,x,o,e characters in the left\n",
    "# and right of string are removed\n",
    "print(string.strip(' xoe'))  #Removes all whitespace, x, o, and e that lead or trailed the string.\n",
    "\n",
    "# Argument doesn't contain space\n",
    "# No characters are removed.\n",
    "print(string.strip('stx'))\n",
    "\n",
    "string = 'android is awesome'\n",
    "print(string.strip('an'))"
   ]
  },
  {
   "cell_type": "markdown",
   "id": "cbfa942b",
   "metadata": {},
   "source": [
    "#### ----------------------------------------- partition() ---------------------------------------\n",
    "    The partition() method splits the string at the first occurrence of the argument string and returns a tuple containing the part the before separator, argument string and the part after the separator.\n",
    "        Syntax: string.partition(separator)\n",
    "     \n",
    "     The partition method returns a 3-tuple containing:\n",
    "         - the part before the separator, separator parameter, and the part after the separator if the separator parameter is found in the string\n",
    "         - the string itself and two empty strings if the separator parameter is not found"
   ]
  },
  {
   "cell_type": "code",
   "execution_count": 479,
   "id": "37bd49b0",
   "metadata": {},
   "outputs": [
    {
     "name": "stdout",
     "output_type": "stream",
     "text": [
      "('Python ', 'is ', 'fun')\n",
      "('Python is fun', '', '')\n",
      "('Python ', 'is', \" fun, isn't it\")\n"
     ]
    }
   ],
   "source": [
    "string = \"Python is fun\"\n",
    "\n",
    "# 'is' separator is found\n",
    "print(string.partition('is '))\n",
    "\n",
    "# 'not' separator is not found\n",
    "print(string.partition('not '))\n",
    "\n",
    "string = \"Python is fun, isn't it\"\n",
    "\n",
    "# splits at first occurence of 'is'\n",
    "print(string.partition('is'))"
   ]
  },
  {
   "cell_type": "markdown",
   "id": "4d2f678a",
   "metadata": {},
   "source": [
    "#### ----------------------------------------------- rpartition() ---------------------------------------------\n",
    "    The rpartition() splits the string at the last occurrence of the argument string and returns a tuple containing the part the before separator, argument string and the part after the separator.\n",
    "            \n",
    "            Syntax: string.rpartition(separator)\n",
    "            \n",
    "            rpartition() method returns a 3-tuple containing:\n",
    "\n",
    "                - the part before the separator, separator parameter, and the part after the separator if the separator parameter is found in the string\n",
    "                - two empty strings, followed by the string itself if the separator parameter is not found"
   ]
  },
  {
   "cell_type": "code",
   "execution_count": 483,
   "id": "edc44625",
   "metadata": {},
   "outputs": [
    {
     "name": "stdout",
     "output_type": "stream",
     "text": [
      "('Python ', 'is ', 'fun')\n",
      "('', '', 'Python is fun')\n",
      "('Python is fun, ', 'is', \"n't it\")\n"
     ]
    }
   ],
   "source": [
    "string = \"Python is fun\"\n",
    "\n",
    "# 'is' separator is found\n",
    "print(string.rpartition('is '))\n",
    "\n",
    "# 'not' separator is not found\n",
    "print(string.rpartition('not '))\n",
    "\n",
    "string = \"Python is fun, isn't it\"\n",
    "\n",
    "# splits at last occurence of 'is'\n",
    "print(string.rpartition('is'))"
   ]
  },
  {
   "cell_type": "markdown",
   "id": "20749bb7",
   "metadata": {},
   "source": [
    "#### -------------------------------------------- maketrans() --------------------------------------------\n",
    "    The string maketrans() method returns a mapping table for translation usable for translate() method.\n",
    "\n",
    "    In simple terms, maketrans() method is a static method that creates a one to one mapping of a character to its translation/replacement. It creates a Unicode representation of each character for translation. This translation mapping is then used for replacing a character to its mapped character when used in translate() method.\n",
    "    \n",
    "                Syntax: string.maketrans(x[, y[, z]])\n",
    "                \n",
    "                \n",
    "            x - If only one argument is supplied, it must be a dictionary. The dictionary should contain a 1-to-1 mapping from a single character string to its translation OR a Unicode number (97 for 'a') to its translation.\n",
    "            y - If two arguments are passed, it must be two strings with equal length. Each character in the first string is a replacement to its corresponding index in the second string.\n",
    "            z - If three arguments are passed, each character in the third argument is mapped to None."
   ]
  },
  {
   "cell_type": "code",
   "execution_count": 480,
   "id": "bdd4f545",
   "metadata": {},
   "outputs": [
    {
     "name": "stdout",
     "output_type": "stream",
     "text": [
      "{97: '123', 98: '456', 99: '789'}\n",
      "{97: '123', 98: '456', 99: '789'}\n"
     ]
    }
   ],
   "source": [
    "# example dictionary - mapping from a single character to its translation\n",
    "dict = {\"a\": \"123\", \"b\": \"456\", \"c\": \"789\"}\n",
    "string = \"abc\"\n",
    "print(string.maketrans(dict))\n",
    "\n",
    "# example dictionary - mapping with a unicode number in the dictionary\n",
    "dict = {97: \"123\", 98: \"456\", 99: \"789\"}\n",
    "string = \"abc\"\n",
    "print(string.maketrans(dict))"
   ]
  },
  {
   "cell_type": "markdown",
   "id": "38be19af",
   "metadata": {},
   "source": [
    "    Observation:\n",
    "        Here, a dictionary dict is defined. It contains a mapping of single characters a,b and c to 123, 456, and 789 respectively.\n",
    "\n",
    "        maketrans() creates a mapping of the character's Unicode ordinal to its corresponding translation.\n",
    "\n",
    "        So, 97 ('a') is mapped to '123', 98 'b' to 456 and 99 'c' to 789. This can be demonstrated from the output of both dictionaries.\n",
    "\n",
    "        Also, if two or more characters are mapped in the dictionary, it raises an exception."
   ]
  },
  {
   "cell_type": "code",
   "execution_count": 481,
   "id": "fe81b4ef",
   "metadata": {},
   "outputs": [
    {
     "name": "stdout",
     "output_type": "stream",
     "text": [
      "{97: 100, 98: 101, 99: 102}\n"
     ]
    },
    {
     "ename": "ValueError",
     "evalue": "the first two maketrans arguments must have equal length",
     "output_type": "error",
     "traceback": [
      "\u001b[1;31m---------------------------------------------------------------------------\u001b[0m",
      "\u001b[1;31mValueError\u001b[0m                                Traceback (most recent call last)",
      "Input \u001b[1;32mIn [481]\u001b[0m, in \u001b[0;36m<cell line: 12>\u001b[1;34m()\u001b[0m\n\u001b[0;32m     10\u001b[0m secondString \u001b[38;5;241m=\u001b[39m \u001b[38;5;124m\"\u001b[39m\u001b[38;5;124mdefghi\u001b[39m\u001b[38;5;124m\"\u001b[39m\n\u001b[0;32m     11\u001b[0m string \u001b[38;5;241m=\u001b[39m \u001b[38;5;124m\"\u001b[39m\u001b[38;5;124mabc\u001b[39m\u001b[38;5;124m\"\u001b[39m\n\u001b[1;32m---> 12\u001b[0m \u001b[38;5;28mprint\u001b[39m(\u001b[43mstring\u001b[49m\u001b[38;5;241;43m.\u001b[39;49m\u001b[43mmaketrans\u001b[49m\u001b[43m(\u001b[49m\u001b[43mfirstString\u001b[49m\u001b[43m,\u001b[49m\u001b[43m \u001b[49m\u001b[43msecondString\u001b[49m\u001b[43m)\u001b[49m)\n",
      "\u001b[1;31mValueError\u001b[0m: the first two maketrans arguments must have equal length"
     ]
    }
   ],
   "source": [
    "#Translation table using two strings with maketrans()\n",
    "# first string\n",
    "firstString = \"abc\"\n",
    "secondString = \"def\"\n",
    "string = \"abc\"\n",
    "print(string.maketrans(firstString, secondString))\n",
    "\n",
    "# example dictionary - raises error as strings are of different sizes\n",
    "firstString = \"abc\"\n",
    "secondString = \"defghi\"\n",
    "string = \"abc\"\n",
    "print(string.maketrans(firstString, secondString))"
   ]
  },
  {
   "cell_type": "markdown",
   "id": "5464372f",
   "metadata": {},
   "source": [
    "    Observation: \n",
    "        Here first, two strings of equal length abc and def are defined. And the corresponding translation is created.\n",
    "\n",
    "        Printing only the first translation gives you a 1-to-1 mapping to each character's Unicode ordinal in firstString to the same indexed character on secondString.\n",
    "\n",
    "        In this case, 97 ('a') is mapped to 100 ('d'), 98 ('b') to 101 ('e') and 99 ('c') to 102 ('f').\n",
    "\n",
    "        Trying to create a translation table for unequal length strings raises a ValueError exception indicating that the strings must have equal length."
   ]
  },
  {
   "cell_type": "code",
   "execution_count": 482,
   "id": "bcf14fae",
   "metadata": {},
   "outputs": [
    {
     "name": "stdout",
     "output_type": "stream",
     "text": [
      "{97: None, 98: None, 99: 102, 100: None}\n"
     ]
    }
   ],
   "source": [
    "#Translational table with removable string with maketrans() - 3 args - each char in the 3rd arg is mapped to None\n",
    "# first string\n",
    "firstString = \"abc\"\n",
    "secondString = \"def\"\n",
    "thirdString = \"abd\"\n",
    "string = \"abc\"\n",
    "print(string.maketrans(firstString, secondString, thirdString))"
   ]
  },
  {
   "cell_type": "markdown",
   "id": "0af4739e",
   "metadata": {},
   "source": [
    "    Observation: \n",
    "        Here, first, the mapping between the two strings firstString and secondString are created.\n",
    "\n",
    "        Then, the third argument thirdString resets the mapping of each character in it to None and also creates a new mapping for non-existent characters.\n",
    "\n",
    "        In this case, thirdString resets the mapping of 97 ('a') and 98 ('b') to None, and also creates a new mapping for 100 ('d') mapped to None."
   ]
  },
  {
   "cell_type": "markdown",
   "id": "45841a0e",
   "metadata": {},
   "source": [
    "#### --------------------------------------------------- translate() -------------------------------------\n",
    "    The string translate() method returns a string where each character is mapped to its corresponding character in the translation table.\n",
    "\n",
    "    translate() method takes the translation table to replace/translate characters in the given string as per the mapping table. The translation table is created by the static method maketrans().\n",
    "\n",
    "                Syntax: string.translate(table)\n",
    "                \n",
    "          translate() method takes a single parameter: table - a translation table containing the mapping between two characters; usually created by maketrans()\n",
    "          \n",
    "          translate() method returns a string where each character is mapped to its corresponding character as per the translation table."
   ]
  },
  {
   "cell_type": "code",
   "execution_count": 485,
   "id": "23f19886",
   "metadata": {},
   "outputs": [
    {
     "name": "stdout",
     "output_type": "stream",
     "text": [
      "Original string: abcdef\n",
      "{97: None, 98: None, 99: 105}\n",
      "Translated string: idef\n"
     ]
    }
   ],
   "source": [
    "# first string\n",
    "firstString = \"abc\"\n",
    "secondString = \"ghi\"\n",
    "thirdString = \"ab\"\n",
    "\n",
    "string = \"abcdef\"\n",
    "print(\"Original string:\", string)\n",
    "\n",
    "translation = string.maketrans(firstString, secondString, thirdString) #gives the mapping table\n",
    "print(translation)\n",
    "\n",
    "# translate string\n",
    "print(\"Translated string:\", string.translate(translation))"
   ]
  },
  {
   "cell_type": "markdown",
   "id": "2b05d2ed",
   "metadata": {},
   "source": [
    "    Observation:\n",
    "        Here, the translation mapping translation contains the mapping from a, b and c to g, h and i respectively. But, the removal string thirdString resets the mapping to a and b to None. So, when the string is translated using translate(), a and b are removed, and c is replaced i outputting idef."
   ]
  },
  {
   "cell_type": "code",
   "execution_count": 486,
   "id": "38001375",
   "metadata": {},
   "outputs": [
    {
     "name": "stdout",
     "output_type": "stream",
     "text": [
      "Original string: abcdef\n",
      "Translated string: idef\n"
     ]
    }
   ],
   "source": [
    "#Translation/Mapping with translate() with manual translation table\n",
    "# translation table - a dictionary\n",
    "translation = {97: None, 98: None, 99: 105}\n",
    "\n",
    "string = \"abcdef\"\n",
    "print(\"Original string:\", string)\n",
    "\n",
    "# translate string\n",
    "print(\"Translated string:\", string.translate(translation))"
   ]
  },
  {
   "cell_type": "markdown",
   "id": "5b129b0f",
   "metadata": {},
   "source": [
    "#### ------------------------------------------------------- replace() ----------------------------------------------\n",
    "    The replace() method replaces each matching occurrence of a substring with another string.\n",
    "                    Syntax: str.replace(old, new [, count]) \n",
    "                    \n",
    "               Here, count (optional) - the number of times you want to replace the old substring with the new string. If count is not specified, the replace() method replaces all occurrences of the old substring with the new string.\n",
    "               \n",
    "               The replace() method returns a copy of the string where the old substring is replaced with the new string. The original string remains unchanged. If the old substring is not found, it returns a copy of the original string."
   ]
  },
  {
   "cell_type": "code",
   "execution_count": 487,
   "id": "52c2250b",
   "metadata": {},
   "outputs": [
    {
     "name": "stdout",
     "output_type": "stream",
     "text": [
      "rot roll\n"
     ]
    }
   ],
   "source": [
    "text = 'bat ball'\n",
    "\n",
    "# replace 'ba' with 'ro'\n",
    "replaced_text = text.replace('ba', 'ro')\n",
    "print(replaced_text)"
   ]
  },
  {
   "cell_type": "code",
   "execution_count": 488,
   "id": "6e21f3ef",
   "metadata": {},
   "outputs": [
    {
     "name": "stdout",
     "output_type": "stream",
     "text": [
      "hurt, hurt heart\n",
      "Let it be, don't let it be, don't let it be, let it be\n"
     ]
    }
   ],
   "source": [
    "song = 'cold, cold heart'\n",
    "\n",
    "# replacing 'cold' with 'hurt'\n",
    "print(song.replace('cold', 'hurt'))\n",
    "\n",
    "song = 'Let it be, let it be, let it be, let it be'\n",
    "\n",
    "# replacing only two occurrences of 'let'\n",
    "print(song.replace('let', \"don't let\", 2))"
   ]
  },
  {
   "cell_type": "code",
   "execution_count": 489,
   "id": "bccfc4f4",
   "metadata": {},
   "outputs": [
    {
     "name": "stdout",
     "output_type": "stream",
     "text": [
      "Original string: cold, cold heart\n",
      "Replaced string: celd, celd heart\n",
      "let it be, let it be, let it be\n"
     ]
    }
   ],
   "source": [
    "song = 'cold, cold heart'\n",
    "replaced_song = song.replace('o', 'e')\n",
    "\n",
    "# The original string is unchanged\n",
    "print('Original string:', song)\n",
    "\n",
    "print('Replaced string:', replaced_song)\n",
    "\n",
    "song = 'let it be, let it be, let it be'\n",
    "\n",
    "# maximum of 0 substring is replaced\n",
    "# returns copy of the original string\n",
    "print(song.replace('let', 'so', 0))"
   ]
  },
  {
   "cell_type": "markdown",
   "id": "425e208b",
   "metadata": {},
   "source": [
    "#### ------------------------------------------------- split(), rsplit(), splitlines() -----------------------------------------\n",
    "        The split() method splits a string at the specified separator and returns a list of substrings.\n",
    "                Syntax: str.split(separator, maxsplit)\n",
    "           separator (optional)- Delimiter at which splits occur. If not provided, the string is splitted at whitespaces.\n",
    "           maxsplit (optional) - Maximum number of splits. If not provided, there is no limit on the number of splits.\n",
    "           \n",
    "           -----------------------------------------------------------------------------------------\n",
    "           \n",
    "           The rsplit() method splits string from the right at the specified separator and returns a list of strings. \n",
    "           \n",
    "                   Syntax: str.rsplit([separator [, maxsplit]])\n",
    "              \n",
    "              - separator (optional)- The is a delimiter. rsplit() method splits string starting from the right at the specified separator. If the separator is not specified, any whitespace (space, newline etc.) string is a separator.\n",
    "              - maxsplit (optional) - The maxsplit defines the maximum number of splits. The default value of maxsplit is -1, meaning, no limit on the number of splits.\n",
    "              When maxsplit is not specified, rsplit() behaves like split().\n",
    "              \n",
    "           ----------------------------------------------------------------------------------------------\n",
    "           \n",
    "           The splitlines() method splits the string at line breaks and returns a list. If there are not line break characters, it returns a list with a single item (a single line).\n",
    "           \n",
    "                   Syntax: string.splitlines([keepends])\n",
    "            \n",
    "            Here, keepends(optional) can be True or any number. It determines whether line breaks are included in the resulting list or not. It's value can be True or any number.\n",
    "            \n",
    "            The splitlines() method splits on the following line boundaries:\n",
    "                                \\n\tLine Feed\n",
    "                                \\r\tCarriage Return\n",
    "                                \\r\\n\tCarriage Return + Line Feed\n",
    "                                \\v or \\x0b\tLine Tabulation\n",
    "                                \\f or \\x0c\tForm Feed\n",
    "                                \\x1c\tFile Separator\n",
    "                                \\x1d\tGroup Separator\n",
    "                                \\x1e\tRecord Separator\n",
    "                                \\x85\tNext Line (C1 Control Code)\n",
    "                                \\u2028\tLine Separator\n",
    "                                \\u2029\tParagraph Separator"
   ]
  },
  {
   "cell_type": "code",
   "execution_count": 495,
   "id": "4c7ee668",
   "metadata": {},
   "outputs": [
    {
     "name": "stdout",
     "output_type": "stream",
     "text": [
      "['BMW', 'Telsa', 'Range Rover']\n"
     ]
    }
   ],
   "source": [
    "cars = 'BMW-Telsa-Range Rover'\n",
    "\n",
    "# split at '-'\n",
    "print(cars.split('-'))"
   ]
  },
  {
   "cell_type": "code",
   "execution_count": 496,
   "id": "30a82def",
   "metadata": {},
   "outputs": [
    {
     "name": "stdout",
     "output_type": "stream",
     "text": [
      "['Love', 'thy', 'neighbor']\n",
      "['Milk', 'Chicken', 'Bread']\n",
      "['Milk, Chicken, Bread']\n"
     ]
    }
   ],
   "source": [
    "text= 'Love thy neighbor'\n",
    "\n",
    "# splits at space\n",
    "print(text.split())\n",
    "\n",
    "grocery = 'Milk, Chicken, Bread'\n",
    "\n",
    "# splits at ','\n",
    "print(grocery.split(', '))\n",
    "\n",
    "# Splits at ':'\n",
    "print(grocery.split(':')) #no split happens  as there is no : in string grocery"
   ]
  },
  {
   "cell_type": "code",
   "execution_count": 497,
   "id": "41d5ac4f",
   "metadata": {},
   "outputs": [
    {
     "name": "stdout",
     "output_type": "stream",
     "text": [
      "['Milk', 'Chicken', 'Bread, Butter']\n",
      "['Milk', 'Chicken, Bread, Butter']\n",
      "['Milk', 'Chicken', 'Bread', 'Butter']\n",
      "['Milk, Chicken, Bread, Butter']\n"
     ]
    }
   ],
   "source": [
    "#split() when maxsplit is specified - If maxsplit is specified, the list will have a maximum of maxsplit+1 items.\n",
    "grocery = 'Milk, Chicken, Bread, Butter'\n",
    "\n",
    "# maxsplit: 2\n",
    "print(grocery.split(', ', 2))\n",
    "\n",
    "# maxsplit: 1\n",
    "print(grocery.split(', ', 1))\n",
    "\n",
    "# maxsplit: 5\n",
    "print(grocery.split(', ', 5))\n",
    "\n",
    "# maxsplit: 0\n",
    "print(grocery.split(', ', 0))"
   ]
  },
  {
   "cell_type": "code",
   "execution_count": 498,
   "id": "a1aea35b",
   "metadata": {},
   "outputs": [
    {
     "name": "stdout",
     "output_type": "stream",
     "text": [
      "['Love', 'thy', 'neighbor']\n",
      "['Milk', 'Chicken', 'Bread']\n",
      "['Milk, Chicken, Bread']\n"
     ]
    }
   ],
   "source": [
    "#rsplit\n",
    "text= 'Love thy neighbor'\n",
    "\n",
    "# splits at space\n",
    "print(text.rsplit())\n",
    "\n",
    "grocery = 'Milk, Chicken, Bread'\n",
    "\n",
    "# splits at ','\n",
    "print(grocery.rsplit(', '))\n",
    "\n",
    "# Splitting at ':'\n",
    "print(grocery.rsplit(':'))"
   ]
  },
  {
   "cell_type": "code",
   "execution_count": 499,
   "id": "faeb1efc",
   "metadata": {},
   "outputs": [
    {
     "name": "stdout",
     "output_type": "stream",
     "text": [
      "['Milk, Chicken', 'Bread', 'Butter']\n",
      "['Milk, Chicken, Bread', 'Butter']\n",
      "['Milk', 'Chicken', 'Bread', 'Butter']\n",
      "['Milk, Chicken, Bread, Butter']\n"
     ]
    }
   ],
   "source": [
    "#rsplit with maxsplit\n",
    "grocery = 'Milk, Chicken, Bread, Butter'\n",
    "\n",
    "# maxsplit: 2\n",
    "print(grocery.rsplit(', ', 2))\n",
    "\n",
    "# maxsplit: 1\n",
    "print(grocery.rsplit(', ', 1))\n",
    "\n",
    "# maxsplit: 5\n",
    "print(grocery.rsplit(', ', 5))\n",
    "\n",
    "# maxsplit: 0\n",
    "print(grocery.rsplit(', ', 0))"
   ]
  },
  {
   "cell_type": "code",
   "execution_count": 500,
   "id": "e63bcc81",
   "metadata": {},
   "outputs": [
    {
     "name": "stdout",
     "output_type": "stream",
     "text": [
      "['Milk', 'Chicken', 'Bread', 'Butter']\n"
     ]
    }
   ],
   "source": [
    "#splitlines\n",
    "# '\\n' is a line break \n",
    "grocery = 'Milk\\nChicken\\nBread\\rButter'\n",
    "\n",
    "# returns a list after splitting the grocery string  \n",
    "print(grocery.splitlines())"
   ]
  },
  {
   "cell_type": "code",
   "execution_count": 501,
   "id": "159e2dfc",
   "metadata": {},
   "outputs": [
    {
     "name": "stdout",
     "output_type": "stream",
     "text": [
      "['Milk', 'Chicken', 'Bread', 'Butter']\n"
     ]
    }
   ],
   "source": [
    "#splitlines() with Multi Line String\n",
    "grocery = '''Milk\n",
    "Chicken\n",
    "Bread\n",
    "Butter'''\n",
    "\n",
    "# returns a list after splitting the grocery string\n",
    "print(grocery.splitlines())"
   ]
  },
  {
   "cell_type": "code",
   "execution_count": 502,
   "id": "f2f9f999",
   "metadata": {},
   "outputs": [
    {
     "name": "stdout",
     "output_type": "stream",
     "text": [
      "['Milk\\n', 'Chicken\\n', 'Bread\\r', 'Butter']\n",
      "['Milk', 'Chicken', 'Bread', 'Butter']\n"
     ]
    }
   ],
   "source": [
    "#Passing Boolean Value in splitlines() that indicate keepends\n",
    "grocery = 'Milk\\nChicken\\nBread\\rButter'\n",
    "\n",
    "# returns a list including line breaks \n",
    "resulting_list1 = grocery.splitlines(True)\n",
    "print(resulting_list1)\n",
    "\n",
    "# returns a list without including line breaks \n",
    "resulting_list2 = grocery.splitlines(False)\n",
    "print(resulting_list2)"
   ]
  },
  {
   "cell_type": "code",
   "execution_count": 505,
   "id": "0ab7c8ec",
   "metadata": {},
   "outputs": [
    {
     "name": "stdout",
     "output_type": "stream",
     "text": [
      "['Milk', 'Chicken', 'Bread', 'Butter']\n",
      "['Milk\\n', 'Chicken\\n', 'Bread\\r', 'Butter']\n",
      "['Milk\\n', 'Chicken\\n', 'Bread\\r', 'Butter']\n"
     ]
    }
   ],
   "source": [
    "#Passing Number in splitlines()\n",
    "#The splitlines() method also takes an integer value as keepends parameter.\n",
    "#Here, 0 represents False and other positive or negative numbers indicate True.\n",
    "\n",
    "grocery = 'Milk\\nChicken\\nBread\\rButter'\n",
    "\n",
    "# returns list including line breaks \n",
    "resulting_list1 = grocery.splitlines(0)\n",
    "print(resulting_list1)\n",
    "\n",
    "# returns list without including line breaks \n",
    "resulting_list2 = grocery.splitlines(5)\n",
    "print(resulting_list2)\n",
    "\n",
    "# returns list without including line breaks \n",
    "resulting_list3 = grocery.splitlines(-5)\n",
    "print(resulting_list3)"
   ]
  },
  {
   "cell_type": "markdown",
   "id": "2438a584",
   "metadata": {},
   "source": [
    "#### ------------------------------------------------------- zfill() ----------------------------------------------------------\n",
    "    The zfill() method returns a copy of the string with '0' characters padded to the left.\n",
    "                    Syntax: str.zfill(width)\n",
    "       The width specifies the length of the returned string from zfill() with 0 digits filled to the left.\n",
    "       \n",
    "       Suppose, the initial length of the string is 10. And, the width is specified 15. In this case, zfill() returns a copy of the string with five '0' digits filled to the left.\n",
    "    Suppose, the initial length of the string is 10. And, the width is specified 8. In this case, zfill() doesn't fill '0' digits to the left and returns a copy of the original string. The length of the returned string in this case will be 10."
   ]
  },
  {
   "cell_type": "code",
   "execution_count": 512,
   "id": "5305c15d",
   "metadata": {},
   "outputs": [
    {
     "name": "stdout",
     "output_type": "stream",
     "text": [
      "0program is fun\n",
      "000000program is fun\n",
      "program is fun\n"
     ]
    }
   ],
   "source": [
    "text = \"program is fun\"\n",
    "print(text.zfill(15))\n",
    "print(text.zfill(20))\n",
    "print(text.zfill(10))"
   ]
  },
  {
   "cell_type": "code",
   "execution_count": 513,
   "id": "7d7a1850",
   "metadata": {},
   "outputs": [
    {
     "name": "stdout",
     "output_type": "stream",
     "text": [
      "-0000290\n",
      "+0000290\n",
      "-0000000-random+text\n"
     ]
    }
   ],
   "source": [
    "#How zfill() works with Sign Prefix?\n",
    "number = \"-290\"\n",
    "print(number.zfill(8))\n",
    "\n",
    "number = \"+290\"\n",
    "print(number.zfill(8))\n",
    "\n",
    "text = \"--random+text\"\n",
    "print(text.zfill(20))"
   ]
  },
  {
   "cell_type": "markdown",
   "id": "db891d85",
   "metadata": {},
   "source": [
    "#### --------------------------------------- format_map() -------------------------------------------\n",
    "    The format_map() method is similar to str.format(**mapping) except that str.format(**mapping) creates a new dictionary whereas str.format_map(mapping) doesn't.\n",
    "    \n",
    "    Meaning, The only difference is that str.format(**mapping) copies the dict whereas str.format_map(mapping) makes a new dictionary during method call. This can be useful if you are working with a dict subclass.\n",
    "                    Syntax: str.format_map(mapping)\n",
    "                    \n",
    "           format_map() takes a single argument mapping(dictionary). format_map() formats the given string and returns it."
   ]
  },
  {
   "cell_type": "code",
   "execution_count": 514,
   "id": "f745aef2",
   "metadata": {},
   "outputs": [
    {
     "name": "stdout",
     "output_type": "stream",
     "text": [
      "4 -5\n"
     ]
    }
   ],
   "source": [
    "#Before talking about format_map(). Let's see how str.format(**mapping) works for Python Dictionaries.\n",
    "\n",
    "point = {'x':4,'y':-5}\n",
    "print('{x} {y}'.format(**point))"
   ]
  },
  {
   "cell_type": "code",
   "execution_count": 515,
   "id": "7bcb838e",
   "metadata": {},
   "outputs": [
    {
     "name": "stdout",
     "output_type": "stream",
     "text": [
      "4 -5\n",
      "4 -5 0\n"
     ]
    }
   ],
   "source": [
    "point = {'x':4,'y':-5}\n",
    "print('{x} {y}'.format_map(point))\n",
    "\n",
    "point = {'x':4,'y':-5, 'z': 0}\n",
    "print('{x} {y} {z}'.format_map(point))"
   ]
  },
  {
   "cell_type": "code",
   "execution_count": 530,
   "id": "656b546f",
   "metadata": {
    "collapsed": true
   },
   "outputs": [
    {
     "ename": "TypeError",
     "evalue": "dict expected at most 1 argument, got 3",
     "output_type": "error",
     "traceback": [
      "\u001b[1;31m---------------------------------------------------------------------------\u001b[0m",
      "\u001b[1;31mTypeError\u001b[0m                                 Traceback (most recent call last)",
      "Input \u001b[1;32mIn [530]\u001b[0m, in \u001b[0;36m<cell line: 3>\u001b[1;34m()\u001b[0m\n\u001b[0;32m      1\u001b[0m \u001b[38;5;66;03m#How format_map() works with dict subclass?\u001b[39;00m\n\u001b[1;32m----> 3\u001b[0m \u001b[38;5;28;01mclass\u001b[39;00m \u001b[38;5;21;01mCoordinate\u001b[39;00m(\u001b[38;5;28mdict\u001b[39m):\n\u001b[0;32m      4\u001b[0m     \u001b[38;5;28;01mdef\u001b[39;00m \u001b[38;5;21m__missing__\u001b[39m(\u001b[38;5;28mself\u001b[39m, key):\n\u001b[0;32m      5\u001b[0m         \u001b[38;5;28;01mreturn\u001b[39;00m key\n",
      "\u001b[1;31mTypeError\u001b[0m: dict expected at most 1 argument, got 3"
     ]
    }
   ],
   "source": [
    "#How format_map() works with dict subclass?\n",
    "\n",
    "class Coordinate(dict):\n",
    "    def __missing__(self, key):\n",
    "        return key\n",
    "\n",
    "print('({x}, {y})'.format_map(Coordinate(x='6')))\n",
    "print('({x}, {y})'.format_map(Coordinate(y='5')))\n",
    "print('({x}, {y})'.format_map(Coordinate(x='6', y='5')))\n",
    "\n",
    "#O/p:\n",
    "#(6, y)\n",
    "#(x, 5)\n",
    "#(6, 5)\n",
    "\n",
    "#format_map(mapping) is more flexible than format(**mapping) as you can have missing keys."
   ]
  },
  {
   "cell_type": "markdown",
   "id": "209631c5",
   "metadata": {},
   "source": [
    "#### ----------------------------Iterators and Generators --------------------------------"
   ]
  },
  {
   "cell_type": "markdown",
   "id": "96aae545",
   "metadata": {},
   "source": [
    "    Iterable: An iterable is anything you’re able to loop over.\n",
    "    Iterator: An iterator is the object that does the actual iterating.\n",
    "    \n",
    "    (eg: for i in my_list => my_list is iterable, i is iterator)\n",
    "    \n",
    "    We can get an iterator from any iterable by calling the built-in iter() function on the iterable. We can use the built-in next function on an iterator to get the next item from it (you’ll get a StopIteration exception if there are no more items).\n",
    "    \n",
    "    Note: There’s one more rule about iterators that makes everything interesting: iterators are also iterables and their iterator is themselves. "
   ]
  },
  {
   "cell_type": "code",
   "execution_count": 531,
   "id": "6fb5bfdb",
   "metadata": {},
   "outputs": [
    {
     "data": {
      "text/plain": [
       "<list_iterator at 0x261bc519c70>"
      ]
     },
     "execution_count": 531,
     "metadata": {},
     "output_type": "execute_result"
    }
   ],
   "source": [
    "#getting iterator from built in iter function\n",
    "favorite_numbers = [6, 57, 4, 7, 68, 95]\n",
    "iterator = iter(favorite_numbers)\n",
    "iterator"
   ]
  },
  {
   "cell_type": "code",
   "execution_count": 532,
   "id": "d9a5a5fa",
   "metadata": {},
   "outputs": [
    {
     "data": {
      "text/plain": [
       "6"
      ]
     },
     "execution_count": 532,
     "metadata": {},
     "output_type": "execute_result"
    }
   ],
   "source": [
    "next(iterator)"
   ]
  },
  {
   "cell_type": "code",
   "execution_count": 533,
   "id": "67142a9a",
   "metadata": {},
   "outputs": [
    {
     "data": {
      "text/plain": [
       "57"
      ]
     },
     "execution_count": 533,
     "metadata": {},
     "output_type": "execute_result"
    }
   ],
   "source": [
    "next(iterator)"
   ]
  },
  {
   "cell_type": "markdown",
   "id": "608a4380",
   "metadata": {},
   "source": [
    "     -------------------------------------\n",
    "     Why make an iterator?\n",
    "    -------------------------------------- \n",
    "        Iterators allow you to make an iterable that computes its items as it goes. Which means that you can make iterables that are \"lazy\", in that \"they don’t determine what their next item is until you ask them for it.\"\n",
    "        \n",
    "        Using an iterator instead of a list, set, or another iterable data structure can sometimes allow us to save memory.\n",
    "        \n",
    "        For example, we can use itertools.repeat to create an iterable that provides 100 million 4’s to us. This iterator takes up 48 bytes of memory. An equivalent list of 100 million 4’s takes up many megabytes of memory.\n",
    "       \n",
    "       While iterators can save memory, they can also save time. For example if you wanted to print out just the first line of a 10 gigabyte log file, you could do this:\n",
    "                    -- print(next(open('giant_log_file.txt')))\n",
    "       This gives the first line in a giant file.\n",
    "       \n",
    "       Note: File objects in Python are implemented as iterators. As you loop over a file, data is read into memory one line at a time. If we instead used the readlines method to store all lines in memory, we might run out of system memory."
   ]
  },
  {
   "cell_type": "code",
   "execution_count": 535,
   "id": "d1f59598",
   "metadata": {},
   "outputs": [
    {
     "name": "stdout",
     "output_type": "stream",
     "text": [
      "Size of a iterable:48\n"
     ]
    }
   ],
   "source": [
    "from itertools import repeat\n",
    "import sys\n",
    "\n",
    "iteratoriterable = repeat(4, times=10000000)\n",
    "print(f\"Size of a iterable:{sys.getsizeof(iteratoriterable)}\")"
   ]
  },
  {
   "cell_type": "code",
   "execution_count": 536,
   "id": "95f46914",
   "metadata": {},
   "outputs": [
    {
     "name": "stdout",
     "output_type": "stream",
     "text": [
      "Size of a list iterable:80000056\n"
     ]
    }
   ],
   "source": [
    "#list iterable\n",
    "import sys\n",
    "\n",
    "listiterable = [4] * 10000000\n",
    "print(f\"Size of a list iterable:{sys.getsizeof(listiterable)}\")"
   ]
  },
  {
   "cell_type": "markdown",
   "id": "13534e7f",
   "metadata": {},
   "source": [
    "    Additionally, iterators have abilities that other iterables don’t. For example, the laziness of \"iterators can be used to make iterables that have an unknown length\". In fact, you can even make infinitely long iterators.\n",
    "\n",
    "    For example, the itertools.count utility will give us an iterator that will provide every number from 0 upward as we loop over it. That itertools.count object is essentially an infinitely long iterable. And it’s implemented as an iterator."
   ]
  },
  {
   "cell_type": "code",
   "execution_count": 542,
   "id": "4872ab76",
   "metadata": {},
   "outputs": [
    {
     "data": {
      "text/plain": [
       "0"
      ]
     },
     "execution_count": 542,
     "metadata": {},
     "output_type": "execute_result"
    }
   ],
   "source": [
    "from itertools import count\n",
    "# for i in count():\n",
    "#     print(i) #this will print number until the memory is exhausted\n",
    "c = count()\n",
    "next(c)"
   ]
  },
  {
   "cell_type": "code",
   "execution_count": 543,
   "id": "63a24bd3",
   "metadata": {},
   "outputs": [
    {
     "data": {
      "text/plain": [
       "1"
      ]
     },
     "execution_count": 543,
     "metadata": {},
     "output_type": "execute_result"
    }
   ],
   "source": [
    "next(c)"
   ]
  },
  {
   "cell_type": "code",
   "execution_count": 544,
   "id": "b2ecb1a2",
   "metadata": {},
   "outputs": [
    {
     "data": {
      "text/plain": [
       "2"
      ]
     },
     "execution_count": 544,
     "metadata": {},
     "output_type": "execute_result"
    }
   ],
   "source": [
    "next(c)"
   ]
  },
  {
   "cell_type": "markdown",
   "id": "2ecbb6d1",
   "metadata": {},
   "source": [
    "#### --------------------------------------- Generator -----------------------------------------\n",
    "    Generators: the easy way to make an iterator\n",
    "    The easiest ways to make our own iterators in Python is to create a generator.\n",
    "            There are two ways to make generators in Python. Both works in the same manner \n",
    "                        1. using generator function with yield statement\n",
    "                        2. using generator expression\n",
    "                        \n",
    "     Note: A generator, also called a generator object, is an iterator whose type is generator\n",
    "     \n",
    "     A generator function is a special syntax that allows us to make a function which returns a generator object when we call it.Normally when you call a function, its code is executed. But if the function has a yield statement in it, it isn’t a typical function anymore. It’s now a generator function, meaning it will return a generator object when called. That generator object can be looped over to execute it until a yield statement is hit:\n",
    "     \n",
    "     A generator expression is a comprehension-like syntax that allows you to create a generator object inline"
   ]
  },
  {
   "cell_type": "code",
   "execution_count": 561,
   "id": "f374540a",
   "metadata": {},
   "outputs": [
    {
     "data": {
      "text/plain": [
       "<generator object square at 0x00000261C2552510>"
      ]
     },
     "execution_count": 561,
     "metadata": {},
     "output_type": "execute_result"
    }
   ],
   "source": [
    "#using generator function yield\n",
    "#Given this list of numbers, We can make a generator that will lazily provide us with all the squares of these numbers like this:\n",
    "\n",
    "favorite_numbers = [6, 57, 4, 7, 68, 95]\n",
    "\n",
    "def square(elements):\n",
    "    for i in elements:\n",
    "        yield i**2\n",
    "\n",
    "squarednumber = square(favorite_numbers) #creates a generator object\n",
    "squarednumber"
   ]
  },
  {
   "cell_type": "code",
   "execution_count": 562,
   "id": "ba601df1",
   "metadata": {},
   "outputs": [
    {
     "data": {
      "text/plain": [
       "36"
      ]
     },
     "execution_count": 562,
     "metadata": {},
     "output_type": "execute_result"
    }
   ],
   "source": [
    "next(squarednumber) #accessing using next key word yields the square of first element"
   ]
  },
  {
   "cell_type": "code",
   "execution_count": 563,
   "id": "7e2e6721",
   "metadata": {},
   "outputs": [
    {
     "data": {
      "text/plain": [
       "3249"
      ]
     },
     "execution_count": 563,
     "metadata": {},
     "output_type": "execute_result"
    }
   ],
   "source": [
    "next(squarednumber) #yields the square of second element(lazily - only when requested)"
   ]
  },
  {
   "cell_type": "code",
   "execution_count": 443,
   "id": "c836ed29",
   "metadata": {},
   "outputs": [
    {
     "name": "stdout",
     "output_type": "stream",
     "text": [
      "<generator object gimme4_later_please at 0x0000019B71113D60>\n",
      "Let me go get that number for you.\n",
      "4\n"
     ]
    }
   ],
   "source": [
    "def gimme4_later_please():\n",
    "    print(\"Let me go get that number for you.\")\n",
    "    yield 4\n",
    "\n",
    "get4 = gimme4_later_please()\n",
    "print(get4) #generator object\n",
    "num = next(get4) #next gives the value that yield is executing and here it is storing in variable num. Note the print statements will execute as it is\n",
    "print(num)"
   ]
  },
  {
   "cell_type": "code",
   "execution_count": 555,
   "id": "e9058f40",
   "metadata": {},
   "outputs": [
    {
     "name": "stdout",
     "output_type": "stream",
     "text": [
      "0\n"
     ]
    }
   ],
   "source": [
    "#generator function that does the same thing as our Count() iterator class we made earlier.\n",
    "def count(start=0):\n",
    "    num = start\n",
    "    while True:\n",
    "        yield num\n",
    "        num+=1\n",
    "\n",
    "countobj = count() #generator object\n",
    "number = next(countobj) #the function will be executed and also yields the number\n",
    "print(number)"
   ]
  },
  {
   "cell_type": "code",
   "execution_count": 556,
   "id": "0128784e",
   "metadata": {},
   "outputs": [
    {
     "data": {
      "text/plain": [
       "1"
      ]
     },
     "execution_count": 556,
     "metadata": {},
     "output_type": "execute_result"
    }
   ],
   "source": [
    "next(countobj)"
   ]
  },
  {
   "cell_type": "code",
   "execution_count": 557,
   "id": "ab3838b4",
   "metadata": {},
   "outputs": [
    {
     "data": {
      "text/plain": [
       "2"
      ]
     },
     "execution_count": 557,
     "metadata": {},
     "output_type": "execute_result"
    }
   ],
   "source": [
    "next(countobj)"
   ]
  },
  {
   "cell_type": "code",
   "execution_count": 551,
   "id": "324f4d1a",
   "metadata": {},
   "outputs": [
    {
     "data": {
      "text/plain": [
       "<generator object <genexpr> at 0x00000261BC30E190>"
      ]
     },
     "execution_count": 551,
     "metadata": {},
     "output_type": "execute_result"
    }
   ],
   "source": [
    "#using generator expression\n",
    "favorite_numbers = [6, 57, 4, 7, 68, 95]\n",
    "sqaured = (i**2 for i in favorite_numbers)\n",
    "sqaured"
   ]
  },
  {
   "cell_type": "code",
   "execution_count": 552,
   "id": "5d5b53d2",
   "metadata": {},
   "outputs": [
    {
     "data": {
      "text/plain": [
       "36"
      ]
     },
     "execution_count": 552,
     "metadata": {},
     "output_type": "execute_result"
    }
   ],
   "source": [
    "next(sqaured)"
   ]
  },
  {
   "cell_type": "code",
   "execution_count": 553,
   "id": "9497d81e",
   "metadata": {},
   "outputs": [
    {
     "data": {
      "text/plain": [
       "3249"
      ]
     },
     "execution_count": 553,
     "metadata": {},
     "output_type": "execute_result"
    }
   ],
   "source": [
    "next(sqaured)"
   ]
  },
  {
   "cell_type": "code",
   "execution_count": null,
   "id": "cf575cd3",
   "metadata": {},
   "outputs": [],
   "source": [
    "#let’s say we have a list comprehension that filters empty lines from a file and strips newlines from the end:\n",
    "# lines = [\n",
    "#     line.rstrip('\\n')\n",
    "#     for line in poem_file\n",
    "#     if line != '\\n'\n",
    "# ]\n",
    "#We could create a generator instead of a list, by turning the square brackets of that comprehension into parenthesis:\n",
    "lines = (line.rstrip(\"\\n\") for line in poem_file if line != \"\\n\")\n",
    "#Just as our list comprehension gave us a list back, our generator expression gives us a generator object back:\n",
    "#type(lines)\n",
    "#<class 'generator'>\n",
    "#next(lines) gives the line\n",
    "#' This little bag I hope will prove'\n"
   ]
  },
  {
   "cell_type": "markdown",
   "id": "bfb2fbcf",
   "metadata": {},
   "source": [
    "    Generator expressions use a shorter inline syntax compared to generator functions. They’re not as powerful though.\n",
    "        If you can write your generator function in this form:\n",
    "\n",
    "        def get_a_generator(some_iterable):\n",
    "            for item in some_iterable:\n",
    "                if some_condition(item):\n",
    "                    yield item\n",
    "        \n",
    "        Then you can replace it with a generator expression:\n",
    "\n",
    "        def get_a_generator(some_iterable):\n",
    "            return (item for item in some_iterable if some_condition(item))\n",
    "            \n",
    "        If you can’t write your generator function in that form, then you can’t create a generator expression to replace it."
   ]
  },
  {
   "cell_type": "code",
   "execution_count": 567,
   "id": "673ad50b",
   "metadata": {},
   "outputs": [
    {
     "name": "stdout",
     "output_type": "stream",
     "text": [
      "[ 1  2  3  4  5  6  7  8  9 10]\n"
     ]
    },
    {
     "data": {
      "text/plain": [
       "8"
      ]
     },
     "execution_count": 567,
     "metadata": {},
     "output_type": "execute_result"
    }
   ],
   "source": [
    "#returning the cubes of even numbers\n",
    "mylist = np.arange(1, 11)\n",
    "print(mylist)\n",
    "\n",
    "def genfunc(elements):\n",
    "    for i in elements:\n",
    "        if i%2 == 0:\n",
    "            yield i**3\n",
    "\n",
    "genobj = genfunc(mylist)\n",
    "next(genobj)"
   ]
  },
  {
   "cell_type": "code",
   "execution_count": 566,
   "id": "527faf0f",
   "metadata": {},
   "outputs": [
    {
     "data": {
      "text/plain": [
       "64"
      ]
     },
     "execution_count": 566,
     "metadata": {},
     "output_type": "execute_result"
    }
   ],
   "source": [
    "next(genobj)"
   ]
  },
  {
   "cell_type": "code",
   "execution_count": 568,
   "id": "bd687fc8",
   "metadata": {},
   "outputs": [
    {
     "name": "stdout",
     "output_type": "stream",
     "text": [
      "[ 1  2  3  4  5  6  7  8  9 10]\n"
     ]
    },
    {
     "data": {
      "text/plain": [
       "8"
      ]
     },
     "execution_count": 568,
     "metadata": {},
     "output_type": "execute_result"
    }
   ],
   "source": [
    "#the above generator function can be changed into generator expression\n",
    "mylist = np.arange(1, 11)\n",
    "print(mylist)\n",
    "\n",
    "def genfunc(elements):\n",
    "    return (i**3 for i in elements if i%2==0)\n",
    "\n",
    "genobj = genfunc(mylist)\n",
    "next(genobj)"
   ]
  },
  {
   "cell_type": "code",
   "execution_count": 569,
   "id": "d2df47ca",
   "metadata": {},
   "outputs": [
    {
     "data": {
      "text/plain": [
       "64"
      ]
     },
     "execution_count": 569,
     "metadata": {},
     "output_type": "execute_result"
    }
   ],
   "source": [
    "next(genobj)"
   ]
  },
  {
   "cell_type": "code",
   "execution_count": null,
   "id": "4ce3d9f2",
   "metadata": {},
   "outputs": [],
   "source": [
    "#Example of Data Generator in Keras\n",
    "#One use of a generator is the data generator in Keras.\n",
    "#It is useful because we do not want to keep all data in memory but want to create it on the fly when the training loop needs it.\n",
    "#Remember, in Keras, a neural network model is trained in batches, so a generator is to emit batches of data.\n",
    "def datagen(data, seq_len, batch_size, targetcol, kind):\n",
    "    \"As a generator to produce samples for Keras model\"\n",
    "    batch = []\n",
    "    while True:\n",
    "        # Pick one dataframe from the pool\n",
    "        key = random.choice(list(data.keys()))\n",
    "        df = data[key]\n",
    "        input_cols = [c for c in df.columns if c != targetcol]\n",
    "        index = df.index[df.index < TRAIN_TEST_CUTOFF]\n",
    "        split = int(len(index) * TRAIN_VALID_RATIO)\n",
    "        if kind == 'train':\n",
    "            index = index[:split]   # range for the training set\n",
    "        elif kind == 'valid':\n",
    "            index = index[split:]   # range for the validation set\n",
    "        # Pick one position, then clip a sequence length\n",
    "        while True:\n",
    "            t = random.choice(index)      # pick one time step\n",
    "            n = (df.index == t).argmax()  # find its position in the dataframe\n",
    "            if n-seq_len+1 < 0:\n",
    "                continue # can't get enough data for one sequence length\n",
    "            frame = df.iloc[n-seq_len+1:n+1]\n",
    "            batch.append([frame[input_cols].values, df.loc[t, targetcol]])\n",
    "            break\n",
    "        # if we get enough for a batch, dispatch\n",
    "        if len(batch) == batch_size:\n",
    "            X, y = zip(*batch)\n",
    "            X, y = np.expand_dims(np.array(X), 3), np.array(y)\n",
    "            yield X, y\n",
    "            batch = []"
   ]
  },
  {
   "cell_type": "markdown",
   "id": "00f69ef6",
   "metadata": {},
   "source": [
    "    The function above is to pick a random row of a pandas dataframe as a starting point and clip the next several rows as a one-time interval sample. This process is repeated several times to collect many time intervals into one batch. When we collect enough interval samples, at the second to the last line in the above function, the batch is dispatched using the yield command. You may have already noticed that generator functions do not have a return statement. In this example, the function will run forever. This is useful and necessary because it allows our Keras training process to run as many epochs as we want.\n",
    "\n",
    "    If we do not use a generator, we will need to convert the dataframe into all possible time intervals and keep them in memory for the training loop. This will be a lot of repeating data (because the time intervals are overlapping) and take up a lot of memory.\n",
    "\n",
    "    Because it is useful, Keras has some generator function predefined in the library. Below is an example of the \"ImageDataGenerator()\". We have loaded the cifar10 dataset of 32×32 images in x_train. The data is connected to the generator via the flow() method. The next() function returns the next batch of data. In the example below, there are 4 calls to next(). In each case, 8 images are returned as the batch size is 8.\n",
    "\n",
    "    Below is the entire code that also displays all images after every call to next()."
   ]
  },
  {
   "cell_type": "code",
   "execution_count": 4,
   "id": "664e79bb",
   "metadata": {},
   "outputs": [
    {
     "data": {
      "image/png": "[encoded data removed]",
      "text/plain": [
       "<Figure size 1800x600 with 32 Axes>"
      ]
     },
     "metadata": {},
     "output_type": "display_data"
    }
   ],
   "source": [
    "# ImageDataGenerator() for keras image data loading using generator\n",
    "from tensorflow.keras.datasets import cifar10\n",
    "from tensorflow.keras.preprocessing.image import ImageDataGenerator\n",
    "import matplotlib.pyplot as plt\n",
    "\n",
    "(x_train, y_train), _ = cifar10.load_data()\n",
    "datagen = ImageDataGenerator()\n",
    "data_iterator = datagen.flow(x_train, y_train, batch_size=8)\n",
    " \n",
    "fig, ax = plt.subplots(nrows=4, ncols=8, figsize=(18, 6), subplot_kw=dict(xticks=[], yticks=[]))\n",
    " \n",
    "for i in range(4):\n",
    "    # The next() function will load 8 images from CIFAR\n",
    "    X, Y = data_iterator.next()\n",
    "    for j, img in enumerate(X):\n",
    "        ax[i, j].imshow(img.astype('int'))"
   ]
  },
  {
   "cell_type": "markdown",
   "id": "7fdb208a",
   "metadata": {},
   "source": [
    "#### ------------------------------ Decorators -------------------------------------------"
   ]
  },
  {
   "cell_type": "markdown",
   "id": "d7887ce2",
   "metadata": {},
   "source": [
    "    Keywords: Functions, Pure functions, firstclass objects/citizens, higher order functions, first order functions, inner functions, callback function, anonymous function(lambda), decorators\n",
    "\n",
    "    Functions: A function returns a value based on the given arguments.\n",
    "\n",
    "    Pure Functions: A pure function is a function whose output value follows solely from its input values, without any observable side effects. Lambda function is one such example of pure function.\n",
    "    \n",
    "    First class objects: In Python, functions are first-class objects. This means that functions can be passed as arguments, just like any other object (string, int, float, list, and so on) Eg: map(func()), filter(func()), sorted(key=func()). It is also called callback function.\n",
    "        \n",
    "    Callback functions: When you pass a function to another function, the passed-in function sometimes is referred to as a callback because a call back to the inner function can modify the outer function’s behavior.\n",
    "\n",
    "    Inner functions: It’s possible to define functions inside other functions. Such functions are called inner functions.\n",
    "    \n",
    "    Higher order functions: A higher order function is a function that takes one or more functions as arguments, or returns a function as its result. All other functions are first-order functions.\n",
    "\n",
    "    Decorators: Decorators wrap a function, modifying its behavior."
   ]
  },
  {
   "cell_type": "code",
   "execution_count": 4,
   "id": "b4770e3c",
   "metadata": {},
   "outputs": [
    {
     "data": {
      "text/plain": [
       "'Yo Bob, together we are the awesomest!'"
      ]
     },
     "execution_count": 4,
     "metadata": {},
     "output_type": "execute_result"
    }
   ],
   "source": [
    "#First class objects\n",
    "def sayhello(name):\n",
    "    return f\"Hello {name}\"\n",
    "    \n",
    "def beawesome(name):\n",
    "    return f\"Yo {name}, together we are the awesomest!\"\n",
    "    \n",
    "def greet_bob(greetfunc): #passing the func reference\n",
    "    return greetfunc(\"Bob\")\n",
    "\n",
    "greet_bob(sayhello)\n",
    "greet_bob(beawesome)\n",
    "\n",
    "#Note:\n",
    "#Here, say_hello() and be_awesome() are regular functions that expect a name given as a string. \n",
    "#The greet_bob() function however, expects a function as its argument. \n",
    "#We can pass it the say_hello() or the be_awesome() function\n",
    "#Note that greet_bob(say_hello) refers to two functions, but in different ways: greet_bob() and say_hello. \n",
    "#The say_hello is named without parentheses. This means that \"only a reference to the function\" is passed. The function is not executed.\n",
    "#The greet_bob() function, on the other hand, is written with parentheses, so it will be called as usual."
   ]
  },
  {
   "cell_type": "code",
   "execution_count": 5,
   "id": "b693bb9d",
   "metadata": {},
   "outputs": [
    {
     "name": "stdout",
     "output_type": "stream",
     "text": [
      "Printing from the parent() function\n",
      "Printing from the second_child() function\n",
      "Printing from the first_child() function\n"
     ]
    }
   ],
   "source": [
    "#Inner functions\n",
    "def parent():\n",
    "    print(\"Printing from the parent() function\")\n",
    "\n",
    "    def first_child():\n",
    "        print(\"Printing from the first_child() function\")\n",
    "\n",
    "    def second_child():\n",
    "        print(\"Printing from the second_child() function\")\n",
    "\n",
    "    second_child()\n",
    "    first_child()\n",
    "    \n",
    "parent()\n",
    "\n",
    "#Note:\n",
    "#The order in which the inner functions are defined does not matter. \n",
    "#Like with any other functions, the printing only happens when the inner functions are executed.\n",
    "#Furthermore, the inner functions are not defined until the parent function is called. \n",
    "#They are locally scoped to parent(): they only exist inside the parent() function as local variables.\n",
    "#If we try calling first_child(), we will get an error\n",
    "#Whenever you call parent(), the inner functions first_child() and second_child() are also called.\n",
    "#But because of their local scope, they aren’t available outside of the parent() function."
   ]
  },
  {
   "cell_type": "code",
   "execution_count": 7,
   "id": "336dc6a0",
   "metadata": {},
   "outputs": [
    {
     "name": "stdout",
     "output_type": "stream",
     "text": [
      "<function parent.<locals>.first_child at 0x000001E68C96EB80>\n",
      "<function parent.<locals>.second_child at 0x000001E68C96EA60>\n"
     ]
    }
   ],
   "source": [
    "#Returning Functions From Functions\n",
    "def  parent(num):\n",
    "    def first_child():\n",
    "        return f\"Hi! I am Emma\"\n",
    "    \n",
    "    def second_child():\n",
    "        return f\"Hi! I am Hermoine\"\n",
    "    \n",
    "    if num==1:\n",
    "        return first_child #function reference\n",
    "    else:\n",
    "        return second_child\n",
    "\n",
    "first = parent(1)\n",
    "second = parent(2)\n",
    "print(first)\n",
    "print(second)\n",
    "\n",
    "#Observation:\n",
    "#Note that you are returning first_child without the parentheses.\n",
    "#=This means that you are returning a reference to the function first_child.\n",
    "#In contrast first_child() with parentheses refers to the result of evaluating the function"
   ]
  },
  {
   "cell_type": "code",
   "execution_count": 8,
   "id": "500d01a6",
   "metadata": {},
   "outputs": [
    {
     "data": {
      "text/plain": [
       "'Hi! I am Emma'"
      ]
     },
     "execution_count": 8,
     "metadata": {},
     "output_type": "execute_result"
    }
   ],
   "source": [
    "#You can now use first and second as if they are regular functions, \n",
    "#even though the functions they point to can’t be accessed directly\n",
    "first()"
   ]
  },
  {
   "cell_type": "code",
   "execution_count": 9,
   "id": "9e9b2d4d",
   "metadata": {},
   "outputs": [
    {
     "data": {
      "text/plain": [
       "'Hi! I am Hermoine'"
      ]
     },
     "execution_count": 9,
     "metadata": {},
     "output_type": "execute_result"
    }
   ],
   "source": [
    "second()\n",
    "\n",
    "#Note that in the earlier example you executed the inner functions within the parent function, for instance first_child().\n",
    "#However, in this last example, you did not add parentheses to the inner functions—first_child—upon returning.\n",
    "#That way, you got a reference to each function that you could call in the future as if they are normal funcs rather than local parent functions"
   ]
  },
  {
   "cell_type": "code",
   "execution_count": null,
   "id": "67598b31",
   "metadata": {},
   "outputs": [],
   "source": [
    "##Returning Functions From Functions 2nd example\n",
    "def greet():\n",
    "    def hello(name):\n",
    "        print(\"Hello\", name)\n",
    "    return hello\n",
    "\n",
    "greet_user = greet()\n",
    "\n",
    "greet_user(\"Bob\")\n",
    "# Prints Hello Bob"
   ]
  },
  {
   "cell_type": "code",
   "execution_count": 22,
   "id": "917c559d",
   "metadata": {},
   "outputs": [
    {
     "name": "stdout",
     "output_type": "stream",
     "text": [
      "calldecor: <function decorator.<locals>.wrapper at 0x000001E68C2DF160>\n",
      "Something is happening before the function is called.\n",
      "Hey! greet_func greeting\n",
      "Something is happening after the function is called.\n"
     ]
    }
   ],
   "source": [
    "#### ------------------------------------ DECORATOR -----------------------------\n",
    "\n",
    "#A decorator wraps another function in order to extend/modify the functionality of wrapped funtion\n",
    "# It contains function reference as an argument and also a wrapper function as inner function.\n",
    "# The decorator returns the wrapper function\n",
    "# When we call the decorator function, it gives what it returns i.e the reference of wrapper function\n",
    "#You can name your inner function whatever you want, and a generic name like wrapper() is usually okay. \n",
    "#Good practice is to use wrapper_ as prefix and then the suitable name.\n",
    "\n",
    "def decorator(func):\n",
    "    def wrapper():\n",
    "        print(\"Something is happening before the function is called.\")\n",
    "        func()\n",
    "        print(\"Something is happening after the function is called.\")\n",
    "    return wrapper\n",
    "\n",
    "def greet_func(): #func which we are going to extend or modify\n",
    "    print(f\"Hey! greet_func greeting\")\n",
    "    \n",
    "calldecor = decorator(greet_func) #decoration happens here\n",
    "#the name calldecor now points to the wrapper() inner function.\n",
    "\n",
    "print(f\"calldecor: {calldecor}\") #contains the reference of the function that is returning by decorator() - wrapper reference\n",
    "\n",
    "calldecor() #calling the func by giving paranthesis - calls wrapper()\n",
    "#see the previous 2 cells to understand returning the function from functions\n",
    "\n",
    "#Here wrapper() has a reference to the original greet_func() as func, and calls that function between the two calls to print().\n"
   ]
  },
  {
   "cell_type": "code",
   "execution_count": 20,
   "id": "b971f993",
   "metadata": {},
   "outputs": [
    {
     "name": "stdout",
     "output_type": "stream",
     "text": [
      "say_whee: <function not_during_the_night.<locals>.wrapper at 0x000001E68C96EDC0>\n",
      "Whee!\n"
     ]
    }
   ],
   "source": [
    "#Example of the decorator that modifies a function dynamically.\n",
    "#So as not to disturb your neighbors, the following example will only run the decorated code during the day:\n",
    "\n",
    "from datetime import datetime\n",
    "\n",
    "def not_during_the_night(func): #decorator\n",
    "    def wrapper():\n",
    "        if 7 <= datetime.now().hour < 22:\n",
    "            func()\n",
    "        else:\n",
    "            pass  # Hush, the neighbors are asleep\n",
    "    return wrapper\n",
    "\n",
    "def say_whee():\n",
    "    print(\"Whee!\")\n",
    "\n",
    "say_whee = not_during_the_night(say_whee)\n",
    "print(f\"say_whee: {say_whee}\")\n",
    "say_whee()"
   ]
  },
  {
   "cell_type": "code",
   "execution_count": 21,
   "id": "ab642b6c",
   "metadata": {},
   "outputs": [
    {
     "name": "stdout",
     "output_type": "stream",
     "text": [
      "Something is happening before the function is called.\n",
      "Hey! greet_func greeting\n",
      "Something is happening after the function is called.\n"
     ]
    }
   ],
   "source": [
    "#Simplified syntax of implementing decorators using '@' symbol sometimes called the “pie” syntax\n",
    "\n",
    "def my_decorator(func):\n",
    "    def wrapper():\n",
    "        print(\"Something is happening before the function is called.\")\n",
    "        func()\n",
    "        print(\"Something is happening after the function is called.\")\n",
    "    return wrapper\n",
    "\n",
    "@my_decorator\n",
    "def greet_func():\n",
    "    print(f\"Hey! greet_func greeting\")\n",
    "\n",
    "#calldecor = my_decorator(greet_func)\n",
    "    \n",
    "#@my_decorator =~> calldecor = my_decorator(greet_func)\n",
    "\n",
    "greet_func()"
   ]
  },
  {
   "cell_type": "code",
   "execution_count": null,
   "id": "adf2fa83",
   "metadata": {},
   "outputs": [],
   "source": [
    "#Reusing decorator by importing it from the module\n",
    "#we can save the decorator as a module by saving it as .py file.\n",
    "#Then we can just import the decorator like how we import other modules\n",
    "#then use @decoratorname on top of the function which we want to decorate\n",
    "\n",
    "#Create a file called decorators.py with the following content:\n",
    "# def do_twice(func):\n",
    "#     def wrapper_do_twice():\n",
    "#         func()\n",
    "#         func()\n",
    "#     return wrapper_do_twice\n",
    "\n",
    "\n",
    "#You can now use this new decorator in other files by doing a regular import:\n",
    "\n",
    "# from decorators import do_twice\n",
    "\n",
    "# @do_twice\n",
    "# def say_whee():\n",
    "#     print(\"Whee!\")\n",
    "    \n",
    "# say_whee()"
   ]
  },
  {
   "cell_type": "code",
   "execution_count": 28,
   "id": "71dcc239",
   "metadata": {},
   "outputs": [
    {
     "name": "stdout",
     "output_type": "stream",
     "text": [
      "SOmething before the function is called\n",
      "Bhavana says Whee!\n",
      "Something after the function is called\n",
      "SOmething before the function is called\n",
      "Whee!\n",
      "Something after the function is called\n"
     ]
    }
   ],
   "source": [
    "#Decorating Functions With \"Arguments\"\n",
    "#The solution is to use *args and **kwargs in the inner wrapper function and the function which we are extending and has args\n",
    "#Then it will accept an arbitrary number of positional and keyword arguments.\n",
    "def my_decor(func):\n",
    "    def wrapper(*args, **kwargs):\n",
    "        print(\"Something before the function is called\")\n",
    "        func(*args, **kwargs)\n",
    "        print(\"Something after the function is called\")\n",
    "    return wrapper\n",
    "\n",
    "@my_decor\n",
    "def say_whee(name):\n",
    "    print(f\"{name} says Whee!\")\n",
    "    \n",
    "@my_decor\n",
    "def say_whee_usual():\n",
    "    print(f\"Whee!\")\n",
    "    \n",
    "say_whee('Bhavana')\n",
    "say_whee_usual()"
   ]
  },
  {
   "cell_type": "code",
   "execution_count": 30,
   "id": "6e11aabb",
   "metadata": {},
   "outputs": [
    {
     "name": "stdout",
     "output_type": "stream",
     "text": [
      "SOmething before the function is called\n",
      "Bhavana says Whee!\n",
      "Something after the function is called\n",
      "Returned value is :None\n"
     ]
    }
   ],
   "source": [
    "#Returning Values From Decorated Functions\n",
    "#What happens to the return value of decorated functions? Well, that’s up to the decorator to decide\n",
    "def my_decor(func):\n",
    "    def wrapper(*args, **kwargs):\n",
    "        print(\"SOmething before the function is called\")\n",
    "        func(*args, **kwargs)\n",
    "        print(\"Something after the function is called\")\n",
    "    return wrapper\n",
    "\n",
    "@my_decor\n",
    "def say_whee(name):\n",
    "    print(f\"{name} says Whee!\")\n",
    "    return \"I am returned\"\n",
    "    \n",
    "myreturnval = say_whee('Bhavana') \n",
    "print(f\"Returned value is :{myreturnval}\")\n",
    "\n",
    "#say_whee('Bhavana') executes the decorator as usual\n",
    "#But the values returening by say_whee(name) function is not getting store in myreturnval as you can see , it is None"
   ]
  },
  {
   "cell_type": "code",
   "execution_count": 35,
   "id": "e8340820",
   "metadata": {},
   "outputs": [
    {
     "name": "stdout",
     "output_type": "stream",
     "text": [
      "SOmething before the function is called\n",
      "Bhavana says Whee!\n",
      "Returned value is :I am returned\n",
      "-------------------------\n",
      "SOmething before the function is called\n",
      "Bhavana says Whee!\n"
     ]
    },
    {
     "data": {
      "text/plain": [
       "'I am returned'"
      ]
     },
     "execution_count": 35,
     "metadata": {},
     "output_type": "execute_result"
    }
   ],
   "source": [
    "#Solution is : the wrapper function from where we are calling the decorated function should also return to store the return value\n",
    "def my_decor(func):\n",
    "    def wrapper(*args, **kwargs):\n",
    "        print(\"Something before the function is called\")\n",
    "        return func(*args, **kwargs) #returning\n",
    "        print(\"Something after the function is called\")\n",
    "    return wrapper\n",
    "\n",
    "@my_decor\n",
    "def say_whee(name):\n",
    "    print(f\"{name} says Whee!\")\n",
    "    return \"I am returned\"\n",
    "    \n",
    "myreturnval = say_whee('Bhavana') \n",
    "print(f\"Returned value is :{myreturnval}\")\n",
    "#note: the last print in the wrapper is not printed bcoz we are returning the func() before that print statement\n",
    "print(\"-------------------------\")\n",
    "say_whee('Bhavana') #this also shows the returned value as you can see in the output section"
   ]
  },
  {
   "cell_type": "markdown",
   "id": "f6d47cd8",
   "metadata": {},
   "source": [
    "#### introspection and use of @functools.wraps\n",
    "\n",
    "    Introspection is the ability of an object to know about its own attributes at runtime. \n",
    "    For instance, a function knows its own name and documentation\n",
    "    The introspection works for functions you define yourself as well\n",
    "     @functools.wraps decorator, which will preserve information about the original function. See below"
   ]
  },
  {
   "cell_type": "code",
   "execution_count": 38,
   "id": "29bb5ce5",
   "metadata": {},
   "outputs": [
    {
     "data": {
      "text/plain": [
       "<function print>"
      ]
     },
     "execution_count": 38,
     "metadata": {},
     "output_type": "execute_result"
    }
   ],
   "source": [
    "print"
   ]
  },
  {
   "cell_type": "code",
   "execution_count": 41,
   "id": "a407bb16",
   "metadata": {},
   "outputs": [
    {
     "data": {
      "text/plain": [
       "'print'"
      ]
     },
     "execution_count": 41,
     "metadata": {},
     "output_type": "execute_result"
    }
   ],
   "source": [
    "print.__name__"
   ]
  },
  {
   "cell_type": "code",
   "execution_count": 39,
   "id": "50db62ce",
   "metadata": {},
   "outputs": [
    {
     "name": "stdout",
     "output_type": "stream",
     "text": [
      "Help on built-in function print in module builtins:\n",
      "\n",
      "print(...)\n",
      "    print(value, ..., sep=' ', end='\\n', file=sys.stdout, flush=False)\n",
      "    \n",
      "    Prints the values to a stream, or to sys.stdout by default.\n",
      "    Optional keyword arguments:\n",
      "    file:  a file-like object (stream); defaults to the current sys.stdout.\n",
      "    sep:   string inserted between values, default a space.\n",
      "    end:   string appended after the last value, default a newline.\n",
      "    flush: whether to forcibly flush the stream.\n",
      "\n"
     ]
    }
   ],
   "source": [
    "help(print)"
   ]
  },
  {
   "cell_type": "code",
   "execution_count": 44,
   "id": "ef2b9071",
   "metadata": {},
   "outputs": [
    {
     "data": {
      "text/plain": [
       "<function __main__.my_decor.<locals>.wrapper(*args, **kwargs)>"
      ]
     },
     "execution_count": 44,
     "metadata": {},
     "output_type": "execute_result"
    }
   ],
   "source": [
    "say_whee"
   ]
  },
  {
   "cell_type": "code",
   "execution_count": 45,
   "id": "fabc9923",
   "metadata": {},
   "outputs": [
    {
     "data": {
      "text/plain": [
       "'wrapper'"
      ]
     },
     "execution_count": 45,
     "metadata": {},
     "output_type": "execute_result"
    }
   ],
   "source": [
    "say_whee.__name__"
   ]
  },
  {
   "cell_type": "code",
   "execution_count": 46,
   "id": "893d1515",
   "metadata": {},
   "outputs": [
    {
     "name": "stdout",
     "output_type": "stream",
     "text": [
      "Help on function wrapper in module __main__:\n",
      "\n",
      "wrapper(*args, **kwargs)\n",
      "\n"
     ]
    }
   ],
   "source": [
    "help(say_whee)"
   ]
  },
  {
   "cell_type": "markdown",
   "id": "ffb11b91",
   "metadata": {},
   "source": [
    "#### Observation:\n",
    "    However, after being decorated, say_whee() has gotten very confused about its identity. It now reports being the wrapper() inner function inside the my_decor() decorator. Although technically true, this is not very useful information. To fix this, decorators should use the @functools.wraps decorator, which will preserve information about the original function."
   ]
  },
  {
   "cell_type": "code",
   "execution_count": 48,
   "id": "bce8dcc4",
   "metadata": {},
   "outputs": [
    {
     "name": "stdout",
     "output_type": "stream",
     "text": [
      "SOmething before the function is called\n",
      "Bhavana says Whee!\n",
      "Returned value is :I am returned\n"
     ]
    }
   ],
   "source": [
    "import functools\n",
    "\n",
    "def my_decor(func):\n",
    "    @functools.wraps(func)\n",
    "    def wrapper(*args, **kwargs):\n",
    "        print(\"SOmething before the function is called\")\n",
    "        return func(*args, **kwargs) #returning\n",
    "        print(\"Something after the function is called\")\n",
    "    return wrapper\n",
    "\n",
    "@my_decor\n",
    "def say_whee(name):\n",
    "    print(f\"{name} says Whee!\")\n",
    "    return \"I am returned\"\n",
    "    \n",
    "myreturnval = say_whee('Bhavana') \n",
    "print(f\"Returned value is :{myreturnval}\")"
   ]
  },
  {
   "cell_type": "code",
   "execution_count": 49,
   "id": "70de9a6a",
   "metadata": {},
   "outputs": [
    {
     "data": {
      "text/plain": [
       "<function __main__.say_whee(name)>"
      ]
     },
     "execution_count": 49,
     "metadata": {},
     "output_type": "execute_result"
    }
   ],
   "source": [
    "#Now say_whee original details are preserved\n",
    "say_whee"
   ]
  },
  {
   "cell_type": "code",
   "execution_count": 50,
   "id": "b2ae2b10",
   "metadata": {},
   "outputs": [
    {
     "data": {
      "text/plain": [
       "'say_whee'"
      ]
     },
     "execution_count": 50,
     "metadata": {},
     "output_type": "execute_result"
    }
   ],
   "source": [
    "say_whee.__name__"
   ]
  },
  {
   "cell_type": "code",
   "execution_count": 51,
   "id": "6a1b0750",
   "metadata": {},
   "outputs": [
    {
     "name": "stdout",
     "output_type": "stream",
     "text": [
      "Help on function say_whee in module __main__:\n",
      "\n",
      "say_whee(name)\n",
      "\n"
     ]
    }
   ],
   "source": [
    "help(say_whee)"
   ]
  },
  {
   "cell_type": "markdown",
   "id": "fb343ba7",
   "metadata": {},
   "source": [
    "#### ------------------------------------ Final template of decorator ------------------------------------\n",
    "    import functools\n",
    "\n",
    "    def decorator(func):\n",
    "        @functools.wraps(func)\n",
    "        def wrapper_decorator(*args, **kwargs):\n",
    "            # Do something before\n",
    "            value = func(*args, **kwargs)\n",
    "            # Do something after\n",
    "            return value\n",
    "        return wrapper_decorator"
   ]
  },
  {
   "cell_type": "code",
   "execution_count": 54,
   "id": "42dc419d",
   "metadata": {},
   "outputs": [
    {
     "name": "stdout",
     "output_type": "stream",
     "text": [
      "Finised 'waste_some_time' in 0.0303 seconds\n"
     ]
    }
   ],
   "source": [
    "# Real world examples of decorator\n",
    "#timing function\n",
    "import functools\n",
    "import time\n",
    "\n",
    "def timer(func):\n",
    "    @functools.wraps(func)\n",
    "    def wrapper(*args, **kwargs):\n",
    "        start_time = time.perf_counter() #1\n",
    "        value = func(*args, **kwargs)\n",
    "        end_time = time.perf_counter() #2\n",
    "        elapsed_time = end_time - start_time #3\n",
    "        print(f\"Finised {func.__name__!r} in {elapsed_time:.4f} seconds\")\n",
    "        return value\n",
    "    return wrapper\n",
    "\n",
    "@timer\n",
    "def waste_some_time(num_times):\n",
    "    for _ in range(num_times):\n",
    "        sum([i**2 for i in range(10000)])\n",
    "        \n",
    "waste_some_time(10)\n",
    "\n",
    "#This decorator works by storing the time just before the function starts running (at the line marked # 1) and just after the function finishes (at # 2). \n",
    "#The time the function takes is then the difference between the two (at # 3). \n",
    "#We use the time.perf_counter() function, which does a good job of measuring time intervals.\n",
    "#Note: The @timer decorator is great if you just want to get an idea about the runtime of your functions. \n",
    "#If you want to do more precise measurements of code, you should instead consider the timeit module in the standard library.\n",
    "#It temporarily disables garbage collection and runs multiple trials to strip out noise from quick function calls"
   ]
  },
  {
   "cell_type": "code",
   "execution_count": 57,
   "id": "a989cb03",
   "metadata": {},
   "outputs": [
    {
     "name": "stdout",
     "output_type": "stream",
     "text": [
      "Calling make_greeting('Benjamin')\n",
      "'make_greeting' returned 'Howdy Benjamin!'\n"
     ]
    },
    {
     "data": {
      "text/plain": [
       "'Howdy Benjamin!'"
      ]
     },
     "execution_count": 57,
     "metadata": {},
     "output_type": "execute_result"
    }
   ],
   "source": [
    "#Debugging Code\n",
    "import functools\n",
    "\n",
    "def debug(func):\n",
    "    \"\"\"Print the function signature and return value\"\"\"\n",
    "    @functools.wraps(func)\n",
    "    def wrapper_debug(*args, **kwargs):\n",
    "        args_repr = [repr(a) for a in args]                      # 1\n",
    "        kwargs_repr = [f\"{k}={v!r}\" for k, v in kwargs.items()]  # 2\n",
    "        signature = \", \".join(args_repr + kwargs_repr)           # 3\n",
    "        print(f\"Calling {func.__name__}({signature})\")\n",
    "        value = func(*args, **kwargs)\n",
    "        print(f\"{func.__name__!r} returned {value!r}\")           # 4\n",
    "        return value\n",
    "    return wrapper_debug\n",
    "\n",
    "@debug\n",
    "def make_greeting(name, age=None):\n",
    "    if age is None:\n",
    "        return f\"Howdy {name}!\"\n",
    "    else:\n",
    "        return f\"Whoa {name}! {age} already, you are growing up!\"\n",
    "\n",
    "#The signature is created by joining the string representations of all the arguments.\n",
    "#1.Create a list of the positional arguments. Use repr() to get a nice string representing each argument.\n",
    "#2.Create a list of the keyword arguments. The f-string formats each argument as key=value where the !r specifier means that repr() is used to represent the value.\n",
    "#3. The lists of positional and keyword arguments is joined together to one signature string with each argument separated by a comma.\n",
    "#4. The return value is printed after the function is executed.\n",
    "\n",
    "make_greeting(\"Benjamin\")"
   ]
  },
  {
   "cell_type": "code",
   "execution_count": 58,
   "id": "e73b02e5",
   "metadata": {},
   "outputs": [
    {
     "name": "stdout",
     "output_type": "stream",
     "text": [
      "Calling make_greeting('Richard', age=112)\n",
      "'make_greeting' returned 'Whoa Richard! 112 already, you are growing up!'\n"
     ]
    },
    {
     "data": {
      "text/plain": [
       "'Whoa Richard! 112 already, you are growing up!'"
      ]
     },
     "execution_count": 58,
     "metadata": {},
     "output_type": "execute_result"
    }
   ],
   "source": [
    "make_greeting(\"Richard\", age=112)"
   ]
  },
  {
   "cell_type": "code",
   "execution_count": 63,
   "id": "5a69bd5a",
   "metadata": {
    "collapsed": true
   },
   "outputs": [
    {
     "name": "stdout",
     "output_type": "stream",
     "text": [
      "Calling factorial(0)\n",
      "Calling factorial(0)\n",
      "Calling factorial(0)\n",
      "Calling factorial(0)\n",
      "'factorial' returned 1\n",
      "'factorial' returned 1\n",
      "'factorial' returned 1\n",
      "'factorial' returned 1\n",
      "Calling factorial(1)\n",
      "Calling factorial(1)\n",
      "Calling factorial(1)\n",
      "Calling factorial(1)\n",
      "'factorial' returned 1\n",
      "'factorial' returned 1\n",
      "'factorial' returned 1\n",
      "'factorial' returned 1\n",
      "Calling factorial(2)\n",
      "Calling factorial(2)\n",
      "Calling factorial(2)\n",
      "Calling factorial(2)\n",
      "'factorial' returned 2\n",
      "'factorial' returned 2\n",
      "'factorial' returned 2\n",
      "'factorial' returned 2\n",
      "Calling factorial(3)\n",
      "Calling factorial(3)\n",
      "Calling factorial(3)\n",
      "Calling factorial(3)\n",
      "'factorial' returned 6\n",
      "'factorial' returned 6\n",
      "'factorial' returned 6\n",
      "'factorial' returned 6\n",
      "Calling factorial(4)\n",
      "Calling factorial(4)\n",
      "Calling factorial(4)\n",
      "Calling factorial(4)\n",
      "'factorial' returned 24\n",
      "'factorial' returned 24\n",
      "'factorial' returned 24\n",
      "'factorial' returned 24\n"
     ]
    },
    {
     "data": {
      "text/plain": [
       "2.708333333333333"
      ]
     },
     "execution_count": 63,
     "metadata": {},
     "output_type": "execute_result"
    }
   ],
   "source": [
    "#debugging factorial - debugging standard library function\n",
    "import math\n",
    "\n",
    "def debug(func):\n",
    "    \"\"\"Print the function signature and return value\"\"\"\n",
    "    @functools.wraps(func)\n",
    "    def wrapper_debug(*args, **kwargs):\n",
    "        args_repr = [repr(a) for a in args]                      # 1\n",
    "        kwargs_repr = [f\"{k}={v!r}\" for k, v in kwargs.items()]  # 2\n",
    "        signature = \", \".join(args_repr + kwargs_repr)           # 3\n",
    "        print(f\"Calling {func.__name__}({signature})\")\n",
    "        value = func(*args, **kwargs)\n",
    "        print(f\"{func.__name__!r} returned {value!r}\")           # 4\n",
    "        return value\n",
    "    return wrapper_debug\n",
    "\n",
    "# Apply a decorator to a standard library function\n",
    "math.factorial = debug(math.factorial)\n",
    "\n",
    "def approximate_e(terms=18):\n",
    "    return sum(1 / math.factorial(n) for n in range(terms))\n",
    "\n",
    "approximate_e(5)"
   ]
  },
  {
   "cell_type": "code",
   "execution_count": 64,
   "id": "935f5e17",
   "metadata": {},
   "outputs": [
    {
     "name": "stdout",
     "output_type": "stream",
     "text": [
      "3\n",
      "2\n",
      "1\n",
      "Liftoff!\n"
     ]
    }
   ],
   "source": [
    "#Slowing down code\n",
    "import functools\n",
    "import time\n",
    "\n",
    "def slow_down(func):\n",
    "    \"\"\"Sleep 1 second before calling the function\"\"\"\n",
    "    @functools.wraps(func)\n",
    "    def wrapper_slow_down(*args, **kwargs):\n",
    "        time.sleep(1)\n",
    "        return func(*args, **kwargs)\n",
    "    return wrapper_slow_down\n",
    "\n",
    "@slow_down\n",
    "def countdown(from_number):\n",
    "    if from_number < 1:\n",
    "        print(\"Liftoff!\")\n",
    "    else:\n",
    "        print(from_number)\n",
    "        countdown(from_number - 1) #recursive function - func calling itself\n",
    "        \n",
    "countdown(3)"
   ]
  },
  {
   "cell_type": "code",
   "execution_count": 67,
   "id": "37c7c90f",
   "metadata": {},
   "outputs": [],
   "source": [
    "#Is the use logged in?\n",
    "from flask import Flask, g, request, redirect, url_for\n",
    "import functools\n",
    "app = Flask(__name__)\n",
    "\n",
    "def login_required(func):\n",
    "    \"\"\"Make sure user is logged in before proceeding\"\"\"\n",
    "    @functools.wraps(func)\n",
    "    def wrapper_login_required(*args, **kwargs):\n",
    "        if g.user is None:\n",
    "            return redirect(url_for(\"login\", next=request.url))\n",
    "        return func(*args, **kwargs)\n",
    "    return wrapper_login_required\n",
    "\n",
    "@app.route(\"/secret\")\n",
    "@login_required\n",
    "def secret():\n",
    "    print(\"do something\")\n",
    "    \n",
    "# secret()"
   ]
  },
  {
   "cell_type": "code",
   "execution_count": 71,
   "id": "fe46e073",
   "metadata": {},
   "outputs": [
    {
     "name": "stdout",
     "output_type": "stream",
     "text": [
      "Using 'be_awesome'\n"
     ]
    },
    {
     "data": {
      "text/plain": [
       "'Yo Emily, together we are the awesomest!'"
      ]
     },
     "execution_count": 71,
     "metadata": {},
     "output_type": "execute_result"
    }
   ],
   "source": [
    "#Registering Plugins\n",
    "#Decorators don’t have to wrap the function they’re decorating. \n",
    "#They can also simply register that a function exists and return it unwrapped.\n",
    "#This can be used, for instance, to create a light-weight plug-in architecture:\n",
    "\n",
    "import random\n",
    "PLUGINS = dict()\n",
    "\n",
    "def register(func):\n",
    "    \"\"\"Register a function as a plug-in\"\"\"\n",
    "    PLUGINS[func.__name__] = func\n",
    "    return func\n",
    "\n",
    "@register\n",
    "def say_hello(name):\n",
    "    return f\"Hello {name}\"\n",
    "\n",
    "@register\n",
    "def be_awesome(name):\n",
    "    return f\"Yo {name}, together we are the awesomest!\"\n",
    "\n",
    "def randomly_greet(name):\n",
    "    greeter, greeter_func = random.choice(list(PLUGINS.items()))\n",
    "    print(f\"Using {greeter!r}\")\n",
    "    return greeter_func(name)\n",
    "\n",
    "#The @register decorator simply stores a reference to the decorated function in the global PLUGINS dict.\n",
    "#Note that you do not have to write an inner function or use @functools.wraps in this example\n",
    "#because you are returning the original function unmodified.\n",
    "#The randomly_greet() function randomly chooses one of the registered functions to use.\n",
    "#Note that the PLUGINS dictionary already contains references to each function object that is registered as a plugin\n",
    "#The main benefit of this simple plugin architecture is that you do not need to maintain a list of which plugins exist.\n",
    "#That list is created when the plugins register themselves.\n",
    "#This makes it trivial to add a new plugin: just define the function and decorate it with @register.\n",
    "#globals() in Python works with the plugin architecture works.\n",
    "#globals() gives access to all global variables in the current scope, including your plugins\n",
    "\n",
    "randomly_greet(\"Emily\")"
   ]
  },
  {
   "cell_type": "code",
   "execution_count": 70,
   "id": "ca974887",
   "metadata": {},
   "outputs": [
    {
     "name": "stdout",
     "output_type": "stream",
     "text": [
      "Using 'say_hello'\n"
     ]
    },
    {
     "data": {
      "text/plain": [
       "'Hello Emily'"
      ]
     },
     "execution_count": 70,
     "metadata": {},
     "output_type": "execute_result"
    }
   ],
   "source": [
    "randomly_greet(\"Emily\")"
   ]
  },
  {
   "cell_type": "code",
   "execution_count": 72,
   "id": "9e58d86a",
   "metadata": {},
   "outputs": [
    {
     "data": {
      "text/plain": [
       "{'__name__': '__main__',\n",
       " '__doc__': 'Automatically created module for IPython interactive environment',\n",
       " '__package__': None,\n",
       " '__loader__': None,\n",
       " '__spec__': None,\n",
       " '__builtin__': <module 'builtins' (built-in)>,\n",
       " '__builtins__': <module 'builtins' (built-in)>,\n",
       " '_ih': ['',\n",
       "  'def sayhello(name):\\n    return f\"Hello {name}\"\\n    \\ndef beawesome(name):\\n    return f\"Yo {name}, together we are the awesomest!\"\\n    \\ndef greet_bob(greetfunc):\\n    return greetfunc(\"Bob\")',\n",
       "  'def sayhello(name):\\n    return f\"Hello {name}\"\\n    \\ndef beawesome(name):\\n    return f\"Yo {name}, together we are the awesomest!\"\\n    \\ndef greet_bob(greetfunc):\\n    return greetfunc(\"Bob\")\\n\\ngreetbob(sayhello)',\n",
       "  'def sayhello(name):\\n    return f\"Hello {name}\"\\n    \\ndef beawesome(name):\\n    return f\"Yo {name}, together we are the awesomest!\"\\n    \\ndef greet_bob(greetfunc):\\n    return greetfunc(\"Bob\")\\n\\ngreet_bob(sayhello)',\n",
       "  'def sayhello(name):\\n    return f\"Hello {name}\"\\n    \\ndef beawesome(name):\\n    return f\"Yo {name}, together we are the awesomest!\"\\n    \\ndef greet_bob(greetfunc):\\n    return greetfunc(\"Bob\")\\n\\ngreet_bob(sayhello)\\ngreet_bob(beawesome)',\n",
       "  '#Inner functions\\ndef parent():\\n    print(\"Printing from the parent() function\")\\n\\n    def first_child():\\n        print(\"Printing from the first_child() function\")\\n\\n    def second_child():\\n        print(\"Printing from the second_child() function\")\\n\\n    second_child()\\n    first_child()\\n    \\nparent()',\n",
       "  '#Returning Functions From Functions\\ndef  parent(num):\\n    def first_child():\\n        return f\"Hi! I am Emma\"\\n    \\n    def second_child():\\n        return f\"Hi! I am Hermoine\"\\n    \\n    if num==1:\\n        return first_child #function reference\\n    else:\\n        return second_child\\n\\nparent(1)',\n",
       "  '#Returning Functions From Functions\\ndef  parent(num):\\n    def first_child():\\n        return f\"Hi! I am Emma\"\\n    \\n    def second_child():\\n        return f\"Hi! I am Hermoine\"\\n    \\n    if num==1:\\n        return first_child #function reference\\n    else:\\n        return second_child\\n\\nfirst = parent(1)\\nsecond = parent(2)\\nprint(first)\\nprint(second)',\n",
       "  '#You can now use first and second as if they are regular functions, \\n#even though the functions they point to can’t be accessed directly\\nfirst()',\n",
       "  'second()',\n",
       "  '#### ---------------- decorator -----------------------------\\n#A decorator wraps another function in order to extend the functionality of wrapped funtion\\n# It contains function reference as an argument and also a wrapper function as inner function. The decorator returns the wrapper function\\n# When we call the decorator function, it gives what it returns i.e the reference of wrapper function as \\ndef decorator(func):\\n    def wrapper(func):\\n        func()\\n        print(\"Wrapper function\")\\n    return wrapper\\n\\ndef greet_func():\\n    print(f\"This is the greet_func greeting\")\\n    \\ncalldecor = decorator(greet_func)\\ncalldecor',\n",
       "  '#### ---------------- decorator -----------------------------\\n#A decorator wraps another function in order to extend the functionality of wrapped funtion\\n# It contains function reference as an argument and also a wrapper function as inner function. The decorator returns the wrapper function\\n# When we call the decorator function, it gives what it returns i.e the reference of wrapper function as \\ndef decorator(func):\\n    def wrapper(func):\\n        func()\\n        print(\"Wrapper function\")\\n    return wrapper\\n\\ndef greet_func():\\n    print(f\"This is the greet_func greeting\")\\n    \\ncalldecor = decorator(greet_func)\\ncalldecor #contains the reference of decorator local function wrapper\\ncalldecor() #see the previous 2 cells to understand returning the function from functions',\n",
       "  '#### ---------------- decorator -----------------------------\\n#A decorator wraps another function in order to extend the functionality of wrapped funtion\\n# It contains function reference as an argument and also a wrapper function as inner function. The decorator returns the wrapper function\\n# When we call the decorator function, it gives what it returns i.e the reference of wrapper function as \\ndef decorator(func):\\n    def wrapper(func):\\n        func()\\n        print(\"Wrapper function\")\\n    return wrapper\\n\\ndef greet_func():\\n    print(f\"This is the greet_func greeting\")\\n    \\ncalldecor = decorator(greet_func)\\ncalldecor #contains the reference of decorator local function wrapper\\ncalldecor(greet_func) #see the previous 2 cells to understand returning the function from functions',\n",
       "  '#### ---------------- decorator -----------------------------\\n#A decorator wraps another function in order to extend the functionality of wrapped funtion\\n# It contains function reference as an argument and also a wrapper function as inner function. The decorator returns the wrapper function\\n# When we call the decorator function, it gives what it returns i.e the reference of wrapper function as \\ndef decorator(func):\\n    def wrapper(func):\\n        func()\\n        print(\"Wrapper function\")\\n    return wrapper\\n\\ndef greet_func():\\n    print(f\"This is the greet_func greeting\")\\n    \\ncalldecor = decorator(greet_func)\\nprint(f\"calldecor: {calldecor}\") #contains the reference of decorator local function wrapper\\ncalldecor(greet_func) #see the previous 2 cells to understand returning the function from functions',\n",
       "  '#### ---------------- decorator -----------------------------\\n#A decorator wraps another function in order to extend the functionality of wrapped funtion\\n# It contains function reference as an argument and also a wrapper function as inner function. The decorator returns the wrapper function\\n# When we call the decorator function, it gives what it returns i.e the reference of wrapper function as \\ndef decorator(func):\\n    def wrapper(func):\\n        print(\"Something is happening before the function is called.\")\\n        func()\\n        print(\"Something is happening after the function is called.\")\\n    return wrapper\\n\\ndef greet_func():\\n    print(f\"Hey! greet_func greeting\")\\n    \\ncalldecor = decorator(greet_func)\\nprint(f\"calldecor: {calldecor}\") #contains the reference of decorator local function - wrapper\\n\\ncalldecor(greet_func) #giving the func as parameter which is the argument required for wrapper(func)\\n#see the previous 2 cells to understand returning the function from functions',\n",
       "  '#### ---------------- decorator -----------------------------\\n#A decorator wraps another function in order to extend the functionality of wrapped funtion\\n# It contains function reference as an argument and also a wrapper function as inner function. The decorator returns the wrapper function\\n# When we call the decorator function, it gives what it returns i.e the reference of wrapper function as \\ndef decorator(func):\\n    def wrapper():\\n        print(\"Something is happening before the function is called.\")\\n        func()\\n        print(\"Something is happening after the function is called.\")\\n    return wrapper\\n\\ndef greet_func():\\n    print(f\"Hey! greet_func greeting\")\\n    \\ncalldecor = decorator(greet_func)\\nprint(f\"calldecor: {calldecor}\") #contains the reference of decorator local function - wrapper\\n\\ncalldecor() #calling the func by giving paranthesis - calls wrapper()\\n#see the previous 2 cells to understand returning the function from functions',\n",
       "  '#Example of the decorator that modifies a function dynamically.\\n#So as not to disturb your neighbors, the following example will only run the decorated code during the day:\\n\\nfrom datetime import datetime\\n\\ndef not_during_the_night(func): #decorator\\n    def wrapper():\\n        if 7 <= datetime.now().hour < 22:\\n            func()\\n        else:\\n            pass  # Hush, the neighbors are asleep\\n    return wrapper\\n\\ndef say_whee():\\n    print(\"Whee!\")\\n\\nsay_whee = not_during_the_night(say_whee)',\n",
       "  '#Example of the decorator that modifies a function dynamically.\\n#So as not to disturb your neighbors, the following example will only run the decorated code during the day:\\n\\nfrom datetime import datetime\\n\\ndef not_during_the_night(func): #decorator\\n    def wrapper():\\n        if 7 <= datetime.now().hour < 22:\\n            func()\\n        else:\\n            pass  # Hush, the neighbors are asleep\\n    return wrapper\\n\\ndef say_whee():\\n    print(\"Whee!\")\\n\\nsay_whee = not_during_the_night(say_whee)\\nsay_whee',\n",
       "  '#Example of the decorator that modifies a function dynamically.\\n#So as not to disturb your neighbors, the following example will only run the decorated code during the day:\\n\\nfrom datetime import datetime\\n\\ndef not_during_the_night(func): #decorator\\n    def wrapper():\\n        if 7 <= datetime.now().hour < 22:\\n            func()\\n        else:\\n            pass  # Hush, the neighbors are asleep\\n    return wrapper\\n\\ndef say_whee():\\n    print(\"Whee!\")\\n\\nsay_whee = not_during_the_night(say_whee)\\nprint(f\"say_whee: {say_whee}\")',\n",
       "  '#Example of the decorator that modifies a function dynamically.\\n#So as not to disturb your neighbors, the following example will only run the decorated code during the day:\\n\\nfrom datetime import datetime\\n\\ndef not_during_the_night(func): #decorator\\n    def wrapper():\\n        if 7 <= datetime.now().hour < 22:\\n            func()\\n        else:\\n            pass  # Hush, the neighbors are asleep\\n    return wrapper\\n\\ndef say_whee():\\n    print(\"Whee!\")\\n\\nsay_whee = not_during_the_night(say_whee)\\nprint(f\"say_whee: {say_whee}\")\\nsaywhee()',\n",
       "  '#Example of the decorator that modifies a function dynamically.\\n#So as not to disturb your neighbors, the following example will only run the decorated code during the day:\\n\\nfrom datetime import datetime\\n\\ndef not_during_the_night(func): #decorator\\n    def wrapper():\\n        if 7 <= datetime.now().hour < 22:\\n            func()\\n        else:\\n            pass  # Hush, the neighbors are asleep\\n    return wrapper\\n\\ndef say_whee():\\n    print(\"Whee!\")\\n\\nsay_whee = not_during_the_night(say_whee)\\nprint(f\"say_whee: {say_whee}\")\\nsay_whee()',\n",
       "  '#Simplified syntax of implementing decorators using \\'@\\' symbol sometimes called the “pie” syntax\\n\\ndef my_decorator(func):\\n    def wrapper():\\n        print(\"Something is happening before the function is called.\")\\n        func()\\n        print(\"Something is happening after the function is called.\")\\n    return wrapper\\n\\n@my_decorator\\ndef greet_func():\\n    print(f\"Hey! greet_func greeting\")\\n\\n#calldecor = my_decorator(greet_func)\\n    \\n#@my_decorator =~> calldecor = my_decorator(greet_func)\\ngreet_func()',\n",
       "  '#### ------------------------------------ DECORATOR -----------------------------\\n\\n#A decorator wraps another function in order to extend/modify the functionality of wrapped funtion\\n# It contains function reference as an argument and also a wrapper function as inner function. The decorator returns the wrapper function\\n# When we call the decorator function, it gives what it returns i.e the reference of wrapper function\\n#You can name your inner function whatever you want, and a generic name like wrapper() is usually okay. \\n#Good practice is to use wrapper_ as prefix and then the suitable name.\\n\\ndef decorator(func):\\n    def wrapper():\\n        print(\"Something is happening before the function is called.\")\\n        func()\\n        print(\"Something is happening after the function is called.\")\\n    return wrapper\\n\\ndef greet_func(): #func which we are going to extend or modify\\n    print(f\"Hey! greet_func greeting\")\\n    \\ncalldecor = decorator(greet_func) #decoration happens here\\n#the name calldecor now points to the wrapper() inner function.\\n\\nprint(f\"calldecor: {calldecor}\") #contains the reference of the function that is returning by decorator() - wrapper reference\\n\\ncalldecor() #calling the func by giving paranthesis - calls wrapper()\\n#see the previous 2 cells to understand returning the function from functions\\n\\n#Here wrapper() has a reference to the original greet_func() as func, and calls that function between the two calls to print().',\n",
       "  '#Decorating Functions With \"Arguments\"\\n#The solution is to use *args and **kwargs in the inner wrapper function and the function which we are extending and has args\\n#Then it will accept an arbitrary number of positional and keyword arguments.\\ndef my_decor(func):\\n    def wrapper(*args, **kwargs):\\n        print(\"SOmething before the function is called\")\\n        func(*args, **kwargs)\\n        print(\"Something after the function is called\")\\n    return wrapper\\n\\n@my_decor\\ndef say_whee(name):\\n    print(f\"{name says Whee!}\")\\n    \\nsay_whee()',\n",
       "  '#Decorating Functions With \"Arguments\"\\n#The solution is to use *args and **kwargs in the inner wrapper function and the function which we are extending and has args\\n#Then it will accept an arbitrary number of positional and keyword arguments.\\ndef my_decor(func):\\n    def wrapper(*args, **kwargs):\\n        print(\"SOmething before the function is called\")\\n        func(*args, **kwargs)\\n        print(\"Something after the function is called\")\\n    return wrapper\\n\\n@my_decor\\ndef say_whee(name):\\n    print(f\"{name} says Whee!\")\\n    \\nsay_whee()',\n",
       "  '#Decorating Functions With \"Arguments\"\\n#The solution is to use *args and **kwargs in the inner wrapper function and the function which we are extending and has args\\n#Then it will accept an arbitrary number of positional and keyword arguments.\\ndef my_decor(func):\\n    def wrapper(*args, **kwargs):\\n        print(\"SOmething before the function is called\")\\n        func(*args, **kwargs)\\n        print(\"Something after the function is called\")\\n    return wrapper\\n\\n@my_decor\\ndef say_whee(name):\\n    print(f\"{name} says Whee!\")\\n    \\nsay_whee(\\'Bhavana\\')',\n",
       "  '#Decorating Functions With \"Arguments\"\\n#The solution is to use *args and **kwargs in the inner wrapper function and the function which we are extending and has args\\n#Then it will accept an arbitrary number of positional and keyword arguments.\\ndef my_decor(func):\\n    def wrapper(*args, **kwargs):\\n        print(\"SOmething before the function is called\")\\n        func(*args, **kwargs)\\n        print(\"Something after the function is called\")\\n    return wrapper\\n\\n@my_decor\\ndef say_whee(name):\\n    print(f\"{name} says Whee!\")\\n    \\n@my_decor\\ndef say_whee():\\n    print(f\"Whee!\")\\n    \\nsay_whee(\\'Bhavana\\')',\n",
       "  '#Decorating Functions With \"Arguments\"\\n#The solution is to use *args and **kwargs in the inner wrapper function and the function which we are extending and has args\\n#Then it will accept an arbitrary number of positional and keyword arguments.\\ndef my_decor(func):\\n    def wrapper(*args, **kwargs):\\n        print(\"SOmething before the function is called\")\\n        func(*args, **kwargs)\\n        print(\"Something after the function is called\")\\n    return wrapper\\n\\n@my_decor\\ndef say_whee(name):\\n    print(f\"{name} says Whee!\")\\n    \\n@my_decor\\ndef say_whee_usual():\\n    print(f\"Whee!\")\\n    \\nsay_whee(\\'Bhavana\\')',\n",
       "  '#Decorating Functions With \"Arguments\"\\n#The solution is to use *args and **kwargs in the inner wrapper function and the function which we are extending and has args\\n#Then it will accept an arbitrary number of positional and keyword arguments.\\ndef my_decor(func):\\n    def wrapper(*args, **kwargs):\\n        print(\"SOmething before the function is called\")\\n        func(*args, **kwargs)\\n        print(\"Something after the function is called\")\\n    return wrapper\\n\\n@my_decor\\ndef say_whee(name):\\n    print(f\"{name} says Whee!\")\\n    \\n@my_decor\\ndef say_whee_usual():\\n    print(f\"Whee!\")\\n    \\nsay_whee(\\'Bhavana\\')\\nsay_whee_usual()',\n",
       "  '#Returning Values From Decorated Functions\\n#What happens to the return value of decorated functions? Well, that’s up to the decorator to decide\\ndef my_decor(func):\\n    def wrapper(*args, **kwargs):\\n        print(\"SOmething before the function is called\")\\n        func(*args, **kwargs)\\n        print(\"Something after the function is called\")\\n    return wrapper\\n\\n@my_decor\\ndef say_whee(name):\\n    print(f\"{name} says Whee!\")\\n    return \"I am returned\"\\n    \\nmyreturnval = say_whee(\\'Bhavana\\')\\nprint(myreturnval)',\n",
       "  '#Returning Values From Decorated Functions\\n#What happens to the return value of decorated functions? Well, that’s up to the decorator to decide\\ndef my_decor(func):\\n    def wrapper(*args, **kwargs):\\n        print(\"SOmething before the function is called\")\\n        func(*args, **kwargs)\\n        print(\"Something after the function is called\")\\n    return wrapper\\n\\n@my_decor\\ndef say_whee(name):\\n    print(f\"{name} says Whee!\")\\n    return \"I am returned\"\\n    \\nmyreturnval = say_whee(\\'Bhavana\\') \\nprint(f\"Returned value is :{myreturnval}\")\\n\\n#say_whee(\\'Bhavana\\') executes the decorator as usual\\n#But the values returening by say_whee(name) function is not getting store in myreturnval as you can see , it is None',\n",
       "  '#Solution is : the wrapper function from where we are calling the decorated function should also return to store the return value\\ndef my_decor(func):\\n    def wrapper(*args, **kwargs):\\n        print(\"SOmething before the function is called\")\\n        return func(*args, **kwargs) #returning\\n        print(\"Something after the function is called\")\\n    return wrapper\\n\\n@my_decor\\ndef say_whee(name):\\n    print(f\"{name} says Whee!\")\\n    return \"I am returned\"\\n    \\nmyreturnval = say_whee(\\'Bhavana\\') \\nprint(f\"Returned value is :{myreturnval}\")',\n",
       "  '#Solution is : the wrapper function from where we are calling the decorated function should also return to store the return value\\ndef my_decor(func):\\n    def wrapper(*args, **kwargs):\\n        print(\"SOmething before the function is called\")\\n        return func(*args, **kwargs) #returning\\n        print(\"Something after the function is called\")\\n    return wrapper\\n\\n@my_decor\\ndef say_whee(name):\\n    print(f\"{name} says Whee!\")\\n    return \"I am returned\"\\n    \\nmyreturnval = say_whee(\\'Bhavana\\') \\n# print(f\"Returned value is :{myreturnval}\")\\n#note: the last print in the wrapper is not printed bcoz we are returning the func() before that print statement',\n",
       "  '#Solution is : the wrapper function from where we are calling the decorated function should also return to store the return value\\ndef my_decor(func):\\n    def wrapper(*args, **kwargs):\\n        print(\"SOmething before the function is called\")\\n        return func(*args, **kwargs) #returning\\n        print(\"Something after the function is called\")\\n    return wrapper\\n\\n@my_decor\\ndef say_whee(name):\\n    print(f\"{name} says Whee!\")\\n    return \"I am returned\"\\n    \\nmyreturnval = say_whee(\\'Bhavana\\') \\nprint(f\"Returned value is :{myreturnval}\")\\n#note: the last print in the wrapper is not printed bcoz we are returning the func() before that print statement',\n",
       "  '#Solution is : the wrapper function from where we are calling the decorated function should also return to store the return value\\ndef my_decor(func):\\n    def wrapper(*args, **kwargs):\\n        print(\"SOmething before the function is called\")\\n        return func(*args, **kwargs) #returning\\n        print(\"Something after the function is called\")\\n    return wrapper\\n\\n@my_decor\\ndef say_whee(name):\\n    print(f\"{name} says Whee!\")\\n    return \"I am returned\"\\n    \\nmyreturnval = say_whee(\\'Bhavana\\') \\nprint(f\"Returned value is :{myreturnval}\")\\n#note: the last print in the wrapper is not printed bcoz we are returning the func() before that print statement\\n\\nsay_whee(\\'Bhavana\\')',\n",
       "  '#Solution is : the wrapper function from where we are calling the decorated function should also return to store the return value\\ndef my_decor(func):\\n    def wrapper(*args, **kwargs):\\n        print(\"SOmething before the function is called\")\\n        return func(*args, **kwargs) #returning\\n        print(\"Something after the function is called\")\\n    return wrapper\\n\\n@my_decor\\ndef say_whee(name):\\n    print(f\"{name} says Whee!\")\\n    return \"I am returned\"\\n    \\nmyreturnval = say_whee(\\'Bhavana\\') \\nprint(f\"Returned value is :{myreturnval}\")\\n#note: the last print in the wrapper is not printed bcoz we are returning the func() before that print statement\\nprint(\"-------------------------\")\\nsay_whee(\\'Bhavana\\') #this also shows the returned value as you can see in the output section',\n",
       "  '### introspection and use of functools@wrap\\n\\n# Introspection is the ability of an object to know about its own attributes at runtime. \\n#For instance, a function knows its own name and documentation:\\nprint',\n",
       "  '### introspection and use of functools@wrap\\n\\n# Introspection is the ability of an object to know about its own attributes at runtime. \\n#For instance, a function knows its own name and documentation:\\nprint\\nprint.__name__',\n",
       "  'print',\n",
       "  'help(print)',\n",
       "  '### introspection and use of functools@wrap\\n\\n# Introspection is the ability of an object to know about its own attributes at runtime. \\n#For instance, a function knows its own name and documentation\\n#The introspection works for functions you define yourself as well:',\n",
       "  'print.__name__',\n",
       "  'say_whee',\n",
       "  'my_decor',\n",
       "  'say_whee',\n",
       "  'say_whee.__name__',\n",
       "  'help(say_whee)',\n",
       "  'def my_decor(func):\\n    @functools.wraps(func)\\n    def wrapper(*args, **kwargs):\\n        print(\"SOmething before the function is called\")\\n        return func(*args, **kwargs) #returning\\n        print(\"Something after the function is called\")\\n    return wrapper\\n\\n@my_decor\\ndef say_whee(name):\\n    print(f\"{name} says Whee!\")\\n    return \"I am returned\"\\n    \\nmyreturnval = say_whee(\\'Bhavana\\') \\nprint(f\"Returned value is :{myreturnval}\")',\n",
       "  'import functools\\n\\ndef my_decor(func):\\n    @functools.wraps(func)\\n    def wrapper(*args, **kwargs):\\n        print(\"SOmething before the function is called\")\\n        return func(*args, **kwargs) #returning\\n        print(\"Something after the function is called\")\\n    return wrapper\\n\\n@my_decor\\ndef say_whee(name):\\n    print(f\"{name} says Whee!\")\\n    return \"I am returned\"\\n    \\nmyreturnval = say_whee(\\'Bhavana\\') \\nprint(f\"Returned value is :{myreturnval}\")',\n",
       "  'say_whee',\n",
       "  'say_whee.__name__',\n",
       "  'help(say_whee)',\n",
       "  '# Real world examples of decorator\\nimport functools\\nimport time\\n\\ndef timer(func):\\n    @functools.wraps(func)\\n    def wrapper(*args, **kwargs):\\n        start_time = time.perf_counter()\\n        value = func(*args, **kwargs)\\n        end_time = time.perf_counter()\\n        elapsed_time = end_time - start_time\\n        print(f\"Finised {func.__name__} in {elapsed_time:.4f} seconds\")\\n        return value\\n    return wrapper\\n\\n@timer\\ndef waste_some_time(num_times):\\n    for _ in range(num_times):\\n        sum([i**2 for i in range(10000)])\\n        \\nwaste_s',\n",
       "  '# Real world examples of decorator\\nimport functools\\nimport time\\n\\ndef timer(func):\\n    @functools.wraps(func)\\n    def wrapper(*args, **kwargs):\\n        start_time = time.perf_counter()\\n        value = func(*args, **kwargs)\\n        end_time = time.perf_counter()\\n        elapsed_time = end_time - start_time\\n        print(f\"Finised {func.__name__} in {elapsed_time:.4f} seconds\")\\n        return value\\n    return wrapper\\n\\n@timer\\ndef waste_some_time(num_times):\\n    for _ in range(num_times):\\n        sum([i**2 for i in range(10000)])\\n        \\nwaste_some_time(10)',\n",
       "  '# Real world examples of decorator\\nimport functools\\nimport time\\n\\ndef timer(func):\\n    @functools.wraps(func)\\n    def wrapper(*args, **kwargs):\\n        start_time = time.perf_counter() #1\\n        value = func(*args, **kwargs)\\n        end_time = time.perf_counter() #2\\n        elapsed_time = end_time - start_time #3\\n        print(f\"Finised {func.__name__!r} in {elapsed_time:.4f} seconds\")\\n        return value\\n    return wrapper\\n\\n@timer\\ndef waste_some_time(num_times):\\n    for _ in range(num_times):\\n        sum([i**2 for i in range(10000)])\\n        \\nwaste_some_time(10)',\n",
       "  '#Debugging Code\\nimport functools\\n\\ndef debug(func):\\n    \"\"\"Print the function signature and return value\"\"\"\\n    @functools.wraps(func)\\n    def wrapper_debug(*args, **kwargs):\\n        args_repr = [repr(a) for a in args]                      # 1\\n        kwargs_repr = [f\"{k}={v!r}\" for k, v in kwargs.items()]  # 2\\n        signature = \", \".join(args_repr + kwargs_repr)           # 3\\n        print(f\"Calling {func.__name__}({signature})\")\\n        value = func(*args, **kwargs)\\n        print(f\"{func.__name__!r} returned {value!r}\")           # 4\\n        return value\\n    return wrapper_debug\\n\\n@debug\\ndef make_greeting(name, age=None):\\n    if age is None:\\n        return f\"Howdy {name}!\"\\n    else:\\n        return f\"Whoa {name}! {age} already, you are growing up!\"\\n\\n#The signature is created by joining the string representations of all the arguments.\\n#1.Create a list of the positional arguments. Use repr() to get a nice string representing each argument.\\n#2.Create a list of the keyword arguments. The f-string formats each argument as key=value where the !r specifier means that repr() is used to represent the value.\\n#3. The lists of positional and keyword arguments is joined together to one signature string with each argument separated by a comma.\\n#4. The return value is printed after the function is executed.\\n\\nmake_greeting(\"Benjamin\")',\n",
       "  '#Debugging Code\\nimport functools\\n\\ndef debug(func):\\n    \"\"\"Print the function signature and return value\"\"\"\\n    @functools.wraps(func)\\n    def wrapper_debug(*args, **kwargs):\\n        args_repr = [repr(a) for a in args]                      # 1\\n        kwargs_repr = [f\"{k}={v!r}\" for k, v in kwargs.items()]  # 2\\n        signature = \", \".join(args_repr + kwargs_repr)           # 3\\n        print(f\"Calling {func.__name__}({signature})\")\\n        value = func(*args, **kwargs)\\n        print(f\"{func.__name__!r} returned {value!r}\")           # 4\\n        return value\\n    return wrapper_debug\\n\\n@debug\\ndef make_greeting(name, age=None):\\n    if age is None:\\n        return f\"Howdy {name}!\"\\n    else:\\n        return f\"Whoa {name}! {age} already, you are growing up!\"\\n\\n#The signature is created by joining the string representations of all the arguments.\\n#1.Create a list of the positional arguments. Use repr() to get a nice string representing each argument.\\n#2.Create a list of the keyword arguments. The f-string formats each argument as key=value where the !r specifier means that repr() is used to represent the value.\\n#3. The lists of positional and keyword arguments is joined together to one signature string with each argument separated by a comma.\\n#4. The return value is printed after the function is executed.\\n\\nmake_greeting(\"Benjamin\")\\nmake_greeting(\"Richard\", age=112)',\n",
       "  '#Debugging Code\\nimport functools\\n\\ndef debug(func):\\n    \"\"\"Print the function signature and return value\"\"\"\\n    @functools.wraps(func)\\n    def wrapper_debug(*args, **kwargs):\\n        args_repr = [repr(a) for a in args]                      # 1\\n        kwargs_repr = [f\"{k}={v!r}\" for k, v in kwargs.items()]  # 2\\n        signature = \", \".join(args_repr + kwargs_repr)           # 3\\n        print(f\"Calling {func.__name__}({signature})\")\\n        value = func(*args, **kwargs)\\n        print(f\"{func.__name__!r} returned {value!r}\")           # 4\\n        return value\\n    return wrapper_debug\\n\\n@debug\\ndef make_greeting(name, age=None):\\n    if age is None:\\n        return f\"Howdy {name}!\"\\n    else:\\n        return f\"Whoa {name}! {age} already, you are growing up!\"\\n\\n#The signature is created by joining the string representations of all the arguments.\\n#1.Create a list of the positional arguments. Use repr() to get a nice string representing each argument.\\n#2.Create a list of the keyword arguments. The f-string formats each argument as key=value where the !r specifier means that repr() is used to represent the value.\\n#3. The lists of positional and keyword arguments is joined together to one signature string with each argument separated by a comma.\\n#4. The return value is printed after the function is executed.\\n\\nmake_greeting(\"Benjamin\")',\n",
       "  'make_greeting(\"Richard\", age=112)',\n",
       "  '#debugging factorial\\nimport math\\nfrom decorators import debug\\n\\n# Apply a decorator to a standard library function\\nmath.factorial = debug(math.factorial)\\n\\ndef approximate_e(terms=18):\\n    return sum(1 / math.factorial(n) for n in range(terms))',\n",
       "  '#debugging factorial\\nimport math\\n\\ndef debug(func):\\n    \"\"\"Print the function signature and return value\"\"\"\\n    @functools.wraps(func)\\n    def wrapper_debug(*args, **kwargs):\\n        args_repr = [repr(a) for a in args]                      # 1\\n        kwargs_repr = [f\"{k}={v!r}\" for k, v in kwargs.items()]  # 2\\n        signature = \", \".join(args_repr + kwargs_repr)           # 3\\n        print(f\"Calling {func.__name__}({signature})\")\\n        value = func(*args, **kwargs)\\n        print(f\"{func.__name__!r} returned {value!r}\")           # 4\\n        return value\\n    return wrapper_debug\\n\\n# Apply a decorator to a standard library function\\nmath.factorial = debug(math.factorial)\\n\\ndef approximate_e(terms=18):\\n    return sum(1 / math.factorial(n) for n in range(terms))',\n",
       "  '#debugging factorial\\nimport math\\n\\ndef debug(func):\\n    \"\"\"Print the function signature and return value\"\"\"\\n    @functools.wraps(func)\\n    def wrapper_debug(*args, **kwargs):\\n        args_repr = [repr(a) for a in args]                      # 1\\n        kwargs_repr = [f\"{k}={v!r}\" for k, v in kwargs.items()]  # 2\\n        signature = \", \".join(args_repr + kwargs_repr)           # 3\\n        print(f\"Calling {func.__name__}({signature})\")\\n        value = func(*args, **kwargs)\\n        print(f\"{func.__name__!r} returned {value!r}\")           # 4\\n        return value\\n    return wrapper_debug\\n\\n# Apply a decorator to a standard library function\\nmath.factorial = debug(math.factorial)\\n\\ndef approximate_e(terms=18):\\n    return sum(1 / math.factorial(n) for n in range(terms))',\n",
       "  '#debugging factorial\\nimport math\\n\\ndef debug(func):\\n    \"\"\"Print the function signature and return value\"\"\"\\n    @functools.wraps(func)\\n    def wrapper_debug(*args, **kwargs):\\n        args_repr = [repr(a) for a in args]                      # 1\\n        kwargs_repr = [f\"{k}={v!r}\" for k, v in kwargs.items()]  # 2\\n        signature = \", \".join(args_repr + kwargs_repr)           # 3\\n        print(f\"Calling {func.__name__}({signature})\")\\n        value = func(*args, **kwargs)\\n        print(f\"{func.__name__!r} returned {value!r}\")           # 4\\n        return value\\n    return wrapper_debug\\n\\n# Apply a decorator to a standard library function\\nmath.factorial = debug(math.factorial)\\n\\ndef approximate_e(terms=18):\\n    return sum(1 / math.factorial(n) for n in range(terms))\\n\\napproximate_e(5)',\n",
       "  '#debugging factorial\\nimport math\\n\\ndef debug(func):\\n    \"\"\"Print the function signature and return value\"\"\"\\n    @functools.wraps(func)\\n    def wrapper_debug(*args, **kwargs):\\n        args_repr = [repr(a) for a in args]                      # 1\\n        kwargs_repr = [f\"{k}={v!r}\" for k, v in kwargs.items()]  # 2\\n        signature = \", \".join(args_repr + kwargs_repr)           # 3\\n        print(f\"Calling {func.__name__}({signature})\")\\n        value = func(*args, **kwargs)\\n        print(f\"{func.__name__!r} returned {value!r}\")           # 4\\n        return value\\n    return wrapper_debug\\n\\n# Apply a decorator to a standard library function\\nmath.factorial = debug(math.factorial)\\n\\ndef approximate_e(terms=18):\\n    return sum(1 / math.factorial(n) for n in range(terms))\\n\\napproximate_e(5)',\n",
       "  '#Slowing down code\\nimport functools\\nimport time\\n\\ndef slow_down(func):\\n    \"\"\"Sleep 1 second before calling the function\"\"\"\\n    @functools.wraps(func)\\n    def wrapper_slow_down(*args, **kwargs):\\n        time.sleep(1)\\n        return func(*args, **kwargs)\\n    return wrapper_slow_down\\n\\n@slow_down\\ndef countdown(from_number):\\n    if from_number < 1:\\n        print(\"Liftoff!\")\\n    else:\\n        print(from_number)\\n        countdown(from_number - 1)\\n        \\ncountdown(3)',\n",
       "  '#Is the use logged in?\\nfrom flask import Flask, g, request, redirect, url_for\\nimport functools\\napp = Flask(__name__)\\n\\ndef login_required(func):\\n    \"\"\"Make sure user is logged in before proceeding\"\"\"\\n    @functools.wraps(func)\\n    def wrapper_login_required(*args, **kwargs):\\n        if g.user is None:\\n            return redirect(url_for(\"login\", next=request.url))\\n        return func(*args, **kwargs)\\n    return wrapper_login_required\\n\\n@app.route(\"/secret\")\\n@login_required\\ndef secret():\\n    print(\"do something\")',\n",
       "  '#Is the use logged in?\\nfrom flask import Flask, g, request, redirect, url_for\\nimport functools\\napp = Flask(__name__)\\n\\ndef login_required(func):\\n    \"\"\"Make sure user is logged in before proceeding\"\"\"\\n    @functools.wraps(func)\\n    def wrapper_login_required(*args, **kwargs):\\n        if g.user is None:\\n            return redirect(url_for(\"login\", next=request.url))\\n        return func(*args, **kwargs)\\n    return wrapper_login_required\\n\\n@app.route(\"/secret\")\\n@login_required\\ndef secret():\\n    print(\"do something\")\\n    \\nsecret()',\n",
       "  '#Is the use logged in?\\nfrom flask import Flask, g, request, redirect, url_for\\nimport functools\\napp = Flask(__name__)\\n\\ndef login_required(func):\\n    \"\"\"Make sure user is logged in before proceeding\"\"\"\\n    @functools.wraps(func)\\n    def wrapper_login_required(*args, **kwargs):\\n        if g.user is None:\\n            return redirect(url_for(\"login\", next=request.url))\\n        return func(*args, **kwargs)\\n    return wrapper_login_required\\n\\n@app.route(\"/secret\")\\n@login_required\\ndef secret():\\n    print(\"do something\")\\n    \\n# secret()',\n",
       "  '#Registering Plugins\\n#Decorators don’t have to wrap the function they’re decorating. \\n#They can also simply register that a function exists and return it unwrapped.\\n#This can be used, for instance, to create a light-weight plug-in architecture:\\n\\nimport random\\nPLUGINS = dict()\\n\\ndef register(func):\\n    \"\"\"Register a function as a plug-in\"\"\"\\n    PLUGINS[func.__name__] = func\\n    return func\\n\\n@register\\ndef say_hello(name):\\n    return f\"Hello {name}\"\\n\\n@register\\ndef be_awesome(name):\\n    return f\"Yo {name}, together we are the awesomest!\"\\n\\ndef randomly_greet(name):\\n    greeter, greeter_func = random.choice(list(PLUGINS.items()))\\n    print(f\"Using {greeter!r}\")\\n    return greeter_func(name)\\n\\n#The @register decorator simply stores a reference to the decorated function in the global PLUGINS dict.\\n#Note that you do not have to write an inner function or use @functools.wraps in this example\\n#because you are returning the original function unmodified.\\n#The randomly_greet() function randomly chooses one of the registered functions to use.\\n#Note that the PLUGINS dictionary already contains references to each function object that is registered as a plugin',\n",
       "  '#Registering Plugins\\n#Decorators don’t have to wrap the function they’re decorating. \\n#They can also simply register that a function exists and return it unwrapped.\\n#This can be used, for instance, to create a light-weight plug-in architecture:\\n\\nimport random\\nPLUGINS = dict()\\n\\ndef register(func):\\n    \"\"\"Register a function as a plug-in\"\"\"\\n    PLUGINS[func.__name__] = func\\n    return func\\n\\n@register\\ndef say_hello(name):\\n    return f\"Hello {name}\"\\n\\n@register\\ndef be_awesome(name):\\n    return f\"Yo {name}, together we are the awesomest!\"\\n\\ndef randomly_greet(name):\\n    greeter, greeter_func = random.choice(list(PLUGINS.items()))\\n    print(f\"Using {greeter!r}\")\\n    return greeter_func(name)\\n\\n#The @register decorator simply stores a reference to the decorated function in the global PLUGINS dict.\\n#Note that you do not have to write an inner function or use @functools.wraps in this example\\n#because you are returning the original function unmodified.\\n#The randomly_greet() function randomly chooses one of the registered functions to use.\\n#Note that the PLUGINS dictionary already contains references to each function object that is registered as a plugin\\n\\nrandomly_greet(\"Emily\")',\n",
       "  'randomly_greet(\"Emily\")',\n",
       "  '#Registering Plugins\\n#Decorators don’t have to wrap the function they’re decorating. \\n#They can also simply register that a function exists and return it unwrapped.\\n#This can be used, for instance, to create a light-weight plug-in architecture:\\n\\nimport random\\nPLUGINS = dict()\\n\\ndef register(func):\\n    \"\"\"Register a function as a plug-in\"\"\"\\n    PLUGINS[func.__name__] = func\\n    return func\\n\\n@register\\ndef say_hello(name):\\n    return f\"Hello {name}\"\\n\\n@register\\ndef be_awesome(name):\\n    return f\"Yo {name}, together we are the awesomest!\"\\n\\ndef randomly_greet(name):\\n    greeter, greeter_func = random.choice(list(PLUGINS.items()))\\n    print(f\"Using {greeter!r}\")\\n    return greeter_func(name)\\n\\n#The @register decorator simply stores a reference to the decorated function in the global PLUGINS dict.\\n#Note that you do not have to write an inner function or use @functools.wraps in this example\\n#because you are returning the original function unmodified.\\n#The randomly_greet() function randomly chooses one of the registered functions to use.\\n#Note that the PLUGINS dictionary already contains references to each function object that is registered as a plugin\\n#The main benefit of this simple plugin architecture is that you do not need to maintain a list of which plugins exist.\\n#That list is created when the plugins register themselves.\\n#This makes it trivial to add a new plugin: just define the function and decorate it with @register.\\n#globals() in Python works with the plugin architecture works.\\n#globals() gives access to all global variables in the current scope, including your plugins\\n\\nrandomly_greet(\"Emily\")',\n",
       "  'globals()'],\n",
       " '_oh': {3: 'Hello Bob',\n",
       "  4: 'Yo Bob, together we are the awesomest!',\n",
       "  6: <function __main__.parent.<locals>.first_child()>,\n",
       "  8: 'Hi! I am Emma',\n",
       "  9: 'Hi! I am Hermoine',\n",
       "  10: <function __main__.decorator.<locals>.wrapper(func)>,\n",
       "  17: <function __main__.not_during_the_night.<locals>.wrapper()>,\n",
       "  34: 'I am returned',\n",
       "  35: 'I am returned',\n",
       "  36: <function print>,\n",
       "  37: 'print',\n",
       "  38: <function print>,\n",
       "  41: 'print',\n",
       "  42: <function __main__.my_decor.<locals>.wrapper(*args, **kwargs)>,\n",
       "  43: <function __main__.my_decor(func)>,\n",
       "  44: <function __main__.my_decor.<locals>.wrapper(*args, **kwargs)>,\n",
       "  45: 'wrapper',\n",
       "  49: <function __main__.say_whee(name)>,\n",
       "  50: 'say_whee',\n",
       "  55: 'Howdy Benjamin!',\n",
       "  56: 'Whoa Richard! 112 already, you are growing up!',\n",
       "  57: 'Howdy Benjamin!',\n",
       "  58: 'Whoa Richard! 112 already, you are growing up!',\n",
       "  62: 2.708333333333333,\n",
       "  63: 2.708333333333333,\n",
       "  69: 'Yo Emily, together we are the awesomest!',\n",
       "  70: 'Hello Emily',\n",
       "  71: 'Yo Emily, together we are the awesomest!'},\n",
       " '_dh': [WindowsPath('E:/Learning/ML/Learning Practice/Code')],\n",
       " 'In': ['',\n",
       "  'def sayhello(name):\\n    return f\"Hello {name}\"\\n    \\ndef beawesome(name):\\n    return f\"Yo {name}, together we are the awesomest!\"\\n    \\ndef greet_bob(greetfunc):\\n    return greetfunc(\"Bob\")',\n",
       "  'def sayhello(name):\\n    return f\"Hello {name}\"\\n    \\ndef beawesome(name):\\n    return f\"Yo {name}, together we are the awesomest!\"\\n    \\ndef greet_bob(greetfunc):\\n    return greetfunc(\"Bob\")\\n\\ngreetbob(sayhello)',\n",
       "  'def sayhello(name):\\n    return f\"Hello {name}\"\\n    \\ndef beawesome(name):\\n    return f\"Yo {name}, together we are the awesomest!\"\\n    \\ndef greet_bob(greetfunc):\\n    return greetfunc(\"Bob\")\\n\\ngreet_bob(sayhello)',\n",
       "  'def sayhello(name):\\n    return f\"Hello {name}\"\\n    \\ndef beawesome(name):\\n    return f\"Yo {name}, together we are the awesomest!\"\\n    \\ndef greet_bob(greetfunc):\\n    return greetfunc(\"Bob\")\\n\\ngreet_bob(sayhello)\\ngreet_bob(beawesome)',\n",
       "  '#Inner functions\\ndef parent():\\n    print(\"Printing from the parent() function\")\\n\\n    def first_child():\\n        print(\"Printing from the first_child() function\")\\n\\n    def second_child():\\n        print(\"Printing from the second_child() function\")\\n\\n    second_child()\\n    first_child()\\n    \\nparent()',\n",
       "  '#Returning Functions From Functions\\ndef  parent(num):\\n    def first_child():\\n        return f\"Hi! I am Emma\"\\n    \\n    def second_child():\\n        return f\"Hi! I am Hermoine\"\\n    \\n    if num==1:\\n        return first_child #function reference\\n    else:\\n        return second_child\\n\\nparent(1)',\n",
       "  '#Returning Functions From Functions\\ndef  parent(num):\\n    def first_child():\\n        return f\"Hi! I am Emma\"\\n    \\n    def second_child():\\n        return f\"Hi! I am Hermoine\"\\n    \\n    if num==1:\\n        return first_child #function reference\\n    else:\\n        return second_child\\n\\nfirst = parent(1)\\nsecond = parent(2)\\nprint(first)\\nprint(second)',\n",
       "  '#You can now use first and second as if they are regular functions, \\n#even though the functions they point to can’t be accessed directly\\nfirst()',\n",
       "  'second()',\n",
       "  '#### ---------------- decorator -----------------------------\\n#A decorator wraps another function in order to extend the functionality of wrapped funtion\\n# It contains function reference as an argument and also a wrapper function as inner function. The decorator returns the wrapper function\\n# When we call the decorator function, it gives what it returns i.e the reference of wrapper function as \\ndef decorator(func):\\n    def wrapper(func):\\n        func()\\n        print(\"Wrapper function\")\\n    return wrapper\\n\\ndef greet_func():\\n    print(f\"This is the greet_func greeting\")\\n    \\ncalldecor = decorator(greet_func)\\ncalldecor',\n",
       "  '#### ---------------- decorator -----------------------------\\n#A decorator wraps another function in order to extend the functionality of wrapped funtion\\n# It contains function reference as an argument and also a wrapper function as inner function. The decorator returns the wrapper function\\n# When we call the decorator function, it gives what it returns i.e the reference of wrapper function as \\ndef decorator(func):\\n    def wrapper(func):\\n        func()\\n        print(\"Wrapper function\")\\n    return wrapper\\n\\ndef greet_func():\\n    print(f\"This is the greet_func greeting\")\\n    \\ncalldecor = decorator(greet_func)\\ncalldecor #contains the reference of decorator local function wrapper\\ncalldecor() #see the previous 2 cells to understand returning the function from functions',\n",
       "  '#### ---------------- decorator -----------------------------\\n#A decorator wraps another function in order to extend the functionality of wrapped funtion\\n# It contains function reference as an argument and also a wrapper function as inner function. The decorator returns the wrapper function\\n# When we call the decorator function, it gives what it returns i.e the reference of wrapper function as \\ndef decorator(func):\\n    def wrapper(func):\\n        func()\\n        print(\"Wrapper function\")\\n    return wrapper\\n\\ndef greet_func():\\n    print(f\"This is the greet_func greeting\")\\n    \\ncalldecor = decorator(greet_func)\\ncalldecor #contains the reference of decorator local function wrapper\\ncalldecor(greet_func) #see the previous 2 cells to understand returning the function from functions',\n",
       "  '#### ---------------- decorator -----------------------------\\n#A decorator wraps another function in order to extend the functionality of wrapped funtion\\n# It contains function reference as an argument and also a wrapper function as inner function. The decorator returns the wrapper function\\n# When we call the decorator function, it gives what it returns i.e the reference of wrapper function as \\ndef decorator(func):\\n    def wrapper(func):\\n        func()\\n        print(\"Wrapper function\")\\n    return wrapper\\n\\ndef greet_func():\\n    print(f\"This is the greet_func greeting\")\\n    \\ncalldecor = decorator(greet_func)\\nprint(f\"calldecor: {calldecor}\") #contains the reference of decorator local function wrapper\\ncalldecor(greet_func) #see the previous 2 cells to understand returning the function from functions',\n",
       "  '#### ---------------- decorator -----------------------------\\n#A decorator wraps another function in order to extend the functionality of wrapped funtion\\n# It contains function reference as an argument and also a wrapper function as inner function. The decorator returns the wrapper function\\n# When we call the decorator function, it gives what it returns i.e the reference of wrapper function as \\ndef decorator(func):\\n    def wrapper(func):\\n        print(\"Something is happening before the function is called.\")\\n        func()\\n        print(\"Something is happening after the function is called.\")\\n    return wrapper\\n\\ndef greet_func():\\n    print(f\"Hey! greet_func greeting\")\\n    \\ncalldecor = decorator(greet_func)\\nprint(f\"calldecor: {calldecor}\") #contains the reference of decorator local function - wrapper\\n\\ncalldecor(greet_func) #giving the func as parameter which is the argument required for wrapper(func)\\n#see the previous 2 cells to understand returning the function from functions',\n",
       "  '#### ---------------- decorator -----------------------------\\n#A decorator wraps another function in order to extend the functionality of wrapped funtion\\n# It contains function reference as an argument and also a wrapper function as inner function. The decorator returns the wrapper function\\n# When we call the decorator function, it gives what it returns i.e the reference of wrapper function as \\ndef decorator(func):\\n    def wrapper():\\n        print(\"Something is happening before the function is called.\")\\n        func()\\n        print(\"Something is happening after the function is called.\")\\n    return wrapper\\n\\ndef greet_func():\\n    print(f\"Hey! greet_func greeting\")\\n    \\ncalldecor = decorator(greet_func)\\nprint(f\"calldecor: {calldecor}\") #contains the reference of decorator local function - wrapper\\n\\ncalldecor() #calling the func by giving paranthesis - calls wrapper()\\n#see the previous 2 cells to understand returning the function from functions',\n",
       "  '#Example of the decorator that modifies a function dynamically.\\n#So as not to disturb your neighbors, the following example will only run the decorated code during the day:\\n\\nfrom datetime import datetime\\n\\ndef not_during_the_night(func): #decorator\\n    def wrapper():\\n        if 7 <= datetime.now().hour < 22:\\n            func()\\n        else:\\n            pass  # Hush, the neighbors are asleep\\n    return wrapper\\n\\ndef say_whee():\\n    print(\"Whee!\")\\n\\nsay_whee = not_during_the_night(say_whee)',\n",
       "  '#Example of the decorator that modifies a function dynamically.\\n#So as not to disturb your neighbors, the following example will only run the decorated code during the day:\\n\\nfrom datetime import datetime\\n\\ndef not_during_the_night(func): #decorator\\n    def wrapper():\\n        if 7 <= datetime.now().hour < 22:\\n            func()\\n        else:\\n            pass  # Hush, the neighbors are asleep\\n    return wrapper\\n\\ndef say_whee():\\n    print(\"Whee!\")\\n\\nsay_whee = not_during_the_night(say_whee)\\nsay_whee',\n",
       "  '#Example of the decorator that modifies a function dynamically.\\n#So as not to disturb your neighbors, the following example will only run the decorated code during the day:\\n\\nfrom datetime import datetime\\n\\ndef not_during_the_night(func): #decorator\\n    def wrapper():\\n        if 7 <= datetime.now().hour < 22:\\n            func()\\n        else:\\n            pass  # Hush, the neighbors are asleep\\n    return wrapper\\n\\ndef say_whee():\\n    print(\"Whee!\")\\n\\nsay_whee = not_during_the_night(say_whee)\\nprint(f\"say_whee: {say_whee}\")',\n",
       "  '#Example of the decorator that modifies a function dynamically.\\n#So as not to disturb your neighbors, the following example will only run the decorated code during the day:\\n\\nfrom datetime import datetime\\n\\ndef not_during_the_night(func): #decorator\\n    def wrapper():\\n        if 7 <= datetime.now().hour < 22:\\n            func()\\n        else:\\n            pass  # Hush, the neighbors are asleep\\n    return wrapper\\n\\ndef say_whee():\\n    print(\"Whee!\")\\n\\nsay_whee = not_during_the_night(say_whee)\\nprint(f\"say_whee: {say_whee}\")\\nsaywhee()',\n",
       "  '#Example of the decorator that modifies a function dynamically.\\n#So as not to disturb your neighbors, the following example will only run the decorated code during the day:\\n\\nfrom datetime import datetime\\n\\ndef not_during_the_night(func): #decorator\\n    def wrapper():\\n        if 7 <= datetime.now().hour < 22:\\n            func()\\n        else:\\n            pass  # Hush, the neighbors are asleep\\n    return wrapper\\n\\ndef say_whee():\\n    print(\"Whee!\")\\n\\nsay_whee = not_during_the_night(say_whee)\\nprint(f\"say_whee: {say_whee}\")\\nsay_whee()',\n",
       "  '#Simplified syntax of implementing decorators using \\'@\\' symbol sometimes called the “pie” syntax\\n\\ndef my_decorator(func):\\n    def wrapper():\\n        print(\"Something is happening before the function is called.\")\\n        func()\\n        print(\"Something is happening after the function is called.\")\\n    return wrapper\\n\\n@my_decorator\\ndef greet_func():\\n    print(f\"Hey! greet_func greeting\")\\n\\n#calldecor = my_decorator(greet_func)\\n    \\n#@my_decorator =~> calldecor = my_decorator(greet_func)\\ngreet_func()',\n",
       "  '#### ------------------------------------ DECORATOR -----------------------------\\n\\n#A decorator wraps another function in order to extend/modify the functionality of wrapped funtion\\n# It contains function reference as an argument and also a wrapper function as inner function. The decorator returns the wrapper function\\n# When we call the decorator function, it gives what it returns i.e the reference of wrapper function\\n#You can name your inner function whatever you want, and a generic name like wrapper() is usually okay. \\n#Good practice is to use wrapper_ as prefix and then the suitable name.\\n\\ndef decorator(func):\\n    def wrapper():\\n        print(\"Something is happening before the function is called.\")\\n        func()\\n        print(\"Something is happening after the function is called.\")\\n    return wrapper\\n\\ndef greet_func(): #func which we are going to extend or modify\\n    print(f\"Hey! greet_func greeting\")\\n    \\ncalldecor = decorator(greet_func) #decoration happens here\\n#the name calldecor now points to the wrapper() inner function.\\n\\nprint(f\"calldecor: {calldecor}\") #contains the reference of the function that is returning by decorator() - wrapper reference\\n\\ncalldecor() #calling the func by giving paranthesis - calls wrapper()\\n#see the previous 2 cells to understand returning the function from functions\\n\\n#Here wrapper() has a reference to the original greet_func() as func, and calls that function between the two calls to print().',\n",
       "  '#Decorating Functions With \"Arguments\"\\n#The solution is to use *args and **kwargs in the inner wrapper function and the function which we are extending and has args\\n#Then it will accept an arbitrary number of positional and keyword arguments.\\ndef my_decor(func):\\n    def wrapper(*args, **kwargs):\\n        print(\"SOmething before the function is called\")\\n        func(*args, **kwargs)\\n        print(\"Something after the function is called\")\\n    return wrapper\\n\\n@my_decor\\ndef say_whee(name):\\n    print(f\"{name says Whee!}\")\\n    \\nsay_whee()',\n",
       "  '#Decorating Functions With \"Arguments\"\\n#The solution is to use *args and **kwargs in the inner wrapper function and the function which we are extending and has args\\n#Then it will accept an arbitrary number of positional and keyword arguments.\\ndef my_decor(func):\\n    def wrapper(*args, **kwargs):\\n        print(\"SOmething before the function is called\")\\n        func(*args, **kwargs)\\n        print(\"Something after the function is called\")\\n    return wrapper\\n\\n@my_decor\\ndef say_whee(name):\\n    print(f\"{name} says Whee!\")\\n    \\nsay_whee()',\n",
       "  '#Decorating Functions With \"Arguments\"\\n#The solution is to use *args and **kwargs in the inner wrapper function and the function which we are extending and has args\\n#Then it will accept an arbitrary number of positional and keyword arguments.\\ndef my_decor(func):\\n    def wrapper(*args, **kwargs):\\n        print(\"SOmething before the function is called\")\\n        func(*args, **kwargs)\\n        print(\"Something after the function is called\")\\n    return wrapper\\n\\n@my_decor\\ndef say_whee(name):\\n    print(f\"{name} says Whee!\")\\n    \\nsay_whee(\\'Bhavana\\')',\n",
       "  '#Decorating Functions With \"Arguments\"\\n#The solution is to use *args and **kwargs in the inner wrapper function and the function which we are extending and has args\\n#Then it will accept an arbitrary number of positional and keyword arguments.\\ndef my_decor(func):\\n    def wrapper(*args, **kwargs):\\n        print(\"SOmething before the function is called\")\\n        func(*args, **kwargs)\\n        print(\"Something after the function is called\")\\n    return wrapper\\n\\n@my_decor\\ndef say_whee(name):\\n    print(f\"{name} says Whee!\")\\n    \\n@my_decor\\ndef say_whee():\\n    print(f\"Whee!\")\\n    \\nsay_whee(\\'Bhavana\\')',\n",
       "  '#Decorating Functions With \"Arguments\"\\n#The solution is to use *args and **kwargs in the inner wrapper function and the function which we are extending and has args\\n#Then it will accept an arbitrary number of positional and keyword arguments.\\ndef my_decor(func):\\n    def wrapper(*args, **kwargs):\\n        print(\"SOmething before the function is called\")\\n        func(*args, **kwargs)\\n        print(\"Something after the function is called\")\\n    return wrapper\\n\\n@my_decor\\ndef say_whee(name):\\n    print(f\"{name} says Whee!\")\\n    \\n@my_decor\\ndef say_whee_usual():\\n    print(f\"Whee!\")\\n    \\nsay_whee(\\'Bhavana\\')',\n",
       "  '#Decorating Functions With \"Arguments\"\\n#The solution is to use *args and **kwargs in the inner wrapper function and the function which we are extending and has args\\n#Then it will accept an arbitrary number of positional and keyword arguments.\\ndef my_decor(func):\\n    def wrapper(*args, **kwargs):\\n        print(\"SOmething before the function is called\")\\n        func(*args, **kwargs)\\n        print(\"Something after the function is called\")\\n    return wrapper\\n\\n@my_decor\\ndef say_whee(name):\\n    print(f\"{name} says Whee!\")\\n    \\n@my_decor\\ndef say_whee_usual():\\n    print(f\"Whee!\")\\n    \\nsay_whee(\\'Bhavana\\')\\nsay_whee_usual()',\n",
       "  '#Returning Values From Decorated Functions\\n#What happens to the return value of decorated functions? Well, that’s up to the decorator to decide\\ndef my_decor(func):\\n    def wrapper(*args, **kwargs):\\n        print(\"SOmething before the function is called\")\\n        func(*args, **kwargs)\\n        print(\"Something after the function is called\")\\n    return wrapper\\n\\n@my_decor\\ndef say_whee(name):\\n    print(f\"{name} says Whee!\")\\n    return \"I am returned\"\\n    \\nmyreturnval = say_whee(\\'Bhavana\\')\\nprint(myreturnval)',\n",
       "  '#Returning Values From Decorated Functions\\n#What happens to the return value of decorated functions? Well, that’s up to the decorator to decide\\ndef my_decor(func):\\n    def wrapper(*args, **kwargs):\\n        print(\"SOmething before the function is called\")\\n        func(*args, **kwargs)\\n        print(\"Something after the function is called\")\\n    return wrapper\\n\\n@my_decor\\ndef say_whee(name):\\n    print(f\"{name} says Whee!\")\\n    return \"I am returned\"\\n    \\nmyreturnval = say_whee(\\'Bhavana\\') \\nprint(f\"Returned value is :{myreturnval}\")\\n\\n#say_whee(\\'Bhavana\\') executes the decorator as usual\\n#But the values returening by say_whee(name) function is not getting store in myreturnval as you can see , it is None',\n",
       "  '#Solution is : the wrapper function from where we are calling the decorated function should also return to store the return value\\ndef my_decor(func):\\n    def wrapper(*args, **kwargs):\\n        print(\"SOmething before the function is called\")\\n        return func(*args, **kwargs) #returning\\n        print(\"Something after the function is called\")\\n    return wrapper\\n\\n@my_decor\\ndef say_whee(name):\\n    print(f\"{name} says Whee!\")\\n    return \"I am returned\"\\n    \\nmyreturnval = say_whee(\\'Bhavana\\') \\nprint(f\"Returned value is :{myreturnval}\")',\n",
       "  '#Solution is : the wrapper function from where we are calling the decorated function should also return to store the return value\\ndef my_decor(func):\\n    def wrapper(*args, **kwargs):\\n        print(\"SOmething before the function is called\")\\n        return func(*args, **kwargs) #returning\\n        print(\"Something after the function is called\")\\n    return wrapper\\n\\n@my_decor\\ndef say_whee(name):\\n    print(f\"{name} says Whee!\")\\n    return \"I am returned\"\\n    \\nmyreturnval = say_whee(\\'Bhavana\\') \\n# print(f\"Returned value is :{myreturnval}\")\\n#note: the last print in the wrapper is not printed bcoz we are returning the func() before that print statement',\n",
       "  '#Solution is : the wrapper function from where we are calling the decorated function should also return to store the return value\\ndef my_decor(func):\\n    def wrapper(*args, **kwargs):\\n        print(\"SOmething before the function is called\")\\n        return func(*args, **kwargs) #returning\\n        print(\"Something after the function is called\")\\n    return wrapper\\n\\n@my_decor\\ndef say_whee(name):\\n    print(f\"{name} says Whee!\")\\n    return \"I am returned\"\\n    \\nmyreturnval = say_whee(\\'Bhavana\\') \\nprint(f\"Returned value is :{myreturnval}\")\\n#note: the last print in the wrapper is not printed bcoz we are returning the func() before that print statement',\n",
       "  '#Solution is : the wrapper function from where we are calling the decorated function should also return to store the return value\\ndef my_decor(func):\\n    def wrapper(*args, **kwargs):\\n        print(\"SOmething before the function is called\")\\n        return func(*args, **kwargs) #returning\\n        print(\"Something after the function is called\")\\n    return wrapper\\n\\n@my_decor\\ndef say_whee(name):\\n    print(f\"{name} says Whee!\")\\n    return \"I am returned\"\\n    \\nmyreturnval = say_whee(\\'Bhavana\\') \\nprint(f\"Returned value is :{myreturnval}\")\\n#note: the last print in the wrapper is not printed bcoz we are returning the func() before that print statement\\n\\nsay_whee(\\'Bhavana\\')',\n",
       "  '#Solution is : the wrapper function from where we are calling the decorated function should also return to store the return value\\ndef my_decor(func):\\n    def wrapper(*args, **kwargs):\\n        print(\"SOmething before the function is called\")\\n        return func(*args, **kwargs) #returning\\n        print(\"Something after the function is called\")\\n    return wrapper\\n\\n@my_decor\\ndef say_whee(name):\\n    print(f\"{name} says Whee!\")\\n    return \"I am returned\"\\n    \\nmyreturnval = say_whee(\\'Bhavana\\') \\nprint(f\"Returned value is :{myreturnval}\")\\n#note: the last print in the wrapper is not printed bcoz we are returning the func() before that print statement\\nprint(\"-------------------------\")\\nsay_whee(\\'Bhavana\\') #this also shows the returned value as you can see in the output section',\n",
       "  '### introspection and use of functools@wrap\\n\\n# Introspection is the ability of an object to know about its own attributes at runtime. \\n#For instance, a function knows its own name and documentation:\\nprint',\n",
       "  '### introspection and use of functools@wrap\\n\\n# Introspection is the ability of an object to know about its own attributes at runtime. \\n#For instance, a function knows its own name and documentation:\\nprint\\nprint.__name__',\n",
       "  'print',\n",
       "  'help(print)',\n",
       "  '### introspection and use of functools@wrap\\n\\n# Introspection is the ability of an object to know about its own attributes at runtime. \\n#For instance, a function knows its own name and documentation\\n#The introspection works for functions you define yourself as well:',\n",
       "  'print.__name__',\n",
       "  'say_whee',\n",
       "  'my_decor',\n",
       "  'say_whee',\n",
       "  'say_whee.__name__',\n",
       "  'help(say_whee)',\n",
       "  'def my_decor(func):\\n    @functools.wraps(func)\\n    def wrapper(*args, **kwargs):\\n        print(\"SOmething before the function is called\")\\n        return func(*args, **kwargs) #returning\\n        print(\"Something after the function is called\")\\n    return wrapper\\n\\n@my_decor\\ndef say_whee(name):\\n    print(f\"{name} says Whee!\")\\n    return \"I am returned\"\\n    \\nmyreturnval = say_whee(\\'Bhavana\\') \\nprint(f\"Returned value is :{myreturnval}\")',\n",
       "  'import functools\\n\\ndef my_decor(func):\\n    @functools.wraps(func)\\n    def wrapper(*args, **kwargs):\\n        print(\"SOmething before the function is called\")\\n        return func(*args, **kwargs) #returning\\n        print(\"Something after the function is called\")\\n    return wrapper\\n\\n@my_decor\\ndef say_whee(name):\\n    print(f\"{name} says Whee!\")\\n    return \"I am returned\"\\n    \\nmyreturnval = say_whee(\\'Bhavana\\') \\nprint(f\"Returned value is :{myreturnval}\")',\n",
       "  'say_whee',\n",
       "  'say_whee.__name__',\n",
       "  'help(say_whee)',\n",
       "  '# Real world examples of decorator\\nimport functools\\nimport time\\n\\ndef timer(func):\\n    @functools.wraps(func)\\n    def wrapper(*args, **kwargs):\\n        start_time = time.perf_counter()\\n        value = func(*args, **kwargs)\\n        end_time = time.perf_counter()\\n        elapsed_time = end_time - start_time\\n        print(f\"Finised {func.__name__} in {elapsed_time:.4f} seconds\")\\n        return value\\n    return wrapper\\n\\n@timer\\ndef waste_some_time(num_times):\\n    for _ in range(num_times):\\n        sum([i**2 for i in range(10000)])\\n        \\nwaste_s',\n",
       "  '# Real world examples of decorator\\nimport functools\\nimport time\\n\\ndef timer(func):\\n    @functools.wraps(func)\\n    def wrapper(*args, **kwargs):\\n        start_time = time.perf_counter()\\n        value = func(*args, **kwargs)\\n        end_time = time.perf_counter()\\n        elapsed_time = end_time - start_time\\n        print(f\"Finised {func.__name__} in {elapsed_time:.4f} seconds\")\\n        return value\\n    return wrapper\\n\\n@timer\\ndef waste_some_time(num_times):\\n    for _ in range(num_times):\\n        sum([i**2 for i in range(10000)])\\n        \\nwaste_some_time(10)',\n",
       "  '# Real world examples of decorator\\nimport functools\\nimport time\\n\\ndef timer(func):\\n    @functools.wraps(func)\\n    def wrapper(*args, **kwargs):\\n        start_time = time.perf_counter() #1\\n        value = func(*args, **kwargs)\\n        end_time = time.perf_counter() #2\\n        elapsed_time = end_time - start_time #3\\n        print(f\"Finised {func.__name__!r} in {elapsed_time:.4f} seconds\")\\n        return value\\n    return wrapper\\n\\n@timer\\ndef waste_some_time(num_times):\\n    for _ in range(num_times):\\n        sum([i**2 for i in range(10000)])\\n        \\nwaste_some_time(10)',\n",
       "  '#Debugging Code\\nimport functools\\n\\ndef debug(func):\\n    \"\"\"Print the function signature and return value\"\"\"\\n    @functools.wraps(func)\\n    def wrapper_debug(*args, **kwargs):\\n        args_repr = [repr(a) for a in args]                      # 1\\n        kwargs_repr = [f\"{k}={v!r}\" for k, v in kwargs.items()]  # 2\\n        signature = \", \".join(args_repr + kwargs_repr)           # 3\\n        print(f\"Calling {func.__name__}({signature})\")\\n        value = func(*args, **kwargs)\\n        print(f\"{func.__name__!r} returned {value!r}\")           # 4\\n        return value\\n    return wrapper_debug\\n\\n@debug\\ndef make_greeting(name, age=None):\\n    if age is None:\\n        return f\"Howdy {name}!\"\\n    else:\\n        return f\"Whoa {name}! {age} already, you are growing up!\"\\n\\n#The signature is created by joining the string representations of all the arguments.\\n#1.Create a list of the positional arguments. Use repr() to get a nice string representing each argument.\\n#2.Create a list of the keyword arguments. The f-string formats each argument as key=value where the !r specifier means that repr() is used to represent the value.\\n#3. The lists of positional and keyword arguments is joined together to one signature string with each argument separated by a comma.\\n#4. The return value is printed after the function is executed.\\n\\nmake_greeting(\"Benjamin\")',\n",
       "  '#Debugging Code\\nimport functools\\n\\ndef debug(func):\\n    \"\"\"Print the function signature and return value\"\"\"\\n    @functools.wraps(func)\\n    def wrapper_debug(*args, **kwargs):\\n        args_repr = [repr(a) for a in args]                      # 1\\n        kwargs_repr = [f\"{k}={v!r}\" for k, v in kwargs.items()]  # 2\\n        signature = \", \".join(args_repr + kwargs_repr)           # 3\\n        print(f\"Calling {func.__name__}({signature})\")\\n        value = func(*args, **kwargs)\\n        print(f\"{func.__name__!r} returned {value!r}\")           # 4\\n        return value\\n    return wrapper_debug\\n\\n@debug\\ndef make_greeting(name, age=None):\\n    if age is None:\\n        return f\"Howdy {name}!\"\\n    else:\\n        return f\"Whoa {name}! {age} already, you are growing up!\"\\n\\n#The signature is created by joining the string representations of all the arguments.\\n#1.Create a list of the positional arguments. Use repr() to get a nice string representing each argument.\\n#2.Create a list of the keyword arguments. The f-string formats each argument as key=value where the !r specifier means that repr() is used to represent the value.\\n#3. The lists of positional and keyword arguments is joined together to one signature string with each argument separated by a comma.\\n#4. The return value is printed after the function is executed.\\n\\nmake_greeting(\"Benjamin\")\\nmake_greeting(\"Richard\", age=112)',\n",
       "  '#Debugging Code\\nimport functools\\n\\ndef debug(func):\\n    \"\"\"Print the function signature and return value\"\"\"\\n    @functools.wraps(func)\\n    def wrapper_debug(*args, **kwargs):\\n        args_repr = [repr(a) for a in args]                      # 1\\n        kwargs_repr = [f\"{k}={v!r}\" for k, v in kwargs.items()]  # 2\\n        signature = \", \".join(args_repr + kwargs_repr)           # 3\\n        print(f\"Calling {func.__name__}({signature})\")\\n        value = func(*args, **kwargs)\\n        print(f\"{func.__name__!r} returned {value!r}\")           # 4\\n        return value\\n    return wrapper_debug\\n\\n@debug\\ndef make_greeting(name, age=None):\\n    if age is None:\\n        return f\"Howdy {name}!\"\\n    else:\\n        return f\"Whoa {name}! {age} already, you are growing up!\"\\n\\n#The signature is created by joining the string representations of all the arguments.\\n#1.Create a list of the positional arguments. Use repr() to get a nice string representing each argument.\\n#2.Create a list of the keyword arguments. The f-string formats each argument as key=value where the !r specifier means that repr() is used to represent the value.\\n#3. The lists of positional and keyword arguments is joined together to one signature string with each argument separated by a comma.\\n#4. The return value is printed after the function is executed.\\n\\nmake_greeting(\"Benjamin\")',\n",
       "  'make_greeting(\"Richard\", age=112)',\n",
       "  '#debugging factorial\\nimport math\\nfrom decorators import debug\\n\\n# Apply a decorator to a standard library function\\nmath.factorial = debug(math.factorial)\\n\\ndef approximate_e(terms=18):\\n    return sum(1 / math.factorial(n) for n in range(terms))',\n",
       "  '#debugging factorial\\nimport math\\n\\ndef debug(func):\\n    \"\"\"Print the function signature and return value\"\"\"\\n    @functools.wraps(func)\\n    def wrapper_debug(*args, **kwargs):\\n        args_repr = [repr(a) for a in args]                      # 1\\n        kwargs_repr = [f\"{k}={v!r}\" for k, v in kwargs.items()]  # 2\\n        signature = \", \".join(args_repr + kwargs_repr)           # 3\\n        print(f\"Calling {func.__name__}({signature})\")\\n        value = func(*args, **kwargs)\\n        print(f\"{func.__name__!r} returned {value!r}\")           # 4\\n        return value\\n    return wrapper_debug\\n\\n# Apply a decorator to a standard library function\\nmath.factorial = debug(math.factorial)\\n\\ndef approximate_e(terms=18):\\n    return sum(1 / math.factorial(n) for n in range(terms))',\n",
       "  '#debugging factorial\\nimport math\\n\\ndef debug(func):\\n    \"\"\"Print the function signature and return value\"\"\"\\n    @functools.wraps(func)\\n    def wrapper_debug(*args, **kwargs):\\n        args_repr = [repr(a) for a in args]                      # 1\\n        kwargs_repr = [f\"{k}={v!r}\" for k, v in kwargs.items()]  # 2\\n        signature = \", \".join(args_repr + kwargs_repr)           # 3\\n        print(f\"Calling {func.__name__}({signature})\")\\n        value = func(*args, **kwargs)\\n        print(f\"{func.__name__!r} returned {value!r}\")           # 4\\n        return value\\n    return wrapper_debug\\n\\n# Apply a decorator to a standard library function\\nmath.factorial = debug(math.factorial)\\n\\ndef approximate_e(terms=18):\\n    return sum(1 / math.factorial(n) for n in range(terms))',\n",
       "  '#debugging factorial\\nimport math\\n\\ndef debug(func):\\n    \"\"\"Print the function signature and return value\"\"\"\\n    @functools.wraps(func)\\n    def wrapper_debug(*args, **kwargs):\\n        args_repr = [repr(a) for a in args]                      # 1\\n        kwargs_repr = [f\"{k}={v!r}\" for k, v in kwargs.items()]  # 2\\n        signature = \", \".join(args_repr + kwargs_repr)           # 3\\n        print(f\"Calling {func.__name__}({signature})\")\\n        value = func(*args, **kwargs)\\n        print(f\"{func.__name__!r} returned {value!r}\")           # 4\\n        return value\\n    return wrapper_debug\\n\\n# Apply a decorator to a standard library function\\nmath.factorial = debug(math.factorial)\\n\\ndef approximate_e(terms=18):\\n    return sum(1 / math.factorial(n) for n in range(terms))\\n\\napproximate_e(5)',\n",
       "  '#debugging factorial\\nimport math\\n\\ndef debug(func):\\n    \"\"\"Print the function signature and return value\"\"\"\\n    @functools.wraps(func)\\n    def wrapper_debug(*args, **kwargs):\\n        args_repr = [repr(a) for a in args]                      # 1\\n        kwargs_repr = [f\"{k}={v!r}\" for k, v in kwargs.items()]  # 2\\n        signature = \", \".join(args_repr + kwargs_repr)           # 3\\n        print(f\"Calling {func.__name__}({signature})\")\\n        value = func(*args, **kwargs)\\n        print(f\"{func.__name__!r} returned {value!r}\")           # 4\\n        return value\\n    return wrapper_debug\\n\\n# Apply a decorator to a standard library function\\nmath.factorial = debug(math.factorial)\\n\\ndef approximate_e(terms=18):\\n    return sum(1 / math.factorial(n) for n in range(terms))\\n\\napproximate_e(5)',\n",
       "  '#Slowing down code\\nimport functools\\nimport time\\n\\ndef slow_down(func):\\n    \"\"\"Sleep 1 second before calling the function\"\"\"\\n    @functools.wraps(func)\\n    def wrapper_slow_down(*args, **kwargs):\\n        time.sleep(1)\\n        return func(*args, **kwargs)\\n    return wrapper_slow_down\\n\\n@slow_down\\ndef countdown(from_number):\\n    if from_number < 1:\\n        print(\"Liftoff!\")\\n    else:\\n        print(from_number)\\n        countdown(from_number - 1)\\n        \\ncountdown(3)',\n",
       "  '#Is the use logged in?\\nfrom flask import Flask, g, request, redirect, url_for\\nimport functools\\napp = Flask(__name__)\\n\\ndef login_required(func):\\n    \"\"\"Make sure user is logged in before proceeding\"\"\"\\n    @functools.wraps(func)\\n    def wrapper_login_required(*args, **kwargs):\\n        if g.user is None:\\n            return redirect(url_for(\"login\", next=request.url))\\n        return func(*args, **kwargs)\\n    return wrapper_login_required\\n\\n@app.route(\"/secret\")\\n@login_required\\ndef secret():\\n    print(\"do something\")',\n",
       "  '#Is the use logged in?\\nfrom flask import Flask, g, request, redirect, url_for\\nimport functools\\napp = Flask(__name__)\\n\\ndef login_required(func):\\n    \"\"\"Make sure user is logged in before proceeding\"\"\"\\n    @functools.wraps(func)\\n    def wrapper_login_required(*args, **kwargs):\\n        if g.user is None:\\n            return redirect(url_for(\"login\", next=request.url))\\n        return func(*args, **kwargs)\\n    return wrapper_login_required\\n\\n@app.route(\"/secret\")\\n@login_required\\ndef secret():\\n    print(\"do something\")\\n    \\nsecret()',\n",
       "  '#Is the use logged in?\\nfrom flask import Flask, g, request, redirect, url_for\\nimport functools\\napp = Flask(__name__)\\n\\ndef login_required(func):\\n    \"\"\"Make sure user is logged in before proceeding\"\"\"\\n    @functools.wraps(func)\\n    def wrapper_login_required(*args, **kwargs):\\n        if g.user is None:\\n            return redirect(url_for(\"login\", next=request.url))\\n        return func(*args, **kwargs)\\n    return wrapper_login_required\\n\\n@app.route(\"/secret\")\\n@login_required\\ndef secret():\\n    print(\"do something\")\\n    \\n# secret()',\n",
       "  '#Registering Plugins\\n#Decorators don’t have to wrap the function they’re decorating. \\n#They can also simply register that a function exists and return it unwrapped.\\n#This can be used, for instance, to create a light-weight plug-in architecture:\\n\\nimport random\\nPLUGINS = dict()\\n\\ndef register(func):\\n    \"\"\"Register a function as a plug-in\"\"\"\\n    PLUGINS[func.__name__] = func\\n    return func\\n\\n@register\\ndef say_hello(name):\\n    return f\"Hello {name}\"\\n\\n@register\\ndef be_awesome(name):\\n    return f\"Yo {name}, together we are the awesomest!\"\\n\\ndef randomly_greet(name):\\n    greeter, greeter_func = random.choice(list(PLUGINS.items()))\\n    print(f\"Using {greeter!r}\")\\n    return greeter_func(name)\\n\\n#The @register decorator simply stores a reference to the decorated function in the global PLUGINS dict.\\n#Note that you do not have to write an inner function or use @functools.wraps in this example\\n#because you are returning the original function unmodified.\\n#The randomly_greet() function randomly chooses one of the registered functions to use.\\n#Note that the PLUGINS dictionary already contains references to each function object that is registered as a plugin',\n",
       "  '#Registering Plugins\\n#Decorators don’t have to wrap the function they’re decorating. \\n#They can also simply register that a function exists and return it unwrapped.\\n#This can be used, for instance, to create a light-weight plug-in architecture:\\n\\nimport random\\nPLUGINS = dict()\\n\\ndef register(func):\\n    \"\"\"Register a function as a plug-in\"\"\"\\n    PLUGINS[func.__name__] = func\\n    return func\\n\\n@register\\ndef say_hello(name):\\n    return f\"Hello {name}\"\\n\\n@register\\ndef be_awesome(name):\\n    return f\"Yo {name}, together we are the awesomest!\"\\n\\ndef randomly_greet(name):\\n    greeter, greeter_func = random.choice(list(PLUGINS.items()))\\n    print(f\"Using {greeter!r}\")\\n    return greeter_func(name)\\n\\n#The @register decorator simply stores a reference to the decorated function in the global PLUGINS dict.\\n#Note that you do not have to write an inner function or use @functools.wraps in this example\\n#because you are returning the original function unmodified.\\n#The randomly_greet() function randomly chooses one of the registered functions to use.\\n#Note that the PLUGINS dictionary already contains references to each function object that is registered as a plugin\\n\\nrandomly_greet(\"Emily\")',\n",
       "  'randomly_greet(\"Emily\")',\n",
       "  '#Registering Plugins\\n#Decorators don’t have to wrap the function they’re decorating. \\n#They can also simply register that a function exists and return it unwrapped.\\n#This can be used, for instance, to create a light-weight plug-in architecture:\\n\\nimport random\\nPLUGINS = dict()\\n\\ndef register(func):\\n    \"\"\"Register a function as a plug-in\"\"\"\\n    PLUGINS[func.__name__] = func\\n    return func\\n\\n@register\\ndef say_hello(name):\\n    return f\"Hello {name}\"\\n\\n@register\\ndef be_awesome(name):\\n    return f\"Yo {name}, together we are the awesomest!\"\\n\\ndef randomly_greet(name):\\n    greeter, greeter_func = random.choice(list(PLUGINS.items()))\\n    print(f\"Using {greeter!r}\")\\n    return greeter_func(name)\\n\\n#The @register decorator simply stores a reference to the decorated function in the global PLUGINS dict.\\n#Note that you do not have to write an inner function or use @functools.wraps in this example\\n#because you are returning the original function unmodified.\\n#The randomly_greet() function randomly chooses one of the registered functions to use.\\n#Note that the PLUGINS dictionary already contains references to each function object that is registered as a plugin\\n#The main benefit of this simple plugin architecture is that you do not need to maintain a list of which plugins exist.\\n#That list is created when the plugins register themselves.\\n#This makes it trivial to add a new plugin: just define the function and decorate it with @register.\\n#globals() in Python works with the plugin architecture works.\\n#globals() gives access to all global variables in the current scope, including your plugins\\n\\nrandomly_greet(\"Emily\")',\n",
       "  'globals()'],\n",
       " 'Out': {3: 'Hello Bob',\n",
       "  4: 'Yo Bob, together we are the awesomest!',\n",
       "  6: <function __main__.parent.<locals>.first_child()>,\n",
       "  8: 'Hi! I am Emma',\n",
       "  9: 'Hi! I am Hermoine',\n",
       "  10: <function __main__.decorator.<locals>.wrapper(func)>,\n",
       "  17: <function __main__.not_during_the_night.<locals>.wrapper()>,\n",
       "  34: 'I am returned',\n",
       "  35: 'I am returned',\n",
       "  36: <function print>,\n",
       "  37: 'print',\n",
       "  38: <function print>,\n",
       "  41: 'print',\n",
       "  42: <function __main__.my_decor.<locals>.wrapper(*args, **kwargs)>,\n",
       "  43: <function __main__.my_decor(func)>,\n",
       "  44: <function __main__.my_decor.<locals>.wrapper(*args, **kwargs)>,\n",
       "  45: 'wrapper',\n",
       "  49: <function __main__.say_whee(name)>,\n",
       "  50: 'say_whee',\n",
       "  55: 'Howdy Benjamin!',\n",
       "  56: 'Whoa Richard! 112 already, you are growing up!',\n",
       "  57: 'Howdy Benjamin!',\n",
       "  58: 'Whoa Richard! 112 already, you are growing up!',\n",
       "  62: 2.708333333333333,\n",
       "  63: 2.708333333333333,\n",
       "  69: 'Yo Emily, together we are the awesomest!',\n",
       "  70: 'Hello Emily',\n",
       "  71: 'Yo Emily, together we are the awesomest!'},\n",
       " 'get_ipython': <bound method InteractiveShell.get_ipython of <ipykernel.zmqshell.ZMQInteractiveShell object at 0x000001E689F79760>>,\n",
       " 'exit': <IPython.core.autocall.ZMQExitAutocall at 0x1e689f89910>,\n",
       " 'quit': <IPython.core.autocall.ZMQExitAutocall at 0x1e689f89910>,\n",
       " '_': 'Yo Emily, together we are the awesomest!',\n",
       " '__': 'Hello Emily',\n",
       " '___': 'Yo Emily, together we are the awesomest!',\n",
       " '_i': '#Registering Plugins\\n#Decorators don’t have to wrap the function they’re decorating. \\n#They can also simply register that a function exists and return it unwrapped.\\n#This can be used, for instance, to create a light-weight plug-in architecture:\\n\\nimport random\\nPLUGINS = dict()\\n\\ndef register(func):\\n    \"\"\"Register a function as a plug-in\"\"\"\\n    PLUGINS[func.__name__] = func\\n    return func\\n\\n@register\\ndef say_hello(name):\\n    return f\"Hello {name}\"\\n\\n@register\\ndef be_awesome(name):\\n    return f\"Yo {name}, together we are the awesomest!\"\\n\\ndef randomly_greet(name):\\n    greeter, greeter_func = random.choice(list(PLUGINS.items()))\\n    print(f\"Using {greeter!r}\")\\n    return greeter_func(name)\\n\\n#The @register decorator simply stores a reference to the decorated function in the global PLUGINS dict.\\n#Note that you do not have to write an inner function or use @functools.wraps in this example\\n#because you are returning the original function unmodified.\\n#The randomly_greet() function randomly chooses one of the registered functions to use.\\n#Note that the PLUGINS dictionary already contains references to each function object that is registered as a plugin\\n#The main benefit of this simple plugin architecture is that you do not need to maintain a list of which plugins exist.\\n#That list is created when the plugins register themselves.\\n#This makes it trivial to add a new plugin: just define the function and decorate it with @register.\\n#globals() in Python works with the plugin architecture works.\\n#globals() gives access to all global variables in the current scope, including your plugins\\n\\nrandomly_greet(\"Emily\")',\n",
       " '_ii': 'randomly_greet(\"Emily\")',\n",
       " '_iii': '#Registering Plugins\\n#Decorators don’t have to wrap the function they’re decorating. \\n#They can also simply register that a function exists and return it unwrapped.\\n#This can be used, for instance, to create a light-weight plug-in architecture:\\n\\nimport random\\nPLUGINS = dict()\\n\\ndef register(func):\\n    \"\"\"Register a function as a plug-in\"\"\"\\n    PLUGINS[func.__name__] = func\\n    return func\\n\\n@register\\ndef say_hello(name):\\n    return f\"Hello {name}\"\\n\\n@register\\ndef be_awesome(name):\\n    return f\"Yo {name}, together we are the awesomest!\"\\n\\ndef randomly_greet(name):\\n    greeter, greeter_func = random.choice(list(PLUGINS.items()))\\n    print(f\"Using {greeter!r}\")\\n    return greeter_func(name)\\n\\n#The @register decorator simply stores a reference to the decorated function in the global PLUGINS dict.\\n#Note that you do not have to write an inner function or use @functools.wraps in this example\\n#because you are returning the original function unmodified.\\n#The randomly_greet() function randomly chooses one of the registered functions to use.\\n#Note that the PLUGINS dictionary already contains references to each function object that is registered as a plugin\\n\\nrandomly_greet(\"Emily\")',\n",
       " '_i1': 'def sayhello(name):\\n    return f\"Hello {name}\"\\n    \\ndef beawesome(name):\\n    return f\"Yo {name}, together we are the awesomest!\"\\n    \\ndef greet_bob(greetfunc):\\n    return greetfunc(\"Bob\")',\n",
       " 'sayhello': <function __main__.sayhello(name)>,\n",
       " 'beawesome': <function __main__.beawesome(name)>,\n",
       " 'greet_bob': <function __main__.greet_bob(greetfunc)>,\n",
       " '_i2': 'def sayhello(name):\\n    return f\"Hello {name}\"\\n    \\ndef beawesome(name):\\n    return f\"Yo {name}, together we are the awesomest!\"\\n    \\ndef greet_bob(greetfunc):\\n    return greetfunc(\"Bob\")\\n\\ngreetbob(sayhello)',\n",
       " '_i3': 'def sayhello(name):\\n    return f\"Hello {name}\"\\n    \\ndef beawesome(name):\\n    return f\"Yo {name}, together we are the awesomest!\"\\n    \\ndef greet_bob(greetfunc):\\n    return greetfunc(\"Bob\")\\n\\ngreet_bob(sayhello)',\n",
       " '_3': 'Hello Bob',\n",
       " '_i4': 'def sayhello(name):\\n    return f\"Hello {name}\"\\n    \\ndef beawesome(name):\\n    return f\"Yo {name}, together we are the awesomest!\"\\n    \\ndef greet_bob(greetfunc):\\n    return greetfunc(\"Bob\")\\n\\ngreet_bob(sayhello)\\ngreet_bob(beawesome)',\n",
       " '_4': 'Yo Bob, together we are the awesomest!',\n",
       " '_i5': '#Inner functions\\ndef parent():\\n    print(\"Printing from the parent() function\")\\n\\n    def first_child():\\n        print(\"Printing from the first_child() function\")\\n\\n    def second_child():\\n        print(\"Printing from the second_child() function\")\\n\\n    second_child()\\n    first_child()\\n    \\nparent()',\n",
       " 'parent': <function __main__.parent(num)>,\n",
       " '_i6': '#Returning Functions From Functions\\ndef  parent(num):\\n    def first_child():\\n        return f\"Hi! I am Emma\"\\n    \\n    def second_child():\\n        return f\"Hi! I am Hermoine\"\\n    \\n    if num==1:\\n        return first_child #function reference\\n    else:\\n        return second_child\\n\\nparent(1)',\n",
       " '_6': <function __main__.parent.<locals>.first_child()>,\n",
       " '_i7': '#Returning Functions From Functions\\ndef  parent(num):\\n    def first_child():\\n        return f\"Hi! I am Emma\"\\n    \\n    def second_child():\\n        return f\"Hi! I am Hermoine\"\\n    \\n    if num==1:\\n        return first_child #function reference\\n    else:\\n        return second_child\\n\\nfirst = parent(1)\\nsecond = parent(2)\\nprint(first)\\nprint(second)',\n",
       " 'first': <function __main__.parent.<locals>.first_child()>,\n",
       " 'second': <function __main__.parent.<locals>.second_child()>,\n",
       " '_i8': '#You can now use first and second as if they are regular functions, \\n#even though the functions they point to can’t be accessed directly\\nfirst()',\n",
       " '_8': 'Hi! I am Emma',\n",
       " '_i9': 'second()',\n",
       " '_9': 'Hi! I am Hermoine',\n",
       " '_i10': '#### ---------------- decorator -----------------------------\\n#A decorator wraps another function in order to extend the functionality of wrapped funtion\\n# It contains function reference as an argument and also a wrapper function as inner function. The decorator returns the wrapper function\\n# When we call the decorator function, it gives what it returns i.e the reference of wrapper function as \\ndef decorator(func):\\n    def wrapper(func):\\n        func()\\n        print(\"Wrapper function\")\\n    return wrapper\\n\\ndef greet_func():\\n    print(f\"This is the greet_func greeting\")\\n    \\ncalldecor = decorator(greet_func)\\ncalldecor',\n",
       " 'decorator': <function __main__.decorator(func)>,\n",
       " 'greet_func': <function __main__.greet_func()>,\n",
       " 'calldecor': <function __main__.decorator.<locals>.wrapper()>,\n",
       " '_10': <function __main__.decorator.<locals>.wrapper(func)>,\n",
       " '_i11': '#### ---------------- decorator -----------------------------\\n#A decorator wraps another function in order to extend the functionality of wrapped funtion\\n# It contains function reference as an argument and also a wrapper function as inner function. The decorator returns the wrapper function\\n# When we call the decorator function, it gives what it returns i.e the reference of wrapper function as \\ndef decorator(func):\\n    def wrapper(func):\\n        func()\\n        print(\"Wrapper function\")\\n    return wrapper\\n\\ndef greet_func():\\n    print(f\"This is the greet_func greeting\")\\n    \\ncalldecor = decorator(greet_func)\\ncalldecor #contains the reference of decorator local function wrapper\\ncalldecor() #see the previous 2 cells to understand returning the function from functions',\n",
       " '_i12': '#### ---------------- decorator -----------------------------\\n#A decorator wraps another function in order to extend the functionality of wrapped funtion\\n# It contains function reference as an argument and also a wrapper function as inner function. The decorator returns the wrapper function\\n# When we call the decorator function, it gives what it returns i.e the reference of wrapper function as \\ndef decorator(func):\\n    def wrapper(func):\\n        func()\\n        print(\"Wrapper function\")\\n    return wrapper\\n\\ndef greet_func():\\n    print(f\"This is the greet_func greeting\")\\n    \\ncalldecor = decorator(greet_func)\\ncalldecor #contains the reference of decorator local function wrapper\\ncalldecor(greet_func) #see the previous 2 cells to understand returning the function from functions',\n",
       " '_i13': '#### ---------------- decorator -----------------------------\\n#A decorator wraps another function in order to extend the functionality of wrapped funtion\\n# It contains function reference as an argument and also a wrapper function as inner function. The decorator returns the wrapper function\\n# When we call the decorator function, it gives what it returns i.e the reference of wrapper function as \\ndef decorator(func):\\n    def wrapper(func):\\n        func()\\n        print(\"Wrapper function\")\\n    return wrapper\\n\\ndef greet_func():\\n    print(f\"This is the greet_func greeting\")\\n    \\ncalldecor = decorator(greet_func)\\nprint(f\"calldecor: {calldecor}\") #contains the reference of decorator local function wrapper\\ncalldecor(greet_func) #see the previous 2 cells to understand returning the function from functions',\n",
       " '_i14': '#### ---------------- decorator -----------------------------\\n#A decorator wraps another function in order to extend the functionality of wrapped funtion\\n# It contains function reference as an argument and also a wrapper function as inner function. The decorator returns the wrapper function\\n# When we call the decorator function, it gives what it returns i.e the reference of wrapper function as \\ndef decorator(func):\\n    def wrapper(func):\\n        print(\"Something is happening before the function is called.\")\\n        func()\\n        print(\"Something is happening after the function is called.\")\\n    return wrapper\\n\\ndef greet_func():\\n    print(f\"Hey! greet_func greeting\")\\n    \\ncalldecor = decorator(greet_func)\\nprint(f\"calldecor: {calldecor}\") #contains the reference of decorator local function - wrapper\\n\\ncalldecor(greet_func) #giving the func as parameter which is the argument required for wrapper(func)\\n#see the previous 2 cells to understand returning the function from functions',\n",
       " '_i15': '#### ---------------- decorator -----------------------------\\n#A decorator wraps another function in order to extend the functionality of wrapped funtion\\n# It contains function reference as an argument and also a wrapper function as inner function. The decorator returns the wrapper function\\n# When we call the decorator function, it gives what it returns i.e the reference of wrapper function as \\ndef decorator(func):\\n    def wrapper():\\n        print(\"Something is happening before the function is called.\")\\n        func()\\n        print(\"Something is happening after the function is called.\")\\n    return wrapper\\n\\ndef greet_func():\\n    print(f\"Hey! greet_func greeting\")\\n    \\ncalldecor = decorator(greet_func)\\nprint(f\"calldecor: {calldecor}\") #contains the reference of decorator local function - wrapper\\n\\ncalldecor() #calling the func by giving paranthesis - calls wrapper()\\n#see the previous 2 cells to understand returning the function from functions',\n",
       " '_i16': '#Example of the decorator that modifies a function dynamically.\\n#So as not to disturb your neighbors, the following example will only run the decorated code during the day:\\n\\nfrom datetime import datetime\\n\\ndef not_during_the_night(func): #decorator\\n    def wrapper():\\n        if 7 <= datetime.now().hour < 22:\\n            func()\\n        else:\\n            pass  # Hush, the neighbors are asleep\\n    return wrapper\\n\\ndef say_whee():\\n    print(\"Whee!\")\\n\\nsay_whee = not_during_the_night(say_whee)',\n",
       " 'datetime': datetime.datetime,\n",
       " 'not_during_the_night': <function __main__.not_during_the_night(func)>,\n",
       " 'say_whee': <function __main__.say_whee(name)>,\n",
       " '_i17': '#Example of the decorator that modifies a function dynamically.\\n#So as not to disturb your neighbors, the following example will only run the decorated code during the day:\\n\\nfrom datetime import datetime\\n\\ndef not_during_the_night(func): #decorator\\n    def wrapper():\\n        if 7 <= datetime.now().hour < 22:\\n            func()\\n        else:\\n            pass  # Hush, the neighbors are asleep\\n    return wrapper\\n\\ndef say_whee():\\n    print(\"Whee!\")\\n\\nsay_whee = not_during_the_night(say_whee)\\nsay_whee',\n",
       " '_17': <function __main__.not_during_the_night.<locals>.wrapper()>,\n",
       " '_i18': '#Example of the decorator that modifies a function dynamically.\\n#So as not to disturb your neighbors, the following example will only run the decorated code during the day:\\n\\nfrom datetime import datetime\\n\\ndef not_during_the_night(func): #decorator\\n    def wrapper():\\n        if 7 <= datetime.now().hour < 22:\\n            func()\\n        else:\\n            pass  # Hush, the neighbors are asleep\\n    return wrapper\\n\\ndef say_whee():\\n    print(\"Whee!\")\\n\\nsay_whee = not_during_the_night(say_whee)\\nprint(f\"say_whee: {say_whee}\")',\n",
       " '_i19': '#Example of the decorator that modifies a function dynamically.\\n#So as not to disturb your neighbors, the following example will only run the decorated code during the day:\\n\\nfrom datetime import datetime\\n\\ndef not_during_the_night(func): #decorator\\n    def wrapper():\\n        if 7 <= datetime.now().hour < 22:\\n            func()\\n        else:\\n            pass  # Hush, the neighbors are asleep\\n    return wrapper\\n\\ndef say_whee():\\n    print(\"Whee!\")\\n\\nsay_whee = not_during_the_night(say_whee)\\nprint(f\"say_whee: {say_whee}\")\\nsaywhee()',\n",
       " '_i20': '#Example of the decorator that modifies a function dynamically.\\n#So as not to disturb your neighbors, the following example will only run the decorated code during the day:\\n\\nfrom datetime import datetime\\n\\ndef not_during_the_night(func): #decorator\\n    def wrapper():\\n        if 7 <= datetime.now().hour < 22:\\n            func()\\n        else:\\n            pass  # Hush, the neighbors are asleep\\n    return wrapper\\n\\ndef say_whee():\\n    print(\"Whee!\")\\n\\nsay_whee = not_during_the_night(say_whee)\\nprint(f\"say_whee: {say_whee}\")\\nsay_whee()',\n",
       " '_i21': '#Simplified syntax of implementing decorators using \\'@\\' symbol sometimes called the “pie” syntax\\n\\ndef my_decorator(func):\\n    def wrapper():\\n        print(\"Something is happening before the function is called.\")\\n        func()\\n        print(\"Something is happening after the function is called.\")\\n    return wrapper\\n\\n@my_decorator\\ndef greet_func():\\n    print(f\"Hey! greet_func greeting\")\\n\\n#calldecor = my_decorator(greet_func)\\n    \\n#@my_decorator =~> calldecor = my_decorator(greet_func)\\ngreet_func()',\n",
       " 'my_decorator': <function __main__.my_decorator(func)>,\n",
       " '_i22': '#### ------------------------------------ DECORATOR -----------------------------\\n\\n#A decorator wraps another function in order to extend/modify the functionality of wrapped funtion\\n# It contains function reference as an argument and also a wrapper function as inner function. The decorator returns the wrapper function\\n# When we call the decorator function, it gives what it returns i.e the reference of wrapper function\\n#You can name your inner function whatever you want, and a generic name like wrapper() is usually okay. \\n#Good practice is to use wrapper_ as prefix and then the suitable name.\\n\\ndef decorator(func):\\n    def wrapper():\\n        print(\"Something is happening before the function is called.\")\\n        func()\\n        print(\"Something is happening after the function is called.\")\\n    return wrapper\\n\\ndef greet_func(): #func which we are going to extend or modify\\n    print(f\"Hey! greet_func greeting\")\\n    \\ncalldecor = decorator(greet_func) #decoration happens here\\n#the name calldecor now points to the wrapper() inner function.\\n\\nprint(f\"calldecor: {calldecor}\") #contains the reference of the function that is returning by decorator() - wrapper reference\\n\\ncalldecor() #calling the func by giving paranthesis - calls wrapper()\\n#see the previous 2 cells to understand returning the function from functions\\n\\n#Here wrapper() has a reference to the original greet_func() as func, and calls that function between the two calls to print().',\n",
       " '_i23': '#Decorating Functions With \"Arguments\"\\n#The solution is to use *args and **kwargs in the inner wrapper function and the function which we are extending and has args\\n#Then it will accept an arbitrary number of positional and keyword arguments.\\ndef my_decor(func):\\n    def wrapper(*args, **kwargs):\\n        print(\"SOmething before the function is called\")\\n        func(*args, **kwargs)\\n        print(\"Something after the function is called\")\\n    return wrapper\\n\\n@my_decor\\ndef say_whee(name):\\n    print(f\"{name says Whee!}\")\\n    \\nsay_whee()',\n",
       " '_i24': '#Decorating Functions With \"Arguments\"\\n#The solution is to use *args and **kwargs in the inner wrapper function and the function which we are extending and has args\\n#Then it will accept an arbitrary number of positional and keyword arguments.\\ndef my_decor(func):\\n    def wrapper(*args, **kwargs):\\n        print(\"SOmething before the function is called\")\\n        func(*args, **kwargs)\\n        print(\"Something after the function is called\")\\n    return wrapper\\n\\n@my_decor\\ndef say_whee(name):\\n    print(f\"{name} says Whee!\")\\n    \\nsay_whee()',\n",
       " 'my_decor': <function __main__.my_decor(func)>,\n",
       " '_i25': '#Decorating Functions With \"Arguments\"\\n#The solution is to use *args and **kwargs in the inner wrapper function and the function which we are extending and has args\\n#Then it will accept an arbitrary number of positional and keyword arguments.\\ndef my_decor(func):\\n    def wrapper(*args, **kwargs):\\n        print(\"SOmething before the function is called\")\\n        func(*args, **kwargs)\\n        print(\"Something after the function is called\")\\n    return wrapper\\n\\n@my_decor\\ndef say_whee(name):\\n    print(f\"{name} says Whee!\")\\n    \\nsay_whee(\\'Bhavana\\')',\n",
       " '_i26': '#Decorating Functions With \"Arguments\"\\n#The solution is to use *args and **kwargs in the inner wrapper function and the function which we are extending and has args\\n#Then it will accept an arbitrary number of positional and keyword arguments.\\ndef my_decor(func):\\n    def wrapper(*args, **kwargs):\\n        print(\"SOmething before the function is called\")\\n        func(*args, **kwargs)\\n        print(\"Something after the function is called\")\\n    return wrapper\\n\\n@my_decor\\ndef say_whee(name):\\n    print(f\"{name} says Whee!\")\\n    \\n@my_decor\\ndef say_whee():\\n    print(f\"Whee!\")\\n    \\nsay_whee(\\'Bhavana\\')',\n",
       " '_i27': '#Decorating Functions With \"Arguments\"\\n#The solution is to use *args and **kwargs in the inner wrapper function and the function which we are extending and has args\\n#Then it will accept an arbitrary number of positional and keyword arguments.\\ndef my_decor(func):\\n    def wrapper(*args, **kwargs):\\n        print(\"SOmething before the function is called\")\\n        func(*args, **kwargs)\\n        print(\"Something after the function is called\")\\n    return wrapper\\n\\n@my_decor\\ndef say_whee(name):\\n    print(f\"{name} says Whee!\")\\n    \\n@my_decor\\ndef say_whee_usual():\\n    print(f\"Whee!\")\\n    \\nsay_whee(\\'Bhavana\\')',\n",
       " 'say_whee_usual': <function __main__.my_decor.<locals>.wrapper(*args, **kwargs)>,\n",
       " '_i28': '#Decorating Functions With \"Arguments\"\\n#The solution is to use *args and **kwargs in the inner wrapper function and the function which we are extending and has args\\n#Then it will accept an arbitrary number of positional and keyword arguments.\\ndef my_decor(func):\\n    def wrapper(*args, **kwargs):\\n        print(\"SOmething before the function is called\")\\n        func(*args, **kwargs)\\n        print(\"Something after the function is called\")\\n    return wrapper\\n\\n@my_decor\\ndef say_whee(name):\\n    print(f\"{name} says Whee!\")\\n    \\n@my_decor\\ndef say_whee_usual():\\n    print(f\"Whee!\")\\n    \\nsay_whee(\\'Bhavana\\')\\nsay_whee_usual()',\n",
       " '_i29': '#Returning Values From Decorated Functions\\n#What happens to the return value of decorated functions? Well, that’s up to the decorator to decide\\ndef my_decor(func):\\n    def wrapper(*args, **kwargs):\\n        print(\"SOmething before the function is called\")\\n        func(*args, **kwargs)\\n        print(\"Something after the function is called\")\\n    return wrapper\\n\\n@my_decor\\ndef say_whee(name):\\n    print(f\"{name} says Whee!\")\\n    return \"I am returned\"\\n    \\nmyreturnval = say_whee(\\'Bhavana\\')\\nprint(myreturnval)',\n",
       " 'myreturnval': 'I am returned',\n",
       " '_i30': '#Returning Values From Decorated Functions\\n#What happens to the return value of decorated functions? Well, that’s up to the decorator to decide\\ndef my_decor(func):\\n    def wrapper(*args, **kwargs):\\n        print(\"SOmething before the function is called\")\\n        func(*args, **kwargs)\\n        print(\"Something after the function is called\")\\n    return wrapper\\n\\n@my_decor\\ndef say_whee(name):\\n    print(f\"{name} says Whee!\")\\n    return \"I am returned\"\\n    \\nmyreturnval = say_whee(\\'Bhavana\\') \\nprint(f\"Returned value is :{myreturnval}\")\\n\\n#say_whee(\\'Bhavana\\') executes the decorator as usual\\n#But the values returening by say_whee(name) function is not getting store in myreturnval as you can see , it is None',\n",
       " '_i31': '#Solution is : the wrapper function from where we are calling the decorated function should also return to store the return value\\ndef my_decor(func):\\n    def wrapper(*args, **kwargs):\\n        print(\"SOmething before the function is called\")\\n        return func(*args, **kwargs) #returning\\n        print(\"Something after the function is called\")\\n    return wrapper\\n\\n@my_decor\\ndef say_whee(name):\\n    print(f\"{name} says Whee!\")\\n    return \"I am returned\"\\n    \\nmyreturnval = say_whee(\\'Bhavana\\') \\nprint(f\"Returned value is :{myreturnval}\")',\n",
       " '_i32': '#Solution is : the wrapper function from where we are calling the decorated function should also return to store the return value\\ndef my_decor(func):\\n    def wrapper(*args, **kwargs):\\n        print(\"SOmething before the function is called\")\\n        return func(*args, **kwargs) #returning\\n        print(\"Something after the function is called\")\\n    return wrapper\\n\\n@my_decor\\ndef say_whee(name):\\n    print(f\"{name} says Whee!\")\\n    return \"I am returned\"\\n    \\nmyreturnval = say_whee(\\'Bhavana\\') \\n# print(f\"Returned value is :{myreturnval}\")\\n#note: the last print in the wrapper is not printed bcoz we are returning the func() before that print statement',\n",
       " '_i33': '#Solution is : the wrapper function from where we are calling the decorated function should also return to store the return value\\ndef my_decor(func):\\n    def wrapper(*args, **kwargs):\\n        print(\"SOmething before the function is called\")\\n        return func(*args, **kwargs) #returning\\n        print(\"Something after the function is called\")\\n    return wrapper\\n\\n@my_decor\\ndef say_whee(name):\\n    print(f\"{name} says Whee!\")\\n    return \"I am returned\"\\n    \\nmyreturnval = say_whee(\\'Bhavana\\') \\nprint(f\"Returned value is :{myreturnval}\")\\n#note: the last print in the wrapper is not printed bcoz we are returning the func() before that print statement',\n",
       " '_i34': '#Solution is : the wrapper function from where we are calling the decorated function should also return to store the return value\\ndef my_decor(func):\\n    def wrapper(*args, **kwargs):\\n        print(\"SOmething before the function is called\")\\n        return func(*args, **kwargs) #returning\\n        print(\"Something after the function is called\")\\n    return wrapper\\n\\n@my_decor\\ndef say_whee(name):\\n    print(f\"{name} says Whee!\")\\n    return \"I am returned\"\\n    \\nmyreturnval = say_whee(\\'Bhavana\\') \\nprint(f\"Returned value is :{myreturnval}\")\\n#note: the last print in the wrapper is not printed bcoz we are returning the func() before that print statement\\n\\nsay_whee(\\'Bhavana\\')',\n",
       " '_34': 'I am returned',\n",
       " '_i35': '#Solution is : the wrapper function from where we are calling the decorated function should also return to store the return value\\ndef my_decor(func):\\n    def wrapper(*args, **kwargs):\\n        print(\"SOmething before the function is called\")\\n        return func(*args, **kwargs) #returning\\n        print(\"Something after the function is called\")\\n    return wrapper\\n\\n@my_decor\\ndef say_whee(name):\\n    print(f\"{name} says Whee!\")\\n    return \"I am returned\"\\n    \\nmyreturnval = say_whee(\\'Bhavana\\') \\nprint(f\"Returned value is :{myreturnval}\")\\n#note: the last print in the wrapper is not printed bcoz we are returning the func() before that print statement\\nprint(\"-------------------------\")\\nsay_whee(\\'Bhavana\\') #this also shows the returned value as you can see in the output section',\n",
       " '_35': 'I am returned',\n",
       " '_i36': '### introspection and use of functools@wrap\\n\\n# Introspection is the ability of an object to know about its own attributes at runtime. \\n#For instance, a function knows its own name and documentation:\\nprint',\n",
       " '_36': <function print>,\n",
       " '_i37': '### introspection and use of functools@wrap\\n\\n# Introspection is the ability of an object to know about its own attributes at runtime. \\n#For instance, a function knows its own name and documentation:\\nprint\\nprint.__name__',\n",
       " '_37': 'print',\n",
       " '_i38': 'print',\n",
       " '_38': <function print>,\n",
       " '_i39': 'help(print)',\n",
       " '_i40': '### introspection and use of functools@wrap\\n\\n# Introspection is the ability of an object to know about its own attributes at runtime. \\n#For instance, a function knows its own name and documentation\\n#The introspection works for functions you define yourself as well:',\n",
       " '_i41': 'print.__name__',\n",
       " '_41': 'print',\n",
       " '_i42': 'say_whee',\n",
       " '_42': <function __main__.my_decor.<locals>.wrapper(*args, **kwargs)>,\n",
       " '_i43': 'my_decor',\n",
       " '_43': <function __main__.my_decor(func)>,\n",
       " '_i44': 'say_whee',\n",
       " '_44': <function __main__.my_decor.<locals>.wrapper(*args, **kwargs)>,\n",
       " '_i45': 'say_whee.__name__',\n",
       " '_45': 'wrapper',\n",
       " '_i46': 'help(say_whee)',\n",
       " '_i47': 'def my_decor(func):\\n    @functools.wraps(func)\\n    def wrapper(*args, **kwargs):\\n        print(\"SOmething before the function is called\")\\n        return func(*args, **kwargs) #returning\\n        print(\"Something after the function is called\")\\n    return wrapper\\n\\n@my_decor\\ndef say_whee(name):\\n    print(f\"{name} says Whee!\")\\n    return \"I am returned\"\\n    \\nmyreturnval = say_whee(\\'Bhavana\\') \\nprint(f\"Returned value is :{myreturnval}\")',\n",
       " '_i48': 'import functools\\n\\ndef my_decor(func):\\n    @functools.wraps(func)\\n    def wrapper(*args, **kwargs):\\n        print(\"SOmething before the function is called\")\\n        return func(*args, **kwargs) #returning\\n        print(\"Something after the function is called\")\\n    return wrapper\\n\\n@my_decor\\ndef say_whee(name):\\n    print(f\"{name} says Whee!\")\\n    return \"I am returned\"\\n    \\nmyreturnval = say_whee(\\'Bhavana\\') \\nprint(f\"Returned value is :{myreturnval}\")',\n",
       " 'functools': <module 'functools' from 'C:\\\\Users\\\\malla\\\\anaconda3\\\\lib\\\\functools.py'>,\n",
       " '_i49': 'say_whee',\n",
       " '_49': <function __main__.say_whee(name)>,\n",
       " '_i50': 'say_whee.__name__',\n",
       " '_50': 'say_whee',\n",
       " '_i51': 'help(say_whee)',\n",
       " '_i52': '# Real world examples of decorator\\nimport functools\\nimport time\\n\\ndef timer(func):\\n    @functools.wraps(func)\\n    def wrapper(*args, **kwargs):\\n        start_time = time.perf_counter()\\n        value = func(*args, **kwargs)\\n        end_time = time.perf_counter()\\n        elapsed_time = end_time - start_time\\n        print(f\"Finised {func.__name__} in {elapsed_time:.4f} seconds\")\\n        return value\\n    return wrapper\\n\\n@timer\\ndef waste_some_time(num_times):\\n    for _ in range(num_times):\\n        sum([i**2 for i in range(10000)])\\n        \\nwaste_s',\n",
       " 'time': <module 'time' (built-in)>,\n",
       " 'timer': <function __main__.timer(func)>,\n",
       " 'waste_some_time': <function __main__.waste_some_time(num_times)>,\n",
       " '_i53': '# Real world examples of decorator\\nimport functools\\nimport time\\n\\ndef timer(func):\\n    @functools.wraps(func)\\n    def wrapper(*args, **kwargs):\\n        start_time = time.perf_counter()\\n        value = func(*args, **kwargs)\\n        end_time = time.perf_counter()\\n        elapsed_time = end_time - start_time\\n        print(f\"Finised {func.__name__} in {elapsed_time:.4f} seconds\")\\n        return value\\n    return wrapper\\n\\n@timer\\ndef waste_some_time(num_times):\\n    for _ in range(num_times):\\n        sum([i**2 for i in range(10000)])\\n        \\nwaste_some_time(10)',\n",
       " '_i54': '# Real world examples of decorator\\nimport functools\\nimport time\\n\\ndef timer(func):\\n    @functools.wraps(func)\\n    def wrapper(*args, **kwargs):\\n        start_time = time.perf_counter() #1\\n        value = func(*args, **kwargs)\\n        end_time = time.perf_counter() #2\\n        elapsed_time = end_time - start_time #3\\n        print(f\"Finised {func.__name__!r} in {elapsed_time:.4f} seconds\")\\n        return value\\n    return wrapper\\n\\n@timer\\ndef waste_some_time(num_times):\\n    for _ in range(num_times):\\n        sum([i**2 for i in range(10000)])\\n        \\nwaste_some_time(10)',\n",
       " '_i55': '#Debugging Code\\nimport functools\\n\\ndef debug(func):\\n    \"\"\"Print the function signature and return value\"\"\"\\n    @functools.wraps(func)\\n    def wrapper_debug(*args, **kwargs):\\n        args_repr = [repr(a) for a in args]                      # 1\\n        kwargs_repr = [f\"{k}={v!r}\" for k, v in kwargs.items()]  # 2\\n        signature = \", \".join(args_repr + kwargs_repr)           # 3\\n        print(f\"Calling {func.__name__}({signature})\")\\n        value = func(*args, **kwargs)\\n        print(f\"{func.__name__!r} returned {value!r}\")           # 4\\n        return value\\n    return wrapper_debug\\n\\n@debug\\ndef make_greeting(name, age=None):\\n    if age is None:\\n        return f\"Howdy {name}!\"\\n    else:\\n        return f\"Whoa {name}! {age} already, you are growing up!\"\\n\\n#The signature is created by joining the string representations of all the arguments.\\n#1.Create a list of the positional arguments. Use repr() to get a nice string representing each argument.\\n#2.Create a list of the keyword arguments. The f-string formats each argument as key=value where the !r specifier means that repr() is used to represent the value.\\n#3. The lists of positional and keyword arguments is joined together to one signature string with each argument separated by a comma.\\n#4. The return value is printed after the function is executed.\\n\\nmake_greeting(\"Benjamin\")',\n",
       " 'debug': <function __main__.debug(func)>,\n",
       " 'make_greeting': <function __main__.make_greeting(name, age=None)>,\n",
       " '_55': 'Howdy Benjamin!',\n",
       " '_i56': '#Debugging Code\\nimport functools\\n\\ndef debug(func):\\n    \"\"\"Print the function signature and return value\"\"\"\\n    @functools.wraps(func)\\n    def wrapper_debug(*args, **kwargs):\\n        args_repr = [repr(a) for a in args]                      # 1\\n        kwargs_repr = [f\"{k}={v!r}\" for k, v in kwargs.items()]  # 2\\n        signature = \", \".join(args_repr + kwargs_repr)           # 3\\n        print(f\"Calling {func.__name__}({signature})\")\\n        value = func(*args, **kwargs)\\n        print(f\"{func.__name__!r} returned {value!r}\")           # 4\\n        return value\\n    return wrapper_debug\\n\\n@debug\\ndef make_greeting(name, age=None):\\n    if age is None:\\n        return f\"Howdy {name}!\"\\n    else:\\n        return f\"Whoa {name}! {age} already, you are growing up!\"\\n\\n#The signature is created by joining the string representations of all the arguments.\\n#1.Create a list of the positional arguments. Use repr() to get a nice string representing each argument.\\n#2.Create a list of the keyword arguments. The f-string formats each argument as key=value where the !r specifier means that repr() is used to represent the value.\\n#3. The lists of positional and keyword arguments is joined together to one signature string with each argument separated by a comma.\\n#4. The return value is printed after the function is executed.\\n\\nmake_greeting(\"Benjamin\")\\nmake_greeting(\"Richard\", age=112)',\n",
       " '_56': 'Whoa Richard! 112 already, you are growing up!',\n",
       " '_i57': '#Debugging Code\\nimport functools\\n\\ndef debug(func):\\n    \"\"\"Print the function signature and return value\"\"\"\\n    @functools.wraps(func)\\n    def wrapper_debug(*args, **kwargs):\\n        args_repr = [repr(a) for a in args]                      # 1\\n        kwargs_repr = [f\"{k}={v!r}\" for k, v in kwargs.items()]  # 2\\n        signature = \", \".join(args_repr + kwargs_repr)           # 3\\n        print(f\"Calling {func.__name__}({signature})\")\\n        value = func(*args, **kwargs)\\n        print(f\"{func.__name__!r} returned {value!r}\")           # 4\\n        return value\\n    return wrapper_debug\\n\\n@debug\\ndef make_greeting(name, age=None):\\n    if age is None:\\n        return f\"Howdy {name}!\"\\n    else:\\n        return f\"Whoa {name}! {age} already, you are growing up!\"\\n\\n#The signature is created by joining the string representations of all the arguments.\\n#1.Create a list of the positional arguments. Use repr() to get a nice string representing each argument.\\n#2.Create a list of the keyword arguments. The f-string formats each argument as key=value where the !r specifier means that repr() is used to represent the value.\\n#3. The lists of positional and keyword arguments is joined together to one signature string with each argument separated by a comma.\\n#4. The return value is printed after the function is executed.\\n\\nmake_greeting(\"Benjamin\")',\n",
       " '_57': 'Howdy Benjamin!',\n",
       " '_i58': 'make_greeting(\"Richard\", age=112)',\n",
       " '_58': 'Whoa Richard! 112 already, you are growing up!',\n",
       " '_i59': '#debugging factorial\\nimport math\\nfrom decorators import debug\\n\\n# Apply a decorator to a standard library function\\nmath.factorial = debug(math.factorial)\\n\\ndef approximate_e(terms=18):\\n    return sum(1 / math.factorial(n) for n in range(terms))',\n",
       " 'math': <module 'math' (built-in)>,\n",
       " '_i60': '#debugging factorial\\nimport math\\n\\ndef debug(func):\\n    \"\"\"Print the function signature and return value\"\"\"\\n    @functools.wraps(func)\\n    def wrapper_debug(*args, **kwargs):\\n        args_repr = [repr(a) for a in args]                      # 1\\n        kwargs_repr = [f\"{k}={v!r}\" for k, v in kwargs.items()]  # 2\\n        signature = \", \".join(args_repr + kwargs_repr)           # 3\\n        print(f\"Calling {func.__name__}({signature})\")\\n        value = func(*args, **kwargs)\\n        print(f\"{func.__name__!r} returned {value!r}\")           # 4\\n        return value\\n    return wrapper_debug\\n\\n# Apply a decorator to a standard library function\\nmath.factorial = debug(math.factorial)\\n\\ndef approximate_e(terms=18):\\n    return sum(1 / math.factorial(n) for n in range(terms))',\n",
       " 'approximate_e': <function __main__.approximate_e(terms=18)>,\n",
       " '_i61': '#debugging factorial\\nimport math\\n\\ndef debug(func):\\n    \"\"\"Print the function signature and return value\"\"\"\\n    @functools.wraps(func)\\n    def wrapper_debug(*args, **kwargs):\\n        args_repr = [repr(a) for a in args]                      # 1\\n        kwargs_repr = [f\"{k}={v!r}\" for k, v in kwargs.items()]  # 2\\n        signature = \", \".join(args_repr + kwargs_repr)           # 3\\n        print(f\"Calling {func.__name__}({signature})\")\\n        value = func(*args, **kwargs)\\n        print(f\"{func.__name__!r} returned {value!r}\")           # 4\\n        return value\\n    return wrapper_debug\\n\\n# Apply a decorator to a standard library function\\nmath.factorial = debug(math.factorial)\\n\\ndef approximate_e(terms=18):\\n    return sum(1 / math.factorial(n) for n in range(terms))',\n",
       " '_i62': '#debugging factorial\\nimport math\\n\\ndef debug(func):\\n    \"\"\"Print the function signature and return value\"\"\"\\n    @functools.wraps(func)\\n    def wrapper_debug(*args, **kwargs):\\n        args_repr = [repr(a) for a in args]                      # 1\\n        kwargs_repr = [f\"{k}={v!r}\" for k, v in kwargs.items()]  # 2\\n        signature = \", \".join(args_repr + kwargs_repr)           # 3\\n        print(f\"Calling {func.__name__}({signature})\")\\n        value = func(*args, **kwargs)\\n        print(f\"{func.__name__!r} returned {value!r}\")           # 4\\n        return value\\n    return wrapper_debug\\n\\n# Apply a decorator to a standard library function\\nmath.factorial = debug(math.factorial)\\n\\ndef approximate_e(terms=18):\\n    return sum(1 / math.factorial(n) for n in range(terms))\\n\\napproximate_e(5)',\n",
       " '_62': 2.708333333333333,\n",
       " '_i63': '#debugging factorial\\nimport math\\n\\ndef debug(func):\\n    \"\"\"Print the function signature and return value\"\"\"\\n    @functools.wraps(func)\\n    def wrapper_debug(*args, **kwargs):\\n        args_repr = [repr(a) for a in args]                      # 1\\n        kwargs_repr = [f\"{k}={v!r}\" for k, v in kwargs.items()]  # 2\\n        signature = \", \".join(args_repr + kwargs_repr)           # 3\\n        print(f\"Calling {func.__name__}({signature})\")\\n        value = func(*args, **kwargs)\\n        print(f\"{func.__name__!r} returned {value!r}\")           # 4\\n        return value\\n    return wrapper_debug\\n\\n# Apply a decorator to a standard library function\\nmath.factorial = debug(math.factorial)\\n\\ndef approximate_e(terms=18):\\n    return sum(1 / math.factorial(n) for n in range(terms))\\n\\napproximate_e(5)',\n",
       " '_63': 2.708333333333333,\n",
       " '_i64': '#Slowing down code\\nimport functools\\nimport time\\n\\ndef slow_down(func):\\n    \"\"\"Sleep 1 second before calling the function\"\"\"\\n    @functools.wraps(func)\\n    def wrapper_slow_down(*args, **kwargs):\\n        time.sleep(1)\\n        return func(*args, **kwargs)\\n    return wrapper_slow_down\\n\\n@slow_down\\ndef countdown(from_number):\\n    if from_number < 1:\\n        print(\"Liftoff!\")\\n    else:\\n        print(from_number)\\n        countdown(from_number - 1)\\n        \\ncountdown(3)',\n",
       " 'slow_down': <function __main__.slow_down(func)>,\n",
       " 'countdown': <function __main__.countdown(from_number)>,\n",
       " '_i65': '#Is the use logged in?\\nfrom flask import Flask, g, request, redirect, url_for\\nimport functools\\napp = Flask(__name__)\\n\\ndef login_required(func):\\n    \"\"\"Make sure user is logged in before proceeding\"\"\"\\n    @functools.wraps(func)\\n    def wrapper_login_required(*args, **kwargs):\\n        if g.user is None:\\n            return redirect(url_for(\"login\", next=request.url))\\n        return func(*args, **kwargs)\\n    return wrapper_login_required\\n\\n@app.route(\"/secret\")\\n@login_required\\ndef secret():\\n    print(\"do something\")',\n",
       " 'Flask': flask.app.Flask,\n",
       " 'g': <LocalProxy unbound>,\n",
       " 'request': <LocalProxy unbound>,\n",
       " 'redirect': <function werkzeug.utils.redirect(location: str, code: int = 302, Response: Union[Type[ForwardRef('Response')], NoneType] = None) -> 'Response'>,\n",
       " 'url_for': <function flask.helpers.url_for(endpoint: str, **values: Any) -> str>,\n",
       " 'app': <Flask '__main__'>,\n",
       " 'login_required': <function __main__.login_required(func)>,\n",
       " 'secret': <function __main__.secret()>,\n",
       " '_i66': '#Is the use logged in?\\nfrom flask import Flask, g, request, redirect, url_for\\nimport functools\\napp = Flask(__name__)\\n\\ndef login_required(func):\\n    \"\"\"Make sure user is logged in before proceeding\"\"\"\\n    @functools.wraps(func)\\n    def wrapper_login_required(*args, **kwargs):\\n        if g.user is None:\\n            return redirect(url_for(\"login\", next=request.url))\\n        return func(*args, **kwargs)\\n    return wrapper_login_required\\n\\n@app.route(\"/secret\")\\n@login_required\\ndef secret():\\n    print(\"do something\")\\n    \\nsecret()',\n",
       " '_i67': '#Is the use logged in?\\nfrom flask import Flask, g, request, redirect, url_for\\nimport functools\\napp = Flask(__name__)\\n\\ndef login_required(func):\\n    \"\"\"Make sure user is logged in before proceeding\"\"\"\\n    @functools.wraps(func)\\n    def wrapper_login_required(*args, **kwargs):\\n        if g.user is None:\\n            return redirect(url_for(\"login\", next=request.url))\\n        return func(*args, **kwargs)\\n    return wrapper_login_required\\n\\n@app.route(\"/secret\")\\n@login_required\\ndef secret():\\n    print(\"do something\")\\n    \\n# secret()',\n",
       " '_i68': '#Registering Plugins\\n#Decorators don’t have to wrap the function they’re decorating. \\n#They can also simply register that a function exists and return it unwrapped.\\n#This can be used, for instance, to create a light-weight plug-in architecture:\\n\\nimport random\\nPLUGINS = dict()\\n\\ndef register(func):\\n    \"\"\"Register a function as a plug-in\"\"\"\\n    PLUGINS[func.__name__] = func\\n    return func\\n\\n@register\\ndef say_hello(name):\\n    return f\"Hello {name}\"\\n\\n@register\\ndef be_awesome(name):\\n    return f\"Yo {name}, together we are the awesomest!\"\\n\\ndef randomly_greet(name):\\n    greeter, greeter_func = random.choice(list(PLUGINS.items()))\\n    print(f\"Using {greeter!r}\")\\n    return greeter_func(name)\\n\\n#The @register decorator simply stores a reference to the decorated function in the global PLUGINS dict.\\n#Note that you do not have to write an inner function or use @functools.wraps in this example\\n#because you are returning the original function unmodified.\\n#The randomly_greet() function randomly chooses one of the registered functions to use.\\n#Note that the PLUGINS dictionary already contains references to each function object that is registered as a plugin',\n",
       " 'random': <module 'random' from 'C:\\\\Users\\\\malla\\\\anaconda3\\\\lib\\\\random.py'>,\n",
       " 'PLUGINS': {'say_hello': <function __main__.say_hello(name)>,\n",
       "  'be_awesome': <function __main__.be_awesome(name)>},\n",
       " 'register': <function __main__.register(func)>,\n",
       " 'say_hello': <function __main__.say_hello(name)>,\n",
       " 'be_awesome': <function __main__.be_awesome(name)>,\n",
       " 'randomly_greet': <function __main__.randomly_greet(name)>,\n",
       " '_i69': '#Registering Plugins\\n#Decorators don’t have to wrap the function they’re decorating. \\n#They can also simply register that a function exists and return it unwrapped.\\n#This can be used, for instance, to create a light-weight plug-in architecture:\\n\\nimport random\\nPLUGINS = dict()\\n\\ndef register(func):\\n    \"\"\"Register a function as a plug-in\"\"\"\\n    PLUGINS[func.__name__] = func\\n    return func\\n\\n@register\\ndef say_hello(name):\\n    return f\"Hello {name}\"\\n\\n@register\\ndef be_awesome(name):\\n    return f\"Yo {name}, together we are the awesomest!\"\\n\\ndef randomly_greet(name):\\n    greeter, greeter_func = random.choice(list(PLUGINS.items()))\\n    print(f\"Using {greeter!r}\")\\n    return greeter_func(name)\\n\\n#The @register decorator simply stores a reference to the decorated function in the global PLUGINS dict.\\n#Note that you do not have to write an inner function or use @functools.wraps in this example\\n#because you are returning the original function unmodified.\\n#The randomly_greet() function randomly chooses one of the registered functions to use.\\n#Note that the PLUGINS dictionary already contains references to each function object that is registered as a plugin\\n\\nrandomly_greet(\"Emily\")',\n",
       " '_69': 'Yo Emily, together we are the awesomest!',\n",
       " '_i70': 'randomly_greet(\"Emily\")',\n",
       " '_70': 'Hello Emily',\n",
       " '_i71': '#Registering Plugins\\n#Decorators don’t have to wrap the function they’re decorating. \\n#They can also simply register that a function exists and return it unwrapped.\\n#This can be used, for instance, to create a light-weight plug-in architecture:\\n\\nimport random\\nPLUGINS = dict()\\n\\ndef register(func):\\n    \"\"\"Register a function as a plug-in\"\"\"\\n    PLUGINS[func.__name__] = func\\n    return func\\n\\n@register\\ndef say_hello(name):\\n    return f\"Hello {name}\"\\n\\n@register\\ndef be_awesome(name):\\n    return f\"Yo {name}, together we are the awesomest!\"\\n\\ndef randomly_greet(name):\\n    greeter, greeter_func = random.choice(list(PLUGINS.items()))\\n    print(f\"Using {greeter!r}\")\\n    return greeter_func(name)\\n\\n#The @register decorator simply stores a reference to the decorated function in the global PLUGINS dict.\\n#Note that you do not have to write an inner function or use @functools.wraps in this example\\n#because you are returning the original function unmodified.\\n#The randomly_greet() function randomly chooses one of the registered functions to use.\\n#Note that the PLUGINS dictionary already contains references to each function object that is registered as a plugin\\n#The main benefit of this simple plugin architecture is that you do not need to maintain a list of which plugins exist.\\n#That list is created when the plugins register themselves.\\n#This makes it trivial to add a new plugin: just define the function and decorate it with @register.\\n#globals() in Python works with the plugin architecture works.\\n#globals() gives access to all global variables in the current scope, including your plugins\\n\\nrandomly_greet(\"Emily\")',\n",
       " '_71': 'Yo Emily, together we are the awesomest!',\n",
       " '_i72': 'globals()'}"
      ]
     },
     "execution_count": 72,
     "metadata": {},
     "output_type": "execute_result"
    }
   ],
   "source": [
    "globals()"
   ]
  },
  {
   "cell_type": "markdown",
   "id": "c38a77bd",
   "metadata": {},
   "source": [
    "#### More on decorators\n",
    "    Decorators on classes\n",
    "    Nesting Decorators : Several decorators on one function\n",
    "    Decorators with arguments\n",
    "    Decorators that can optionally take arguments\n",
    "    Stateful decorators\n",
    "    Classes as decorators\n",
    "    Decorators with user defined arguments\n",
    "    @property decorator in depth"
   ]
  },
  {
   "cell_type": "markdown",
   "id": "d5db412f",
   "metadata": {},
   "source": [
    "#### ------------------------------ Decorating classes ------------------------------\n",
    "    There are two different ways you can use decorators on classes.\n",
    "    The first way is very close to what you have already done with functions: you can decorate the methods of a class.\n",
    "    Some commonly used decorators that are even built-ins in Python are @classmethod, @staticmethod, and @property.\n",
    "    The @classmethod and @staticmethod decorators are used to define methods inside a class namespace that are not connected to a particular instance of that class.\n",
    "    The @property decorator is used to customize getters and setters for class attributes.\n",
    "    The second way to use decorators on classes is to decorate the whole class.\n",
    "    Writing a class decorator is very similar to writing a function decorator.\n",
    "    The only difference is that the decorator will receive a class and not a function as an argument.\n",
    "    In fact, all the decorators you saw above will work as class decorators. \n",
    "    When you are using them on a class instead of a function, their effect might not be what you want\n",
    "    The meaning of the syntax is similar to the function decorators.\n",
    "    A common use of class decorators is to be a simpler alternative to some use-cases of metaclasses.\n",
    "    In both cases, you are changing the definition of a class dynamically."
   ]
  },
  {
   "cell_type": "code",
   "execution_count": 502,
   "id": "479dcdea",
   "metadata": {},
   "outputs": [],
   "source": [
    "#decorating classes - first way using @property, @staticmethod, @classmethod\n",
    "\n",
    "class Circle:\n",
    "    def __init__(self, radius): #intialiazes the class attributes\n",
    "        self._radius = radius\n",
    "\n",
    "    @property\n",
    "    def radius(self):\n",
    "        \"\"\"Get value of radius\"\"\"\n",
    "        return self._radius #_varname represents private variable\n",
    "\n",
    "    @radius.setter\n",
    "    def radius(self, value):\n",
    "        \"\"\"Set radius, raise error if negative\"\"\"\n",
    "        print(\"inside setter\")\n",
    "        if value >= 0:\n",
    "            self._radius = value\n",
    "        else:\n",
    "            raise ValueError(\"Radius must be positive\")\n",
    "\n",
    "    @property\n",
    "    def area(self):\n",
    "        \"\"\"Calculate area inside circle\"\"\"\n",
    "        return self.pi() * self.radius**2 #whenever we access the property object like radius, its respective getter is executed\n",
    "\n",
    "    def cylinder_volume(self, height):\n",
    "        \"\"\"Calculate volume of cylinder with circle as base\"\"\"\n",
    "        return self.area * height\n",
    "\n",
    "    @classmethod\n",
    "    def unit_circle(cls):\n",
    "        \"\"\"Factory method creating a circle with radius 1\"\"\"\n",
    "        return cls(1)\n",
    "\n",
    "    @staticmethod\n",
    "    def pi():\n",
    "        \"\"\"Value of π, could use math.pi instead though\"\"\"\n",
    "        return 3.1415926535"
   ]
  },
  {
   "cell_type": "markdown",
   "id": "7f9ab8a3",
   "metadata": {},
   "source": [
    "#### Observation:\n",
    "    In this class:\n",
    "        -> cylinder_volume() is a regular method.\n",
    "        -> radius is a mutable property: it can be set to a different value. However, by defining a setter method, we can do some error testing to make sure it’s not set to a nonsensical negative number. Properties are accessed as attributes without parentheses.\n",
    "        -> area is an immutable property: properties without .setter() methods can’t be changed. Even though it is defined as a method, it can be retrieved as an attribute without parentheses.\n",
    "        -> unit_circle() is a class method. It’s not bound to one particular instance of Circle. Class methods are often used as factory methods that can create specific instances of the class.\n",
    "        -> pi() is a static method. It’s not really dependent on the Circle class, except that it is part of its namespace. Static methods can be called on either an instance or the class.\n",
    "        "
   ]
  },
  {
   "cell_type": "code",
   "execution_count": 503,
   "id": "4904f8dd",
   "metadata": {},
   "outputs": [
    {
     "data": {
      "text/plain": [
       "5"
      ]
     },
     "execution_count": 503,
     "metadata": {},
     "output_type": "execute_result"
    }
   ],
   "source": [
    "c = Circle(5) #creating an object for the class. remember setter wont be executed as we are not explilicitly setting it c.radius = 5\n",
    "c.radius #accessing the property radius, getter function will execute\n",
    "#but in the init, if we write self.radius = radius, then it will go to setter function.see @property decorator section to understand the property object"
   ]
  },
  {
   "cell_type": "code",
   "execution_count": 77,
   "id": "ad8bbaa5",
   "metadata": {},
   "outputs": [
    {
     "data": {
      "text/plain": [
       "78.5398163375"
      ]
     },
     "execution_count": 77,
     "metadata": {},
     "output_type": "execute_result"
    }
   ],
   "source": [
    "c.area"
   ]
  },
  {
   "cell_type": "code",
   "execution_count": 447,
   "id": "7ec35181",
   "metadata": {},
   "outputs": [
    {
     "name": "stdout",
     "output_type": "stream",
     "text": [
      "inside setter\n"
     ]
    },
    {
     "data": {
      "text/plain": [
       "2"
      ]
     },
     "execution_count": 447,
     "metadata": {},
     "output_type": "execute_result"
    }
   ],
   "source": [
    "c.radius = 2 #changing the value of radius for which setter method will execute as we are explicitly setting it\n",
    "c.radius"
   ]
  },
  {
   "cell_type": "code",
   "execution_count": 448,
   "id": "d7e6e1e1",
   "metadata": {},
   "outputs": [
    {
     "name": "stdout",
     "output_type": "stream",
     "text": [
      "inside setter\n"
     ]
    },
    {
     "ename": "ValueError",
     "evalue": "Radius must be positive",
     "output_type": "error",
     "traceback": [
      "\u001b[1;31m---------------------------------------------------------------------------\u001b[0m",
      "\u001b[1;31mValueError\u001b[0m                                Traceback (most recent call last)",
      "Input \u001b[1;32mIn [448]\u001b[0m, in \u001b[0;36m<cell line: 1>\u001b[1;34m()\u001b[0m\n\u001b[1;32m----> 1\u001b[0m c\u001b[38;5;241m.\u001b[39mradius \u001b[38;5;241m=\u001b[39m \u001b[38;5;241m-\u001b[39m\u001b[38;5;241m1\u001b[39m\n",
      "Input \u001b[1;32mIn [444]\u001b[0m, in \u001b[0;36mCircle.radius\u001b[1;34m(self, value)\u001b[0m\n\u001b[0;32m     17\u001b[0m     \u001b[38;5;28mself\u001b[39m\u001b[38;5;241m.\u001b[39m_radius \u001b[38;5;241m=\u001b[39m value\n\u001b[0;32m     18\u001b[0m \u001b[38;5;28;01melse\u001b[39;00m:\n\u001b[1;32m---> 19\u001b[0m     \u001b[38;5;28;01mraise\u001b[39;00m \u001b[38;5;167;01mValueError\u001b[39;00m(\u001b[38;5;124m\"\u001b[39m\u001b[38;5;124mRadius must be positive\u001b[39m\u001b[38;5;124m\"\u001b[39m)\n",
      "\u001b[1;31mValueError\u001b[0m: Radius must be positive"
     ]
    }
   ],
   "source": [
    "c.radius = -1 #throws the error when setting the radius less than 0"
   ]
  },
  {
   "cell_type": "code",
   "execution_count": 449,
   "id": "740256ca",
   "metadata": {},
   "outputs": [
    {
     "ename": "AttributeError",
     "evalue": "can't set attribute",
     "output_type": "error",
     "traceback": [
      "\u001b[1;31m---------------------------------------------------------------------------\u001b[0m",
      "\u001b[1;31mAttributeError\u001b[0m                            Traceback (most recent call last)",
      "Input \u001b[1;32mIn [449]\u001b[0m, in \u001b[0;36m<cell line: 1>\u001b[1;34m()\u001b[0m\n\u001b[1;32m----> 1\u001b[0m c\u001b[38;5;241m.\u001b[39marea \u001b[38;5;241m=\u001b[39m \u001b[38;5;241m100\u001b[39m\n",
      "\u001b[1;31mAttributeError\u001b[0m: can't set attribute"
     ]
    }
   ],
   "source": [
    "c.area = 100 #we can't set the value of area explicilty as it is immutable since area property doesnt have any setter method"
   ]
  },
  {
   "cell_type": "code",
   "execution_count": 450,
   "id": "c45effdd",
   "metadata": {},
   "outputs": [
    {
     "data": {
      "text/plain": [
       "-1"
      ]
     },
     "execution_count": 450,
     "metadata": {},
     "output_type": "execute_result"
    }
   ],
   "source": [
    "c2 = Circle(-1) #this wont go into the setter method as we are not setting the radius explicity.\n",
    "c2.radius #instead @property radius() is executed"
   ]
  },
  {
   "cell_type": "code",
   "execution_count": 451,
   "id": "0b6c646b",
   "metadata": {},
   "outputs": [
    {
     "data": {
      "text/plain": [
       "37.699111842"
      ]
     },
     "execution_count": 451,
     "metadata": {},
     "output_type": "execute_result"
    }
   ],
   "source": [
    "c.cylinder_volume(height=3)"
   ]
  },
  {
   "cell_type": "code",
   "execution_count": 452,
   "id": "fab28011",
   "metadata": {},
   "outputs": [
    {
     "data": {
      "text/plain": [
       "3.1415926535"
      ]
     },
     "execution_count": 452,
     "metadata": {},
     "output_type": "execute_result"
    }
   ],
   "source": [
    "c.pi() #static method called with instance"
   ]
  },
  {
   "cell_type": "code",
   "execution_count": 95,
   "id": "92786ecc",
   "metadata": {},
   "outputs": [
    {
     "data": {
      "text/plain": [
       "3.1415926535"
      ]
     },
     "execution_count": 95,
     "metadata": {},
     "output_type": "execute_result"
    }
   ],
   "source": [
    "Circle.pi() #static method called with class"
   ]
  },
  {
   "cell_type": "code",
   "execution_count": 96,
   "id": "ca63bd7d",
   "metadata": {},
   "outputs": [
    {
     "data": {
      "text/plain": [
       "1"
      ]
     },
     "execution_count": 96,
     "metadata": {},
     "output_type": "execute_result"
    }
   ],
   "source": [
    "c3 = Circle.unit_circle() #class method called with class which creates a new instance as we are returning the class instance with property  radius of 1\n",
    "c3.radius"
   ]
  },
  {
   "cell_type": "code",
   "execution_count": 99,
   "id": "a7df694d",
   "metadata": {},
   "outputs": [],
   "source": [
    "#Let’s define a class where we decorate some of its methods using the @debug and @timer decorators from earlier\n",
    "\n",
    "def debug(func):\n",
    "    \"\"\"Print the function signature and return value\"\"\"\n",
    "    @functools.wraps(func)\n",
    "    def wrapper_debug(*args, **kwargs):\n",
    "        args_repr = [repr(a) for a in args]                      # 1\n",
    "        kwargs_repr = [f\"{k}={v!r}\" for k, v in kwargs.items()]  # 2\n",
    "        signature = \", \".join(args_repr + kwargs_repr)           # 3\n",
    "        print(f\"Calling {func.__name__}({signature})\")\n",
    "        value = func(*args, **kwargs)\n",
    "        print(f\"{func.__name__!r} returned {value!r}\")           # 4\n",
    "        return value\n",
    "    return wrapper_debug\n",
    "\n",
    "def timer(func):\n",
    "    @functools.wraps(func)\n",
    "    def wrapper(*args, **kwargs):\n",
    "        start_time = time.perf_counter() #1\n",
    "        value = func(*args, **kwargs)\n",
    "        end_time = time.perf_counter() #2\n",
    "        elapsed_time = end_time - start_time #3\n",
    "        print(f\"Finised {func.__name__!r} in {elapsed_time:.4f} seconds\")\n",
    "        return value\n",
    "    return wrapper\n",
    "\n",
    "class TimeWaster:\n",
    "    @debug\n",
    "    def __init__(self, max_num):\n",
    "        self.max_num = max_num\n",
    "\n",
    "    @timer\n",
    "    def waste_time(self, num_times):\n",
    "        for _ in range(num_times):\n",
    "            sum([i**2 for i in range(self.max_num)])"
   ]
  },
  {
   "cell_type": "code",
   "execution_count": 103,
   "id": "5c4f2234",
   "metadata": {},
   "outputs": [
    {
     "name": "stdout",
     "output_type": "stream",
     "text": [
      "Calling __init__(<__main__.TimeWaster object at 0x000001E68D64F3A0>, 1000)\n",
      "'__init__' returned None\n"
     ]
    }
   ],
   "source": [
    "t = TimeWaster(1000)"
   ]
  },
  {
   "cell_type": "code",
   "execution_count": 104,
   "id": "e7fda68e",
   "metadata": {},
   "outputs": [
    {
     "name": "stdout",
     "output_type": "stream",
     "text": [
      "Finised 'waste_time' in 0.2263 seconds\n"
     ]
    }
   ],
   "source": [
    "t.waste_time(999)"
   ]
  },
  {
   "cell_type": "code",
   "execution_count": 105,
   "id": "68916a81",
   "metadata": {},
   "outputs": [],
   "source": [
    "#Class decorators - second way of decorating the whole class\n",
    "\n",
    "from dataclasses import dataclass\n",
    "\n",
    "@dataclass\n",
    "class PlayingCard:\n",
    "    rank: str\n",
    "    suit: str\n",
    "        \n",
    "#This is similar to how the functions are decorated i.e PlayingCardref = dataclass(PlayingCard)"
   ]
  },
  {
   "cell_type": "code",
   "execution_count": 106,
   "id": "aac08eee",
   "metadata": {},
   "outputs": [
    {
     "name": "stdout",
     "output_type": "stream",
     "text": [
      "Finised 'TimeWaster' in 0.0000 seconds\n"
     ]
    }
   ],
   "source": [
    "#Decorating classes - second way\n",
    "# from decorators import timer \n",
    "#we import it when we save all the decorators in a py file\n",
    "\n",
    "def timer(func):\n",
    "    @functools.wraps(func)\n",
    "    def wrapper(*args, **kwargs):\n",
    "        start_time = time.perf_counter() #1\n",
    "        value = func(*args, **kwargs)\n",
    "        end_time = time.perf_counter() #2\n",
    "        elapsed_time = end_time - start_time #3\n",
    "        print(f\"Finised {func.__name__!r} in {elapsed_time:.4f} seconds\")\n",
    "        return value\n",
    "    return wrapper\n",
    "\n",
    "@timer\n",
    "class TimeWaster:\n",
    "    def __init__(self, max_num):\n",
    "        self.max_num = max_num\n",
    "\n",
    "    def waste_time(self, num_times):\n",
    "        for _ in range(num_times):\n",
    "            sum([i**2 for i in range(self.max_num)])\n",
    "            \n",
    "#Recall that @timer is just shorthand for TimeWaster = timer(TimeWaster).\n",
    "\n",
    "c = TimeWaster(1000)"
   ]
  },
  {
   "cell_type": "code",
   "execution_count": 108,
   "id": "1e5a61ac",
   "metadata": {},
   "outputs": [],
   "source": [
    "c.waste_time(999)"
   ]
  },
  {
   "cell_type": "code",
   "execution_count": 110,
   "id": "12648e1e",
   "metadata": {},
   "outputs": [],
   "source": [
    "#SINGLETON class decorator\n",
    "#A singleton is a class with only one instance.\n",
    "#There are several singletons in Python that you use frequently, including None, True, and False.\n",
    "#It is the fact that None is a singleton that allows you to compare for None using the \"is\" keyword \n",
    "#if _func is None:\n",
    "#   return decorator_name\n",
    "\n",
    "import functools\n",
    "\n",
    "def singleton(cls): #passing class as an argument instead of function to indicate that it is meant to be a class decorator.\n",
    "    \"\"\"Make a class a Singleton class (only one instance)\"\"\"\n",
    "    @functools.wraps(cls)\n",
    "    def wrapper_singleton(*args, **kwargs):\n",
    "        if not wrapper_singleton.instance:\n",
    "            wrapper_singleton.instance = cls(*args, **kwargs)\n",
    "        return wrapper_singleton.instance\n",
    "    wrapper_singleton.instance = None\n",
    "    return wrapper_singleton\n",
    "\n",
    "@singleton\n",
    "class TheOne:\n",
    "    pass\n",
    "\n",
    "#The following @singleton decorator turns a class into a singleton by storing the first instance of the class as an attribute.\n",
    "#Later attempts at creating an instance simply return the stored instance"
   ]
  },
  {
   "cell_type": "code",
   "execution_count": 111,
   "id": "d6e74759",
   "metadata": {},
   "outputs": [],
   "source": [
    "first_one = TheOne()"
   ]
  },
  {
   "cell_type": "code",
   "execution_count": 112,
   "id": "a251640b",
   "metadata": {},
   "outputs": [],
   "source": [
    "another_one = TheOne()"
   ]
  },
  {
   "cell_type": "code",
   "execution_count": 113,
   "id": "ee5d506f",
   "metadata": {},
   "outputs": [
    {
     "data": {
      "text/plain": [
       "2089706006560"
      ]
     },
     "execution_count": 113,
     "metadata": {},
     "output_type": "execute_result"
    }
   ],
   "source": [
    "id(first_one)"
   ]
  },
  {
   "cell_type": "code",
   "execution_count": 114,
   "id": "8a840088",
   "metadata": {},
   "outputs": [
    {
     "data": {
      "text/plain": [
       "2089706006560"
      ]
     },
     "execution_count": 114,
     "metadata": {},
     "output_type": "execute_result"
    }
   ],
   "source": [
    "id(another_one)"
   ]
  },
  {
   "cell_type": "code",
   "execution_count": 115,
   "id": "323d7f48",
   "metadata": {},
   "outputs": [
    {
     "data": {
      "text/plain": [
       "True"
      ]
     },
     "execution_count": 115,
     "metadata": {},
     "output_type": "execute_result"
    }
   ],
   "source": [
    "first_one is another_one #Using \"is\" returns True only for objects that are the exact same instance.\n",
    "#It seems clear that first_one is indeed the exact same instance as another_one."
   ]
  },
  {
   "cell_type": "markdown",
   "id": "1c981461",
   "metadata": {},
   "source": [
    "#### ---------------------------------- Nesting Decorators --------------------------------------\n",
    "    You can apply several decorators to a function by stacking them on top of each other.\n",
    "    These decorators being executed in the order they are listed."
   ]
  },
  {
   "cell_type": "code",
   "execution_count": 116,
   "id": "de68d36e",
   "metadata": {},
   "outputs": [
    {
     "name": "stdout",
     "output_type": "stream",
     "text": [
      "Calling greet('Emma')\n",
      "Hello Emma\n",
      "Hello Emma\n",
      "'greet' returned None\n"
     ]
    }
   ],
   "source": [
    "import functools\n",
    "\n",
    "def do_twice(func):\n",
    "    @functools.wraps(func)\n",
    "    def wrapper_do_twice(*args, **kwargs):\n",
    "        func(*args, **kwargs)\n",
    "        func(*args, **kwargs)\n",
    "    return wrapper_do_twice\n",
    "\n",
    "def debug(func):\n",
    "    \"\"\"Print the function signature and return value\"\"\"\n",
    "    @functools.wraps(func)\n",
    "    def wrapper_debug(*args, **kwargs):\n",
    "        args_repr = [repr(a) for a in args]                      \n",
    "        kwargs_repr = [f\"{k}={v!r}\" for k, v in kwargs.items()]  \n",
    "        signature = \", \".join(args_repr + kwargs_repr)           \n",
    "        print(f\"Calling {func.__name__}({signature})\")\n",
    "        value = func(*args, **kwargs)\n",
    "        print(f\"{func.__name__!r} returned {value!r}\")           \n",
    "        return value\n",
    "    return wrapper_debug\n",
    "\n",
    "\n",
    "@debug\n",
    "@do_twice\n",
    "def greet(name):\n",
    "    print(f\"Hello {name}\")\n",
    "    \n",
    "greet(\"Emma\")\n",
    "#Think about this as the decorators being executed in the order they are listed.\n",
    "#In other words, @debug calls @do_twice, which calls greet(), or debug(do_twice(greet())):"
   ]
  },
  {
   "cell_type": "code",
   "execution_count": 117,
   "id": "5013fb93",
   "metadata": {},
   "outputs": [
    {
     "name": "stdout",
     "output_type": "stream",
     "text": [
      "Calling greet('Emma')\n",
      "Hello Emma\n",
      "'greet' returned None\n",
      "Calling greet('Emma')\n",
      "Hello Emma\n",
      "'greet' returned None\n"
     ]
    }
   ],
   "source": [
    "#changing the order of decorators - In this case, @do_twice will be applied to @debug as well\n",
    "@do_twice\n",
    "@debug\n",
    "def greet(name):\n",
    "    print(f\"Hello {name}\")\n",
    "    \n",
    "greet(\"Emma\")"
   ]
  },
  {
   "cell_type": "markdown",
   "id": "6e97a05b",
   "metadata": {},
   "source": [
    "#### ------------------------------------ Decorator with arguments ---------------------------------\n",
    "    Sometimes, it’s useful to pass arguments to your decorators.\n",
    "    For instance, decorator from above cells @do_twice could be extended to a @repeat(num_times) decorator.\n",
    "    The number of times to execute the decorated function could then be given as an argument.\n",
    "    \n",
    "    Explanation:\n",
    "        So far, the name written after the @ has referred to a function object that can be called with another function.\n",
    "        \n",
    "        To be consistent, you then need repeat(num_times=4) to return a function object that can act as a decorator.\n",
    "        \n",
    "        Luckily, you already know how to return functions! In general, you want something like the following:\n",
    "        -----------------------------------------------------------------------------------------------------------------\n",
    "                            def repeat(num_times):\n",
    "                                def decorator_repeat(func):\n",
    "                                    ...  # Create and return a wrapper function\n",
    "                                 return decorator_repeat #returning the function object to repeat decorator that has args\n",
    "        -----------------------------------------------------------------------------------------------------------------\n",
    "\n",
    "        Typically, the decorator creates and returns an inner wrapper function, so writing the example out in full will give you an inner function within an inner function. While this might sound like the programming equivalent of the Inception movie, we’ll untangle it all in a moment:\n",
    "        ----------------------------------------------------------------------------------------------------------------\n",
    "                            def repeat(num_times):\n",
    "                                def decorator_repeat(func):\n",
    "                                     @functools.wraps(func)\n",
    "                                     def wrapper_repeat(*args, **kwargs):\n",
    "                                         for _ in range(num_times): #wrapper accessing d arbitrary arg frm decorator repeat\n",
    "                                             value = func(*args, **kwargs)\n",
    "                                             return value\n",
    "                                     return wrapper_repeat \n",
    "                                return decorator_repeat #returning the inner decorator func obj to decorator repeat\n",
    "        ----------------------------------------------------------------------------------------------------------------\n",
    "    \n",
    "        It looks a little messy, but we have only put the same decorator pattern you have seen many times by now inside one additional def that handles the arguments to the decorator. Let’s start with the innermost function: wrapper_repeat\n",
    "\n",
    "        This wrapper_repeat() function takes arbitrary arguments and returns the value of the decorated function, func(). This wrapper function also contains the loop that calls the decorated function num_times times. This is no different from the earlier wrapper functions you have seen, except that it is using the num_times parameter that must be supplied from the outside.\n",
    "        \n",
    "        One step out, you’ll find the decorator function: decorator_repeat\n",
    "        \n",
    "        Again, decorator_repeat() looks exactly like the decorator functions you have written earlier, except that it’s named differently. That’s because we reserve the base name—repeat()—for the outermost function, which is the one the user will call.\n",
    "        \n",
    "        As you have already seen, the outermost function returns a reference to the decorator function:\n",
    "        ------------------------------------------------------------------------------------------------------------\n",
    "                            def repeat(num_times):\n",
    "                                def decorator_repeat(func):\n",
    "                                     ...\n",
    "                                return decorator_repeat\n",
    "        --------------------------------------------------------------------------------------------------------------\n",
    "        \n",
    "        There are a few subtle things happening in the repeat() function:\n",
    "\n",
    "        Defining decorator_repeat() as an inner function means that repeat() will refer to a function object of decorator_repeat. Earlier, we used decorator (eg: @timer) without parentheses to refer to the function object. Now we add parathesis to specify the decorator arguments. eg: @repeat(num_times=4)\n",
    "        Note the num_times argument is seemingly not used in repeat() itself. But by passing num_times a closure is created where the value of num_times is stored until it will be used later by wrapper_repeat()."
   ]
  },
  {
   "cell_type": "code",
   "execution_count": 120,
   "id": "04a444b0",
   "metadata": {},
   "outputs": [
    {
     "name": "stdout",
     "output_type": "stream",
     "text": [
      "Hello Emma\n",
      "Hello Emma\n",
      "Hello Emma\n",
      "Hello Emma\n"
     ]
    }
   ],
   "source": [
    "#decorator with argumets\n",
    "def repeat(num_times):\n",
    "    def decorator_repeat(func):\n",
    "        @functools.wraps(func)\n",
    "        def wrapper_repeat(*args, **kwargs):\n",
    "            for _ in range(num_times):\n",
    "                value = func(*args, **kwargs)\n",
    "            return value\n",
    "        return wrapper_repeat\n",
    "    return decorator_repeat\n",
    "\n",
    "@repeat(num_times=4)\n",
    "def greet(name):\n",
    "    print(f\"Hello {name}\")\n",
    "    \n",
    "greet(\"Emma\")"
   ]
  },
  {
   "cell_type": "markdown",
   "id": "627ef5b6",
   "metadata": {},
   "source": [
    "#### ------------------------- decorator with optional arguments - enforcing keyword arguments ----------------------------------------\n",
    "    Note: This is the best practice to follow\n",
    "\n",
    "    When a decorator uses arguments, you need to add an extra outer function. The challenge is for your code to figure out if the decorator has been called with or without arguments.\n",
    "\n",
    "    Since the function to decorate(for eg greet) is only passed in directly if the decorator is called without arguments, the function must be an optional argument. This means that the decorator arguments must all be specified by keyword. You can enforce this with the special * syntax, which means that all following parameters are keyword-only\n",
    "    -----------------------------------------------------------------------------\n",
    "        def name(_func=None, *, kw1=val1, kw2=val2, ...):  # 1\n",
    "            def decorator_name(func):\n",
    "                ...  # Create and return a wrapper function.\n",
    "\n",
    "        if _func is None:\n",
    "            return decorator_name                      # 2\n",
    "        else:\n",
    "            return decorator_name(_func)               # 3\n",
    "            \n",
    "   -------------------------------------------------------------------------------\n",
    "       \n",
    "    Here, the _func argument acts as a marker, noting whether the decorator has been called with arguments or not:\n",
    "\n",
    "        - If decorator 'name' has been called without arguments, the decorated function will be passed in as _func.\n",
    "        - If it has been called with arguments, then _func will be None, and some of the keyword arguments may have been changed from their default values.\n",
    "        - The * in the argument list means that the remaining arguments can’t be called as positional arguments."
   ]
  },
  {
   "cell_type": "code",
   "execution_count": 124,
   "id": "54c4d673",
   "metadata": {},
   "outputs": [],
   "source": [
    "def repeat(_func=None, *, num_times=2):\n",
    "    def decorator_repeat(func):\n",
    "        @functools.wraps(func)\n",
    "        def wrapper_repeat(*args, **kwargs):\n",
    "            for _ in range(num_times):\n",
    "                value = func(*args, **kwargs)\n",
    "            return value\n",
    "        return wrapper_repeat\n",
    "\n",
    "    if _func is None:\n",
    "        return decorator_repeat\n",
    "        #In this case, the decorator was called with arguments.\n",
    "        #Hence Return a decorator function (return decorator_repeat) that can read and return a function.\n",
    "    else:\n",
    "        return decorator_repeat(_func)\n",
    "        #In this case, the decorator was called without arguments.\n",
    "        #Apply the decorator to the function immediately."
   ]
  },
  {
   "cell_type": "code",
   "execution_count": 125,
   "id": "412cd4cf",
   "metadata": {},
   "outputs": [
    {
     "name": "stdout",
     "output_type": "stream",
     "text": [
      "Whee!\n",
      "Whee!\n"
     ]
    }
   ],
   "source": [
    "#without decorator args\n",
    "@repeat\n",
    "def say_whee():\n",
    "    print(\"Whee!\")\n",
    "\n",
    "say_whee()"
   ]
  },
  {
   "cell_type": "code",
   "execution_count": 126,
   "id": "b09d39f9",
   "metadata": {},
   "outputs": [
    {
     "name": "stdout",
     "output_type": "stream",
     "text": [
      "Hello Emma\n",
      "Hello Emma\n",
      "Hello Emma\n"
     ]
    }
   ],
   "source": [
    "#with decorator args\n",
    "@repeat(num_times=3)\n",
    "def greet(name):\n",
    "    print(f\"Hello {name}\")\n",
    "\n",
    "greet('Emma')"
   ]
  },
  {
   "cell_type": "markdown",
   "id": "e319b8c8",
   "metadata": {},
   "source": [
    "#### -----------------------Unwrapping a Decorator-------------------------------------------\n",
    "    A decorator has been applied to a function, but you want to “undo” it, gaining access to the original unwrapped function.\n",
    "    Assuming that the decorator has been implemented properly using functools@wraps\n",
    "    we can usually gain access to the original function by accessing the __wrapped__ attribute."
   ]
  },
  {
   "cell_type": "code",
   "execution_count": null,
   "id": "9a5e1ebb",
   "metadata": {},
   "outputs": [],
   "source": [
    "#unwrapping a decorator\n",
    "def repeat(_func=None, *, num_times=2):\n",
    "    def decorator_repeat(func):\n",
    "        @functools.wraps(func)\n",
    "        def wrapper_repeat(*args, **kwargs):\n",
    "            for _ in range(num_times):\n",
    "                value = func(*args, **kwargs)\n",
    "            return value\n",
    "        return wrapper_repeat\n",
    "\n",
    "    if _func is None:\n",
    "        return decorator_repeat\n",
    "    else:\n",
    "        return decorator_repeat(_func)\n",
    "\n",
    "@repeat(num_times=3)\n",
    "def greet(name):\n",
    "    return f\"Hello {name}\"\n",
    "\n",
    "#Discussion\n",
    "#Gaining direct access to the unwrapped function behind a decorator can be useful for debugging, introspection, and other operations involving functions. \n",
    "#However, this recipe only works if the implementation of a decorator properly copies metadata using @wraps from the functools module or sets the __wrapped__ attribute directly.\n",
    "#If multiple decorators have been applied to a function, the behavior of accessing __wrapped__ is currently undefined and should probably be avoided.\n",
    "#In Python 3.3, it bypasses all of the layers.\n",
    "#Note : see 9.6 in cookbook to make use of partial for decorator with optional args"
   ]
  },
  {
   "cell_type": "code",
   "execution_count": 129,
   "id": "29459fa7",
   "metadata": {},
   "outputs": [
    {
     "name": "stdout",
     "output_type": "stream",
     "text": [
      "Hello Emma\n"
     ]
    }
   ],
   "source": [
    "actual_greet = greet.__wrapped__ #unwrapping\n",
    "actual_greet(\"Emma\")"
   ]
  },
  {
   "cell_type": "markdown",
   "id": "ebdb0620",
   "metadata": {},
   "source": [
    "#### ---------------------------------------- Stateful Decorators --------------------------------------\n",
    "    Sometimes, it’s useful to have a decorator that can keep track of state.\n",
    "    We know that pure functions returning a value based on given arguments. Stateful decorators are quite the opposite, where the return value will depend on the current state, as well as the given arguments.\n",
    "    As a simple example, we will create a decorator that counts the number of times a function is called."
   ]
  },
  {
   "cell_type": "code",
   "execution_count": 147,
   "id": "32a777e0",
   "metadata": {},
   "outputs": [],
   "source": [
    "import functools\n",
    "\n",
    "def count_calls(func):\n",
    "    @functools.wraps(func)\n",
    "    def wrapper_count_calls(*args, **kwargs):\n",
    "        wrapper_count_calls.num_calls += 1\n",
    "        print(f\"Call {wrapper_count_calls.num_calls} of {func.__name__!r}\")\n",
    "        return func(*args, **kwargs)\n",
    "    wrapper_count_calls.num_calls = 0\n",
    "    return wrapper_count_calls\n",
    "\n",
    "@count_calls\n",
    "def say_whee():\n",
    "    print(\"Whee!\")"
   ]
  },
  {
   "cell_type": "code",
   "execution_count": 148,
   "id": "300c0b30",
   "metadata": {},
   "outputs": [
    {
     "name": "stdout",
     "output_type": "stream",
     "text": [
      "Call 1 of 'say_whee'\n",
      "Whee!\n"
     ]
    }
   ],
   "source": [
    "say_whee()"
   ]
  },
  {
   "cell_type": "code",
   "execution_count": 150,
   "id": "f02c9051",
   "metadata": {},
   "outputs": [
    {
     "name": "stdout",
     "output_type": "stream",
     "text": [
      "Call 2 of 'say_whee'\n",
      "Whee!\n"
     ]
    }
   ],
   "source": [
    "say_whee()"
   ]
  },
  {
   "cell_type": "code",
   "execution_count": 151,
   "id": "b131b9d1",
   "metadata": {},
   "outputs": [
    {
     "name": "stdout",
     "output_type": "stream",
     "text": [
      "Call 3 of 'say_whee'\n",
      "Whee!\n"
     ]
    }
   ],
   "source": [
    "say_whee()"
   ]
  },
  {
   "cell_type": "markdown",
   "id": "f453316e",
   "metadata": {},
   "source": [
    "#### ------------------------------------------ Classes as Decorators -------------------------------\n",
    "    The typical way to maintain state is by using classes. In this section, you’ll see how to rewrite the @count_calls example from the previous section using a class as a decorator.\n",
    "\n",
    "    Recall that the decorator syntax @my_decorator is just an easier way of saying func = my_decorator(func). Therefore, if my_decorator is a class, it needs to take func as an argument in its .__init__() method. Furthermore, the class instance needs to be callable so that it can stand in for the decorated function.\n",
    "\n",
    "    For a class instance to be callable, we implement the special .__call__() method"
   ]
  },
  {
   "cell_type": "code",
   "execution_count": 152,
   "id": "447cf79c",
   "metadata": {},
   "outputs": [],
   "source": [
    "class Counter:\n",
    "    def __init__(self, start=0):\n",
    "        self.count = start\n",
    "\n",
    "    def __call__(self):\n",
    "        '''\n",
    "        The .__call__() method is executed each time you try to call an instance of the class\n",
    "        '''\n",
    "        self.count += 1\n",
    "        print(f\"Current count is {self.count}\")"
   ]
  },
  {
   "cell_type": "code",
   "execution_count": 155,
   "id": "a0254382",
   "metadata": {},
   "outputs": [
    {
     "name": "stdout",
     "output_type": "stream",
     "text": [
      "Current count is 1\n"
     ]
    }
   ],
   "source": [
    "counter = Counter()\n",
    "counter() #instance is callable hence ()"
   ]
  },
  {
   "cell_type": "code",
   "execution_count": 156,
   "id": "2fc1b9d4",
   "metadata": {},
   "outputs": [
    {
     "name": "stdout",
     "output_type": "stream",
     "text": [
      "Current count is 2\n"
     ]
    }
   ],
   "source": [
    "counter()"
   ]
  },
  {
   "cell_type": "code",
   "execution_count": 157,
   "id": "55574a6d",
   "metadata": {},
   "outputs": [
    {
     "name": "stdout",
     "output_type": "stream",
     "text": [
      "Current count is 3\n"
     ]
    }
   ],
   "source": [
    "counter()"
   ]
  },
  {
   "cell_type": "code",
   "execution_count": 454,
   "id": "c72fd3b9",
   "metadata": {},
   "outputs": [],
   "source": [
    "#Therefore, a typical implementation of a decorator class needs to implement .__init__() and .__call__():\n",
    "import functools\n",
    "\n",
    "class CountCalls:\n",
    "    def __init__(self, func):\n",
    "        functools.update_wrapper(self, func)\n",
    "        self.func = func\n",
    "        self.num_calls = 0\n",
    "\n",
    "    def __call__(self, *args, **kwargs):\n",
    "        self.num_calls += 1\n",
    "        print(f\"Call {self.num_calls} of {self.func.__name__!r}\")\n",
    "        return self.func(*args, **kwargs)\n",
    "\n",
    "@CountCalls\n",
    "def say_whee():\n",
    "    print(\"Whee!\")\n",
    "    \n",
    "#The .__init__() method must store a reference to the function and can do any other necessary initialization.\n",
    "#The .__call__() method will be called instead of the decorated function.\n",
    "#It does essentially the same thing as the wrapper() function in our earlier examples.\n",
    "#Note that you need to use the functools.update_wrapper() function instead of @functools.wraps.\n",
    "#This @CountCalls decorator works the same as the one in the previous section"
   ]
  },
  {
   "cell_type": "code",
   "execution_count": 162,
   "id": "96100920",
   "metadata": {},
   "outputs": [
    {
     "name": "stdout",
     "output_type": "stream",
     "text": [
      "Call 1 of 'say_whee'\n",
      "Whee!\n"
     ]
    }
   ],
   "source": [
    "say_whee()"
   ]
  },
  {
   "cell_type": "code",
   "execution_count": 163,
   "id": "a3d50d99",
   "metadata": {},
   "outputs": [
    {
     "name": "stdout",
     "output_type": "stream",
     "text": [
      "Call 2 of 'say_whee'\n",
      "Whee!\n"
     ]
    }
   ],
   "source": [
    "say_whee()"
   ]
  },
  {
   "cell_type": "code",
   "execution_count": 164,
   "id": "a2d5446f",
   "metadata": {},
   "outputs": [
    {
     "data": {
      "text/plain": [
       "2"
      ]
     },
     "execution_count": 164,
     "metadata": {},
     "output_type": "execute_result"
    }
   ],
   "source": [
    "say_whee.num_calls"
   ]
  },
  {
   "cell_type": "code",
   "execution_count": 165,
   "id": "7b47b98a",
   "metadata": {},
   "outputs": [
    {
     "name": "stdout",
     "output_type": "stream",
     "text": [
      "7\n",
      "6\n",
      "5\n",
      "4\n",
      "3\n",
      "2\n",
      "1\n",
      "Liftoff!\n"
     ]
    }
   ],
   "source": [
    "#Real World examples \n",
    "#Slowing Down Code, Revisited\n",
    "import functools\n",
    "import time\n",
    "\n",
    "def slow_down(_func=None, *, rate=1):\n",
    "    \"\"\"Sleep given amount of seconds before calling the function\"\"\"\n",
    "    def decorator_slow_down(func):\n",
    "        @functools.wraps(func)\n",
    "        def wrapper_slow_down(*args, **kwargs):\n",
    "            time.sleep(rate)\n",
    "            return func(*args, **kwargs)\n",
    "        return wrapper_slow_down\n",
    "\n",
    "    if _func is None:\n",
    "        return decorator_slow_down\n",
    "    else:\n",
    "        return decorator_slow_down(_func)\n",
    "    \n",
    "@slow_down(rate=2)\n",
    "def countdown(from_number):\n",
    "    if from_number < 1:\n",
    "        print(\"Liftoff!\")\n",
    "    else:\n",
    "        print(from_number)\n",
    "        countdown(from_number - 1)\n",
    "        \n",
    "countdown(7)"
   ]
  },
  {
   "cell_type": "code",
   "execution_count": 462,
   "id": "44e78ce6",
   "metadata": {},
   "outputs": [
    {
     "name": "stdout",
     "output_type": "stream",
     "text": [
      "Call 1 of 'fibonacci'\n",
      "Call 2 of 'fibonacci'\n",
      "Call 3 of 'fibonacci'\n",
      "Call 4 of 'fibonacci'\n",
      "Call 5 of 'fibonacci'\n",
      "Call 6 of 'fibonacci'\n",
      "Call 7 of 'fibonacci'\n",
      "Call 8 of 'fibonacci'\n",
      "Call 9 of 'fibonacci'\n",
      "Call 10 of 'fibonacci'\n",
      "Call 11 of 'fibonacci'\n",
      "Call 12 of 'fibonacci'\n",
      "Call 13 of 'fibonacci'\n",
      "Call 14 of 'fibonacci'\n",
      "Call 15 of 'fibonacci'\n",
      "Call 16 of 'fibonacci'\n",
      "Call 17 of 'fibonacci'\n",
      "Call 18 of 'fibonacci'\n",
      "Call 19 of 'fibonacci'\n",
      "Call 20 of 'fibonacci'\n",
      "Call 21 of 'fibonacci'\n",
      "Call 22 of 'fibonacci'\n",
      "Call 23 of 'fibonacci'\n",
      "Call 24 of 'fibonacci'\n",
      "Call 25 of 'fibonacci'\n",
      "Call 26 of 'fibonacci'\n",
      "Call 27 of 'fibonacci'\n",
      "Call 28 of 'fibonacci'\n",
      "Call 29 of 'fibonacci'\n",
      "Call 30 of 'fibonacci'\n",
      "Call 31 of 'fibonacci'\n",
      "Call 32 of 'fibonacci'\n",
      "Call 33 of 'fibonacci'\n",
      "Call 34 of 'fibonacci'\n",
      "Call 35 of 'fibonacci'\n",
      "Call 36 of 'fibonacci'\n",
      "Call 37 of 'fibonacci'\n",
      "Call 38 of 'fibonacci'\n",
      "Call 39 of 'fibonacci'\n",
      "Call 40 of 'fibonacci'\n",
      "Call 41 of 'fibonacci'\n",
      "Call 42 of 'fibonacci'\n",
      "Call 43 of 'fibonacci'\n",
      "Call 44 of 'fibonacci'\n",
      "Call 45 of 'fibonacci'\n",
      "Call 46 of 'fibonacci'\n",
      "Call 47 of 'fibonacci'\n",
      "Call 48 of 'fibonacci'\n",
      "Call 49 of 'fibonacci'\n",
      "Call 50 of 'fibonacci'\n",
      "Call 51 of 'fibonacci'\n",
      "Call 52 of 'fibonacci'\n",
      "Call 53 of 'fibonacci'\n",
      "Call 54 of 'fibonacci'\n",
      "Call 55 of 'fibonacci'\n",
      "Call 56 of 'fibonacci'\n",
      "Call 57 of 'fibonacci'\n",
      "Call 58 of 'fibonacci'\n",
      "Call 59 of 'fibonacci'\n",
      "Call 60 of 'fibonacci'\n",
      "Call 61 of 'fibonacci'\n",
      "Call 62 of 'fibonacci'\n",
      "Call 63 of 'fibonacci'\n",
      "Call 64 of 'fibonacci'\n",
      "Call 65 of 'fibonacci'\n",
      "Call 66 of 'fibonacci'\n",
      "Call 67 of 'fibonacci'\n",
      "Call 68 of 'fibonacci'\n",
      "Call 69 of 'fibonacci'\n",
      "Call 70 of 'fibonacci'\n",
      "Call 71 of 'fibonacci'\n",
      "Call 72 of 'fibonacci'\n",
      "Call 73 of 'fibonacci'\n",
      "Call 74 of 'fibonacci'\n",
      "Call 75 of 'fibonacci'\n",
      "Call 76 of 'fibonacci'\n",
      "Call 77 of 'fibonacci'\n",
      "Call 78 of 'fibonacci'\n",
      "Call 79 of 'fibonacci'\n",
      "Call 80 of 'fibonacci'\n",
      "Call 81 of 'fibonacci'\n",
      "Call 82 of 'fibonacci'\n",
      "Call 83 of 'fibonacci'\n",
      "Call 84 of 'fibonacci'\n",
      "Call 85 of 'fibonacci'\n",
      "Call 86 of 'fibonacci'\n",
      "Call 87 of 'fibonacci'\n",
      "Call 88 of 'fibonacci'\n",
      "Call 89 of 'fibonacci'\n",
      "Call 90 of 'fibonacci'\n",
      "Call 91 of 'fibonacci'\n",
      "Call 92 of 'fibonacci'\n",
      "Call 93 of 'fibonacci'\n",
      "Call 94 of 'fibonacci'\n",
      "Call 95 of 'fibonacci'\n",
      "Call 96 of 'fibonacci'\n",
      "Call 97 of 'fibonacci'\n",
      "Call 98 of 'fibonacci'\n",
      "Call 99 of 'fibonacci'\n",
      "Call 100 of 'fibonacci'\n",
      "Call 101 of 'fibonacci'\n",
      "Call 102 of 'fibonacci'\n",
      "Call 103 of 'fibonacci'\n",
      "Call 104 of 'fibonacci'\n",
      "Call 105 of 'fibonacci'\n",
      "Call 106 of 'fibonacci'\n",
      "Call 107 of 'fibonacci'\n",
      "Call 108 of 'fibonacci'\n",
      "Call 109 of 'fibonacci'\n",
      "Call 110 of 'fibonacci'\n",
      "Call 111 of 'fibonacci'\n",
      "Call 112 of 'fibonacci'\n",
      "Call 113 of 'fibonacci'\n",
      "Call 114 of 'fibonacci'\n",
      "Call 115 of 'fibonacci'\n",
      "Call 116 of 'fibonacci'\n",
      "Call 117 of 'fibonacci'\n",
      "Call 118 of 'fibonacci'\n",
      "Call 119 of 'fibonacci'\n",
      "Call 120 of 'fibonacci'\n",
      "Call 121 of 'fibonacci'\n",
      "Call 122 of 'fibonacci'\n",
      "Call 123 of 'fibonacci'\n",
      "Call 124 of 'fibonacci'\n",
      "Call 125 of 'fibonacci'\n",
      "Call 126 of 'fibonacci'\n",
      "Call 127 of 'fibonacci'\n",
      "Call 128 of 'fibonacci'\n",
      "Call 129 of 'fibonacci'\n",
      "Call 130 of 'fibonacci'\n",
      "Call 131 of 'fibonacci'\n",
      "Call 132 of 'fibonacci'\n",
      "Call 133 of 'fibonacci'\n",
      "Call 134 of 'fibonacci'\n",
      "Call 135 of 'fibonacci'\n",
      "Call 136 of 'fibonacci'\n",
      "Call 137 of 'fibonacci'\n",
      "Call 138 of 'fibonacci'\n",
      "Call 139 of 'fibonacci'\n",
      "Call 140 of 'fibonacci'\n",
      "Call 141 of 'fibonacci'\n",
      "Call 142 of 'fibonacci'\n",
      "Call 143 of 'fibonacci'\n",
      "Call 144 of 'fibonacci'\n",
      "Call 145 of 'fibonacci'\n",
      "Call 146 of 'fibonacci'\n",
      "Call 147 of 'fibonacci'\n",
      "Call 148 of 'fibonacci'\n",
      "Call 149 of 'fibonacci'\n",
      "Call 150 of 'fibonacci'\n",
      "Call 151 of 'fibonacci'\n",
      "Call 152 of 'fibonacci'\n",
      "Call 153 of 'fibonacci'\n",
      "Call 154 of 'fibonacci'\n",
      "Call 155 of 'fibonacci'\n",
      "Call 156 of 'fibonacci'\n",
      "Call 157 of 'fibonacci'\n",
      "Call 158 of 'fibonacci'\n",
      "Call 159 of 'fibonacci'\n",
      "Call 160 of 'fibonacci'\n",
      "Call 161 of 'fibonacci'\n",
      "Call 162 of 'fibonacci'\n",
      "Call 163 of 'fibonacci'\n",
      "Call 164 of 'fibonacci'\n",
      "Call 165 of 'fibonacci'\n",
      "Call 166 of 'fibonacci'\n",
      "Call 167 of 'fibonacci'\n",
      "Call 168 of 'fibonacci'\n",
      "Call 169 of 'fibonacci'\n",
      "Call 170 of 'fibonacci'\n",
      "Call 171 of 'fibonacci'\n",
      "Call 172 of 'fibonacci'\n",
      "Call 173 of 'fibonacci'\n",
      "Call 174 of 'fibonacci'\n",
      "Call 175 of 'fibonacci'\n",
      "Call 176 of 'fibonacci'\n",
      "Call 177 of 'fibonacci'\n"
     ]
    },
    {
     "data": {
      "text/plain": [
       "55"
      ]
     },
     "execution_count": 462,
     "metadata": {},
     "output_type": "execute_result"
    }
   ],
   "source": [
    "#Caching Return Values\n",
    "#Decorators can provide a nice mechanism for caching and memoization.\n",
    "#As an example, let’s look at a recursive definition of the Fibonacci sequence:\n",
    "\n",
    "import functools\n",
    "\n",
    "class CountCalls:\n",
    "    def __init__(self, func):\n",
    "        functools.update_wrapper(self, func)\n",
    "        self.func = func\n",
    "        self.num_calls = 0\n",
    "\n",
    "    def __call__(self, *args, **kwargs):\n",
    "        self.num_calls += 1\n",
    "        print(f\"Call {self.num_calls} of {self.func.__name__!r}\")\n",
    "        return self.func(*args, **kwargs)\n",
    "\n",
    "@CountCalls\n",
    "def fibonacci(num):\n",
    "    if num < 2:\n",
    "        return num\n",
    "    return fibonacci(num - 1) + fibonacci(num - 2)\n",
    "\n",
    "fibonacci(10)"
   ]
  },
  {
   "cell_type": "code",
   "execution_count": 463,
   "id": "d4da7928",
   "metadata": {},
   "outputs": [
    {
     "data": {
      "text/plain": [
       "177"
      ]
     },
     "execution_count": 463,
     "metadata": {},
     "output_type": "execute_result"
    }
   ],
   "source": [
    "fibonacci.num_calls #we can access the class instance methods as well with our decorated func ref"
   ]
  },
  {
   "cell_type": "markdown",
   "id": "c83bd632",
   "metadata": {},
   "source": [
    "#### Observation:\n",
    "    While the implementation is simple, its runtime performance is terrible.\n",
    "    \n",
    "    To calculate the tenth Fibonacci number, you should really only need to calculate the preceding Fibonacci numbers, but this implementation somehow needs a whopping 177 calculations. It gets worse quickly: 21891 calculations are needed for fibonacci(20) and almost 2.7 million calculations for the 30th number. This is because the code keeps recalculating Fibonacci numbers that are already known.\n",
    "\n",
    "    The usual solution is to implement Fibonacci numbers using a for loop and a lookup table. However, simple caching of the calculations will also do the trick:"
   ]
  },
  {
   "cell_type": "code",
   "execution_count": 466,
   "id": "78118f7c",
   "metadata": {},
   "outputs": [],
   "source": [
    "import functools\n",
    "\n",
    "class CountCalls:\n",
    "    def __init__(self, func):\n",
    "        functools.update_wrapper(self, func)\n",
    "        self.func = func\n",
    "        self.num_calls = 0\n",
    "\n",
    "    def __call__(self, *args, **kwargs):\n",
    "        self.num_calls += 1\n",
    "        print(f\"Call {self.num_calls} of {self.func.__name__!r}\")\n",
    "        return self.func(*args, **kwargs)\n",
    "\n",
    "def cache(func):\n",
    "    \"\"\"Keep a cache of previous function calls\"\"\"\n",
    "    @functools.wraps(func)\n",
    "    def wrapper_cache(*args, **kwargs):\n",
    "        cache_key = args + tuple(kwargs.items())\n",
    "        if cache_key not in wrapper_cache.cache:\n",
    "            wrapper_cache.cache[cache_key] = func(*args, **kwargs)\n",
    "        return wrapper_cache.cache[cache_key]\n",
    "    wrapper_cache.cache = dict()\n",
    "    return wrapper_cache\n",
    "\n",
    "@cache\n",
    "@CountCalls\n",
    "def fibonacci(num):\n",
    "    if num < 2:\n",
    "        return num\n",
    "    return fibonacci(num - 1) + fibonacci(num - 2)\n",
    "\n",
    "#The cache works as a lookup table, so now fibonacci() only does the necessary calculations once:"
   ]
  },
  {
   "cell_type": "code",
   "execution_count": 467,
   "id": "915da195",
   "metadata": {},
   "outputs": [
    {
     "name": "stdout",
     "output_type": "stream",
     "text": [
      "Call 1 of 'fibonacci'\n",
      "Call 2 of 'fibonacci'\n",
      "Call 3 of 'fibonacci'\n",
      "Call 4 of 'fibonacci'\n",
      "Call 5 of 'fibonacci'\n",
      "Call 6 of 'fibonacci'\n",
      "Call 7 of 'fibonacci'\n",
      "Call 8 of 'fibonacci'\n",
      "Call 9 of 'fibonacci'\n",
      "Call 10 of 'fibonacci'\n",
      "Call 11 of 'fibonacci'\n"
     ]
    },
    {
     "data": {
      "text/plain": [
       "55"
      ]
     },
     "execution_count": 467,
     "metadata": {},
     "output_type": "execute_result"
    }
   ],
   "source": [
    "fibonacci(10)"
   ]
  },
  {
   "cell_type": "code",
   "execution_count": 469,
   "id": "339a6bff",
   "metadata": {},
   "outputs": [
    {
     "data": {
      "text/plain": [
       "21"
      ]
     },
     "execution_count": 469,
     "metadata": {},
     "output_type": "execute_result"
    }
   ],
   "source": [
    "fibonacci(8)"
   ]
  },
  {
   "cell_type": "markdown",
   "id": "b1c1d3c8",
   "metadata": {},
   "source": [
    "#### Note: \n",
    "    Observe that in the final call to fibonacci(8), no new calculations were needed, since the eighth Fibonacci number had already been calculated for fibonacci(10).\n",
    "    \n",
    "    In the standard library, a Least Recently Used (LRU) cache is available as @functools.lru_cache. This decorator has more features than the one we saw above. We should use @functools.lru_cache instead of writing our own cache decorator.\n",
    "    \n",
    "    The maxsize parameter specifies how many recent calls are cached. The default value is 128, but you can specify maxsize=None to cache all function calls. However, be aware that this can cause memory problems if you are caching many large objects. You can use the .cache_info() method to see how the cache performs, and you can tune it if needed. In our example, we used an artificially small maxsize to see the effect of elements being removed from the cache"
   ]
  },
  {
   "cell_type": "code",
   "execution_count": 173,
   "id": "889b494e",
   "metadata": {},
   "outputs": [],
   "source": [
    "import functools\n",
    "\n",
    "@functools.lru_cache(maxsize=4)\n",
    "def fibonacci(num):\n",
    "    print(f\"Calculating fibonacci({num})\")\n",
    "    if num < 2:\n",
    "        return num\n",
    "    return fibonacci(num - 1) + fibonacci(num - 2)"
   ]
  },
  {
   "cell_type": "code",
   "execution_count": 174,
   "id": "4d3805b0",
   "metadata": {},
   "outputs": [
    {
     "name": "stdout",
     "output_type": "stream",
     "text": [
      "Calculating fibonacci(10)\n",
      "Calculating fibonacci(9)\n",
      "Calculating fibonacci(8)\n",
      "Calculating fibonacci(7)\n",
      "Calculating fibonacci(6)\n",
      "Calculating fibonacci(5)\n",
      "Calculating fibonacci(4)\n",
      "Calculating fibonacci(3)\n",
      "Calculating fibonacci(2)\n",
      "Calculating fibonacci(1)\n",
      "Calculating fibonacci(0)\n"
     ]
    },
    {
     "data": {
      "text/plain": [
       "55"
      ]
     },
     "execution_count": 174,
     "metadata": {},
     "output_type": "execute_result"
    }
   ],
   "source": [
    "fibonacci(10)"
   ]
  },
  {
   "cell_type": "code",
   "execution_count": 175,
   "id": "c657182a",
   "metadata": {},
   "outputs": [
    {
     "data": {
      "text/plain": [
       "21"
      ]
     },
     "execution_count": 175,
     "metadata": {},
     "output_type": "execute_result"
    }
   ],
   "source": [
    "fibonacci(8)"
   ]
  },
  {
   "cell_type": "code",
   "execution_count": 177,
   "id": "20be7996",
   "metadata": {},
   "outputs": [
    {
     "name": "stdout",
     "output_type": "stream",
     "text": [
      "Calculating fibonacci(4)\n",
      "Calculating fibonacci(3)\n",
      "Calculating fibonacci(2)\n",
      "Calculating fibonacci(1)\n",
      "Calculating fibonacci(0)\n"
     ]
    },
    {
     "data": {
      "text/plain": [
       "3"
      ]
     },
     "execution_count": 177,
     "metadata": {},
     "output_type": "execute_result"
    }
   ],
   "source": [
    "fibonacci(4) #recalclating as we used max_size = 4, only recent 4 calls are cached before i.e 10, 9, 8, 7"
   ]
  },
  {
   "cell_type": "code",
   "execution_count": 178,
   "id": "eeda7dd3",
   "metadata": {},
   "outputs": [
    {
     "data": {
      "text/plain": [
       "2"
      ]
     },
     "execution_count": 178,
     "metadata": {},
     "output_type": "execute_result"
    }
   ],
   "source": [
    "fibonacci(3)"
   ]
  },
  {
   "cell_type": "code",
   "execution_count": 176,
   "id": "1f81255b",
   "metadata": {},
   "outputs": [
    {
     "data": {
      "text/plain": [
       "CacheInfo(hits=9, misses=11, maxsize=4, currsize=4)"
      ]
     },
     "execution_count": 176,
     "metadata": {},
     "output_type": "execute_result"
    }
   ],
   "source": [
    "fibonacci.cache_info()"
   ]
  },
  {
   "cell_type": "code",
   "execution_count": 181,
   "id": "9c7b739c",
   "metadata": {},
   "outputs": [
    {
     "data": {
      "text/plain": [
       "141.3716694115407"
      ]
     },
     "execution_count": 181,
     "metadata": {},
     "output_type": "execute_result"
    }
   ],
   "source": [
    "#Adding Information About Units\n",
    "\n",
    "#The following example is somewhat similar to the Registering Plugins example from earlier,\n",
    "#in that it does not really change the behavior of the decorated function.\n",
    "#Instead, it simply adds unit as a function attribute\n",
    "\n",
    "def set_unit(unit):\n",
    "    \"\"\"Register a unit on a function\"\"\"\n",
    "    def decorator_set_unit(func):\n",
    "        func.unit = unit\n",
    "        return func\n",
    "    return decorator_set_unit\n",
    "\n",
    "#calculates the volume of a cylinder based on its radius and height in centimeters:\n",
    "#This .unit function attribute can later be accessed when needed\n",
    "import math\n",
    "\n",
    "@set_unit(\"cm^3\")\n",
    "def volume(radius, height):\n",
    "    return math.pi * radius**2 * height\n",
    "\n",
    "volume(3, 5)"
   ]
  },
  {
   "cell_type": "code",
   "execution_count": 182,
   "id": "39f31385",
   "metadata": {},
   "outputs": [
    {
     "data": {
      "text/plain": [
       "'cm^3'"
      ]
     },
     "execution_count": 182,
     "metadata": {},
     "output_type": "execute_result"
    }
   ],
   "source": [
    "volume.unit"
   ]
  },
  {
   "cell_type": "code",
   "execution_count": 183,
   "id": "47e5b968",
   "metadata": {},
   "outputs": [
    {
     "data": {
      "text/plain": [
       "141.3716694115407"
      ]
     },
     "execution_count": 183,
     "metadata": {},
     "output_type": "execute_result"
    }
   ],
   "source": [
    "#Note that you could have achieved something similar using function annotations\n",
    "#However, since annotations are used for type hints, it would be hard to combine such units as annotations with static type checking.\n",
    "#Units become even more powerful and fun when connected with a library that can convert between units.\n",
    "#One such library is pint. With pint installed (pip install Pint), you can for instance convert the volume to cubic inches or gallons\n",
    "\n",
    "import math\n",
    "\n",
    "def volume(radius, height) -> \"cm^3\":\n",
    "    return math.pi * radius**2 * height\n",
    "\n",
    "volume(3, 5)"
   ]
  },
  {
   "cell_type": "code",
   "execution_count": 187,
   "id": "b539fc35",
   "metadata": {},
   "outputs": [
    {
     "name": "stdout",
     "output_type": "stream",
     "text": [
      "Collecting pint\n",
      "  Downloading Pint-0.20.1-py3-none-any.whl (269 kB)\n",
      "     -------------------------------------- 269.5/269.5 kB 4.2 MB/s eta 0:00:00\n",
      "Installing collected packages: pint\n",
      "Successfully installed pint-0.20.1\n"
     ]
    }
   ],
   "source": [
    "!pip install pint"
   ]
  },
  {
   "cell_type": "code",
   "execution_count": 189,
   "id": "86c07341",
   "metadata": {},
   "outputs": [],
   "source": [
    "import pint\n",
    "import math \n",
    "\n",
    "ureg = pint.UnitRegistry()\n",
    "\n",
    "def set_unit(unit):\n",
    "    \"\"\"Register a unit on a function\"\"\"\n",
    "    def decorator_set_unit(func):\n",
    "        func.unit = unit\n",
    "        return func\n",
    "    return decorator_set_unit\n",
    "\n",
    "@set_unit(\"cm^3\")\n",
    "def volume(radius, height):\n",
    "    return math.pi * radius**2 * height\n",
    "\n",
    "volume(3, 5)\n",
    "vol = volume(3, 5) * ureg(volume.unit)"
   ]
  },
  {
   "cell_type": "code",
   "execution_count": 190,
   "id": "224f4774",
   "metadata": {},
   "outputs": [
    {
     "data": {
      "text/html": [
       "141.3716694115407 centimeter<sup>3</sup>"
      ],
      "text/latex": [
       "$141.3716694115407\\ \\mathrm{centimeter}^{3}$"
      ],
      "text/plain": [
       "141.3716694115407 <Unit('centimeter ** 3')>"
      ]
     },
     "execution_count": 190,
     "metadata": {},
     "output_type": "execute_result"
    }
   ],
   "source": [
    "vol"
   ]
  },
  {
   "cell_type": "code",
   "execution_count": 191,
   "id": "9f4c9495",
   "metadata": {},
   "outputs": [
    {
     "data": {
      "text/html": [
       "8.627028576414954 inch<sup>3</sup>"
      ],
      "text/latex": [
       "$8.627028576414954\\ \\mathrm{inch}^{3}$"
      ],
      "text/plain": [
       "8.627028576414954 <Unit('inch ** 3')>"
      ]
     },
     "execution_count": 191,
     "metadata": {},
     "output_type": "execute_result"
    }
   ],
   "source": [
    "vol.to(\"cubic inches\")"
   ]
  },
  {
   "cell_type": "code",
   "execution_count": 192,
   "id": "91def5b5",
   "metadata": {},
   "outputs": [
    {
     "data": {
      "text/plain": [
       "0.03734644405374439"
      ]
     },
     "execution_count": 192,
     "metadata": {},
     "output_type": "execute_result"
    }
   ],
   "source": [
    "vol.to(\"gallons\").m"
   ]
  },
  {
   "cell_type": "code",
   "execution_count": 193,
   "id": "acc2cca9",
   "metadata": {},
   "outputs": [
    {
     "data": {
      "text/html": [
       "10.438413361169102 meter/second"
      ],
      "text/latex": [
       "$10.438413361169102\\ \\frac{\\mathrm{meter}}{\\mathrm{second}}$"
      ],
      "text/plain": [
       "10.438413361169102 <Unit('meter / second')>"
      ]
     },
     "execution_count": 193,
     "metadata": {},
     "output_type": "execute_result"
    }
   ],
   "source": [
    "#You could also modify the decorator to return a pint Quantity directly.\n",
    "#Such a Quantity is made by multiplying a value with the unit.\n",
    "#In pint, units must be looked up in a UnitRegistry.\n",
    "#The registry is stored as a function attribute to avoid cluttering the namespace\n",
    "#With the @use_unit decorator, converting units is practically effortless\n",
    "\n",
    "def use_unit(unit):\n",
    "    \"\"\"Have a function return a Quantity with given unit\"\"\"\n",
    "    use_unit.ureg = pint.UnitRegistry()\n",
    "    def decorator_use_unit(func):\n",
    "        @functools.wraps(func)\n",
    "        def wrapper_use_unit(*args, **kwargs):\n",
    "            value = func(*args, **kwargs)\n",
    "            return value * use_unit.ureg(unit)\n",
    "        return wrapper_use_unit\n",
    "    return decorator_use_unit\n",
    "\n",
    "@use_unit(\"meters per second\")\n",
    "def average_speed(distance, duration):\n",
    "    return distance / duration\n",
    "\n",
    "bolt = average_speed(100, 9.58)\n",
    "bolt"
   ]
  },
  {
   "cell_type": "code",
   "execution_count": 194,
   "id": "12ede989",
   "metadata": {},
   "outputs": [
    {
     "data": {
      "text/html": [
       "37.578288100208766 kilometer/hour"
      ],
      "text/latex": [
       "$37.578288100208766\\ \\frac{\\mathrm{kilometer}}{\\mathrm{hour}}$"
      ],
      "text/plain": [
       "37.578288100208766 <Unit('kilometer / hour')>"
      ]
     },
     "execution_count": 194,
     "metadata": {},
     "output_type": "execute_result"
    }
   ],
   "source": [
    "bolt.to(\"km per hour\")"
   ]
  },
  {
   "cell_type": "code",
   "execution_count": 195,
   "id": "5f10bdb6",
   "metadata": {},
   "outputs": [
    {
     "data": {
      "text/plain": [
       "23.35006567906474"
      ]
     },
     "execution_count": 195,
     "metadata": {},
     "output_type": "execute_result"
    }
   ],
   "source": [
    "bolt.to(\"mph\").m  # Magnitude"
   ]
  },
  {
   "cell_type": "markdown",
   "id": "7f4293b5",
   "metadata": {},
   "source": [
    "#### -------------------- Defining a Decorator with User Adjustable Attributes ------------------------\n",
    "    If you want to write a decorator function that wraps a function, but has user adjustable attributes that can be used to control the behavior of the decorator at runtime then we can make use of accessor functions that change internal variables through the use of nonlocal variable declarations. The accessor functions are then attached to the wrapper function as function attributes."
   ]
  },
  {
   "cell_type": "code",
   "execution_count": 482,
   "id": "45f981a9",
   "metadata": {},
   "outputs": [],
   "source": [
    "from functools import wraps, partial\n",
    "import logging\n",
    "\n",
    "# Utility decorator to attach a function as an attribute of obj\n",
    "def attach_wrapper(obj, func=None):\n",
    "    if func is None:\n",
    "        return partial(attach_wrapper, obj)\n",
    "    setattr(obj, func.__name__, func)\n",
    "    return func\n",
    "\n",
    "#decorator\n",
    "def logged(level, name=None, message=None):\n",
    "    '''\n",
    "     Add logging to a function. level is the logging\n",
    "     level, name is the logger name, and message is the\n",
    "     log message. If name and message aren't specified,\n",
    "     they default to the function's module and name.\n",
    "     '''\n",
    "    def decorate(func):\n",
    "        logname = name if name else func.__module__\n",
    "        log = logging.getLogger(logname)\n",
    "        logmsg = message if message else func.__name__\n",
    "        @wraps(func)\n",
    "        def wrapper(*args, **kwargs):\n",
    "            log.log(level, logmsg)\n",
    "            return func(*args, **kwargs)\n",
    "\n",
    "        #accessor functions \n",
    "        # Attach setter functions\n",
    "        @attach_wrapper(wrapper)\n",
    "        def set_level(newlevel):\n",
    "            nonlocal level\n",
    "            level = newlevel\n",
    "        \n",
    "        @attach_wrapper(wrapper)\n",
    "        def set_message(newmsg):\n",
    "            nonlocal logmsg\n",
    "            logmsg = newmsg\n",
    "        return wrapper\n",
    "    return decorate"
   ]
  },
  {
   "cell_type": "code",
   "execution_count": 483,
   "id": "4d8d23b5",
   "metadata": {},
   "outputs": [
    {
     "name": "stderr",
     "output_type": "stream",
     "text": [
      "DEBUG:__main__:add\n"
     ]
    },
    {
     "data": {
      "text/plain": [
       "5"
      ]
     },
     "execution_count": 483,
     "metadata": {},
     "output_type": "execute_result"
    }
   ],
   "source": [
    "# Example use\n",
    "@logged(logging.DEBUG)\n",
    "def add(x, y):\n",
    "    return x + y\n",
    "\n",
    "add(2, 3)"
   ]
  },
  {
   "cell_type": "code",
   "execution_count": 484,
   "id": "5ed37b4e",
   "metadata": {},
   "outputs": [
    {
     "name": "stderr",
     "output_type": "stream",
     "text": [
      "DEBUG:__main__:add\n"
     ]
    },
    {
     "name": "stdout",
     "output_type": "stream",
     "text": [
      "5\n"
     ]
    }
   ],
   "source": [
    "# Example use\n",
    "@logged(logging.DEBUG)\n",
    "def add(x, y):\n",
    "    print(f\"{x + y}\")\n",
    "\n",
    "add(2, 3)"
   ]
  },
  {
   "cell_type": "code",
   "execution_count": 485,
   "id": "b7b07cc7",
   "metadata": {},
   "outputs": [
    {
     "name": "stderr",
     "output_type": "stream",
     "text": [
      "CRITICAL:example:spam\n"
     ]
    },
    {
     "name": "stdout",
     "output_type": "stream",
     "text": [
      "Spam!\n"
     ]
    }
   ],
   "source": [
    "@logged(logging.CRITICAL, 'example')\n",
    "def spam():\n",
    "    print('Spam!')\n",
    "    \n",
    "spam()"
   ]
  },
  {
   "cell_type": "code",
   "execution_count": 486,
   "id": "59f53be5",
   "metadata": {},
   "outputs": [
    {
     "name": "stderr",
     "output_type": "stream",
     "text": [
      "DEBUG:__main__:add\n"
     ]
    },
    {
     "name": "stdout",
     "output_type": "stream",
     "text": [
      "5\n"
     ]
    }
   ],
   "source": [
    "#Here is an interactive session that shows the various attributes being changed after definition:\n",
    "import logging\n",
    "\n",
    "logging.basicConfig(level=logging.DEBUG)\n",
    "add(2, 3)"
   ]
  },
  {
   "cell_type": "code",
   "execution_count": 487,
   "id": "0565487e",
   "metadata": {},
   "outputs": [
    {
     "name": "stderr",
     "output_type": "stream",
     "text": [
      "DEBUG:__main__:Add called\n"
     ]
    },
    {
     "name": "stdout",
     "output_type": "stream",
     "text": [
      "5\n"
     ]
    }
   ],
   "source": [
    "# Change the log message\n",
    "add.set_message('Add called')\n",
    "add(2, 3)"
   ]
  },
  {
   "cell_type": "code",
   "execution_count": 488,
   "id": "16bb3990",
   "metadata": {},
   "outputs": [
    {
     "name": "stderr",
     "output_type": "stream",
     "text": [
      "WARNING:__main__:Add called\n"
     ]
    },
    {
     "name": "stdout",
     "output_type": "stream",
     "text": [
      "5\n"
     ]
    }
   ],
   "source": [
    "# Change the log level\n",
    "add.set_level(logging.WARNING)\n",
    "add(2, 3)"
   ]
  },
  {
   "cell_type": "markdown",
   "id": "c2097279",
   "metadata": {},
   "source": [
    "#### Discussion:\n",
    "    The key to this recipe lies in the accessor functions [e.g., set_message() and set_level()] that get attached to the wrapper as attributes. Each of these accessors allows internal parameters to be adjusted through the use of nonlocal assignments. An amazing feature of this recipe is that the accessor functions will propagate through multiple levels of decoration (if all of your decorators utilize @functools.wraps)."
   ]
  },
  {
   "cell_type": "code",
   "execution_count": 489,
   "id": "28ac78ce",
   "metadata": {},
   "outputs": [],
   "source": [
    "#For example, suppose you introduced an additional decorator, such as the @timethis decorator and wrote code like below, \n",
    "#You’ll find that the accessor methods still work\n",
    "\n",
    "def timer(func):\n",
    "    '''\n",
    "    Decorator that reports the execution time.\n",
    "    '''\n",
    "    @functools.wraps(func)\n",
    "    def wrapper(*args, **kwargs):\n",
    "        start = time.time()\n",
    "        result = func(*args, **kwargs)\n",
    "        end = time.time()\n",
    "        print(func.__name__, end-start)\n",
    "        return result\n",
    "    return wrapper\n",
    "\n",
    "@timer\n",
    "@logged(logging.DEBUG)\n",
    "def countdown(n):\n",
    "    while n > 0:\n",
    "        n -= 1"
   ]
  },
  {
   "cell_type": "code",
   "execution_count": 490,
   "id": "f6f8b68a",
   "metadata": {},
   "outputs": [
    {
     "name": "stderr",
     "output_type": "stream",
     "text": [
      "DEBUG:__main__:countdown\n"
     ]
    },
    {
     "name": "stdout",
     "output_type": "stream",
     "text": [
      "countdown 1.2402105331420898\n"
     ]
    }
   ],
   "source": [
    "countdown(10000000)"
   ]
  },
  {
   "cell_type": "code",
   "execution_count": 491,
   "id": "2f73ce30",
   "metadata": {},
   "outputs": [],
   "source": [
    "countdown.set_level(logging.WARNING)"
   ]
  },
  {
   "cell_type": "code",
   "execution_count": 492,
   "id": "e919eaf1",
   "metadata": {},
   "outputs": [],
   "source": [
    "countdown.set_message(\"Counting down to zero\")"
   ]
  },
  {
   "cell_type": "code",
   "execution_count": 493,
   "id": "816937ee",
   "metadata": {},
   "outputs": [
    {
     "name": "stderr",
     "output_type": "stream",
     "text": [
      "WARNING:__main__:Counting down to zero\n"
     ]
    },
    {
     "name": "stdout",
     "output_type": "stream",
     "text": [
      "countdown 0.5256218910217285\n"
     ]
    }
   ],
   "source": [
    "countdown(10000000)"
   ]
  },
  {
   "cell_type": "code",
   "execution_count": 494,
   "id": "0e31d230",
   "metadata": {},
   "outputs": [],
   "source": [
    "#You’ll also find that it all still works exactly the same way if the decorators are composed in the opposite order, like this:\n",
    "@logged(logging.DEBUG)\n",
    "@timer\n",
    "def countdown(n):\n",
    "    while n > 0:\n",
    "        n -= 1"
   ]
  },
  {
   "cell_type": "code",
   "execution_count": 495,
   "id": "6e516ef6",
   "metadata": {},
   "outputs": [
    {
     "name": "stderr",
     "output_type": "stream",
     "text": [
      "DEBUG:__main__:countdown\n"
     ]
    },
    {
     "name": "stdout",
     "output_type": "stream",
     "text": [
      "countdown 0.5088469982147217\n"
     ]
    }
   ],
   "source": [
    "countdown(10000000)"
   ]
  },
  {
   "cell_type": "markdown",
   "id": "7a7ddff6",
   "metadata": {},
   "source": [
    "    #Although it’s not shown, accessor functions to return the value of various settings could also be written just as easily by adding extra code such as this:\n",
    "    #     ...\n",
    "    # @attach_wrapper(wrapper)\n",
    "    # def get_level():\n",
    "    #  return level\n",
    "    # # Alternative\n",
    "    # wrapper.get_level = lambda: level\n",
    "    # ...\n",
    "    #One extremely subtle facet of this recipe is the choice to use accessor functions in the first place.\n",
    "    #For example, you might consider an alternative formulation solely based on direct access to function attributes like this:\n",
    "    <!-- ...\n",
    "    # @wraps(func)\n",
    "    # def wrapper(*args, **kwargs):\n",
    "    #  wrapper.log.log(wrapper.level, wrapper.logmsg)\n",
    "    #  return func(*args, **kwargs)\n",
    "    # # Attach adjustable attributes\n",
    "    # wrapper.level = level\n",
    "    # wrapper.logmsg = logmsg\n",
    "    # wrapper.log = log\n",
    "    # ... -->\n",
    "    This approach would work to a point, but only if it was the topmost decorator. If you had another decorator applied on top (such as the @timer example), it would shadow the underlying attributes and make them unavailable for modification. The use of accessor functions avoids this limitation. Last, but not least, the solution shown in this recipe might be a possible alternative for decorators defined as classes"
   ]
  },
  {
   "cell_type": "markdown",
   "id": "67ab2804",
   "metadata": {},
   "source": [
    "#### Python @property decorator\n",
    "    \n",
    "    Python @property decorator; a pythonic way to use getters and setters in object-oriented programming.\n",
    "\n",
    "    Python programming provides us with a built-in @property decorator which makes usage of getter and setters much easier in Object-Oriented Programming.\n",
    "\n",
    "    Before going into details on what @property decorator is, let us first build an intuition on why it would be needed in the first place.\n",
    "    \n",
    "    Class Without Getters and Setters:\n",
    "    ------------------------------------\n",
    "    Let us assume that we decide to make a class that stores the temperature in degrees Celsius. And, it would also implement a method to convert the temperature into degrees Fahrenheit.\n",
    "\n",
    "    One way of doing this is as follows"
   ]
  },
  {
   "cell_type": "code",
   "execution_count": 132,
   "id": "6fae2bb4",
   "metadata": {},
   "outputs": [
    {
     "name": "stdout",
     "output_type": "stream",
     "text": [
      "37\n",
      "98.60000000000001\n"
     ]
    }
   ],
   "source": [
    "class Celsius:\n",
    "    def __init__(self, temperature=0):\n",
    "        self.temperature = temperature\n",
    "        \n",
    "    def to_fahrenheit(self):\n",
    "        return (self.temperature * 1.8) + 32\n",
    "    \n",
    "#We can make objects out of this class and manipulate the temperature attribute as we wish\n",
    "\n",
    "#Create a new object\n",
    "currentday =  Celsius()\n",
    "\n",
    "# Set the temperature\n",
    "currentday.temperature = 37\n",
    "\n",
    "# Get the temperature attribute\n",
    "print(currentday.temperature)\n",
    "\n",
    "#get to instance method - to_fahrenheit()\n",
    "fahren = currentday.to_fahrenheit()\n",
    "print(fahren) \n",
    "#the extra decimal places when converting into Fahrenheit is due to the Floating Point Arithmetic Error."
   ]
  },
  {
   "cell_type": "markdown",
   "id": "75651f51",
   "metadata": {},
   "source": [
    "    -------------------------------------------------------------------------------------------------------------------\n",
    "    So, whenever we assign or retrieve any object attribute like temperature as shown above, Python searches it in the object's built-in __dict__ dictionary attribute as below.\n",
    "    \n",
    "    Therefore, currentday.temperature internally becomes currentday.__dict__['temperature']"
   ]
  },
  {
   "cell_type": "code",
   "execution_count": 133,
   "id": "93e934d5",
   "metadata": {},
   "outputs": [
    {
     "data": {
      "text/plain": [
       "{'temperature': 37}"
      ]
     },
     "execution_count": 133,
     "metadata": {},
     "output_type": "execute_result"
    }
   ],
   "source": [
    "currentday.__dict__"
   ]
  },
  {
   "cell_type": "markdown",
   "id": "6d778348",
   "metadata": {},
   "source": [
    "#### Using Getters and Setters\n",
    "    Suppose we want to extend the usability of the Celsius class defined above. We know that the temperature of any object cannot reach below -273.15 degrees Celsius.\n",
    "\n",
    "    Let's update our code to implement this value constraint.\n",
    "\n",
    "    An obvious solution to the above restriction will be to hide the attribute temperature (make it private using _varname) and define new getter and setter methods to manipulate it.\n",
    "\n",
    "    This can be done as follows.\n",
    "    \n",
    "    As we can see, the below method introduces two new get_temperature() and set_temperature() methods.\n",
    "\n",
    "    Furthermore, temperature was replaced with _temperature. An underscore _ at the beginning is used to denote private variables in Python."
   ]
  },
  {
   "cell_type": "code",
   "execution_count": 138,
   "id": "5738154a",
   "metadata": {},
   "outputs": [
    {
     "name": "stdout",
     "output_type": "stream",
     "text": [
      "37\n",
      "98.60000000000001\n"
     ]
    },
    {
     "ename": "ValueError",
     "evalue": "Temperature cannot go beyond -273.15 degrees Celsius",
     "output_type": "error",
     "traceback": [
      "\u001b[1;31m---------------------------------------------------------------------------\u001b[0m",
      "\u001b[1;31mValueError\u001b[0m                                Traceback (most recent call last)",
      "Input \u001b[1;32mIn [138]\u001b[0m, in \u001b[0;36m<cell line: 31>\u001b[1;34m()\u001b[0m\n\u001b[0;32m     28\u001b[0m \u001b[38;5;28mprint\u001b[39m(fahren) \n\u001b[0;32m     30\u001b[0m \u001b[38;5;66;03m# new constraint implementation\u001b[39;00m\n\u001b[1;32m---> 31\u001b[0m \u001b[43mcurrentday\u001b[49m\u001b[38;5;241;43m.\u001b[39;49m\u001b[43mset_temperature\u001b[49m\u001b[43m(\u001b[49m\u001b[38;5;241;43m-\u001b[39;49m\u001b[38;5;241;43m300\u001b[39;49m\u001b[43m)\u001b[49m\n\u001b[0;32m     33\u001b[0m \u001b[38;5;66;03m# Get the to_fahreheit method\u001b[39;00m\n\u001b[0;32m     34\u001b[0m \u001b[38;5;28mprint\u001b[39m(currentday\u001b[38;5;241m.\u001b[39mto_fahrenheit())\n",
      "Input \u001b[1;32mIn [138]\u001b[0m, in \u001b[0;36mCelsius.set_temperature\u001b[1;34m(self, val)\u001b[0m\n\u001b[0;32m     15\u001b[0m \u001b[38;5;28;01mdef\u001b[39;00m \u001b[38;5;21mset_temperature\u001b[39m(\u001b[38;5;28mself\u001b[39m, val):\n\u001b[0;32m     16\u001b[0m     \u001b[38;5;28;01mif\u001b[39;00m val \u001b[38;5;241m<\u001b[39m \u001b[38;5;241m-\u001b[39m\u001b[38;5;241m273.15\u001b[39m:\n\u001b[1;32m---> 17\u001b[0m         \u001b[38;5;28;01mraise\u001b[39;00m \u001b[38;5;167;01mValueError\u001b[39;00m(\u001b[38;5;124m\"\u001b[39m\u001b[38;5;124mTemperature cannot go beyond -273.15 degrees Celsius\u001b[39m\u001b[38;5;124m\"\u001b[39m)\n\u001b[0;32m     18\u001b[0m     \u001b[38;5;28mself\u001b[39m\u001b[38;5;241m.\u001b[39m_temperature \u001b[38;5;241m=\u001b[39m val\n",
      "\u001b[1;31mValueError\u001b[0m: Temperature cannot go beyond -273.15 degrees Celsius"
     ]
    }
   ],
   "source": [
    "#class with getter and setters\n",
    "\n",
    "class Celsius:\n",
    "    def __init__(self, temperature=0):\n",
    "        self.set_temperature(temperature)\n",
    "        \n",
    "    def to_fahrenheit(self):\n",
    "        return (self.get_temperature() * 1.8) + 32\n",
    "    \n",
    "    #getter method\n",
    "    def get_temperature(self):\n",
    "        return self._temperature\n",
    "    \n",
    "    #setter method\n",
    "    def set_temperature(self, val):\n",
    "        if val < -273.15:\n",
    "            raise ValueError(\"Temperature cannot go beyond -273.15 degrees Celsius\")\n",
    "        self._temperature = val\n",
    "\n",
    "# Create a new object, set_temperature() internally called by __init__\n",
    "currentday =  Celsius(37)\n",
    "\n",
    "# Get the temperature attribute via a getter\n",
    "print(currentday.get_temperature())\n",
    "\n",
    "# Get the to_fahrenheit method, get_temperature() called by the method itself\n",
    "fahren = currentday.to_fahrenheit()\n",
    "print(fahren) \n",
    "\n",
    "# new constraint implementation\n",
    "currentday.set_temperature(-300)\n",
    "\n",
    "# Get the to_fahreheit method\n",
    "print(currentday.to_fahrenheit())"
   ]
  },
  {
   "cell_type": "markdown",
   "id": "f5813dfd",
   "metadata": {},
   "source": [
    "    ------------------------------------------------------------------------------------------\n",
    "    This update successfully implemented the new restriction. We are no longer allowed to set the temperature below -273.15 degrees Celsius.\n",
    "\n",
    "    Note: The private variables don't actually exist in Python. There are simply norms to be followed(using _). The language itself doesn't apply any restrictions.\n",
    "\n",
    "    However, the bigger problem with the above update is that all the programs that implemented our class Celsius previously, have to modify their code from obj.temperature to obj.get_temperature() and all expressions like obj.temperature = val to obj.set_temperature(val).\n",
    "\n",
    "    This refactoring can cause problems while dealing with hundreds of thousands of lines of codes.\n",
    "\n",
    "    All in all, our new update was not \"backwards compatible\". This is where @property comes to rescue.\n",
    "    \n",
    "#### The property Class (to achieve backward compatibility)\n",
    "    A pythonic way to deal with the above problem is to use the property class. Below is how we can update our code.\n",
    "    \n",
    "    We added the print() function inside get_temperature() and set_temperature() to clearly observe that they are being executed.\n",
    "\n",
    "    The last line of the code makes a property object temperature. Simply put, property attaches some code (get_temperature and set_temperature) to the member attribute accesses (temperature).\n",
    "    \n",
    "    As we can see in the output, \"any code that retrieves the value of temperature will automatically call get_temperature()\" instead of a dictionary (__dict__) look-up.\n",
    "\n",
    "    Similarly, \"any code that assigns a value to temperature will automatically call set_temperature()\".\n",
    "\n",
    "    We can even see above that set_temperature() was called even when we created an object.\n",
    "    \n",
    "    Can you guess why?\n",
    "    ------------------\n",
    "\n",
    "        The reason is that when an object is created, the __init__() method gets called. This method has the line self.temperature = temperature. This expression automatically calls set_temperature().\n",
    "\n",
    "        Similarly, any access like c.temperature automatically calls get_temperature(). This is what property does.\n",
    "\n",
    "        By using property, we can see that no modification is required in the implementation of the value constraint. Thus, our implementation is backward compatible.\n",
    "        \n",
    "        Note: The actual temperature value is stored in the private _temperature variable. The temperature attribute is a property object which provides an interface to this private variable."
   ]
  },
  {
   "cell_type": "code",
   "execution_count": 146,
   "id": "9a18c37a",
   "metadata": {},
   "outputs": [
    {
     "name": "stdout",
     "output_type": "stream",
     "text": [
      "Setting temperature value\n",
      "Getting temperature\n",
      "37\n",
      "Getting temperature\n",
      "98.60000000000001\n",
      "Setting temperature value\n"
     ]
    },
    {
     "ename": "ValueError",
     "evalue": "Temperature less than -273.5 degrees Celsius is not possible",
     "output_type": "error",
     "traceback": [
      "\u001b[1;31m---------------------------------------------------------------------------\u001b[0m",
      "\u001b[1;31mValueError\u001b[0m                                Traceback (most recent call last)",
      "Input \u001b[1;32mIn [146]\u001b[0m, in \u001b[0;36m<cell line: 30>\u001b[1;34m()\u001b[0m\n\u001b[0;32m     26\u001b[0m \u001b[38;5;28mprint\u001b[39m(currentday\u001b[38;5;241m.\u001b[39mtemperature)\n\u001b[0;32m     28\u001b[0m \u001b[38;5;28mprint\u001b[39m(currentday\u001b[38;5;241m.\u001b[39mto_fahrenheit())\n\u001b[1;32m---> 30\u001b[0m currentday\u001b[38;5;241m.\u001b[39mtemperature \u001b[38;5;241m=\u001b[39m \u001b[38;5;241m-\u001b[39m\u001b[38;5;241m300\u001b[39m\n",
      "Input \u001b[1;32mIn [146]\u001b[0m, in \u001b[0;36mCelsius.set_temperature\u001b[1;34m(self, value)\u001b[0m\n\u001b[0;32m     17\u001b[0m \u001b[38;5;28mprint\u001b[39m(\u001b[38;5;124m\"\u001b[39m\u001b[38;5;124mSetting temperature value\u001b[39m\u001b[38;5;124m\"\u001b[39m)\n\u001b[0;32m     18\u001b[0m \u001b[38;5;28;01mif\u001b[39;00m value \u001b[38;5;241m<\u001b[39m \u001b[38;5;241m-\u001b[39m\u001b[38;5;241m273.15\u001b[39m:\n\u001b[1;32m---> 19\u001b[0m     \u001b[38;5;28;01mraise\u001b[39;00m \u001b[38;5;167;01mValueError\u001b[39;00m(\u001b[38;5;124m\"\u001b[39m\u001b[38;5;124mTemperature less than -273.5 degrees Celsius is not possible\u001b[39m\u001b[38;5;124m\"\u001b[39m)\n\u001b[0;32m     20\u001b[0m \u001b[38;5;28mself\u001b[39m\u001b[38;5;241m.\u001b[39m_temperature \u001b[38;5;241m=\u001b[39m value\n",
      "\u001b[1;31mValueError\u001b[0m: Temperature less than -273.5 degrees Celsius is not possible"
     ]
    }
   ],
   "source": [
    "#getters and setter with property class\n",
    "\n",
    "class Celsius:\n",
    "    def __init__(self, temperature=0):\n",
    "        self.temperature = temperature\n",
    "        \n",
    "    def to_fahrenheit(self):\n",
    "        return (self.temperature * 1.8) + 32\n",
    "    \n",
    "    #getter\n",
    "    def get_temperature(self):\n",
    "        print(\"Getting temperature\")\n",
    "        return self._temperature\n",
    "    \n",
    "    #setter\n",
    "    def set_temperature(self, value):\n",
    "        print(\"Setting temperature value\")\n",
    "        if value < -273.15:\n",
    "            raise ValueError(\"Temperature less than -273.5 degrees Celsius is not possible\")\n",
    "        self._temperature = value\n",
    "        \n",
    "    temperature = property(fget=get_temperature, fset=set_temperature) #property object\n",
    "    \n",
    "currentday = Celsius(37) # prints Setting temperature value as we are setting temperature\n",
    "\n",
    "print(currentday.temperature)\n",
    "\n",
    "print(currentday.to_fahrenheit())\n",
    "\n",
    "currentday.temperature = -300"
   ]
  },
  {
   "cell_type": "markdown",
   "id": "591916e6",
   "metadata": {},
   "source": [
    "#### property object getter(), setter() and deleter():\n",
    "    In Python, property() which we discussed above is a built-in function that creates and returns a property object. The syntax of this function is:\n",
    "\n",
    "                    Syntax :  property(fget=None, fset=None, fdel=None, doc=None)\n",
    "                    \n",
    "     Here,\n",
    "\n",
    "        fget is function to get value of the attribute\n",
    "        fset is function to set value of the attribute\n",
    "        fdel is function to delete the attribute\n",
    "        doc is a string (like a comment)\n",
    "        As seen from the implementation, these function arguments are optional.\n",
    "\n",
    "        A property object has three methods, getter(), setter(), and deleter() to specify fget, fset and fdel at a later point. This means, the line\n",
    "        ------------------------------------------------------------------\n",
    "              temperature = property(get_temperature, set_temperature)\n",
    "        ------------------------------------------------------------------\n",
    "        \n",
    "            can be broken down as:\n",
    "\n",
    "                        # make empty property\n",
    "                        temperature = property()\n",
    "\n",
    "                        # assign fget\n",
    "                        temperature = temperature.getter(get_temperature)\n",
    "\n",
    "                        # assign fset\n",
    "                        temperature = temperature.setter(set_temperature)\n",
    "      ------------------------------------------------------------------------                  \n",
    "\n",
    "#### The @property Decorator\n",
    "\n",
    "      These above two pieces of code are equivalent. Programmers familiar with Python Decorators can recognize that the above construct can be implemented as decorators.(function with another func as argument)\n",
    "\n",
    "    We can even not define the names get_temperature and set_temperature as they are unnecessary and pollute the class namespace.\n",
    "\n",
    "    For this, we \"reuse the temperature name while defining our getter and setter functions using @property decorator\". Let's look at how to implement this as a decorator.\n",
    "    \n",
    "    The below implementation is simple and efficient. It is the recommended way to use property."
   ]
  },
  {
   "cell_type": "code",
   "execution_count": 147,
   "id": "862e027e",
   "metadata": {},
   "outputs": [
    {
     "name": "stdout",
     "output_type": "stream",
     "text": [
      "Setting temperature value\n",
      "Getting temperature\n",
      "37\n",
      "Getting temperature\n",
      "98.60000000000001\n",
      "Setting temperature value\n"
     ]
    },
    {
     "ename": "ValueError",
     "evalue": "Temp cant go beyong 273.15",
     "output_type": "error",
     "traceback": [
      "\u001b[1;31m---------------------------------------------------------------------------\u001b[0m",
      "\u001b[1;31mValueError\u001b[0m                                Traceback (most recent call last)",
      "Input \u001b[1;32mIn [147]\u001b[0m, in \u001b[0;36m<cell line: 28>\u001b[1;34m()\u001b[0m\n\u001b[0;32m     24\u001b[0m \u001b[38;5;28mprint\u001b[39m(currentday\u001b[38;5;241m.\u001b[39mtemperature)\n\u001b[0;32m     26\u001b[0m \u001b[38;5;28mprint\u001b[39m(currentday\u001b[38;5;241m.\u001b[39mto_fahrenheit())\n\u001b[1;32m---> 28\u001b[0m currentday\u001b[38;5;241m.\u001b[39mtemperature \u001b[38;5;241m=\u001b[39m \u001b[38;5;241m-\u001b[39m\u001b[38;5;241m300\u001b[39m\n",
      "Input \u001b[1;32mIn [147]\u001b[0m, in \u001b[0;36mCelsius.temperature\u001b[1;34m(self, value)\u001b[0m\n\u001b[0;32m     17\u001b[0m \u001b[38;5;28mprint\u001b[39m(\u001b[38;5;124m\"\u001b[39m\u001b[38;5;124mSetting temperature value\u001b[39m\u001b[38;5;124m\"\u001b[39m)\n\u001b[0;32m     18\u001b[0m \u001b[38;5;28;01mif\u001b[39;00m value \u001b[38;5;241m<\u001b[39m \u001b[38;5;241m-\u001b[39m\u001b[38;5;241m273.15\u001b[39m:\n\u001b[1;32m---> 19\u001b[0m     \u001b[38;5;28;01mraise\u001b[39;00m \u001b[38;5;167;01mValueError\u001b[39;00m(\u001b[38;5;124m\"\u001b[39m\u001b[38;5;124mTemp cant go beyong 273.15\u001b[39m\u001b[38;5;124m\"\u001b[39m)\n\u001b[0;32m     20\u001b[0m \u001b[38;5;28mself\u001b[39m\u001b[38;5;241m.\u001b[39m_temperature \u001b[38;5;241m=\u001b[39m value\n",
      "\u001b[1;31mValueError\u001b[0m: Temp cant go beyong 273.15"
     ]
    }
   ],
   "source": [
    "#@property decorator for getters and setters\n",
    "\n",
    "class Celsius:\n",
    "    def __init__(self, temperature=0):\n",
    "        self.temperature = temperature #self.temperature is member attribute. It represents property object\n",
    "        \n",
    "    def to_fahrenheit(self):\n",
    "        return (self.temperature * 1.8) + 32 #calls the temperature getter\n",
    "    \n",
    "    #getter decorated with property object\n",
    "    @property\n",
    "    def temperature(self):\n",
    "        print(\"Getting temperature\")\n",
    "        return self._temperature\n",
    "\n",
    "    @temperature.setter\n",
    "    def temperature(self, value): #value which the user gives will be store here\n",
    "        print(\"Setting temperature value\")\n",
    "        if value < -273.15:\n",
    "            raise ValueError(\"Temp cant go beyong 273.15\")\n",
    "        self._temperature = value #making the temperate private and we set the temperature only here.self.temperature also calls this setter method\n",
    "\n",
    "# create an object\n",
    "currentday = Celsius(37)\n",
    "\n",
    "print(currentday.temperature)\n",
    "\n",
    "print(currentday.to_fahrenheit())\n",
    "\n",
    "currentday.temperature = -300"
   ]
  },
  {
   "cell_type": "markdown",
   "id": "5a1dd89b",
   "metadata": {},
   "source": [
    "### Regular Expressions: (re module)\n",
    "    A Regular Expression (RegEx) is a sequence of characters that defines a search pattern. For example, \n",
    "                                        \n",
    "                                        ^a...s$\n",
    "    \n",
    "    The above code defines a RegEx pattern. The pattern is: any five letter string starting with a and ending with s. A pattern defined using RegEx can be used to match against a string. Python has a module named re to work with RegEx. \n",
    "    \n",
    "    To specify regular expressions, metacharacters are used. In the above example, ^ and $ are metacharacters. Metacharacters are characters that are interpreted in a special way by a RegEx engine. Below are the list of metacharacters:\n",
    "\n",
    "                                [] . ^ $ * + ? {} () \\ |\n",
    "                                \n",
    "     [] - Square brackets:\n",
    "     ---------------------\n",
    "         Square brackets specifies a set of characters you wish to match. Matches any single character in brackets. For example, [abc] will match either a, or, b, or c character\n",
    "                 ............................................\n",
    "                 Expression\t     String\t              Matched?\n",
    "                 ............................................\n",
    "                                 a\t                  1 match\n",
    "                  [abc]          ac\t                  2 matches\n",
    "                                 Hey Jude\t          No match\n",
    "                                 abc de ca\t          5 matches\n",
    "                 ..............................................\n",
    "                                 \n",
    "         Here, [abc] will match, if the string you are trying to match contains any of the a, b or c.\n",
    "\n",
    "         - You can also specify a range of characters using - inside square brackets.\n",
    "\n",
    "                        - [a-e] is the same as [abcde].\n",
    "                        - [1-4] is the same as [1234].\n",
    "                        - [0-39] is the same as [01239].\n",
    "                        \n",
    "        - You can complement (invert) the character set by using caret ^ symbol at the start of a square-bracket.\n",
    "\n",
    "                        - [^abc] means any character except a or b or c.\n",
    "                        - [^0-9] means any non-digit character.\n",
    "       \n",
    "       ----------- \n",
    "       . - Period:\n",
    "       -----------\n",
    "\n",
    "            A period matches any single character (except newline '\\n').\n",
    "                       \n",
    "                       ................................................\n",
    "                        Expression\t            String\t    Matched?\n",
    "                        ...............................................\n",
    "                            \t                   a\t     No match (doesnt have 2 chars as we have 2 dots ..)\n",
    "                                                   ac\t     1 match\n",
    "                          ..                       acd\t     1 match\n",
    "                                                   acde\t     2 matches (contains 4 characters)\n",
    "                       ................................................\n",
    "       \n",
    "       -----------                                              \n",
    "        ^ - Caret\n",
    "       -----------\n",
    "\n",
    "            The caret symbol ^ is used to check if a string starts with a certain character.\n",
    "\n",
    "                        ................................................\n",
    "                        Expression\t            String\t    Matched?\n",
    "                        ...............................................\n",
    "                            ^a\t                   a\t    1 match\n",
    "                                                   abc\t    1 match\n",
    "                                                   bac\t    No match\n",
    "                            ^ab\t                   abc\t    1 match\n",
    "                                                   acb\t    No match (starts with a but not followed by b)\n",
    "                                                   \n",
    "                        ................................................\n",
    "       -----------                 \n",
    "        $ - Dollar\n",
    "       -----------\n",
    "                The dollar symbol $ is used to check if a string ends with a certain character.\n",
    "\n",
    "                        ................................................\n",
    "                        Expression\t            String\t    Matched?\n",
    "                        ...............................................\n",
    "                            a$\t                   a\t    1 match\n",
    "                                                  formula\t1 match\n",
    "                                                   cab\t    No match\n",
    "                        ................................................\n",
    "       -----------                   \n",
    "       * - Star\n",
    "       -----------  \n",
    "\n",
    "             The star symbol * matches \"zero or more\" occurrences of the pattern left to it. The asterisk operator or sign inside a pattern means that the preceding expression or character should repeat 0 or more times with as many repetitions as possible, meaning it is a greedy repetition. (always make sure that the repetition law applies to the char that is preceding the metachar, remaining chars pattern and following rule should be same)\n",
    "\n",
    "            When we say * asterisk is greedy, it means zero or more repetitions of the preceding expression\n",
    "\n",
    "                        ................................................\n",
    "                        Expression\t            String\t    Matched?\n",
    "                        ...............................................\n",
    "                            ma*n\t              mn\t      1 match ['mn']\n",
    "                                                  man\t      1 match ['man']\n",
    "                                                  maaan\t      1 match ['maaan']\n",
    "                                                  main\t      No match (a is not followed by n)\n",
    "                                                  woman\t      1 match ['man']\n",
    "                                                  bmny        1 match ['mn']\n",
    "                                                  bany        No match [] (m is not followed by a)\n",
    "                                                  bmamaaan    1 match ['maaan']\n",
    "                                                  bmayaaan    No match [ma is not followed by n)\n",
    "                                                  bmany       1 match  ['man']\n",
    "                           \\d\\d*         Numbers are 8,23,    5 Matches \n",
    "                                          886, 4567, 78453\n",
    "                        ...............................................   \n",
    "                      \n",
    "         Here in the first expression, ma*n represents the string which contains the pattern \"that is left to the * (either m or ma followed by n. \n",
    "         \n",
    "         For the second expression, the pattern is made of two consecutive \\d . The \\d special sequences represent any digit. The most important thing to keep in mind here is that the asterisk (*) at the end of the pattern means zero or more repetitions of the preceding expression(\\d before *). And in this case, the preceding expression is the last \\d, not all two of them. This means that we are basically searching for numbers with a minimum of 1 digit and possibly any integer. \n",
    "         \n",
    "         We may get the following possible matches\n",
    "            - A single digit, meaning 0 repetitions according to the asterisk Or\n",
    "            - The two-digit number, meaning 1 repetition according to the asterisk Or\n",
    "            - we may have the three-digit number meaning two repetitions of the last \\d, or\n",
    "            - The four-digit number as well.\n",
    "      There is no upper limit of repetitions enforced by the * (asterisk) metacharacter. However, the lower limit is zero.\n",
    "      \n",
    "      -----------   \n",
    "      + - Plus\n",
    "      -----------   \n",
    "\n",
    "         The plus symbol + matches \"one or more occurrences\" of the pattern left to it. The plus operator (+) inside a pattern means that the preceding expression or character should repeat \"one or more\" times with as many repetitions as possible, meaning it is a greedy repetition.\n",
    "\n",
    "        When we say plus is greedy, it means 1 or more repetitions of the preceding expression.\n",
    "\n",
    "                                ................................................\n",
    "                                    Expression\t       String\t       Matched?\n",
    "                                .................................................\n",
    "                                        ma+n\t         mn\t             No match (no a character)\n",
    "                                                         man\t         1 match ['man']\n",
    "                                                        maaan\t         1 match ['maaan']\n",
    "                                                        main\t         No match (a is not followed by n)\n",
    "                                                        woman\t         1 match ['man']\n",
    "                                                        bmny             No match (no a character)\n",
    "                                                        bany             No match (no m character)\n",
    "                                                        bmamaaan         1 match ['maaan']\n",
    "                                                        bmayaaan         No match [ma is not followed by n)\n",
    "                                                        bmany            ['man']\n",
    "                                       /d/d*       Numbers are 8,        4 matches ['23', '886', '4567', '78453']\n",
    "                                                23, 886, 4567, 78453     \n",
    "                                \n",
    "                                .................................................\n",
    "                                \n",
    "           In the second expression, we have 2\\d, which means that we want to match numbers having at least 2 digits while the second \\d may repeat 1 or more times, meaning it should exist atleast once or more than once.\n",
    "   \n",
    "    -----------------\n",
    "    ? - Question Mark\n",
    "    -----------------\n",
    "    \n",
    "        The question mark symbol ? matches \"zero or one occurrence\" of the pattern left to it. The question mark operator or sign (?) inside a regex pattern means the preceding character or expression to repeat either \"zero or one time only\". This means that the number of possible repetitions is strictly limited on both ends.\n",
    "\n",
    "                                ................................................\n",
    "                                    Expression\t       String\t       Matched?\n",
    "                                .................................................\n",
    "                                        ma?n\t         mn\t               1 match ['mn']\n",
    "                                                        man\t               1 match ['man']\n",
    "                                                        maaan\t           No match [] (more than one a character)\n",
    "                                                        main\t           No match [] (a is not followed by n)\n",
    "                                                        woman\t           1 match ['man']\n",
    "                                                        bmny               1 match ['mn']\n",
    "                                                        bany               No match (m ia not followed by a)\n",
    "                                                        bmamaaan           No match []\n",
    "                                                        bmayaaan           No match [] (ma is not followed by n)\n",
    "                                                        bmany              1 match ['man']\n",
    "                                     \\d\\d\\d\\d\\d?   Numbers are 8,23,       2 Matches ['4567', '78453']\n",
    "                                                  886, 4567, 78453\n",
    "   \n",
    "                                .................................................\n",
    "\n",
    "           In the 1st expression, we should have m and n in the string and the preceding char a should come zero or once only in the string. In the second expression, we have five\\d, which means that we want to match numbers having at least four digits while the fifth \\d may repeat 0 or 1 times, meaning it doesn’t exist at all or one time. We have set a limit of four for the total number of digits in the match. And indeed, the result contains only collections of four-digit and five-digit numbers.\n",
    "   \n",
    "    -----------\n",
    "    {} - Braces\n",
    "    ------------\n",
    "\n",
    "        Consider this code: {n, m}. This means at least n, and at most m repetitions of the pattern left to it.\n",
    "                                ................................................\n",
    "                                    Expression\t       String\t       Matched?\n",
    "                                .................................................\n",
    "                                      a{2,3}\t       abc dat\t       No match\n",
    "                                                       abc daat\t       1 match (at daat)\n",
    "                                                       aabc daaat\t   2 matches (at 'aa'bc and d'aaa't) ['aa', 'aaa']\n",
    "                                                       aabc daaaat\t   2 matches (at 'aa'bc and d'aaa'at) ['aa', 'aaa']\n",
    "   \n",
    "                                      [0-9]{2,4}\t   ab123csde\t   1 match (match at ab123csde)\n",
    "                                                       12 and 345673   3 matches (12, 3456, 73)\n",
    "                                                       12 and 34567    2 matches (12, 3456)\n",
    "                                                       1 and 2\t       No match\n",
    "                              .................................................\n",
    "                            \n",
    "             Note: This second RegEx above [0-9]{2, 4} matches at least 2 digits(side by side) but not more than 4 digits. Also, dont give space after comma between n and m in the curly braces.\n",
    "   \n",
    "    ---------------\n",
    "    | - Alternation\n",
    "    ---------------\n",
    "        Vertical bar | is used for alternation (or operator). Below, a|b matches any string that contains either a or b. \n",
    "        Vertical bar is also used to specify multiple patterns. For example, P1|P2, where P1 and P2 are two different regexes.\n",
    "\n",
    "                                ................................................\n",
    "                                    Expression\t       String\t       Matched?\n",
    "                                .................................................\n",
    "                                        a|b\t            cde\t          No match\n",
    "                                                        ade\t          1 match (match at 'a'de) ['a']\n",
    "                                                        acdbea\t      3 matches (at 'a'cd'b'e'a') ['a', 'b', 'a']\n",
    "                                                        abc           2 matches (match at 'a''b'c)  ['a', 'b'] \n",
    "                                 .................................................\n",
    "                                                        \n",
    "                                                            \n",
    "    ---------------\n",
    "    () - Group\n",
    "    ---------------\n",
    "        Parentheses () is used to group sub-patterns. Matches whatever regular expression is inside the parentheses. For example, (abc) will match to substring 'abc'\n",
    "        \n",
    "        \n",
    "        Here, (a|b|c)xz match any string that matches either a or b or c followed by xz.\n",
    "\n",
    "                                 ................................................\n",
    "                                    Expression\t       String\t       Matched?\n",
    "                                .................................................\n",
    "                                        (a|b|c)xz\t    ab xz\t       No match (space btwn b and xz)\n",
    "                                                         abxz\t       1 match (match at a'bxz')\n",
    "                                                        axz cabxz\t   2 matches (at 'axz' ca'bxz')\n",
    "                                 .................................................\n",
    "   \n",
    "    ---------------\n",
    "    \\ - Backslash\n",
    "    ---------------\n",
    "\n",
    "        Backlash \\ is used to escape various characters including all metacharacters. For example, \\$a match if a string contains $ followed by a. Here, $ is not interpreted by a RegEx engine in a special way. If you are unsure if a character has special meaning or not, you can put \\ in front of it. This makes sure the character is not treated in a special way.\n",
    "   \n",
    "       In Python, the backslash metacharacter has two primary purposes inside regex patterns.\n",
    "           - It can signal a special sequence being used, for example, \\d for matching any digits from 0 to 9.\n",
    "           - If your expression needs to search for one of the special characters, you can use a backslash ( \\ ) to escape them. For example, you want to search for the question mark (?) inside the string. You can use a backslash to escaping such special characters because the question mark has a special meaning inside a regular expression pattern.\n",
    "           \n",
    "           Eg: Let’s take the DOT metacharacter as you’ve seen thus far. The DOT has a special meaning when used inside a regular expression. It matches any character except the new line \\n.\n",
    "           However, In the string, the DOT is used to end the sentence. So the question is how to precisely match an actual dot inside a string using regex patterns. But the DOT already has a special meaning when used inside a pattern. Well, the solution is to use the backslash, and it is called Escaping. You can use the backslash to escape the dot inside the regular expression pattern. And this way, you can match the actual dot inside the target string and remove its special meaning.\n",
    "\n",
    "                        import re\n",
    "\n",
    "                        str1 = \"Emma is a Python developer. Emma salary is 5000$. Emma also knows ML and AI.\"\n",
    "                        # escape dot\n",
    "                        res = re.findall(r\"\\.\", str1)\n",
    "                        print(res)\n",
    "                        # Output ['.', '.', '.']\n",
    "    \n",
    "    ------------------\n",
    "    Special sequences:\n",
    "    ------------------\n",
    "        Special sequences make commonly used patterns easier to write. Here's a list of special sequences:\n",
    "                                        \n",
    "            \\d - for digits - Matches any decimal digit. Equivalent to [0-9]\n",
    "            \\D - Matches any non-decimal digit. Equivalent to [^0-9]\n",
    "            \\w - for any alphanumeric character - Matches any alphanumeric character (digits and alphabets). Equivalent to [a-zA-Z0-9_]. By the way, underscore _ is also considered an alphanumeric character.\n",
    "            \\W - Matches any non-alphanumeric character. Equivalent to [^a-zA-Z0-9_]\n",
    "            \\s - for space - Matches where a string contains any whitespace character. Equivalent to [ \\t\\n\\r\\f\\v]\n",
    "            \\S - Matches where a string contains any non-whitespace character. Equivalent to [^ \\t\\n\\r\\f\\v]\n",
    "            \\A - Matches if the specified characters after '\\A' are at the start of a string\n",
    "            \\b - Matches if the specified characters after '\\b' are at the beginning or the chars specified before '\\b' are at the end of a word\n",
    "            \\B - Opposite of \\b. Matches if the specified characters are not at the beginning or end of a word.\n",
    "            \\Z - Matches if the specified characters before '\\Z' are at the end of a string.\n",
    "   \n",
    "    Tip: To build and test regular expressions, you can use RegEx tester tools such as regex101. This tool not only helps you in creating regular expressions, but it also helps you learn it.\n",
    "   \n",
    "#### Python Regex\n",
    "    Python has a module named re to work with regular expressions. \n",
    "    \n",
    "    \n",
    "    re.findall()\n",
    "    ------------\n",
    "    The re.findall() method returns a list of strings containing all matches. If the pattern is not found, re.findall() returns an empty list.\n",
    "    \n",
    "    re.split()\n",
    "    ---------\n",
    "    The re.split method splits the string where there is a match and returns a list of strings where the splits have occurred. We can pass maxsplit argument to the re.split() method. It's the maximum number of splits that will occur. The default value of maxsplit is 0; meaning all possible splits.\n",
    "\n",
    "    re.sub()\n",
    "    ---------\n",
    "                                The syntax of re.sub() is: re.sub(pattern, replace, string)\n",
    "        \n",
    "        The method returns a string where matched occurrences are replaced with the content of replace variable. If the pattern is not found, re.sub() returns the original string. We can pass count as a fourth parameter to the re.sub() method. If omited, it results to 0. This will replace all occurrences.\n",
    "\n",
    "    re.subn()\n",
    "    ---------\n",
    "        The re.subn() is similar to re.sub() except it returns a tuple of 2 items containing the new string and the number of substitutions made.\n",
    "        \n",
    "    re.search()\n",
    "    -----------\n",
    "        The re.search() method takes two arguments: a pattern and a string. The method looks for the first location where the RegEx pattern produces a match with the string. If the search is successful, re.search() returns a match object; if not, it returns None.\n",
    "        \n",
    "    re.match()\n",
    "    ----------\n",
    "         The re.match() function is used to search pattern within the string. The method returns a match object if the search is successful. If not, it returns None\n",
    "        \n",
    "    Match object:\n",
    "    -------------\n",
    "        You can get methods and attributes of a match object using dir() function. Some of the commonly used methods and attributes of match objects are:\n",
    "        Methods:\n",
    "        --------\n",
    "        match.group(): The group() method returns the part of the string where there is a match.\n",
    "        match.start(): The start() function returns the index of the start of the matched substring.\n",
    "        match.end(): Similarly, end() returns the end index of the matched substring.\n",
    "        match.span(): The span() function returns a tuple containing start and end index of the matched part.\n",
    "        Attributes:\n",
    "        -----------\n",
    "        match.re: The re attribute of a matched object returns a regular expression object.\n",
    "        match.string: Similarly, string attribute returns the passed string.\n",
    " \n",
    "    Using r prefix before RegEx:\n",
    "    ---------------------------\n",
    "        When r or R prefix is used before a regular expression, it means raw string. For example, '\\n' is a new line whereas r'\\n' means two characters: a backslash \\ followed by n.\n",
    "\n",
    "    Backlash \\ is used to escape various characters including all metacharacters. However, using r prefix makes \\ treat as a normal character.\n",
    "\n"
   ]
  },
  {
   "cell_type": "code",
   "execution_count": 537,
   "id": "2c7c6797",
   "metadata": {},
   "outputs": [
    {
     "name": "stdout",
     "output_type": "stream",
     "text": [
      "['aa', 'aaa']\n",
      "['a', 'b', 'a', 'b']\n"
     ]
    }
   ],
   "source": [
    "#re.findall with {} and |\n",
    "import re\n",
    "\n",
    "pattern = r\"a{2,3}\"\n",
    "string = \"aabc daaaat\"\n",
    "match = re.findall(pattern, string) \n",
    "print(match)\n",
    "\n",
    "pattern = \"a|b\"\n",
    "string = \"abcdaeb\"\n",
    "result = re.findall(pattern, string) \n",
    "print(result)"
   ]
  },
  {
   "cell_type": "code",
   "execution_count": 1,
   "id": "6aace9f8",
   "metadata": {},
   "outputs": [
    {
     "name": "stdout",
     "output_type": "stream",
     "text": [
      "['12', '89', '34']\n"
     ]
    }
   ],
   "source": [
    "# Program to extract numbers from a string using re.findall()\n",
    "\n",
    "import re\n",
    "\n",
    "string = 'hello 12 hi 89. Howdy 34'\n",
    "pattern = '\\d+'\n",
    "\n",
    "result = re.findall(pattern, string) \n",
    "print(result)\n",
    "\n",
    "# Output: ['12', '89', '34']"
   ]
  },
  {
   "cell_type": "code",
   "execution_count": 2,
   "id": "23756814",
   "metadata": {},
   "outputs": [
    {
     "name": "stdout",
     "output_type": "stream",
     "text": [
      "['Twelve:', ' Eighty nine:', '.']\n"
     ]
    }
   ],
   "source": [
    "#re.split()\n",
    "import re\n",
    "\n",
    "string = 'Twelve:12 Eighty nine:89.'\n",
    "pattern = '\\d+'\n",
    "\n",
    "result = re.split(pattern, string) \n",
    "print(result)\n",
    "\n",
    "# Output: ['Twelve:', ' Eighty nine:', '.']"
   ]
  },
  {
   "cell_type": "code",
   "execution_count": 3,
   "id": "9a2e88ac",
   "metadata": {},
   "outputs": [
    {
     "name": "stdout",
     "output_type": "stream",
     "text": [
      "['Twelve:', ' Eighty nine:89 Nine:9.']\n"
     ]
    }
   ],
   "source": [
    "#re.split() with maxsplit 1\n",
    "import re\n",
    "\n",
    "string = 'Twelve:12 Eighty nine:89 Nine:9.'\n",
    "pattern = '\\d+'\n",
    "\n",
    "# maxsplit = 1\n",
    "# split only at the first occurrence\n",
    "result = re.split(pattern, string, 1) \n",
    "print(result)\n",
    "\n",
    "# Output: ['Twelve:', ' Eighty nine:89 Nine:9.']"
   ]
  },
  {
   "cell_type": "code",
   "execution_count": 4,
   "id": "c739b545",
   "metadata": {},
   "outputs": [
    {
     "name": "stdout",
     "output_type": "stream",
     "text": [
      "abc12de23f456\n"
     ]
    }
   ],
   "source": [
    "# Program to remove all whitespaces using re.sub()\n",
    "import re\n",
    "\n",
    "# multiline string\n",
    "string = 'abc 12\\\n",
    "de 23 \\n f45 6'\n",
    "\n",
    "# matches all whitespace characters\n",
    "pattern = '\\s+'\n",
    "\n",
    "# empty string\n",
    "replace = ''\n",
    "\n",
    "new_string = re.sub(pattern, replace, string) \n",
    "print(new_string)\n",
    "\n",
    "# Output: abc12de23f456"
   ]
  },
  {
   "cell_type": "code",
   "execution_count": 5,
   "id": "a8a87ccf",
   "metadata": {},
   "outputs": [
    {
     "name": "stdout",
     "output_type": "stream",
     "text": [
      "abc12de 23 \n",
      " f45 6\n"
     ]
    }
   ],
   "source": [
    "# Program to remove all whitespaces using re.sub() with count parameter\n",
    "import re\n",
    "\n",
    "# multiline string\n",
    "string = 'abc 12\\\n",
    "de 23 \\n f45 6'\n",
    "\n",
    "# matches all whitespace characters\n",
    "pattern = '\\s+'\n",
    "replace = ''\n",
    "\n",
    "new_string = re.sub(r'\\s+', replace, string, 1) \n",
    "print(new_string)\n",
    "\n",
    "# Output:\n",
    "# abc12de 23\n",
    "# f45 6"
   ]
  },
  {
   "cell_type": "code",
   "execution_count": 6,
   "id": "5a77e325",
   "metadata": {},
   "outputs": [
    {
     "name": "stdout",
     "output_type": "stream",
     "text": [
      "('abc12de23f456', 4)\n"
     ]
    }
   ],
   "source": [
    "# Program to remove all whitespaces with re.subn()\n",
    "import re\n",
    "\n",
    "# multiline string\n",
    "string = 'abc 12\\\n",
    "de 23 \\n f45 6'\n",
    "\n",
    "# matches all whitespace characters\n",
    "pattern = '\\s+'\n",
    "\n",
    "# empty string\n",
    "replace = ''\n",
    "\n",
    "new_string = re.subn(pattern, replace, string) \n",
    "print(new_string)\n",
    "\n",
    "# Output: ('abc12de23f456', 4)"
   ]
  },
  {
   "cell_type": "code",
   "execution_count": 7,
   "id": "c2b21cdc",
   "metadata": {},
   "outputs": [
    {
     "name": "stdout",
     "output_type": "stream",
     "text": [
      "pattern found inside the string\n"
     ]
    }
   ],
   "source": [
    "#re.search()\n",
    "import re\n",
    "\n",
    "string = \"Python is fun\"\n",
    "\n",
    "# check if 'Python' is at the beginning\n",
    "match = re.search('\\APython', string)\n",
    "\n",
    "if match:\n",
    "    print(\"pattern found inside the string\")\n",
    "else:\n",
    "    print(\"pattern not found\")"
   ]
  },
  {
   "cell_type": "code",
   "execution_count": 8,
   "id": "95bc22eb",
   "metadata": {},
   "outputs": [
    {
     "name": "stdout",
     "output_type": "stream",
     "text": [
      "801 35\n",
      "801\n",
      "35\n",
      "('801', '35')\n",
      "('801', '35')\n",
      "2\n",
      "8\n",
      "(2, 8)\n",
      "re.compile('(\\\\d{3}) (\\\\d{2})')\n",
      "39801 356, 2102 1111\n"
     ]
    }
   ],
   "source": [
    "#re.search() with match object methods and attributes\n",
    "#methods -  group(), groups(), start(), end()\n",
    "#attributes - re, string\n",
    "import re\n",
    "\n",
    "string = '39801 356, 2102 1111'\n",
    "\n",
    "# Three digit number followed by space followed by two digit number\n",
    "pattern = '(\\d{3}) (\\d{2})'\n",
    "\n",
    "# match variable contains a Match object.\n",
    "match = re.search(pattern, string) \n",
    "\n",
    "if match:\n",
    "    print(match.group())\n",
    "else:\n",
    "    print(\"pattern not found\")\n",
    "\n",
    "#Here, match variable contains a match object.\n",
    "#Our pattern (\\d{3}) (\\d{2}) has two subgroups (\\d{3}) and (\\d{2}).\n",
    "#You can get the part of the string of these parenthesized subgroups.\n",
    "print(match.group(1))\n",
    "print(match.group(2))\n",
    "print(match.group(1, 2))\n",
    "print(match.groups())\n",
    "print(match.start()) #gives index of starting element in the matched substring i.e index of 8\n",
    "print(match.end())\n",
    "print(match.span())\n",
    "print(match.re)\n",
    "print(match.string)"
   ]
  },
  {
   "cell_type": "code",
   "execution_count": 9,
   "id": "bbdd9f07",
   "metadata": {},
   "outputs": [
    {
     "name": "stdout",
     "output_type": "stream",
     "text": [
      "<re.Match object; span=(0, 5), match='abyss'>\n",
      "Search successful.\n"
     ]
    }
   ],
   "source": [
    "#re.match()\n",
    "import re\n",
    "\n",
    "pattern = \"^a...s$\"\n",
    "test_string = \"abyss\"\n",
    "# test_str2 = \"alias\"\n",
    "result = re.match(pattern, test_string)\n",
    "print(result)\n",
    "if result:\n",
    "    print(\"Search successful.\")\n",
    "else:\n",
    "    print(\"Search unsuccessful.\")"
   ]
  },
  {
   "cell_type": "code",
   "execution_count": 13,
   "id": "34c5464a",
   "metadata": {},
   "outputs": [
    {
     "name": "stdout",
     "output_type": "stream",
     "text": [
      "['\\n', '\\r']\n",
      "['1', '2']\n"
     ]
    }
   ],
   "source": [
    "#Raw string using r prefix\n",
    "\n",
    "import re\n",
    "\n",
    "string = '\\n and \\r are escape sequences 12.'\n",
    "\n",
    "result = re.findall(r'[\\n\\r]', string) \n",
    "result2 = re.findall(r'[\\d]', string) \n",
    "print(result)\n",
    "print(result2)\n",
    "\n",
    "# Output: ['\\n', '\\r']\n",
    "#result2 : ['1', '2']"
   ]
  },
  {
   "cell_type": "code",
   "execution_count": 14,
   "id": "8bf61896",
   "metadata": {},
   "outputs": [
    {
     "name": "stdout",
     "output_type": "stream",
     "text": [
      "False\n",
      "False\n",
      "True\n",
      "False\n",
      "True\n",
      "False\n",
      "False\n"
     ]
    }
   ],
   "source": [
    "#re to check the give string does only contain integer and decimals. All scientific and signed and numbers will be raised value error\n",
    "import re\n",
    " \n",
    "def isfloat(floatstring):\n",
    "    if not isinstance(floatstring, str):\n",
    "        raise ValueError(\"Expects a string input\")\n",
    "    m = re.match(r\"\\d+(\\.\\d+)?$\", floatstring)\n",
    "    return m is not None\n",
    " \n",
    "print(isfloat(\"foo\"))       # False\n",
    "print(isfloat(\".3456\"))     # False\n",
    "print(isfloat(\"1.23\"))      # True\n",
    "print(isfloat(\"1..23\"))     # False\n",
    "print(isfloat(\"2\"))         # True\n",
    "print(isfloat(\"2.\"))        # False\n",
    "print(isfloat(\"2,345.67\"))  # False"
   ]
  },
  {
   "cell_type": "markdown",
   "id": "23b523b7",
   "metadata": {},
   "source": [
    "    Difference between ? and *\n",
    "    --------------------------\n",
    "    \n",
    "    '*' is a quantifier(defines how often an element can occur). Is short for {0,}.\n",
    "\n",
    "    It means “match zero or more”—the group that precedes the star can occur any number of times in the text. It can be completely absent or repeated over and over again.\n",
    "\n",
    "    '?' is also a quantifier. Is short for {0,1}.\n",
    "\n",
    "    It means \"Match zero or one of the group preceding this question mark.\" It can also be interpreted as the part preceding the question mark is optional.\n",
    "    \n",
    "    '.*': Accepts as many sequence as available. Greedy approach.\n",
    "\n",
    "    '.*?' Accepts the first matched sequence and stops. Non-Greedy approach"
   ]
  },
  {
   "cell_type": "code",
   "execution_count": 514,
   "id": "29ae7917",
   "metadata": {},
   "outputs": [
    {
     "name": "stdout",
     "output_type": "stream",
     "text": [
      "11-9999988888\n",
      "9999988888\n"
     ]
    }
   ],
   "source": [
    "#re.compile with ?\n",
    "pattern = re.compile(r'(\\d{2}-)?\\d{10}')\n",
    "mobile1 = pattern.search('My number is 91-9999988888')\n",
    "print(mobile1.group())\n",
    "# Output: '91-9999988888'\n",
    "\n",
    "mobile2 = pattern.search('My number is 9999988888')\n",
    "print(mobile2.group())\n",
    "# Output: '9999988888'"
   ]
  },
  {
   "cell_type": "code",
   "execution_count": 512,
   "id": "4ac3394e",
   "metadata": {},
   "outputs": [
    {
     "name": "stdout",
     "output_type": "stream",
     "text": [
      "99-9999988888\n",
      "91-9999988888\n",
      "9999988888\n"
     ]
    }
   ],
   "source": [
    "#re.compile with *\n",
    "pattern = re.compile(r'(\\d{2}-)*\\d{10}')\n",
    "mobile1 = pattern.search('My number is 91919199-9999988888')\n",
    "print(mobile1.group())\n",
    "\n",
    "mobile2 = pattern.search('My number is 91-9999988888')\n",
    "print(mobile2.group())\n",
    "\n",
    "mobile3 = pattern.search('My number is 9999988888')\n",
    "print(mobile3.group())"
   ]
  },
  {
   "cell_type": "markdown",
   "id": "7d106367",
   "metadata": {},
   "source": [
    "### Python File I/O Python File Operations:\n",
    "    A file is a container in computer storage devices used for storing data.\n",
    "\n",
    "    When we want to read from or write to a file, we need to open it first. When we are done, it needs to be closed so that the resources that are tied with the file are freed.\n",
    "\n",
    "    Hence, in Python, a file operation takes place in the following order:\n",
    "\n",
    "                        1. Open a file\n",
    "                        2. Read or write (perform operation)\n",
    "                        3. Close the file\n",
    "                        \n",
    "    Opening Files in Python:\n",
    "    --------------------------\n",
    "         In Python, we use the open() method to open files. To demonstrate how we open files in Python, let's suppose we have a file named test.txt with the following content.\n",
    "         \n",
    "         test.txt\n",
    "         ..........\n",
    "         Hello this is file\n",
    "         Hi from file\n",
    "         \n",
    "     Now, let's try to open data from this file using the open() function.\n",
    "                         .............................\n",
    "                         file1 = open('test.txt', 'r')\n",
    "                         .............................\n",
    "     \n",
    "     Here, we have created a file object named file1. This object can be used to work with files and directories. By default, the files are open in read mode (cannot be modified). Meaning, open('test.txt', 'r') ~= open('test.txt'). It's good practice to  explicitly specify the mode i.e by passing the \"r\" argument which means file is opened for reading.\n",
    "     \n",
    "     \n",
    "     Different modes to work with a file:\n",
    "     --------------------------------------\n",
    "             \n",
    "            r\tOpen a file for reading. (default)\n",
    "            w\tOpen a file for writing. Creates a new file if it does not exist or truncates the file if it exists.\n",
    "            x\tOpen a file for exclusive creation. If the file already exists, the operation fails.\n",
    "            a\tOpen a file for appending at the end of the file without truncating it. Creates a new file if it does not exist.\n",
    "            t\tOpen in text mode. (default)\n",
    "            b\tOpen in binary mode.\n",
    "            +\tOpen a file for updating (reading and writing)\n",
    "            \n",
    "       Here's few simple examples of how to open a file in different modes,\n",
    "\n",
    "            file1 = open(\"test.txt\")      # equivalent to 'r' or 'rt'\n",
    "            file1 = open(\"test.txt\",'w')  # write in text mode\n",
    "            file1 = open(\"img.bmp\",'r+b') # read and write(update) in binary mode\n",
    "            \n",
    "      Reading Files in Python:\n",
    "      ------------------------\n",
    "            After we open a file, we use the read() method to read its contents. \n",
    "            \n",
    "            For eg:\n",
    "                ...................................\n",
    "                    # open a file\n",
    "                    file1 = open(\"test.txt\", \"r\")\n",
    "\n",
    "                    # read the file\n",
    "                    read_content = file1.read()\n",
    "                    print(read_content)\n",
    "                 ...................................   \n",
    "                  O/p: This is a test file.\n",
    "                       Hello from the test file.\n",
    "        \n",
    "        In the above example, we have read the test.txt file that is available in our current directory. Here, file1.read() reads the test.txt file and is stored in the read_content variable.\n",
    "        \n",
    "        Closing Files in Python:\n",
    "        ------------------------\n",
    "            When we are done with performing operations on the file, we need to properly close the file. Closing a file will free up the resources that were tied with the file. It is done using the close() method in Python.\n",
    "            \n",
    "            For eg: \n",
    "                    ...................................\n",
    "                        # open a file\n",
    "                        file1 = open(\"test.txt\", \"r\")\n",
    "\n",
    "                        # read the file\n",
    "                        read_content = file1.read()\n",
    "                        print(read_content)\n",
    "\n",
    "                        # close the file\n",
    "                        file1.close()\n",
    "                     ...................................   \n",
    "                     O/p: \n",
    "                        This is a test file.\n",
    "                        Hello from the test file.\n",
    "                        \n",
    "                Here, we have used the close() method to close the file.\n",
    "\n",
    "                After we perform file operation, we should always close the file; it's a good programming practice.\n",
    "       \n",
    "       Use of with...open Syntax:\n",
    "       ---------------------------\n",
    "            In Python, we can use the with...open syntax to automatically close the file.\n",
    "            \n",
    "            For eg,\n",
    "                    ..........................................   \n",
    "                        with open(\"test.txt\", \"r\") as file1:\n",
    "                            read_content = file1.read()\n",
    "                            print(read_content)\n",
    "                    ..........................................\n",
    "            \n",
    "            Note: Since we don't have to worry about closing the file, make a habit of using the with...open syntax.\n",
    "            \n",
    "            \n",
    "       Exception Handling in Files:\n",
    "       -----------------------------\n",
    "            If an exception occurs when we are performing some operation with the file, the code exits without closing the file. A safer way is to use a try...finally block.\n",
    "\n",
    "            Let's see an example,\n",
    "            .................................................\n",
    "                    try:\n",
    "                        with open(\"test.txt\", \"r\") as file1:\n",
    "                             read_content = file1.read()\n",
    "                             print(read_content)\n",
    "                             print(file1.name)\n",
    "\n",
    "                    finally:\n",
    "                        # close the file\n",
    "                        file1.close()\n",
    "             .................................................\n",
    "             \n",
    "          Here, we have closed the file in the finally block as finally always executes, and the file will be closed even if an exception occurs.\n",
    "        \n",
    "        Writing to Files in Python\n",
    "        ---------------------------\n",
    "         There are two things we need to remember while writing to a file.\n",
    "\n",
    "            - If we try to open a file that doesn't exist, a new file is created.\n",
    "            - If a file already exists, its content is erased, and new content is added to the file.\n",
    "         \n",
    "         In order to write into a file in Python, we need to open it in write mode by passing \"w\" inside open() as a second argument and then use write() to write the contents into the file.\n",
    "            .....................................................\n",
    "                 with open(test2.txt', 'w') as file2:\n",
    "                    # write contents to the test2.txt file\n",
    "                    file2.write('Programming is Fun.')\n",
    "                    file2.write('Files for beginners')\n",
    "             ......................................................\n",
    "             \n",
    "        Here, a test2.txt file is created if it doesnt exist and this file will have contents specified inside the write() method.\n",
    "        O/p: test2.txt\n",
    "                Programming is Fun.\n",
    "                Files for beginners\n",
    "                \n",
    "     Python File Methods:\n",
    "     --------------------\n",
    "        \n",
    "        There are various methods available with the file object. Some of them have been used in the above examples.\n",
    "\n",
    "        Here is the complete list of methods in text mode with a brief description:\n",
    "\n",
    "            Method\t                      Description\n",
    "            ..............................................................................................................\n",
    "            close():  \tCloses an opened file. It has no effect if the file is already closed.\n",
    "            detach():\tSeparates the underlying binary buffer from the TextIOBase and returns it.\n",
    "            fileno():\tReturns an integer number (file descriptor) of the file.                \n",
    "            flush():\tFlushes the write buffer of the file stream.\n",
    "            isatty():\tReturns True if the file stream is interactive. (eg: connected to a terminal device)\n",
    "            readable():\tReturns True if the file stream can be read from.\n",
    "            tell():\t    Returns an integer that represents the current position of the file's object in a file stream(cursor/index of file while reading the file contents stream) i.e it returns the current position of the file read/write pointer within the file (Tip: You can change the current file position with the seek() method)\n",
    "                        \n",
    "            seekable():\tReturns True if the file stream supports random access. A file is seekable if it allows access to the file stream. If the file is accessible, the function returns “True”. To put it another way, the \"seekable()\" method simply returns “True” if random accessibility to the file is permitted; else, it returns False. Simply \"seekable(),\" to check whether a file opened in a specified mode(read or write or any other mode) is accessible or not\n",
    "            \n",
    "            writable():\t        Returns True if the file stream can be written to.\n",
    "            write(s):\t        Writes the string s to the file and returns the number of characters written.\n",
    "            writelines(lines):\tWrites a list of lines to the file. Where the texts will be inserted depends on the file mode and stream position. \"a\" -  The texts will be inserted at the current file stream position, default at the end of the file. \"w\"- The file will be emptied before the texts will be inserted at the current file stream position, default 0.\n",
    "            \n",
    "            read(n):\t        Reads at most n characters from the file. Reads till end of file if it is negative or None.\n",
    "            readline(n=-1):\t    Reads and returns one line from the file. Reads in at most n bytes if specified.\n",
    "            readlines(n=-1):\tReads and returns a list of lines from the file. Reads in at most n bytes/characters if specified. if n is greater then line size, then entire line and the next line bytes until the specified n is reached is read.\n",
    "    \n",
    "    Difference : read(n) - Reads and returns a string of n characters, or the entire file as a single string if n is not provided. readline() method will return a line from the file when called. readlines() method will return all the lines in a file in the format of a list where each element is a line in the file. Note that the line terminator is always b'\\n', and  for binary files, for text files, the newline argument to open() can be used to select and recognize the line terminator(s) . readline() reads an entire line. readline(7) reads at most 7 bytes of a line. readlines() reads all the lines as a list. readlines(7) returns at least 1 complete line and more lines as well( until it exceeds 7 bytes)\n",
    "             \n",
    "            seek(offset, from=SEEK_SET):\tChanges the file position to offset bytes, in reference to from (start, current, end).  Eg: f.seek(0)        # Go back to the beginning of the file\n",
    "            \n",
    "            truncate(size=None):\tResizes the file stream to size bytes. If size is not specified, resizes to current location.\n",
    "            \n",
    "       file attributes: fileobj.name and so on"
   ]
  },
  {
   "cell_type": "markdown",
   "id": "a173e831",
   "metadata": {},
   "source": [
    "     Info:\n",
    "     ------\n",
    "          File descriptors:\n",
    "          ------------------\n",
    "          \"File descriptors\" are identifiers that represents the open files in the os kernel and are kept in a table of files. Typically, they have non-negative values(numbers). Negative results denote an error or a \"no value\" condition. In other words, a file descriptor is an unsigned integer used by a process to identify an open file.\n",
    "          \n",
    "          \"write() vs flush()\":\n",
    "          -------------------\n",
    "          \n",
    "          write() sends the data from your program into the IO subsystem where it may be buffered. flush() tells the IO subsystem that you would like to commit(write the data to file) any data that has been buffered. Note, if you've not previously called write, flush will do nothing. The flush() method in Python file handling clears the internal buffer of the file.\n",
    "\n",
    "          Think about it in the context of a pipe stream that is connected to something that is reading from that stream at the other end. write(b) contributes b to that stream's buffer on your end. It may or may not actually put all those bytes into the stream buffer for it to 'sent' down the stream to the reader at the other end. flush() on the other hand takes everything that is in the stream's buffer, and 'sends' it to the reader.\n",
    "\n",
    "        Basically, you use write(b) to load your data onto the stream, and then you all flush() at the end to make sure that everything has actually gone into the underlying stream and 'been sent', rather than sitting in the stream's buffer. So, for example, if I connect my computer to another device using the PySerial package (which creates a serial connection that effectively works as a stream), then to put some data into that stream, I will use write(b). To make certain that all that data has gone through the serial connection and through to the other device however, I will call flush(). This is because write(b) doesn't guarantee that all (or any in fact) of that data will actually be sent to the other device immediately. \n",
    "        \n",
    "        When to use flush? In Python, files are automatically flushed while closing them. However, once can flush a file before closing it by using the flush() method. \n",
    "    Eg: 1\n",
    "        In the below program, the textfile.txt is opened in reading mode then the flush() method only clears the internal buffer of the file, it does not affect the content of the file. So, the contents of the file can be read and displayed."
   ]
  },
  {
   "cell_type": "code",
   "execution_count": 34,
   "id": "46fcb218",
   "metadata": {},
   "outputs": [
    {
     "name": "stdout",
     "output_type": "stream",
     "text": [
      "Python is awesome\n"
     ]
    }
   ],
   "source": [
    "#textfile.txt Contents:\n",
    "#Python is awesome\n",
    "\n",
    "# opening the file in read mode\n",
    "fileObject = open(\"textfile.txt\", \"r\")\n",
    "\n",
    "# clearing the input buffer\n",
    "fileObject.flush()\n",
    "\n",
    "# reading the content of the file - contents now stays in internal buffer\n",
    "fileContent = fileObject.read()\n",
    "\n",
    "# displaying the content of the file\n",
    "print(fileContent)\n",
    "\n",
    "# closing the file - buffer will be cleared automatically\n",
    "fileObject.close()\n",
    "\n",
    "#O/p : Python is awesome"
   ]
  },
  {
   "cell_type": "markdown",
   "id": "6c4128bf",
   "metadata": {},
   "source": [
    "    Eg 2:  In this program initially, we create a txtflush.txt file and write \"Python is awesome\" as content in it and then we close the file. After that, we read and display the contents of the file, and then the flush() method is called which clears the input buffer of the file so the file object reads nothing and file content remains an empty variable. Hence nothing is displayed after the flush() method."
   ]
  },
  {
   "cell_type": "code",
   "execution_count": 38,
   "id": "6650b9b9",
   "metadata": {},
   "outputs": [
    {
     "name": "stdout",
     "output_type": "stream",
     "text": [
      "\n",
      "Before flush():\n",
      " Python is awesome\n",
      "\n",
      "After flush():\n",
      " \n"
     ]
    }
   ],
   "source": [
    "# program to demonstrate the use of flush()\n",
    "\n",
    "# creating a file\n",
    "fileObject = open(\"txtflush.txt\", \"w+\")\n",
    "\n",
    "# writing into the file\n",
    "fileObject.write(\"Python is awesome\")\n",
    "\n",
    "# closing the file\n",
    "fileObject.close()\n",
    "\n",
    "# opening the file to read its content\n",
    "fileObject = open(\"txtflush.txt\", \"r\")\n",
    "\n",
    "# reading the contents before flush()\n",
    "fileContent = fileObject.read()\n",
    "\n",
    "# displaying the contents\n",
    "print(\"\\nBefore flush():\\n\", fileContent)\n",
    "\n",
    "# clearing the input buffer\n",
    "fileObject.flush()\n",
    "\n",
    "# reading the contents after flush()\n",
    "# reads nothing as the internal buffer is cleared\n",
    "fileContent = fileObject.read()\n",
    "\n",
    "# displaying the contents\n",
    "print(\"\\nAfter flush():\\n\", fileContent)\n",
    "\n",
    "# closing the file\n",
    "fileObject.close()"
   ]
  },
  {
   "cell_type": "code",
   "execution_count": 40,
   "id": "a598f7a1",
   "metadata": {},
   "outputs": [
    {
     "name": "stdout",
     "output_type": "stream",
     "text": [
      "Name of the file: textfile.txt\n",
      "Python is awesome\n",
      "4\n",
      "17\n"
     ]
    }
   ],
   "source": [
    "#file tell() and fileno()\n",
    "with open(\"textfile.txt\", \"r+\") as fo:\n",
    "    print(\"Name of the file: %s\" % (fo.name))\n",
    "    content = fo.read()\n",
    "    print(content)\n",
    "    print(fo.fileno())\n",
    "    print(fo.tell())"
   ]
  },
  {
   "cell_type": "code",
   "execution_count": 41,
   "id": "e88075aa",
   "metadata": {},
   "outputs": [
    {
     "name": "stdout",
     "output_type": "stream",
     "text": [
      "Python is awesomeSee you soon!Over and out.\n"
     ]
    }
   ],
   "source": [
    "#writelines\n",
    "with open(\"textfile.txt\", \"a\") as f:\n",
    "    f.writelines([\"See you soon!\", \"Over and out.\"])\n",
    "\n",
    "#open and read the file after the appending:\n",
    "with open(\"textfile.txt\", \"r\") as f:\n",
    "    print(f.read())"
   ]
  },
  {
   "cell_type": "code",
   "execution_count": 539,
   "id": "e8ece97f",
   "metadata": {},
   "outputs": [
    {
     "name": "stdout",
     "output_type": "stream",
     "text": [
      "abcd\n",
      "xyzd\n"
     ]
    }
   ],
   "source": [
    "#seek\n",
    "with open('fileseeek.txt', 'w') as f:\n",
    "    f.write('abcd')\n",
    "\n",
    "with open('fileseeek.txt', 'r+') as f:  # The mode is r+ instead of r.Hence it updates\n",
    "    print(f.read())  # prints \"abcd\"\n",
    "\n",
    "    f.seek(0)        # Go back to the beginning of the file\n",
    "    f.write('xyz')\n",
    "\n",
    "    f.seek(0)\n",
    "    print(f.read())  # prints \"xyzd\", not \"xyzabcd\"!"
   ]
  },
  {
   "cell_type": "code",
   "execution_count": 44,
   "id": "dbf042ff",
   "metadata": {},
   "outputs": [
    {
     "name": "stdout",
     "output_type": "stream",
     "text": [
      "xy\n"
     ]
    }
   ],
   "source": [
    "#truncate\n",
    "with open('fileseeek.txt', 'a') as f:\n",
    "    f.truncate(2)\n",
    "    f.close()\n",
    "\n",
    "#open and read the file after the truncate:\n",
    "f = open(\"fileseeek.txt\", \"r\")\n",
    "print(f.read())"
   ]
  },
  {
   "cell_type": "code",
   "execution_count": null,
   "id": "64874637",
   "metadata": {},
   "outputs": [],
   "source": [
    "#different ways how you can load the data from different files and then prepare the data\n",
    "#dont run as the data is not download from uci repository\n",
    "\n",
    "import csv\n",
    "import numpy as np\n",
    "import pandas as pd\n",
    "\n",
    "# download data from https://archive.ics.uci.edu/ml/datasets/spambase\n",
    "FILE_NAME = \"spambase.data\"\n",
    "\n",
    "# 1) load with csv file\n",
    "with open(FILE_NAME, 'r') as f:\n",
    "    data = list(csv.reader(f, delimiter=\",\"))\n",
    "data = np.array(data, dtype=np.float32)\n",
    "print(data.shape)\n",
    "\n",
    "# 2) load with np.loadtxt()\n",
    "# skiprows=1\n",
    "data = np.loadtxt(FILE_NAME, delimiter=\",\", dtype=np.float32)\n",
    "print(data.shape, data.dtype)\n",
    "\n",
    "# 3) load with np.genfromtxt()\n",
    "# skip_header=0, missing_values=\"---\", filling_values=0.0\n",
    "data = np.genfromtxt(FILE_NAME, delimiter=\",\", dtype=np.float32)\n",
    "print(data.shape)\n",
    "\n",
    "# split into X and y\n",
    "n_samples, n_features = data.shape\n",
    "n_features -= 1\n",
    "X = data[:, 0:n_features]\n",
    "y = data[:, n_features]\n",
    "print(X.shape, y.shape)\n",
    "print(X[0, 0:5])\n",
    "# or if y is the first column\n",
    "# X = data[:, 1:n_features+1]\n",
    "# y = data[:, 0]\n",
    "\n",
    "# 4) load with pandas: read_csv()\n",
    "# na_values = ['---']\n",
    "df = pd.read_csv(FILE_NAME, header=None, skiprows=0, dtype=np.float32)\n",
    "df = df.fillna(0.0)\n",
    "# dataframe to numpy\n",
    "data = df.to_numpy()\n",
    "print(data[4, 0:5])\n",
    "\n",
    "# convert datatypes in numpy\n",
    "#data = np.asarray(data, dtype = np.float32)\n",
    "#print(data.dtype)"
   ]
  },
  {
   "cell_type": "markdown",
   "id": "3cb641fd",
   "metadata": {},
   "source": [
    "### Pathlib module:\n",
    "    Traditionally, Python has represented file paths using regular text strings. With support from the os.path standard library, this has been adequate although a bit cumbersome. However, since paths are not strings, important functionality is spread all around the standard library, including libraries like os, glob, and shutil.\n",
    "    \n",
    "    The following example needs three import statements just to move all text files to an archive directory:\n",
    "                    ................................................................\n",
    "                        import glob\n",
    "                        import os\n",
    "                        import shutil\n",
    "\n",
    "                        for file_name in glob.glob('*.txt'):\n",
    "                            new_path = os.path.join('archive', file_name)\n",
    "                            shutil.move(file_name, new_path)\n",
    "                     ................................................................\n",
    "                     \n",
    "     With paths represented by strings, it is possible, but usually a bad idea, to use regular string methods. For instance, instead of joining two paths with + like regular strings, you should use os.path.join(), which joins paths using the correct path separator on the operating system. Recall that Windows uses \\ while Mac and Linux use / as a separator. This difference can lead to hard-to-spot errors, such as our example above working for only Windows paths.\n",
    "     \n",
    "     The pathlib module was introduced in Python 3.4 to deal with these challenges. It gathers the necessary functionality in one place and makes it available through methods and properties on an easy-to-use Path object. The Python pathlib module provides an easier method to interact with the filesystem no matter what the operating system is. It allows a more intuitive, more pythonic way to interface with file paths (the name of a file including any of its directories and subdirectories). In the os module, paths are regular strings.\n",
    "     Early on, other packages still used strings for file paths, but as of Python 3.6, the pathlib module is supported throughout the standard library, partly due to the addition of a file system path protocol.\n",
    "     \n",
    "#### Creating Paths:\n",
    "         All we really need to know about is the \"pathlib.Path class\". There are a few different ways of creating a path. \n",
    "         \n",
    "         First of all, there are classmethods like .cwd() (Current Working Directory) and .home() (your user’s home directory) to create a path\n"
   ]
  },
  {
   "cell_type": "code",
   "execution_count": 5,
   "id": "ca043416",
   "metadata": {},
   "outputs": [
    {
     "name": "stdout",
     "output_type": "stream",
     "text": [
      "Current working directory \"E:\\Learning\\ML\\Learning Practice\\Code\"\n",
      "Home directory \"C:\\Users\\malla\"\n"
     ]
    }
   ],
   "source": [
    "from pathlib import Path\n",
    "print(\"Current working directory \\\"{}\\\"\".format(Path.cwd()))\n",
    "print(\"Home directory \\\"{}\\\"\".format(Path.home()))"
   ]
  },
  {
   "cell_type": "markdown",
   "id": "c3c2e899",
   "metadata": {},
   "source": [
    "    Secondly, A path can also be explicitly created from its string representation\n",
    "    \n",
    "    Tip: While dealing with Windows paths: on Windows, the path separator is a backslash, \\. However, in many contexts, backslash is also used as an escape character in order to represent non-printable characters. To avoid problems, use raw string literals to represent Windows paths. These are string literals that have an r prepended to them. In raw string literals, the \\ represents a literal backslash: r'C:\\Users' i.e it is treated as backslash string literally rather than an escape character."
   ]
  },
  {
   "cell_type": "code",
   "execution_count": 6,
   "id": "438eaa81",
   "metadata": {},
   "outputs": [
    {
     "data": {
      "text/plain": [
       "WindowsPath('E:/Learning/ML/Learning Practice/Code')"
      ]
     },
     "execution_count": 6,
     "metadata": {},
     "output_type": "execute_result"
    }
   ],
   "source": [
    "#creating path using string\n",
    "\n",
    "from pathlib import Path\n",
    "Path(r\"E:\\Learning\\ML\\Learning Practice\\Code\")"
   ]
  },
  {
   "cell_type": "markdown",
   "id": "894d58ee",
   "metadata": {},
   "source": [
    "    A third way to construct a path is, to join the parts of the path using the special operator /. The forward slash operator is used independently of the actual path separator on the platform"
   ]
  },
  {
   "cell_type": "code",
   "execution_count": 12,
   "id": "697f9d89",
   "metadata": {},
   "outputs": [
    {
     "data": {
      "text/plain": [
       "WindowsPath('E:/Learning/ML/Learning Practice/Code/test/mix/path/test.py')"
      ]
     },
     "execution_count": 12,
     "metadata": {},
     "output_type": "execute_result"
    }
   ],
   "source": [
    "#creating path using separator \"/\"\n",
    "\n",
    "from pathlib import Path\n",
    "Path.cwd() / 'test' / 'mix/path' / 'test.py'"
   ]
  },
  {
   "cell_type": "markdown",
   "id": "91f9912e",
   "metadata": {},
   "source": [
    "    The / can join several paths or a mix of paths and strings (as above) as long as there is at least one Path object. If you do not like the special / notation, you can do the same thing with the .joinpath() method\n",
    "    \n",
    "    Note: In the examples, the pathlib.Path is represented by either a WindowsPath or a PosixPath. The actual object representing the path depends on the underlying operating system. (That is, the WindowsPath example was run on Windows, while the PosixPath examples have been run on Mac or Linux.) "
   ]
  },
  {
   "cell_type": "code",
   "execution_count": 15,
   "id": "915feae4",
   "metadata": {},
   "outputs": [
    {
     "data": {
      "text/plain": [
       "WindowsPath('C:/Users/malla/test/mix/path/test.py')"
      ]
     },
     "execution_count": 15,
     "metadata": {},
     "output_type": "execute_result"
    }
   ],
   "source": [
    "#creating path using joinpath()\n",
    "\n",
    "from pathlib import Path\n",
    "Path.home().joinpath('test', 'mix/path', 'test.py')"
   ]
  },
  {
   "cell_type": "code",
   "execution_count": 36,
   "id": "17b054e1",
   "metadata": {},
   "outputs": [
    {
     "data": {
      "text/plain": [
       "WindowsPath('E:/Learning/ML/Learning Practice/Code/testpath1/testpath2/testfile.txt')"
      ]
     },
     "execution_count": 36,
     "metadata": {},
     "output_type": "execute_result"
    }
   ],
   "source": [
    "#creating path from multiple parts\n",
    "\n",
    "from pathlib import Path\n",
    "path = Path.cwd()\n",
    "dirs = ['testpath1', 'testpath2', 'testfile.txt']\n",
    "path.joinpath(*dirs)"
   ]
  },
  {
   "cell_type": "code",
   "execution_count": 39,
   "id": "00aeed50",
   "metadata": {},
   "outputs": [
    {
     "name": "stdout",
     "output_type": "stream",
     "text": [
      "[WindowsPath('E:/Learning/ML/Learning Practice/Code/fileseeek.txt'), WindowsPath('E:/Learning/ML/Learning Practice/Code/textfile.txt'), WindowsPath('E:/Learning/ML/Learning Practice/Code/txtflush.txt')]\n"
     ]
    }
   ],
   "source": [
    "#creating a list of all txt files in the current path\n",
    "\n",
    "from pathlib import Path\n",
    "import glob\n",
    "path = Path.cwd()\n",
    "print(list(path.glob('*.txt')))"
   ]
  },
  {
   "cell_type": "code",
   "execution_count": 40,
   "id": "34271b7d",
   "metadata": {},
   "outputs": [
    {
     "name": "stdout",
     "output_type": "stream",
     "text": [
      "[WindowsPath('E:/Learning/ML/Learning Practice/Code/fileseeek.txt'), WindowsPath('E:/Learning/ML/Learning Practice/Code/textfile.txt'), WindowsPath('E:/Learning/ML/Learning Practice/Code/txtflush.txt'), WindowsPath('E:/Learning/ML/Learning Practice/Code/assets/assets.css.txt')]\n"
     ]
    }
   ],
   "source": [
    "#creating a list of all txt files recusring through all subdirectories\n",
    "\n",
    "from pathlib import Path\n",
    "import glob\n",
    "path = Path.cwd()\n",
    "print(list(path.rglob('*.txt')))"
   ]
  },
  {
   "cell_type": "markdown",
   "id": "640f78e8",
   "metadata": {},
   "source": [
    "#### Reading and Writing Files with Path object:\n",
    "        Traditionally, the way to read or write a file is to use the built-in open() function. The open() function can use Path objects directly.\n",
    "        \n",
    "        The following example finds all headers in a Markdown file and prints them:\n",
    "                .......................................................\n",
    "                        path = pathlib.Path.cwd() / 'test.md'\n",
    "                        with open(path, mode='r') as fid:\n",
    "                            headers = [line.strip() for line in fid if line.startswith('#')]\n",
    "                        print('\\n'.join(headers))\n",
    "                ........................................................\n",
    "                \n",
    "        An equivalent alternative is to call .open() on the Path object:\n",
    "               \n",
    "               ...........................................\n",
    "                    with path.open(mode='r') as fid:\n",
    "                    ...\n",
    "                ............................................\n",
    "                \n",
    "        In fact, Path.open() is calling the built-in open() behind the scenes. Which option you use is mainly a matter of taste.\n",
    "\n",
    "        For simple reading and writing of files, there are a couple of convenience methods in the pathlib library:\n",
    "\n",
    "                .read_text(): open the path in text mode and return the contents as a string.\n",
    "                .read_bytes(): open the path in binary/bytes mode and return the contents as a bytestring.\n",
    "                .write_text(): open the path and write string data to it.\n",
    "                .write_bytes(): open the path in binary/bytes mode and write data to it.\n",
    "                \n",
    "         Each of these methods handles the opening and closing of the file, making them trivial to use, for instance:"
   ]
  },
  {
   "cell_type": "code",
   "execution_count": 17,
   "id": "ead00f28",
   "metadata": {},
   "outputs": [
    {
     "data": {
      "text/plain": [
       "'Python is awesomeSee you soon!Over and out.'"
      ]
     },
     "execution_count": 17,
     "metadata": {},
     "output_type": "execute_result"
    }
   ],
   "source": [
    "#pathlib's read_text() to read file from the absolute path\n",
    "\n",
    "import pathlib\n",
    "path = pathlib.Path.cwd() / 'textfile.txt'\n",
    "path.read_text()"
   ]
  },
  {
   "cell_type": "markdown",
   "id": "71b78fb2",
   "metadata": {},
   "source": [
    "    Paths can also be specified as simple file names, in which case they are interpreted relative to the current working directory. The following example is equivalent to the previous on"
   ]
  },
  {
   "cell_type": "code",
   "execution_count": 22,
   "id": "96cefca0",
   "metadata": {},
   "outputs": [
    {
     "data": {
      "text/plain": [
       "'Python is awesomeSee you soon!Over and out.'"
      ]
     },
     "execution_count": 22,
     "metadata": {},
     "output_type": "execute_result"
    }
   ],
   "source": [
    "#pathlib's read_text() to read file from the relative path\n",
    "\n",
    "import pathlib\n",
    "path = pathlib.Path(r'textfile.txt')\n",
    "path.read_text()"
   ]
  },
  {
   "cell_type": "markdown",
   "id": "f24b1f02",
   "metadata": {},
   "source": [
    "#### pathlib's resolve():\n",
    "    The .resolve() method will find the full path of the relative path.\n",
    "    \n",
    "    In the below eg, we confirm that the current working directory is used for simple file names. \n",
    "    \n",
    "    Note: When paths are compared, it is their representations that are compared. In the example below, path.parent is not equal to pathlib.Path.cwd(), because path.parent is represented by '.'(relative path ./texfile.txt) while pathlib.Path.cwd() is represented by 'E:\\Learning\\ML\\Learning Practice\\Code'"
   ]
  },
  {
   "cell_type": "code",
   "execution_count": 542,
   "id": "bdad3287",
   "metadata": {},
   "outputs": [
    {
     "name": "stdout",
     "output_type": "stream",
     "text": [
      "E:\\Learning\\ML\\Learning Practice\\Code\\textfile.txt\n",
      ".\n",
      "E:\\Learning\\ML\\Learning Practice\\Code\n",
      "E:\\Learning\\ML\\Learning Practice\\Code\n",
      "True\n",
      "False\n"
     ]
    }
   ],
   "source": [
    "#resolve() to get the absolute full path from relative path, also using parent of resolve to check cwd is the parent of our relative path\n",
    "#\n",
    "import pathlib\n",
    "path = pathlib.Path(r'textfile.txt')\n",
    "print(path.resolve())\n",
    "print(path.parent)\n",
    "print(path.resolve().parent)\n",
    "print(pathlib.Path.cwd())\n",
    "print(path.resolve().parent == pathlib.Path.cwd())\n",
    "print(path.parent == pathlib.Path.cwd())"
   ]
  },
  {
   "cell_type": "markdown",
   "id": "ea584891",
   "metadata": {},
   "source": [
    "#### Picking Out Components of a Path\n",
    "    The different parts of a path are conveniently available as properties. Basic examples include:\n",
    "\n",
    "                .name: the file name without any directory\n",
    "                .parent: the directory containing the file, or the parent directory if path is a directory\n",
    "                .stem: the file name without the suffix\n",
    "                .suffix: the file extension (.suffixes if a file has more than one suffix - eg: file.tar.gz)\n",
    "                .anchor: the part of the path before the directories\n",
    "                .parts: to give a tuple of splitted path\n",
    "                \n",
    "       Note that .parent returns a new Path object, whereas the other properties return strings. This means for instance that .parent can be chained as in the previous example or even combined with / to create completely new paths."
   ]
  },
  {
   "cell_type": "code",
   "execution_count": 67,
   "id": "70f993d9",
   "metadata": {},
   "outputs": [
    {
     "name": "stdout",
     "output_type": "stream",
     "text": [
      "E:\\Learning\\ML\\Learning Practice\\Code\\textfile.txt\n",
      "E:\\Learning\\ML\\Learning Practice\\Code\n",
      "Code\n",
      "E:\\Learning\\ML\\Learning Practice\n",
      "[WindowsPath('E:/Learning/ML/Learning Practice/Code'), WindowsPath('E:/Learning/ML/Learning Practice'), WindowsPath('E:/Learning/ML'), WindowsPath('E:/Learning'), WindowsPath('E:/')]\n",
      "textfile.txt\n",
      "textfile\n",
      ".txt\n",
      "E:\\\n",
      "('E:\\\\', 'Learning', 'ML', 'Learning Practice', 'Code', 'textfile.txt')\n",
      "E:\\Learning\\ML\\Learning Practice\\Code\\textfile.txt\n",
      "file:///E:/Learning/ML/Learning%20Practice/Code/textfile.txt\n",
      "False\n",
      "True\n",
      "['.tar', '.gz']\n",
      "os.stat_result(st_mode=33206, st_ino=53480245575175724, st_dev=1243211282, st_nlink=1, st_uid=0, st_gid=0, st_size=43, st_atime=1680171271, st_mtime=1680104336, st_ctime=1680102065)\n",
      "Wed Mar 29 17:01:05 2023\n",
      "Wed Mar 29 17:38:56 2023\n",
      "43\n",
      "E:\\Learning\\ML\\Learning Practice\\Code\\newpath\\new.txt\n"
     ]
    }
   ],
   "source": [
    "#picking the components of a path\n",
    "\n",
    "import pathlib\n",
    "path = pathlib.Path.cwd().joinpath('textfile.txt')\n",
    "\n",
    "print(path)\n",
    "print(path.parent)\n",
    "print(path.parent.name)\n",
    "print(path.parent.parent)\n",
    "print(list(path.parents))\n",
    "print(path.name)\n",
    "print(path.stem)\n",
    "print(path.suffix)\n",
    "print(path.anchor)\n",
    "print(path.parts)\n",
    "print(path.absolute())\n",
    "print(path.as_uri())\n",
    "print(path.is_dir())\n",
    "print(path.is_file())\n",
    "print(Path('test.tar.gz').suffixes)\n",
    "print(path.stat())\n",
    "\n",
    "#getting the created time and modified time of a file using path and time\n",
    "import time\n",
    "creation_time = time.ctime(path.stat().st_ctime)\n",
    "print(creation_time)\n",
    "modified_time = time.ctime(path.stat().st_mtime)\n",
    "print(modified_time)\n",
    "\n",
    "print(path.stat().st_size) #size of the file\n",
    "\n",
    "#using the path component in creating a new path\n",
    "if path.exists(): #testing if path exists\n",
    "    new_path = path.parent / 'newpath' / ('new'+ path.suffix)\n",
    "    print(new_path) #note that the path is only created but the file wont be created physically until you write something\n",
    "    \n",
    "    #path.rename(\"newfile.txt\") #renaming #dont run as it will rename the existing file in the path\n",
    "    #print(path)\n"
   ]
  },
  {
   "cell_type": "code",
   "execution_count": 59,
   "id": "93a0d63f",
   "metadata": {},
   "outputs": [],
   "source": [
    "#os.scandir() to iterate through all the files in the directories and creating a list of those files\n",
    "\n",
    "import os\n",
    "import pathlib\n",
    "\n",
    "path = pathlib.Path.cwd()\n",
    "\n",
    "filelist = []\n",
    "for file in os.scandir(path):\n",
    "    if file.is_file():\n",
    "        filelist.append(file)\n",
    "\n",
    "# print(filelist)"
   ]
  },
  {
   "cell_type": "markdown",
   "id": "53285ab5",
   "metadata": {},
   "source": [
    "#### Moving and Deleting Files\n",
    "    Through pathlib, you also have access to basic file system level operations like moving, updating, and even deleting files. For the most part, these methods do not give a warning or wait for confirmation before information or files are lost. Be careful when using these methods.\n",
    "\n",
    "    replace():\n",
    "    ----------\n",
    "    To move a file, use .replace(). Note that if the destination already exists, .replace() will overwrite it. Unfortunately, pathlib does not explicitly support safe moving of files. To avoid possibly overwriting the destination path, the simplest is to test whether the destination exists before replacing\n",
    "                           ................................. \n",
    "                            if not destinationpathfile.exists():\n",
    "                               sourcepathfile.replace(destinationpathfile)\n",
    "                          ..................................  \n",
    "    \n",
    "    However, this does leave the door open for a possible race condition. Another process may add a file at the destination path between the execution of the if statement and the .replace() method. If that is a concern, a safer way is to open the destination path for exclusive creation and explicitly copy the source data\n",
    "                        \n",
    "                        .........................................\n",
    "                        with destinationfile.open(mode='xb') as fid:\n",
    "                             fid.write(sourcefile.read_bytes())\n",
    "                        .........................................\n",
    "                        \n",
    "      The code above will raise a FileExistsError if destination already exists. Technically, this copies a file. To perform a move, simply delete source after the copy is done (see below). Make sure no exception was raised though. Directories and files can be deleted using .rmdir() and .unlink() respectively. (Again, be careful!).\n",
    "      \n",
    "      unlink() removes (deletes) the file path.If the path is a directory, OSError is raised.A FileNotFoundError is raised if the file is not found or isn't in the current directory.\n",
    "      \n",
    "                  ...............................................................\n",
    "                      >>> path\n",
    "                          PosixPath('/home/Learning/ML/Learning Practice/textfile.txt')\n",
    "                      \n",
    "                      >>> path.with_suffix('.py')\n",
    "                          PosixPath('/home/Learning/ML/Learning Practice/Code/testfile.py')\n",
    "                      \n",
    "                      >>> path.replace(path.with_suffix('.py'))\n",
    "                  ...............................................................\n",
    "\n",
    "    When you are renaming files, useful methods might be .with_name() and .with_suffix(). They both return the original path but with the name or the suffix replaced, respectively.                  \n",
    "                \n",
    "    "
   ]
  },
  {
   "cell_type": "markdown",
   "id": "7ac361ac",
   "metadata": {},
   "source": [
    "#### path(__file__)\n",
    "    \n",
    "    In Python a .py file is a module. So import a module will have an attribute of __file__ which means different things under difference circumstances. When a module is loaded from a file in Python, __file__ is set to its path. You can then use that with other functions to find the directory that the file is located in.\n",
    "\n",
    "    From docs:  __file__ is the full pathname of the file from which the module was loaded, if it was loaded from a file i.e by import statement. The __file__ attribute is not present for C modules that are statically linked into the interpreter; for extension modules loaded dynamically from a shared library, it is the pathname of the shared library file.\n",
    "    \n",
    "    \n",
    "                            import os\n",
    "\n",
    "                            print(__file__)\n",
    "                            print(os.path.join(os.path.dirname(__file__), '..'))\n",
    "                            print(os.path.dirname(os.path.abspath(__file__))) #To get the dirname of the absolute path\n",
    "                            print(os.path.dirname(os.path.realpath(__file__)))\n",
    "                            print(os.path.abspath(os.path.dirname(__file__)))\n",
    "                            \n",
    "                            \n",
    "         Note: os.path.dirname(filename) + os.path.basename(filename) == filename\n",
    "                 \n",
    "                 which literally means as below when taking directory separtor into account \n",
    "               os.path.join(os.path.dirname(filename), os.path.basename(filename)) == filename\n",
    "         \n",
    "         Both dirname() and basename() only split the passed filename into components without taking into account the current directory. "
   ]
  },
  {
   "cell_type": "code",
   "execution_count": 556,
   "id": "a37bb6c9",
   "metadata": {},
   "outputs": [
    {
     "name": "stdout",
     "output_type": "stream",
     "text": [
      "E:\\Learning\\ML\\Learning Practice\\Code\n",
      "/home/User\n",
      "E:\\home\\User\\Documents\n",
      "Documents\n",
      "E:\\home\\User\\Documents\n",
      "...................................\n",
      "E:\\Learning\\ML\\Learning Practice\\Code\n",
      "/home/User/Documents\n",
      "E:\\home\\User\\Documents\\file.txt\n",
      "file.txt\n",
      "E:\\home\\User\\Documents\\file.txt\n",
      "...................................\n",
      "E:\\Learning\\ML\\Learning Practice\\Code\n",
      "\n",
      "E:\\Learning\\ML\\Learning Practice\\Code\\file.txt\n",
      "file.txt\n",
      "E:\\Learning\\ML\\Learning Practice\\Code\\file.txt\n",
      "...................................\n"
     ]
    }
   ],
   "source": [
    "#os.path methods\n",
    "\n",
    "import os.path\n",
    "  \n",
    "# Path\n",
    "path = '/home/User/Documents'\n",
    "print(os.getcwd())\n",
    "print(os.path.dirname(path))\n",
    "print(os.path.realpath(path)) # #realpath returns \"the canonical path of the specified filename, eliminating any symbolic links encountered in the path\n",
    "print(os.path.basename(path))\n",
    "print(os.path.abspath(path))\n",
    "  \n",
    "# Path with file\n",
    "path = '/home/User/Documents/file.txt'\n",
    "print(\"...................................\")\n",
    "print(os.getcwd())\n",
    "print(os.path.dirname(path))\n",
    "print(os.path.realpath(path))\n",
    "print(os.path.basename(path))\n",
    "print(os.path.abspath(path))\n",
    "  \n",
    "# Path with only file and no directories\n",
    "path = 'file.txt'\n",
    "print(\"...................................\")\n",
    "print(os.getcwd())\n",
    "print(os.path.dirname(path)) # Here the path does not contains any directory so, It will print Nothing \n",
    "print(os.path.realpath(path))\n",
    "print(os.path.basename(path))\n",
    "print(os.path.abspath(path))  \n",
    "\n",
    "print(\"...................................\")\n",
    "#print(os.listdir(os.getcwd())) #to list all the files in the specified directory as a list"
   ]
  },
  {
   "cell_type": "code",
   "execution_count": 557,
   "id": "0a5943d0",
   "metadata": {},
   "outputs": [
    {
     "name": "stdout",
     "output_type": "stream",
     "text": [
      "dict_keys(['__name__', '__doc__', '__package__', '__loader__', '__spec__', '__builtin__', '__builtins__', '_ih', '_oh', '_dh', 'In', 'Out', 'get_ipython', 'exit', 'quit', '_', '__', '___', '_i', '_ii', '_iii', '_i1', 'Path', '_i2', '_i3', '_i4', '_i5', '_i6', '_6', '_i7', '_i8', '_i9', '_9', '_i10', '_10', '_i11', '_11', '_i12', '_12', '_i13', '_i14', '_14', '_i15', '_15', '_i16', '_i17', 'pathlib', 'path', '_17', '_i18', '_i19', '_i20', '_i21', '_21', '_i22', '_22', '_i23', '_23', '_i24', '_i25', '_i26', '_i27', '_i28', '_i29', '_i30', '_i31', '_i32', '_i33', 'new_path', '_i34', '_i35', '_i36', 'dirs', '_36', '_i37', '_i38', 'glob', '_i39', '_i40', '_i41', '_i42', '_i43', '_i44', '_i45', '_i46', '_i47', '_i48', '_i49', '_i50', '_i51', 'time', '_i52', 'creation_time', 'modified_time', '_i53', '_i54', '_i55', '_i56', 'os', 'filelist', '_i57', 'file', '_i58', '_i59', '_i60', '_i61', '_i62', '_i63', '_i64', '_i65', '_i66', '_i67', '_i68', '_i69', '_i70', '_i71', '_i72', '_i73', '_i74', '_i75', '_i76', '_i77', '_i78', 'Counter', '_i79', '_i80', '_i81', '_i82', '_82', '_i83', '_83', '_i84', '_84', '_i85', '_85', '_i86', 'tree', '_i87', '_i88', '_i89', '_i90', '_i91', '_i92', '_i93', '_i94', '_i95', '_i96', '_i97', '_i98', '_i99', '_i100', '_i101', '_i102', '_i103', '_103', '_i104', '_i105', '_i106', 'p', '_i107', '_i108', '_i109', '_i110', '_i111', '_i112', 'datetime', 'timestamp', '_i113', '_i114', '_114', '_i115', '_i116', 'unique_path', '_i117', '_i118', '_i119', '_i120', '_i121', '_121', '_i122', '_122', '_i123', '_123', '_i124', '_124', '_i125', '_125', '_i126', '_126', '_i127', '_127', '_i128', '_128', '_i129', 'ConvertTemp', 'currentday', 'fahren', '_i130', '_i131', '_131', '_i132', 'Celsius', '_i133', '_133', '_i134', '_i135', '_i136', '_i137', '_i138', '_i139', '_i140', '_i141', '_i142', '_i143', '_i144', '_i145', '_i146', '_i147', '_i148', '_i149', '_i150', 'datetoday', '_i151', '_i152', '_i153', '_i154', '_i155', '_i156', '_i157', '_i158', '_i159', '_i160', 'dt', '_i161', 'date', 'd', '_i162', 'todaydt', '_i163', '_i164', 'timestampdt', '_i165', '_i166', '_i167', 'day', '_i168', 'today', '_i169', '_i170', '_i171', '_i172', '_i173', '_i174', '_i175', '_i176', '_i177', 'todaytime', '_i178', '_i179', 'currtime', '_i180', '_i181', 'c', '_i182', '_i183', '_i184', '_i185', 'current', '_i186', '_i187', '_i188', '_i189', '_i190', '_i191', 'a', '_i192', '_i193', '_i194', '_i195', '_i196', '_i197', '_i198', 'b', '_i199', '_i200', '_i201', '_i202', '_i203', '_i204', '_i205', 't1', 't2', 't3', '_i206', 't4', 't5', 't6', '_i207', '_i208', '_i209', 'timedelta', '_i210', '_i211', '_i212', '_i213', '_i214', 'now', '_i215', '_i216', '_i217', '_i218', '_i219', '_i220', '_i221', 'date_string', '_i222', '_i223', '_i224', 't', '_i225', 'dateobj', '_i226', 'pytz', 'localtime', '_i227', '_i228', 'tz_NY', 'datetime_NY', 'ty_London', 'datetime_London', '_i229', 'year', 'month', 'date_time', '_i230', '_i231', '_i232', 'dt_string', 'dt_object1', 'dt_object2', '_i233', '_i234', 'd1', 'd2', 'd3', 'd4', '_i235', '_i236', 'current_time', '_i237', 'ts', '_i238', 'dt_object', '_i239', 't_seconds', '_i240', '_i241', '_i242', '_i243', '_i244', '_i245', '_i246', '_i247', '_i248', '_i249', 'gmtime', '_i250', '_i251', 'time_tuple', '_i252', 'seconds', '_i253', '_i254', '_i255', '_i256', '_i257', '_i258', '_i259', 'time_string', 'result', '_i260', 'count', '_i261', '_i262', '_i263', '_i264', '_i265', '_i266', '_i267', '_i268', 'perf_counter', '_i269', 'n', 'm', 't1_start', 'i', '_i270', '_i271', '_i272', 't1_stop', '_i273', '_i274', '_i275', '_i276', '_i277', 'threading', 'print_hello_three_times', 'print_hi_three_times', '_i278', 'print_3_times_hello', 'print_3_times_hi', '_i279', 'print_4_times_hello', 'print_4_times_hi', '_i280', '_i281', '_281', '_i282', 'namedtuple', 'custom_divmod', '_i283', '_i284', '_i285', '_i286', '_i287', '_i288', 'Point', '_i289', 'coord', '_i290', 'point', '_i291', '_i292', '_i293', '_i294', 'Person', 'ppl', '_i295', '_i296', '_i297', '_i298', '_i299', 'ppl_updated', '_i300', 'deque', 'ticketqueue', '_i301', '_i302', '_i303', '_303', '_i304', '_i305', '_i306', '_i307', '_i308', '_i309', '_i310', '_i311', '_i312', 'dq_tuple', 'dq_list', 'dq_string', 'numbers', '_i313', 'ordinals', '_i314', '_i315', 'favorites', '_i316', '_i317', '_i318', '_i319', '_i320', '_i321', '_321', '_i322', '_i323', '_i324', '_i325', '_i326', '_i327', 'defaultdict', 'counter', '_i328', '_328', '_i329', '_i330', '_i331', '_i332', 'pets', 'group_pets', '_i333', 'pet', 'breed', 'breeds', '_i334', '_i335', 'OrderedDict', 'life_stages', 'stage', 'years', '_i336', 'letters', 'key', '_i337', 'letters_0', 'letters_1', 'letters_2', '_i338', '_i339', 'mydict', '_i340', '_i341', 'word', 'mylist', 'letter', '_i342', '_i343', '_i344', '_i345', '_i346', '_i347', '_347', '_i348', '_i349', '_i350', '_i351', '_i352', 'x', 'y', 'thisdict', '_i353', '_i354', '_i355', 'multiset', '_i356', 'inventory', 'adopted', 'new_pets', '_i357', 'ChainMap', 'cmd_proxy', 'local_proxy', 'global_proxy', 'config', '_i358', 'dict1', 'dict2', 'chainmapping', '_i359', 'dad', 'mom', 'family', '_i360', '_i361', 'son', 'person', '_i362', 'alpha_nums', '_i363', 'csv', 'filepath', '_i364', 'csv_file', '_i365', '_i366', 'csv_reader', 'linecount', 'row', '_i367', '_i368', '_i369', '_i370', '_i371', '_i372', '_i373', '_i374', '_i375', '_i376', '_i377', '_i378', '_i379', '_i380', '_i381', '_i382', '_i383', '_i384', '_i385', '_i386', '_i387', '_i388', '_i389', '_i390', '_i391', '_i392', '_i393', '_i394', '_i395', '_i396', '_i397', 'csv_writer', '_i398', '_i399', '_i400', '_i401', '_i402', '_i403', 'header', 'rows', '_i404', '_i405', '_i406', '_i407', 'f', 'line', '_i408', '_i409', 's1', 's2', '_409', '_i410', '_i411', '_i412', '_i413', '_i414', '_i415', '_i416', '_i417', '_i418', '_i419', 'sys', '_i420', '_420', '_i421', '_421', '_i422', '_i423', 'age', 'can_vote', '_i424', '_424', '_i425', 'my_list', 'equalto_copy', '_i426', '_i427', '_i428', 'directions', '_428', '_i429', 'test_dict', 'res', '_i430', '_i431', '_i432', '_432', '_i433', '_433', '_i434', 'message', 'substring', 'text', '_i435', 'str', 'expanded_tabs_str', '_i436', 'bs', 's', 'decoded', '_i437', '_i438', '_i439', 're', 'titlecase', '_i440', '_i441', 'gimme4_later_please', 'get4', '_i442', 'num', '_i443', '_i444', 'Circle', '_i445', '_445', '_i446', '_446', '_i447', '_447', '_i448', '_i449', '_i450', 'c2', '_450', '_i451', '_451', '_i452', '_452', '_i453', 'functools', 'CountCalls', '_i454', 'say_whee', '_i455', '_i456', 'fibonacci', '_456', '_i457', '_457', '_i458', '_458', '_i459', '_459', '_i460', '_460', '_i461', '_461', '_i462', '_462', '_i463', '_463', '_i464', '_464', '_i465', 'cache', '_i466', '_i467', '_467', '_i468', '_468', '_i469', '_469', '_i470', '_i471', 'wraps', 'partial', 'logging', 'attach_wrapper', 'logged', '_i472', 'add', '_472', '_i473', 'spam', '_i474', '_474', '_i475', '_475', '_i476', '_i477', '_i478', '_478', '_i479', '_i480', '_480', '_i481', '_i482', '_i483', '_483', '_i484', '_i485', '_i486', '_i487', '_i488', '_i489', 'timer', 'countdown', '_i490', '_i491', '_i492', '_i493', '_i494', '_i495', '_i496', '_i497', '_497', '_i498', '_i499', '_499', '_i500', '_i501', '_501', '_i502', '_i503', '_503', '_i504', 'pattern', 'mobile1', 'mobile2', '_504', '_i505', '_505', '_i506', '_i507', '_i508', '_i509', '_i510', '_i511', 'mobile3', '_i512', '_i513', '_i514', '_i515', 'string', '_i516', '_i517', '_i518', 'match', '_i519', '_i520', '_i521', '_i522', '_i523', '_i524', '_i525', '_i526', '_i527', '_i528', '_i529', '_i530', '_i531', '_i532', '_i533', '_i534', '_i535', '_i536', '_i537', '_i538', '_i539', '_i540', '_i541', '_i542', '_i543', '_i544', '_i545', 'dirname', '_i546', 'abspath', '_i547', 'realpath', '_i548', '_i549', '_i550', '_i551', '_i552', '_i553', '_i554', '_i555', '_i556', '_i557'])\n",
      "__main__\n"
     ]
    }
   ],
   "source": [
    "print(globals().keys())"
   ]
  },
  {
   "cell_type": "code",
   "execution_count": 558,
   "id": "b03239f8",
   "metadata": {},
   "outputs": [
    {
     "name": "stdout",
     "output_type": "stream",
     "text": [
      "__main__\n"
     ]
    }
   ],
   "source": [
    "print(__name__)"
   ]
  },
  {
   "cell_type": "code",
   "execution_count": 77,
   "id": "03168e63",
   "metadata": {},
   "outputs": [],
   "source": [
    "#run it from script file..will print the file path\n",
    "#print(__file__)"
   ]
  },
  {
   "cell_type": "markdown",
   "id": "e2ec65b4",
   "metadata": {},
   "source": [
    "#### Examples\n",
    "\n",
    "    Listing and Counting the files in the current directory:\n",
    "    -----------------------------------------\n",
    "    There are a few different ways to list many files. The simplest is the .iterdir() method, which iterates over all files in the given directory. The following example combines .iterdir() with the collections.Counter class to count how many files there are of each filetype in the current directory"
   ]
  },
  {
   "cell_type": "code",
   "execution_count": 84,
   "id": "0389345e",
   "metadata": {},
   "outputs": [
    {
     "data": {
      "text/plain": [
       "Counter({'': 2,\n",
       "         '.ipynb': 19,\n",
       "         '.png': 6,\n",
       "         '.svg': 5,\n",
       "         '.gif': 2,\n",
       "         '.pdf': 1,\n",
       "         '.py': 4,\n",
       "         '.txt': 3,\n",
       "         '.stats': 1,\n",
       "         '.dot': 1,\n",
       "         '.jpg': 1,\n",
       "         '.h5': 1,\n",
       "         '.pstats': 1,\n",
       "         '.csv': 1})"
      ]
     },
     "execution_count": 84,
     "metadata": {},
     "output_type": "execute_result"
    }
   ],
   "source": [
    "#Counting the files using iterdir() and collections.counter()\n",
    "import pathlib\n",
    "from collections import Counter\n",
    "\n",
    "Counter([p.suffix for p in pathlib.Path.cwd().iterdir()])"
   ]
  },
  {
   "cell_type": "markdown",
   "id": "569feb5e",
   "metadata": {},
   "source": [
    "    Listing and counting the file of specified pattern usign glob():\n",
    "    ---------------------------------------------------------------\n",
    "    More flexible file listings can be created with the methods .glob() and .rglob() (recursive glob). For instance, pathlib.Path.cwd().glob('*.txt') returns all files with a .txt suffix in the current directory. The following only counts filetypes starting with p:"
   ]
  },
  {
   "cell_type": "code",
   "execution_count": 103,
   "id": "02c7e2b1",
   "metadata": {},
   "outputs": [
    {
     "data": {
      "text/plain": [
       "Counter({'.png': 6, '.pdf': 1, '.py': 4, '.pstats': 1})"
      ]
     },
     "execution_count": 103,
     "metadata": {},
     "output_type": "execute_result"
    }
   ],
   "source": [
    "#Counting the files of required pattern using path, glob, rglob, collections.counter()\n",
    "import pathlib\n",
    "from collections import Counter\n",
    "import glob\n",
    "\n",
    "Counter([p.suffix for p in pathlib.Path.cwd().glob('*.p*')]) #returns all the files with something.psomething eg .pdf, .py and so on"
   ]
  },
  {
   "cell_type": "markdown",
   "id": "0804062c",
   "metadata": {},
   "source": [
    "    Display a Directory Tree using rglob() and relative_to():\n",
    "    --------------------------------------------------------\n",
    "    The below example defines a function, tree(), that will print a visual tree representing the file hierarchy, rooted at a given directory. Here, we want to list subdirectories as well, so we use the .rglob() method.\n",
    "    \n",
    "    Note that we need to know how far away from the root directory a file is located. To do this, we first use .relative_to() to represent a path relative to the root directory. Then, we count the number of directories (using the .parts property) in the representation. sorted - Return a new list containing all items from the iterable in ascending order. rglob(*) - recursively lists all the files(also within subdirectories)\n",
    "    \n",
    "    When run, this function creates a visual tree like the following."
   ]
  },
  {
   "cell_type": "code",
   "execution_count": 102,
   "id": "be2b3724",
   "metadata": {},
   "outputs": [
    {
     "name": "stdout",
     "output_type": "stream",
     "text": [
      "+ E:\\Learning\\ML\\Learning Practice\\Code\n",
      "  + .ipynb_checkpoints\n",
      "   + 10. Improving Results-checkpoint.ipynb\n",
      "   + 11. Presenting Results and Train and deploy the final model-checkpoint.ipynb\n",
      "   + 12. Arithmetics Basics-checkpoint.ipynb\n",
      "   + 13. Probability basics-checkpoint.ipynb\n",
      "   + 14. Probability basics - 2 - Practical-checkpoint.ipynb\n",
      "   + 15. Standard Deviation_Standard Error_Confidence Interval_Hypothesis Testing-checkpoint.ipynb\n",
      "   + 16. Probability_Basics-3_Naive_Bayes_Bayesian-checkpoint.ipynb\n",
      "   + 17. Python basics for ML-checkpoint.ipynb\n",
      "   + 18. Python Basics - 2 Debugging Profiling and Static Analysers-checkpoint.ipynb\n",
      "   + 19. Python Basics 3_TimeseriesDatasets_webcrawling_webframeworks_multiprocessing-checkpoint.ipynb\n",
      "   + 7. Data Visualization basics - Seaborn, matplotlib, bokeh-checkpoint.ipynb\n",
      "   + Basics of ML workflow-checkpoint.ipynb\n",
      "   + Class Imbalances-checkpoint.ipynb\n",
      "   + Data Leakage-checkpoint.ipynb\n",
      "   + Data preprocessing_encodings_Breast Cancer_categorical-checkpoint.ipynb\n",
      "   + Data Visualization basics - Seaborn-checkpoint.ipynb\n",
      "   + Feature Selection-checkpoint.ipynb\n",
      "   + ML Path_Feature_Engineering_Titanic-checkpoint.ipynb\n",
      "   + Numpy Basics for Machine Learning-checkpoint.ipynb\n",
      "   + Spot check algorithms for regression and classification-checkpoint.ipynb\n",
      "  + 1. Basics of ML workflow.ipynb\n",
      "  + 10. Improving Results.ipynb\n",
      "  + 11. Presenting Results and Train and deploy the final model.ipynb\n",
      "  + 12. Arithmetics Basics.ipynb\n",
      "  + 13. Probability basics.ipynb\n",
      "  + 14. Probability basics - 2 - Practical.ipynb\n",
      "  + 15. Standard Deviation_Standard Error_Confidence Interval_Hypothesis Testing.ipynb\n",
      "  + 16. Probability_Basics-3_Naive_Bayes_Bayesian.ipynb\n",
      "  + 17. Python basics for ML.ipynb\n",
      "  + 18. Python Basics - 2 Debugging Profiling and Static Analysers.ipynb\n",
      "  + 19. Python Basics 3_TimeseriesDatasets_webcrawling_webframeworks_multiprocessing.ipynb\n",
      "  + 2. Data preprocessing_encodings_Breast Cancer_categorical.ipynb\n",
      "  + 3. ML Path_Feature_Engineering_Titanic.ipynb\n",
      "  + 4. Feature Selection.ipynb\n",
      "  + 5. Data Leakage.ipynb\n",
      "  + 6. Class Imbalances.ipynb\n",
      "  + 7. Data Visualization basics - Seaborn, matplotlib, bokeh.ipynb\n",
      "  + 8. Numpy Basics for Machine Learning.ipynb\n",
      "  + 9. Spot check algorithms for regression and classification.ipynb\n",
      "  + assets\n",
      "   + assets.css.txt\n",
      "  + Bivariate_normal_distributon.png\n",
      "  + complement set.svg\n",
      "  + confidence_interval_equation.gif\n",
      "  + Continuous variable Probability distribution and probability calculation.pdf\n",
      "  + Dash_Lenet_Handwriting_recognition.py\n",
      "  + embeddings.png\n",
      "  + fileseeek.txt\n",
      "  + hillclimb.stats\n",
      "  + hillclimbing.dot\n",
      "  + hillclimbing.py\n",
      "  + model.png\n",
      "  + my_model.h5\n",
      "  + myfile.jpg\n",
      "  + output.png\n",
      "  + output.pstats\n",
      "  + population_standard_deviation.svg\n",
      "  + PSO.gif\n",
      "  + pso.py\n",
      "  + sample_standard_deviation.svg\n",
      "  + spotcheck.png\n",
      "  + standard_error.svg\n",
      "  + symmetric dif set.svg\n",
      "  + textfile.txt\n",
      "  + TitanicSurvivalPrediction.csv\n",
      "  + txtflush.txt\n",
      "  + univariate_normal_distribution.png\n",
      "  + vscodepy.py\n"
     ]
    }
   ],
   "source": [
    "#Display a Directory Tree using rglob() and relative_to() and parts\n",
    "import pathlib\n",
    "\n",
    "def tree(directory):\n",
    "    #print(sorted(directory.rglob('*'))) \n",
    "    print(f\"+ {directory}\")\n",
    "    for filepath in sorted(directory.rglob('*')):\n",
    "        depth = len(filepath.relative_to(directory).parts)\n",
    "        spacer = ' ' * depth\n",
    "        print(f\" {spacer}+ {filepath.name}\")\n",
    "        # print(f\"{filepath.name} - {filepath.relative_to(directory)}\")\n",
    "        # print(f\"{filepath.name} - {filepath.relative_to(directory).parts}\")\n",
    "        #print(f\"{filepath.name} - {len(filepath.relative_to(directory).parts)}\")\n",
    "        \n",
    "    \n",
    "tree(pathlib.Path.cwd())"
   ]
  },
  {
   "cell_type": "markdown",
   "id": "81941951",
   "metadata": {},
   "source": [
    "    Find the Last Modified File:\n",
    "    ----------------------------\n",
    "    The .iterdir(), .glob(), and .rglob() methods are great fits for generator expressions and list comprehensions. To find the file in a directory that was last modified, you can use the .stat() method to get information about the underlying files. For instance, .stat().st_mtime gives the time of last modification of a file.\n",
    "    \n",
    "    We can even get the contents of the file that was last modified.\n",
    "    \n",
    "    Note: The timestamp returned from the different \".stat().st_\" properties represents seconds since January 1st, 1970. In addition to datetime.fromtimestamp, time.localtime or time.ctime may be used to convert the timestamp to something more usable."
   ]
  },
  {
   "cell_type": "code",
   "execution_count": 111,
   "id": "5049bf77",
   "metadata": {},
   "outputs": [
    {
     "name": "stdout",
     "output_type": "stream",
     "text": [
      ".ipynb_checkpoi modified on: Tue Mar 21 12:27:26 2023\n",
      "1. Basics of ML modified on: Thu Oct 20 16:08:32 2022\n",
      "10. Improving R modified on: Tue Dec 13 13:14:46 2022\n",
      "11. Presenting  modified on: Thu Dec 15 11:04:39 2022\n",
      "12. Arithmetics modified on: Thu Jan 12 16:01:08 2023\n",
      "13. Probability modified on: Wed Feb  1 14:45:12 2023\n",
      "14. Probability modified on: Thu Feb  9 18:31:31 2023\n",
      "15. Standard De modified on: Sun Jan 29 16:40:18 2023\n",
      "16. Probability modified on: Fri Feb 10 13:31:18 2023\n",
      "17. Python basi modified on: Fri Mar 31 11:32:07 2023\n",
      "18. Python Basi modified on: Fri Mar 17 13:21:18 2023\n",
      "19. Python Basi modified on: Thu Mar 30 13:46:06 2023\n",
      "2. Data preproc modified on: Fri Oct 21 18:32:52 2022\n",
      "3. ML Path_Feat modified on: Mon Nov 14 13:22:06 2022\n",
      "4. Feature Sele modified on: Mon Nov 21 13:30:06 2022\n",
      "5. Data Leakage modified on: Mon Nov 28 18:27:27 2022\n",
      "6. Class Imbala modified on: Tue Nov 29 12:35:09 2022\n",
      "7. Data Visuali modified on: Tue Mar 21 17:27:38 2023\n",
      "8. Numpy Basics modified on: Tue Dec 13 12:11:58 2022\n",
      "9. Spot check a modified on: Mon Dec  5 17:47:49 2022\n",
      "assets modified on: Thu Mar 30 11:14:30 2023\n",
      "Bivariate_norma modified on: Thu Jan 19 12:17:31 2023\n",
      "complement set. modified on: Thu Dec 15 16:08:00 2022\n",
      "confidence_inte modified on: Thu Jan 12 19:56:42 2023\n",
      "Continuous vari modified on: Fri Jan 20 15:07:26 2023\n",
      "Dash_Lenet_Hand modified on: Fri Mar 17 16:39:20 2023\n",
      "embeddings.png modified on: Fri Oct 21 17:37:38 2022\n",
      "fileseeek.txt modified on: Wed Mar 29 17:56:00 2023\n",
      "hillclimb.stats modified on: Fri Mar 10 12:59:31 2023\n",
      "hillclimbing.do modified on: Fri Mar 10 13:48:11 2023\n",
      "hillclimbing.py modified on: Fri Mar 10 16:48:32 2023\n",
      "model.png modified on: Fri Oct 21 17:30:09 2022\n",
      "my_model.h5 modified on: Fri Mar 10 17:15:26 2023\n",
      "myfile.jpg modified on: Mon Mar 20 12:05:01 2023\n",
      "output.png modified on: Fri Mar 10 13:48:37 2023\n",
      "output.pstats modified on: Fri Mar 10 13:22:18 2023\n",
      "population_stan modified on: Thu Jan 12 17:12:43 2023\n",
      "PSO.gif modified on: Thu Mar  9 16:31:14 2023\n",
      "pso.py modified on: Thu Mar  9 16:09:52 2023\n",
      "sample_standard modified on: Thu Jan 12 17:13:07 2023\n",
      "spotcheck.png modified on: Mon Dec  5 17:45:36 2022\n",
      "standard_error. modified on: Thu Jan 12 17:34:07 2023\n",
      "symmetric dif s modified on: Thu Dec 15 16:11:20 2022\n",
      "textfile.txt modified on: Wed Mar 29 17:38:56 2023\n",
      "TitanicSurvival modified on: Fri Nov  4 15:37:02 2022\n",
      "txtflush.txt modified on: Wed Mar 29 17:26:56 2023\n",
      "univariate_norm modified on: Thu Jan 19 12:29:01 2023\n",
      "vscodepy.py modified on: Wed Mar 22 15:16:34 2023\n"
     ]
    }
   ],
   "source": [
    "#stat().st_mtime with time.ctime to get modified time of the file\n",
    "import pathlib\n",
    "import time\n",
    "\n",
    "for p in sorted(pathlib.Path.cwd().glob('*')):\n",
    "    print(f\"{p.name:.15s} modified on: {time.ctime(p.stat().st_mtime)}\")"
   ]
  },
  {
   "cell_type": "code",
   "execution_count": 113,
   "id": "ed3a56f0",
   "metadata": {},
   "outputs": [
    {
     "name": "stdout",
     "output_type": "stream",
     "text": [
      "17. Python basics for ML.ipynb is recently modified on 2023-03-31 11:38:07.737566\n"
     ]
    }
   ],
   "source": [
    "#last modified file time using iterdir and stat().st_mtime and datetime.fromtimestamp()\n",
    "\n",
    "import pathlib\n",
    "from datetime import datetime\n",
    "\n",
    "#getting the recently modified file\n",
    "timestamp, file =  max((f.stat().st_mtime, f) for f in pathlib.Path.cwd().iterdir())\n",
    "\n",
    "print(f\"{file.name} is recently modified on {datetime.fromtimestamp(timestamp)}\")"
   ]
  },
  {
   "cell_type": "code",
   "execution_count": 115,
   "id": "ea40c33e",
   "metadata": {},
   "outputs": [],
   "source": [
    "#Get the contents of the last modified file using iterdir and stat().st_mtime and read_text()(just like above expression)\n",
    "\n",
    "#Here [1] represents the file f as we are getting a tuple from the below expression\n",
    "#max((f.stat().st_mtime, f) for f in pathlib.Path.cwd().iterdir())[1].read_text() #just commenting to  not display the entire contents"
   ]
  },
  {
   "cell_type": "markdown",
   "id": "c03f2e45",
   "metadata": {},
   "source": [
    "    Create a Unique File Name:\n",
    "    ---------------------------\n",
    "    The last example will show how to construct a unique numbered file name based on a template. First, specify a pattern for the file name, with room for a counter. Then, check the existence of the file path created by joining a directory and the file name (with a value for the counter). If it already exists, increase the counter and try again.\n",
    "    \n",
    "    If the directory already contains the files test001.txt and test002.txt, the below code will set path to test003.txt"
   ]
  },
  {
   "cell_type": "code",
   "execution_count": 119,
   "id": "d026828d",
   "metadata": {},
   "outputs": [
    {
     "name": "stdout",
     "output_type": "stream",
     "text": [
      "E:\\Learning\\ML\\Learning Practice\\Code\\test001.txt\n"
     ]
    }
   ],
   "source": [
    "#Create a Unique File Name\n",
    "def unique_path(directory, namepattern):\n",
    "    counter = 0\n",
    "    while True:\n",
    "        counter +=1\n",
    "        path = directory / namepattern.format(counter)\n",
    "        if not path.exists():\n",
    "            return path\n",
    "        \n",
    "        \n",
    "path = unique_path(pathlib.Path.cwd(), 'test{:03d}.txt')\n",
    "print(path)"
   ]
  },
  {
   "cell_type": "code",
   "execution_count": 128,
   "id": "9fdd0ed4",
   "metadata": {},
   "outputs": [
    {
     "data": {
      "text/plain": [
       "PurePosixPath('C:\\\\Users\\\\gahjelle\\\\realpython\\\\file.txt')"
      ]
     },
     "execution_count": 128,
     "metadata": {},
     "output_type": "execute_result"
    }
   ],
   "source": [
    "pathlib.PurePosixPath(r'C:\\Users\\gahjelle\\realpython\\file.txt')"
   ]
  },
  {
   "cell_type": "markdown",
   "id": "359fa41c",
   "metadata": {},
   "source": [
    "    Operating System Differences while working with paths and use of PurePath:\n",
    "    --------------------------------------------------------------------------\n",
    "        Earlier, we noted that when we instantiated pathlib.Path, either a WindowsPath(for windows OS) or a PosixPath(for mac OS or unix OS) object was returned. The kind of object will depend on the operating system you are using. This feature makes it fairly easy to write cross-platform compatible code. It is possible to ask for a WindowsPath or a PosixPath explicitly, but we will only be limiting our code to that system without any benefits. A concrete path like this can not be used on a different system\n",
    "                ''''''''''''''''''''''''''''''''''''''''''''''''''''''''''''''''''''''''''''''\n",
    "                        >>> pathlib.PosixPath('test.md')\n",
    "                        NotImplementedError: cannot instantiate 'PosixPath' on your system\n",
    "                ''''''''''''''''''''''''''''''''''''''''''''''''''''''''''''''''''''''''''''''       \n",
    "                        \n",
    "        There might be times when we need a \"representation of a path without access to the underlying file system\" (in which case it could also make sense to represent a Windows path on a non-Windows system or vice versa). This can be done with \"PurePath\" objects. These objects support the operations discussed in the section on \"Path Components(.name, .suffix..)\" but not the methods that access the file system(is_exists(), is_file())\n",
    "                \n",
    "                ''''''''''''''''''''''''''''''''''''''''''''''''''''''''''''''''''''''''''''''''''\n",
    "                    >>> path = pathlib.PurePosixPath(r'C:/Users/xxx/xxxxx/file.txt')\n",
    "                    >>> path.name\n",
    "                        'file.txt'\n",
    "                    >>> path.parent\n",
    "                        PurePosixPath('C:\\\\Users\\\\xxx\\\\xxxxx\\\\file.txt')\n",
    "                    >>> path.exists()\n",
    "                        AttributeError: 'PureWindowsPath' object has no attribute 'exists'\n",
    "                    >>> pathlib.PurePath(r'C:/Users/xxx/xxxxx/file.txt')\n",
    "                        PureWindowsPath('C:/Users/xxx/xxxxx/file.txt')\n",
    "               ''''''''''''''''''''''''''''''''''''''''''''''''''''''''''''''''''''''''''''''''''\n",
    "    You can directly instantiate PureWindowsPath or PurePosixPath on all systems. Instantiating PurePath will return one of these objects depending on the operating system you are using.\n",
    "\n",
    "    ---------------------------------------------------------------------------------\n",
    "    Paths as Proper Objects, path native form, os.fspath() for string conversion path:\n",
    "    ---------------------------------------------------------------------------------\n",
    "        In the introduction of paths, we briefly noted that paths are not strings, and one motivation behind pathlib is to represent the file system with proper objects. In fact, the official documentation of pathlib is titled pathlib — Object-oriented filesystem paths. The Object-oriented approach is already quite visible in the examples above (especially if we contrast it with the old os.path way of doing things). However, there are few other tidbits to keep in mind.\n",
    "\n",
    "    Independently of the operating system we are using, paths are represented in Posix style, with the forward slash as the path separator. On Windows, you will see something like this\n",
    "                ''''''''''''''''''''''''''''''''''''''''''''''''''''''''''''''''''''''\n",
    "                        >>> pathlib.Path(r'C:\\Users\\xxx\\xxxxx\\file.txt')\n",
    "                            WindowsPath('C:/Users/xxx/xxxxx/file.txt')\n",
    "                            \n",
    "                ''''''''''''''''''''''''''''''''''''''''''''''''''''''''''''''''''''''\n",
    "    \n",
    "    Still, when a path is converted to a string, it will use the native form, for instance with backslashes on Windows:\n",
    "                \n",
    "                ''''''''''''''''''''''''''''''''''''''''''''''''''''''''''''''''''''''\n",
    "                        >>> str(pathlib.Path(r'C:\\Users\\xxx\\xxxxx\\file.txt'))\n",
    "                            'C:\\\\Users\\\\xxx\\\\xxxxx\\\\file.txt'\n",
    "                ''''''''''''''''''''''''''''''''''''''''''''''''''''''''''''''''''''''\n",
    "                \n",
    "    This is particularly useful if you are using a library that does not know how to deal with pathlib.Path objects. This is a bigger problem on Python versions before 3.6. For instance, in Python 3.5, the configparser standard library can only use string paths to read files. The way to handle such cases is to do the conversion to a string explicitly\n",
    "\n",
    "                ''''''''''''''''''''''''''''''''''''''''''''''''''''''''''''''''''''''''''''''\n",
    "                            >>> from configparser import ConfigParser\n",
    "                            >>> path = pathlib.Path('config.txt')\n",
    "                            >>> cfg = ConfigParser()\n",
    "                            >>> cfg.read(path)                     # Error on Python < 3.6\n",
    "                                TypeError: 'PosixPath' object is not iterable\n",
    "                            >>> cfg.read(str(path))                # Works on Python >= 3.4\n",
    "                                ['config.txt']\n",
    "               ''''''''''''''''''''''''''''''''''''''''''''''''''''''''''''''''''''''''''''''\n",
    "               \n",
    "    In Python 3.6 and later it is recommended to use \"os.fspath()\" instead of str() if you need to do an explicit conversion. This is a little safer as it will raise an error if you accidently try to convert an object that is not pathlike.\n",
    "\n",
    "    Possibly the most unusual part of the pathlib library is the use of the / operator. For a little peek under the hood, let us see how that is implemented. This is an example of operator overloading: the behavior of an operator is changed depending on the context. You have seen this before. Think about how + means different things for strings and numbers. Python implements operator overloading through the use of double underscore methods (a.k.a. dunder methods).\n",
    "\n",
    "    The / operator is defined by the .__truediv__() method. In fact, if you take a look at the source code of pathlib, you’ll see something like:\n",
    "\n",
    "                            class PurePath(object):\n",
    "\n",
    "                                def __truediv__(self, key):\n",
    "                                    return self._make_child((key,))\n",
    "    Conclusion:\n",
    "    -----------\n",
    "    Since Python 3.4, pathlib has been available in the standard library. With pathlib, file paths can be represented by proper Path objects instead of plain strings as before. These objects make code dealing with file paths:\n",
    "\n",
    "        - Easier to read, especially because / is used to join paths together\n",
    "        - More powerful, with most necessary methods and properties available directly on the object\n",
    "        - More consistent across operating systems, as peculiarities of the different systems are hidden by the Path object"
   ]
  },
  {
   "cell_type": "markdown",
   "id": "5f243fab",
   "metadata": {},
   "source": [
    "### Datetime module\n",
    "    Python has a module named datetime to work with dates and times.\n",
    "\n",
    "    It provides a variety of classes for representing and manipulating dates and times, as well as for formatting and parsing dates and times in a variety of formats\n",
    "    \n",
    "    Below, we have imported the datetime module using the import datetime statement. One of the classes defined in the datetime module is the datetime class. We then used the now() method to create a datetime object containing the current local date and time."
   ]
  },
  {
   "cell_type": "code",
   "execution_count": 149,
   "id": "332831ec",
   "metadata": {},
   "outputs": [
    {
     "name": "stdout",
     "output_type": "stream",
     "text": [
      "2023-03-31 18:19:06.424608\n"
     ]
    }
   ],
   "source": [
    "#get current local date and time using datetime.datetime.now()\n",
    "import datetime\n",
    "\n",
    "print(datetime.datetime.now())"
   ]
  },
  {
   "cell_type": "code",
   "execution_count": 151,
   "id": "2c3550d9",
   "metadata": {},
   "outputs": [
    {
     "name": "stdout",
     "output_type": "stream",
     "text": [
      "2023-03-31\n"
     ]
    }
   ],
   "source": [
    "#Example 2: Get Current local Date using datetime.date.today()\n",
    "import datetime\n",
    "\n",
    "datetoday = datetime.date.today()\n",
    "print(datetoday)\n",
    "\n",
    "#Here, we have used the today() method defined in the date class to get a date object containing the current local date."
   ]
  },
  {
   "cell_type": "markdown",
   "id": "90bc90f2",
   "metadata": {},
   "source": [
    "##### Attributes of datetime Module:\n",
    "    We can use the dir() function to get a list containing all attributes of a module\n",
    "    \n",
    "    Among all the attributes of datetime module, the most commonly used classes in the datetime module are:\n",
    "\n",
    "            - datetime.datetime - represents a single point in time, including a date and a time.\n",
    "            - datetime.date - represents a date (year, month, and day) without a time.\n",
    "            - datetime.time - represents a time (hour, minute, second, and microsecond) without a date.\n",
    "            - datetime.timedelta, dateutil.relativedelta.relativedelta() -  used to perform arithmetic with datetime objects. timedelta and relativedelta to be able to add, subtract days from your date."
   ]
  },
  {
   "cell_type": "code",
   "execution_count": 3,
   "id": "2730fcf6",
   "metadata": {},
   "outputs": [
    {
     "data": {
      "text/plain": [
       "datetime.date(2021, 1, 10)"
      ]
     },
     "execution_count": 3,
     "metadata": {},
     "output_type": "execute_result"
    }
   ],
   "source": [
    "import datetime as dt\n",
    "from datetime import date, time, datetime, timedelta\n",
    "from dateutil.relativedelta import relativedelta\n",
    "\n",
    "# Create Date object\n",
    "date(year=2021, month=1, day=10)\n",
    "\n",
    "#Note: Use single digits for days and months — 1 instead of 01"
   ]
  },
  {
   "cell_type": "code",
   "execution_count": 4,
   "id": "deb17ac4",
   "metadata": {},
   "outputs": [
    {
     "data": {
      "text/plain": [
       "datetime.time(14, 15, 25)"
      ]
     },
     "execution_count": 4,
     "metadata": {},
     "output_type": "execute_result"
    }
   ],
   "source": [
    "# Create Time object\n",
    "from datetime import time\n",
    "time(hour=14, minute=15, second=25)"
   ]
  },
  {
   "cell_type": "code",
   "execution_count": 6,
   "id": "2b53bf22",
   "metadata": {},
   "outputs": [
    {
     "data": {
      "text/plain": [
       "datetime.datetime(2021, 1, 10, 14, 15, 25)"
      ]
     },
     "execution_count": 6,
     "metadata": {},
     "output_type": "execute_result"
    }
   ],
   "source": [
    "# Create Datetime object\n",
    "from datetime import datetime\n",
    "datetime(year=2021, month=1, day=10, hour=14, minute=15, second=25)"
   ]
  },
  {
   "cell_type": "code",
   "execution_count": 10,
   "id": "13f3bbc6",
   "metadata": {},
   "outputs": [
    {
     "data": {
      "text/plain": [
       "datetime.date(2021, 1, 10)"
      ]
     },
     "execution_count": 10,
     "metadata": {},
     "output_type": "execute_result"
    }
   ],
   "source": [
    "#isoformatted string to a date\n",
    "#iso-format : YYYY-MM-DD\n",
    "from datetime import date\n",
    "\n",
    "date.fromisoformat(\"2021-01-10\")"
   ]
  },
  {
   "cell_type": "code",
   "execution_count": 14,
   "id": "418d3c68",
   "metadata": {},
   "outputs": [
    {
     "data": {
      "text/plain": [
       "'2023-04-13'"
      ]
     },
     "execution_count": 14,
     "metadata": {},
     "output_type": "execute_result"
    }
   ],
   "source": [
    "#Isoformat() is used to return a string of date, time, and UTC offset to the corresponding time zone in ISO 8601 format.\n",
    "from datetime import date\n",
    "import time\n",
    "\n",
    "# mydate = date.today()\n",
    "mydate = date.fromtimestamp(time.time())\n",
    "mydate.isoformat()"
   ]
  },
  {
   "cell_type": "code",
   "execution_count": 153,
   "id": "b61ed29e",
   "metadata": {},
   "outputs": [
    {
     "name": "stdout",
     "output_type": "stream",
     "text": [
      "['MAXYEAR', 'MINYEAR', '__builtins__', '__cached__', '__doc__', '__file__', '__loader__', '__name__', '__package__', '__spec__', 'date', 'datetime', 'datetime_CAPI', 'sys', 'time', 'timedelta', 'timezone', 'tzinfo']\n"
     ]
    }
   ],
   "source": [
    "#dir() to list all attributes of datetime module\n",
    "\n",
    "import datetime\n",
    "print(dir(datetime))"
   ]
  },
  {
   "cell_type": "markdown",
   "id": "39cf5172",
   "metadata": {},
   "source": [
    "##### Python datetime.date Class\n",
    "    In Python, we can instantiate date objects from the date class. A date object represents a date (year, month and day).\n",
    "    \n",
    "        Here, date() in the below example is a constructor of the date class. The constructor takes three arguments: year, month and day."
   ]
  },
  {
   "cell_type": "code",
   "execution_count": 160,
   "id": "0c9faeef",
   "metadata": {},
   "outputs": [
    {
     "name": "stdout",
     "output_type": "stream",
     "text": [
      "2023-08-31\n"
     ]
    }
   ],
   "source": [
    "#Date object to represent a date\n",
    "\n",
    "import datetime\n",
    "\n",
    "dt = datetime.date(2023, 8, 31)\n",
    "print(dt)"
   ]
  },
  {
   "cell_type": "code",
   "execution_count": 161,
   "id": "0faf09ab",
   "metadata": {},
   "outputs": [
    {
     "name": "stdout",
     "output_type": "stream",
     "text": [
      "2022-12-25\n"
     ]
    }
   ],
   "source": [
    "#Import Only date Class\n",
    "from datetime import date\n",
    "\n",
    "d = date(2022, 12, 25)\n",
    "print(d)"
   ]
  },
  {
   "cell_type": "code",
   "execution_count": 163,
   "id": "4c88ee7b",
   "metadata": {},
   "outputs": [
    {
     "name": "stdout",
     "output_type": "stream",
     "text": [
      "Today's date = 2023-03-31\n"
     ]
    }
   ],
   "source": [
    "#Get current date using date.today()\n",
    "\n",
    "#We can create a date object containing the current date by using the class method named today().\n",
    "from datetime import date\n",
    "\n",
    "todaydt = date.today()\n",
    "print(\"Today's date =\", todaydt)"
   ]
  },
  {
   "cell_type": "code",
   "execution_count": 166,
   "id": "52dbdd48",
   "metadata": {},
   "outputs": [
    {
     "name": "stdout",
     "output_type": "stream",
     "text": [
      "Date = 2012-01-11\n"
     ]
    }
   ],
   "source": [
    "#Get date from a timestamp\n",
    "\n",
    "#A Unix timestamp is the number of seconds between a particular date and January 1, 1970 at UTC.\n",
    "#We can also create date objects from a timestamp i.e., You can convert a timestamp to date using the date.fromtimestamp() method.\n",
    "\n",
    "import datetime\n",
    "timestampdt = datetime.date.fromtimestamp(1326244364)\n",
    "\n",
    "print(\"Date =\",timestampdt)"
   ]
  },
  {
   "cell_type": "code",
   "execution_count": 175,
   "id": "ac37e31e",
   "metadata": {},
   "outputs": [
    {
     "name": "stdout",
     "output_type": "stream",
     "text": [
      "Current year:  2023\n",
      "Current month:  3\n",
      "Current day:  31\n",
      "Current day of the week:  4\n"
     ]
    }
   ],
   "source": [
    "#Print today's year, month, day, day of the week\n",
    "\n",
    "#We can get year, month, day, day of the week etc. from the date object easily.\n",
    "\n",
    "from datetime import date\n",
    "\n",
    "#date object of today's date\n",
    "today = date.today()\n",
    "print(\"Current year: \", today.year)\n",
    "print(\"Current month: \", today.month)\n",
    "print(\"Current day: \", today.day)\n",
    "print(\"Current day of the week: \", today.weekday()) #Return the day of the week represented by the date. Monday == 0 ... Sunday == 6"
   ]
  },
  {
   "cell_type": "markdown",
   "id": "5a11b208",
   "metadata": {},
   "source": [
    "##### Python datetime.time Class\n",
    "    A time object instantiated from the time class represents the local time."
   ]
  },
  {
   "cell_type": "code",
   "execution_count": 54,
   "id": "11ee01f5",
   "metadata": {},
   "outputs": [
    {
     "name": "stdout",
     "output_type": "stream",
     "text": [
      "00:00:00\n",
      "02:35:59\n",
      "11:34:56\n",
      "13:23:56.234567\n"
     ]
    }
   ],
   "source": [
    "#Time object to represent time\n",
    "\n",
    "from datetime import time\n",
    "\n",
    "# time(hour = 0, minute = 0, second = 0)\n",
    "todaytime = time()\n",
    "print(todaytime)\n",
    "\n",
    "# time(hour, minute and second)\n",
    "currtime = time(2, 35, 59)\n",
    "print(currtime)\n",
    "\n",
    "# time(hour, minute and second)\n",
    "c = time(hour=11, minute=34, second=56)\n",
    "print(c)\n",
    "\n",
    "# time(hour, minute, second, microsecond)\n",
    "c = time(13, 23, 56, 234567)\n",
    "print(c)"
   ]
  },
  {
   "cell_type": "code",
   "execution_count": 190,
   "id": "de560917",
   "metadata": {},
   "outputs": [
    {
     "name": "stdout",
     "output_type": "stream",
     "text": [
      "Hour:  23\n",
      "Minutes:  59\n",
      "Seconds:  59\n",
      "Microseconds:  0\n"
     ]
    }
   ],
   "source": [
    "#Print hour, minute, second and microsecond\n",
    "\n",
    "#Once we create the time object, we can easily print its attributes such as hour, minute etc.\n",
    "from datetime import time\n",
    "\n",
    "current = time(23, 59, 59)\n",
    "\n",
    "print(\"Hour: \", current.hour)\n",
    "print(\"Minutes: \", current.minute)\n",
    "print(\"Seconds: \", current.second)\n",
    "print(\"Microseconds: \", current.microsecond) #notice that we haven't passed the microsecond argument. Hence, its default value 0 is printed"
   ]
  },
  {
   "cell_type": "markdown",
   "id": "b0a35bb8",
   "metadata": {},
   "source": [
    "#### The datetime.datetime Class\n",
    "    The datetime module has a class named datetime that can contain information from both date and time objects.\n",
    "    \n",
    "    The first three arguments year, month and day in the datetime() constructor are mandatory."
   ]
  },
  {
   "cell_type": "code",
   "execution_count": 203,
   "id": "d3e3ee0c",
   "metadata": {},
   "outputs": [
    {
     "name": "stdout",
     "output_type": "stream",
     "text": [
      "2012-12-26 00:00:00\n",
      "2012-12-26 23:59:59.999999\n"
     ]
    }
   ],
   "source": [
    "#Python datetime object\n",
    "\n",
    "from datetime import datetime\n",
    "\n",
    "# datetime(year, month, day)\n",
    "a = datetime(2012, 12, 26)\n",
    "print(a)\n",
    "\n",
    "# datetime(year, month, day, hour, minute, second, microsecond)\n",
    "b = datetime(2012, 12, 26, 23, 59, 59, 999999)\n",
    "print(b)"
   ]
  },
  {
   "cell_type": "code",
   "execution_count": 204,
   "id": "f3bae733",
   "metadata": {},
   "outputs": [
    {
     "name": "stdout",
     "output_type": "stream",
     "text": [
      "Year = 2012\n",
      "Month = 12\n",
      "Hour = 23\n",
      "Minute = 59\n",
      "Timestamp = 1356562799.999999\n"
     ]
    }
   ],
   "source": [
    "#Print year, month, hour, minute and timestamp from datetime object\n",
    "\n",
    "from datetime import datetime\n",
    "\n",
    "# datetime(year, month, day, hour, minute, second, microsecond)\n",
    "a = datetime(2012, 12, 26, 23, 59, 59, 999999)\n",
    "\n",
    "print(\"Year =\", a.year)\n",
    "print(\"Month =\", a.month)\n",
    "print(\"Hour =\", a.hour)\n",
    "print(\"Minute =\", a.minute)\n",
    "print(\"Timestamp =\", a.timestamp())"
   ]
  },
  {
   "cell_type": "code",
   "execution_count": 238,
   "id": "4f2f2006",
   "metadata": {},
   "outputs": [
    {
     "name": "stdout",
     "output_type": "stream",
     "text": [
      "dt_object = 2018-12-25 10:27:53\n",
      "type(dt_object) = <class 'datetime.datetime'>\n"
     ]
    }
   ],
   "source": [
    "#Python timestamp to datetime\n",
    "from datetime import datetime\n",
    "\n",
    "# timestamp is number of seconds since 1970-01-01 \n",
    "timestamp = 1545730073\n",
    "\n",
    "# convert the timestamp to a datetime object in the local timezone\n",
    "dt_object = datetime.fromtimestamp(timestamp)\n",
    "\n",
    "# print the datetime object and its type\n",
    "print(\"dt_object =\", dt_object)\n",
    "print(\"type(dt_object) =\", type(dt_object))"
   ]
  },
  {
   "cell_type": "code",
   "execution_count": 237,
   "id": "75e00920",
   "metadata": {},
   "outputs": [
    {
     "name": "stdout",
     "output_type": "stream",
     "text": [
      "Timestamp = 1680288666.798371\n"
     ]
    }
   ],
   "source": [
    "#Python datetime to timestamp\n",
    "\n",
    "#In Python, we can get timestamp from a datetime object using the datetime.timestamp() method. For example,\n",
    "\n",
    "from datetime import datetime\n",
    "\n",
    "# current date and time\n",
    "now = datetime.now()\n",
    "\n",
    "# convert from datetime to timestamp\n",
    "ts = datetime.timestamp(now)\n",
    "\n",
    "print(\"Timestamp =\", ts)\n",
    "\n",
    "#Here, the datetime.timestamp() method takes a datetime object as an argument and returns a Unix timestamp."
   ]
  },
  {
   "cell_type": "markdown",
   "id": "64d1ae4f",
   "metadata": {},
   "source": [
    "#### Python datetime.timedelta Class\n",
    "    A timedelta object represents the difference between two dates or times i.e the time duration between two dates or times.\n",
    "    \n",
    "    datetime.timedelta and dateutil.relativedelta.relativedelta():\n",
    "    --------------------------------------------------------------\n",
    "    With timedelta you can add or subtract days, hours, minutes and seconds. To add other periods like months or years, use relativedelta"
   ]
  },
  {
   "cell_type": "code",
   "execution_count": 52,
   "id": "0542915e",
   "metadata": {},
   "outputs": [
    {
     "data": {
      "text/plain": [
       "datetime.date(2023, 4, 11)"
      ]
     },
     "execution_count": 52,
     "metadata": {},
     "output_type": "execute_result"
    }
   ],
   "source": [
    "#timedelta to add or subract days\n",
    "from datetime import date, timedelta\n",
    "\n",
    "date.today() + timedelta(days=-2) #going 2 days past"
   ]
  },
  {
   "cell_type": "code",
   "execution_count": 16,
   "id": "0d49ac84",
   "metadata": {},
   "outputs": [
    {
     "data": {
      "text/plain": [
       "datetime.datetime(2023, 4, 14, 15, 45, 21, 524392)"
      ]
     },
     "execution_count": 16,
     "metadata": {},
     "output_type": "execute_result"
    }
   ],
   "source": [
    "# timedelta - Add one day\n",
    "from datetime import datetime, timedelta\n",
    "\n",
    "datetime.today() + timedelta(days=1)"
   ]
  },
  {
   "cell_type": "code",
   "execution_count": 50,
   "id": "c3ec993e",
   "metadata": {},
   "outputs": [
    {
     "data": {
      "text/plain": [
       "datetime.datetime(2023, 4, 13, 18, 45, 52, 829268)"
      ]
     },
     "execution_count": 50,
     "metadata": {},
     "output_type": "execute_result"
    }
   ],
   "source": [
    "# timedelta - Add 2 hours\n",
    "from datetime import datetime, timedelta\n",
    "\n",
    "datetime.now() + timedelta(hours=2, minutes=30)"
   ]
  },
  {
   "cell_type": "code",
   "execution_count": 208,
   "id": "ae16740d",
   "metadata": {},
   "outputs": [
    {
     "name": "stdout",
     "output_type": "stream",
     "text": [
      "t3 = 201 days, 0:00:00\n",
      "t6 = -333 days, 1:14:20\n",
      "Type of t3 = <class 'datetime.timedelta'>\n",
      "Type of t6 = <class 'datetime.timedelta'>\n"
     ]
    }
   ],
   "source": [
    "#timedelta object to find the difference between the times\n",
    "\n",
    "from datetime import datetime, date\n",
    "\n",
    "# using date()\n",
    "t1 = date(year = 2018, month = 7, day = 12)\n",
    "t2 = date(year = 2017, month = 12, day = 23)\n",
    "\n",
    "t3 = t1 - t2\n",
    "print(\"t3 =\", t3)\n",
    "\n",
    "# using datetime()\n",
    "t4 = datetime(year = 2018, month = 7, day = 12, hour = 7, minute = 9, second = 33)\n",
    "t5 = datetime(year = 2019, month = 6, day = 10, hour = 5, minute = 55, second = 13)\n",
    "\n",
    "t6 = t4 - t5\n",
    "print(\"t6 =\", t6)\n",
    "\n",
    "print(\"Type of t3 =\", type(t3)) \n",
    "print(\"Type of t6 =\", type(t6))\n",
    "#Notice, both t3 and t6 are of <class 'datetime.timedelta'> type"
   ]
  },
  {
   "cell_type": "code",
   "execution_count": 22,
   "id": "bd0b6c22",
   "metadata": {},
   "outputs": [
    {
     "data": {
      "text/plain": [
       "datetime.date(2026, 2, 15)"
      ]
     },
     "execution_count": 22,
     "metadata": {},
     "output_type": "execute_result"
    }
   ],
   "source": [
    "#relative delta\n",
    "from datetime import date\n",
    "from dateutil.relativedelta import relativedelta\n",
    "\n",
    "date1 = date(2021, 1, 10)\n",
    "delta = relativedelta(years=+5, months=+1, days=+5)\n",
    "date1 + delta"
   ]
  },
  {
   "cell_type": "code",
   "execution_count": 210,
   "id": "bfe7166e",
   "metadata": {},
   "outputs": [
    {
     "name": "stdout",
     "output_type": "stream",
     "text": [
      "t3 =  14 days, 13:55:39\n"
     ]
    }
   ],
   "source": [
    "#Difference between two timedelta objects\n",
    "\n",
    "#Here, we have created two timedelta objects t1 and t2, and their difference is printed on the screen.\n",
    "from datetime import timedelta\n",
    "\n",
    "t1 = timedelta(weeks = 2, days = 5, hours = 1, seconds = 33)\n",
    "t2 = timedelta(days = 4, hours = 11, minutes = 4, seconds = 54)\n",
    "\n",
    "t3 = t1 - t2\n",
    "print(\"t3 = \", t3)"
   ]
  },
  {
   "cell_type": "code",
   "execution_count": 213,
   "id": "352f730d",
   "metadata": {},
   "outputs": [
    {
     "name": "stdout",
     "output_type": "stream",
     "text": [
      "total seconds =  435635.334233\n"
     ]
    }
   ],
   "source": [
    "#Time duration in seconds\n",
    "\n",
    "#We can get the total number of seconds in a timedelta object using the total_seconds() method.\n",
    "from datetime import timedelta\n",
    "\n",
    "t1 = timedelta(days = 5, hours = 1, seconds = 33, microseconds = 2334233)\n",
    "\n",
    "print(\"total seconds = \", t1.total_seconds())"
   ]
  },
  {
   "cell_type": "markdown",
   "id": "c78ecd52",
   "metadata": {},
   "source": [
    "##### Python format datetime\n",
    "    The way date and time is represented may be different in different places, organizations etc. It's more common to use mm/dd/yyyy in the US, whereas dd/mm/yyyy is more common in the UK.\n",
    "\n",
    "    Python has strftime() and strptime() methods to handle this.\n",
    "    \n",
    "##### Python strftime() Method\n",
    "    The strftime() method is defined under classes date, datetime and time. The method creates a formatted string from a given date, datetime or time object. \n",
    "    \n",
    "    Here in the below eg, %Y, %m, %d, %H etc. are format codes. The strftime() method takes one or more format codes and returns a formatted string based on it.\n",
    "    \n",
    "    The table below shows all the codes that you can pass to the strftime() method.\n",
    "                    %a\tAbbreviated weekday name.\tSun, Mon, ...\n",
    "                    %A\tFull weekday name.\tSunday, Monday, ...\n",
    "                    %w\tWeekday as a decimal number.\t0, 1, ..., 6\n",
    "                    %d\tDay of the month as a zero-padded decimal.\t01, 02, ..., 31\n",
    "                    %-d\tDay of the month as a decimal number.\t1, 2, ..., 30\n",
    "                    %b\tAbbreviated month name.\tJan, Feb, ..., Dec\n",
    "                    %B\tFull month name.\tJanuary, February, ...\n",
    "                    %m\tMonth as a zero-padded decimal number.\t01, 02, ..., 12\n",
    "                    %-m\tMonth as a decimal number.\t1, 2, ..., 12\n",
    "                    %y\tYear without century as a zero-padded decimal number.\t00, 01, ..., 99\n",
    "                    %-y\tYear without century as a decimal number.\t0, 1, ..., 99\n",
    "                    %Y\tYear with century as a decimal number.\t2013, 2019 etc.\n",
    "                    %H\tHour (24-hour clock) as a zero-padded decimal number.\t00, 01, ..., 23\n",
    "                    %-H\tHour (24-hour clock) as a decimal number.\t0, 1, ..., 23\n",
    "                    %I\tHour (12-hour clock) as a zero-padded decimal number.\t01, 02, ..., 12\n",
    "                    %-I\tHour (12-hour clock) as a decimal number.\t1, 2, ... 12\n",
    "                    %p\tLocale’s AM or PM.\tAM, PM\n",
    "                    %M\tMinute as a zero-padded decimal number.\t00, 01, ..., 59\n",
    "                    %-M\tMinute as a decimal number.\t0, 1, ..., 59\n",
    "                    %S\tSecond as a zero-padded decimal number.\t00, 01, ..., 59\n",
    "                    %-S\tSecond as a decimal number.\t0, 1, ..., 59\n",
    "                    %f\tMicrosecond as a decimal number, zero-padded on the left.\t000000 - 999999\n",
    "                    %z\tUTC offset in the form +HHMM or -HHMM.\t \n",
    "                    %Z\tTime zone name.\t \n",
    "                    %j\tDay of the year as a zero-padded decimal number.\t001, 002, ..., 366\n",
    "                    %-j\tDay of the year as a decimal number.\t1, 2, ..., 366\n",
    "                    %U\tWeek number of the year (Sunday as the first day of the week). All days in a new year preceding the first Sunday are considered to be in week 0.\t00, 01, ..., 53\n",
    "                    %W\tWeek number of the year (Monday as the first day of the week). All days in a new year preceding the first Monday are considered to be in week 0.\t00, 01, ..., 53\n",
    "                    %c\tLocale’s appropriate date and time representation.\tMon Sep 30 07:06:05 2013\n",
    "                    %x\tLocale’s appropriate date representation.\t09/30/13\n",
    "                    %X\tLocale’s appropriate time representation.\t07:06:05\n",
    "                    %%\tA literal '%' character.\t%"
   ]
  },
  {
   "cell_type": "code",
   "execution_count": 229,
   "id": "e5aa0a70",
   "metadata": {},
   "outputs": [
    {
     "name": "stdout",
     "output_type": "stream",
     "text": [
      "31:03:2023\n",
      "31-03-2023 20:30:42\n",
      "20-30-42\n",
      "03/31/2023\n",
      "year: 2023\n",
      "month: 03\n",
      "day: 31\n",
      "time: 20:30:42\n",
      "date and time: 03/31/2023, 20:30:42\n"
     ]
    }
   ],
   "source": [
    "#strftime with datetime class\n",
    "\n",
    "from datetime import datetime\n",
    "\n",
    "now = datetime.now()\n",
    "\n",
    "print(now.strftime('%d:%m:%Y'))\n",
    "print(now.strftime('%d-%m-%Y %H:%M:%S'))\n",
    "print(now.strftime('%H-%M-%S'))\n",
    "print(now.strftime('%m/%d/%Y'))\n",
    "\n",
    "year = now.strftime(\"%Y\")\n",
    "print(\"year:\", year)\n",
    "\n",
    "month = now.strftime(\"%m\")\n",
    "print(\"month:\", month)\n",
    "\n",
    "day = now.strftime(\"%d\")\n",
    "print(\"day:\", day)\n",
    "\n",
    "time = now.strftime(\"%H:%M:%S\")\n",
    "print(\"time:\", time)\n",
    "\n",
    "date_time = now.strftime(\"%m/%d/%Y, %H:%M:%S\")\n",
    "print(\"date and time:\",date_time)\n",
    "\n",
    "#Here, year, day, time and date_time are strings, whereas now is a datetime object."
   ]
  },
  {
   "cell_type": "code",
   "execution_count": 262,
   "id": "8c49d245",
   "metadata": {},
   "outputs": [
    {
     "name": "stdout",
     "output_type": "stream",
     "text": [
      "Date time object: 2018-06-12 11:55:22\n",
      "Output 2: 06/12/2018, 11:55:22\n",
      "Output 3: 12 Jun, 2018\n",
      "Output 4: 12 June, 2018\n",
      "Output 5: 11AM\n"
     ]
    }
   ],
   "source": [
    "#Creating string from a timestamp using datetime.fromtimestamp() and strftime()\n",
    "\n",
    "from datetime import datetime\n",
    "\n",
    "timestamp = 1528797322\n",
    "date_time = datetime.fromtimestamp(timestamp)\n",
    "\n",
    "print(\"Date time object:\", date_time)\n",
    "\n",
    "d = date_time.strftime(\"%m/%d/%Y, %H:%M:%S\")\n",
    "print(\"Output 2:\", d)\n",
    "\n",
    "d = date_time.strftime(\"%d %b, %Y\")\n",
    "print(\"Output 3:\", d)\n",
    "\n",
    "d = date_time.strftime(\"%d %B, %Y\")\n",
    "print(\"Output 4:\", d)\n",
    "\n",
    "d = date_time.strftime(\"%I%p\")\n",
    "print(\"Output 5:\", d)"
   ]
  },
  {
   "cell_type": "code",
   "execution_count": 56,
   "id": "3ccf943e",
   "metadata": {},
   "outputs": [
    {
     "name": "stdout",
     "output_type": "stream",
     "text": [
      "Original datetime:  2018-06-12 11:55:22\n",
      "Output 1: Tue Jun 12 11:55:22 2018\n",
      "Output 2: 06/12/18\n",
      "Output 3: 11:55:22\n"
     ]
    }
   ],
   "source": [
    "#Locale's appropriate date and time with datetime.fromtimestamp() and strftime\n",
    "\n",
    "#Format codes %c, %x and %X are used for locale's appropriate date and time representation.\n",
    "from datetime import datetime\n",
    "\n",
    "timestamp = 1528797322\n",
    "date_time = datetime.fromtimestamp(timestamp)\n",
    "print(\"Original datetime: \", date_time)\n",
    "\n",
    "d = date_time.strftime(\"%c\") #Locale’s appropriate date and time representation\n",
    "print(\"Output 1:\", d)\n",
    "\n",
    "d = date_time.strftime(\"%x\") #Locale’s appropriate date representation\n",
    "print(\"Output 2:\", d)\n",
    "\n",
    "d = date_time.strftime(\"%X\") #Locale’s appropriate time representation\n",
    "print(\"Output 3:\", d)"
   ]
  },
  {
   "cell_type": "code",
   "execution_count": 234,
   "id": "defdddf5",
   "metadata": {},
   "outputs": [
    {
     "name": "stdout",
     "output_type": "stream",
     "text": [
      "d1 = 31/03/2023\n",
      "d2 = March 31, 2023\n",
      "d3 = 03/31/23\n",
      "d4 = Mar-31-2023\n"
     ]
    }
   ],
   "source": [
    "#Current date in different formats with datetime.date.today() and strftime\n",
    "from datetime import date\n",
    "\n",
    "today = date.today()\n",
    "\n",
    "# dd/mm/YY\n",
    "d1 = today.strftime(\"%d/%m/%Y\")\n",
    "print(\"d1 =\", d1)\n",
    "\n",
    "# Textual month, day and year\n",
    "d2 = today.strftime(\"%B %d, %Y\")\n",
    "print(\"d2 =\", d2)\n",
    "\n",
    "# mm/dd/y\n",
    "d3 = today.strftime(\"%m/%d/%y\")\n",
    "print(\"d3 =\", d3)\n",
    "\n",
    "# Month abbreviation, day and year\n",
    "d4 = today.strftime(\"%b-%d-%Y\")\n",
    "print(\"d4 =\", d4)"
   ]
  },
  {
   "cell_type": "code",
   "execution_count": 235,
   "id": "83758934",
   "metadata": {},
   "outputs": [
    {
     "name": "stdout",
     "output_type": "stream",
     "text": [
      "now = 2023-03-31 20:45:11.722269\n",
      "date and time = 31/03/2023 20:45:11\n"
     ]
    }
   ],
   "source": [
    "#Get the current date and time in Python withe datetime.now()\n",
    "\n",
    "#If we need to get the current date and time, you can use the datetime class of the datetime module.\n",
    "\n",
    "from datetime import datetime\n",
    "\n",
    "# datetime object containing current date and time\n",
    "now = datetime.now()\n",
    " \n",
    "print(\"now =\", now)\n",
    "\n",
    "# dd/mm/YY H:M:S\n",
    "dt_string = now.strftime(\"%d/%m/%Y %H:%M:%S\")\n",
    "print(\"date and time =\", dt_string)"
   ]
  },
  {
   "cell_type": "markdown",
   "id": "6a983591",
   "metadata": {},
   "source": [
    "##### Python strptime() Method\n",
    "    The strptime() method creates a datetime object from a given string (representing date and time).\n",
    "    \n",
    "    The strptime() method takes two arguments:\n",
    "\n",
    "            a string representing date and time\n",
    "            format code equivalent to the first argument\n",
    "            \n",
    "      If the string (first argument) and the format code (second argument) passed to the strptime() doesn't match, you will get ValueError.\n",
    "      \n",
    "       In the below example, %d, %B and %Y format codes are used for day, month(full name) and year respectively. Visit Python strptime() to learn more."
   ]
  },
  {
   "cell_type": "code",
   "execution_count": 225,
   "id": "f1c876a4",
   "metadata": {},
   "outputs": [
    {
     "name": "stdout",
     "output_type": "stream",
     "text": [
      "date_string = 25 December, 2022\n",
      "date_object = 2022-12-25 00:00:00\n"
     ]
    }
   ],
   "source": [
    "#string to datetime object - strptime()\n",
    "from datetime import datetime\n",
    "\n",
    "date_string = \"25 December, 2022\"\n",
    "print(\"date_string =\", date_string)\n",
    "\n",
    "# use strptime() to create date object\n",
    "dateobj = datetime.strptime(date_string, '%d %B, %Y')\n",
    "print(\"date_object =\", dateobj)"
   ]
  },
  {
   "cell_type": "code",
   "execution_count": 232,
   "id": "efddab4a",
   "metadata": {},
   "outputs": [
    {
     "name": "stdout",
     "output_type": "stream",
     "text": [
      "dt_object1 = 2018-11-12 09:15:32\n",
      "dt_object2 = 2018-12-11 09:15:32\n"
     ]
    }
   ],
   "source": [
    "#eg 2 - string to datetime object - strptime()\n",
    "\n",
    "from datetime import datetime\n",
    "\n",
    "dt_string = \"12/11/2018 09:15:32\"\n",
    "\n",
    "# Considering date is in dd/mm/yyyy format\n",
    "dt_object1 = datetime.strptime(dt_string, \"%d/%m/%Y %H:%M:%S\")\n",
    "print(\"dt_object1 =\", dt_object1)\n",
    "\n",
    "# Considering date is in mm/dd/yyyy format\n",
    "dt_object2 = datetime.strptime(dt_string, \"%m/%d/%Y %H:%M:%S\")\n",
    "print(\"dt_object2 =\", dt_object2)"
   ]
  },
  {
   "cell_type": "code",
   "execution_count": 233,
   "id": "9969ab13",
   "metadata": {},
   "outputs": [
    {
     "ename": "ValueError",
     "evalue": "time data '12/11/2018' does not match format '%d %m %Y'",
     "output_type": "error",
     "traceback": [
      "\u001b[1;31m---------------------------------------------------------------------------\u001b[0m",
      "\u001b[1;31mValueError\u001b[0m                                Traceback (most recent call last)",
      "Input \u001b[1;32mIn [233]\u001b[0m, in \u001b[0;36m<cell line: 5>\u001b[1;34m()\u001b[0m\n\u001b[0;32m      2\u001b[0m \u001b[38;5;28;01mfrom\u001b[39;00m \u001b[38;5;21;01mdatetime\u001b[39;00m \u001b[38;5;28;01mimport\u001b[39;00m datetime\n\u001b[0;32m      4\u001b[0m date_string \u001b[38;5;241m=\u001b[39m \u001b[38;5;124m\"\u001b[39m\u001b[38;5;124m12/11/2018\u001b[39m\u001b[38;5;124m\"\u001b[39m\n\u001b[1;32m----> 5\u001b[0m date_object \u001b[38;5;241m=\u001b[39m \u001b[43mdatetime\u001b[49m\u001b[38;5;241;43m.\u001b[39;49m\u001b[43mstrptime\u001b[49m\u001b[43m(\u001b[49m\u001b[43mdate_string\u001b[49m\u001b[43m,\u001b[49m\u001b[43m \u001b[49m\u001b[38;5;124;43m\"\u001b[39;49m\u001b[38;5;132;43;01m%d\u001b[39;49;00m\u001b[38;5;124;43m \u001b[39;49m\u001b[38;5;124;43m%\u001b[39;49m\u001b[38;5;124;43mm \u001b[39;49m\u001b[38;5;124;43m%\u001b[39;49m\u001b[38;5;124;43mY\u001b[39;49m\u001b[38;5;124;43m\"\u001b[39;49m\u001b[43m)\u001b[49m\n\u001b[0;32m      7\u001b[0m \u001b[38;5;28mprint\u001b[39m(\u001b[38;5;124m\"\u001b[39m\u001b[38;5;124mdate_object =\u001b[39m\u001b[38;5;124m\"\u001b[39m, date_object)\n",
      "File \u001b[1;32m~\\anaconda3\\lib\\_strptime.py:568\u001b[0m, in \u001b[0;36m_strptime_datetime\u001b[1;34m(cls, data_string, format)\u001b[0m\n\u001b[0;32m    565\u001b[0m \u001b[38;5;28;01mdef\u001b[39;00m \u001b[38;5;21m_strptime_datetime\u001b[39m(\u001b[38;5;28mcls\u001b[39m, data_string, \u001b[38;5;28mformat\u001b[39m\u001b[38;5;241m=\u001b[39m\u001b[38;5;124m\"\u001b[39m\u001b[38;5;132;01m%a\u001b[39;00m\u001b[38;5;124m \u001b[39m\u001b[38;5;124m%\u001b[39m\u001b[38;5;124mb \u001b[39m\u001b[38;5;132;01m%d\u001b[39;00m\u001b[38;5;124m \u001b[39m\u001b[38;5;124m%\u001b[39m\u001b[38;5;124mH:\u001b[39m\u001b[38;5;124m%\u001b[39m\u001b[38;5;124mM:\u001b[39m\u001b[38;5;124m%\u001b[39m\u001b[38;5;124mS \u001b[39m\u001b[38;5;124m%\u001b[39m\u001b[38;5;124mY\u001b[39m\u001b[38;5;124m\"\u001b[39m):\n\u001b[0;32m    566\u001b[0m     \u001b[38;5;124;03m\"\"\"Return a class cls instance based on the input string and the\u001b[39;00m\n\u001b[0;32m    567\u001b[0m \u001b[38;5;124;03m    format string.\"\"\"\u001b[39;00m\n\u001b[1;32m--> 568\u001b[0m     tt, fraction, gmtoff_fraction \u001b[38;5;241m=\u001b[39m \u001b[43m_strptime\u001b[49m\u001b[43m(\u001b[49m\u001b[43mdata_string\u001b[49m\u001b[43m,\u001b[49m\u001b[43m \u001b[49m\u001b[38;5;28;43mformat\u001b[39;49m\u001b[43m)\u001b[49m\n\u001b[0;32m    569\u001b[0m     tzname, gmtoff \u001b[38;5;241m=\u001b[39m tt[\u001b[38;5;241m-\u001b[39m\u001b[38;5;241m2\u001b[39m:]\n\u001b[0;32m    570\u001b[0m     args \u001b[38;5;241m=\u001b[39m tt[:\u001b[38;5;241m6\u001b[39m] \u001b[38;5;241m+\u001b[39m (fraction,)\n",
      "File \u001b[1;32m~\\anaconda3\\lib\\_strptime.py:349\u001b[0m, in \u001b[0;36m_strptime\u001b[1;34m(data_string, format)\u001b[0m\n\u001b[0;32m    347\u001b[0m found \u001b[38;5;241m=\u001b[39m format_regex\u001b[38;5;241m.\u001b[39mmatch(data_string)\n\u001b[0;32m    348\u001b[0m \u001b[38;5;28;01mif\u001b[39;00m \u001b[38;5;129;01mnot\u001b[39;00m found:\n\u001b[1;32m--> 349\u001b[0m     \u001b[38;5;28;01mraise\u001b[39;00m \u001b[38;5;167;01mValueError\u001b[39;00m(\u001b[38;5;124m\"\u001b[39m\u001b[38;5;124mtime data \u001b[39m\u001b[38;5;132;01m%r\u001b[39;00m\u001b[38;5;124m does not match format \u001b[39m\u001b[38;5;132;01m%r\u001b[39;00m\u001b[38;5;124m\"\u001b[39m \u001b[38;5;241m%\u001b[39m\n\u001b[0;32m    350\u001b[0m                      (data_string, \u001b[38;5;28mformat\u001b[39m))\n\u001b[0;32m    351\u001b[0m \u001b[38;5;28;01mif\u001b[39;00m \u001b[38;5;28mlen\u001b[39m(data_string) \u001b[38;5;241m!=\u001b[39m found\u001b[38;5;241m.\u001b[39mend():\n\u001b[0;32m    352\u001b[0m     \u001b[38;5;28;01mraise\u001b[39;00m \u001b[38;5;167;01mValueError\u001b[39;00m(\u001b[38;5;124m\"\u001b[39m\u001b[38;5;124munconverted data remains: \u001b[39m\u001b[38;5;132;01m%s\u001b[39;00m\u001b[38;5;124m\"\u001b[39m \u001b[38;5;241m%\u001b[39m\n\u001b[0;32m    353\u001b[0m                       data_string[found\u001b[38;5;241m.\u001b[39mend():])\n",
      "\u001b[1;31mValueError\u001b[0m: time data '12/11/2018' does not match format '%d %m %Y'"
     ]
    }
   ],
   "source": [
    "#strptime() valueerror when string and format doesn't match\n",
    "from datetime import datetime\n",
    "\n",
    "date_string = \"12/11/2018\"\n",
    "date_object = datetime.strptime(date_string, \"%d %m %Y\")\n",
    "\n",
    "print(\"date_object =\", date_object)"
   ]
  },
  {
   "cell_type": "markdown",
   "id": "4a128095",
   "metadata": {},
   "source": [
    "#### Handling timezone in Python with pytz\n",
    "    Suppose, we are working on a project and need to display date and time based on their timezone.\n",
    "\n",
    "    Rather than trying to handle timezone yourself, we can use a third-party pytZ module.\n",
    "    \n",
    "    Here in the below example, datetime_NY and datetime_London are datetime objects containing the current date and time of their respective timezone."
   ]
  },
  {
   "cell_type": "code",
   "execution_count": 228,
   "id": "ede53dee",
   "metadata": {},
   "outputs": [
    {
     "name": "stdout",
     "output_type": "stream",
     "text": [
      "Current local time:  03/31/2023, 20:24:11\n",
      "NewYork time:  03-31-2023 14:24:11\n",
      "London time:  03-31-2023, 19:24:11\n"
     ]
    }
   ],
   "source": [
    "from datetime import datetime\n",
    "import pytz\n",
    "\n",
    "localtime = datetime.now()\n",
    "print(\"Current local time: \", localtime.strftime('%m/%d/%Y, %H:%M:%S'))\n",
    "\n",
    "tz_NY = pytz.timezone('America/New_York')\n",
    "datetime_NY = datetime.now(tz_NY)\n",
    "print(\"NewYork time: \", datetime_NY.strftime('%m-%d-%Y %H:%M:%S'))\n",
    "\n",
    "ty_London = pytz.timezone('Europe/London')\n",
    "datetime_London = datetime.now(ty_London)\n",
    "print(\"London time: \", datetime_London.strftime('%m-%d-%Y, %H:%M:%S'))\n"
   ]
  },
  {
   "cell_type": "code",
   "execution_count": 49,
   "id": "75a3466d",
   "metadata": {},
   "outputs": [
    {
     "name": "stdout",
     "output_type": "stream",
     "text": [
      "id      object\n",
      "date    object\n",
      "dtype: object\n",
      "-------------------------------\n",
      "  id        date\n",
      "0  1  2011-12-21\n",
      "1  2   2012-8-22\n",
      "2  3   2013-9-23\n",
      "-------------------------------\n",
      "id              object\n",
      "date    datetime64[ns]\n",
      "dtype: object\n",
      "-------------------------------\n",
      "  id       date\n",
      "0  1 2011-12-21\n",
      "1  2 2012-08-22\n",
      "2  3 2013-09-23\n",
      "-------------------------------\n",
      "  id       date date_dd_mm_yy\n",
      "0  1 2011-12-21    21-2011-12\n",
      "1  2 2012-08-22    22-2012-08\n",
      "2  3 2013-09-23    23-2013-09\n",
      "-------------------------------\n",
      "  id       date date_dd_mm_yy     day+10\n",
      "0  1 2011-12-21    21-2011-12 2011-12-31\n",
      "1  2 2012-08-22    22-2012-08 2012-09-01\n",
      "2  3 2013-09-23    23-2013-09 2013-10-03\n",
      "-------------------------------\n",
      "  id       date date_dd_mm_yy     day+10  day  month  year\n",
      "0  1 2011-12-21    21-2011-12 2011-12-31   21     12  2011\n",
      "1  2 2012-08-22    22-2012-08 2012-09-01   22      8  2012\n",
      "2  3 2013-09-23    23-2013-09 2013-10-03   23      9  2013\n"
     ]
    }
   ],
   "source": [
    "#datetime with pandas\n",
    "import pandas as pd\n",
    "import numpy as np\n",
    "\n",
    "mydf = pd.DataFrame(\n",
    "    np.array([['1', '2011-12-21'],\n",
    "    ['2', '2012-8-22'],\n",
    "    ['3', '2013-9-23']]), columns=['id', 'date']\n",
    ")\n",
    "print(mydf.dtypes)\n",
    "print(\"-------------------------------\")\n",
    "print(mydf)\n",
    "\n",
    "#converting the date column with values as string to datetime obj\n",
    "mydf['date'] = pd.to_datetime(mydf.date, format=\"%Y-%m-%d\") #format specified here should match with the formaat of the string\n",
    "print(\"-------------------------------\")\n",
    "print(mydf.dtypes)\n",
    "print(\"-------------------------------\")\n",
    "print(mydf)\n",
    "\n",
    "#we can even change the format of the data to our required format as another column\n",
    "mydf['date_dd_mm_yy'] = mydf['date'].dt.strftime(\"%d-%Y-%m\")\n",
    "print(\"-------------------------------\")\n",
    "print(mydf)\n",
    "\n",
    "#we can also add days to our date column using Timedelta\n",
    "mydf['day+10'] = mydf['date'] + pd.Timedelta(days=10)\n",
    "print(\"-------------------------------\")\n",
    "print(mydf)\n",
    "\n",
    "#we can also extract the date, year, month from the date column\n",
    "mydf['day'] = mydf.date.dt.day\n",
    "mydf['month'] = mydf.date.dt.month\n",
    "mydf['year'] = mydf.date.dt.year\n",
    "print(\"-------------------------------\")\n",
    "print(mydf)"
   ]
  },
  {
   "cell_type": "markdown",
   "id": "35b8ef46",
   "metadata": {},
   "source": [
    "#### Time Module:\n",
    "##### Current time using time module\n",
    "    In Python, we can also get the current time using the time module."
   ]
  },
  {
   "cell_type": "code",
   "execution_count": 55,
   "id": "d4e4aeba",
   "metadata": {},
   "outputs": [
    {
     "name": "stdout",
     "output_type": "stream",
     "text": [
      "time.struct_time(tm_year=2023, tm_mon=4, tm_mday=13, tm_hour=16, tm_min=31, tm_sec=52, tm_wday=3, tm_yday=103, tm_isdst=1)\n",
      "16:31:52\n"
     ]
    }
   ],
   "source": [
    "#getting time from time module\n",
    "import time\n",
    "\n",
    "t = time.localtime()\n",
    "print(t) #timestruct\n",
    "current_time = time.strftime('%H:%M:%S', t) #formatting the time using strftime\n",
    "print(current_time)"
   ]
  },
  {
   "cell_type": "markdown",
   "id": "0994cf46",
   "metadata": {},
   "source": [
    "#### More on time module \n",
    "    The time module in Python provides functions for handling time-related tasks. The time-related tasks includes,\n",
    "\n",
    "                    - reading the current time\n",
    "                    - formatting time\n",
    "                    - sleeping for a specified number of seconds and so on.\n",
    "                    \n",
    "#### Python time.time() Function\n",
    "    In Python, the time() function returns the number of seconds passed since epoch (the point where time begins).\n",
    "\n",
    "    For the Unix system, January 1, 1970, 00:00:00 at UTC is epoch.\n",
    "    \n",
    "    In the below example, we have used the time.time() function to get the current time in seconds since the epoch, and then printed the result."
   ]
  },
  {
   "cell_type": "code",
   "execution_count": 240,
   "id": "b54006f3",
   "metadata": {},
   "outputs": [
    {
     "name": "stdout",
     "output_type": "stream",
     "text": [
      "Seconds since epoch:  1680351420.010695\n"
     ]
    }
   ],
   "source": [
    "#time.time() to get seconds passed since epoch\n",
    "\n",
    "import time\n",
    "\n",
    "t_seconds = time.time()\n",
    "print(\"Seconds since epoch: \", t_seconds)"
   ]
  },
  {
   "cell_type": "markdown",
   "id": "ae19a569",
   "metadata": {},
   "source": [
    "#### Python time.ctime() Function\n",
    "    The time.ctime() function in Python takes seconds passed since epoch(timestamp) as an argument and returns a string representing local time.\n",
    "    \n",
    "    Below here, we have used the time.ctime() function to convert the time in seconds since the epoch to a readable format, and then printed the result."
   ]
  },
  {
   "cell_type": "code",
   "execution_count": 242,
   "id": "91b6c040",
   "metadata": {},
   "outputs": [
    {
     "name": "stdout",
     "output_type": "stream",
     "text": [
      "localtime:  Sat Apr  1 14:17:00 2023\n"
     ]
    }
   ],
   "source": [
    "#time.ctime() to get local time from timestamp \n",
    "import time\n",
    "\n",
    "# # convert the time in seconds since the epoch to a readable format\n",
    "localtime = time.ctime(1680351420.010695)\n",
    "print(\"localtime: \", localtime)"
   ]
  },
  {
   "cell_type": "markdown",
   "id": "c854a04f",
   "metadata": {},
   "source": [
    "#### time.perf_counter()\n",
    "    The perf_counter() function always returns the float value of time in seconds.\n",
    "    \n",
    "    Return the value (in fractional seconds) of a performance counter, i.e. a clock with the highest available resolution to measure a short duration. It does include time elapsed during sleep and is system-wide"
   ]
  },
  {
   "cell_type": "code",
   "execution_count": 276,
   "id": "c980c2d1",
   "metadata": {},
   "outputs": [
    {
     "name": "stdout",
     "output_type": "stream",
     "text": [
      "2 3\n",
      "n 2\n",
      "m 3\n",
      "3\n",
      "3\n",
      "3\n",
      "3\n",
      "Elapsed time in seconds: 189245.4919742 189242.8993675\n",
      "Elapsed time during the whole program in seconds: 2.592606699996395\n"
     ]
    }
   ],
   "source": [
    "#time.perf_counter()\n",
    "# Python program to show time by perf_counter()\n",
    "from time import perf_counter\n",
    " \n",
    "# take 2 inputs from user in a single line\n",
    "n, m = map(int, input().split())\n",
    "\n",
    "print(\"n\", n)\n",
    "print(\"m\", m)\n",
    "\n",
    "# Start the stopwatch / counter\n",
    "t1_start = perf_counter()\n",
    " \n",
    "for i in range(n):\n",
    "    t = int(input()) # take i/p from user until n times\n",
    "    if t % m == 0:\n",
    "        print(t)\n",
    "\n",
    "# Stop the stopwatch / counter\n",
    "t1_stop = perf_counter()\n",
    " \n",
    "print(\"Elapsed time in seconds:\", t1_stop, t1_start)\n",
    "print(\"Elapsed time during the whole program in seconds:\", t1_stop-t1_start)"
   ]
  },
  {
   "cell_type": "markdown",
   "id": "2a331280",
   "metadata": {},
   "source": [
    "#### Python time.sleep() Function\n",
    "    The sleep() function suspends (delays) execution of the current thread for the given number of seconds. This is more useful when dealing with multithreading.\n",
    "    \n",
    "    Before Python 3.5, the actual suspension time may be less than the argument specified to the time() function. Since Python 3.5, the suspension time will be at least the seconds specified.\n",
    "    \n",
    "    Below code works like this:\n",
    "        \"Printed immediately\" is printed\n",
    "        time.sleep(2.4) suspends execution for 2.4 seconds.\n",
    "        \"Printing after sleeping for 2.4 seconds\" is printed"
   ]
  },
  {
   "cell_type": "code",
   "execution_count": 243,
   "id": "c2a29db3",
   "metadata": {},
   "outputs": [
    {
     "name": "stdout",
     "output_type": "stream",
     "text": [
      "Print Immediately\n",
      "Printing after sleeping for 2.4 seconds\n"
     ]
    }
   ],
   "source": [
    "#time.sleep()\n",
    "import time\n",
    "\n",
    "print(\"Print Immediately\")\n",
    "time.sleep(2.4)\n",
    "print(\"Printing after sleeping for 2.4 seconds\")"
   ]
  },
  {
   "cell_type": "code",
   "execution_count": 261,
   "id": "3a62041f",
   "metadata": {},
   "outputs": [
    {
     "name": "stdout",
     "output_type": "stream",
     "text": [
      "02:56:15 PM\n",
      "02:56:16 PM\n",
      "02:56:17 PM\n",
      "02:56:18 PM\n",
      "02:56:19 PM\n",
      "02:56:20 PM\n",
      "02:56:21 PM\n",
      "02:56:22 PM\n",
      "02:56:23 PM\n",
      "02:56:24 PM\n",
      "02:56:25 PM\n"
     ]
    }
   ],
   "source": [
    "# Create a Digital Clock in Python with time.sleep()\n",
    "import time\n",
    "\n",
    "count = 0\n",
    "while count <= 10:\n",
    "    count+=1\n",
    "    t = time.localtime()\n",
    "    print(time.strftime('%I:%M:%S %p', t))\n",
    "    time.sleep(1)\n",
    "\n",
    "#Here we computed and printed the current local time inside the while loop of 10 loops.\n",
    "#Then, the program waits for 1 second. Again, the current local time is computed and printed. This process goes on."
   ]
  },
  {
   "cell_type": "markdown",
   "id": "ac30c738",
   "metadata": {},
   "source": [
    "#### Multithreading in Python with time.sleep():\n",
    "\n",
    "    Before talking about the sleep() method in multithreaded programs, let's talk about processes and threads.\n",
    "\n",
    "        A computer program is a collection of instructions. A process is the execution of those instructions after loading into the memory. A process does not share its memory with other processes. A thread is a subset of the process i.e  A thread is an execution unit within a process. Multiple threads run in a process and share the process’s memory space with each other. In other words, a process can have one or more threads. (See more about it in Notebook 19)\n",
    "      \n",
    "      Below is an example of a multithreaded Python program. It has two threads t1 and t2. These threads are run using t1.start() and t2.start() statements. Note that, t1 and t2 run concurrently and we might get different outputs."
   ]
  },
  {
   "cell_type": "code",
   "execution_count": 277,
   "id": "93903255",
   "metadata": {},
   "outputs": [
    {
     "name": "stdout",
     "output_type": "stream",
     "text": [
      "Hello\n",
      "Hello\n",
      "Hello\n",
      "Hi\n",
      "Hi\n",
      "Hi\n"
     ]
    }
   ],
   "source": [
    "#multithreading with threading.Thread(target=func)\n",
    "import time\n",
    "import threading\n",
    "\n",
    "def print_hello_three_times():\n",
    "    for i in range(3):\n",
    "        print(\"Hello\")\n",
    "\n",
    "def print_hi_three_times(): \n",
    "    for i in range(3): \n",
    "        print(\"Hi\")\n",
    "        \n",
    "t1 = threading.Thread(target=print_hello_three_times)\n",
    "t2 = threading.Thread(target=print_hi_three_times)\n",
    "\n",
    "t1.start()\n",
    "t2.start()"
   ]
  },
  {
   "cell_type": "markdown",
   "id": "5fc65637",
   "metadata": {},
   "source": [
    "#### Python time.sleep() in multithreaded programs\n",
    "    In case of single-threaded programs, sleep() suspends execution of the thread and process. However, the sleep() method suspends a thread rather than the whole process in multithreaded programs.\n",
    "    The below program has two threads. We have used time.sleep(0.5) and time.sleep(0.7) to suspend execution of these two threads for 0.5 seconds and 0.7 seconds respectively."
   ]
  },
  {
   "cell_type": "code",
   "execution_count": 280,
   "id": "d15bd8a6",
   "metadata": {},
   "outputs": [
    {
     "name": "stdout",
     "output_type": "stream",
     "text": [
      "Hello\n",
      "Hi\n",
      "Hello\n",
      "Hi\n",
      "Hello\n",
      "Hello\n",
      "Hi\n",
      "Hi\n"
     ]
    }
   ],
   "source": [
    "#multithreading with threading.Thread(target=func) and time.sleep(secs)\n",
    "import time\n",
    "import threading\n",
    "\n",
    "def print_4_times_hello():\n",
    "    for i in range(4):\n",
    "        time.sleep(0.5)\n",
    "        print(\"Hello\")\n",
    "        \n",
    "def print_4_times_hi():\n",
    "    for i in range(4):\n",
    "        time.sleep(0.7)\n",
    "        print(\"Hi\")\n",
    "        \n",
    "t1 = threading.Thread(target=print_4_times_hello)\n",
    "t2 = threading.Thread(target=print_4_times_hi)\n",
    "\n",
    "t1.start()\n",
    "t2.start()"
   ]
  },
  {
   "cell_type": "markdown",
   "id": "5f1d538a",
   "metadata": {},
   "source": [
    "#### Python time.localtime() Function\n",
    "    The localtime() function takes the number of seconds passed since epoch as an argument and returns struct_time (a tuple containing 9 elements corresponding to struct_time) in local time.\n",
    "    \n",
    "    If no argument or None is passed to localtime(), the value returned by time() is used."
   ]
  },
  {
   "cell_type": "code",
   "execution_count": 248,
   "id": "d53ec12d",
   "metadata": {},
   "outputs": [
    {
     "name": "stdout",
     "output_type": "stream",
     "text": [
      "local time struct: time.struct_time(tm_year=2023, tm_mon=4, tm_mday=1, tm_hour=14, tm_min=17, tm_sec=0, tm_wday=5, tm_yday=91, tm_isdst=1)\n",
      "year:  2023\n",
      "weekday:  5\n"
     ]
    }
   ],
   "source": [
    "#time.localtime()\n",
    "import time\n",
    "\n",
    "localtime = time.localtime(1680351420.010695)\n",
    "print(\"local time struct:\", localtime, end=\"\\n\")\n",
    "print(\"year: \", localtime.tm_year)\n",
    "print(\"weekday: \", localtime.tm_wday)"
   ]
  },
  {
   "cell_type": "markdown",
   "id": "89c35958",
   "metadata": {},
   "source": [
    "#### Python time.gmtime() Function\n",
    "    The gmtime() function takes the number of seconds passed since epoch as an argument and returns struct_time(time tuple) in UTC.\n",
    "    \n",
    "    If no argument or None is passed to gmtime(), the value returned by time() is used."
   ]
  },
  {
   "cell_type": "code",
   "execution_count": 249,
   "id": "664d1810",
   "metadata": {},
   "outputs": [
    {
     "name": "stdout",
     "output_type": "stream",
     "text": [
      "UTC time struct: time.struct_time(tm_year=2023, tm_mon=4, tm_mday=1, tm_hour=12, tm_min=17, tm_sec=0, tm_wday=5, tm_yday=91, tm_isdst=0)\n",
      "year:  2023\n",
      "weekday:  12\n"
     ]
    }
   ],
   "source": [
    "#time.gmtime()\n",
    "import time\n",
    "\n",
    "gmtime = time.gmtime(1680351420.010695)\n",
    "print(\"UTC time struct:\", gmtime, end=\"\\n\")\n",
    "print(\"year: \", gmtime.tm_year)\n",
    "print(\"weekday: \", gmtime.tm_hour)"
   ]
  },
  {
   "cell_type": "markdown",
   "id": "38051b10",
   "metadata": {},
   "source": [
    "#### Python time.mktime() Function\n",
    "    The mktime() function takes struct_time (a tuple containing 9 elements corresponding to struct_time) as an argument and returns the seconds passed since epoch in local time.\n",
    "\n",
    "    The struct_time has the following structure:\n",
    "    \n",
    "        (year, month, day, hour, minute, second, weekday, day of the year, daylight saving)"
   ]
  },
  {
   "cell_type": "code",
   "execution_count": 252,
   "id": "845690fe",
   "metadata": {},
   "outputs": [
    {
     "name": "stdout",
     "output_type": "stream",
     "text": [
      "1672213444.0\n"
     ]
    }
   ],
   "source": [
    "#time.mktime()\n",
    "import time\n",
    "\n",
    "time_tuple = (2022, 12, 28, 8, 44, 4, 4, 362, 0)\n",
    "\n",
    "# convert time_tuple to seconds since epoch\n",
    "seconds = time.mktime(time_tuple)\n",
    "\n",
    "print(seconds)\n",
    "#Here, we have converted the time_tuple to seconds since the epoch."
   ]
  },
  {
   "cell_type": "markdown",
   "id": "c51d43e5",
   "metadata": {},
   "source": [
    "#### Python time.asctime() Function\n",
    "    In Python, the asctime() function takes struct_time as an argument and returns a string representing it.\n",
    "\n",
    "    Similar to mktime(), the time_tuple has the following structure:\n",
    "    \n",
    "    (year, month, day, hour, minute, second, weekday, day of the year, daylight saving)"
   ]
  },
  {
   "cell_type": "code",
   "execution_count": 253,
   "id": "92564f47",
   "metadata": {},
   "outputs": [
    {
     "name": "stdout",
     "output_type": "stream",
     "text": [
      "Fri Dec 28 08:44:04 2022\n"
     ]
    }
   ],
   "source": [
    "#time.asctime()\n",
    "import time\n",
    "\n",
    "time_tuple = (2022, 12, 28, 8, 44, 4, 4, 362, 0)\n",
    "\n",
    "# convert time_tuple to string\n",
    "seconds = time.asctime(time_tuple)\n",
    "\n",
    "print(seconds)\n",
    "#Here, we have converted the time_tuple to string."
   ]
  },
  {
   "cell_type": "markdown",
   "id": "73b3178c",
   "metadata": {},
   "source": [
    "#### Python time.strftime() Function\n",
    "    The strftime() function takes struct_time (or tuple corresponding to it) as an argument and returns a string representing it based on the format code used."
   ]
  },
  {
   "cell_type": "code",
   "execution_count": 255,
   "id": "fc0b218e",
   "metadata": {},
   "outputs": [
    {
     "name": "stdout",
     "output_type": "stream",
     "text": [
      "current time formatted with strftime:  12:45:27\n"
     ]
    }
   ],
   "source": [
    "#time.strftime() with time.gmtime()\n",
    "\n",
    "import time\n",
    "\n",
    "currtime = time.gmtime()\n",
    "print(\"current time formatted with strftime: \", time.strftime('%H:%M:%S', currtime))"
   ]
  },
  {
   "cell_type": "code",
   "execution_count": 258,
   "id": "5161159b",
   "metadata": {},
   "outputs": [
    {
     "name": "stdout",
     "output_type": "stream",
     "text": [
      "current time formatted with strftime:  04/01/2023, 14:47:48\n"
     ]
    }
   ],
   "source": [
    "#time.strftime() with time.localtime()\n",
    "\n",
    "import time\n",
    "\n",
    "currtime = time.localtime() #get struct time\n",
    "print(\"current time formatted with strftime: \", time.strftime('%m/%d/%Y, %H:%M:%S', currtime))"
   ]
  },
  {
   "cell_type": "code",
   "execution_count": 257,
   "id": "5e4f8bef",
   "metadata": {},
   "outputs": [
    {
     "ename": "TypeError",
     "evalue": "Tuple or struct_time argument required",
     "output_type": "error",
     "traceback": [
      "\u001b[1;31m---------------------------------------------------------------------------\u001b[0m",
      "\u001b[1;31mTypeError\u001b[0m                                 Traceback (most recent call last)",
      "Input \u001b[1;32mIn [257]\u001b[0m, in \u001b[0;36m<cell line: 6>\u001b[1;34m()\u001b[0m\n\u001b[0;32m      3\u001b[0m \u001b[38;5;28;01mimport\u001b[39;00m \u001b[38;5;21;01mtime\u001b[39;00m\n\u001b[0;32m      5\u001b[0m currtime \u001b[38;5;241m=\u001b[39m time\u001b[38;5;241m.\u001b[39mtime()\n\u001b[1;32m----> 6\u001b[0m \u001b[38;5;28mprint\u001b[39m(\u001b[38;5;124m\"\u001b[39m\u001b[38;5;124mcurrent time formatted with strftime: \u001b[39m\u001b[38;5;124m\"\u001b[39m, \u001b[43mtime\u001b[49m\u001b[38;5;241;43m.\u001b[39;49m\u001b[43mstrftime\u001b[49m\u001b[43m(\u001b[49m\u001b[38;5;124;43m'\u001b[39;49m\u001b[38;5;124;43m%\u001b[39;49m\u001b[38;5;124;43mH:\u001b[39;49m\u001b[38;5;124;43m%\u001b[39;49m\u001b[38;5;124;43mM:\u001b[39;49m\u001b[38;5;124;43m%\u001b[39;49m\u001b[38;5;124;43mS\u001b[39;49m\u001b[38;5;124;43m'\u001b[39;49m\u001b[43m,\u001b[49m\u001b[43m \u001b[49m\u001b[43mcurrtime\u001b[49m\u001b[43m)\u001b[49m)\n",
      "\u001b[1;31mTypeError\u001b[0m: Tuple or struct_time argument required"
     ]
    }
   ],
   "source": [
    "#time.strftime() with time.time() returns error as strftime needs tuple or structtime\n",
    "\n",
    "import time\n",
    "\n",
    "currtime = time.time()\n",
    "print(\"current time formatted with strftime: \", time.strftime('%H:%M:%S', currtime))"
   ]
  },
  {
   "cell_type": "markdown",
   "id": "894933d9",
   "metadata": {},
   "source": [
    "#### Python time.strptime() Function\n",
    "    The strptime() function parses a string representing time and returns struct_time."
   ]
  },
  {
   "cell_type": "code",
   "execution_count": 259,
   "id": "9a3ef75a",
   "metadata": {},
   "outputs": [
    {
     "name": "stdout",
     "output_type": "stream",
     "text": [
      "time.struct_time(tm_year=2023, tm_mon=7, tm_mday=14, tm_hour=0, tm_min=0, tm_sec=0, tm_wday=4, tm_yday=195, tm_isdst=-1)\n"
     ]
    }
   ],
   "source": [
    "#time.strptime()\n",
    "import time\n",
    "\n",
    "time_string = \"14 July, 2023\"\n",
    "result = time.strptime(time_string, \"%d %B, %Y\") #returns struct time #format should match the string\n",
    "\n",
    "print(result)"
   ]
  },
  {
   "cell_type": "markdown",
   "id": "4b780ca9",
   "metadata": {},
   "source": [
    "#### Collections module\n",
    "    This module implements specialized container datatypes providing alternatives to Python’s general purpose built-in containers, dict, list, set, and tuple to approach specific programming problems in a Pythonic and efficient way. The module also provides wrapper classes that make it safer to create custom classes that behave similar to the built-in types dict, list, and str. Learning about the data types and classes in collections will allow you to grow your programming tool kit with a valuable set of reliable and efficient tools.\n",
    "\n",
    "    namedtuple()- A factory function for creating tuple subclasses with named fields that allow accessing items by name while keeping the ability to access items by index\n",
    "    deque       - list-like container that supports efficient fast appends and pops of items from either end of the sequence.\n",
    "    ChainMap    - A dictionary-like class that allows treating a number of mappings as a single dictionary object\n",
    "    Counter     - A dictionary subclass that supports convenient counting of unique items in a sequence or iterable\n",
    "    OrderedDict - A dictionary subclass that keeps the key-value pairs of a dict ordered according to when the keys are inserted\n",
    "    defaultdict - dictionary subclass for constructing default values for missing keys and automatically adding them to the dict\n",
    "    \n",
    "    UserDict    - wrapper around dictionary objects for easier dict(standard built-in data type) subclassing\n",
    "    UserList    - wrapper around list objects for easier (standard built-in data type) subclassing\n",
    "    UserString  - wrapper around string objects for easier string(standard built-in data type) subclassing\n",
    "    \n",
    "        The need for the last 3 wrapper classes was partially eclipsed by the ability to subclass the corresponding standard built-in data types. However, sometimes using these classes is safer and less error-prone than using standard data types.\n",
    "    \n",
    "    Below we ll use the collections datatypes to:\n",
    "                    > Write readable and explicit code with namedtuple\n",
    "                    > Build efficient queues and stacks with deque\n",
    "                    > Count objects quickly with Counter\n",
    "                    > Handle missing dictionary keys with defaultdict\n",
    "                    > Guarantee the insertion order of keys with OrderedDict\n",
    "                    > Manage multiple dictionaries as a single unit with ChainMap\n",
    "\n",
    "#### namedtuple() :  Improving Code Readability\n",
    "    Python’s namedtuple() is a factory function that allows you to create tuple subclasses with named fields. These fields give you direct access to the values in a given named tuple using the dot notation, like in obj.attr.\n",
    "\n",
    "    The need for this feature arose because using indices to access the values in a regular tuple is annoying, difficult to read, and error-prone. This is especially true if the tuple you’re working with has several items and is constructed far away from where you’re using it.\n",
    "    \n",
    "    A tuple subclass with named fields that developers can access with the dot notation seemed like a desirable feature back in Python 2.6. That’s the origin of namedtuple(). The tuple subclasses you can build with this function are a big win in code readability if you compare them with regular tuples.\n",
    "\n",
    "    To put the code readability problem in perspective, consider divmod(). This built-in function takes two (non-complex) numbers and returns a tuple with the quotient and remainder that result from the integer division of the input values"
   ]
  },
  {
   "cell_type": "code",
   "execution_count": 281,
   "id": "21747c10",
   "metadata": {},
   "outputs": [
    {
     "data": {
      "text/plain": [
       "(2, 0)"
      ]
     },
     "execution_count": 281,
     "metadata": {},
     "output_type": "execute_result"
    }
   ],
   "source": [
    "#divmod\n",
    "divmod(12, 6)"
   ]
  },
  {
   "cell_type": "markdown",
   "id": "0d882c44",
   "metadata": {},
   "source": [
    "    divmod() worked nicely. However, is this result readable? Can you tell what the meaning of each number in the output is? Fortunately, Python offers a way to improve this. You can code a custom version of divmod() with an explicit result using namedtuple.\n",
    "    \n",
    "    To create new tuple subclass using namedtuple(), you need two required arguments:\n",
    "\n",
    "        - typename is the name of the class you’re creating. It must be a string with a valid Python identifier.\n",
    "        - field_names is the list of field names you’ll use to access the items in the resulting tuple. It can be:\n",
    "               > An iterable of strings, such as [\"field1\", \"field2\", ..., \"fieldN\"]\n",
    "               > A string with whitespace-separated field names, such as \"field1 field2 ... fieldN\"\n",
    "               > A string with comma-separated field names, such as \"field1, field2, ..., fieldN\"\n",
    "               \n",
    "     By using named tuple like below, now we ll know the meaning of each value in the result of divmod(). We can also access each independent value using the dot notation and a descriptive field name."
   ]
  },
  {
   "cell_type": "code",
   "execution_count": 291,
   "id": "b1495909",
   "metadata": {},
   "outputs": [
    {
     "name": "stdout",
     "output_type": "stream",
     "text": [
      "Divmod(quotient=2, remainder=0)\n",
      "2\n",
      "0\n",
      "2\n"
     ]
    }
   ],
   "source": [
    "#custom divmod() using namedtuple()\n",
    "from collections import namedtuple\n",
    "\n",
    "def custom_divmod(x, y):\n",
    "    Divmodobj = namedtuple(typename=\"Divmod\", field_names=\"quotient remainder\")\n",
    "    return Divmodobj(*divmod(x, y))\n",
    "\n",
    "result = custom_divmod(12, 6)\n",
    "print(result) #returns the named tuple result of divmod() ot type subclass Divmod.output is assigned with given field names of subclass Divmod\n",
    "print(result.quotient) #accessing the tuple with field names\n",
    "print(result.remainder)\n",
    "print(result[0]) #accessing using index"
   ]
  },
  {
   "cell_type": "code",
   "execution_count": 289,
   "id": "50a26aad",
   "metadata": {},
   "outputs": [
    {
     "name": "stdout",
     "output_type": "stream",
     "text": [
      "Point(x=2, y=7)\n",
      "2\n",
      "7\n"
     ]
    }
   ],
   "source": [
    "#create a sample 2D Point with two coordinates (x and y) using namedtuple()\n",
    "#fieldnames with iterable of strings\n",
    "\n",
    "from collections import namedtuple\n",
    "\n",
    "Point = namedtuple(\"Point\", ['x', 'y'])\n",
    "coord = Point(2, 7)\n",
    "print(coord)\n",
    "print(coord.x)\n",
    "print(coord.y)"
   ]
  },
  {
   "cell_type": "code",
   "execution_count": 292,
   "id": "d34088c2",
   "metadata": {},
   "outputs": [
    {
     "name": "stdout",
     "output_type": "stream",
     "text": [
      "Point(x=2, y=7)\n",
      "2\n",
      "7\n"
     ]
    }
   ],
   "source": [
    "#namedtuple() with fieldnames from a generator expression\n",
    "from collections import namedtuple\n",
    "\n",
    "Point = namedtuple('Point', (coord for coord in \"xy\"))\n",
    "point = Point(2, 7)\n",
    "print(point)\n",
    "print(point.x)\n",
    "print(point[1])"
   ]
  },
  {
   "cell_type": "code",
   "execution_count": 293,
   "id": "d9e1741e",
   "metadata": {},
   "outputs": [
    {
     "name": "stdout",
     "output_type": "stream",
     "text": [
      "Point(x=2, y=7)\n",
      "2\n",
      "7\n"
     ]
    }
   ],
   "source": [
    "#namedtuple() with fieldnames from a string with comma-separated field names\n",
    "from collections import namedtuple\n",
    "\n",
    "Point = namedtuple('Point', \"x, y\")\n",
    "point = Point(2, 7)\n",
    "print(point)\n",
    "print(point.x)\n",
    "print(point[1])"
   ]
  },
  {
   "cell_type": "markdown",
   "id": "f92e1f99",
   "metadata": {},
   "source": [
    "    In the above examples, you first create Point using a list of field names. Then you instantiate Point to make a point object. Note that you can access x and y by field name and also by index. All these examples show how to create an equivalent named tuple with a string of comma-separated field names, a generator expression, and a string of space-separated field names.\n",
    "\n",
    "    Named tuples also provide a bunch of cool features that allow you to define default values for your fields, create a dictionary from a given named tuple, replace the value of a given field, and more"
   ]
  },
  {
   "cell_type": "code",
   "execution_count": 299,
   "id": "96a91fd9",
   "metadata": {},
   "outputs": [
    {
     "name": "stdout",
     "output_type": "stream",
     "text": [
      "Person(name='Emily', job='Python Developer')\n",
      "Emily\n",
      "Python Developer\n",
      "{'name': 'Emily', 'job': 'Python Developer'}\n",
      "Person(name='Emily', job='Python Developer')\n",
      "Person(name='Emily', job='Web Developer')\n"
     ]
    }
   ],
   "source": [
    "#namedtuple() with defaults, ._asdict(), ._replace()\n",
    "from collections import namedtuple\n",
    "\n",
    "# Define default values for fields\n",
    "Person = namedtuple(\"Person\", \"name job\", defaults=[\"Python Developer\"])\n",
    "ppl = Person('Emily')\n",
    "print(ppl)\n",
    "print(ppl.name)\n",
    "print(ppl.job)\n",
    "\n",
    "# Create a dictionary from a named tuple\n",
    "print(ppl._asdict())\n",
    "\n",
    "# Replace the value of a field\n",
    "ppl_updated = ppl._replace(job=\"Web Developer\")\n",
    "print(ppl)\n",
    "print(ppl_updated)"
   ]
  },
  {
   "cell_type": "markdown",
   "id": "b957a809",
   "metadata": {},
   "source": [
    "    Above, we first create a Person class using namedtuple(). This time, you use an optional argument called defaults that accepts a sequence of default values for the tuple’s fields. Note that namedtuple() applies the default values to the rightmost fields.\n",
    "    \n",
    "    In the second example, you create a dictionary from an existing named tuple using ._asdict(). This method returns a new dictionary that uses the field names as keys.\n",
    "\n",
    "    Finally, you use ._replace() to replace the original value of job. This method doesn’t update the tuple in place but returns a new named tuple with the new value stored in the corresponding field."
   ]
  },
  {
   "cell_type": "markdown",
   "id": "acda3f31",
   "metadata": {},
   "source": [
    "#### Deque: Building Efficient Queues and Stacks\n",
    "    Initially, collections only included one data structure, deque, which was specially designed as a \"double-ended queue\" that \"supports efficient append and pop operations on either end of the sequence\". From this point on, several modules in the standard library took advantage of deque to improve the performance of their classes and structures. Some outstanding examples are queue and threading.\n",
    "    \n",
    "    This sequence-like data type is a generalization of stacks and queues designed to support memory-efficient and fast append and pop operations on both ends of the data structure.\n",
    "\n",
    "    Note: The word deque is pronounced \"deck\" and stands for double-ended queue.\n",
    "    \n",
    "    In Python, append and pop operations on the beginning or left side of list objects are inefficient, with O(n) time complexity. These operations are especially expensive if you’re working with large lists because Python has to move all the items to the right to insert new items at the beginning of the list.\n",
    "\n",
    "    On the other hand, append and pop operations on the right side of a list are normally efficient (O(1)) except for those cases in which Python needs to reallocate memory to grow the underlying list for accepting new items.\n",
    "\n",
    "    Python’s deque was created to overcome this problem. Append and pop operations on both sides of a deque object are stable and equally efficient because deques are implemented as a doubly linked list. That’s why deques are particularly useful for creating stacks and queues.\n",
    "\n",
    "    Take a queue as an example. It manages items in a First-In/First-Out (FIFO) fashion. It works as a pipe, where you push in new items at one end of the pipe and pop old items out from the other end. Adding an item to the end of a queue is known as an enqueue operation. Removing an item from the front or beginning of a queue is called dequeue.\n",
    "    \n",
    "    Now say you’re modeling a queue of people waiting to buy tickets to a movie. You can do that with a deque. Every time a new person arrives, you enqueue them. When the person at the front of the queue gets their tickets, you dequeue them.\n",
    "    \n",
    "    Here’s how we can emulate the process using a deque object. We first create an empty deque object to represent the queue of people. To enqueue a person, you can use .append(), which adds items to the right end of a deque. To dequeue a person, you use .popleft(), which removes and returns items on the left end of a deque"
   ]
  },
  {
   "cell_type": "code",
   "execution_count": 311,
   "id": "680cf749",
   "metadata": {},
   "outputs": [
    {
     "name": "stdout",
     "output_type": "stream",
     "text": [
      "deque([])\n",
      "deque(['John', 'Jane'])\n",
      "deque(['John', 'Jane', 'Jack'])\n",
      "deque(['Jill', 'John', 'Jane', 'Jack'])\n",
      "deque(['Jill', 'John', 'Jane'])\n",
      "deque(['John', 'Jane'])\n",
      "deque(['John', 'Jane', 'Joy', 'Jerry'])\n",
      "deque(['Jade', 'Jimin', 'John', 'Jane', 'Joy', 'Jerry'])\n"
     ]
    }
   ],
   "source": [
    "#deque() - building ticket queue\n",
    "from collections import deque\n",
    "\n",
    "#creating an empty queue\n",
    "ticketqueue = deque()\n",
    "print(ticketqueue)\n",
    "\n",
    "#append(elem) appends the element to the right end of the queue\n",
    "ticketqueue.append('John')\n",
    "ticketqueue.append('Jane')\n",
    "print(ticketqueue)\n",
    "ticketqueue.append('Jack')\n",
    "\n",
    "print(ticketqueue)\n",
    "\n",
    "#appendleft(elem) append the element at the left\n",
    "ticketqueue.appendleft('Jill')\n",
    "print(ticketqueue)\n",
    "\n",
    "#pop() - popping the person from the queue after buying the ticket from right end\n",
    "#note pop with index like in lists, pop from an empty deck will throw an error in deque\n",
    "ticketqueue.pop()\n",
    "print(ticketqueue)\n",
    "\n",
    "#popleft() - popping the person from the queue after buying the ticket from left end\n",
    "ticketqueue.popleft()\n",
    "print(ticketqueue)\n",
    "\n",
    "#extend() - appending multiple persons to the queue from right end\n",
    "ticketqueue.extend(['Joy', 'Jerry'])\n",
    "print(ticketqueue)\n",
    "\n",
    "#extendleft() - appending multiple persons to the queue from left end\n",
    "ticketqueue.extendleft(['Jimin', 'Jade'])\n",
    "print(ticketqueue)"
   ]
  },
  {
   "cell_type": "markdown",
   "id": "9c485966",
   "metadata": {},
   "source": [
    "    -------------------------------------------------------------------------------------------------------------\n",
    "    The deque initializer takes two optional arguments:\n",
    "\n",
    "            - iterable holds an iterable that serves as an initializer.\n",
    "            - maxlen holds an integer number that specifies the maximum length of the deque.\n",
    "\n",
    "    If you don’t provide an iterable, then you get an empty deque. If you supply a value to maxlen, then your deque will only store up to maxlen items.\n",
    "\n",
    "    Having a maxlen is a handy feature. For example, say you need to implement a list of recent files in one of your applications. In that case, you can do the following:\n",
    "    ........................................................................................................\n",
    "            >>> from collections import deque\n",
    "            >>> recent_files = deque([\"core.py\", \"README.md\", \"__init__.py\"], maxlen=3)\n",
    "            >>> recent_files.appendleft(\"database.py\")\n",
    "            \n",
    "            >>> recent_files\n",
    "                deque(['database.py', 'core.py', 'README.md'], maxlen=3)\n",
    "            \n",
    "            >>> recent_files.appendleft(\"requirements.txt\")\n",
    "            >>> recent_files\n",
    "                deque(['requirements.txt', 'database.py', 'core.py'], maxlen=3)\n",
    "     ........................................................................................................\n",
    "     \n",
    "      Once the deque reaches its maximum size (three files in this case), adding a new file on an end of the deque automatically discards the file at the opposite end. If you don’t supply a value to maxlen, then the deque can grow to an arbitrary number of items.\n",
    "      \n",
    "      Note that deque provides sister methods for .append(), .pop(), and .extend() with the suffix left to indicate that they perform the corresponding operation on the left end of the underlying deque.\n",
    "      \n",
    "      Deques also support sequence operations:\n",
    "\n",
    "            Method\tDescription\n",
    "            .clear()\tRemove all the elements from a deque\n",
    "            .copy()\tCreate a shallow copy of a deque\n",
    "            .count(x)\tCount the number of deque elements equal to x\n",
    "            .remove(value)\tRemove the first occurrence of value\n",
    "\n",
    "    So far, we’ve learned the basics of deques, including how to create them and how to append and pop items from both ends of a given deque. Deques provide some additional features with a list-like interface. Here are some of them:"
   ]
  },
  {
   "cell_type": "code",
   "execution_count": 312,
   "id": "0358f718",
   "metadata": {},
   "outputs": [
    {
     "name": "stdout",
     "output_type": "stream",
     "text": [
      "dq_tuple deque([1, 2, 3, 4])\n",
      "dq_list deque([1, 2, 3, 4])\n",
      "dq_string deque(['a', 'b', 'c', 'd'])\n",
      "dq of numbers with extend deque([1, 2, 3, 4, 5])\n",
      "dq of numbers with extendleft deque([-5, -4, -3, -2, -1, 1, 2, 3, 4, 5])\n",
      "dq of numbers with insert at position 5 deque([-5, -4, -3, -2, -1, 0, 1, 2, 3, 4, 5])\n"
     ]
    },
    {
     "ename": "TypeError",
     "evalue": "pop() takes no arguments (1 given)",
     "output_type": "error",
     "traceback": [
      "\u001b[1;31m---------------------------------------------------------------------------\u001b[0m",
      "\u001b[1;31mTypeError\u001b[0m                                 Traceback (most recent call last)",
      "Input \u001b[1;32mIn [312]\u001b[0m, in \u001b[0;36m<cell line: 27>\u001b[1;34m()\u001b[0m\n\u001b[0;32m     24\u001b[0m \u001b[38;5;28mprint\u001b[39m(\u001b[38;5;124m\"\u001b[39m\u001b[38;5;124mdq of numbers with insert at position 5\u001b[39m\u001b[38;5;124m\"\u001b[39m, numbers)\n\u001b[0;32m     26\u001b[0m \u001b[38;5;66;03m# Unlike lists, deque doesn't support .pop() with arbitrary indices\u001b[39;00m\n\u001b[1;32m---> 27\u001b[0m \u001b[43mdeque\u001b[49m\u001b[43m(\u001b[49m\u001b[38;5;124;43m\"\u001b[39;49m\u001b[38;5;124;43mabcd\u001b[39;49m\u001b[38;5;124;43m\"\u001b[39;49m\u001b[43m)\u001b[49m\u001b[38;5;241;43m.\u001b[39;49m\u001b[43mpop\u001b[49m\u001b[43m(\u001b[49m\u001b[38;5;241;43m2\u001b[39;49m\u001b[43m)\u001b[49m\n",
      "\u001b[1;31mTypeError\u001b[0m: pop() takes no arguments (1 given)"
     ]
    }
   ],
   "source": [
    "#deque() - additional features\n",
    "from collections import deque\n",
    "\n",
    "# Use different iterables to create deques\n",
    "dq_tuple = deque((1, 2, 3, 4))\n",
    "print(\"dq_tuple\", dq_tuple)\n",
    "\n",
    "dq_list = deque([1, 2, 3, 4])\n",
    "print(\"dq_list\", dq_list)\n",
    "\n",
    "dq_string = deque(\"abcd\")\n",
    "print(\"dq_string\", dq_string)\n",
    "\n",
    "# Extend an existing deque\n",
    "numbers = deque([1, 2])\n",
    "numbers.extend([3, 4, 5])\n",
    "print(\"dq of numbers with extend\", numbers)\n",
    "\n",
    "numbers.extendleft([-1, -2, -3, -4, -5])\n",
    "print(\"dq of numbers with extendleft\", numbers)\n",
    "\n",
    "# Insert an item at a given position\n",
    "numbers.insert(5, 0)\n",
    "print(\"dq of numbers with insert at position 5\", numbers)\n",
    "\n",
    "# Unlike lists, deque doesn't support .pop() with arbitrary indices\n",
    "deque(\"abcd\").pop(2)"
   ]
  },
  {
   "cell_type": "markdown",
   "id": "1c787193",
   "metadata": {},
   "source": [
    "    Another interesting feature of deques is the ability to rotate their elements using .rotate() inplace.\n",
    "    \n",
    "    This method rotates the deque n steps to the right. The default value of n is 1. If you provide a negative value to n, then the rotation is to the left.\n",
    "\n",
    "    Finally, you can use indices to access the elements in a deque, but you can’t slice a deque. Deques support indexing but, interestingly, they don’t support slicing. When you try to retrieve a slice from an existing deque, you get a TypeError. This is because performing a slice operation on a linked list would be inefficient, so the operation isn’t available."
   ]
  },
  {
   "cell_type": "code",
   "execution_count": 314,
   "id": "76151b29",
   "metadata": {},
   "outputs": [
    {
     "name": "stdout",
     "output_type": "stream",
     "text": [
      "deque(['third', 'first', 'second'])\n",
      "deque(['first', 'second', 'third'])\n",
      "deque(['third', 'first', 'second'])\n",
      "deque(['first', 'second', 'third'])\n",
      "second\n"
     ]
    },
    {
     "ename": "TypeError",
     "evalue": "sequence index must be integer, not 'slice'",
     "output_type": "error",
     "traceback": [
      "\u001b[1;31m---------------------------------------------------------------------------\u001b[0m",
      "\u001b[1;31mTypeError\u001b[0m                                 Traceback (most recent call last)",
      "Input \u001b[1;32mIn [314]\u001b[0m, in \u001b[0;36m<cell line: 20>\u001b[1;34m()\u001b[0m\n\u001b[0;32m     17\u001b[0m \u001b[38;5;28mprint\u001b[39m(ordinals[\u001b[38;5;241m1\u001b[39m])\n\u001b[0;32m     19\u001b[0m \u001b[38;5;66;03m#slicing throws error\u001b[39;00m\n\u001b[1;32m---> 20\u001b[0m \u001b[43mordinals\u001b[49m\u001b[43m[\u001b[49m\u001b[38;5;241;43m0\u001b[39;49m\u001b[43m:\u001b[49m\u001b[38;5;241;43m2\u001b[39;49m\u001b[43m]\u001b[49m\n",
      "\u001b[1;31mTypeError\u001b[0m: sequence index must be integer, not 'slice'"
     ]
    }
   ],
   "source": [
    "from collections import deque\n",
    "\n",
    "ordinals = deque([\"first\", \"second\", \"third\"])\n",
    "ordinals.rotate()\n",
    "print(ordinals)\n",
    "\n",
    "ordinals.rotate(2)\n",
    "print(ordinals)\n",
    "\n",
    "ordinals.rotate(-2)\n",
    "print(ordinals)\n",
    "\n",
    "ordinals.rotate(-1)\n",
    "print(ordinals)\n",
    "\n",
    "#accesing via index\n",
    "print(ordinals[1])\n",
    "\n",
    "#slicing throws error\n",
    "ordinals[0:2]"
   ]
  },
  {
   "cell_type": "markdown",
   "id": "5e3c1d85",
   "metadata": {},
   "source": [
    "#### Handling Missing Keys: defaultdict\n",
    "    A common problem you’ll face when you’re working with dictionaries in Python is how to handle missing keys. If you try to access a key that doesn’t exist in a given dictionary, then you get a KeyError"
   ]
  },
  {
   "cell_type": "code",
   "execution_count": 315,
   "id": "8f66dc6e",
   "metadata": {},
   "outputs": [
    {
     "ename": "KeyError",
     "evalue": "'fruit'",
     "output_type": "error",
     "traceback": [
      "\u001b[1;31m---------------------------------------------------------------------------\u001b[0m",
      "\u001b[1;31mKeyError\u001b[0m                                  Traceback (most recent call last)",
      "Input \u001b[1;32mIn [315]\u001b[0m, in \u001b[0;36m<cell line: 2>\u001b[1;34m()\u001b[0m\n\u001b[0;32m      1\u001b[0m favorites \u001b[38;5;241m=\u001b[39m {\u001b[38;5;124m\"\u001b[39m\u001b[38;5;124mpet\u001b[39m\u001b[38;5;124m\"\u001b[39m: \u001b[38;5;124m\"\u001b[39m\u001b[38;5;124mdog\u001b[39m\u001b[38;5;124m\"\u001b[39m, \u001b[38;5;124m\"\u001b[39m\u001b[38;5;124mcolor\u001b[39m\u001b[38;5;124m\"\u001b[39m: \u001b[38;5;124m\"\u001b[39m\u001b[38;5;124mblue\u001b[39m\u001b[38;5;124m\"\u001b[39m, \u001b[38;5;124m\"\u001b[39m\u001b[38;5;124mlanguage\u001b[39m\u001b[38;5;124m\"\u001b[39m: \u001b[38;5;124m\"\u001b[39m\u001b[38;5;124mPython\u001b[39m\u001b[38;5;124m\"\u001b[39m}\n\u001b[1;32m----> 2\u001b[0m \u001b[43mfavorites\u001b[49m\u001b[43m[\u001b[49m\u001b[38;5;124;43m'\u001b[39;49m\u001b[38;5;124;43mfruit\u001b[39;49m\u001b[38;5;124;43m'\u001b[39;49m\u001b[43m]\u001b[49m\n",
      "\u001b[1;31mKeyError\u001b[0m: 'fruit'"
     ]
    }
   ],
   "source": [
    "favorites = {\"pet\": \"dog\", \"color\": \"blue\", \"language\": \"Python\"}\n",
    "favorites['fruit']"
   ]
  },
  {
   "cell_type": "markdown",
   "id": "b85cce00",
   "metadata": {},
   "source": [
    "    -----------------------------------------------------------------------------------------------------------------\n",
    "    There are a few approaches to work around this missing key issue. \n",
    "        \n",
    "        - dict.setdefault(key, value)\n",
    "        - dict.get(key, defaultval)\n",
    "        - defaultdict from collections module\n",
    "    \n",
    "    - dict.setdefault(key, value)\n",
    "        This method takes a key as an argument. If the key exists in the dictionary, then it returns the corresponding value. Otherwise, the method inserts the key to the actual dictionary, assigns it a default value, and returns that value. While adding a key using setdefault() and when no value is provided to that key, then accessing that key returns value None."
   ]
  },
  {
   "cell_type": "code",
   "execution_count": 326,
   "id": "568b1532",
   "metadata": {},
   "outputs": [
    {
     "name": "stdout",
     "output_type": "stream",
     "text": [
      "{'pet': 'dog', 'color': 'blue', 'language': 'Python'}\n",
      "apple\n",
      "{'pet': 'dog', 'color': 'blue', 'language': 'Python', 'fruits': 'apple'}\n",
      "{'pet': 'dog', 'color': 'blue', 'language': 'Python', 'fruits': 'mango'}\n",
      "mango\n",
      "dog\n",
      "{'pet': 'dog', 'color': 'blue', 'language': 'Python', 'fruits': 'mango'}\n",
      "None\n",
      "{'pet': 'dog', 'color': 'blue', 'language': 'Python', 'fruits': 'mango', 'taste': None}\n"
     ]
    }
   ],
   "source": [
    "#dict.setdefault()\n",
    "\n",
    "favorites = {\"pet\": \"dog\", \"color\": \"blue\", \"language\": \"Python\"}\n",
    "print(favorites) #initial dictionary\n",
    "\n",
    "#setting default for key fruits which was missing in the initial dict\n",
    "favorites.setdefault('fruits', 'apple')\n",
    "\n",
    "#the default val is getting from the setdefault()\n",
    "print(favorites['fruits'])\n",
    "\n",
    "#the default key is added to the original dict\n",
    "print(favorites)\n",
    "\n",
    "#now adding the key fruits to the original dict\n",
    "favorites['fruits'] = 'mango'\n",
    "print(favorites) #now the value for key fruits will come from assigned value\n",
    "print(favorites['fruits'])\n",
    "\n",
    "#setting default for existing key\n",
    "print(favorites.setdefault(\"pet\", \"cat\")) #outputs the actual value for key 'pet'\n",
    "print(favorites)\n",
    "\n",
    "#setdefault() for non existed key without any default value\n",
    "print(favorites.setdefault(\"taste\")) #outputs None when no value is specified for missing key 'taste'\n",
    "print(favorites)"
   ]
  },
  {
   "cell_type": "markdown",
   "id": "192d3452",
   "metadata": {},
   "source": [
    "    ------------------------------------------------------------------------------------------------------------\n",
    "    - dict.get(key, defaultval)\n",
    "        This method returns a suitable default value(if provided) or None if a given key is missing. However, .get() doesn’t create the new key for you. i.e the actual dictionary doesnt contains this missed key."
   ]
  },
  {
   "cell_type": "code",
   "execution_count": 325,
   "id": "6e26b498",
   "metadata": {},
   "outputs": [
    {
     "name": "stdout",
     "output_type": "stream",
     "text": [
      "{'pet': 'dog', 'color': 'blue', 'language': 'Python'}\n",
      "None\n",
      "apple\n",
      "{'pet': 'dog', 'color': 'blue', 'language': 'Python'}\n"
     ]
    }
   ],
   "source": [
    "#dict.get()\n",
    "\n",
    "favorites = {\"pet\": \"dog\", \"color\": \"blue\", \"language\": \"Python\"}\n",
    "print(favorites)\n",
    "\n",
    "print(favorites.get('fruits')) #returns None\n",
    "print(favorites.get('fruits', 'apple')) #Return value apple for the missing key 'fruits'\n",
    "print(favorites) #doesn't contains key to the actual dictionary i.e dictionary is not chnaged with the missing key"
   ]
  },
  {
   "cell_type": "markdown",
   "id": "4d177b4d",
   "metadata": {},
   "source": [
    "    - defaultdict from collections module\n",
    "         \n",
    "         The defaultdict type is a subclass of dict designed to help you out with missing keys by Python's collection module. The constructor of defaultdict takes a function object as its first argument. When you access a key that doesn’t exist, defaultdict automatically calls that function without arguments to create a suitable default value for the key at hand.\n",
    "         \n",
    "         To provide its functionality, defaultdict stores the input function in .default_factory and then overrides .__missing__() to automatically call the function and generate a default value when you access any missing keys. You can use any callable to initialize your defaultdict objects. For example, with int() you can create a suitable counter to count different objects.\n",
    "         \n",
    "         In the below example, you create an empty defaultdict with int() as its first argument. When you access a key that doesn’t exist, the dictionary automatically calls int(), which returns 0 as the default value for the key at hand. This kind of defaultdict object is quite useful when it comes to counting things in Python."
   ]
  },
  {
   "cell_type": "code",
   "execution_count": 331,
   "id": "6f4f2da7",
   "metadata": {},
   "outputs": [
    {
     "name": "stdout",
     "output_type": "stream",
     "text": [
      "defaultdict(<class 'int'>, {})\n",
      "0\n",
      "defaultdict(<class 'int'>, {'dogs': 0})\n",
      "defaultdict(<class 'int'>, {'dogs': 3, 'cats': 2})\n"
     ]
    }
   ],
   "source": [
    "#deafultdict()\n",
    "from collections import defaultdict\n",
    "\n",
    "counter = defaultdict(int) #passing int object to defaultdict\n",
    "print(counter)\n",
    "\n",
    "print(counter[\"dogs\"]) #accessing non existant key\n",
    "\n",
    "print(counter)\n",
    "\n",
    "counter[\"dogs\"] += 1\n",
    "counter[\"dogs\"] += 1\n",
    "counter[\"dogs\"] += 1\n",
    "counter[\"cats\"] += 1\n",
    "counter[\"cats\"] += 1\n",
    "\n",
    "print(counter)"
   ]
  },
  {
   "cell_type": "code",
   "execution_count": 334,
   "id": "0aa46213",
   "metadata": {},
   "outputs": [
    {
     "name": "stdout",
     "output_type": "stream",
     "text": [
      "defaultdict(<class 'list'>, {})\n",
      "defaultdict(<class 'list'>, {'dog': ['Affenpinscher', 'Terrier', 'Boxer'], 'cat': ['Abyssinian', 'Birman']})\n",
      "Pet -> dog, Breeds -> ['Affenpinscher', 'Terrier', 'Boxer']\n",
      "Pet -> cat, Breeds -> ['Abyssinian', 'Birman']\n"
     ]
    }
   ],
   "source": [
    "#defaultdict() with list to group things\n",
    "#Another common use case of defaultdict is to group things. In this case, the handy factory function is list()\n",
    "\n",
    "from collections import defaultdict\n",
    "\n",
    "pets = [\n",
    "    (\"dog\", \"Affenpinscher\"),\n",
    "    (\"dog\", \"Terrier\"),\n",
    "    (\"dog\", \"Boxer\"),\n",
    "    (\"cat\", \"Abyssinian\"),\n",
    "    (\"cat\", \"Birman\"),\n",
    "]\n",
    "\n",
    "group_pets = defaultdict(list)\n",
    "print(group_pets)\n",
    "\n",
    "for pet, breed in pets:\n",
    "    group_pets[pet].append(breed)\n",
    "    \n",
    "print(group_pets)\n",
    "    \n",
    "for pet, breeds in group_pets.items():\n",
    "    print(f\"Pet -> {pet}, Breeds -> {breeds}\")\n",
    "    \n",
    "#In this example, you have raw data about pets and their breed, and you need to group them by pet.\n",
    "#To do this, you use list() as .default_factory when you create the defaultdict instance.\n",
    "#This enables your dictionary to automatically create an empty list ([]) as the default value for every missing key you access.\n",
    "#Then you use that list to store the breeds of your pets.\n",
    "\n",
    "#Finally, you should note that since defaultdict is a subclass of dict, it provides the same interface.\n",
    "#This means that you can use your defaultdict objects as you would use a regular dictionary."
   ]
  },
  {
   "cell_type": "markdown",
   "id": "ac824219",
   "metadata": {},
   "source": [
    "#### OrderedDict: Keeping Your Dictionaries Ordered\n",
    "    Sometimes you need your dictionaries to remember the order in which key-value pairs are inserted. Python’s regular dictionaries were unordered data structures for years. So, back in 2008, PEP 372 introduced the idea of adding a new dictionary class to collections.\n",
    "\n",
    "    The new class would remember the order of items based on the moment in which keys were inserted. That was the origin of OrderedDict.\n",
    "\n",
    "    OrderedDict was introduced in Python 3.1. Its application programming interface (API) is substantially the same as dict. However, OrderedDict iterates over keys and values in the same order keys were first inserted into the dictionary. If you assign a new value to an existing key, then the order of the key-value pair remains unchanged. If an entry is deleted and reinserted, then it’ll be moved to the end of the dictionary.\n",
    "    \n",
    "    There are several ways to create OrderedDict objects. Most of them are identical to how you create a regular dictionary. For example, you can create an empty ordered dictionary by instantiating the class without arguments and then insert key-value pairs as needed.\n",
    "    \n",
    "    Python 3.6 introduced a new implementation of standard dict. This implementation provides an unexpected new feature: now regular dictionaries keep their items in the same order they’re first inserted. Initially, the feature was considered an implementation detail, and the documentation advised not to rely on it. However, since Python 3.7, the feature is officially part of the language specification. So, what’s the point of using OrderedDict?\n",
    "\n",
    "    There are some features of OrderedDict that still make it valuable:\n",
    "    \n",
    "        - Intent communication: With OrderedDict, your code will make it clear that the order of items in the dictionary is important. You’re clearly communicating that your code needs or relies on the order of items in the underlying dictionary.\n",
    "\n",
    "        - Control over the order of items: With OrderedDict, you have access to .move_to_end(), which is a method that allows you to manipulate the order of items in your dictionary. You’ll also have an enhanced variation of .popitem() that allows removing items from either end of the underlying dictionary.\n",
    "\n",
    "        - Equality test behavior: With OrderedDict, equality tests between dictionaries take the order of items into account. So, if you have two ordered dictionaries with the same group of items but in a different order, then your dictionaries will be considered non-equal.\n",
    "        \n",
    "        - There is at least one more reason for using OrderedDict: backward compatibility. Relying on regular dict objects to preserve the order of items will break your code in environments that run versions of Python older than 3.6."
   ]
  },
  {
   "cell_type": "code",
   "execution_count": 335,
   "id": "a5474fef",
   "metadata": {},
   "outputs": [
    {
     "name": "stdout",
     "output_type": "stream",
     "text": [
      "childhood -> 0-9\n",
      "adolescence -> 9-18\n",
      "adulthood -> 18-65\n",
      "old -> +65\n"
     ]
    }
   ],
   "source": [
    "#orderedDict()\n",
    "from collections import OrderedDict\n",
    "\n",
    "life_stages = OrderedDict()\n",
    "\n",
    "life_stages[\"childhood\"] = \"0-9\"\n",
    "life_stages[\"adolescence\"] = \"9-18\"\n",
    "life_stages[\"adulthood\"] = \"18-65\"\n",
    "life_stages[\"old\"] = \"+65\"\n",
    "\n",
    "for stage, years in life_stages.items():\n",
    "    print(stage, \"->\", years)"
   ]
  },
  {
   "cell_type": "markdown",
   "id": "aa9c437f",
   "metadata": {},
   "source": [
    "    Below we can see some cool features of OrderedDict in action.\n",
    "    \n",
    "    In these examples, you use .move_to_end() to move items around and reorder letters. Note that .move_to_end() accepts an optional argument called last that allows you to control which end of the dictionary you want to move the items to. This method is quite handy when you need to sort the items in your dictionaries or when you need to manipulate their order in any way."
   ]
  },
  {
   "cell_type": "code",
   "execution_count": 336,
   "id": "936dc570",
   "metadata": {},
   "outputs": [
    {
     "name": "stdout",
     "output_type": "stream",
     "text": [
      "OrderedDict([('b', 2), ('d', 4), ('a', 1), ('c', 3)])\n",
      "OrderedDict([('d', 4), ('a', 1), ('c', 3), ('b', 2)])\n",
      "OrderedDict([('b', 2), ('d', 4), ('a', 1), ('c', 3)])\n",
      "OrderedDict([('a', 1), ('b', 2), ('c', 3), ('d', 4)])\n"
     ]
    }
   ],
   "source": [
    "#OrderedDict with move_to_end(key)\n",
    "from collections import OrderedDict\n",
    "\n",
    "letters = OrderedDict(b=2, d=4, a=1, c=3)\n",
    "print(letters)\n",
    "\n",
    "# Move b to the right end\n",
    "letters.move_to_end(\"b\")\n",
    "print(letters)\n",
    "\n",
    "# Move b to the left end\n",
    "letters.move_to_end(\"b\", last=False)\n",
    "print(letters)\n",
    "\n",
    "# Sort letters by key\n",
    "for key in sorted(letters):\n",
    "    letters.move_to_end(key)\n",
    "\n",
    "print(letters)"
   ]
  },
  {
   "cell_type": "markdown",
   "id": "78e5dd12",
   "metadata": {},
   "source": [
    "    Another important difference between OrderedDict and a regular dictionary is how they compare for equality. Below, letters_1 has a different item order from letters_0. When you use regular dictionaries, this difference doesn’t matter and both dictionaries compare equal. On the other hand, when you use ordered dictionaries, letters_0 and letters_1 aren’t equal. This is because equality tests between ordered dictionaries consider the content and also the order of items."
   ]
  },
  {
   "cell_type": "code",
   "execution_count": 337,
   "id": "e62dfc18",
   "metadata": {},
   "outputs": [
    {
     "name": "stdout",
     "output_type": "stream",
     "text": [
      "True\n",
      "False\n",
      "True\n"
     ]
    }
   ],
   "source": [
    "#OrderedDict() to test for equality\n",
    "\n",
    "from collections import OrderedDict\n",
    "\n",
    "# Regular dictionaries compare the content only\n",
    "letters_0 = dict(a=1, b=2, c=3, d=4)\n",
    "letters_1 = dict(b=2, a=1, d=4, c=3)\n",
    "print(letters_0 == letters_1)\n",
    "\n",
    "# Ordered dictionaries compare content and order\n",
    "letters_0 = OrderedDict(a=1, b=2, c=3, d=4)\n",
    "letters_1 = OrderedDict(b=2, a=1, d=4, c=3)\n",
    "print(letters_0 == letters_1)\n",
    "\n",
    "letters_2 = OrderedDict(a=1, b=2, c=3, d=4)\n",
    "print(letters_0 == letters_2)"
   ]
  },
  {
   "cell_type": "markdown",
   "id": "250bf081",
   "metadata": {},
   "source": [
    "#### Counter Counting Objects in One Go\n",
    "    Counting objects is a common operation in programming. Say you need to count how many times a given item appears in a list or iterable. If your list is short, then counting its items can be straightforward and quick. If you have a long list, then counting the items will be more challenging.\n",
    "\n",
    "    To count objects, you typically use a counter, or an integer variable with an initial value of zero. Then you increment the counter to reflect the number of times a given object occurs.\n",
    "\n",
    "    In Python, you can use a dictionary to count several different objects at once. In this case, the keys will store individual objects, and the values will hold the number of repetitions of a given object, or the object’s count.\n",
    "\n",
    "    Here’s an example that counts the letters in the word \"mississippi\" with a regular dictionary and a for loop"
   ]
  },
  {
   "cell_type": "code",
   "execution_count": 348,
   "id": "3b071c8f",
   "metadata": {},
   "outputs": [
    {
     "name": "stdout",
     "output_type": "stream",
     "text": [
      "{'m': 1, 'i': 4, 's': 4, 'p': 2}\n",
      "Counter({'i': 4, 's': 4, 'p': 2, 'm': 1})\n"
     ]
    }
   ],
   "source": [
    "#collections.counter to counter letters in a given word\n",
    "\n",
    "#with for loop and count variable\n",
    "word = \"mississippi\"\n",
    "counter = dict()\n",
    "\n",
    "for letter in word:\n",
    "    if letter not in counter.keys():\n",
    "        counter[letter] = 0\n",
    "    counter[letter] += 1\n",
    "\n",
    "print(counter)\n",
    "\n",
    "#counter with collections.Counter\n",
    "from collections import Counter\n",
    "\n",
    "word = \"mississippi\"\n",
    "print(Counter(word))"
   ]
  },
  {
   "cell_type": "code",
   "execution_count": 349,
   "id": "ec0b9cb5",
   "metadata": {},
   "outputs": [
    {
     "name": "stdout",
     "output_type": "stream",
     "text": [
      "defaultdict(<class 'int'>, {'m': 1, 'i': 4, 's': 4, 'p': 2})\n"
     ]
    }
   ],
   "source": [
    "#counter with defaultdict()\n",
    "\n",
    "#defaultdict objects are convenient when it comes to counting things because you don’t need to check if the key exists.\n",
    "#The dictionary guarantees appropriate default values for any missing keys\n",
    "\n",
    "from collections import defaultdict\n",
    "\n",
    "counter = defaultdict(int)\n",
    "\n",
    "for letter in \"mississippi\":\n",
    "    counter[letter] += 1\n",
    "\n",
    "print(counter)"
   ]
  },
  {
   "cell_type": "markdown",
   "id": "231968b2",
   "metadata": {},
   "source": [
    "    There are a few different ways to instantiate Counter. You can use lists, tuples, or any iterables with repeated objects. The only restriction is that your objects need to be hashable.\n",
    "    \n",
    "    Integer numbers are hashable, so Counter works correctly. On the other hand, lists aren’t hashable, so Counter fails with a TypeError.\n",
    "\n",
    "    Being hashable means that your objects must have a hash value that never changes during their lifetime. This is a requirement because these objects will work as dictionary keys. In Python, immutable objects are also hashable.\n",
    "    \n",
    "    Since Counter is a subclass of dict, their interfaces are mostly the same. However, there are some subtle differences. The first difference is that Counter doesn’t implement .fromkeys(). This avoids inconsistencies, such as Counter.fromkeys(\"abbbc\", 2), in which every letter would have an initial count of 2 regardless of the real count it has in the input iterable."
   ]
  },
  {
   "cell_type": "code",
   "execution_count": 351,
   "id": "3b1eae82",
   "metadata": {},
   "outputs": [
    {
     "name": "stdout",
     "output_type": "stream",
     "text": [
      "Counter({3: 3, 1: 2, 2: 1, 4: 1})\n"
     ]
    },
    {
     "ename": "TypeError",
     "evalue": "unhashable type: 'list'",
     "output_type": "error",
     "traceback": [
      "\u001b[1;31m---------------------------------------------------------------------------\u001b[0m",
      "\u001b[1;31mTypeError\u001b[0m                                 Traceback (most recent call last)",
      "Input \u001b[1;32mIn [351]\u001b[0m, in \u001b[0;36m<cell line: 5>\u001b[1;34m()\u001b[0m\n\u001b[0;32m      1\u001b[0m \u001b[38;5;28;01mfrom\u001b[39;00m \u001b[38;5;21;01mcollections\u001b[39;00m \u001b[38;5;28;01mimport\u001b[39;00m Counter\n\u001b[0;32m      3\u001b[0m \u001b[38;5;28mprint\u001b[39m(Counter([\u001b[38;5;241m1\u001b[39m, \u001b[38;5;241m1\u001b[39m, \u001b[38;5;241m2\u001b[39m, \u001b[38;5;241m3\u001b[39m, \u001b[38;5;241m3\u001b[39m, \u001b[38;5;241m3\u001b[39m, \u001b[38;5;241m4\u001b[39m]))\n\u001b[1;32m----> 5\u001b[0m \u001b[38;5;28mprint\u001b[39m(\u001b[43mCounter\u001b[49m\u001b[43m(\u001b[49m\u001b[43m(\u001b[49m\u001b[43m[\u001b[49m\u001b[38;5;241;43m1\u001b[39;49m\u001b[43m]\u001b[49m\u001b[43m,\u001b[49m\u001b[43m \u001b[49m\u001b[43m[\u001b[49m\u001b[38;5;241;43m1\u001b[39;49m\u001b[43m]\u001b[49m\u001b[43m)\u001b[49m\u001b[43m)\u001b[49m)\n",
      "File \u001b[1;32m~\\anaconda3\\lib\\collections\\__init__.py:552\u001b[0m, in \u001b[0;36mCounter.__init__\u001b[1;34m(self, iterable, **kwds)\u001b[0m\n\u001b[0;32m    541\u001b[0m \u001b[38;5;124;03m'''Create a new, empty Counter object.  And if given, count elements\u001b[39;00m\n\u001b[0;32m    542\u001b[0m \u001b[38;5;124;03mfrom an input iterable.  Or, initialize the count from another mapping\u001b[39;00m\n\u001b[0;32m    543\u001b[0m \u001b[38;5;124;03mof elements to their counts.\u001b[39;00m\n\u001b[1;32m   (...)\u001b[0m\n\u001b[0;32m    549\u001b[0m \n\u001b[0;32m    550\u001b[0m \u001b[38;5;124;03m'''\u001b[39;00m\n\u001b[0;32m    551\u001b[0m \u001b[38;5;28msuper\u001b[39m(Counter, \u001b[38;5;28mself\u001b[39m)\u001b[38;5;241m.\u001b[39m\u001b[38;5;21m__init__\u001b[39m()\n\u001b[1;32m--> 552\u001b[0m \u001b[38;5;28;43mself\u001b[39;49m\u001b[38;5;241;43m.\u001b[39;49m\u001b[43mupdate\u001b[49m\u001b[43m(\u001b[49m\u001b[43miterable\u001b[49m\u001b[43m,\u001b[49m\u001b[43m \u001b[49m\u001b[38;5;241;43m*\u001b[39;49m\u001b[38;5;241;43m*\u001b[39;49m\u001b[43mkwds\u001b[49m\u001b[43m)\u001b[49m\n",
      "File \u001b[1;32m~\\anaconda3\\lib\\collections\\__init__.py:637\u001b[0m, in \u001b[0;36mCounter.update\u001b[1;34m(self, iterable, **kwds)\u001b[0m\n\u001b[0;32m    635\u001b[0m             \u001b[38;5;28msuper\u001b[39m(Counter, \u001b[38;5;28mself\u001b[39m)\u001b[38;5;241m.\u001b[39mupdate(iterable) \u001b[38;5;66;03m# fast path when counter is empty\u001b[39;00m\n\u001b[0;32m    636\u001b[0m     \u001b[38;5;28;01melse\u001b[39;00m:\n\u001b[1;32m--> 637\u001b[0m         \u001b[43m_count_elements\u001b[49m\u001b[43m(\u001b[49m\u001b[38;5;28;43mself\u001b[39;49m\u001b[43m,\u001b[49m\u001b[43m \u001b[49m\u001b[43miterable\u001b[49m\u001b[43m)\u001b[49m\n\u001b[0;32m    638\u001b[0m \u001b[38;5;28;01mif\u001b[39;00m kwds:\n\u001b[0;32m    639\u001b[0m     \u001b[38;5;28mself\u001b[39m\u001b[38;5;241m.\u001b[39mupdate(kwds)\n",
      "\u001b[1;31mTypeError\u001b[0m: unhashable type: 'list'"
     ]
    }
   ],
   "source": [
    "#collections.Counter\n",
    "from collections import Counter\n",
    "\n",
    "print(Counter([1, 1, 2, 3, 3, 3, 4]))\n",
    "\n",
    "print(Counter(([1], [1])))"
   ]
  },
  {
   "cell_type": "markdown",
   "id": "2057a598",
   "metadata": {},
   "source": [
    "    The second difference is that Counter.update() doesn’t replace the count (value) of an existing object (key) with a new count. It adds both counts together.\n",
    "    \n",
    "    Here, you update the count for m and i. Now those letters hold the sum of their initial count plus the value you passed to them through .update(). If you use a key that isn’t present in the original counter, then .update() creates the new key with the corresponding value. Finally, .update() accepts iterables, mappings, keyword arguments, and also other counters.\n",
    "    \n",
    "     Since Counter is a subclass of dict, there are no restrictions on the objects you can store in the keys and values of your counters. The keys can store any hashable objects, whereas the values can store any objects. However, to logically work as counters, the values should be integer numbers representing counts"
   ]
  },
  {
   "cell_type": "code",
   "execution_count": 353,
   "id": "c951dc3e",
   "metadata": {},
   "outputs": [
    {
     "name": "stdout",
     "output_type": "stream",
     "text": [
      "Counter({'i': 4, 's': 4, 'p': 2, 'm': 1})\n",
      "Counter({'i': 8, 'm': 4, 's': 4, 'p': 2})\n",
      "Counter({'i': 8, 'm': 4, 's': 4, 'p': 2, 'a': 2})\n",
      "Counter({'i': 8, 's': 6, 'm': 4, 'p': 3, 'a': 2})\n"
     ]
    }
   ],
   "source": [
    "#Counter.update()\n",
    "from collections import Counter\n",
    "\n",
    "letters = Counter(\"mississippi\")\n",
    "print(letters)\n",
    "\n",
    "# Update the counts of m and i\n",
    "letters.update(m=3, i=4)\n",
    "print(letters)\n",
    "\n",
    "# Add a new key-count pair\n",
    "letters.update({\"a\": 2})\n",
    "print(letters)\n",
    "\n",
    "# Update with another counter\n",
    "letters.update(Counter([\"s\", \"s\", \"p\"]))\n",
    "print(letters)"
   ]
  },
  {
   "cell_type": "markdown",
   "id": "e5ecec57",
   "metadata": {},
   "source": [
    "    Another difference between Counter and dict is that accessing a missing key returns 0 instead of raising a KeyError.\n",
    "    \n",
    "    This behavior signals that the count of an object that doesn’t exist in the counter is zero. In this example, the letter \"a\" isn’t in the original word, so its count is 0.\n",
    "\n",
    "    In Python, Counter is also useful to emulate a multiset or bag. Multisets are similar to sets, but they allow multiple instances of a given element. The number of instances of an element is known as its multiplicity. For example, you can have a multiset like {1, 1, 2, 3, 3, 3, 4, 4}."
   ]
  },
  {
   "cell_type": "code",
   "execution_count": 354,
   "id": "4244646f",
   "metadata": {},
   "outputs": [
    {
     "name": "stdout",
     "output_type": "stream",
     "text": [
      "0\n"
     ]
    }
   ],
   "source": [
    "#accessing missing key with counter\n",
    "from collections import Counter\n",
    "\n",
    "letters = Counter(\"mississippi\")\n",
    "print(letters[\"a\"])"
   ]
  },
  {
   "cell_type": "markdown",
   "id": "91ede345",
   "metadata": {},
   "source": [
    "    When you use Counter to emulate multisets, the keys represent the elements, and the values represent their respective multiplicity \n",
    "    \n",
    "    Here, the keys of multiset are equivalent to a Python set. The values hold the multiplicity of each element in the set.\n",
    "\n",
    "    Python’ Counter provides a few additional features that help you work with them as multisets. For example, you can initialize your counters with a mapping of elements and their multiplicity. You can also perform math operations on the elements’ multiplicity and more."
   ]
  },
  {
   "cell_type": "code",
   "execution_count": 355,
   "id": "929e5fd3",
   "metadata": {},
   "outputs": [
    {
     "name": "stdout",
     "output_type": "stream",
     "text": [
      "Counter({3: 3, 1: 2, 4: 2, 2: 1})\n",
      "True\n"
     ]
    }
   ],
   "source": [
    "#Counter on multiset\n",
    "from collections import Counter\n",
    "\n",
    "multiset = Counter([1, 1, 2, 3, 3, 3, 4, 4])\n",
    "print(multiset)\n",
    "\n",
    "print(multiset.keys() == {1, 2, 3, 4})"
   ]
  },
  {
   "cell_type": "markdown",
   "id": "c60898b4",
   "metadata": {},
   "source": [
    "    Say you’re working at the local pet shelter. You have a given number of pets, and you need to have a record of how many pets are adopted each day and how many pets enter and leave the shelter. In this case, you can use Counter\n",
    "    \n",
    "    That’s neat! Now you can keep a record of your pets using Counter. Note that you can use .subtract() and .update() to subtract and add counts or multiplicities. You can also use the addition (+) and subtraction (-) operators.\n",
    "\n",
    "    There’s a lot more you can do with Counter objects as multisets in Python."
   ]
  },
  {
   "cell_type": "code",
   "execution_count": 5,
   "id": "4823d12f",
   "metadata": {},
   "outputs": [
    {
     "name": "stdout",
     "output_type": "stream",
     "text": [
      "Counter({'dogs': 21, 'cats': 9, 'pythons': 6})\n",
      "Counter({'dogs': 25, 'cats': 10, 'pythons': 6})\n",
      "Counter({'dogs': 23, 'cats': 7, 'pythons': 5})\n",
      "Counter({'dogs': 27, 'cats': 7, 'pythons': 7})\n",
      "27\n",
      "23\n"
     ]
    }
   ],
   "source": [
    "#Counter() with subtract() and update()\n",
    "\n",
    "from collections import Counter\n",
    "\n",
    "inventory = Counter(dogs=23, cats=14, pythons=7)\n",
    "\n",
    "adopted = Counter(dogs=2, cats=5, pythons=1)\n",
    "inventory.subtract(adopted)\n",
    "print(inventory)\n",
    "\n",
    "new_pets = {\"dogs\": 4, \"cats\": 1}\n",
    "inventory.update(new_pets)\n",
    "print(inventory)\n",
    "\n",
    "inventory = inventory - Counter(dogs=2, cats=3, pythons=1)\n",
    "print(inventory)\n",
    "\n",
    "new_pets = {\"dogs\": 4, \"pythons\": 2}\n",
    "inventory += new_pets\n",
    "print(inventory)\n",
    "print(inventory['dogs']) #accessing the elements of counter\n",
    "\n",
    "#accessing counter elements\n",
    "inventory_list = Counter(dogs=23, cats=14, pythons=7)\n",
    "print(inventory_list['dogs'])"
   ]
  },
  {
   "cell_type": "markdown",
   "id": "f458b69e",
   "metadata": {},
   "source": [
    "#### ChainMap: Chaining Dictionaries Together\n",
    "    Python’s ChainMap groups multiple dictionaries and other mappings together to create a single object that works pretty much like a regular dictionary. In other words, it takes several mappings and makes them logically appear as one.\n",
    "\n",
    "    ChainMap objects are updateable views, which means that changes in any of the chained mappings affect the ChainMap object as a whole. This is because ChainMap doesn’t merge the input mappings together. It keeps a list of mappings and reimplements common dictionary operations on top of that list. For example, a key lookup searches the list of mappings successively until it finds the key.\n",
    "    \n",
    "    When you’re working with ChainMap objects, you can have several dictionaries with either unique or repeated keys.\n",
    "\n",
    "    In either case, ChainMap allows you to treat all your dictionaries as one. If you have unique keys across your dictionaries, you can access and update the keys as if you were working with a single dictionary.\n",
    "\n",
    "    If you have repeated keys across your dictionaries, besides managing your dictionaries as one, you can also take advantage of the internal list of mappings to define some sort of access priority. Because of this feature, ChainMap objects are great for handling multiple contexts.\n",
    "    \n",
    "    For eg, say you’re working on a command-line interface (CLI) application. The application allows the user to use a proxy service for connecting to the Internet. The settings priorities are:\n",
    "\n",
    "                   1. Command-line options (--proxy, -p)\n",
    "                   2. Local configuration files in the user’s home directory\n",
    "                   3. Global proxy configuration\n",
    "                   \n",
    "    If the user supplies a proxy at the command line using --proxy or -p, then the application must use that proxy. Otherwise, the application should use the proxy provided in the next local configuration object, and so on. This is one of the most common use cases of ChainMap. In this situation, you can do as in the following example.\n",
    "    \n",
    "    If you observe below, ChainMap allows you to define the appropriate priority for the application’s proxy configuration. A key lookup searches cmd_proxy, then local_proxy, and finally global_proxy, returning the first instance of the key at hand. In this example, the user doesn’t provide a proxy at the command line, so your application uses the proxy in local_proxy."
   ]
  },
  {
   "cell_type": "code",
   "execution_count": 357,
   "id": "a2d69829",
   "metadata": {},
   "outputs": [
    {
     "name": "stdout",
     "output_type": "stream",
     "text": [
      "Config priority set up using ChainMap proxy.local.com\n"
     ]
    }
   ],
   "source": [
    "#collections.ChainMap() with mappings of same keys and how to give prioirity to which key\n",
    "from collections import ChainMap\n",
    "\n",
    "cmd_proxy = {} #lets assume that this represents cmd proxy which was empty meaning user didnt provide it\n",
    "local_proxy = {'proxy' : 'proxy.local.com'}\n",
    "global_proxy = {'proxy': 'proxy.global.com'}\n",
    "\n",
    "config = ChainMap(cmd_proxy, local_proxy, global_proxy)\n",
    "print(\"Config priority set up using ChainMap\", config['proxy'])"
   ]
  },
  {
   "cell_type": "markdown",
   "id": "1c2c6403",
   "metadata": {},
   "source": [
    "    ----------------------------------------------------------------------------------------------------------------------\n",
    "    In general, ChainMap objects behave similarly to regular dict objects. However, they have some additional features. For example, they have a \".maps\" public attribute that holds the internal list of mappings. i.e the instance attribute .maps gives you access to the internal list of mappings. This list is updatable. You can add and remove mappings manually, iterate through the list, and more"
   ]
  },
  {
   "cell_type": "code",
   "execution_count": 358,
   "id": "476123f8",
   "metadata": {},
   "outputs": [
    {
     "name": "stdout",
     "output_type": "stream",
     "text": [
      "ChainMap({'a': 'apple', 'b': 'ball'}, {'c': 'cat', 'd': 'dog'})\n",
      "[{'a': 'apple', 'b': 'ball'}, {'c': 'cat', 'd': 'dog'}]\n"
     ]
    }
   ],
   "source": [
    "#collections.ChainMaP() with .maps attribute to list the internal mappings list\n",
    "dict1 = {'a': 'apple', 'b': 'ball'}\n",
    "dict2 = {'c': 'cat', 'd': 'dog'}\n",
    "\n",
    "chainmapping = ChainMap(dict1, dict2)\n",
    "print(chainmapping)\n",
    "print(chainmapping.maps)"
   ]
  },
  {
   "cell_type": "markdown",
   "id": "94ec8698",
   "metadata": {},
   "source": [
    "    -----------------------------------------------------------------------------------------------------------------------\n",
    "    Additionally, ChainMap provides a .new_child() method and a .parents property\n",
    "    \n",
    "    Consider the below eg. With .new_child(), you create a new ChainMap object containing a new map (son) followed by all the maps in the current instance. The map passed as a first argument becomes the first map in the list of maps. If you don’t pass a map, then the method uses an empty dictionary.\n",
    "\n",
    "    The parents property returns a new ChainMap objects containing all the maps in the current instance except for the first one. This is useful when you need to skip the first map in a key lookup."
   ]
  },
  {
   "cell_type": "code",
   "execution_count": 361,
   "id": "262d9481",
   "metadata": {},
   "outputs": [
    {
     "name": "stdout",
     "output_type": "stream",
     "text": [
      "ChainMap({'name': 'Jane', 'age': 31}, {'name': 'John', 'age': 35})\n",
      "[{'name': 'Jane', 'age': 31}, {'name': 'John', 'age': 35}]\n",
      "ChainMap({'name': 'Mike', 'age': 0}, {'name': 'Jane', 'age': 31}, {'name': 'John', 'age': 35})\n",
      "[{'name': 'Mike', 'age': 0}, {'name': 'Jane', 'age': 31}, {'name': 'John', 'age': 35}]\n",
      "{'name': 'Mike', 'age': 0}\n",
      "{'name': 'Jane', 'age': 31}\n",
      "{'name': 'John', 'age': 35}\n",
      "ChainMap({'name': 'Jane', 'age': 31}, {'name': 'John', 'age': 35})\n"
     ]
    }
   ],
   "source": [
    "#collections.ChainMaP() with .new_child method and .parents property\n",
    "from collections import ChainMap\n",
    "\n",
    "dad = {\"name\": \"John\", \"age\": 35}\n",
    "mom = {\"name\": \"Jane\", \"age\": 31}\n",
    "family = ChainMap(mom, dad)\n",
    "print(family)\n",
    "print(family.maps)\n",
    "\n",
    "son = {\"name\": \"Mike\", \"age\": 0}\n",
    "family = family.new_child(son)\n",
    "print(family)\n",
    "print(family.maps)\n",
    "\n",
    "for person in family.maps:\n",
    "    print(person)\n",
    "\n",
    "\n",
    "print(family.parents)"
   ]
  },
  {
   "cell_type": "markdown",
   "id": "f0162123",
   "metadata": {},
   "source": [
    "    ---------------------------------------------------------------------------------------\n",
    "    A final feature to highlight in ChainMap is that mutating operations, such as updating keys(which wont happen in standard dict), adding new keys, deleting existing keys, popping keys, and clearing the dictionary, act on the first mapping in the internal list of mappings.\n",
    "    \n",
    "    The below examples show that mutating operations on a ChainMap object only affect the first mapping in the internal list. This is an important detail to consider when you’re working with ChainMap.\n",
    "\n",
    "    The tricky part is that, at first glance, it could look like it’s possible to mutate any existing key-value pair in a given ChainMap. However, you can only mutate the key-value pairs in the first mapping unless you use .maps to access and mutate other mappings in the list directly"
   ]
  },
  {
   "cell_type": "code",
   "execution_count": 362,
   "id": "3cd5311f",
   "metadata": {},
   "outputs": [
    {
     "name": "stdout",
     "output_type": "stream",
     "text": [
      "ChainMap({'one': 1, 'two': 2}, {'a': 'A', 'b': 'B'})\n",
      "ChainMap({'one': 1, 'two': 2, 'c': 'C'}, {'a': 'A', 'b': 'B'})\n",
      "2\n",
      "ChainMap({'one': 1, 'c': 'C'}, {'a': 'A', 'b': 'B'})\n",
      "ChainMap({}, {'a': 'A', 'b': 'B'})\n"
     ]
    },
    {
     "ename": "KeyError",
     "evalue": "\"Key not found in the first mapping: 'a'\"",
     "output_type": "error",
     "traceback": [
      "\u001b[1;31m---------------------------------------------------------------------------\u001b[0m",
      "\u001b[1;31mKeyError\u001b[0m                                  Traceback (most recent call last)",
      "File \u001b[1;32m~\\anaconda3\\lib\\collections\\__init__.py:951\u001b[0m, in \u001b[0;36mChainMap.__delitem__\u001b[1;34m(self, key)\u001b[0m\n\u001b[0;32m    950\u001b[0m \u001b[38;5;28;01mtry\u001b[39;00m:\n\u001b[1;32m--> 951\u001b[0m     \u001b[38;5;28;01mdel\u001b[39;00m \u001b[38;5;28mself\u001b[39m\u001b[38;5;241m.\u001b[39mmaps[\u001b[38;5;241m0\u001b[39m][key]\n\u001b[0;32m    952\u001b[0m \u001b[38;5;28;01mexcept\u001b[39;00m \u001b[38;5;167;01mKeyError\u001b[39;00m:\n",
      "\u001b[1;31mKeyError\u001b[0m: 'a'",
      "\nDuring handling of the above exception, another exception occurred:\n",
      "\u001b[1;31mKeyError\u001b[0m                                  Traceback (most recent call last)",
      "Input \u001b[1;32mIn [362]\u001b[0m, in \u001b[0;36m<cell line: 24>\u001b[1;34m()\u001b[0m\n\u001b[0;32m     21\u001b[0m \u001b[38;5;28mprint\u001b[39m(alpha_nums)\n\u001b[0;32m     23\u001b[0m \u001b[38;5;66;03m# Delete keys that don't exist in the first dict but do in others, throws key not found in the first mapping error\u001b[39;00m\n\u001b[1;32m---> 24\u001b[0m \u001b[38;5;28;01mdel\u001b[39;00m alpha_nums[\u001b[38;5;124m\"\u001b[39m\u001b[38;5;124ma\u001b[39m\u001b[38;5;124m\"\u001b[39m]\n",
      "File \u001b[1;32m~\\anaconda3\\lib\\collections\\__init__.py:953\u001b[0m, in \u001b[0;36mChainMap.__delitem__\u001b[1;34m(self, key)\u001b[0m\n\u001b[0;32m    951\u001b[0m     \u001b[38;5;28;01mdel\u001b[39;00m \u001b[38;5;28mself\u001b[39m\u001b[38;5;241m.\u001b[39mmaps[\u001b[38;5;241m0\u001b[39m][key]\n\u001b[0;32m    952\u001b[0m \u001b[38;5;28;01mexcept\u001b[39;00m \u001b[38;5;167;01mKeyError\u001b[39;00m:\n\u001b[1;32m--> 953\u001b[0m     \u001b[38;5;28;01mraise\u001b[39;00m \u001b[38;5;167;01mKeyError\u001b[39;00m(\u001b[38;5;124m'\u001b[39m\u001b[38;5;124mKey not found in the first mapping: \u001b[39m\u001b[38;5;132;01m{!r}\u001b[39;00m\u001b[38;5;124m'\u001b[39m\u001b[38;5;241m.\u001b[39mformat(key))\n",
      "\u001b[1;31mKeyError\u001b[0m: \"Key not found in the first mapping: 'a'\""
     ]
    }
   ],
   "source": [
    "#collections.ChainMaP() with .new_child method\n",
    "\n",
    "from collections import ChainMap\n",
    "\n",
    "numbers = {\"one\": 1, \"two\": 2}\n",
    "letters = {\"a\": \"A\", \"b\": \"B\"}\n",
    "\n",
    "alpha_nums = ChainMap(numbers, letters)\n",
    "print(alpha_nums)\n",
    "\n",
    "# Add a new key-value pair\n",
    "alpha_nums[\"c\"] = \"C\"\n",
    "print(alpha_nums)\n",
    "\n",
    "# Pop a key that exists in the first dictionary\n",
    "print(alpha_nums.pop(\"two\"))\n",
    "print(alpha_nums)\n",
    "\n",
    "# Clear the dictionary\n",
    "alpha_nums.clear()\n",
    "print(alpha_nums)\n",
    "\n",
    "# Delete keys that don't exist in the first dict but do in others, throws key not found in the first mapping error\n",
    "del alpha_nums[\"a\"]"
   ]
  },
  {
   "cell_type": "markdown",
   "id": "bfc067d4",
   "metadata": {},
   "source": [
    "#### Customizing Built-Ins: UserString, UserList, and UserDict\n",
    "    Sometimes you need to customize built-in types, such as strings, lists, and dictionaries to add and modify certain behavior. Since Python 2.2, you can do that by subclassing those types directly. However, you could face some issues with this approach, as you’ll see in a minute.\n",
    "\n",
    "    Python’s collections provides three convenient wrapper classes that mimic the behavior of the built-in data types:\n",
    "\n",
    "                                    UserString\n",
    "                                    UserList\n",
    "                                    UserDict\n",
    "    \n",
    "    With a combination of regular and special methods, you can use these classes to mimic and customize the behavior of strings, lists, and dictionaries.\n",
    "\n",
    "    Nowadays, developers often ask themselves if there’s a reason to use UserString, UserList, and UserDict when they need to customize the behavior of built-in types. The answer is yes.\n",
    "\n",
    "    Built-in types were designed and implemented with the open-closed principle in mind. This means that they’re open for extension but closed for modification. Allowing modifications on the core features of these classes can potentially break their invariants. So, Python core developers decided to protect them from modifications.\n",
    "\n",
    "    For example, say you need a dictionary that automatically lowercases the keys when you insert them. You could subclass dict and override .__setitem__() so every time you insert a key, the dictionary lowercases the key name:\n",
    "    \n",
    "                                >>> class LowerDict(dict):\n",
    "                                        def __setitem__(self, key, value):\n",
    "                                            key = key.lower()\n",
    "                                            super().__setitem__(key, value)\n",
    "                            \n",
    "\n",
    "                                >>> ordinals = LowerDict({\"FIRST\": 1, \"SECOND\": 2})\n",
    "                                >>> ordinals[\"THIRD\"] = 3\n",
    "                                >>> ordinals.update({\"FOURTH\": 4})\n",
    "\n",
    "                                >>> ordinals\n",
    "                                    {'FIRST': 1, 'SECOND': 2, 'third': 3, 'FOURTH': 4}\n",
    "\n",
    "                                >>> isinstance(ordinals, dict)\n",
    "                                    True\n",
    "                                    \n",
    "       If we observe, the above dictionary works correctly when you insert new keys using dictionary-style assignment with square brackets ([]). However, it doesn’t work when you pass an initial dictionary to the class constructor or when you use .update(). This means that you would need to override .__init__(), .update(), and probably some other methods for your custom dictionary to work correctly.\n",
    "\n",
    "    Now take a look at the same dictionary but using UserDict as a base class:\n",
    "    \n",
    "                                >>> from collections import UserDict\n",
    "                                >>> class LowerDict(UserDict):\n",
    "                                        def __setitem__(self, key, value):\n",
    "                                            key = key.lower()\n",
    "                                            super().__setitem__(key, value)\n",
    "                            \n",
    "\n",
    "                                >>> ordinals = LowerDict({\"FIRST\": 1, \"SECOND\": 2})\n",
    "                                >>> ordinals[\"THIRD\"] = 3\n",
    "                                >>> ordinals.update({\"FOURTH\": 4})\n",
    "\n",
    "                                >>> ordinals\n",
    "                                    {'first': 1, 'second': 2, 'third': 3, 'fourth': 4}\n",
    "\n",
    "                                >>> isinstance(ordinals, dict)\n",
    "                                    False\n",
    "      \n",
    "      It works! Your custom dictionary now converts all the new keys into lowercase letters before inserting them into the dictionary. Note that since you don’t inherit from dict directly, your class doesn’t return instances of dict as in the example above.\n",
    "\n",
    "    UserDict stores a regular dictionary in an instance attribute called .data. Then it implements all its methods around that dictionary. UserList and UserString work the same way, but their .data attribute holds a list and a str object, respectively.\n",
    "\n",
    "    If you need to customize either of these classes, then you just need to override the appropriate methods and change what they do as required.\n",
    "\n",
    "    In general, you should use UserDict, UserList, and UserString when you need a class that acts almost identically to the underlying wrapped built-in class and you want to customize some part of its standard functionalities.\n",
    "\n",
    "    Another reason to use these classes rather than the built-in equivalent classes is to access the underlying .data attribute to manipulate it directly.\n",
    "\n",
    "    The ability to inherit from built-in types directly has largely superseded the use of UserDict, UserList, and UserString. However, the internal implementation of built-in types makes it hard to safely inherit from them without rewriting a significant amount of code. In most cases, it’s safer to use the appropriate class from collections. It’ll save you from several issues and weird behaviors."
   ]
  },
  {
   "cell_type": "markdown",
   "id": "b2a0bdf0",
   "metadata": {},
   "source": [
    "### CSV module\n",
    "    you need to get information into and out of your programs through more than just the keyboard and console. Exchanging information through text files is a common way to share info between programs. One of the most popular formats for exchanging data is the CSV format. But how do we use it?\n",
    "\n",
    "    Let’s get one thing clear: we don’t have to (and we won’t) build our own CSV parser from scratch. There are several perfectly acceptable libraries we can use. The Python csv library will work for most cases. If our work requires lots of data or numerical analysis, the pandas library has CSV parsing capabilities as well, which should handle the rest.\n",
    "\n",
    "     Lets see how to read, process, and parse CSV from text files using Python csv module and pandas module.\n",
    "     \n",
    "     What Is a CSV File?\n",
    "     -------------------\n",
    "        A CSV file (Comma Separated Values file) is a type of plain text file that uses specific structuring to arrange tabular data. Because it’s a plain text file, it can contain only actual text data—in other words, printable ASCII or Unicode characters.\n",
    "\n",
    "        The structure of a CSV file is given away by its name. Normally, CSV files use a comma to separate each specific data value. Here’s what that structure looks like:\n",
    "        \n",
    "                            column 1 name,column 2 name, column 3 name\n",
    "                            first row data 1,first row data 2,first row data 3\n",
    "                            second row data 1,second row data 2,second row data 3\n",
    "                            ...\n",
    "        \n",
    "        Notice how each piece of data is separated by a comma. Normally, the first line identifies each piece of data—in other words, the name of a data column. Every subsequent line after that is actual data and is limited only by file size constraints.\n",
    "\n",
    "    In general, the separator character is called a delimiter, and the comma is not the only one used. Other popular delimiters include the tab (\\t), colon (:) and semi-colon (;) characters. Properly parsing a CSV file requires us to know which delimiter is being used.\n",
    "    \n",
    "    Where Do CSV Files Come From?\n",
    "    -------------------------------\n",
    "    CSV files are normally created by programs that handle large amounts of data. They are a convenient way to export data from spreadsheets and databases as well as import or use it in other programs. For example, you might export the results of a data mining program to a CSV file and then import that into a spreadsheet to analyze the data, generate graphs for a presentation, or prepare a report for publication.\n",
    "\n",
    "    CSV files are very easy to work with programmatically. Any language that supports text file input and string manipulation (like Python) can work with CSV files directly.\n",
    "    \n",
    "    Parsing CSV Files With Python’s Built-in CSV Library:\n",
    "    ------------------------------------------------------\n",
    "    The csv library provides functionality to both read from and write to CSV files. Designed to work out of the box with Excel-generated CSV files, it is easily adapted to work with a variety of CSV formats. The csv library contains objects and other code to read, write, and process data from and to CSV files.\n",
    "\n",
    "    Reading CSV Files With csv:\n",
    "    ---------------------------\n",
    "    Reading from a CSV file is done using the reader object. The CSV file is opened as a text file with Python’s built-in open() function, which returns a file object. This is then passed to the reader, which does the heavy lifting.\n",
    "\n",
    "    Here’s the employee_birthday.txt file:\n",
    "            name,department,birthday month\n",
    "            John Smith,Accounting,November\n",
    "            Erica Meyers,IT,March\n",
    "            \n",
    "    In the below program, each row returned by the reader is a list of String elements containing the data found by removing the delimiters. The first row returned contains the column names, which is handled in a special way."
   ]
  },
  {
   "cell_type": "code",
   "execution_count": 402,
   "id": "e9c12f94",
   "metadata": {},
   "outputs": [
    {
     "name": "stdout",
     "output_type": "stream",
     "text": [
      "Columns are: name, department, birthday month\n",
      "\tJohn Smith works in Accounting, and was born in November\n",
      "\tErica Meyers works in IT, and was born in March\n",
      "Processed 3 lines.\n"
     ]
    }
   ],
   "source": [
    "#reading a csv file using csv.reader()\n",
    "import csv\n",
    "import pathlib\n",
    "\n",
    "filepath = pathlib.Path.cwd() / 'employee_birthday.txt'\n",
    "with open(filepath) as csv_file:\n",
    "    csv_reader = csv.reader(csv_file, delimiter=\",\")\n",
    "    linecount = 0\n",
    "    for row in csv_reader:\n",
    "        if linecount == 0:\n",
    "            print(f\"Columns are: {', '.join(row)}\")\n",
    "            linecount += 1\n",
    "        else:\n",
    "            print(f\"\\t{row[0]} works in {row[1]}, and was born in {row[-1]}\")\n",
    "            linecount += 1\n",
    "    print(f'Processed {linecount} lines.')"
   ]
  },
  {
   "cell_type": "code",
   "execution_count": 408,
   "id": "8f232e9b",
   "metadata": {},
   "outputs": [
    {
     "name": "stdout",
     "output_type": "stream",
     "text": [
      "['name', 'department', 'birthday month']\n",
      "['John Smith', 'Accounting', 'November']\n",
      "['Erica Meyers', 'IT', 'March']\n"
     ]
    }
   ],
   "source": [
    "##reading a csv file usind csv.reader()\n",
    "import csv\n",
    "\n",
    "with open('employee_birthday.txt', 'rt') as f:\n",
    "    csv_reader = csv.reader(f)\n",
    "\n",
    "    for line in csv_reader:\n",
    "        print(line)\n",
    "\n",
    "#Notice that each line in the CSV file is returned as a list of strings.\n",
    "#To get the data from certain fields, you can use indexing"
   ]
  },
  {
   "cell_type": "markdown",
   "id": "0083eccb",
   "metadata": {},
   "source": [
    "#### Reading CSV Files into a Dictionary with csv module\n",
    "    Rather than deal with a list of individual String elements, you can read CSV data directly into a dictionary (technically, an Ordered Dictionary) as well.\n",
    "\n",
    "    In the below eg, again, using the same input file as above, employee_birthday.txt\n",
    "    \n",
    "    Where did the dictionary keys come from? The first line of the CSV file is assumed to contain the keys to use to build the dictionary. If you don’t have these in your CSV file, you should specify your own keys by setting the fieldnames optional parameter to a list containing them."
   ]
  },
  {
   "cell_type": "code",
   "execution_count": 394,
   "id": "b34dc938",
   "metadata": {},
   "outputs": [
    {
     "name": "stdout",
     "output_type": "stream",
     "text": [
      "Columns are: name, department, birthday month\n",
      "\tJohn Smith works in Accounting, and was born in November\n",
      "\tErica Meyers works in IT, and was born in March\n",
      "Processed 3 lines.\n"
     ]
    }
   ],
   "source": [
    "#reading a csv file using csv.DictReader()\n",
    "import csv\n",
    "import pathlib\n",
    "\n",
    "filepath = pathlib.Path.cwd() / 'employee_birthday.txt'\n",
    "\n",
    "with open(filepath, 'r') as csv_file:\n",
    "    csv_reader = csv.DictReader(csv_file)\n",
    "    linecount = 0\n",
    "    for row in csv_reader:\n",
    "        #print(row) #{'name': 'John Smith', 'department': 'Accounting', 'birthday month': 'November'}\n",
    "        if linecount == 0:\n",
    "            print(f\"Columns are: {', '.join(row)}\")\n",
    "            linecount += 1\n",
    "        print(f\"\\t{row['name']} works in {row['department']}, and was born in {row['birthday month']}\")\n",
    "        linecount += 1\n",
    "        \n",
    "    print(f'Processed {linecount} lines.')"
   ]
  },
  {
   "cell_type": "code",
   "execution_count": 6,
   "id": "230a5534",
   "metadata": {},
   "outputs": [
    {
     "name": "stdout",
     "output_type": "stream",
     "text": [
      "John Smith Accounting November\n",
      "Erica Meyers IT March\n"
     ]
    }
   ],
   "source": [
    "#skipping the header while reading using next()\n",
    "import csv\n",
    "\n",
    "with open('employee_birthday.txt', 'rt') as f: #mode t indicates text mode\n",
    "    csv_reader = csv.reader(f)\n",
    "    next(csv_reader) # skip the heading\n",
    "\n",
    "    for line in csv_reader:\n",
    "        print(line[0], line[1], line[2]) #accessing each list with indexes"
   ]
  },
  {
   "cell_type": "markdown",
   "id": "5f90b1f2",
   "metadata": {},
   "source": [
    "#### Optional Python CSV reader Parameters\n",
    "    The reader object can handle different styles of CSV files by specifying additional parameters, some of which are shown below:\n",
    "    \n",
    "      >  delimiter - It refers to the character used to separate values (or fields) in the CSV file. It defaults to comma (,).\n",
    "        \n",
    "      >  skipinitialspace  - It controls how the space following the delimiter will be interpreted. If True , the initial whitespaces will be removed. It defaults to False.\n",
    "        \n",
    "      >  lineterminator - It refers to the character sequence used to terminate the line. It defaults to \\r\\n.\n",
    "        \n",
    "      >  quotechar - It refers to the single character string that will be used to quote values if special characters (like delimiter) appears inside the field. It defaults to (' \" ').\n",
    "        \n",
    "      >  quoting  - controls when quotes should be generated by the writer or recognized by the reader. It can take one of the following constants:\n",
    "                    csv.QUOTE_MINIMAL means add quote only when required, for example, when a field contains either the quotechar or the delimiter. This is the default.\n",
    "                    csv.QUOTE_ALL means quotes everything regardless of the field type.\n",
    "                    csv.QUOTE_NONNUMERIC means quotes everything except integers and floats.\n",
    "                    csv.QUOTE_NONE means that do not quote anything on output. However, while reading quotes are included around the field values.\n",
    "        \n",
    "      >  escapechar - It refers to the one-character string used to escape the delimiter when quoting is set to QUOTE_NONE. It defaults to None.\n",
    "        \n",
    "      >  doublequote  - controls the handling of quotes inside fields. When True, two consecutive quotes are interpreted as one during read, and when writing, each quote character embedded in the data is written as two quotes\n",
    "\n",
    "        \n",
    "     - skipinitialspace, delimiter , quotechar , escapechar \n",
    "\n",
    "    These parameters deserve some more explanation.\n",
    "    \n",
    "        ---------------------------------------------\n",
    "        skipinitialspace argument\n",
    "        ---------------------------------------------\n",
    "                    baseball_players.csv\n",
    "\n",
    "                    \"Name\", \"Team\", \"Position\", \"Height(inches)\", \"Weight(lbs)\", \"Age\"\n",
    "                    \"Adam Donachie\", \"BAL\", \"Catcher\", 74, 180, 22.99\n",
    "                    \"Paul Bako\", \"BAL\", \"Catcher\", 74, 215, 34.69\n",
    "                    \"Ramon Hernandez\", \"BAL\", \"Catcher\", 72, 210, 30.78\n",
    "                    \"Kevin Millar\", \"BAL\", \"First Baseman\", 72, 210, 35.43\n",
    "                    \"Chris Gomez\", \"BAL\", \"First Baseman\", 73, 188, 35.71\n",
    "                    \"Brian Roberts\", \"BAL\", \"Second Baseman\", 69, 176, 29.39\n",
    "                    \"Miguel Tejada\", \"BAL\", \"Shortstop\", 69, 209, 30.77\n",
    "                    \"Melvin Mora\", \"BAL\", \"Third Baseman\", 71, 200, 35.07\n",
    "    \n",
    "    This CSV file contains spaces following the comma (,). To read this CSV file correctly, set skipinitialspace to True, as follows\n",
    "                        import csv\n",
    "\n",
    "                        with open('baseball_players.csv', 'rt') as f:\n",
    "                            csv_reader = csv.reader(f, skipinitialspace=True)\n",
    "\n",
    "                            for line in csv_reader:\n",
    "                                print(line)\n",
    "    \n",
    "    ----------------------------------------------------------------------------------------\n",
    "    \n",
    "    Suppose you’re working with the following employee_addresses.txt file\n",
    "    \n",
    "                                name,address,date joined\n",
    "                                john smith,1132 Anywhere Lane Hoboken NJ, 07030,Jan 4\n",
    "                                erica meyers,1234 Smith Lane Hoboken NJ, 07030,March 2\n",
    "                                \n",
    "                                \n",
    "    This CSV file contains three fields: name, address, and date joined, which are delimited by commas. The problem is that the data for the address field also contains a comma to signify the zip code.\n",
    "\n",
    "        There are three different ways to handle this situation:\n",
    "            -------------------------------\n",
    "            - Use a different delimiter - delimiter\n",
    "            -------------------------------\n",
    "            That way, the comma can safely be used in the data itself. You use the delimiter optional parameter to specify the new delimiter.\n",
    "            ----------------------------\n",
    "            - Wrap the data in quotes - quotechar\n",
    "            ----------------------------        \n",
    "                addresses.csv\n",
    "\n",
    "                Name, Age, Address\n",
    "                Jerry, 44, '2776 McDowell Street, Nashville, Tennessee'\n",
    "                Tom, 21, '3171 Jessie Street, Westerville, Ohio'\n",
    "                Mike, 32, '1818 Sherman Street, Hope, Kansas'\n",
    "        \n",
    "        There are two things to notice in this file. First, the address field is wrapped using single quote (') instead of \" double quote (which is the default). Second, there are spaces following the comma (,).\n",
    "\n",
    "    If you try to read this file without changing the quote character, you will get the output as follows:\n",
    "\n",
    "\n",
    "                            import csv\n",
    "\n",
    "                            with open('addresses.csv', 'rt') as f:\n",
    "                                csv_reader = csv.reader(f, skipinitialspace=True)\n",
    "\n",
    "                                for line in csv_reader:\n",
    "                                    print(line)\n",
    "                \n",
    "                Expected Output:\n",
    "                ['Name', 'Age', 'Address']\n",
    "                ['Jerry', '44', \"'2776 McDowell Street\", 'Nashville', \"Tennessee'\"]\n",
    "                ['Tom', '21', \"'3171 Jessie Street\", 'Westerville', \"Ohio'\"]\n",
    "                ['Mike', '32', \"'1818 Sherman Street\", 'Hope', \"Kansas'\"]\n",
    "    \n",
    "    Notice that the address is split into three fields, which is certainly not correct. To fix the issue simply change quote character to a single quote (') using the quotechar argument:\n",
    "\n",
    "                import csv\n",
    "\n",
    "                with open('housing.csv', 'rt') as f:\n",
    "                    csv_reader = csv.reader(f, skipinitialspace=True, quotechar=\"'\")\n",
    "\n",
    "                    for line in csv_reader:\n",
    "                        print(line)\n",
    "            \n",
    "            Expected Output:\n",
    "            ['Name', 'Age', 'Address']\n",
    "            ['Jerry', '44', '2776 McDowell Street, Nashville, Tennessee']\n",
    "            ['Tom', '21', '3171 Jessie Street, Westerville, Ohio']\n",
    "            ['Mike', '32', '1818 Sherman Street, Hope, Kansas']\n",
    "                \n",
    "            ---------------------------------------------\n",
    "            - Escape the delimiter characters in the data - escapechar argument\n",
    "            ---------------------------------------------\n",
    "              escapechar argument\n",
    "                \n",
    "                comments.csv\n",
    "                Id, User, Comment\n",
    "                1, Bob, \"John said \\\"Hello World\\\"\"\n",
    "                2, Tom, \"\\\"The Magician\\\"\"\n",
    "                3, Harry, \"\\\"walk around the corner\\\" she explained to the child\"\n",
    "                4, Louis, \"He said, \\\"stop pulling the dog's tail\\\"\"\n",
    "\n",
    "        This file uses backslash (\\) character to escape the embedded double quotes. However, by default the default csv module uses a double quote character to escape double quote character.\n",
    "\n",
    "        If try to read this file using default options you will get the output like this:\n",
    "\n",
    "                import csv\n",
    "\n",
    "                with open('employees.csv', 'rt') as f:\n",
    "                    csv_reader = csv.reader(f, skipinitialspace=True)\n",
    "\n",
    "                    for line in csv_reader:\n",
    "                        print(line)\n",
    "\n",
    "                Expected Output:\n",
    "                ['Id', 'User', 'Comment']\n",
    "                ['1', 'Bob', 'John said \\\\Hello World\\\\\"\"']\n",
    "                ['2', 'Tom', '\\\\The Magician\\\\\"\"']\n",
    "                ['3', 'Harry', '\\\\walk around the corner\\\\\" she explained to the child\"']\n",
    "                ['4', 'Louis', 'He said, \\\\stop pulling the dog\\'s tail\\\\\"\"']\n",
    "\n",
    "      This output is certainly not desirable. To get the correct output change the escape character using escapechar argument, as follows:\n",
    "\n",
    "                import csv\n",
    "\n",
    "                with open('employees.csv', 'rt') as f:\n",
    "                    csv_reader = csv.reader(f, skipinitialspace=True, escapechar='\\\\')\n",
    "\n",
    "                    for line in csv_reader:\n",
    "                        print(line)\n",
    "\n",
    "                Expected Output:\n",
    "                ['Id', 'User', 'Comment']\n",
    "                ['1', 'Bob', 'John said \"Hello World\"']\n",
    "                ['2', 'Tom', '\"The Magician\"']\n",
    "                ['3', 'Harry', '\"walk around the corner\" she explained to the child']\n",
    "                ['4', 'Louis', 'He said, \"stop pulling the dog\\'s tail\"']\n",
    "        \n",
    "#### Writing CSV Files With csv\n",
    "    You can also write to a CSV file using a writer object and the .write_row()  and write_rows() methods.\n",
    "    \n",
    "    In the below example, The quotechar optional parameter tells the writer which character to use to quote fields when writing. Whether quoting is used or not, however, is determined by the quoting optional parameter:\n",
    "\n",
    "    If quoting is set to csv.QUOTE_MINIMAL, then .writerow() will quote fields only if they contain the delimiter or the quotechar. This is the default case.\n",
    "    If quoting is set to csv.QUOTE_ALL, then .writerow() will quote all fields.\n",
    "    If quoting is set to csv.QUOTE_NONNUMERIC, then .writerow() will quote all fields containing text data and convert all numeric fields to the float data type.\n",
    "    If quoting is set to csv.QUOTE_NONE, then .writerow() will escape delimiters instead of quoting them. In this case, you also must provide a value for the escapechar optional parameter."
   ]
  },
  {
   "cell_type": "code",
   "execution_count": 401,
   "id": "511f053b",
   "metadata": {},
   "outputs": [],
   "source": [
    "#writing into csv file using writer object and write_row()\n",
    "import csv\n",
    "\n",
    "with open('employee_file.csv', 'w', newline='') as csv_file:\n",
    "    csv_writer = csv.writer(csv_file, delimiter=',', quotechar='\"', quoting=csv.QUOTE_MINIMAL)\n",
    "    csv_writer.writerow(['John Smith', 'Accounting', 'November'])\n",
    "    csv_writer.writerow(['Erica Mayer', 'IT', 'March'])"
   ]
  },
  {
   "cell_type": "code",
   "execution_count": null,
   "id": "89c1d6eb",
   "metadata": {},
   "outputs": [],
   "source": [
    "##writing multiple rows into csv file using write_row()\n",
    "import csv\n",
    "\n",
    "header = ['id', 'name', 'address', 'zip']\n",
    "rows = [\n",
    "    [1, 'Hannah', '4891 Blackwell Street, Anchorage, Alaska', 99503 ],\n",
    "    [2, 'Walton', '4223 Half and Half Drive, Lemoore, California', 97401 ],\n",
    "    [3, 'Sam', '3952 Little Street, Akron, Ohio', 93704],\n",
    "    [4, 'Chris', '3192 Flinderation Road, Arlington Heights, Illinois', 62677],\n",
    "    [5, 'Doug', '3236 Walkers Ridge Way, Burr Ridge', 61257],\n",
    "]\n",
    "\n",
    "with open('customers.csv', 'wt') as f:\n",
    "    csv_writer = csv.writer(f)\n",
    "    csv_writer.writerow(header) # write header\n",
    "    for row in rows:\n",
    "        csv_writer.writerow(row)"
   ]
  },
  {
   "cell_type": "code",
   "execution_count": 406,
   "id": "df4ef176",
   "metadata": {},
   "outputs": [],
   "source": [
    "#writing into csv file using write_rows()\n",
    "import csv\n",
    "\n",
    "header = ['id', 'name', 'address', 'zip']\n",
    "rows = [\n",
    "    [1, 'Hannah', '4891 Blackwell Street, Anchorage, Alaska', 99503 ],\n",
    "    [2, 'Walton', '4223 Half and Half Drive, Lemoore, California', 97401 ],\n",
    "    [3, 'Sam', '3952 Little Street, Akron, Ohio', 93704],\n",
    "    [4, 'Chris', '3192 Flinderation Road, Arlington Heights, Illinois', 62677],\n",
    "    [5, 'Doug', '3236 Walkers Ridge Way, Burr Ridge', 61257],\n",
    "]\n",
    "\n",
    "with open('customers.csv', 'wt') as csv_file:\n",
    "    csv_writer = csv.writer(csv_file)\n",
    "    csv_writer.writerow(header) # write header\n",
    "    csv_writer.writerows(rows)\n",
    "    \n",
    "#ouput customers.csv file\n",
    "# id,name,address,zip\n",
    "# 1,Hannah,\"4891 Blackwell Street, Anchorage, Alaska\",99503\n",
    "# 2,Walton,\"4223 Half and Half Drive, Lemoore, California\",97401\n",
    "# 3,Sam,\"3952 Little Street, Akron, Ohio\",93704\n",
    "# 4,Chris,\"3192 Flinderation Road, Arlington Heights, Illinois\",62677\n",
    "# 5,Doug,\"3236 Walkers Ridge Way, Burr Ridge\",61257\n",
    "#Notice that only the address field is wrapped around double quotes.\n",
    "#This is because by default the quoting argument is set to QUOTE_MINIMAL.\n",
    "#In other words, fields will be quoted only when quotechar or delimiter appears in the data.\n"
   ]
  },
  {
   "cell_type": "markdown",
   "id": "44e81181",
   "metadata": {},
   "source": [
    "#### Writing CSV File From a Dictionary With csv\n",
    "    Since you can read our data into a dictionary, it’s only fair that you should be able to write it out from a dictionary as well\n",
    "    \n",
    "    Unlike DictReader, the fieldnames parameter is required when writing a dictionary. This makes sense, when you think about it: without a list of fieldnames, the DictWriter can’t know which keys to use to retrieve values from your dictionaries. It also uses the keys in fieldnames to write out the first row as column names.\n",
    "    \n",
    "    The code below generates the following output file:\n",
    "\n",
    "            emp_name,dept,birth_month\n",
    "            John Smith,Accounting,November\n",
    "            Erica Meyers,IT,March"
   ]
  },
  {
   "cell_type": "code",
   "execution_count": null,
   "id": "ae75025c",
   "metadata": {},
   "outputs": [],
   "source": [
    "#writing into csv file from a dictionary using DictWriter()\n",
    "import csv\n",
    "\n",
    "with open('employee_file2.csv', mode='w') as csv_file:\n",
    "    fieldnames = ['emp_name', 'dept', 'birth_month']\n",
    "    writer = csv.DictWriter(csv_file, fieldnames=fieldnames)\n",
    "\n",
    "    writer.writeheader() #write header using fieldnames\n",
    "    writer.writerow({'emp_name': 'John Smith', 'dept': 'Accounting', 'birth_month': 'November'})\n",
    "    writer.writerow({'emp_name': 'Erica Meyers', 'dept': 'IT', 'birth_month': 'March'})"
   ]
  },
  {
   "cell_type": "markdown",
   "id": "ac74b95b",
   "metadata": {},
   "source": [
    "### csv files with pandas\n",
    "    To show some of the power of pandas CSV capabilities, lets use a  more complicated file to read, called hrdata.csv. It contains data on company employees:\n",
    "\n",
    "                                    Name,Hire Date,Salary,Sick Days remaining\n",
    "                                    Graham Chapman,03/15/14,50000.00,10\n",
    "                                    John Cleese,06/01/15,65000.00,8\n",
    "                                    Eric Idle,05/12/14,45000.00,10\n",
    "                                    Terry Jones,11/01/13,70000.00,3\n",
    "                                    Terry Gilliam,08/12/14,48000.00,7\n",
    "                                    Michael Palin,05/23/13,66000.00,8\n",
    "\n",
    "    Reading the CSV into a pandas DataFrame is quick and straightforward:\n",
    "\n",
    "                                    import pandas\n",
    "                                    df = pandas.read_csv('hrdata.csv')\n",
    "                                    print(df)\n",
    "    \n",
    "    That’s it: three lines of code, and only one of them is doing the actual work. pandas.read_csv() opens, analyzes, and reads the CSV file provided, and stores the data in a DataFrame. Printing the DataFrame results in the following output:\n",
    "\n",
    "                                     Name Hire Date   Salary  Sick Days remaining\n",
    "                        0  Graham Chapman  03/15/14  50000.0                   10\n",
    "                        1     John Cleese  06/01/15  65000.0                    8\n",
    "                        2       Eric Idle  05/12/14  45000.0                   10\n",
    "                        3     Terry Jones  11/01/13  70000.0                    3\n",
    "                        4   Terry Gilliam  08/12/14  48000.0                    7\n",
    "                        5   Michael Palin  05/23/13  66000.0                    8\n",
    "\n",
    "    \n",
    "    Here are a few points worth noting:\n",
    "\n",
    "    First, pandas recognized that the first line of the CSV contained column names, and used them automatically. \n",
    "    However, pandas is also using zero-based integer indices in the DataFrame. That’s because we didn’t tell it what our index should be.\n",
    "    Further, if you look at the data types of our columns , you’ll see pandas has properly converted the Salary and Sick Days remaining columns to numbers, but the Hire Date column is still a String. This is easily confirmed in interactive mode:\n",
    "\n",
    "                        >>> print(type(df['Hire Date'][0]))\n",
    "                            <class 'str'>\n",
    "\n",
    "    Let’s tackle these issues one at a time. To use a different column as the DataFrame index, add the index_col optional parameter:\n",
    "\n",
    "                        import pandas\n",
    "                        df = pandas.read_csv('hrdata.csv', index_col='Name')\n",
    "                        print(df)\n",
    "                    \n",
    "                    \n",
    "                    Now the Name field is our DataFrame index:\n",
    "\n",
    "                                   Hire Date   Salary  Sick Days remaining\n",
    "                    Name                                                  \n",
    "                    Graham Chapman  03/15/14  50000.0                   10\n",
    "                    John Cleese     06/01/15  65000.0                    8\n",
    "                    Eric Idle       05/12/14  45000.0                   10\n",
    "                    Terry Jones     11/01/13  70000.0                    3\n",
    "                    Terry Gilliam   08/12/14  48000.0                    7\n",
    "                    Michael Palin   05/23/13  66000.0                    8\n",
    "\n",
    "    Next, let’s fix the data type of the Hire Date field. You can force pandas to read data as a date with the parse_dates optional parameter, which is defined as a list of column names to treat as dates:\n",
    "\n",
    "                    import pandas\n",
    "                    df = pandas.read_csv('hrdata.csv', index_col='Name', parse_dates=['Hire Date'])\n",
    "                    print(df)\n",
    "\n",
    "    Notice the difference in the output:\n",
    "\n",
    "                                    Hire Date   Salary  Sick Days remaining\n",
    "                    Name                                                   \n",
    "                    Graham Chapman 2014-03-15  50000.0                   10\n",
    "                    John Cleese    2015-06-01  65000.0                    8\n",
    "                    Eric Idle      2014-05-12  45000.0                   10\n",
    "                    Terry Jones    2013-11-01  70000.0                    3\n",
    "                    Terry Gilliam  2014-08-12  48000.0                    7\n",
    "                    Michael Palin  2013-05-23  66000.0                    8\n",
    "\n",
    "    The date is now formatted properly, which is easily confirmed in interactive mode:\n",
    "\n",
    "                    >>> print(type(df['Hire Date'][0]))\n",
    "                        <class 'pandas._libs.tslibs.timestamps.Timestamp'>\n",
    "                    \n",
    "    If your CSV files doesn’t have column names in the first line, you can use the names optional parameter to provide a list of column names. You can also use this if you want to override the column names provided in the first line. In this case, you must also tell pandas.read_csv() to ignore existing column names using the header=0 optional parameter:\n",
    "\n",
    "                    import pandas\n",
    "                    df = pandas.read_csv('hrdata.csv', \n",
    "                                index_col='Employee', \n",
    "                                parse_dates=['Hired'], \n",
    "                                header=0, \n",
    "                                names=['Employee', 'Hired','Salary', 'Sick Days'])\n",
    "                    print(df)\n",
    "\n",
    "    Notice that, since the column names changed, the columns specified in the index_col and parse_dates optional parameters must also be changed. This now results in the following output:\n",
    "\n",
    "                                                Hired   Salary  Sick Days\n",
    "                            Employee                                     \n",
    "                            Graham Chapman 2014-03-15  50000.0         10\n",
    "                            John Cleese    2015-06-01  65000.0          8\n",
    "                            Eric Idle      2014-05-12  45000.0         10\n",
    "                            Terry Jones    2013-11-01  70000.0          3\n",
    "                            Terry Gilliam  2014-08-12  48000.0          7\n",
    "                            Michael Palin  2013-05-23  66000.0          8\n",
    "\n",
    "#### Writing CSV Files With pandas\n",
    "    Of course, if you can’t get your data out of pandas again, it doesn’t do you much good. Writing a DataFrame to a CSV file is just as easy as reading one in. Let’s write the data with the new column names to a new CSV file:\n",
    "\n",
    "                                import pandas\n",
    "                                df = pandas.read_csv('hrdata.csv', \n",
    "                                            index_col='Employee', \n",
    "                                            parse_dates=['Hired'],\n",
    "                                            header=0, \n",
    "                                            names=['Employee', 'Hired', 'Salary', 'Sick Days'])\n",
    "                                df.to_csv('hrdata_modified.csv')\n",
    "                                \n",
    "\n",
    "    The only difference between this code and the reading code above is that the print(df) call was replaced with df.to_csv(), providing the file name. The new CSV file looks like this:\n",
    "\n",
    "                                Employee,Hired,Salary,Sick Days\n",
    "                                Graham Chapman,2014-03-15,50000.0,10\n",
    "                                John Cleese,2015-06-01,65000.0,8\n",
    "                                Eric Idle,2014-05-12,45000.0,10\n",
    "                                Terry Jones,2013-11-01,70000.0,3\n",
    "                                Terry Gilliam,2014-08-12,48000.0,7\n",
    "                                Michael Palin,2013-05-23,66000.0,8\n",
    "                  \n",
    "                  Another eg: \n",
    "                     \n",
    "                    import pandas as pd\n",
    "\n",
    "                    # creating a data frame\n",
    "                    df = pd.DataFrame([['Jack', 24], ['Rose', 22]], columns = ['Name', 'Age'])\n",
    "\n",
    "                    # writing data frame to a CSV file\n",
    "                    df.to_csv('person.csv')\n",
    "\n",
    "     Also see ref link: https://realpython.com/working-with-large-excel-files-in-pandas/ - dealing with larger files and converting them to excel, renaming the df column, loading the larger memory file into pandas using low_memory argument, performing sql like queries, dropping null values, chnaging the hexadecimal formatted columns to unicode, moving everthing after modifying to excel\n",
    "     Dealing with html files using requests, beautifulsoup and lxml - https://datascienceplus.com/parsing-html-and-applying-unsupervised-machine-learning-part-1-html-processing-using-python/\n",
    "     "
   ]
  },
  {
   "cell_type": "code",
   "execution_count": null,
   "id": "d83bb48c",
   "metadata": {},
   "outputs": [],
   "source": []
  }
 ],
 "metadata": {
  "kernelspec": {
   "display_name": "Python 3 (ipykernel)",
   "language": "python",
   "name": "python3"
  },
  "language_info": {
   "codemirror_mode": {
    "name": "ipython",
    "version": 3
   },
   "file_extension": ".py",
   "mimetype": "text/x-python",
   "name": "python",
   "nbconvert_exporter": "python",
   "pygments_lexer": "ipython3",
   "version": "3.8.10"
  }
 },
 "nbformat": 4,
 "nbformat_minor": 5
}
