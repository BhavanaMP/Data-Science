{
 "cells": [
  {
   "cell_type": "code",
   "execution_count": 42,
   "id": "8bfa137b",
   "metadata": {},
   "outputs": [],
   "source": [
    "import numpy as np\n",
    "import matplotlib.pyplot as plt"
   ]
  },
  {
   "cell_type": "markdown",
   "id": "63b9db40",
   "metadata": {},
   "source": [
    "#### 1D Array"
   ]
  },
  {
   "cell_type": "code",
   "execution_count": 60,
   "id": "999f9509",
   "metadata": {},
   "outputs": [
    {
     "data": {
      "text/plain": [
       "array([1, 2, 3, 4])"
      ]
     },
     "execution_count": 60,
     "metadata": {},
     "output_type": "execute_result"
    }
   ],
   "source": [
    "#Array is sequence of elements of same data type with fixed size.Each row should have same number of columns\n",
    "#arrays are fast and memory efficient compared to lists.Can be accessed by indexes\n",
    "one_dim = np.array([1, 2, 3, 4])\n",
    "one_dim"
   ]
  },
  {
   "cell_type": "code",
   "execution_count": null,
   "id": "cf6cb11e",
   "metadata": {},
   "outputs": [],
   "source": [
    "one_dim.shape #total number of elements"
   ]
  },
  {
   "cell_type": "code",
   "execution_count": 31,
   "id": "fff2d8df",
   "metadata": {},
   "outputs": [
    {
     "data": {
      "text/plain": [
       "1"
      ]
     },
     "execution_count": 31,
     "metadata": {},
     "output_type": "execute_result"
    }
   ],
   "source": [
    "one_dim.ndim #ndim gives num of dimensions.Since this is 1d array it o/p's 1"
   ]
  },
  {
   "cell_type": "markdown",
   "id": "352f7ce9",
   "metadata": {},
   "source": [
    "#### 2D Array"
   ]
  },
  {
   "cell_type": "code",
   "execution_count": 13,
   "id": "3965f958",
   "metadata": {},
   "outputs": [
    {
     "data": {
      "text/plain": [
       "array([[ 1,  2,  3,  4],\n",
       "       [ 5,  6,  7,  8],\n",
       "       [ 9, 10, 11, 12]])"
      ]
     },
     "execution_count": 13,
     "metadata": {},
     "output_type": "execute_result"
    }
   ],
   "source": [
    "two_dim = np.array([[1, 2, 3, 4], [5, 6, 7, 8], [9, 10, 11, 12]])\n",
    "two_dim "
   ]
  },
  {
   "cell_type": "code",
   "execution_count": 14,
   "id": "9d9acec4",
   "metadata": {},
   "outputs": [
    {
     "data": {
      "text/plain": [
       "(3, 4)"
      ]
     },
     "execution_count": 14,
     "metadata": {},
     "output_type": "execute_result"
    }
   ],
   "source": [
    "two_dim.shape \n",
    "#Observation:\n",
    "#3 rows, 4 columns and the array is 2 dimesional as it contains 2 braces which depicts 2 layers((as it has 2 elements in the tuple).Matrix representation"
   ]
  },
  {
   "cell_type": "markdown",
   "id": "7ef7be16",
   "metadata": {},
   "source": [
    "#### 3D Array"
   ]
  },
  {
   "cell_type": "code",
   "execution_count": 20,
   "id": "30ac4482",
   "metadata": {},
   "outputs": [],
   "source": [
    "three_dim = np.array([\n",
    "    [\n",
    "        [1, 2, 4], [5, 7, 8]\n",
    "    ]\n",
    "])"
   ]
  },
  {
   "cell_type": "code",
   "execution_count": 21,
   "id": "6fcc3921",
   "metadata": {},
   "outputs": [
    {
     "data": {
      "text/plain": [
       "array([[[1, 2, 4],\n",
       "        [5, 7, 8]]])"
      ]
     },
     "execution_count": 21,
     "metadata": {},
     "output_type": "execute_result"
    }
   ],
   "source": [
    " #Tip: always read like layers(rows(columns)) first[] - represent layers, second [] represents rows, 3rd [] represents columns\n",
    "#layer is nothing but depth.Think of rgb format of pixels,we will have 3 depths of matrices with different pixels of data in each depth\n",
    "three_dim"
   ]
  },
  {
   "cell_type": "code",
   "execution_count": 23,
   "id": "e219b4f1",
   "metadata": {},
   "outputs": [
    {
     "data": {
      "text/plain": [
       "(1, 2, 3)"
      ]
     },
     "execution_count": 23,
     "metadata": {},
     "output_type": "execute_result"
    }
   ],
   "source": [
    "three_dim.shape #1 layer inside first [], 2 rows inside second [], 3 columns inside third []"
   ]
  },
  {
   "cell_type": "code",
   "execution_count": 24,
   "id": "d2b3e9b3",
   "metadata": {},
   "outputs": [],
   "source": [
    "three_dim_2 = np.array([\n",
    "    [[1, 3, 4, 7], [8, 9, 10, 11], [12, 13, 14, 15]], \n",
    "    [[16, 17, 18, 19], [20, 21, 22, 23], [24, 25, 26, 27]]\n",
    "])"
   ]
  },
  {
   "cell_type": "code",
   "execution_count": 25,
   "id": "cefd1169",
   "metadata": {},
   "outputs": [
    {
     "data": {
      "text/plain": [
       "(2, 3, 4)"
      ]
     },
     "execution_count": 25,
     "metadata": {},
     "output_type": "execute_result"
    }
   ],
   "source": [
    "#If we observe, we have 2 layers, 3 rows, 4 columns\n",
    "three_dim_2.shape"
   ]
  },
  {
   "cell_type": "code",
   "execution_count": 26,
   "id": "ea3236de",
   "metadata": {},
   "outputs": [
    {
     "data": {
      "text/plain": [
       "24"
      ]
     },
     "execution_count": 26,
     "metadata": {},
     "output_type": "execute_result"
    }
   ],
   "source": [
    "three_dim_2.size #size gives total number of elements in the array => product of shape"
   ]
  },
  {
   "cell_type": "code",
   "execution_count": 30,
   "id": "eac389b1",
   "metadata": {},
   "outputs": [
    {
     "data": {
      "text/plain": [
       "<function numpy.ndim(a)>"
      ]
     },
     "execution_count": 30,
     "metadata": {},
     "output_type": "execute_result"
    }
   ],
   "source": [
    "three_dim_2.ndim #ndim gives number of dimensions. Since this is a 3d array [[[]]] or shape has 3 numbers (x,x,x), it gives o/p as 3"
   ]
  },
  {
   "cell_type": "markdown",
   "id": "4ec69415",
   "metadata": {},
   "source": [
    "#### ----------------------------------- arange() ---------------------------------------------"
   ]
  },
  {
   "cell_type": "code",
   "execution_count": 33,
   "id": "e0eda7e2",
   "metadata": {},
   "outputs": [
    {
     "data": {
      "text/plain": [
       "array([0, 1, 2, 3, 4, 5])"
      ]
     },
     "execution_count": 33,
     "metadata": {},
     "output_type": "execute_result"
    }
   ],
   "source": [
    "#arange is used to create 1d array of specified range starting from 0 to speicifed number\n",
    "arange_arr = np.arange(6)\n",
    "arange_arr"
   ]
  },
  {
   "cell_type": "code",
   "execution_count": 38,
   "id": "981ae9ca",
   "metadata": {},
   "outputs": [
    {
     "data": {
      "text/plain": [
       "array([3, 4, 5, 6])"
      ]
     },
     "execution_count": 38,
     "metadata": {},
     "output_type": "execute_result"
    }
   ],
   "source": [
    "#we can also specify start and stop excluding stop number\n",
    "arange_2 = np.arange(3, 7)\n",
    "arange_2"
   ]
  },
  {
   "cell_type": "code",
   "execution_count": 40,
   "id": "fa652a72",
   "metadata": {},
   "outputs": [
    {
     "data": {
      "text/plain": [
       "array([3, 5])"
      ]
     },
     "execution_count": 40,
     "metadata": {},
     "output_type": "execute_result"
    }
   ],
   "source": [
    "#we can specify step also create equal interval range of numbers\n",
    "arange_3 = np.arange(3, 7, step=2)\n",
    "arange_3"
   ]
  },
  {
   "cell_type": "markdown",
   "id": "589469c2",
   "metadata": {},
   "source": [
    "#### --------------------------------------- linspace() -----------------------------------------"
   ]
  },
  {
   "cell_type": "code",
   "execution_count": 41,
   "id": "eb95b8ac",
   "metadata": {
    "scrolled": true
   },
   "outputs": [
    {
     "data": {
      "text/plain": [
       "array([ 2.        ,  2.16326531,  2.32653061,  2.48979592,  2.65306122,\n",
       "        2.81632653,  2.97959184,  3.14285714,  3.30612245,  3.46938776,\n",
       "        3.63265306,  3.79591837,  3.95918367,  4.12244898,  4.28571429,\n",
       "        4.44897959,  4.6122449 ,  4.7755102 ,  4.93877551,  5.10204082,\n",
       "        5.26530612,  5.42857143,  5.59183673,  5.75510204,  5.91836735,\n",
       "        6.08163265,  6.24489796,  6.40816327,  6.57142857,  6.73469388,\n",
       "        6.89795918,  7.06122449,  7.2244898 ,  7.3877551 ,  7.55102041,\n",
       "        7.71428571,  7.87755102,  8.04081633,  8.20408163,  8.36734694,\n",
       "        8.53061224,  8.69387755,  8.85714286,  9.02040816,  9.18367347,\n",
       "        9.34693878,  9.51020408,  9.67346939,  9.83673469, 10.        ])"
      ]
     },
     "execution_count": 41,
     "metadata": {},
     "output_type": "execute_result"
    }
   ],
   "source": [
    "#linspace is used to create an array with values that are spaced linearly in a specified interval.specify start, stop and number of elements needed in that specified interval\n",
    "array_ls = np.linspace(2, 10, 50)\n",
    "array_ls"
   ]
  },
  {
   "cell_type": "code",
   "execution_count": 43,
   "id": "2e663efb",
   "metadata": {},
   "outputs": [
    {
     "data": {
      "text/plain": [
       "[<matplotlib.lines.Line2D at 0x1bc9e0c8a30>]"
      ]
     },
     "execution_count": 43,
     "metadata": {},
     "output_type": "execute_result"
    },
    {
     "data": {
      "image/png": "[encoded data removed]",
      "text/plain": [
       "<Figure size 640x480 with 1 Axes>"
      ]
     },
     "metadata": {},
     "output_type": "display_data"
    }
   ],
   "source": [
    "plt.plot(array_ls, 'o')"
   ]
  },
  {
   "cell_type": "code",
   "execution_count": 46,
   "id": "5435f0d2",
   "metadata": {},
   "outputs": [
    {
     "data": {
      "text/plain": [
       "array([ 2,  2,  2,  2,  2,  2,  2,  3,  3,  3,  3,  3,  3,  4,  4,  4,  4,\n",
       "        4,  4,  5,  5,  5,  5,  5,  5,  6,  6,  6,  6,  6,  6,  7,  7,  7,\n",
       "        7,  7,  7,  8,  8,  8,  8,  8,  8,  9,  9,  9,  9,  9,  9, 10])"
      ]
     },
     "execution_count": 46,
     "metadata": {},
     "output_type": "execute_result"
    }
   ],
   "source": [
    "# we can also speicify dtype as required.default is float\n",
    "array_ls_2 = np.linspace(2, 10, 50, dtype='int')\n",
    "array_ls_2"
   ]
  },
  {
   "cell_type": "markdown",
   "id": "82468d97",
   "metadata": {},
   "source": [
    "#### ----------------------------- ones() and ones_like()-------------------------------------"
   ]
  },
  {
   "cell_type": "code",
   "execution_count": 50,
   "id": "010989f2",
   "metadata": {},
   "outputs": [
    {
     "data": {
      "text/plain": [
       "array([1., 1., 1., 1., 1., 1.])"
      ]
     },
     "execution_count": 50,
     "metadata": {},
     "output_type": "execute_result"
    }
   ],
   "source": [
    "#We can create an array of specified number or shape filled with ones\n",
    "array_ones = np.ones(6)\n",
    "array_ones"
   ]
  },
  {
   "cell_type": "code",
   "execution_count": 53,
   "id": "916fbf86",
   "metadata": {},
   "outputs": [
    {
     "data": {
      "text/plain": [
       "array([[1, 1, 1],\n",
       "       [1, 1, 1]])"
      ]
     },
     "execution_count": 53,
     "metadata": {},
     "output_type": "execute_result"
    }
   ],
   "source": [
    "array_ones_2 = np.ones((2, 3), dtype='int')\n",
    "array_ones_2"
   ]
  },
  {
   "cell_type": "code",
   "execution_count": 58,
   "id": "b94ea862",
   "metadata": {},
   "outputs": [
    {
     "data": {
      "text/plain": [
       "array([[3, 4],\n",
       "       [5, 6]])"
      ]
     },
     "execution_count": 58,
     "metadata": {},
     "output_type": "execute_result"
    }
   ],
   "source": [
    "#We can also create array with 1's just similar to another array's shape using ones_like\n",
    "array_ones_3 = np.array([[3, 4],[5, 6]])\n",
    "array_ones_3"
   ]
  },
  {
   "cell_type": "code",
   "execution_count": 59,
   "id": "2ccde36b",
   "metadata": {},
   "outputs": [
    {
     "data": {
      "text/plain": [
       "array([[1, 1],\n",
       "       [1, 1]])"
      ]
     },
     "execution_count": 59,
     "metadata": {},
     "output_type": "execute_result"
    }
   ],
   "source": [
    "array_ones_like = np.ones_like(array_ones_3)\n",
    "array_ones_like"
   ]
  },
  {
   "cell_type": "markdown",
   "id": "add8faa1",
   "metadata": {},
   "source": [
    "#### --------------------------------------- zeros and zeros_like()-------------------------------------------"
   ]
  },
  {
   "cell_type": "code",
   "execution_count": 61,
   "id": "bba8a5ed",
   "metadata": {},
   "outputs": [
    {
     "data": {
      "text/plain": [
       "array([0., 0., 0., 0., 0., 0., 0.])"
      ]
     },
     "execution_count": 61,
     "metadata": {},
     "output_type": "execute_result"
    }
   ],
   "source": [
    "#Just like ones() and ones_like, we can fill the arrays with zeros of specified shape or size\n",
    "array_zeros = np.zeros(7)\n",
    "array_zeros"
   ]
  },
  {
   "cell_type": "code",
   "execution_count": 67,
   "id": "d02ef9eb",
   "metadata": {},
   "outputs": [
    {
     "data": {
      "text/plain": [
       "array([[0., 0., 0.],\n",
       "       [0., 0., 0.],\n",
       "       [0., 0., 0.],\n",
       "       [0., 0., 0.]])"
      ]
     },
     "execution_count": 67,
     "metadata": {},
     "output_type": "execute_result"
    }
   ],
   "source": [
    "array_zeros_1 = np.zeros([4,3])\n",
    "array_zeros_1"
   ]
  },
  {
   "cell_type": "code",
   "execution_count": 63,
   "id": "c2614a0e",
   "metadata": {},
   "outputs": [
    {
     "data": {
      "text/plain": [
       "array([0, 0, 0, 0])"
      ]
     },
     "execution_count": 63,
     "metadata": {},
     "output_type": "execute_result"
    }
   ],
   "source": [
    "sample = np.array([2, 3, 4, 5])\n",
    "array_zeros_2 = np.zeros_like(sample)\n",
    "array_zeros_2"
   ]
  },
  {
   "cell_type": "markdown",
   "id": "17443f86",
   "metadata": {},
   "source": [
    "#### -------------------------------------- empty() and empty_like()-----------------------------------------------"
   ]
  },
  {
   "cell_type": "code",
   "execution_count": 64,
   "id": "975e0a0f",
   "metadata": {},
   "outputs": [
    {
     "data": {
      "text/plain": [
       "array([ 80. ,  52.8, 576. , 422.4])"
      ]
     },
     "execution_count": 64,
     "metadata": {},
     "output_type": "execute_result"
    }
   ],
   "source": [
    "#create empty array filled with random numbers saved previously in the memory\n",
    "array_emp = np.empty(4)\n",
    "array_emp"
   ]
  },
  {
   "cell_type": "code",
   "execution_count": 77,
   "id": "0459fb71",
   "metadata": {},
   "outputs": [
    {
     "data": {
      "text/plain": [
       "array([[4.16666667, 0.        , 0.        ],\n",
       "       [0.        , 4.16666667, 0.        ],\n",
       "       [0.        , 0.        , 1.        ]])"
      ]
     },
     "execution_count": 77,
     "metadata": {},
     "output_type": "execute_result"
    }
   ],
   "source": [
    "array_emp_2 = np.empty([3, 3])\n",
    "array_emp_2"
   ]
  },
  {
   "cell_type": "code",
   "execution_count": 78,
   "id": "6cf907cb",
   "metadata": {},
   "outputs": [
    {
     "data": {
      "text/plain": [
       "array([[4.16666667, 0.        , 0.        ],\n",
       "       [0.        , 4.16666667, 0.        ],\n",
       "       [0.        , 0.        , 1.        ]])"
      ]
     },
     "execution_count": 78,
     "metadata": {},
     "output_type": "execute_result"
    }
   ],
   "source": [
    "array_emp_3 = np.empty_like(array_emp_2)\n",
    "array_emp_3"
   ]
  },
  {
   "cell_type": "markdown",
   "id": "364edd69",
   "metadata": {},
   "source": [
    "#### -------------------------------------------- full() and full_like() -----------------------------------------------------"
   ]
  },
  {
   "cell_type": "code",
   "execution_count": 79,
   "id": "cfdd7d91",
   "metadata": {},
   "outputs": [
    {
     "data": {
      "text/plain": [
       "array([[[2, 2, 2, 2],\n",
       "        [2, 2, 2, 2],\n",
       "        [2, 2, 2, 2]],\n",
       "\n",
       "       [[2, 2, 2, 2],\n",
       "        [2, 2, 2, 2],\n",
       "        [2, 2, 2, 2]]])"
      ]
     },
     "execution_count": 79,
     "metadata": {},
     "output_type": "execute_result"
    }
   ],
   "source": [
    "array_full = np.full((2, 3, 4), 2) #fills the array of specified shape(2, 3, 4) with specified value(2)\n",
    "array_full"
   ]
  },
  {
   "cell_type": "code",
   "execution_count": 82,
   "id": "7c7b3a9b",
   "metadata": {},
   "outputs": [
    {
     "data": {
      "text/plain": [
       "array([[[6, 6, 6, 6],\n",
       "        [6, 6, 6, 6],\n",
       "        [6, 6, 6, 6]],\n",
       "\n",
       "       [[6, 6, 6, 6],\n",
       "        [6, 6, 6, 6],\n",
       "        [6, 6, 6, 6]]])"
      ]
     },
     "execution_count": 82,
     "metadata": {},
     "output_type": "execute_result"
    }
   ],
   "source": [
    "array_full_2 = np.full_like(array_full, 6)\n",
    "array_full_2"
   ]
  },
  {
   "cell_type": "markdown",
   "id": "710ff714",
   "metadata": {},
   "source": [
    "#### ------------------------------------ axis ------------------------------------------------------\n",
    "      ----------------> axis = 1(horizontal)(columns) represents all the columns of a single/many observations \n",
    "     |  |--|---|--|---|\n",
    "     |  |--|---|--|---|\n",
    "     |  |--|---|--|---|\n",
    "     |  |--|---|--|---|\n",
    "     |  |--|---|--|---|\n",
    "     \\/\n",
    "     axis=0(vertical)(rows)(represents a single column of all the rows(or observations)"
   ]
  },
  {
   "cell_type": "markdown",
   "id": "c1fac1e6",
   "metadata": {},
   "source": [
    "#### ----------------------- axis() with concatenate(), min(), max(), sum() --------------------------"
   ]
  },
  {
   "cell_type": "code",
   "execution_count": 86,
   "id": "b6121f01",
   "metadata": {},
   "outputs": [],
   "source": [
    "arr_1 = np.ones((3,2), dtype='int')\n",
    "arr_2 = np.full_like(arr_1, 22)"
   ]
  },
  {
   "cell_type": "code",
   "execution_count": 85,
   "id": "84e3916c",
   "metadata": {},
   "outputs": [
    {
     "data": {
      "text/plain": [
       "array([[1, 1],\n",
       "       [1, 1],\n",
       "       [1, 1]])"
      ]
     },
     "execution_count": 85,
     "metadata": {},
     "output_type": "execute_result"
    }
   ],
   "source": [
    "arr_1"
   ]
  },
  {
   "cell_type": "code",
   "execution_count": 87,
   "id": "cf64cae2",
   "metadata": {},
   "outputs": [
    {
     "data": {
      "text/plain": [
       "array([[22, 22],\n",
       "       [22, 22],\n",
       "       [22, 22]])"
      ]
     },
     "execution_count": 87,
     "metadata": {},
     "output_type": "execute_result"
    }
   ],
   "source": [
    "arr_2"
   ]
  },
  {
   "cell_type": "code",
   "execution_count": 205,
   "id": "0a1ff326",
   "metadata": {},
   "outputs": [
    {
     "data": {
      "text/plain": [
       "array([1, 2, 3, 4, 5, 6, 7, 8])"
      ]
     },
     "execution_count": 205,
     "metadata": {},
     "output_type": "execute_result"
    }
   ],
   "source": [
    "a = np.array([1, 2, 3, 4])\n",
    "b = np.array([5, 6, 7, 8])\n",
    "arr_concat = np.concatenate((a, b))\n",
    "arr_concat"
   ]
  },
  {
   "cell_type": "code",
   "execution_count": 88,
   "id": "030fde0f",
   "metadata": {},
   "outputs": [
    {
     "data": {
      "text/plain": [
       "array([[ 1,  1],\n",
       "       [ 1,  1],\n",
       "       [ 1,  1],\n",
       "       [22, 22],\n",
       "       [22, 22],\n",
       "       [22, 22]])"
      ]
     },
     "execution_count": 88,
     "metadata": {},
     "output_type": "execute_result"
    }
   ],
   "source": [
    "#------------Concatenate--------------------------\n",
    "concat_1 = np.concatenate((arr_1, arr_2), axis=0) #concatenate arrays across columns below columns.vertical concat\n",
    "concat_1"
   ]
  },
  {
   "cell_type": "code",
   "execution_count": 89,
   "id": "89a30cbf",
   "metadata": {},
   "outputs": [
    {
     "data": {
      "text/plain": [
       "array([[ 1,  1, 22, 22],\n",
       "       [ 1,  1, 22, 22],\n",
       "       [ 1,  1, 22, 22]])"
      ]
     },
     "execution_count": 89,
     "metadata": {},
     "output_type": "execute_result"
    }
   ],
   "source": [
    "concat_2 = np.concatenate((arr_1, arr_2), axis=1) #horizontal concat.concat rows next to rows\n",
    "concat_2"
   ]
  },
  {
   "cell_type": "code",
   "execution_count": 91,
   "id": "995a1507",
   "metadata": {},
   "outputs": [
    {
     "data": {
      "text/html": [
       "<div>\n",
       "<style scoped>\n",
       "    .dataframe tbody tr th:only-of-type {\n",
       "        vertical-align: middle;\n",
       "    }\n",
       "\n",
       "    .dataframe tbody tr th {\n",
       "        vertical-align: top;\n",
       "    }\n",
       "\n",
       "    .dataframe thead th {\n",
       "        text-align: right;\n",
       "    }\n",
       "</style>\n",
       "<table border=\"1\" class=\"dataframe\">\n",
       "  <thead>\n",
       "    <tr style=\"text-align: right;\">\n",
       "      <th></th>\n",
       "      <th>0</th>\n",
       "      <th>1</th>\n",
       "      <th>0</th>\n",
       "      <th>1</th>\n",
       "    </tr>\n",
       "  </thead>\n",
       "  <tbody>\n",
       "    <tr>\n",
       "      <th>0</th>\n",
       "      <td>1</td>\n",
       "      <td>1</td>\n",
       "      <td>22</td>\n",
       "      <td>22</td>\n",
       "    </tr>\n",
       "    <tr>\n",
       "      <th>1</th>\n",
       "      <td>1</td>\n",
       "      <td>1</td>\n",
       "      <td>22</td>\n",
       "      <td>22</td>\n",
       "    </tr>\n",
       "    <tr>\n",
       "      <th>2</th>\n",
       "      <td>1</td>\n",
       "      <td>1</td>\n",
       "      <td>22</td>\n",
       "      <td>22</td>\n",
       "    </tr>\n",
       "  </tbody>\n",
       "</table>\n",
       "</div>"
      ],
      "text/plain": [
       "   0  1   0   1\n",
       "0  1  1  22  22\n",
       "1  1  1  22  22\n",
       "2  1  1  22  22"
      ]
     },
     "execution_count": 91,
     "metadata": {},
     "output_type": "execute_result"
    }
   ],
   "source": [
    "#showing the same with pandas\n",
    "import pandas as pd\n",
    "df_1 = pd.DataFrame(arr_1)\n",
    "df_2 = pd.DataFrame(arr_2)\n",
    "df3 = pd.concat([df_1, df_2], axis=1)\n",
    "df3"
   ]
  },
  {
   "cell_type": "code",
   "execution_count": 95,
   "id": "ac62bfea",
   "metadata": {},
   "outputs": [
    {
     "data": {
      "text/plain": [
       "array([[1, 2],\n",
       "       [3, 4],\n",
       "       [5, 6]])"
      ]
     },
     "execution_count": 95,
     "metadata": {},
     "output_type": "execute_result"
    }
   ],
   "source": [
    "#--------------Aggregate functions with axis---------------------\n",
    "arr_4 = np.array([[1, 2], [3, 4], [5, 6]])\n",
    "arr_4"
   ]
  },
  {
   "cell_type": "code",
   "execution_count": 96,
   "id": "5a0aefab",
   "metadata": {},
   "outputs": [
    {
     "data": {
      "text/plain": [
       "array([1, 2])"
      ]
     },
     "execution_count": 96,
     "metadata": {},
     "output_type": "execute_result"
    }
   ],
   "source": [
    "#----------min()-----------------\n",
    "arr_min = np.min(arr_4, axis=0) #similarly arr_4.min(axis=0)\n",
    "arr_min #min vertically across each feature.As arr_4 contains two features, it returns 2 min values across each feature"
   ]
  },
  {
   "cell_type": "code",
   "execution_count": 97,
   "id": "6b4138db",
   "metadata": {},
   "outputs": [
    {
     "data": {
      "text/plain": [
       "array([1, 3, 5])"
      ]
     },
     "execution_count": 97,
     "metadata": {},
     "output_type": "execute_result"
    }
   ],
   "source": [
    "arr_min = np.min(arr_4, axis=1) #similarly arr_4.min(axis=1)\n",
    "arr_min #min horizontally across all columns for each observation.As arr_4 contains 3 observations, it returns 3 min values across each observation"
   ]
  },
  {
   "cell_type": "code",
   "execution_count": 102,
   "id": "54234b4c",
   "metadata": {},
   "outputs": [
    {
     "data": {
      "text/plain": [
       "1"
      ]
     },
     "execution_count": 102,
     "metadata": {},
     "output_type": "execute_result"
    }
   ],
   "source": [
    "arr_4.min() #returns min value out of all the values"
   ]
  },
  {
   "cell_type": "code",
   "execution_count": 98,
   "id": "25e81704",
   "metadata": {},
   "outputs": [
    {
     "data": {
      "text/plain": [
       "array([5, 6])"
      ]
     },
     "execution_count": 98,
     "metadata": {},
     "output_type": "execute_result"
    }
   ],
   "source": [
    "#----------max()-----------------\n",
    "arr_max = np.max(arr_4, axis=0) #similarly arr_4.max(axis=0)\n",
    "arr_max #max vertically across each feature.As arr_4 contains two features/columns, it returns 2 max values across each feature"
   ]
  },
  {
   "cell_type": "code",
   "execution_count": 99,
   "id": "fd68908e",
   "metadata": {},
   "outputs": [
    {
     "data": {
      "text/plain": [
       "array([2, 4, 6])"
      ]
     },
     "execution_count": 99,
     "metadata": {},
     "output_type": "execute_result"
    }
   ],
   "source": [
    "arr_max = np.max(arr_4, axis=1) #similarly arr_4.max(axis=1)\n",
    "arr_max #max horizontally across all columns for each observation.As arr_4 contains 3 observations, it returns 3 max values across each observation"
   ]
  },
  {
   "cell_type": "code",
   "execution_count": 101,
   "id": "f201425f",
   "metadata": {},
   "outputs": [
    {
     "data": {
      "text/plain": [
       "6"
      ]
     },
     "execution_count": 101,
     "metadata": {},
     "output_type": "execute_result"
    }
   ],
   "source": [
    "arr_4.max() #returns max value out of all the values"
   ]
  },
  {
   "cell_type": "code",
   "execution_count": 100,
   "id": "97552833",
   "metadata": {},
   "outputs": [
    {
     "data": {
      "text/plain": [
       "21"
      ]
     },
     "execution_count": 100,
     "metadata": {},
     "output_type": "execute_result"
    }
   ],
   "source": [
    "#----------------sum()----------------------------\n",
    "arr_sum = arr_4.sum()\n",
    "arr_sum #performs sum of all the values in the array"
   ]
  },
  {
   "cell_type": "code",
   "execution_count": 104,
   "id": "773ba243",
   "metadata": {},
   "outputs": [
    {
     "data": {
      "text/plain": [
       "array([ 9, 12])"
      ]
     },
     "execution_count": 104,
     "metadata": {},
     "output_type": "execute_result"
    }
   ],
   "source": [
    "arr_sum = arr_4.sum(axis=0) #sum vertically\n",
    "arr_sum"
   ]
  },
  {
   "cell_type": "code",
   "execution_count": 105,
   "id": "fbb80aa4",
   "metadata": {},
   "outputs": [
    {
     "data": {
      "text/plain": [
       "array([ 3,  7, 11])"
      ]
     },
     "execution_count": 105,
     "metadata": {},
     "output_type": "execute_result"
    }
   ],
   "source": [
    "arr_sum = arr_4.sum(axis=1) #sum horizontally\n",
    "arr_sum"
   ]
  },
  {
   "cell_type": "markdown",
   "id": "88393bb9",
   "metadata": {},
   "source": [
    "#### ------------------------------- flatten() -------------------------------------------"
   ]
  },
  {
   "cell_type": "code",
   "execution_count": 113,
   "id": "c91bc840",
   "metadata": {},
   "outputs": [
    {
     "data": {
      "text/plain": [
       "array([[1, 2],\n",
       "       [3, 4],\n",
       "       [5, 6]])"
      ]
     },
     "execution_count": 113,
     "metadata": {},
     "output_type": "execute_result"
    }
   ],
   "source": [
    "#flatten() - used to reduce the array of more than one dimension(2d or more) to a single dimension\n",
    "arr_flat = arr_4.copy()\n",
    "arr_flat"
   ]
  },
  {
   "cell_type": "code",
   "execution_count": 108,
   "id": "ba02c195",
   "metadata": {},
   "outputs": [
    {
     "data": {
      "text/plain": [
       "array([1, 2, 3, 4, 5, 6])"
      ]
     },
     "execution_count": 108,
     "metadata": {},
     "output_type": "execute_result"
    }
   ],
   "source": [
    "arr_flat_1 = arr_flat.flatten()\n",
    "arr_flat_1"
   ]
  },
  {
   "cell_type": "code",
   "execution_count": 109,
   "id": "a452ae43",
   "metadata": {},
   "outputs": [
    {
     "data": {
      "text/plain": [
       "array([1, 2, 3, 4, 5, 6])"
      ]
     },
     "execution_count": 109,
     "metadata": {},
     "output_type": "execute_result"
    }
   ],
   "source": [
    "arr_flat_2 = arr_flat.flatten(order='C') #Flattens by combining rows by rows.default\n",
    "arr_flat_2"
   ]
  },
  {
   "cell_type": "code",
   "execution_count": 111,
   "id": "cdc9bffe",
   "metadata": {},
   "outputs": [
    {
     "data": {
      "text/plain": [
       "array([1, 3, 5, 2, 4, 6])"
      ]
     },
     "execution_count": 111,
     "metadata": {},
     "output_type": "execute_result"
    }
   ],
   "source": [
    "arr_flat_3 = arr_flat.flatten(order='F') #Flattens by combining column by columns.\n",
    "arr_flat_3"
   ]
  },
  {
   "cell_type": "markdown",
   "id": "dd0f1396",
   "metadata": {},
   "source": [
    "#### --------------------------------- copy() ----------------------------------"
   ]
  },
  {
   "cell_type": "code",
   "execution_count": null,
   "id": "9d6c2e73",
   "metadata": {},
   "outputs": [],
   "source": [
    "#shallow copy - when an object is a copy of another object (uses'=' to represent copy), then it means both are referring to same adress location.\n",
    "#Modifying values of one object also modifies another object referring to same address location.\n",
    "#This is called as shallow copy as both are referring to same address in memory.\n",
    "#This is an issue when you dont want to modify the original array"
   ]
  },
  {
   "cell_type": "code",
   "execution_count": 114,
   "id": "81405463",
   "metadata": {},
   "outputs": [
    {
     "data": {
      "text/plain": [
       "array([[3, 4],\n",
       "       [8, 9]])"
      ]
     },
     "execution_count": 114,
     "metadata": {},
     "output_type": "execute_result"
    }
   ],
   "source": [
    "#Example of shallow copy\n",
    "arr_5 = np.array([[3, 4], [8, 9]]) #2d array\n",
    "arr_5"
   ]
  },
  {
   "cell_type": "code",
   "execution_count": 115,
   "id": "4c4c7a21",
   "metadata": {},
   "outputs": [
    {
     "data": {
      "text/plain": [
       "array([[3, 4],\n",
       "       [8, 9]])"
      ]
     },
     "execution_count": 115,
     "metadata": {},
     "output_type": "execute_result"
    }
   ],
   "source": [
    "arr_6 = arr_5 #shallow copy\n",
    "arr_6"
   ]
  },
  {
   "cell_type": "code",
   "execution_count": 116,
   "id": "27b5490f",
   "metadata": {},
   "outputs": [
    {
     "data": {
      "text/plain": [
       "array([[ 3,  4],\n",
       "       [10,  9]])"
      ]
     },
     "execution_count": 116,
     "metadata": {},
     "output_type": "execute_result"
    }
   ],
   "source": [
    "#Modify something in arr_6\n",
    "arr_6[1, 0] = 10 #modifying element 8 to 10\n",
    "arr_6"
   ]
  },
  {
   "cell_type": "code",
   "execution_count": 117,
   "id": "2108e51d",
   "metadata": {},
   "outputs": [
    {
     "data": {
      "text/plain": [
       "array([[ 3,  4],\n",
       "       [10,  9]])"
      ]
     },
     "execution_count": 117,
     "metadata": {},
     "output_type": "execute_result"
    }
   ],
   "source": [
    "#Lets display the original array arr_5\n",
    "arr_5\n",
    "#If we observe the first original array arr_5 element is also modified because of shallow copy and modification of arr_6"
   ]
  },
  {
   "cell_type": "code",
   "execution_count": null,
   "id": "be4f4942",
   "metadata": {},
   "outputs": [],
   "source": [
    "#deep copy - when an object is a copy of another object (uses '.copy()' to represent copy),then it means both are not referring to same adress location.\n",
    "#Different address , same values. \n",
    "#Modifying values of one object doesn't modifies another object.\n",
    "#This is called as deep copy as both are referring to different address in memory."
   ]
  },
  {
   "cell_type": "code",
   "execution_count": 118,
   "id": "ed646f0e",
   "metadata": {},
   "outputs": [
    {
     "data": {
      "text/plain": [
       "array([[ 3,  4],\n",
       "       [10,  9]])"
      ]
     },
     "execution_count": 118,
     "metadata": {},
     "output_type": "execute_result"
    }
   ],
   "source": [
    "arr_5"
   ]
  },
  {
   "cell_type": "code",
   "execution_count": 119,
   "id": "787c3362",
   "metadata": {},
   "outputs": [
    {
     "data": {
      "text/plain": [
       "array([[ 3,  4],\n",
       "       [10,  9]])"
      ]
     },
     "execution_count": 119,
     "metadata": {},
     "output_type": "execute_result"
    }
   ],
   "source": [
    "arr_7 = arr_5.copy()\n",
    "arr_7"
   ]
  },
  {
   "cell_type": "code",
   "execution_count": 120,
   "id": "e09054e0",
   "metadata": {},
   "outputs": [
    {
     "data": {
      "text/plain": [
       "array([[ 3,  0],\n",
       "       [10,  9]])"
      ]
     },
     "execution_count": 120,
     "metadata": {},
     "output_type": "execute_result"
    }
   ],
   "source": [
    "#Modify an element in arr_7\n",
    "arr_7[0, 1] = 0 #changing 4 to 0\n",
    "arr_7"
   ]
  },
  {
   "cell_type": "code",
   "execution_count": 121,
   "id": "207c6ac7",
   "metadata": {},
   "outputs": [
    {
     "data": {
      "text/plain": [
       "array([[ 3,  4],\n",
       "       [10,  9]])"
      ]
     },
     "execution_count": 121,
     "metadata": {},
     "output_type": "execute_result"
    }
   ],
   "source": [
    "#Display the original array arr_5\n",
    "arr_5\n",
    "#If we observe the original array is retained as it is without the effect of modifictions of arr_7"
   ]
  },
  {
   "cell_type": "markdown",
   "id": "8604f4cc",
   "metadata": {},
   "source": [
    "#### ------------------------------- ravel() -------------------------------------"
   ]
  },
  {
   "cell_type": "code",
   "execution_count": 124,
   "id": "601f1972",
   "metadata": {},
   "outputs": [
    {
     "data": {
      "text/plain": [
       "array([ 3,  4, 10,  9])"
      ]
     },
     "execution_count": 124,
     "metadata": {},
     "output_type": "execute_result"
    }
   ],
   "source": [
    "#ravel() just like flatten() reduces the dimension to 1d\n",
    "arr_ravel = arr_5.ravel()\n",
    "arr_ravel"
   ]
  },
  {
   "cell_type": "code",
   "execution_count": 125,
   "id": "0db8b5d8",
   "metadata": {},
   "outputs": [
    {
     "data": {
      "text/plain": [
       "array([3, 4, 6, 9])"
      ]
     },
     "execution_count": 125,
     "metadata": {},
     "output_type": "execute_result"
    }
   ],
   "source": [
    "#When using ravel(), any modifictions to the copied data will modify the original data.Hence we should do deep copy if there are modifications\n",
    "arr_ravel[2] = 6\n",
    "arr_ravel"
   ]
  },
  {
   "cell_type": "code",
   "execution_count": 126,
   "id": "c65422f0",
   "metadata": {},
   "outputs": [
    {
     "data": {
      "text/plain": [
       "array([[3, 4],\n",
       "       [6, 9]])"
      ]
     },
     "execution_count": 126,
     "metadata": {},
     "output_type": "execute_result"
    }
   ],
   "source": [
    "arr_5 #if we observe, ravel() also modified the 2d original array arr_5 bcoz of shallow copy"
   ]
  },
  {
   "cell_type": "code",
   "execution_count": 127,
   "id": "2b7c61f4",
   "metadata": {},
   "outputs": [
    {
     "data": {
      "text/plain": [
       "array([[3, 4],\n",
       "       [6, 9]])"
      ]
     },
     "execution_count": 127,
     "metadata": {},
     "output_type": "execute_result"
    }
   ],
   "source": [
    "#ravel using deep copy\n",
    "arr_ravel_1 = arr_5.copy()\n",
    "arr_ravel_1"
   ]
  },
  {
   "cell_type": "code",
   "execution_count": 129,
   "id": "e73d3135",
   "metadata": {},
   "outputs": [
    {
     "data": {
      "text/plain": [
       "array([3, 4, 6, 9])"
      ]
     },
     "execution_count": 129,
     "metadata": {},
     "output_type": "execute_result"
    }
   ],
   "source": [
    "arr_ravel = arr_ravel_1.ravel()\n",
    "arr_ravel"
   ]
  },
  {
   "cell_type": "code",
   "execution_count": 130,
   "id": "a0dc92ee",
   "metadata": {},
   "outputs": [
    {
     "data": {
      "text/plain": [
       "array([ 3, 66,  6,  9])"
      ]
     },
     "execution_count": 130,
     "metadata": {},
     "output_type": "execute_result"
    }
   ],
   "source": [
    "#modification\n",
    "arr_ravel[1] = 66\n",
    "arr_ravel"
   ]
  },
  {
   "cell_type": "code",
   "execution_count": 131,
   "id": "87c57979",
   "metadata": {},
   "outputs": [
    {
     "data": {
      "text/plain": [
       "array([[3, 4],\n",
       "       [6, 9]])"
      ]
     },
     "execution_count": 131,
     "metadata": {},
     "output_type": "execute_result"
    }
   ],
   "source": [
    "#Original array arr_5\n",
    "arr_5 #Modification when deep copied doesnt effect the original array"
   ]
  },
  {
   "cell_type": "markdown",
   "id": "61c3263b",
   "metadata": {},
   "source": [
    "#### -------------------------------- rashape() ---------------------------------"
   ]
  },
  {
   "cell_type": "code",
   "execution_count": null,
   "id": "cee7021c",
   "metadata": {},
   "outputs": [],
   "source": [
    "#arr.reshape() will give a new shape to an array without changing the data. \n",
    "#Just remember that when you use the reshape method, the array you want to produce needs to have the same number of elements as the original array. \n",
    "#If you start with an array with 12 elements, you’ll need to make sure that your new array also has a total of 12 elements."
   ]
  },
  {
   "cell_type": "code",
   "execution_count": 134,
   "id": "87aa3636",
   "metadata": {},
   "outputs": [
    {
     "data": {
      "text/plain": [
       "array([0, 1, 2, 3, 4, 5])"
      ]
     },
     "execution_count": 134,
     "metadata": {},
     "output_type": "execute_result"
    }
   ],
   "source": [
    "a = np.arange(6)\n",
    "a"
   ]
  },
  {
   "cell_type": "code",
   "execution_count": 135,
   "id": "f7b334f4",
   "metadata": {},
   "outputs": [
    {
     "data": {
      "text/plain": [
       "array([[0, 1, 2],\n",
       "       [3, 4, 5]])"
      ]
     },
     "execution_count": 135,
     "metadata": {},
     "output_type": "execute_result"
    }
   ],
   "source": [
    "b = a.reshape((2, 3)) #converts a 1d array to 2d array with 2 rows and 3 columns.Observe that no. of elements in 1d(6) = 2d array elements(3*2)\n",
    "b"
   ]
  },
  {
   "cell_type": "code",
   "execution_count": 141,
   "id": "8e68d1dd",
   "metadata": {},
   "outputs": [
    {
     "data": {
      "text/plain": [
       "array([[0, 1],\n",
       "       [2, 3],\n",
       "       [4, 5]])"
      ]
     },
     "execution_count": 141,
     "metadata": {},
     "output_type": "execute_result"
    }
   ],
   "source": [
    "c = a.reshape(3, 2)\n",
    "c"
   ]
  },
  {
   "cell_type": "code",
   "execution_count": 139,
   "id": "5ff43b05",
   "metadata": {},
   "outputs": [
    {
     "data": {
      "text/plain": [
       "array([0, 1, 2, 3, 4, 5])"
      ]
     },
     "execution_count": 139,
     "metadata": {},
     "output_type": "execute_result"
    }
   ],
   "source": [
    "c.reshape(-1) #If we dont know which shape to reshape, we can pass -1.Numpy ll perform reshaping to 1d array when -1 is given\n",
    "#reshaping the 2d array  wiht -1 gives 1d array"
   ]
  },
  {
   "cell_type": "code",
   "execution_count": 142,
   "id": "f567dd08",
   "metadata": {},
   "outputs": [
    {
     "data": {
      "text/plain": [
       "array([[[6.23042070e-307, 4.67296746e-307],\n",
       "        [1.69121096e-306, 1.24610723e-306],\n",
       "        [8.34441742e-308, 1.78022342e-306],\n",
       "        [6.23058028e-307, 9.79107872e-307]],\n",
       "\n",
       "       [[6.89807188e-307, 7.56594375e-307],\n",
       "        [6.23060065e-307, 1.78021527e-306],\n",
       "        [8.34454050e-308, 1.11261027e-306],\n",
       "        [1.15706896e-306, 1.33512173e-306]]])"
      ]
     },
     "execution_count": 142,
     "metadata": {},
     "output_type": "execute_result"
    }
   ],
   "source": [
    "d = np.empty((2, 4, 2)) #3d array with 3 dimensions\n",
    "d"
   ]
  },
  {
   "cell_type": "code",
   "execution_count": 144,
   "id": "ca7c6435",
   "metadata": {},
   "outputs": [
    {
     "data": {
      "text/plain": [
       "array([6.23042070e-307, 4.67296746e-307, 1.69121096e-306, 1.24610723e-306,\n",
       "       8.34441742e-308, 1.78022342e-306, 6.23058028e-307, 9.79107872e-307,\n",
       "       6.89807188e-307, 7.56594375e-307, 6.23060065e-307, 1.78021527e-306,\n",
       "       8.34454050e-308, 1.11261027e-306, 1.15706896e-306, 1.33512173e-306])"
      ]
     },
     "execution_count": 144,
     "metadata": {},
     "output_type": "execute_result"
    }
   ],
   "source": [
    "d.reshape(-1) #reshaping the 3d array to 1d"
   ]
  },
  {
   "cell_type": "code",
   "execution_count": 145,
   "id": "fef660a4",
   "metadata": {},
   "outputs": [
    {
     "data": {
      "text/plain": [
       "array([[6.23042070e-307, 4.67296746e-307, 1.69121096e-306,\n",
       "        1.24610723e-306, 8.34441742e-308, 1.78022342e-306,\n",
       "        6.23058028e-307, 9.79107872e-307],\n",
       "       [6.89807188e-307, 7.56594375e-307, 6.23060065e-307,\n",
       "        1.78021527e-306, 8.34454050e-308, 1.11261027e-306,\n",
       "        1.15706896e-306, 1.33512173e-306]])"
      ]
     },
     "execution_count": 145,
     "metadata": {},
     "output_type": "execute_result"
    }
   ],
   "source": [
    "d.reshape(2, -1) # we can use -1 when we dont know how many columns(or rows) we need.Numpy will take care of reshaping accordingly\n",
    "#reshapes to a 2d array with 2 rows and 8 columns automatically"
   ]
  },
  {
   "cell_type": "code",
   "execution_count": 146,
   "id": "2f2069e8",
   "metadata": {},
   "outputs": [
    {
     "data": {
      "text/plain": [
       "array([[6.23042070e-307, 4.67296746e-307, 1.69121096e-306,\n",
       "        1.24610723e-306],\n",
       "       [8.34441742e-308, 1.78022342e-306, 6.23058028e-307,\n",
       "        9.79107872e-307],\n",
       "       [6.89807188e-307, 7.56594375e-307, 6.23060065e-307,\n",
       "        1.78021527e-306],\n",
       "       [8.34454050e-308, 1.11261027e-306, 1.15706896e-306,\n",
       "        1.33512173e-306]])"
      ]
     },
     "execution_count": 146,
     "metadata": {},
     "output_type": "execute_result"
    }
   ],
   "source": [
    "d.reshape(-1, 4) # reshaped to 2d array with 4 columns and automtically 4 rows"
   ]
  },
  {
   "cell_type": "markdown",
   "id": "4e596b88",
   "metadata": {},
   "source": [
    "#### ----------------------------------- newaxis -----------------------------------------"
   ]
  },
  {
   "cell_type": "code",
   "execution_count": 153,
   "id": "84bfe74a",
   "metadata": {},
   "outputs": [],
   "source": [
    "#np.newaxis is used to increase the dimensions of your existing array.\n",
    "#Using np.newaxis will increase the dimensions of your array by one dimension when used once.\n",
    "#This means that a 1D array will become a 2D array, a 2D array will become a 3D array, and so on."
   ]
  },
  {
   "cell_type": "code",
   "execution_count": 155,
   "id": "42437ee0",
   "metadata": {},
   "outputs": [
    {
     "data": {
      "text/plain": [
       "array([0, 1, 2, 3, 4, 5])"
      ]
     },
     "execution_count": 155,
     "metadata": {},
     "output_type": "execute_result"
    }
   ],
   "source": [
    "a_new = np.arange(6)\n",
    "a_new"
   ]
  },
  {
   "cell_type": "code",
   "execution_count": 164,
   "id": "67d71d29",
   "metadata": {},
   "outputs": [
    {
     "name": "stdout",
     "output_type": "stream",
     "text": [
      "Shape: (1, 6)\n"
     ]
    },
    {
     "data": {
      "text/plain": [
       "array([[0, 1, 2, 3, 4, 5]])"
      ]
     },
     "execution_count": 164,
     "metadata": {},
     "output_type": "execute_result"
    }
   ],
   "source": [
    "a_row_axis_2d = a_new[np.newaxis, :] #adding new row axis which is making 1d array to 2d array\n",
    "print(f\"Shape: {a_row_axis_2d.shape}\")\n",
    "a_row_axis_2d"
   ]
  },
  {
   "cell_type": "code",
   "execution_count": 165,
   "id": "d8c99df4",
   "metadata": {},
   "outputs": [
    {
     "name": "stdout",
     "output_type": "stream",
     "text": [
      "Shape: (1, 1, 6)\n"
     ]
    },
    {
     "data": {
      "text/plain": [
       "array([[[0, 1, 2, 3, 4, 5]]])"
      ]
     },
     "execution_count": 165,
     "metadata": {},
     "output_type": "execute_result"
    }
   ],
   "source": [
    "a_row_axis_3d = a_row_axis_2d[np.newaxis, :, :] #adding a new dimension across layers making 2d array to 3d array\n",
    "print(f\"Shape: {a_row_axis_3d.shape}\")\n",
    "a_row_axis_3d"
   ]
  },
  {
   "cell_type": "code",
   "execution_count": 167,
   "id": "cca51af8",
   "metadata": {},
   "outputs": [
    {
     "name": "stdout",
     "output_type": "stream",
     "text": [
      "Shape: (6, 1)\n"
     ]
    },
    {
     "data": {
      "text/plain": [
       "array([[0],\n",
       "       [1],\n",
       "       [2],\n",
       "       [3],\n",
       "       [4],\n",
       "       [5]])"
      ]
     },
     "execution_count": 167,
     "metadata": {},
     "output_type": "execute_result"
    }
   ],
   "source": [
    "a_col_axis_2d = a_new[:, np.newaxis] #adding new column axis which is making 1d array to 2d array\n",
    "print(f\"Shape: {a_col_axis_2d.shape}\")\n",
    "a_col_axis_2d"
   ]
  },
  {
   "cell_type": "markdown",
   "id": "9d2b8847",
   "metadata": {},
   "source": [
    "#### --------------------------------- expand_dims() ---------------------------------"
   ]
  },
  {
   "cell_type": "code",
   "execution_count": 168,
   "id": "13f7ab78",
   "metadata": {},
   "outputs": [],
   "source": [
    "#Just like newaxis,expand_dims() expand an array by inserting a new axis at a specified position."
   ]
  },
  {
   "cell_type": "code",
   "execution_count": 169,
   "id": "dffb3b75",
   "metadata": {},
   "outputs": [
    {
     "data": {
      "text/plain": [
       "array([0, 1, 2, 3, 4, 5])"
      ]
     },
     "execution_count": 169,
     "metadata": {},
     "output_type": "execute_result"
    }
   ],
   "source": [
    "a_new = np.arange(6)\n",
    "a_new"
   ]
  },
  {
   "cell_type": "code",
   "execution_count": 171,
   "id": "1daf18dd",
   "metadata": {},
   "outputs": [
    {
     "name": "stdout",
     "output_type": "stream",
     "text": [
      "Shape: (1, 6)\n"
     ]
    },
    {
     "data": {
      "text/plain": [
       "array([[0, 1, 2, 3, 4, 5]])"
      ]
     },
     "execution_count": 171,
     "metadata": {},
     "output_type": "execute_result"
    }
   ],
   "source": [
    "a_expand = np.expand_dims(a_new, axis=0) #insert new axis across rows\n",
    "print(f\"Shape: {a_expand.shape}\")\n",
    "a_expand"
   ]
  },
  {
   "cell_type": "code",
   "execution_count": 172,
   "id": "302de627",
   "metadata": {},
   "outputs": [
    {
     "name": "stdout",
     "output_type": "stream",
     "text": [
      "Shape: (6, 1)\n"
     ]
    },
    {
     "data": {
      "text/plain": [
       "array([[0],\n",
       "       [1],\n",
       "       [2],\n",
       "       [3],\n",
       "       [4],\n",
       "       [5]])"
      ]
     },
     "execution_count": 172,
     "metadata": {},
     "output_type": "execute_result"
    }
   ],
   "source": [
    "a_expand = np.expand_dims(a_new, axis=1) #insert new axis across columns\n",
    "print(f\"Shape: {a_expand.shape}\")\n",
    "a_expand"
   ]
  },
  {
   "cell_type": "markdown",
   "id": "09262df9",
   "metadata": {},
   "source": [
    "#### --------------------------------------- resize() ------------------------------------------"
   ]
  },
  {
   "cell_type": "code",
   "execution_count": null,
   "id": "84216a40",
   "metadata": {},
   "outputs": [],
   "source": [
    "#The resize() function is used to create a new array with the specified shape.\n",
    "#If the new array is larger than the original array, then the new array is filled with repeated copies of a."
   ]
  },
  {
   "cell_type": "code",
   "execution_count": 174,
   "id": "38b3ed7e",
   "metadata": {},
   "outputs": [
    {
     "data": {
      "text/plain": [
       "array([0, 1, 2, 3, 4, 5])"
      ]
     },
     "execution_count": 174,
     "metadata": {},
     "output_type": "execute_result"
    }
   ],
   "source": [
    "a_resize = np.arange(6)\n",
    "a_resize"
   ]
  },
  {
   "cell_type": "code",
   "execution_count": 175,
   "id": "fd75de2f",
   "metadata": {},
   "outputs": [
    {
     "data": {
      "text/plain": [
       "array([[0, 1, 2],\n",
       "       [3, 4, 5]])"
      ]
     },
     "execution_count": 175,
     "metadata": {},
     "output_type": "execute_result"
    }
   ],
   "source": [
    "a_resize_1 = np.resize(a_resize, (2, 3))\n",
    "a_resize_1"
   ]
  },
  {
   "cell_type": "code",
   "execution_count": 178,
   "id": "ec89f342",
   "metadata": {},
   "outputs": [
    {
     "data": {
      "text/plain": [
       "array([[0, 1, 2],\n",
       "       [3, 4, 5],\n",
       "       [0, 1, 2],\n",
       "       [3, 4, 5]])"
      ]
     },
     "execution_count": 178,
     "metadata": {},
     "output_type": "execute_result"
    }
   ],
   "source": [
    "a_resize_2 = np.resize(a_resize, (4, 3))\n",
    "a_resize_2\n",
    "#new array is larger than the original array, then the new array is filled with repeated copies of original array."
   ]
  },
  {
   "cell_type": "code",
   "execution_count": 179,
   "id": "f10bac3d",
   "metadata": {},
   "outputs": [
    {
     "data": {
      "text/plain": [
       "array([[0, 1, 2, 3],\n",
       "       [4, 5, 0, 1],\n",
       "       [2, 3, 4, 5],\n",
       "       [0, 1, 2, 3]])"
      ]
     },
     "execution_count": 179,
     "metadata": {},
     "output_type": "execute_result"
    }
   ],
   "source": [
    "a_resize_3 = np.resize(a_resize, (4, 4))\n",
    "a_resize_3"
   ]
  },
  {
   "cell_type": "markdown",
   "id": "b9f97beb",
   "metadata": {},
   "source": [
    "#### ---------------------------- squeeze() ---------------------------------"
   ]
  },
  {
   "cell_type": "code",
   "execution_count": 192,
   "id": "512baec9",
   "metadata": {},
   "outputs": [],
   "source": [
    "#numpy.squeeze() function is used when we want to remove single-dimensional entries from the shape of an array.\n",
    "#Specially useful when we have target variable as (totalrows, 1) shape.We can change to 1d array of (totalrows,) using squeeze."
   ]
  },
  {
   "cell_type": "code",
   "execution_count": 184,
   "id": "3b721e49",
   "metadata": {},
   "outputs": [
    {
     "data": {
      "text/plain": [
       "array([[1.],\n",
       "       [1.]])"
      ]
     },
     "execution_count": 184,
     "metadata": {},
     "output_type": "execute_result"
    }
   ],
   "source": [
    "arr_sq = np.ones((2,1))\n",
    "arr_sq"
   ]
  },
  {
   "cell_type": "code",
   "execution_count": 186,
   "id": "6bda5351",
   "metadata": {},
   "outputs": [
    {
     "data": {
      "text/plain": [
       "(2, 1)"
      ]
     },
     "execution_count": 186,
     "metadata": {},
     "output_type": "execute_result"
    }
   ],
   "source": [
    "arr_sq.shape"
   ]
  },
  {
   "cell_type": "code",
   "execution_count": 191,
   "id": "adfcdb0d",
   "metadata": {},
   "outputs": [
    {
     "data": {
      "text/plain": [
       "array([1., 1.])"
      ]
     },
     "execution_count": 191,
     "metadata": {},
     "output_type": "execute_result"
    }
   ],
   "source": [
    "arr_sq_1 = arr_sq.squeeze()\n",
    "arr_sq_1"
   ]
  },
  {
   "cell_type": "code",
   "execution_count": 190,
   "id": "54af5970",
   "metadata": {},
   "outputs": [
    {
     "data": {
      "text/plain": [
       "(2,)"
      ]
     },
     "execution_count": 190,
     "metadata": {},
     "output_type": "execute_result"
    }
   ],
   "source": [
    "arr_sq_1.shape"
   ]
  },
  {
   "cell_type": "code",
   "execution_count": 180,
   "id": "8b08c9e1",
   "metadata": {},
   "outputs": [
    {
     "name": "stdout",
     "output_type": "stream",
     "text": [
      "Input array :  [[[2 2 2]\n",
      "  [2 2 2]]]\n",
      "Shape of input array :  (1, 2, 3)\n",
      "output squeezed array :  [[2 2 2]\n",
      " [2 2 2]]\n",
      "Shape of output array :  (2, 3)\n"
     ]
    }
   ],
   "source": [
    "in_arr = np.array([[[2, 2, 2], [2, 2, 2]]])\n",
    "   \n",
    "print (\"Input array : \", in_arr) \n",
    "print(\"Shape of input array : \", in_arr.shape)  \n",
    "  \n",
    "out_arr = np.squeeze(in_arr)\n",
    "  \n",
    "print (\"output squeezed array : \", out_arr) #removed the first dimension which is a single dimension (single layer)\n",
    "print(\"Shape of output array : \", out_arr.shape) "
   ]
  },
  {
   "cell_type": "code",
   "execution_count": 194,
   "id": "d204451a",
   "metadata": {},
   "outputs": [
    {
     "data": {
      "text/plain": [
       "array([[[2, 2, 2],\n",
       "        [2, 2, 2]],\n",
       "\n",
       "       [[1, 2, 1],\n",
       "        [0, 0, 1]]])"
      ]
     },
     "execution_count": 194,
     "metadata": {},
     "output_type": "execute_result"
    }
   ],
   "source": [
    "in_arr = np.array([\n",
    "    [[2, 2, 2], [2, 2, 2]],\n",
    "[[1, 2, 1], [0, 0, 1]]])\n",
    "in_arr"
   ]
  },
  {
   "cell_type": "code",
   "execution_count": 195,
   "id": "26c2b664",
   "metadata": {},
   "outputs": [
    {
     "data": {
      "text/plain": [
       "(2, 2, 3)"
      ]
     },
     "execution_count": 195,
     "metadata": {},
     "output_type": "execute_result"
    }
   ],
   "source": [
    "in_arr.shape"
   ]
  },
  {
   "cell_type": "code",
   "execution_count": 196,
   "id": "c651d4c9",
   "metadata": {},
   "outputs": [
    {
     "data": {
      "text/plain": [
       "array([[[2, 2, 2],\n",
       "        [2, 2, 2]],\n",
       "\n",
       "       [[1, 2, 1],\n",
       "        [0, 0, 1]]])"
      ]
     },
     "execution_count": 196,
     "metadata": {},
     "output_type": "execute_result"
    }
   ],
   "source": [
    "out_arr = in_arr.squeeze() #there is no chnage as there is no single dimension (1) in the axis and can be seen in shape\n",
    "out_arr"
   ]
  },
  {
   "cell_type": "code",
   "execution_count": 197,
   "id": "c0538bba",
   "metadata": {},
   "outputs": [
    {
     "data": {
      "text/plain": [
       "(2, 2, 3)"
      ]
     },
     "execution_count": 197,
     "metadata": {},
     "output_type": "execute_result"
    }
   ],
   "source": [
    "out_arr.shape"
   ]
  },
  {
   "cell_type": "markdown",
   "id": "490133f3",
   "metadata": {},
   "source": [
    "#### ------------------------------ sort() --------------------------------"
   ]
  },
  {
   "cell_type": "code",
   "execution_count": 206,
   "id": "b7b763d8",
   "metadata": {},
   "outputs": [
    {
     "data": {
      "text/plain": [
       "array([1, 2, 3, 4, 5, 6, 7, 8])"
      ]
     },
     "execution_count": 206,
     "metadata": {},
     "output_type": "execute_result"
    }
   ],
   "source": [
    "#Sorting the elements in an array. You can specify the axis, kind, and order when you call the function.\n",
    "#axis=Axis along which to sort. If None, the array is flattened before sorting. The default is -1, which sorts along the last axis.\n",
    "#kind {'quicksort', 'mergesort', 'heapsort', 'stable'},quicksort default\n",
    "#ndarray.sort : Method to sort an array in-place.\n",
    "arr = np.array([2, 1, 5, 3, 7, 4, 6, 8])\n",
    "arr_sort = np.sort(arr)\n",
    "arr_sort"
   ]
  },
  {
   "cell_type": "code",
   "execution_count": 208,
   "id": "22766064",
   "metadata": {},
   "outputs": [
    {
     "data": {
      "text/plain": [
       "array([[2, 1, 5],\n",
       "       [3, 7, 4],\n",
       "       [6, 8, 2]])"
      ]
     },
     "execution_count": 208,
     "metadata": {},
     "output_type": "execute_result"
    }
   ],
   "source": [
    "arr = np.array([[2, 1, 5], [3, 7, 4], [6, 8, 2]])\n",
    "arr"
   ]
  },
  {
   "cell_type": "code",
   "execution_count": 209,
   "id": "25ef3375",
   "metadata": {},
   "outputs": [
    {
     "data": {
      "text/plain": [
       "array([[1, 2, 5],\n",
       "       [3, 4, 7],\n",
       "       [2, 6, 8]])"
      ]
     },
     "execution_count": 209,
     "metadata": {},
     "output_type": "execute_result"
    }
   ],
   "source": [
    "arr_sort = np.sort(arr)\n",
    "arr_sort"
   ]
  },
  {
   "cell_type": "code",
   "execution_count": 210,
   "id": "2834e274",
   "metadata": {},
   "outputs": [
    {
     "data": {
      "text/plain": [
       "array([[2, 1, 2],\n",
       "       [3, 7, 4],\n",
       "       [6, 8, 5]])"
      ]
     },
     "execution_count": 210,
     "metadata": {},
     "output_type": "execute_result"
    }
   ],
   "source": [
    "arr_sort_vertical = np.sort(arr, axis=0)\n",
    "arr_sort_vertical #sorted vertically across the features of all observations. compare with original array to understand the sorting"
   ]
  },
  {
   "cell_type": "code",
   "execution_count": 211,
   "id": "da42ca6f",
   "metadata": {},
   "outputs": [
    {
     "data": {
      "text/plain": [
       "array([[1, 2, 5],\n",
       "       [3, 4, 7],\n",
       "       [2, 6, 8]])"
      ]
     },
     "execution_count": 211,
     "metadata": {},
     "output_type": "execute_result"
    }
   ],
   "source": [
    "arr_sort_horizontal = np.sort(arr, axis=1)\n",
    "arr_sort_horizontal #sorted horizontally (default)"
   ]
  },
  {
   "cell_type": "code",
   "execution_count": 212,
   "id": "f457bae9",
   "metadata": {},
   "outputs": [
    {
     "data": {
      "text/plain": [
       "array([[1, 0, 2],\n",
       "       [0, 2, 1],\n",
       "       [2, 0, 1]], dtype=int64)"
      ]
     },
     "execution_count": 212,
     "metadata": {},
     "output_type": "execute_result"
    }
   ],
   "source": [
    "#---------------- argsort()--------------------------\n",
    "#Returns the indices that would sort an array.\n",
    "#Returns an array of indices of the same shape as the sorted array.\n",
    "#Has axis, kind, order parameters\n",
    "\n",
    "arr_argsort = np.argsort(arr)\n",
    "arr_argsort\n",
    "#original array([[2, 1, 5], [3, 7, 4], [6, 8, 2]])"
   ]
  },
  {
   "cell_type": "code",
   "execution_count": 213,
   "id": "2ee7a968",
   "metadata": {},
   "outputs": [
    {
     "data": {
      "text/plain": [
       "array([1, 2, 0], dtype=int64)"
      ]
     },
     "execution_count": 213,
     "metadata": {},
     "output_type": "execute_result"
    }
   ],
   "source": [
    "#-------------------lexsort()----------------------------------\n",
    "#Given multiple sorting keys, which can be interpreted as columns in a spreadsheet, \n",
    "#lexsort returns an array of integer indices that describes the sort order by multiple columns. \n",
    "#The last key in the sequence is used for the primary sort order, the second-to-last key for the secondary sort order, and so on.\n",
    "#The keys argument must be a sequence of objects that can be converted to arrays of the same shape. \n",
    "#If a 2D array is provided for the keys argument, its rows are interpreted as the sorting keys and sorting is according to the last row, second last row etc.\n",
    "\n",
    "surnames =    ('Hertz',    'Galilei', 'Hertz')\n",
    "first_names = ('Heinrich', 'Galileo', 'Gustav')\n",
    "ind = np.lexsort((first_names, surnames))\n",
    "ind #return indices of last key(surnames) values sorted"
   ]
  },
  {
   "cell_type": "code",
   "execution_count": 214,
   "id": "9505fe89",
   "metadata": {},
   "outputs": [
    {
     "data": {
      "text/plain": [
       "['Galilei, Galileo', 'Hertz, Gustav', 'Hertz, Heinrich']"
      ]
     },
     "execution_count": 214,
     "metadata": {},
     "output_type": "execute_result"
    }
   ],
   "source": [
    "[surnames[i] + \", \" + first_names[i] for i in ind]"
   ]
  },
  {
   "cell_type": "code",
   "execution_count": 215,
   "id": "c2fbf1a8",
   "metadata": {},
   "outputs": [
    {
     "data": {
      "text/plain": [
       "array([2, 0, 4, 6, 5, 3, 1], dtype=int64)"
      ]
     },
     "execution_count": 215,
     "metadata": {},
     "output_type": "execute_result"
    }
   ],
   "source": [
    "a = [1,5,1,4,3,4,4] # First column\n",
    "b = [9,4,0,4,0,2,1] # Second column\n",
    "ind = np.lexsort((b,a)) # Sort by a, then by b\n",
    "ind"
   ]
  },
  {
   "cell_type": "code",
   "execution_count": 216,
   "id": "532df667",
   "metadata": {},
   "outputs": [
    {
     "data": {
      "text/plain": [
       "[(1, 0), (1, 9), (3, 0), (4, 1), (4, 2), (4, 4), (5, 4)]"
      ]
     },
     "execution_count": 216,
     "metadata": {},
     "output_type": "execute_result"
    }
   ],
   "source": [
    "[(a[i],b[i]) for i in ind]"
   ]
  },
  {
   "cell_type": "code",
   "execution_count": 219,
   "id": "359643d7",
   "metadata": {},
   "outputs": [],
   "source": [
    "#------------------searchsorted()----------------------\n",
    "#Find indices where elements should be inserted to maintain sorted order.\n",
    "#params array a, value/s v, side ='left'/'right'. \n",
    "#left (default,insert v in first occurence)(right v in last occurence)\n",
    "#If ‘left’, the index of the first suitable location found is given. If ‘right’, return the last such index. If there is no suitable index, return either 0 or N\n",
    "#Find the indices into a sorted array 'a' such that, if the corresponding elements in 'v' were inserted before the indices, the order of 'a' would be preserved."
   ]
  },
  {
   "cell_type": "code",
   "execution_count": 220,
   "id": "4d7baceb",
   "metadata": {},
   "outputs": [
    {
     "data": {
      "text/plain": [
       "2"
      ]
     },
     "execution_count": 220,
     "metadata": {},
     "output_type": "execute_result"
    }
   ],
   "source": [
    "np.searchsorted([1, 2, 3, 4, 5, 6], 3) #here arr a=[..], v=3\n",
    "#inserts value 3 in first position of where it fits(i.e index 2), such that sorted order of 'a' wont get disturbed. return that insertion index"
   ]
  },
  {
   "cell_type": "code",
   "execution_count": 221,
   "id": "8bc73fb9",
   "metadata": {},
   "outputs": [
    {
     "data": {
      "text/plain": [
       "3"
      ]
     },
     "execution_count": 221,
     "metadata": {},
     "output_type": "execute_result"
    }
   ],
   "source": [
    "np.searchsorted([1, 2, 3, 4, 5, 6], 3, side='right') #inserts in the last occurence.i.e afer the value 3 of index 2 in array []"
   ]
  },
  {
   "cell_type": "code",
   "execution_count": 223,
   "id": "49e816c1",
   "metadata": {},
   "outputs": [
    {
     "data": {
      "text/plain": [
       "array([0, 6, 1, 2], dtype=int64)"
      ]
     },
     "execution_count": 223,
     "metadata": {},
     "output_type": "execute_result"
    }
   ],
   "source": [
    "np.searchsorted([1, 2, 3, 4, 5, 6], [-10, 10, 2, 3])\n",
    "#-10 inserts in first index, 10 inserted the last index, 2 inserted in the first occurence of 2 i.e index 1, 3 in index 2"
   ]
  },
  {
   "cell_type": "markdown",
   "id": "bc32937d",
   "metadata": {},
   "source": [
    "#### ------------------------------- transpose() ------------------------------------------"
   ]
  },
  {
   "cell_type": "code",
   "execution_count": null,
   "id": "c5747253",
   "metadata": {},
   "outputs": [],
   "source": [
    "#Returns an array with axes transposed.\n",
    "#For a 1-D array, this returns an unchanged view of the original array, as a transposed vector is simply the same vector\n",
    "#For a 2-D array, this is the standard matrix transpose."
   ]
  },
  {
   "cell_type": "code",
   "execution_count": 224,
   "id": "138a435b",
   "metadata": {},
   "outputs": [
    {
     "data": {
      "text/plain": [
       "array([0, 1, 2, 3])"
      ]
     },
     "execution_count": 224,
     "metadata": {},
     "output_type": "execute_result"
    }
   ],
   "source": [
    "arr = np.arange(4) #1d array\n",
    "arr"
   ]
  },
  {
   "cell_type": "code",
   "execution_count": 225,
   "id": "68824488",
   "metadata": {},
   "outputs": [
    {
     "data": {
      "text/plain": [
       "array([0, 1, 2, 3])"
      ]
     },
     "execution_count": 225,
     "metadata": {},
     "output_type": "execute_result"
    }
   ],
   "source": [
    "np.transpose(arr) #arr.T"
   ]
  },
  {
   "cell_type": "code",
   "execution_count": 227,
   "id": "62657f72",
   "metadata": {},
   "outputs": [
    {
     "data": {
      "text/plain": [
       "array([[2, 3],\n",
       "       [1, 5]])"
      ]
     },
     "execution_count": 227,
     "metadata": {},
     "output_type": "execute_result"
    }
   ],
   "source": [
    "arr_2d = np.array([[2, 3], [1, 5]]) #2d array\n",
    "arr_2d"
   ]
  },
  {
   "cell_type": "code",
   "execution_count": 228,
   "id": "c1cd22be",
   "metadata": {},
   "outputs": [
    {
     "data": {
      "text/plain": [
       "array([[2, 1],\n",
       "       [3, 5]])"
      ]
     },
     "execution_count": 228,
     "metadata": {},
     "output_type": "execute_result"
    }
   ],
   "source": [
    "arr_2d.T"
   ]
  },
  {
   "cell_type": "code",
   "execution_count": 230,
   "id": "17321248",
   "metadata": {},
   "outputs": [
    {
     "data": {
      "text/plain": [
       "array([[2, 1],\n",
       "       [3, 5]])"
      ]
     },
     "execution_count": 230,
     "metadata": {},
     "output_type": "execute_result"
    }
   ],
   "source": [
    "arr_2d.transpose((1, 0)) #specifying the transpose of axes as tuple to indicate transpose. \n",
    "#tuple of ints: i in the j-th place in the tuple means that the array’s i-th axis becomes the transposed array’s j-th axis."
   ]
  },
  {
   "cell_type": "code",
   "execution_count": 231,
   "id": "d494e561",
   "metadata": {},
   "outputs": [
    {
     "data": {
      "text/plain": [
       "(2, 1, 3)"
      ]
     },
     "execution_count": 231,
     "metadata": {},
     "output_type": "execute_result"
    }
   ],
   "source": [
    "a = np.ones((1, 2, 3))\n",
    "np.transpose(a, (1, 0, 2)).shape"
   ]
  },
  {
   "cell_type": "markdown",
   "id": "f21f6b30",
   "metadata": {},
   "source": [
    "#### ------------------------- where()------------------------------------------------"
   ]
  },
  {
   "cell_type": "code",
   "execution_count": null,
   "id": "995e3080",
   "metadata": {},
   "outputs": [],
   "source": [
    "#numpy.where(condition, [x, y, ]) . works like ternary opertor(con? a:b)\n",
    "#condition is true, x values, else y values\n",
    "#When only condition is provided, this function is a shorthand for np.asarray(condition).nonzero(). Using nonzero directly should be preferred, as it behaves correctly for subclasses\n",
    "#o/p: An array with elements from x where condition is True, and elements from y elsewhere.\n",
    "#if all the arrays are 1d then it is equivalent to [xv if c else yv for c, xv, yv in zip(condition, x, y)]"
   ]
  },
  {
   "cell_type": "code",
   "execution_count": 232,
   "id": "87675353",
   "metadata": {},
   "outputs": [
    {
     "data": {
      "text/plain": [
       "array([0, 1, 2, 3, 4, 5, 6, 7, 8, 9])"
      ]
     },
     "execution_count": 232,
     "metadata": {},
     "output_type": "execute_result"
    }
   ],
   "source": [
    "arr = np.arange(10)\n",
    "arr"
   ]
  },
  {
   "cell_type": "code",
   "execution_count": 233,
   "id": "6ba31015",
   "metadata": {},
   "outputs": [
    {
     "data": {
      "text/plain": [
       "array([ 0,  1,  2,  3,  4, 50, 60, 70, 80, 90])"
      ]
     },
     "execution_count": 233,
     "metadata": {},
     "output_type": "execute_result"
    }
   ],
   "source": [
    "res = np.where(arr<5, arr, arr*10)\n",
    "res"
   ]
  },
  {
   "cell_type": "code",
   "execution_count": 234,
   "id": "1ac465b5",
   "metadata": {},
   "outputs": [
    {
     "data": {
      "text/plain": [
       "array([[1, 3],\n",
       "       [5, 5]])"
      ]
     },
     "execution_count": 234,
     "metadata": {},
     "output_type": "execute_result"
    }
   ],
   "source": [
    "#with 2d\n",
    "arr_2d_x = np.array([[1, 4], [3, 5]])\n",
    "#1 4\n",
    "#3 5\n",
    "arr_2d_y = np.array([[2, 3], [5, 6]])\n",
    "#2 3\n",
    "#5 6\n",
    "res = np.where([[True, False], [False, True]], arr_2d_x, arr_2d_y) #when true. retreives x values, when false retrives y values\n",
    "res"
   ]
  },
  {
   "cell_type": "code",
   "execution_count": 236,
   "id": "b5dab54e",
   "metadata": {},
   "outputs": [
    {
     "data": {
      "text/plain": [
       "array([[ 0,  1,  2],\n",
       "       [ 0,  2, -1],\n",
       "       [ 0,  3, -1]])"
      ]
     },
     "execution_count": 236,
     "metadata": {},
     "output_type": "execute_result"
    }
   ],
   "source": [
    "arr_new_2d = np.array([[0, 1, 2],\n",
    "              [0, 2, 4],\n",
    "              [0, 3, 6]])\n",
    "res = np.where(arr_new_2d < 4, arr_new_2d, -1)  # Here -1 is broadcast. when false, -1 is placed\n",
    "res"
   ]
  },
  {
   "cell_type": "markdown",
   "id": "97af8d49",
   "metadata": {},
   "source": [
    "#### ------------------------- extract()-------------------------------------"
   ]
  },
  {
   "cell_type": "code",
   "execution_count": 239,
   "id": "ff35ae9c",
   "metadata": {},
   "outputs": [
    {
     "data": {
      "text/plain": [
       "array([[ True, False, False],\n",
       "       [False,  True,  True]])"
      ]
     },
     "execution_count": 239,
     "metadata": {},
     "output_type": "execute_result"
    }
   ],
   "source": [
    "#Return the elements of an array that satisfy some condition.\n",
    "arr = [[2, 3 , 5], [3, 4, 6]]\n",
    "cond = np.mod(arr, 2) == 0\n",
    "cond"
   ]
  },
  {
   "cell_type": "code",
   "execution_count": 240,
   "id": "edd2297c",
   "metadata": {},
   "outputs": [
    {
     "data": {
      "text/plain": [
       "array([2, 4, 6])"
      ]
     },
     "execution_count": 240,
     "metadata": {},
     "output_type": "execute_result"
    }
   ],
   "source": [
    "np.extract(cond, arr) #=> arr(cond)"
   ]
  },
  {
   "cell_type": "markdown",
   "id": "a025693f",
   "metadata": {},
   "source": [
    "#### ---------------------------------- nonzero() --------------------------------------"
   ]
  },
  {
   "cell_type": "code",
   "execution_count": 241,
   "id": "44b8ae48",
   "metadata": {},
   "outputs": [
    {
     "name": "stdout",
     "output_type": "stream",
     "text": [
      "input array :\n",
      " [[0 1]\n",
      " [5 3]]\n"
     ]
    },
    {
     "data": {
      "text/plain": [
       "(array([0, 1, 1], dtype=int64), array([1, 0, 1], dtype=int64))"
      ]
     },
     "execution_count": 241,
     "metadata": {},
     "output_type": "execute_result"
    }
   ],
   "source": [
    "#Return the indices of nonzero elements in the given input array.\n",
    "a = np.array([[0,1],[5,3]])\n",
    "print('input array :\\n',a)\n",
    "np.nonzero(a)\n",
    "#In the output, you will observe that the np.nonzero function returns a tuple that contains indices for each nonzero element in the array.\n",
    "#In this particular example, indices 1 - [0,1], 5 - [1,0], 3 -[1,1]. non zero returns 2 tuples\n",
    "#The first value of the tuple corresponds to the first index of all nonzero elements, i.e. (0,1,1), \n",
    "#The second value in the tuple corresponds to the second index of each non-zero element, i.e. (1,0,1).\n",
    "#You may consider it as a transpose of the indices."
   ]
  },
  {
   "cell_type": "code",
   "execution_count": 242,
   "id": "054d386d",
   "metadata": {},
   "outputs": [
    {
     "name": "stdout",
     "output_type": "stream",
     "text": [
      "input :\n",
      " [[2 8 0]\n",
      " [3 9 1]\n",
      " [1 2 3]]\n",
      "indices of non-zero elements:\n",
      " (array([0, 0, 1, 1, 2, 2, 2], dtype=int64), array([0, 2, 0, 2, 0, 1, 2], dtype=int64))\n",
      "elements less than 5:\n",
      " [2 0 3 1 1 2 3]\n"
     ]
    }
   ],
   "source": [
    "a = np.array([[2,8,0],[3,9,1],[1,2,3]])\n",
    "print(\"input :\\n\",a)\n",
    "#nonzero function with condition\n",
    "print('indices of non-zero elements:\\n',np.nonzero(a<5))\n",
    "#returning elements less than 5\n",
    "print('elements less than 5:\\n', a[np.nonzero(a<5)])\n",
    "\n",
    "#In this example, we have used a condition along with the np.nonzero function. \n",
    "#The function returns the indices of all the elements in the array that meet the specified condition.\n",
    "#Here, 1 is considered as True and 0 as False.\n",
    "#For example, elements (2,0,3,1,1,2,3) satisfy the condition.\n",
    "#Their respective indices are [0,0], [0,2], [1,0], [1,2], [2,0], [2,1] and [2,2]."
   ]
  },
  {
   "cell_type": "code",
   "execution_count": 246,
   "id": "db8d82cd",
   "metadata": {},
   "outputs": [
    {
     "name": "stdout",
     "output_type": "stream",
     "text": [
      "(array([0, 1, 1], dtype=int64), array([0, 0, 1], dtype=int64))\n",
      "Elements [10 13 11]\n"
     ]
    }
   ],
   "source": [
    "a = np.array([[10, 20],\n",
    "[13, 11],\n",
    "[4, 15]])\n",
    "print(np.nonzero((a>5) & (a<15))) #multiple condiions with non zero\n",
    "print(f\"Elements {a[np.nonzero((a>5) & (a<15))]}\")"
   ]
  },
  {
   "cell_type": "markdown",
   "id": "62c8652b",
   "metadata": {},
   "source": [
    "#### ------------------------------ argmin() & agrmax() ----------------------------------"
   ]
  },
  {
   "cell_type": "code",
   "execution_count": 263,
   "id": "44522eb7",
   "metadata": {},
   "outputs": [
    {
     "data": {
      "text/plain": [
       "array([[ 0,  1,  2,  3],\n",
       "       [ 4,  5,  6,  7],\n",
       "       [ 8,  9, 10, 11]])"
      ]
     },
     "execution_count": 263,
     "metadata": {},
     "output_type": "execute_result"
    }
   ],
   "source": [
    "#Both aggregate functions gives the index of min or max values,we can also specify axis to get min or max value index along the axis\n",
    "a = np.arange(12).reshape(3, 4)\n",
    "#a =  np.random.randint(16, size=(4, 4))\n",
    "a"
   ]
  },
  {
   "cell_type": "code",
   "execution_count": 264,
   "id": "5224fd43",
   "metadata": {},
   "outputs": [
    {
     "data": {
      "text/plain": [
       "0"
      ]
     },
     "execution_count": 264,
     "metadata": {},
     "output_type": "execute_result"
    }
   ],
   "source": [
    "np.argmin(a) ## No axis mentioned, so works on entire array"
   ]
  },
  {
   "cell_type": "code",
   "execution_count": 265,
   "id": "67a985eb",
   "metadata": {},
   "outputs": [
    {
     "data": {
      "text/plain": [
       "11"
      ]
     },
     "execution_count": 265,
     "metadata": {},
     "output_type": "execute_result"
    }
   ],
   "source": [
    "np.argmax(a)"
   ]
  },
  {
   "cell_type": "code",
   "execution_count": 266,
   "id": "ed7015ce",
   "metadata": {},
   "outputs": [
    {
     "data": {
      "text/plain": [
       "array([2, 2, 2, 2], dtype=int64)"
      ]
     },
     "execution_count": 266,
     "metadata": {},
     "output_type": "execute_result"
    }
   ],
   "source": [
    "np.argmax(a, axis=0) #vertical argmax - gives index across vertical values.index starts from 0"
   ]
  },
  {
   "cell_type": "code",
   "execution_count": 267,
   "id": "dd678f79",
   "metadata": {},
   "outputs": [
    {
     "data": {
      "text/plain": [
       "array([0, 0, 0, 0], dtype=int64)"
      ]
     },
     "execution_count": 267,
     "metadata": {},
     "output_type": "execute_result"
    }
   ],
   "source": [
    "np.argmin(a, axis=0)"
   ]
  },
  {
   "cell_type": "code",
   "execution_count": 268,
   "id": "5be32cf5",
   "metadata": {},
   "outputs": [
    {
     "data": {
      "text/plain": [
       "array([0, 0, 0], dtype=int64)"
      ]
     },
     "execution_count": 268,
     "metadata": {},
     "output_type": "execute_result"
    }
   ],
   "source": [
    "np.argmin(a, axis=1) #horizontal argmax"
   ]
  },
  {
   "cell_type": "code",
   "execution_count": 269,
   "id": "450526ea",
   "metadata": {},
   "outputs": [
    {
     "data": {
      "text/plain": [
       "array([3, 3, 3], dtype=int64)"
      ]
     },
     "execution_count": 269,
     "metadata": {},
     "output_type": "execute_result"
    }
   ],
   "source": [
    "np.argmax(a, axis=1)"
   ]
  },
  {
   "cell_type": "markdown",
   "id": "5a1ee970",
   "metadata": {},
   "source": [
    "#### ----------------------------- pad() ----------------------------------------"
   ]
  },
  {
   "cell_type": "code",
   "execution_count": 247,
   "id": "f40b14ec",
   "metadata": {},
   "outputs": [
    {
     "data": {
      "text/plain": [
       "array([0, 1, 2, 3, 4, 5])"
      ]
     },
     "execution_count": 247,
     "metadata": {},
     "output_type": "execute_result"
    }
   ],
   "source": [
    "#pad() is used to pad the array with some values to maintain the size and dimensions.Specially used when dealing with images\n",
    "a = np.arange(6)\n",
    "a"
   ]
  },
  {
   "cell_type": "code",
   "execution_count": 249,
   "id": "6ec0bc2b",
   "metadata": {},
   "outputs": [
    {
     "data": {
      "text/plain": [
       "array([40, 40, 40,  0,  1,  2,  3,  4,  5, 40, 40])"
      ]
     },
     "execution_count": 249,
     "metadata": {},
     "output_type": "execute_result"
    }
   ],
   "source": [
    "#params - array, pad width(leftside, rightside), mode, **kwargs\n",
    "#mode-'constant' (default),'edge','linear_ramp','maximum','mean','median','minimum','reflect','symmetric','wrap','empty'\n",
    "\n",
    "np.pad(a, (3,2), mode='constant', constant_values=(40))"
   ]
  },
  {
   "cell_type": "code",
   "execution_count": 250,
   "id": "4d623520",
   "metadata": {},
   "outputs": [
    {
     "data": {
      "text/plain": [
       "array([40, 40, 40,  0,  1,  2,  3,  4,  5, 40, 40, 40])"
      ]
     },
     "execution_count": 250,
     "metadata": {},
     "output_type": "execute_result"
    }
   ],
   "source": [
    "np.pad(a, (3), mode='constant', constant_values=(40))"
   ]
  },
  {
   "cell_type": "code",
   "execution_count": 251,
   "id": "a684c404",
   "metadata": {},
   "outputs": [
    {
     "data": {
      "text/plain": [
       "array([0, 0, 0, 1, 2, 3, 4, 5, 5, 5, 5, 5, 5])"
      ]
     },
     "execution_count": 251,
     "metadata": {},
     "output_type": "execute_result"
    }
   ],
   "source": [
    "np.pad(a, (2,5), mode='edge')"
   ]
  },
  {
   "cell_type": "code",
   "execution_count": 255,
   "id": "4768b0ac",
   "metadata": {},
   "outputs": [
    {
     "data": {
      "text/plain": [
       "array([[ 0,  0,  0,  0,  0,  0],\n",
       "       [ 0,  0,  0,  0,  0,  0],\n",
       "       [ 0,  0, 10, 20,  0,  0],\n",
       "       [ 0,  0, 13, 11,  0,  0],\n",
       "       [ 0,  0,  4, 15,  0,  0],\n",
       "       [ 0,  0,  0,  0,  0,  0],\n",
       "       [ 0,  0,  0,  0,  0,  0]])"
      ]
     },
     "execution_count": 255,
     "metadata": {},
     "output_type": "execute_result"
    }
   ],
   "source": [
    "a = np.array([[10, 20],\n",
    "[13, 11],\n",
    "[4, 15]])\n",
    "np.pad(a, (2), mode='constant', constant_values=(0))"
   ]
  },
  {
   "cell_type": "markdown",
   "id": "543793b5",
   "metadata": {},
   "source": [
    "#### -------------------------- vector operations --------------------------"
   ]
  },
  {
   "cell_type": "code",
   "execution_count": 271,
   "id": "e41b433d",
   "metadata": {},
   "outputs": [
    {
     "data": {
      "text/plain": [
       "array([[ 9,  9,  0,  8],\n",
       "       [10, 11, 13,  6],\n",
       "       [ 0,  1,  6,  9],\n",
       "       [ 2,  0,  2, 12]])"
      ]
     },
     "execution_count": 271,
     "metadata": {},
     "output_type": "execute_result"
    }
   ],
   "source": [
    "#On arrays, we can apply the mathematical operation just like how we apply on vectors. The operation will apply on all the elements of the array\n",
    "a =  np.random.randint(16, size=(4, 4))\n",
    "a"
   ]
  },
  {
   "cell_type": "code",
   "execution_count": 272,
   "id": "1a2bda92",
   "metadata": {},
   "outputs": [
    {
     "data": {
      "text/plain": [
       "array([[18, 18,  0, 16],\n",
       "       [20, 22, 26, 12],\n",
       "       [ 0,  2, 12, 18],\n",
       "       [ 4,  0,  4, 24]])"
      ]
     },
     "execution_count": 272,
     "metadata": {},
     "output_type": "execute_result"
    }
   ],
   "source": [
    "a*2"
   ]
  },
  {
   "cell_type": "code",
   "execution_count": 273,
   "id": "0188dbc8",
   "metadata": {},
   "outputs": [
    {
     "data": {
      "text/plain": [
       "array([[4.5, 4.5, 0. , 4. ],\n",
       "       [5. , 5.5, 6.5, 3. ],\n",
       "       [0. , 0.5, 3. , 4.5],\n",
       "       [1. , 0. , 1. , 6. ]])"
      ]
     },
     "execution_count": 273,
     "metadata": {},
     "output_type": "execute_result"
    }
   ],
   "source": [
    "a/2"
   ]
  },
  {
   "cell_type": "code",
   "execution_count": 274,
   "id": "32843fcb",
   "metadata": {},
   "outputs": [
    {
     "data": {
      "text/plain": [
       "array([[4, 4, 0, 4],\n",
       "       [5, 5, 6, 3],\n",
       "       [0, 0, 3, 4],\n",
       "       [1, 0, 1, 6]], dtype=int32)"
      ]
     },
     "execution_count": 274,
     "metadata": {},
     "output_type": "execute_result"
    }
   ],
   "source": [
    "a//2"
   ]
  },
  {
   "cell_type": "code",
   "execution_count": 275,
   "id": "2a448656",
   "metadata": {},
   "outputs": [
    {
     "data": {
      "text/plain": [
       "array([[11, 11,  2, 10],\n",
       "       [12, 13, 15,  8],\n",
       "       [ 2,  3,  8, 11],\n",
       "       [ 4,  2,  4, 14]])"
      ]
     },
     "execution_count": 275,
     "metadata": {},
     "output_type": "execute_result"
    }
   ],
   "source": [
    "a+2"
   ]
  },
  {
   "cell_type": "code",
   "execution_count": 279,
   "id": "5e200645",
   "metadata": {},
   "outputs": [
    {
     "data": {
      "text/plain": [
       "array([[ 0,  1,  2,  3],\n",
       "       [ 4,  5,  6,  7],\n",
       "       [ 8,  9, 10, 11],\n",
       "       [12, 13, 14, 15]])"
      ]
     },
     "execution_count": 279,
     "metadata": {},
     "output_type": "execute_result"
    }
   ],
   "source": [
    "b = np.arange(16).reshape(4,4)\n",
    "b"
   ]
  },
  {
   "cell_type": "code",
   "execution_count": 280,
   "id": "f6cc9443",
   "metadata": {},
   "outputs": [
    {
     "data": {
      "text/plain": [
       "array([[ 9, 10,  2, 11],\n",
       "       [14, 16, 19, 13],\n",
       "       [ 8, 10, 16, 20],\n",
       "       [14, 13, 16, 27]])"
      ]
     },
     "execution_count": 280,
     "metadata": {},
     "output_type": "execute_result"
    }
   ],
   "source": [
    "a+b"
   ]
  },
  {
   "cell_type": "code",
   "execution_count": 281,
   "id": "56c3eec7",
   "metadata": {},
   "outputs": [
    {
     "data": {
      "text/plain": [
       "array([[  9,   8,  -2,   5],\n",
       "       [  6,   6,   7,  -1],\n",
       "       [ -8,  -8,  -4,  -2],\n",
       "       [-10, -13, -12,  -3]])"
      ]
     },
     "execution_count": 281,
     "metadata": {},
     "output_type": "execute_result"
    }
   ],
   "source": [
    "a-b"
   ]
  },
  {
   "cell_type": "code",
   "execution_count": 282,
   "id": "7cf6b177",
   "metadata": {},
   "outputs": [
    {
     "data": {
      "text/plain": [
       "array([[132, 158, 184, 210],\n",
       "       [220, 260, 300, 340],\n",
       "       [160, 176, 192, 208],\n",
       "       [160, 176, 192, 208]])"
      ]
     },
     "execution_count": 282,
     "metadata": {},
     "output_type": "execute_result"
    }
   ],
   "source": [
    "a.dot(b)"
   ]
  },
  {
   "cell_type": "code",
   "execution_count": 284,
   "id": "033a8464",
   "metadata": {},
   "outputs": [
    {
     "data": {
      "text/plain": [
       "array([[0.29639921, 0.29639921, 0.        , 0.26346597],\n",
       "       [0.32933246, 0.36226571, 0.4281322 , 0.19759948],\n",
       "       [0.        , 0.03293325, 0.19759948, 0.29639921],\n",
       "       [0.06586649, 0.        , 0.06586649, 0.39519895]])"
      ]
     },
     "execution_count": 284,
     "metadata": {},
     "output_type": "execute_result"
    }
   ],
   "source": [
    "a / (a**2).sum()**0.5 #exponent"
   ]
  },
  {
   "cell_type": "markdown",
   "id": "a4d475d0",
   "metadata": {},
   "source": [
    "#### --------------------------identity() ----------------------------"
   ]
  },
  {
   "cell_type": "code",
   "execution_count": 288,
   "id": "4ce75758",
   "metadata": {},
   "outputs": [
    {
     "data": {
      "text/plain": [
       "array([[1., 0., 0.],\n",
       "       [0., 1., 0.],\n",
       "       [0., 0., 1.]])"
      ]
     },
     "execution_count": 288,
     "metadata": {},
     "output_type": "execute_result"
    }
   ],
   "source": [
    "#The identity array is a square array with ones on the main diagonal. The identity() function return the identity array.\n",
    "a = np.identity(3)\n",
    "a"
   ]
  },
  {
   "cell_type": "code",
   "execution_count": 293,
   "id": "ee3dedfb",
   "metadata": {},
   "outputs": [
    {
     "data": {
      "text/plain": [
       "array([[1, 0],\n",
       "       [0, 1]])"
      ]
     },
     "execution_count": 293,
     "metadata": {},
     "output_type": "execute_result"
    }
   ],
   "source": [
    "b = np.identity(n=2, dtype='int')\n",
    "b"
   ]
  },
  {
   "cell_type": "markdown",
   "id": "68522239",
   "metadata": {},
   "source": [
    "#### ------------------------- eye() ---------------------------"
   ]
  },
  {
   "cell_type": "code",
   "execution_count": 295,
   "id": "b99f2015",
   "metadata": {},
   "outputs": [
    {
     "data": {
      "text/plain": [
       "array([[1., 0.],\n",
       "       [0., 1.]])"
      ]
     },
     "execution_count": 295,
     "metadata": {},
     "output_type": "execute_result"
    }
   ],
   "source": [
    "#eye() is used to create identity matrix of any shape.Using eye(), we can move identity matrix diagnoal upper / lower.\n",
    "a = np.eye(2)\n",
    "a"
   ]
  },
  {
   "cell_type": "code",
   "execution_count": 297,
   "id": "3adb328f",
   "metadata": {},
   "outputs": [
    {
     "data": {
      "text/plain": [
       "array([[1., 0., 0., 0.],\n",
       "       [0., 1., 0., 0.]])"
      ]
     },
     "execution_count": 297,
     "metadata": {},
     "output_type": "execute_result"
    }
   ],
   "source": [
    "a = np.eye(2, 4)\n",
    "a"
   ]
  },
  {
   "cell_type": "code",
   "execution_count": 303,
   "id": "d26c00c3",
   "metadata": {},
   "outputs": [
    {
     "data": {
      "text/plain": [
       "array([[0., 0., 1., 0.],\n",
       "       [0., 0., 0., 1.]])"
      ]
     },
     "execution_count": 303,
     "metadata": {},
     "output_type": "execute_result"
    }
   ],
   "source": [
    "a = np.eye(2, 4, k=2) #k positive moves the diagonal to upper.\n",
    "#k -Index of the diagonal: 0 (the default) refers to the main diagonal\n",
    "#a positive value refers to an upper diagonal, and a negative value to a lower diagonal.\n",
    "a"
   ]
  },
  {
   "cell_type": "code",
   "execution_count": 304,
   "id": "4a4acbf8",
   "metadata": {},
   "outputs": [
    {
     "data": {
      "text/plain": [
       "array([[0., 0., 0., 1.],\n",
       "       [0., 0., 0., 0.]])"
      ]
     },
     "execution_count": 304,
     "metadata": {},
     "output_type": "execute_result"
    }
   ],
   "source": [
    "a = np.eye(2, 4, k=3) \n",
    "a"
   ]
  },
  {
   "cell_type": "code",
   "execution_count": 305,
   "id": "aeec7b45",
   "metadata": {},
   "outputs": [
    {
     "data": {
      "text/plain": [
       "array([[0., 0., 0., 0.],\n",
       "       [0., 0., 0., 0.]])"
      ]
     },
     "execution_count": 305,
     "metadata": {},
     "output_type": "execute_result"
    }
   ],
   "source": [
    "a = np.eye(2, 4, k=4)\n",
    "a\n",
    "#moved the dialognal totally up"
   ]
  },
  {
   "cell_type": "code",
   "execution_count": 306,
   "id": "259e1402",
   "metadata": {},
   "outputs": [
    {
     "data": {
      "text/plain": [
       "array([[0., 0., 0., 0.],\n",
       "       [1., 0., 0., 0.]])"
      ]
     },
     "execution_count": 306,
     "metadata": {},
     "output_type": "execute_result"
    }
   ],
   "source": [
    "a = np.eye(2, 4, k=-1) #k negative moves the diagonal to lower\n",
    "a"
   ]
  },
  {
   "cell_type": "code",
   "execution_count": 307,
   "id": "828fbfbf",
   "metadata": {},
   "outputs": [
    {
     "data": {
      "text/plain": [
       "array([[0., 0., 0., 0.],\n",
       "       [0., 0., 0., 0.]])"
      ]
     },
     "execution_count": 307,
     "metadata": {},
     "output_type": "execute_result"
    }
   ],
   "source": [
    "a = np.eye(2, 4, k=-2)\n",
    "a"
   ]
  },
  {
   "cell_type": "markdown",
   "id": "b0aeec78",
   "metadata": {},
   "source": [
    "#### -------------------------------- asarray() ---------------------------------"
   ]
  },
  {
   "cell_type": "code",
   "execution_count": 309,
   "id": "d1dd753a",
   "metadata": {},
   "outputs": [
    {
     "data": {
      "text/plain": [
       "array([1, 2, 3])"
      ]
     },
     "execution_count": 309,
     "metadata": {},
     "output_type": "execute_result"
    }
   ],
   "source": [
    "#asarray() is used to convert the data like lists, list of tuples, tuple of tuples, tuples of lists, tuples, list of lists to array\n",
    "a = [1, 2, 3]\n",
    "np.array(a)"
   ]
  },
  {
   "cell_type": "markdown",
   "id": "8cb84d92",
   "metadata": {},
   "source": [
    "#### --------------------------------- fromfunction() ------------------------------------------"
   ]
  },
  {
   "cell_type": "code",
   "execution_count": 310,
   "id": "90ddbff7",
   "metadata": {},
   "outputs": [
    {
     "data": {
      "text/plain": [
       "array([[0, 1],\n",
       "       [1, 2]])"
      ]
     },
     "execution_count": 310,
     "metadata": {},
     "output_type": "execute_result"
    }
   ],
   "source": [
    "#The fromfunction() function is used to construct an array by executing a function over each coordinate for 2dimensions 2*2 array, (0, 0),(0,1),(1,0),(1,1).\n",
    "#The resulting array therefore has a value fn(x, y) at coordinate (x, y).Parameters of a function represent the number of dimensions each point will take\n",
    "\n",
    "a = np.fromfunction(lambda i, j : i+j, shape=(2, 2), dtype='int')\n",
    "a \n",
    "#[0+0 0+1\n",
    "#1+0 1+1]"
   ]
  },
  {
   "cell_type": "code",
   "execution_count": 311,
   "id": "1a3559bf",
   "metadata": {},
   "outputs": [
    {
     "data": {
      "text/plain": [
       "array([[0, 0, 0],\n",
       "       [0, 1, 2]])"
      ]
     },
     "execution_count": 311,
     "metadata": {},
     "output_type": "execute_result"
    }
   ],
   "source": [
    "a = np.fromfunction(lambda i, j : i*j, shape=(2, 3), dtype='int')\n",
    "a "
   ]
  },
  {
   "cell_type": "code",
   "execution_count": 313,
   "id": "e6f82838",
   "metadata": {},
   "outputs": [
    {
     "data": {
      "text/plain": [
       "array([[ True, False, False],\n",
       "       [False,  True, False]])"
      ]
     },
     "execution_count": 313,
     "metadata": {},
     "output_type": "execute_result"
    }
   ],
   "source": [
    "a = np.fromfunction(lambda i, j: i == j, (2, 3), dtype=int)\n",
    "a"
   ]
  },
  {
   "cell_type": "markdown",
   "id": "b7d7cb9e",
   "metadata": {},
   "source": [
    "#### ------------------------ fromiter() -------------------------------------------"
   ]
  },
  {
   "cell_type": "code",
   "execution_count": 318,
   "id": "d2a66726",
   "metadata": {},
   "outputs": [
    {
     "data": {
      "text/plain": [
       "array([ 0,  1,  4,  9, 16, 25, 36, 49, 64, 81])"
      ]
     },
     "execution_count": 318,
     "metadata": {},
     "output_type": "execute_result"
    }
   ],
   "source": [
    "#The fromiter() function is used to create a new 1-dimensional array from an iterable object.\n",
    "a = np.fromiter((i*i for i in range(10)), dtype='int')\n",
    "a"
   ]
  },
  {
   "cell_type": "markdown",
   "id": "d33a14de",
   "metadata": {},
   "source": [
    "#### ----------------------- fromstring() --------------------"
   ]
  },
  {
   "cell_type": "code",
   "execution_count": 320,
   "id": "7856030b",
   "metadata": {},
   "outputs": [
    {
     "data": {
      "text/plain": [
       "array([3, 5])"
      ]
     },
     "execution_count": 320,
     "metadata": {},
     "output_type": "execute_result"
    }
   ],
   "source": [
    "#fromstring() is used to create a new 1-D array initialized from raw binary or text data in a string\n",
    "a = np.fromstring('3, 5', dtype=int, sep=',')\n",
    "a"
   ]
  },
  {
   "cell_type": "code",
   "execution_count": 328,
   "id": "86f7b1e8",
   "metadata": {},
   "outputs": [
    {
     "data": {
      "text/plain": [
       "array([1, 3, 4, 5, 6])"
      ]
     },
     "execution_count": 328,
     "metadata": {},
     "output_type": "execute_result"
    }
   ],
   "source": [
    "a = np.fromstring('1 3 4 5 6', dtype='int', sep=' ')\n",
    "a"
   ]
  },
  {
   "cell_type": "code",
   "execution_count": 331,
   "id": "dd204483",
   "metadata": {},
   "outputs": [
    {
     "data": {
      "text/plain": [
       "array([1., 2.])"
      ]
     },
     "execution_count": 331,
     "metadata": {},
     "output_type": "execute_result"
    }
   ],
   "source": [
    "a = np.fromstring('1!2', sep='!')\n",
    "a"
   ]
  },
  {
   "cell_type": "markdown",
   "id": "a3f9710d",
   "metadata": {},
   "source": [
    "#### ------------------------------ loadtxt() -------------------------------------"
   ]
  },
  {
   "cell_type": "code",
   "execution_count": 333,
   "id": "d885aaac",
   "metadata": {},
   "outputs": [
    {
     "data": {
      "text/plain": [
       "array([[0., 1.],\n",
       "       [3., 4.]])"
      ]
     },
     "execution_count": 333,
     "metadata": {},
     "output_type": "execute_result"
    }
   ],
   "source": [
    "#loadtxt() is used to load data from a text file.But loadtxt cant handle the na values\n",
    "from io import StringIO\n",
    "a = StringIO(u\"0 1\\n3 4\")\n",
    "data = np.loadtxt(a)\n",
    "data"
   ]
  },
  {
   "cell_type": "code",
   "execution_count": 336,
   "id": "4d53e2d5",
   "metadata": {},
   "outputs": [
    {
     "data": {
      "text/plain": [
       "array([(b'M', 45, 85.), (b'F', 36, 47.)],\n",
       "      dtype=[('gender', 'S1'), ('age', '<i4'), ('weight', '<f4')])"
      ]
     },
     "execution_count": 336,
     "metadata": {},
     "output_type": "execute_result"
    }
   ],
   "source": [
    "b = StringIO(u\"M 45 85\\nF 36 47\")\n",
    "np.loadtxt(b, dtype={\n",
    "    'names': ('gender', 'age', 'weight'),   'formats': ('S1', 'i4', 'f4')\n",
    "})"
   ]
  },
  {
   "cell_type": "markdown",
   "id": "1320ae62",
   "metadata": {},
   "source": [
    "#### ---------------------- gentxt() --------------------------------------------------"
   ]
  },
  {
   "cell_type": "code",
   "execution_count": 342,
   "id": "743727d7",
   "metadata": {},
   "outputs": [
    {
     "data": {
      "text/plain": [
       "array([[0., 3., 9.],\n",
       "       [5., 7., 4.]])"
      ]
     },
     "execution_count": 342,
     "metadata": {},
     "output_type": "execute_result"
    }
   ],
   "source": [
    "#genfromtxt is aslo to load the data from a text/csv file.Unlike loadtxt(), genfromtxt is able to take missing data into account.\n",
    "a = StringIO(u\"0 3 9\\n5 7 na\")\n",
    "data = np.genfromtxt(a, filling_values=4)\n",
    "data"
   ]
  },
  {
   "cell_type": "code",
   "execution_count": null,
   "id": "6924430e",
   "metadata": {},
   "outputs": [],
   "source": []
  }
 ],
 "metadata": {
  "kernelspec": {
   "display_name": "Python 3 (ipykernel)",
   "language": "python",
   "name": "python3"
  },
  "language_info": {
   "codemirror_mode": {
    "name": "ipython",
    "version": 3
   },
   "file_extension": ".py",
   "mimetype": "text/x-python",
   "name": "python",
   "nbconvert_exporter": "python",
   "pygments_lexer": "ipython3",
   "version": "3.8.10"
  }
 },
 "nbformat": 4,
 "nbformat_minor": 5
}
