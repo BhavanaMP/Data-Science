{
 "cells": [
  {
   "cell_type": "markdown",
   "id": "a09b7fdc",
   "metadata": {},
   "source": [
    "#### Feature Selection :\n",
    "    Process of selecting the subset of features that are most useful/relevant for the problem we are working on.\n",
    "    \n",
    "    Feature Extraction/ Dimension reduction is the reduction of features by creating new combinations of attributes using techniques like PCA, SVD etc, where as feature selection methods include and exclude attributes present in the data without changing them.\n",
    "    \n",
    "    FS reduces features/dimension which helps to increase performance of predictors, create less complex models, fast and effective and easy to interpret models"
   ]
  },
  {
   "cell_type": "markdown",
   "id": "857d85e7",
   "metadata": {},
   "source": [
    "#### Types of Feature Selection:\n",
    "    1. Filter methods - \n",
    "        > Unsupervised(independent on target) or supervised(uses target)\n",
    "        > Works either on univariate features or along with target variable. Uses statistical scoring methods to rank the importance of features\n",
    "        > [Covariance matrix, correleation coefficient, correlation matrix, Pearson's correlation coefficient, Spearman's correlation, Mutual information, Chi square test, ANOVA, KendallTau]\n",
    "       -----------------------------------------------------------------------------------------------------------\n",
    "     \n",
    "     2.Wrapper Methods - \n",
    "        > Supervised\n",
    "        > Considers the selection of set of features as a search problem. It selects subset of features and run different combination of classifiers with those features and evaluate the performance to all the combinations.This goes recursively and remove the features based on models accuracy scores. It can use forward elimination or backward elimination techniques.\n",
    "        > [Recursive Feature Elimination (RFE), RFECV (RFE with cross validation helps to choose best hyperparameters for RFE), Forward Pass, Backward Pass]\n",
    "        > RFE works by searching for a subset of features by starting with all features in the training dataset and successfully removing features until the desired number remains.(backward)\n",
    "        \n",
    "        ----------------------------------------------------------------------------------------------------------\n",
    "        \n",
    "    3.Embedded/Intrinsix Methods\n",
    "        > Bake in feature selection.Performs feature selection automatically as part of learning the model. Meaning that the model will only include predictors/variables/features that help maximize accuracy.\n",
    "        > Learns which features are contributing more to the model accuracy during model training\n",
    "        > [Regularisation methods like Lasso, Elastic Net, Ridge regression, Random forest, Extra trees, Neural networks]\n",
    "        "
   ]
  },
  {
   "cell_type": "markdown",
   "id": "590b6a6a",
   "metadata": {},
   "source": [
    "#### Tips on when is best to do feature selection:\n",
    "    > When cross validation is in the pipeline, its best practice to include feature selection within the inner-loop when you are using accuracy estimation methods such as cross-validation. This means that feature selection is performed on the prepared fold right before the model is trained. A mistake would be to perform feature selection first to prepare your data, then perform model selection and training on the selected features. If you perform feature selection on all of the data and then cross-validate, then the test data in each fold of the cross-validation procedure was also used to choose the features and this is what biases the performance analysis.\n",
    "    \n",
    "    > Perform feature selection on a different dataset than you train your predictive model on … the effect of not doing this is you will overfit your training data.\n",
    "    "
   ]
  },
  {
   "cell_type": "markdown",
   "id": "e2eb30bb",
   "metadata": {},
   "source": [
    "#### ------------------Embedded Feature selection using ExtraTrees---------------------------------"
   ]
  },
  {
   "cell_type": "code",
   "execution_count": 27,
   "id": "ec58e249",
   "metadata": {
    "scrolled": true
   },
   "outputs": [
    {
     "name": "stdout",
     "output_type": "stream",
     "text": [
      "Training data shapes: X-(150, 4) Y-(150,)\n",
      "['sepal length (cm)' 'sepal width (cm)' 'petal length (cm)'\n",
      " 'petal width (cm)']\n",
      "[0.09512607 0.06467933 0.38406994 0.45612465]\n"
     ]
    }
   ],
   "source": [
    "from sklearn.ensemble import ExtraTreesClassifier\n",
    "from sklearn.model_selection import cross_val_score, RepeatedStratifiedKFold, train_test_split\n",
    "from sklearn.datasets import load_iris\n",
    "import pandas as pd\n",
    "import matplotlib.pyplot as plt\n",
    "\n",
    "data = load_iris(as_frame=True)\n",
    "\n",
    "X = data.data\n",
    "Y = data.target\n",
    "print(\"Training data shapes: X-{} Y-{}\".format(X.shape, Y.shape))\n",
    "\n",
    "\n",
    "clf = ExtraTreesClassifier()\n",
    "clf.fit(X, Y) \n",
    "#fit will do the calculations that are required for the formula or algorithm (StandardScaler)\n",
    "#transform will apply the calculations of fit object to each datapoint of the feature inorder to transform\n",
    "#Note: for training data transformations, we have to use fit and transform.For test data, only transform as fit introduces bias\n",
    "print(clf.feature_names_in_)\n",
    "print(clf.feature_importances_)\n"
   ]
  },
  {
   "cell_type": "markdown",
   "id": "8ef8cf61",
   "metadata": {},
   "source": [
    "#### Observation: \n",
    "    Embedded classifier performs bake in feature selection and the features are identified using feature importances."
   ]
  },
  {
   "cell_type": "markdown",
   "id": "0d276c3e",
   "metadata": {},
   "source": [
    "#### --------------------------- Wrapper Feature Selection - RFE ---------------------------------------------"
   ]
  },
  {
   "cell_type": "code",
   "execution_count": 33,
   "id": "d245abf9",
   "metadata": {},
   "outputs": [
    {
     "name": "stdout",
     "output_type": "stream",
     "text": [
      "[False False  True  True]\n",
      "[2 3 1 1]\n"
     ]
    }
   ],
   "source": [
    "#Example 1:\n",
    "from sklearn.feature_selection import RFE, RFECV\n",
    "from sklearn.linear_model import LogisticRegression\n",
    "from sklearn.ensemble import RandomForestClassifier\n",
    "from sklearn.metrics import accuracy_score\n",
    "import pandas as pd\n",
    "import matplotlib.pyplot as plt\n",
    "from sklearn.datasets import load_iris\n",
    "\n",
    "data = load_iris()\n",
    "X = data.data\n",
    "Y = data.target\n",
    "\n",
    "model = RandomForestClassifier()\n",
    "rfe = RFE(model, n_features_to_select=2, step=1)\n",
    "rfe.fit(X, Y)\n",
    "print(rfe.support_) #gives mask of the features\n",
    "print(rfe.ranking_) #gives 1 to best selected features\n",
    "\n",
    "#Info : After the class is fit, the choice of input variables can be seen via the “support_” attribute.\n",
    "#It can then be applied to the training and test datasets by calling the transform() function."
   ]
  },
  {
   "cell_type": "markdown",
   "id": "ff20e5c5",
   "metadata": {},
   "source": [
    "#### Observation : \n",
    "    It is clear that Sepal Length and Sepal Width are not correlating much with the target. It also matches with ExtraTrees Feature importances in the previous block."
   ]
  },
  {
   "cell_type": "markdown",
   "id": "0b992d1a",
   "metadata": {},
   "source": [
    "##### RFE has 2 hyperparameters to choose. \n",
    "    1. Model\n",
    "    2. No. of features to select\n",
    "    \n",
    "    We can explore different combinations of these 2 hyperparameters to make best use of RFE"
   ]
  },
  {
   "cell_type": "markdown",
   "id": "0017c054",
   "metadata": {},
   "source": [
    "#### --------------------- RFE in Classification ----------------------"
   ]
  },
  {
   "cell_type": "code",
   "execution_count": 2,
   "id": "dc030ce7",
   "metadata": {},
   "outputs": [
    {
     "name": "stdout",
     "output_type": "stream",
     "text": [
      "Shapes : X- (800, 10), Y- (800,)\n",
      "Training Accuracy: 0.6857815047752155, Std: 0.0789540336524148\n",
      "Test Accuracy: 0.7159090909090909\n",
      "[False  True  True False False  True  True  True  True  True]\n",
      "[2 1 1 3 4 1 1 1 1 1]\n"
     ]
    }
   ],
   "source": [
    "from numpy import mean, std\n",
    "from sklearn.metrics import accuracy_score\n",
    "from sklearn.datasets import make_classification\n",
    "from sklearn.ensemble import ExtraTreesClassifier\n",
    "from sklearn.linear_model import SGDClassifier\n",
    "from sklearn.model_selection import RepeatedStratifiedKFold, cross_val_score, train_test_split\n",
    "from sklearn.feature_selection import RFE, RFECV\n",
    "from sklearn.pipeline import Pipeline\n",
    "\n",
    "X, Y = make_classification(n_samples=800, n_features=10, n_classes=2, n_informative=7, n_redundant=3)\n",
    "# Info: We can use make_classification() function to create a synthetic classification problem of 800 exmpls and 10 i/p features\n",
    "print(\"Shapes : X- {}, Y- {}\".format(X.shape, Y.shape))\n",
    "\n",
    "#Info: During model training, we usually use cross validation. It is advisable to use feature selection \n",
    "#techniques like RFE in the inner loop of cross validation. Best option is to make use of in pipeline\n",
    "\n",
    "rfe = RFE(estimator=ExtraTreesClassifier(), n_features_to_select=7, step=1)\n",
    "clf = SGDClassifier()\n",
    "cv = RepeatedStratifiedKFold(n_splits=10, n_repeats=15, random_state=0)\n",
    "pipe = Pipeline([('sel', rfe), ('mdl', clf)])\n",
    "\n",
    "#Sampling\n",
    "x_train , x_test, y_train, y_test = train_test_split(X, Y, test_size=0.33, shuffle=True, random_state=0)\n",
    "scores = cross_val_score(pipe, x_train, y_train, cv=cv, scoring='accuracy', n_jobs=-1, error_score='raise')\n",
    "\n",
    "print(\"Training Accuracy: {}, Std: {}\".format(mean(scores), std(scores)))\n",
    "\n",
    "#Info: We can also use the pipeline to fit the training data and predict the test dataset\n",
    "#Info: For transformer call in the pipeline,when the pipe is initialised by creating an object, then init() constructor of the transformer is called\n",
    "#Info: In case of transformations in the pipeline, when we call fit on pipe, it will also call fit() and also transform().When we call transform on pipe, it will call transform()\n",
    "#Info: When we call predict on pipe, it will also call transform() and then predict()\n",
    "\n",
    "pipe.fit(x_train, y_train)\n",
    "y_preds = pipe.predict(x_test)\n",
    "print(\"Test Accuracy: {}\".format(accuracy_score(y_test, y_preds)))\n",
    "print(rfe.support_)\n",
    "print(rfe.ranking_)"
   ]
  },
  {
   "cell_type": "markdown",
   "id": "3496b03e",
   "metadata": {},
   "source": [
    "#### --------------------------- RFE for Regression ------------------------"
   ]
  },
  {
   "cell_type": "code",
   "execution_count": 70,
   "id": "9a3bfc65",
   "metadata": {},
   "outputs": [
    {
     "name": "stdout",
     "output_type": "stream",
     "text": [
      "Training MAE: -30.11397767400821\n",
      "Test Accuracy: 0.87\n"
     ]
    }
   ],
   "source": [
    "from sklearn.datasets import make_regression\n",
    "from sklearn.feature_selection import RFE\n",
    "from sklearn.model_selection import train_test_split, RepeatedKFold, cross_val_score\n",
    "from sklearn.linear_model import DecisionTreeRegressor\n",
    "from sklearn.metrics import accuracy_score\n",
    "from sklearn.pipeline import Pipeline\n",
    "\n",
    "X, Y = make_regression(n_samples=1000, n_features=10, n_informative=5, n_targets=1, random_state=0)\n",
    "\n",
    "x_train , x_test, y_train, y_test = train_test_split(X, Y, test_size=0.33, shuffle=True, random_state=0)\n",
    "\n",
    "rfe = RFE(estimator=DecisionTreeRegressor(), n_features_to_select=5)\n",
    "model = DecisionTreeRegressor()\n",
    "cv = RepeatedKFold(n_repeats=3, n_splits=10, random_state=0)\n",
    "pipe = Pipeline([('fs', rfe), ('est', model)])\n",
    "\n",
    "scores = cross_val_score(pipe, x_train, y_train, cv=cv, error_score='raise', scoring='neg_mean_absolute_error')\n",
    "print(\"Training CV MAE: {}\".format(mean(scores)))\n",
    "\n",
    "pipe.fit(x_train, y_train)\n",
    "print(\"Test Accuracy: %.2f\" % pipe.score(x_test, y_test))"
   ]
  },
  {
   "cell_type": "markdown",
   "id": "2a34d47f",
   "metadata": {},
   "source": [
    "#### ----------------------------- RFE Hyperparameter tuning - n_features_to_select ------------------------------"
   ]
  },
  {
   "cell_type": "code",
   "execution_count": 91,
   "id": "8c1a7a84",
   "metadata": {},
   "outputs": [
    {
     "name": "stdout",
     "output_type": "stream",
     "text": [
      "For 1 features , the score is: 0.76\n",
      "For 2 features , the score is: 0.82\n",
      "For 3 features , the score is: 0.84\n",
      "For 4 features , the score is: 0.86\n",
      "For 5 features , the score is: 0.88\n",
      "For 6 features , the score is: 0.88\n",
      "For 7 features , the score is: 0.88\n",
      "For 8 features , the score is: 0.88\n",
      "For 9 features , the score is: 0.88\n"
     ]
    },
    {
     "data": {
      "image/png": "[encoded data removed]",
      "text/plain": [
       "<Figure size 640x480 with 1 Axes>"
      ]
     },
     "metadata": {},
     "output_type": "display_data"
    }
   ],
   "source": [
    "from sklearn.datasets import make_classification\n",
    "from sklearn.feature_selection import RFE\n",
    "from sklearn.model_selection import train_test_split, RepeatedKFold, cross_val_score\n",
    "from sklearn.linear_model import LogisticRegression\n",
    "from sklearn.tree import DecisionTreeClassifier\n",
    "from sklearn.metrics import accuracy_score\n",
    "from sklearn.pipeline import Pipeline\n",
    "import matplotlib.pyplot as plt\n",
    "\n",
    "def get_data():\n",
    "    X, Y = make_classification(n_samples=1000, n_features=10, n_informative=6)\n",
    "    return X, Y\n",
    "\n",
    "def evaluate(estimator, X, Y):\n",
    "    cv = RepeatedStratifiedKFold(n_splits=10, n_repeats=3, random_state=0)\n",
    "    scores = cross_val_score(estimator, X, Y, cv=cv, error_score='raise', scoring='accuracy')\n",
    "    return scores\n",
    "\n",
    "def rfe_no_of_features_tuning():\n",
    "    rfe_models = dict()\n",
    "    #Supplying different number of features to rfe and creating several models configurations\n",
    "    for i in range(1, 10):\n",
    "        rfe = RFE(estimator=DecisionTreeClassifier(), n_features_to_select=i, step=1)\n",
    "        model = LogisticRegression()\n",
    "        rfe_models[str(i)] = Pipeline([('s', rfe), ('m', model)])\n",
    "    return rfe_models\n",
    "\n",
    "X, Y = get_data()\n",
    "x_train, x_test, y_train, y_test = train_test_split(X, Y, test_size=0.33, random_state=0)\n",
    "models = rfe_no_of_features_tuning()\n",
    "names , results = [], []\n",
    "\n",
    "for name, mdl in models.items():\n",
    "    score = evaluate(mdl, x_train, y_train)\n",
    "    results.append(score)\n",
    "    names.append(name)\n",
    "\n",
    "for i in range(len(names)):\n",
    "    print(\"For %.2s features , the score is: %.2f\" % (names[i], mean(results[i])))\n",
    "\n",
    "plt.boxplot(results, labels=names, showmeans=True)\n",
    "plt.show()"
   ]
  },
  {
   "cell_type": "markdown",
   "id": "4d896e1e",
   "metadata": {},
   "source": [
    "#### ---------------------------------- Tuning RFE hyperparameter - estimator  ---------------------------------------"
   ]
  },
  {
   "cell_type": "code",
   "execution_count": 105,
   "id": "32af4cbb",
   "metadata": {},
   "outputs": [
    {
     "name": "stdout",
     "output_type": "stream",
     "text": [
      "For lr model , the score is: 0.87\n",
      "For pe model , the score is: 0.85\n",
      "For ca model , the score is: 0.88\n",
      "For rf model , the score is: 0.88\n",
      "For gb model , the score is: 0.89\n"
     ]
    },
    {
     "data": {
      "image/png": "[encoded data removed]",
      "text/plain": [
       "<Figure size 640x480 with 1 Axes>"
      ]
     },
     "metadata": {},
     "output_type": "display_data"
    }
   ],
   "source": [
    "from sklearn.datasets import make_classification\n",
    "from sklearn.feature_selection import RFE\n",
    "from sklearn.model_selection import train_test_split, RepeatedKFold, cross_val_score\n",
    "from sklearn.linear_model import LogisticRegression, Perceptron\n",
    "from sklearn.tree import DecisionTreeClassifier\n",
    "from sklearn.ensemble import RandomForestClassifier, GradientBoostingClassifier\n",
    "from sklearn.metrics import accuracy_score\n",
    "from sklearn.pipeline import Pipeline\n",
    "import matplotlib.pyplot as plt\n",
    "\n",
    "def get_data():\n",
    "    X, Y = make_classification(n_samples=1000, n_features=10, n_informative=6)\n",
    "    return X, Y\n",
    "\n",
    "def evaluate(estimator, X, Y):\n",
    "    cv = RepeatedStratifiedKFold(n_splits=10, n_repeats=3, random_state=0)\n",
    "    scores = cross_val_score(estimator, X, Y, cv=cv, error_score='raise', scoring='accuracy')\n",
    "    return scores\n",
    "\n",
    "def rfe_estimator_tuning():\n",
    "    rfe_models = dict()\n",
    "   # lr\n",
    "    rfe = RFE(estimator=LogisticRegression(), n_features_to_select=5)\n",
    "    model = DecisionTreeClassifier()\n",
    "    rfe_models['lr'] = Pipeline(steps=[('s',rfe),('m',model)])\n",
    "    # perceptron\n",
    "    rfe = RFE(estimator=Perceptron(), n_features_to_select=5)\n",
    "    model = DecisionTreeClassifier()\n",
    "    rfe_models['per'] = Pipeline(steps=[('s',rfe),('m',model)])\n",
    "    # cart\n",
    "    rfe = RFE(estimator=DecisionTreeClassifier(), n_features_to_select=5)\n",
    "    model = DecisionTreeClassifier()\n",
    "    rfe_models['cart'] = Pipeline(steps=[('s',rfe),('m',model)])\n",
    "    # rf\n",
    "    rfe = RFE(estimator=RandomForestClassifier(), n_features_to_select=5)\n",
    "    model = DecisionTreeClassifier()\n",
    "    rfe_models['rf'] = Pipeline(steps=[('s',rfe),('m',model)])\n",
    "    # gbm\n",
    "    rfe = RFE(estimator=GradientBoostingClassifier(), n_features_to_select=5)\n",
    "    model = DecisionTreeClassifier()\n",
    "    rfe_models['gbm'] = Pipeline(steps=[('s',rfe),('m',model)])\n",
    "    return rfe_models\n",
    "\n",
    "X, Y = get_data()\n",
    "x_train, x_test, y_train, y_test = train_test_split(X, Y, test_size=0.33, random_state=0)\n",
    "models = rfe_estimator_tuning()\n",
    "names , results = [], []\n",
    "\n",
    "for name, mdl in models.items():\n",
    "    score = evaluate(mdl, x_train, y_train)\n",
    "    results.append(score)\n",
    "    names.append(name)\n",
    "\n",
    "for i in range(len(names)):\n",
    "    print(\"For %.2s model , the score is: %.2f\" % (names[i], mean(results[i])))\n",
    "\n",
    "plt.boxplot(results, labels=names, showmeans=True)\n",
    "plt.show()"
   ]
  },
  {
   "cell_type": "markdown",
   "id": "6b423718",
   "metadata": {},
   "source": [
    "#### -------------------------------- Automatically select the no of features using RFECV---------------------------------"
   ]
  },
  {
   "cell_type": "code",
   "execution_count": 4,
   "id": "934b3713",
   "metadata": {},
   "outputs": [
    {
     "name": "stdout",
     "output_type": "stream",
     "text": [
      "cv score using rfecv is: 0.73\n",
      "Test accuracy: 0.74\n",
      "Feature: 0 support: False, score: 6\n",
      "Feature: 1 support: True, score: 1\n",
      "Feature: 2 support: False, score: 2\n",
      "Feature: 3 support: True, score: 1\n",
      "Feature: 4 support: True, score: 1\n",
      "Feature: 5 support: True, score: 1\n",
      "Feature: 6 support: False, score: 3\n",
      "Feature: 7 support: False, score: 4\n",
      "Feature: 8 support: True, score: 1\n",
      "Feature: 9 support: False, score: 5\n"
     ]
    },
    {
     "data": {
      "image/png": "[encoded data removed]",
      "text/plain": [
       "<Figure size 640x480 with 1 Axes>"
      ]
     },
     "metadata": {},
     "output_type": "display_data"
    }
   ],
   "source": [
    "#Info: RFECV performs cross-validation evaluation of different numbers of features as we did in the previous section \n",
    "#and automatically selects the number of features that resulted in the best mean score.\n",
    "\n",
    "from sklearn.datasets import make_classification\n",
    "from sklearn.feature_selection import RFECV\n",
    "from sklearn.model_selection import train_test_split, RepeatedKFold, cross_val_score\n",
    "from sklearn.linear_model import LogisticRegression\n",
    "from sklearn.tree import DecisionTreeClassifier\n",
    "from sklearn.metrics import accuracy_score\n",
    "from sklearn.pipeline import Pipeline\n",
    "import matplotlib.pyplot as plt\n",
    "\n",
    "def get_data():\n",
    "    X, Y = make_classification(n_samples=1000, n_features=10, n_informative=6)\n",
    "    return X, Y\n",
    "\n",
    "def evaluate(estimator, X, Y):\n",
    "    cv = RepeatedStratifiedKFold(n_splits=10, n_repeats=3, random_state=0)\n",
    "    scores = cross_val_score(estimator, X, Y, cv=cv, error_score='raise', scoring='accuracy')\n",
    "    return scores\n",
    "\n",
    "X, Y = get_data()\n",
    "x_train, x_test, y_train, y_test = train_test_split(X, Y, test_size=0.33, random_state=0)\n",
    "customied_cv = RepeatedKFold(n_repeats=4, n_splits=10, random_state=0)\n",
    "rfecv = RFECV(estimator=DecisionTreeClassifier(), min_features_to_select=2, cv=customied_cv)\n",
    "model = LogisticRegression()\n",
    "pipe = Pipeline([('s', rfecv), ('mdl', model)])\n",
    "scores = evaluate(pipe, x_train, y_train)\n",
    "print(\"cv score using rfecv is: %.2f\" % (mean(scores)))\n",
    "pipe.fit(x_train, y_train)\n",
    "print(\"Test accuracy: %.2f\"%(pipe.score(x_test, y_test)))\n",
    "\n",
    "#Finding out the best params\n",
    "for i in range(x_train.shape[1]):\n",
    "    print(\"Feature: {} support: {}, score: {}\".format(i , rfecv.support_[i], rfecv.ranking_[i]))\n",
    "    \n",
    "plt.boxplot(scores, showmeans=True)\n",
    "plt.show()"
   ]
  },
  {
   "cell_type": "markdown",
   "id": "bbd82f58",
   "metadata": {},
   "source": [
    "#### ------------------------------- Filter Methods -------------------------------------"
   ]
  },
  {
   "cell_type": "markdown",
   "id": "46c17190",
   "metadata": {},
   "source": [
    "    Filter methods uses statistical scores to evaluate each feature.Mostly covariance and correlation.Lets see what is covriance and correlation means."
   ]
  },
  {
   "cell_type": "markdown",
   "id": "eaf7b97d",
   "metadata": {},
   "source": [
    "    Correlation: It is the statiscal summary of relationship(cause/depend/associate) between variables.Correlation can be postive, negative or neutral.If 2 or more variables are tightly related then the situation is called Multicollinearity.\n",
    "\n",
    "    Covaraince matrix:  Summarizes the linear relationship between variables\n",
    "\n",
    "    Pearson correlation coef: Summarizes the linear relationship between variables\n",
    "\n",
    "    Spearman correlation coef: Summarize the monotonic(increase/decrease) relationship between variables"
   ]
  },
  {
   "cell_type": "markdown",
   "id": "4d21fd27",
   "metadata": {},
   "source": [
    "    Note: The structure of the relationship may be known, e.g. it may be linear, or we may have no idea whether a relationship exists between two variables or what structure it may take. Depending what is known about the relationship and the distribution of the variables, different correlation scores can be calculated."
   ]
  },
  {
   "cell_type": "code",
   "execution_count": 107,
   "id": "c5c05f6e",
   "metadata": {},
   "outputs": [
    {
     "name": "stdout",
     "output_type": "stream",
     "text": [
      "x1 Mean- 100.43033655713802 , Standard Deviation - 20.115428104120635\n",
      "x2 Mean- 150.35811986458052 , Standard Deviation - 22.464847306590126\n"
     ]
    },
    {
     "data": {
      "image/png": "[encoded data removed]",
      "text/plain": [
       "<Figure size 640x480 with 1 Axes>"
      ]
     },
     "metadata": {},
     "output_type": "display_data"
    }
   ],
   "source": [
    "#Example to understand correlation:\n",
    "from numpy.random import randn, seed\n",
    "import matplotlib.pyplot as plt\n",
    "\n",
    "#Info: randn returns a sample (or samples) from the \"standard normal\" distribution.\n",
    "#we can use randn() to generate guassian distribution synthetically of mean 0 and standard deviation 1 (standardised data)\n",
    "\n",
    "#lets create 2 features. One with mean 100 and sd 20.\n",
    "#Another feature will be created from first feature with mean 50 and sd 10 which implies that both are highly correlated\n",
    "\n",
    "#Info: Inorder to customise the distribution of default randn distrubution, we can multiply it with our sd and add our mean\n",
    "\n",
    "#The pseudorandom number generator is seeded to ensure that we get the same sample of numbers each time the code is run.\n",
    "seed(1)\n",
    "\n",
    "#Creating first feature for 1000 samples\n",
    "x1 = 20 * randn(1000) + 100\n",
    "\n",
    "#Creating second feature from first sample that resembles correlation btwn features x1 and x2\n",
    "x2 = x1 + (10 * randn(1000) + 50)\n",
    "\n",
    "print(\"x1 Mean- {} , Standard Deviation - {}\".format(mean(x1), std(x1)))\n",
    "print(\"x2 Mean- {} , Standard Deviation - {}\".format(mean(x2), std(x2)))\n",
    "\n",
    "#Plotting using scatter plot to visualise the relationship between two variables\n",
    "plt.scatter(x1, x2)\n",
    "plt.show()"
   ]
  },
  {
   "cell_type": "markdown",
   "id": "5422c945",
   "metadata": {},
   "source": [
    "#### Observation:\n",
    "    The realtionship shows the increasing trend which implies positive correlation."
   ]
  },
  {
   "cell_type": "markdown",
   "id": "8990f802",
   "metadata": {},
   "source": [
    "#### Covariance:\n",
    "    variance of some random variable X is a measure of how much values in the distribution vary on average with respect to the mean.It describes the spread of observation from the mean.\n",
    "    \n",
    "    Covariance is the measure of the joint probability for two random variables. Covariance is a statistical term that refers to a systematic relationship between two random variables which describes how the two variables change together.\n",
    "    \n",
    "    Covariance is great for defining the type of relationship, but it's terrible for interpreting the magnitude.\n",
    "        cov(X, Y) = (sum (x - mean(X)) * (y - mean(Y)) ) * 1/(n-1)\n",
    "        \n",
    "        Note: Mean is also called as expected value E. Variance(X) = sigma^2 = sum( (x1 - E[X])^2,.. (xn - E[X])^2) / n-1.\n",
    "        Note : E[X] = mean(X) = mu = X bar\n",
    "        Info: The sum of the squared differences is multiplied by the reciprocal of the number of examples minus 1 to correct for a bias.\n",
    "    \n",
    "    How cov is different from corr?\n",
    "        In statistics, correlation is a measure that determines the degree to which two or more random variables move in sequence. When an equivalent movement of another variable reciprocates the movement of one variable in some way or another during the study of two variables, the variables are said to be correlated.\n",
    "        Correlation uses covariance to identify the relationship.Correlation is the normalized version of covariance to achieve the score between -1 and 1 to make the magnitude interpretable by dividing it by the standard deviation of X and Y\n",
    "        corr(X, Y) = cov(X, Y) / (sqrt(var(X)) *sqrt(var(Y))) where sqrt(var(X)) = standard deviation of X"
   ]
  },
  {
   "cell_type": "markdown",
   "id": "0657f743",
   "metadata": {},
   "source": [
    "    Note : When  the values of a variable are subtracted from its mean, then that means the values are centered.Meaning, By subtracting mu, the mean has been shifted to 0, by dividing by sigma the standard deviation has been changed to 1.\n",
    "    Note: Standardisation means transforming the values to have mean of 0 and sd of 1\n",
    "    Note: Use of the mean in the calculation suggests the need for each data sample to have a Gaussian or Gaussian-like distribution.\n",
    "    Note: Sign of the covariance can be interpreted as whether the two variables change in the same direction (positive) or change in different directions (negative). 0 indicates no relation.The magnitude of the covariance is not easily interpret as the value range from -infinity to +infinity."
   ]
  },
  {
   "cell_type": "code",
   "execution_count": 109,
   "id": "617199bc",
   "metadata": {},
   "outputs": [
    {
     "name": "stdout",
     "output_type": "stream",
     "text": [
      "[[397.92502248 399.41734496]\n",
      " [399.41734496 493.73799609]]\n"
     ]
    }
   ],
   "source": [
    "from numpy.random import randn, seed\n",
    "from numpy import cov\n",
    "\n",
    "seed(1)\n",
    "x1 = 20 * randn(1000) + 100\n",
    "x2 = x1 + (10 * randn(1000) + 50)\n",
    "covariance = cov(x1, x2) # return covariance matrix\n",
    "print(covariance)"
   ]
  },
  {
   "cell_type": "markdown",
   "id": "70e1e963",
   "metadata": {},
   "source": [
    "#### Observation: \n",
    "    Covariance shows positive relation(399.41).It is important to know that covariance is best choice if the distribution represents Gaussian and there is linear relationship between variables.But covariance is hard to interpret.Hence Pearson's correlation coefficiet is introduced"
   ]
  },
  {
   "cell_type": "markdown",
   "id": "d0b1acf8",
   "metadata": {},
   "source": [
    "#### --------------------------- Pearson's Correlation coefficient-----------------------------"
   ]
  },
  {
   "cell_type": "markdown",
   "id": "ad9a2eb5",
   "metadata": {},
   "source": [
    "    It is used to summarize the strength of the linear relationship between two data samples.\n",
    "        Pearson's corr coef(x1, x2) = cov(x1, x2) / sd(x1) . sd(x2)\n",
    "    It is the normalization of the covariance between the two variables to give an interpretable score.\n",
    "\n",
    "    Note: \n",
    "    The use of mean and standard deviation in the calculation suggests the need for the two data samples to have a Gaussian or Gaussian-like distribution.\n",
    "\n",
    "    Note:\n",
    "    The coefficient returns a value between -1 and 1 that represents the limits of correlation from a full negative correlation to a full positive correlation. A value of 0 means no correlation. The value must be interpreted, where often a value below -0.5 or above 0.5 indicates a notable correlation, and values below those values suggests a less notable correlation."
   ]
  },
  {
   "cell_type": "code",
   "execution_count": 6,
   "id": "8c229319",
   "metadata": {},
   "outputs": [
    {
     "name": "stdout",
     "output_type": "stream",
     "text": [
      "PearsonRResult(statistic=0.887611908579531, pvalue=0.0)\n",
      "0.887611908579531\n",
      "ConfidenceInterval(low=0.8736945670871663, high=0.9000775077039672)\n",
      "[[ 1.         -0.05924545]\n",
      " [-0.05924545  1.        ]]\n"
     ]
    }
   ],
   "source": [
    "from numpy.random import randn, seed\n",
    "from scipy.stats import pearsonr\n",
    "import numpy as np\n",
    "\n",
    "seed(1)\n",
    "x1 = 20 * randn(1000) + 100\n",
    "x2 = x1 + (10 * randn(1000) + 50)\n",
    "pearson_corr = pearsonr(x1, x2) # return covariance matrix\n",
    "print(pearson_corr)\n",
    "print(pearson_corr.statistic)\n",
    "print(pearson_corr.confidence_interval(confidence_level=0.95)) \n",
    "#This method computes the confidence interval of the correlation coefficient `statistic` for the given confidence level.\n",
    "\n",
    "#if we want to test pearson corr coef for more than 2 values, \n",
    "#we can corrcoef() from numpy or pandas corr() when dealing with pd series/df\n",
    "\n",
    "x3 = 30 * randn(1000) + 45\n",
    "corr_coef_matrix = np.corrcoef(x2, x3)\n",
    "print(corr_coef_matrix)"
   ]
  },
  {
   "cell_type": "markdown",
   "id": "802227a2",
   "metadata": {},
   "source": [
    "#### Observation : \n",
    "    Represents high postive correlation between x1 and x2.Represents less negative correlation between x2 and x3"
   ]
  },
  {
   "cell_type": "code",
   "execution_count": 7,
   "id": "2f112bb4",
   "metadata": {},
   "outputs": [
    {
     "name": "stdout",
     "output_type": "stream",
     "text": [
      "[[ 10  11  12  13  14  15  16  17  18  19]\n",
      " [  2   1   4   5   8  12  18  25  96  48]\n",
      " [  5   3   2   1   0  -2  -8 -11 -15 -16]]\n",
      "[[ 1.          0.75864029 -0.96807242]\n",
      " [ 0.75864029  1.         -0.83407922]\n",
      " [-0.96807242 -0.83407922  1.        ]]\n",
      "-----------------------------------\n",
      "[[ 1.          0.98198051  0.84169758  0.75592895  0.55191089  0.30450771  0.07410807 -0.06981111 -0.57300929 -0.32042431]\n",
      " [ 0.98198051  1.          0.92857143  0.8660254   0.6995586   0.47902808  0.26123525  0.11996801 -0.40780377 -0.13563245]\n",
      " [ 0.84169758  0.92857143  1.          0.98974332  0.9148074   0.77061039  0.60084108  0.47987205 -0.03978573  0.24177958]\n",
      " [ 0.75592895  0.8660254   0.98974332  1.          0.96312314  0.85375027  0.70887395  0.60028423  0.10336637  0.37791847]\n",
      " [ 0.55191089  0.6995586   0.9148074   0.96312314  1.          0.96236205  0.87251109  0.79333905  0.36717428  0.61308916]\n",
      " [ 0.30450771  0.47902808  0.77061039  0.85375027  0.96236205  1.          0.97245715  0.92892794  0.60614265  0.80471628]\n",
      " [ 0.07410807  0.26123525  0.60084108  0.70887395  0.87251109  0.97245715  1.          0.98964359  0.77483068  0.9209233 ]\n",
      " [-0.06981111  0.11996801  0.47987205  0.60028423  0.79333905  0.92892794  0.98964359  1.          0.85755178  0.96733217]\n",
      " [-0.57300929 -0.40780377 -0.03978573  0.10336637  0.36717428  0.60614265  0.77483068  0.85755178  1.          0.95994355]\n",
      " [-0.32042431 -0.13563245  0.24177958  0.37791847  0.61308916  0.80471628  0.9209233   0.96733217  0.95994355  1.        ]]\n"
     ]
    }
   ],
   "source": [
    "#another example for pearson's calculation\n",
    "np.set_printoptions(linewidth=200, edgeitems=20)\n",
    "xyz = np.array([[10, 11, 12, 13, 14, 15, 16, 17, 18, 19],\n",
    "                [2, 1, 4, 5, 8, 12, 18, 25, 96, 48],\n",
    "                [5, 3, 2, 1, 0, -2, -8, -11, -15, -16]]) #we are creating a 3d array.\n",
    "print(xyz)\n",
    "print(np.corrcoef(xyz))\n",
    "print(\"-----------------------------------\")\n",
    "print(np.corrcoef(xyz, rowvar=False))\n",
    "# print(np.corrcoef(xyz.T))"
   ]
  },
  {
   "cell_type": "markdown",
   "id": "ff5d6e86",
   "metadata": {},
   "source": [
    "#### Observation:\n",
    "    In the example above, \n",
    "    When 3d/2d array is created, the rows represents features and the columns represents observaions.\n",
    "    #corrcoef() also considers the rows(3) as features and columns as observations. That’s because there are 3 rows.\n",
    "    #The usual practice in machine learning is the opposite: rows are observations and columns are features.\n",
    "    #In this case we can transpose it. or we can use rowvar=False."
   ]
  },
  {
   "cell_type": "markdown",
   "id": "3f891d80",
   "metadata": {},
   "source": [
    "#### ------------------------------- Spearman's correlation ------------------------------------"
   ]
  },
  {
   "cell_type": "markdown",
   "id": "00b23691",
   "metadata": {},
   "source": [
    "    Two variables may be related by a nonlinear relationship, such that the relationship is stronger or weaker across the distribution of the variables.Further, the two variables being considered may have a non-Gaussian distribution.Then we can use Spearman's correlation coefficient. This is a common approach used in non-parametric statistics, e.g. statistical methods where we do not assume a distribution of the data such as Gaussian.The scores are between -1 and 1 for perfectly negatively correlated variables and perfectly positively correlated respectively.\n",
    "\n",
    "    Instead of calculating the coefficient using covariance and standard deviations on the samples themselves, these statistics are calculated from the relative rank of values on each sample.Here, a linear relationship between the variables is not assumed, although a monotonic relationship(increasing / decreasing) is assumed.\n",
    "\n",
    "    Spearman's corr coeff(X, Y) = cov(rank(X), rank(Y)) / (std(rank(X)) * std(rank(Y)))\n"
   ]
  },
  {
   "cell_type": "code",
   "execution_count": 8,
   "id": "b0cfeb73",
   "metadata": {},
   "outputs": [
    {
     "name": "stdout",
     "output_type": "stream",
     "text": [
      "0.8724050484050484\n",
      "          x1        x2\n",
      "x1  1.000000  0.872405\n",
      "x2  0.872405  1.000000\n"
     ]
    }
   ],
   "source": [
    "from numpy.random import randn, seed\n",
    "from scipy.stats import spearmanr\n",
    "import numpy as np\n",
    "import pandas as pd\n",
    "\n",
    "seed(1)\n",
    "x1 = 20 * randn(1000) + 100\n",
    "x2 = x1 + (10 * randn(1000) + 50)\n",
    "spearman_corr, _ = spearmanr(x1, x2) # return covariance matrix\n",
    "print(spearman_corr)\n",
    "\n",
    "#we can also pandas corr() when dealing with pd series/df\n",
    "data = pd.DataFrame({'x1': x1, 'x2': x2})\n",
    "corr_coef = data.corr(method='spearman')\n",
    "print(corr_coef)"
   ]
  },
  {
   "cell_type": "markdown",
   "id": "27afd26f",
   "metadata": {},
   "source": [
    "#### ------------------------------- Chi squared Test -------------------------------------------------"
   ]
  },
  {
   "cell_type": "markdown",
   "id": "5ff7497d",
   "metadata": {},
   "source": [
    "    - Pearson's Chi squared test is a statistical hypothesis test for quantifying the independence of pairs of categorical variables. When the input is categorical and also the output is categorical, then we use chi-squared statistical hypothesis which is an example of a test for independence between categorical variables.It is non parametric test.Nonparametric tests are used for data that don’t follow the assumptions of parametric tests, especially the assumption of a normal distribution.\n",
    "    If you want to test a hypothesis about the distribution of a categorical variable you’ll need to use a chi-square test or another nonparametric test. Categorical variables can be nominal or ordinal. Because they can only have a few specific values, they can’t have a normal distribution.\n",
    "    \n",
    "    -Chi squared test tests for independence with the help of null hypothesis, alternate hypothesis, critical value, contingenecy table, statistic, p-value, alpha.\n",
    "    \n",
    "    \n",
    "    -- chi-squares is used to determine whether your observed data are significantly different from what you expected.2 types\n",
    "            -> chi-square goodness of fit test \n",
    "                (test whether the frequency distribution of a categorical variable is different from your expectations) (Expectation is our null hypothesis)\n",
    "            -> chi-square test of independence\n",
    "                ( test whether two categorical variables are related to each other)\n",
    "            ->  chi-square test of homogeneity\n",
    "                (tests whether two populations come from the same distribution by determining whether the two populations have the same proportions as each other)\n",
    "            -> X^2 = Sigma(O-E)^2/E\n",
    "            -> To decide whether the difference is big enough to be statistically significant, you compare the chi-square value to a critical value.\n",
    "            \n",
    "     \n",
    "    -----------------------------------------------------------------------------------\n",
    "    ------------------------------- Working--------------------------------------------\n",
    "    -----------------------------------------------------------------------------------\n",
    "        - Create a table of the observed and expected frequencies. (Contigency table)\n",
    "        - Calculate the chi-square value from your observed and expected frequencies using the chi-square formula.\n",
    "        - Find the critical chi-square value in a chi-square critical value table or using statistical software.\n",
    "        - Compare the chi-square value to the critical value to determine which is larger.\n",
    "        - Decide whether to reject the null hypothesis.\n",
    "            Eg: H0: both the variables(feature and target) are dependent\n",
    "        - Reject the null hypothesis if chi-square value/statistic >= critical value\n",
    "        (If you reject the null hypothesis, you can conclude that your data are significantly significant and is independent from each other)\n",
    "        - If statistic < critical value, fail to reject null hypothesis (both the variables(feature and target) are dependent) \n",
    "    - Likewise If p-value <= alpha: --> independent.If p-value > alpha: dependent\n",
    "    \n",
    "    \n",
    "    Statistical significance is arbitrary – it depends on the threshold, or alpha value, chosen by the researcher. A common alpha value is 0.05, which means that there is a 5% chance of obtaining the observed results if the null hypothesis is true.\n",
    "\n",
    "    To test the null hypothesis, researchers calculate a test statistic using their data and compare it to a critical value based on the alpha value and the distribution of the test statistic. If the test statistic is more extreme than the critical value, they reject the null hypothesis and conclude that their results are statistically significant. If not, they fail to reject the null hypothesis and conclude that their results are not statistically significant.\n",
    "\n",
    "    For example, suppose you want to test whether there is a difference in the average height of men and women in a population. You collect a random sample of 100 men and 100 women and measure their heights. You perform a t-test to compare the means of the two groups. The null hypothesis is that there is no difference in the mean heights of men and women. The alternative hypothesis is that there is a difference.\n",
    "\n",
    "    You set your alpha value at 0.05 and calculate your test statistic using a formula or software. You also find the critical value for a two-tailed t-test with 198 degrees of freedom using a table or software. Suppose your test statistic is 3.5 and your critical value is 1.96. Since your test statistic is greater than your critical value, you reject the null hypothesis and conclude that there is a statistically significant difference in the mean heights of men and women."
   ]
  },
  {
   "cell_type": "markdown",
   "id": "7e92f129",
   "metadata": {},
   "source": [
    "#### -------------- McNemar’s test ------------------ \n",
    "    It is a test that uses the chi-square test statistic. It isn’t a variety of Pearson’s chi-square test, but it’s closely related. \n",
    "\n",
    "    McNemar test is a non-parametric test for paired nominal data. It’s used when you are interested in finding a change in proportion for the paired data.It allows you to determine whether the proportions of the variables are equal.\n",
    "\n",
    "    For example, you could use this test to analyze retrospective case-control studies, where each treatment is paired with a control. It could also be used to analyze an experiment where two treatments are given to matched pairs.You can conduct this test when you have a related pair of categorical variables that each have two groups. \n",
    "\n",
    "    Requirements to perform McNemar's:\n",
    "    -----------------------------------------------------\n",
    "    - You must have one nominal variable with two categories (i.e. dichotomous variables) and one independent variable with two connected groups.\n",
    "    - The two groups in your the dependent variable must be mutually exclusive. In other words, participants cannot appear in more than one group.\n",
    "    - Your sample must be a random sample.\n",
    "\n",
    "    Suppose that a sample of 100 people is offered two flavors of ice cream and asked whether they like the taste of each.\n",
    "\n",
    "    Contingency table of ice cream flavor preference\n",
    "    --------------------------------------------------\n",
    "\n",
    "                 Like chocolate\t Dislike chocolate\n",
    "                \n",
    "    Like vanilla\t   47 (a)\t         32 (b)\n",
    "    Dislike vanilla\t    8 (c)            13 (d)\n",
    "    \n",
    "    Null hypothesis (H0): The proportion of people who like chocolate is the same as the proportion of people who like vanilla.\n",
    "    Alternative hypothesis (HA): The proportion of people who like chocolate is different from the proportion of people who like vanilla.\n",
    "\n",
    "                        Formula: X^2 = (b-c)^2 / (b+c)"
   ]
  },
  {
   "cell_type": "code",
   "execution_count": 9,
   "id": "5f90bdad",
   "metadata": {},
   "outputs": [],
   "source": [
    "#----------------------------Chi squared test using breast cancer data set-------------------------------------------\n",
    "import pandas as pd\n",
    "from sklearn.preprocessing import OrdinalEncoder, LabelEncoder\n",
    "from sklearn.feature_selection import chi2, mutual_info_classif, SelectKBest, f_classif, f_regression, SelectPercentile\n",
    "import matplotlib.pyplot as plt\n",
    "from sklearn.model_selection import KFold\n",
    "from sklearn.pipeline import Pipeline\n",
    "from sklearn.metrics import accuracy_score\n",
    "\n",
    "#loading the data from csv file\n",
    "def load_data(filepath):\n",
    "    data_csv = pd.read_csv(filepath)\n",
    "    data = data_csv.values\n",
    "    X = data[:, 1:]\n",
    "    Y = data[:, 0]\n",
    "    X = X.astype(str) #sometimes pandas tries to convert few features to integers.Hence making sure everything to be string/categorical\n",
    "    return X, Y\n",
    "\n",
    "#Encoding the categorical input features\n",
    "def prepare_input(train, test):\n",
    "    oe = OrdinalEncoder(handle_unknown='use_encoded_value', unknown_value=10000)\n",
    "    #Best practice is to fit the encoder first to training set and then apply the transform to train and test set\n",
    "    oe.fit(train)\n",
    "    X_train_enc = oe.transform(train)\n",
    "    X_test_enc = oe.transform(test)\n",
    "    return X_train_enc, X_test_enc\n",
    "\n",
    "#Encoding the categorical output using label encoder(ordinal encodes single variable)\n",
    "def prepare_output(train, test):\n",
    "    le = LabelEncoder()\n",
    "    le.fit(train)\n",
    "    Y_train_enc = le.transform(train)\n",
    "    Y_test_enc = le.transform(test)\n",
    "    return Y_train_enc, Y_test_enc\n",
    "\n",
    "#Loading the data\n",
    "X, Y = load_data(\"E:\\Learning\\ML\\Datasets\\data\\\\breast-cancer.data\")\n",
    "\n",
    "#Splitting the data\n",
    "x_train, x_test, y_train, y_test = train_test_split(X , Y, test_size=0.33, random_state=0, shuffle=True)\n",
    "\n",
    "#Encoding\n",
    "X_train_enc, X_test_enc = prepare_input(x_train, x_test)\n",
    "Y_train_enc, Y_test_enc = prepare_output(y_train, y_test)"
   ]
  },
  {
   "cell_type": "code",
   "execution_count": 10,
   "id": "ac1aa589",
   "metadata": {},
   "outputs": [
    {
     "name": "stdout",
     "output_type": "stream",
     "text": [
      "Feature: 0 , score: 1.298539\n",
      "Feature: 1 , score: 2.675842\n",
      "Feature: 2 , score: 1.464480\n",
      "Feature: 3 , score: 68.924866\n",
      "Feature: 4 , score: 2.028543\n",
      "Feature: 5 , score: 7.356049\n",
      "Feature: 6 , score: 0.913137\n",
      "Feature: 7 , score: 2.021197\n",
      "Feature: 8 , score: 3.499851\n"
     ]
    },
    {
     "data": {
      "image/png": "[encoded data removed]",
      "text/plain": [
       "<Figure size 640x480 with 1 Axes>"
      ]
     },
     "metadata": {},
     "output_type": "display_data"
    },
    {
     "name": "stdout",
     "output_type": "stream",
     "text": [
      "CV score - all features 0.778947\n",
      "Chi square - all features - Training accuracy: 0.810526\n",
      " Chi square - all features - Test accuracy: 0.684211\n"
     ]
    }
   ],
   "source": [
    "#Using the SelectKBest with chi2() to find out the best features\n",
    "chi_fs = SelectKBest(score_func=chi2, k='all')\n",
    "#Here we are specifying k as all for now.Just to plot and visualise all the feature scores.\n",
    "chi_fs.fit(X_train_enc, Y_train_enc)\n",
    "X_train_fs = chi_fs.transform(X_train_enc)\n",
    "X_test_fs = chi_fs.transform(X_test_enc)\n",
    "\n",
    "#print the scores\n",
    "for i in range(len(chi_fs.scores_)):\n",
    "    print(\"Feature: %d , score: %f\" %(i, chi_fs.scores_[i])) #Chi square scores for each feature of input\n",
    "#plotting\n",
    "plt.bar([i for i in range(len(chi_fs.scores_))], chi_fs.scores_)\n",
    "plt.show()\n",
    "\n",
    "\n",
    "#Lets train the model with all the features to check the performance\n",
    "cv = KFold(n_splits=10, random_state=0, shuffle=True)\n",
    "model = LogisticRegression(solver='lbfgs')\n",
    "score = cross_val_score(model, X_train_fs, Y_train_enc, \n",
    "                        cv=cv, scoring='accuracy',\n",
    "                        error_score='raise', n_jobs=-1)\n",
    "print(\"CV score - all features %f\"%mean(score))\n",
    "model.fit(X_train_fs, Y_train_enc)\n",
    "y_train_preds = model.predict(X_train_fs)\n",
    "print(\"Chi square - all features - Training accuracy: %f\" %(accuracy_score(Y_train_enc, y_train_preds)))\n",
    "y_pred = model.predict(X_test_fs)\n",
    "print(\" Chi square - all features - Test accuracy: %f\" %(accuracy_score(Y_test_enc, y_pred)))\n"
   ]
  },
  {
   "cell_type": "markdown",
   "id": "43397857",
   "metadata": {},
   "source": [
    "#### Observation:\n",
    "    Looks like features 3,5,8,1 are relevant features to target according to Chi square.Lets use k as 4 in the next step to select the features"
   ]
  },
  {
   "cell_type": "code",
   "execution_count": 11,
   "id": "541cd41d",
   "metadata": {},
   "outputs": [
    {
     "name": "stdout",
     "output_type": "stream",
     "text": [
      "CV score 0.752632\n",
      "Chi square - 4 features - Training accuracy: 0.763158\n",
      " Chi square - 4 features - Test accuracy: 0.642105\n"
     ]
    }
   ],
   "source": [
    "#Selecting 4 best features with chi2\n",
    "chi = SelectKBest(score_func=chi2, k=4)\n",
    "chi.fit(X_train_enc, Y_train_enc)\n",
    "X_train_best_fs = chi.transform(X_train_enc)\n",
    "X_test_best_fs = chi.transform(X_test_enc)\n",
    "\n",
    "#Training the Model\n",
    "cv = KFold(n_splits=10, random_state=0, shuffle=True)\n",
    "model = LogisticRegression(solver='lbfgs')\n",
    "score = cross_val_score(model, X_train_best_fs, Y_train_enc, \n",
    "                        cv=cv, scoring='accuracy',\n",
    "                        error_score='raise', n_jobs=-1)\n",
    "print(\"CV score %f\"%mean(score))\n",
    "model.fit(X_train_best_fs, Y_train_enc)\n",
    "y_train_preds = model.predict(X_train_best_fs)\n",
    "print(\"Chi square - 4 features - Training accuracy: %f\" %(accuracy_score(Y_train_enc, y_train_preds)))\n",
    "y_pred = model.predict(X_test_best_fs)\n",
    "print(\" Chi square - 4 features - Test accuracy: %f\" %(accuracy_score(Y_test_enc, y_pred)))"
   ]
  },
  {
   "cell_type": "markdown",
   "id": "68dd2904",
   "metadata": {},
   "source": [
    "#### Observation:\n",
    "    Looks like all features are contribution more to the model performance compared to best 4 features."
   ]
  },
  {
   "cell_type": "markdown",
   "id": "8889b42e",
   "metadata": {},
   "source": [
    "#### ---------------------------- Mutual information for categorical i/p and categorical output feature selection ------------------------------"
   ]
  },
  {
   "cell_type": "markdown",
   "id": "a0ae9178",
   "metadata": {},
   "source": [
    "    Mutual information measures the amount of information one can obtain from one random variable given another.Mutual information is calculated between two variables and measures the reduction in uncertainty for one variable given a known value of the other variable.It measures the average reduction in uncertainty about x that results from learning the value of y; or vice versa, the average amount of information that x conveys about y."
   ]
  },
  {
   "cell_type": "code",
   "execution_count": 12,
   "id": "fa1234af",
   "metadata": {},
   "outputs": [
    {
     "name": "stdout",
     "output_type": "stream",
     "text": [
      "Feature: 0 , score: 0.034640\n",
      "Feature: 1 , score: 0.006517\n",
      "Feature: 2 , score: 0.000432\n",
      "Feature: 3 , score: 0.000000\n",
      "Feature: 4 , score: 0.046478\n",
      "Feature: 5 , score: 0.081583\n",
      "Feature: 6 , score: 0.058397\n",
      "Feature: 7 , score: 0.000000\n",
      "Feature: 8 , score: 0.044065\n"
     ]
    },
    {
     "data": {
      "image/png": "[encoded data removed]",
      "text/plain": [
       "<Figure size 640x480 with 1 Axes>"
      ]
     },
     "metadata": {},
     "output_type": "display_data"
    }
   ],
   "source": [
    "#Using the SelectKBest with mutual_information to find out the best features\n",
    "mutual_info_fs = SelectKBest(score_func=mutual_info_classif, k='all')\n",
    "#Here we are specifying k as all for now.Just to plot and visualise all the feature scores.\n",
    "mutual_info_fs.fit(X_train_enc, Y_train_enc)\n",
    "X_train_fs = mutual_info_fs.transform(X_train_enc)\n",
    "X_test_fs = mutual_info_fs.transform(X_test_enc)\n",
    "\n",
    "#print the scores\n",
    "for i in range(len(mutual_info_fs.scores_)):\n",
    "    print(\"Feature: %d , score: %f\" %(i, mutual_info_fs.scores_[i])) #mutual_info  scores for each feature of input\n",
    "#plotting\n",
    "plt.bar([i for i in range(len(mutual_info_fs.scores_))], mutual_info_fs.scores_)\n",
    "plt.show()"
   ]
  },
  {
   "cell_type": "markdown",
   "id": "f0f81014",
   "metadata": {},
   "source": [
    "#### Observation: \n",
    "    Mutual Info is showing different features as best relevant features with target."
   ]
  },
  {
   "cell_type": "code",
   "execution_count": 13,
   "id": "4ea9bf0d",
   "metadata": {},
   "outputs": [
    {
     "name": "stdout",
     "output_type": "stream",
     "text": [
      "CV score 0.757895\n",
      "Mutual Info - 6 features - Training accuracy: 0.763158\n",
      "Mutual Info - 6 features - Test accuracy: 0.642105\n"
     ]
    }
   ],
   "source": [
    "#Lets train the model with K=6 best features to check the performance of mutual info feature selection\n",
    "mutual_info = SelectKBest(score_func=mutual_info_classif, k=6)\n",
    "mutual_info.fit(X_train_enc, Y_train_enc)\n",
    "X_train_best_fs = mutual_info.transform(X_train_enc)\n",
    "X_test_best_fs = mutual_info.transform(X_test_enc)\n",
    "\n",
    "#Training the Model\n",
    "cv = KFold(n_splits=10, random_state=0, shuffle=True)\n",
    "model = LogisticRegression(solver='lbfgs')\n",
    "score = cross_val_score(model, X_train_best_fs, Y_train_enc, \n",
    "                        cv=cv, scoring='accuracy',\n",
    "                        error_score='raise', n_jobs=-1)\n",
    "print(\"CV score %f\"%mean(score))\n",
    "model.fit(X_train_best_fs, Y_train_enc)\n",
    "y_train_preds = model.predict(X_train_best_fs)\n",
    "print(\"Mutual Info - 6 features - Training accuracy: %f\" %(accuracy_score(Y_train_enc, y_train_preds)))\n",
    "y_pred = model.predict(X_test_best_fs)\n",
    "print(\"Mutual Info - 6 features - Test accuracy: %f\" %(accuracy_score(Y_test_enc, y_pred)))"
   ]
  },
  {
   "cell_type": "markdown",
   "id": "045a740d",
   "metadata": {},
   "source": [
    "#### Observation:\n",
    "    Mutual information feature selection performs better compared to chi sqaure in this test.Although all features yield best accuracies in this case.Its always best practice to include feature selection in the inner loop of cv."
   ]
  },
  {
   "cell_type": "markdown",
   "id": "2a7a2ed3",
   "metadata": {},
   "source": [
    "#### How to choose the filter based feature selection method based on input and output variables?\n",
    "    Many models, especially those based on regression slopes and intercepts, will estimate parameters for every term in the model. Because of this, the presence of non-informative variables can add uncertainty to the predictions and reduce the overall effectiveness of the model.So one should be mindful and careful to perform feature selection.\n",
    "    \n",
    "    - The choice of statistical measures is highly dependent upon the variable and also target data types(for supervised fs methods).Common data types include numerical (such as height) and categorical (such as a label), although each may be further subdivided such as integer and floating point for numerical variables, and boolean, ordinal, or nominal for categorical variables.\n",
    "    - It is known that a numerical output variable indicates a regression predictive modeling problem, and a categorical output variable indicates a classification predictive modeling problem.\n",
    "    -Most of the filter selection techniques are univariate, meaning that they evaluate each predictor/variable in isolation.\n",
    "    --------------------------------------------------------------\n",
    "    - I/P, O/P - Categorical / Numerical - Kendall(non-linear, assumes categorical variable as ordinal)\n",
    "       \n",
    "       Kendall tau can handle both numeric and categorical input and output variables, as long as they are ordinal, meaning that they have a natural order. For example, you can use Kendall tau to measure the correlation between the rank order of students’ grades and their rank order of satisfaction with the course. Both grades and satisfaction are ordinal variables that can be ranked from low to high. Kendall tau can also handle ties in the ranks of the variables, meaning that some values are equal and have the same rank. There are different variants of Kendall tau that account for ties differently, such as tau-a, tau-b, and tau-c. The most commonly used variant is tau-b, which adjusts for ties by dividing the number of concordant and discordant pairs by the geometric mean of the number of possible pairs for each variable.\n",
    "    \n",
    "    - I/P - Categorical(with more than 3 levels) , O/P - Numerical and continuous - Anova(linear) Anova compares the means among three or more groups - numerical i/p, categorical o/p also\n",
    "    - I/P - Numerical, O/P - Numerical - Pearson's(Linear) / Spearman's (non-linear)\n",
    "    - I/P - Categorical, O/P - Categorical - Chi Squared / Mutual Info\n",
    "    \n",
    "    Note: Mutual info can be used for numerical as well as categorical(data type agnostic)\n",
    "    \n",
    "    - --------------Scikit libraries------------------\n",
    "    - Pearson’s Correlation Coefficient: f_regression()\n",
    "    - ANOVA: f_classif() - analysis of variance\n",
    "    - Chi-Squared: chi2()\n",
    "    - Mutual Information: mutual_info_classif() and mutual_info_regression()\n",
    "    \n",
    "    - -------------Scipy libraries---------------------\n",
    "    - Kendall’s tau - kendalltau\n",
    "    - Spearman’s rank correlation - spearmanr\n",
    "    - Pearson's corr coef - pearsonr\n",
    "    \n",
    "    ----------Selection Method after choosing the filter method ----------------\n",
    "    - SelectKBest - Select the top k variables\n",
    "    - SelectPercentile - Select the top percentile variables\n",
    "    \n",
    "    Note : It is best practice to always transform variables.Like categorical variables to ordinal or variables like age to descritize into bins which can be further used as categorical.Once we transform, we can apply any feature selection method as per the need."
   ]
  },
  {
   "cell_type": "code",
   "execution_count": 198,
   "id": "de235876",
   "metadata": {},
   "outputs": [
    {
     "name": "stdout",
     "output_type": "stream",
     "text": [
      "(100, 10)\n"
     ]
    }
   ],
   "source": [
    "# Regression with numerical i/p and o/p example\n",
    "from sklearn.datasets import make_regression\n",
    "from sklearn.feature_selection import SelectKBest\n",
    "from sklearn.feature_selection import f_regression\n",
    "\n",
    "X, y = make_regression(n_samples=100, n_features=100, n_informative=10)\n",
    "fs = SelectKBest(score_func=f_regression, k=10) #Pearson correlation\n",
    "X_selected = fs.fit_transform(X, y)\n",
    "print(X_selected.shape)"
   ]
  },
  {
   "cell_type": "code",
   "execution_count": 199,
   "id": "0ce36efa",
   "metadata": {},
   "outputs": [
    {
     "name": "stdout",
     "output_type": "stream",
     "text": [
      "(100, 2)\n"
     ]
    }
   ],
   "source": [
    "#Classification with numerical i/p and categorical o/p\n",
    "from sklearn.datasets import make_classification\n",
    "from sklearn.feature_selection import SelectKBest\n",
    "from sklearn.feature_selection import f_classif\n",
    "\n",
    "X, y = make_classification(n_samples=100, n_features=20, n_informative=2)\n",
    "fs = SelectKBest(score_func=f_classif, k=2) #Anova-F\n",
    "X_selected = fs.fit_transform(X, y) \n",
    "print(X_selected.shape)"
   ]
  },
  {
   "cell_type": "code",
   "execution_count": 14,
   "id": "bba3cad6",
   "metadata": {},
   "outputs": [
    {
     "name": "stdout",
     "output_type": "stream",
     "text": [
      "Kendall correlation coefficient: 0.709\n",
      "Samples are correlated (reject H0) p=0.000\n"
     ]
    }
   ],
   "source": [
    "#kendalltau\n",
    "from numpy.random import rand\n",
    "from numpy.random import seed\n",
    "from scipy.stats import kendalltau\n",
    "# seed random number generator\n",
    "seed(1)\n",
    "# prepare data\n",
    "data1 = rand(1000) * 20\n",
    "data2 = data1 + (rand(1000) * 10)\n",
    "# calculate kendall's correlation\n",
    "coef, p = kendalltau(data1, data2)\n",
    "print('Kendall correlation coefficient: %.3f' % coef)\n",
    "# interpret the significance\n",
    "alpha = 0.05\n",
    "if p > alpha:\n",
    " print('Samples are uncorrelated (fail to reject H0) p=%.3f' % p)\n",
    "else:\n",
    " print('Samples are correlated (reject H0) p=%.3f' % p)"
   ]
  }
 ],
 "metadata": {
  "kernelspec": {
   "display_name": "Python 3 (ipykernel)",
   "language": "python",
   "name": "python3"
  },
  "language_info": {
   "codemirror_mode": {
    "name": "ipython",
    "version": 3
   },
   "file_extension": ".py",
   "mimetype": "text/x-python",
   "name": "python",
   "nbconvert_exporter": "python",
   "pygments_lexer": "ipython3",
   "version": "3.8.10"
  }
 },
 "nbformat": 4,
 "nbformat_minor": 5
}
