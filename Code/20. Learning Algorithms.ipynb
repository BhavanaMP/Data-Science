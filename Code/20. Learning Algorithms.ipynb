{
 "cells": [
  {
   "cell_type": "markdown",
   "id": "a7810e64",
   "metadata": {},
   "source": [
    "### Learning algorithms helps to find the decision boundary. Where as optimizers like gradient descent, ADAM objective is to to find the best parametes that helps to find the decision boundary by minimizing the cost or maximizing the accuracy."
   ]
  },
  {
   "cell_type": "code",
   "execution_count": null,
   "id": "0cc41c99",
   "metadata": {},
   "outputs": [],
   "source": []
  }
 ],
 "metadata": {
  "kernelspec": {
   "display_name": "Python 3 (ipykernel)",
   "language": "python",
   "name": "python3"
  },
  "language_info": {
   "codemirror_mode": {
    "name": "ipython",
    "version": 3
   },
   "file_extension": ".py",
   "mimetype": "text/x-python",
   "name": "python",
   "nbconvert_exporter": "python",
   "pygments_lexer": "ipython3",
   "version": "3.8.10"
  }
 },
 "nbformat": 4,
 "nbformat_minor": 5
}
