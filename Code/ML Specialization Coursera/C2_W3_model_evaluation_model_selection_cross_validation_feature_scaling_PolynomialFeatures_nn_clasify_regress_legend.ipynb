{
 "cells": [
  {
   "cell_type": "markdown",
   "id": "f758dfa9",
   "metadata": {},
   "source": [
    "    Quantifying a learning algorithm's performance and comparing different models are some of the common tasks when applying machine learning to real world applications\n",
    "    \n",
    "### Model Evaluation\n",
    "    How well your model is performing after training the model? How to evaluate your model's performance?\n",
    "    \n",
    "    Initially, to evaluate the performance of your model, you will want to measure the error for the training set and  the test sets\n",
    "    \n",
    "     Test set(subset of training data that has not been exposed to the training)\n",
    "    \n",
    "        Evaluation of model\n",
    "        --------------------\n",
    "        Test error = cost on Test data = J_test without regularization\n",
    "        Training error = cost on Training data = J_train without regularization\n",
    "        \n",
    "        \n",
    "        Note:  Test error is to evaluate how well your model is performing and generalizing on unseen test data and lets you know if the model has overfit to your training set. Training error is to evaluate how well your model is performing on training data. Both also helps in identifying bias and variance problems\n",
    "        \n",
    "        Imp note: Note above evaluations will be without regularization. Cost we use for training will be the cost along with regularization cuz we are always training the model while regularizing the parameters. Below are the costs for reference.\n",
    "        \n",
    "               -  For regression, its MSE \n",
    "                            J_train_training = 1/2m Σ (f(X) - y)^2 + λ/2m Σ w^2\n",
    "               \n",
    "               -  For binary classification, its logistic loss or binary cross entropy, \n",
    "                                J_train_training = -1/m Σ y log (f(X) + (1-y) log(1-f(X)) + λ/2m Σ w^2\n",
    "                                \n",
    "               - For categorical classification, its sparse categorical cross entropy\n",
    "                               J_train_training = - 1/m Σ log a + λ/2m Σ w^2\n",
    "                \n",
    "### Model Selection - Cross Validation\n",
    "    What if we want to evaluate more than one model for the given training data?\n",
    "    \n",
    "    i.e models with different polynomial degrees i.w complex models or simple models\n",
    "    i.e how to choose one best model among all the models of different complexity?\n",
    "    \n",
    "    Lets consider regression\n",
    "    \n",
    "    d = 1 ,     f(X) = w.x + b\n",
    "    d = 2 ,     f(x) = w1 x + w2 x^2 + b (quadratic)\n",
    "    d = 3 ,     f(x) = w1 x + w2 x^2 + w3 x^3 + b (3rd order polynomial)\n",
    "    d = 4 ,     f(x) = w1 x + w2 x^2 + w3 x^3 + w4 x^4 + b (4th order polynomial)\n",
    "    d = 5 ,     f(x) = w1 x + w2 x^2 + w3 x^3 + w4 x^4 + w5 x^4 + b (5th order polynomial)\n",
    "    \n",
    "    How to select one best model among all the different models?\n",
    "    \n",
    "    Use Different subset other than test data from the training set. This set is called Cross validation set / validation set/ dev set.\n",
    "    \n",
    "    Above different models are evaluated using this cross validation set.\n",
    "    \n",
    "    i.e after training model of each degree polynomial, we test those parameters on the validation set and find out cost on cross validation set J_cv (note always the evaluations are without regularization term). We choose the model that has less cost on Cross validation set i.e less J_cv\n",
    "    \n",
    "    This way, cross validation set is used to select the degree of the model or complexity of the model or the type of the model or the model. Specifically it is used to evaluate the different model configurations you are choosing from. For example, you can use this to make a decision on what \"polynomial features\" to add to your dataset.\n",
    "    \n",
    "    *training set* - used to train the model\n",
    "    *test set* - used to give a fair estimate of your chosen model's performance against new examples. This should not be used to make decisions while you are still developing the models.\n",
    "        \n",
    "        So now the process is, for each different model we train and evaluate using training set and cross validation sets inorder to select the final model. Once the final model is selected, we use test set to finally evalute the model to get the estimation of true generalization.\n",
    "        \n",
    "        Note: The one above is hold out cross validation. There are other different type of cross validations, kfold, stratified k fold, leave one out..Cross validation is further improvised to use the entire training set instead of holding out some examples. The training set is divided into k folds and then each fold is used as validation set for model selection atleast once\n",
    "        \n",
    "    In this lab, we will perform the below steps for model selection and evaluation for regression, neural networks, classification with neural networks\n",
    "    \n",
    "          -  split datasets into training, cross validation, and test sets\n",
    "          -  evaluate regression and classification models\n",
    "          -  add polynomial features to improve the performance of a linear regression model\n",
    "          -  compare several neural network architectures\n",
    "      -------------------------------------------------------------------------------------------------------------     \n",
    "       data\t            |    % of total\t    |            Description\n",
    "      -------------------------------------------------------------------------------------------------------------\n",
    "          training\t    |        60\t        |     Data used to tune model parameters w and b in training or fitting\n",
    "        cross-validation|\t     20\t        |      Data used to tune other model parameters like degree of polynomial,  \n",
    "                        |                   |      regularization or the architecture of a neural network.\n",
    "          test\t        |        20\t        |      Data used to test the model after tuning to gauge performance on new data"
   ]
  },
  {
   "cell_type": "code",
   "execution_count": 109,
   "id": "1ff35972",
   "metadata": {},
   "outputs": [],
   "source": [
    "import numpy as np\n",
    "import matplotlib.pyplot as plt\n",
    "from sklearn.linear_model import LinearRegression\n",
    "from sklearn.model_selection import train_test_split\n",
    "from sklearn.preprocessing import StandardScaler, PolynomialFeatures\n",
    "from sklearn.metrics import mean_squared_error\n",
    "\n",
    "import tensorflow as tf\n",
    "from tensorflow.keras import Sequential\n",
    "from tensorflow.keras.layers import Dense, Normalization\n",
    "from tensorflow.keras.activations import relu, sigmoid, softmax, linear\n",
    "from tensorflow.keras.losses import BinaryCrossentropy, MeanSquaredError, SparseCategoricalCrossentropy\n",
    "from tensorflow.keras.optimizers import Adam\n",
    "\n",
    "tf.get_logger().setLevel(\"ERROR\")\n",
    "tf.autograph.set_verbosity(0)\n",
    "np.set_printoptions(precision=2)"
   ]
  },
  {
   "cell_type": "markdown",
   "id": "22df3a14",
   "metadata": {},
   "source": [
    "##### Lets handle model evaluation and selection in regression"
   ]
  },
  {
   "cell_type": "code",
   "execution_count": 21,
   "id": "3c923a48",
   "metadata": {},
   "outputs": [
    {
     "name": "stdout",
     "output_type": "stream",
     "text": [
      "(50,)\n",
      "(50,)\n"
     ]
    }
   ],
   "source": [
    "#Loading the regression data\n",
    "data = np.loadtxt(\"./data_w3_ex1.csv\", delimiter=\",\")\n",
    "# Split the inputs and outputs into separate arrays\n",
    "X = data[:, 0] #this way we get data as 1D. data[:, :1] - we get 2D data\n",
    "y = data[:, 1]\n",
    "print(X.shape)\n",
    "print(y.shape)"
   ]
  },
  {
   "cell_type": "code",
   "execution_count": 22,
   "id": "012381f5",
   "metadata": {},
   "outputs": [
    {
     "name": "stdout",
     "output_type": "stream",
     "text": [
      "X.shape (50, 1)\n",
      "y.shape (50, 1)\n",
      "First five elements of X [[1651.  ]\n",
      " [1691.82]\n",
      " [1732.63]\n",
      " [1773.45]\n",
      " [1814.27]]\n",
      "First five elements of y [[432.65]\n",
      " [454.94]\n",
      " [471.53]\n",
      " [482.51]\n",
      " [468.36]]\n"
     ]
    }
   ],
   "source": [
    "#lets make the data to 2D for future purposes\n",
    "#here we use expand_dims. Note reshape also works\n",
    "X = np.expand_dims(X, axis=1)\n",
    "y = np.expand_dims(y, axis=1)\n",
    "print(f\"X.shape {X.shape}\")\n",
    "print(f\"y.shape {y.shape}\")\n",
    "print(f\"First five elements of X {X[:5]}\")\n",
    "print(f\"First five elements of y {y[:5]}\")"
   ]
  },
  {
   "cell_type": "code",
   "execution_count": 12,
   "id": "8cb43da3",
   "metadata": {},
   "outputs": [
    {
     "name": "stdout",
     "output_type": "stream",
     "text": [
      "Training set: X_train.shape (30, 1), y_train.shape (30, 1)\n",
      "Validation set: X_val.shape (10, 1), y_val.shape (10, 1)\n",
      "Test set: X_test.shape (10, 1), y_test.shape (10, 1)\n"
     ]
    }
   ],
   "source": [
    "#Splitting the data into training set, test set and validation set\n",
    "x_train, x_, y_train, y_ = train_test_split(X, y, test_size=0.4, random_state=1)\n",
    "\n",
    "#splitting the splitted test above (test set) to again to 2 halves to have a test set and validation set\n",
    "x_val, x_test, y_val, y_test = train_test_split(x_, y_, test_size=0.5, random_state=1)\n",
    "\n",
    "#del the temporary variables that are not in use\n",
    "del x_, y_\n",
    "print(f\"Training set: X_train.shape {x_train.shape}, y_train.shape {y_train.shape}\")\n",
    "print(f\"Validation set: X_val.shape {x_val.shape}, y_val.shape {y_val.shape}\")\n",
    "print(f\"Test set: X_test.shape {x_test.shape}, y_test.shape {y_test.shape}\")"
   ]
  },
  {
   "cell_type": "code",
   "execution_count": 55,
   "id": "40439585",
   "metadata": {},
   "outputs": [
    {
     "data": {
      "image/png": "[encoded data removed]",
      "text/plain": [
       "<Figure size 1000x800 with 1 Axes>"
      ]
     },
     "metadata": {},
     "output_type": "display_data"
    }
   ],
   "source": [
    "#Plot the training data\n",
    "def plot_dataset(x=X, y=y, title=\"input vs. target\"):\n",
    "    plt.rcParams[\"figure.figsize\"] = (10, 8)\n",
    "    plt.rcParams[\"lines.markersize\"] = 12\n",
    "    fig, ax = plt.subplots(1, 1)\n",
    "    ax.scatter(x, y, c=\"r\", marker=\"x\")\n",
    "    ax.set_xlabel(\"X\")\n",
    "    ax.set_ylabel(\"Y\")\n",
    "    ax.set_title(title)\n",
    "    plt.show()\n",
    "\n",
    "plot_dataset(x=x_train, y=y_train)"
   ]
  },
  {
   "cell_type": "markdown",
   "id": "d220491b",
   "metadata": {},
   "source": [
    "#### Feature scaling\n",
    "    In the previous course of this specialization, you saw that it is usually a good idea to perform feature scaling to help your model converge faster. This is especially true if your input features have widely different ranges of values. Later in this lab, you will be adding polynomial terms so your input features will indeed have different ranges. For example, \n",
    "    \n",
    "    x runs from around 1600 to 3600, while x^2 will run from 2.56 million to 12.96 million.\n",
    "\n",
    "    You will only use single feature x for this first model but it's good to practice feature scaling now so you can apply it later. For that, you will use the StandardScaler class from scikit-learn. This computes the z-score of your inputs. As a refresher, the z-score is given by the equation: (chnages to mean to 0 and sd to 1)\n",
    "                         \n",
    "                                 z = x - mu / sigma\n",
    "\n",
    " \n",
    "    where \n",
    "         mu is the mean of the feature values and \n",
    "         sigma is the standard deviation. \n",
    "         \n",
    "    The code below shows how to prepare the training set using the said class. You can plot the results again to inspect if it still follows the same pattern as before. The new graph should have a reduced range of values for x."
   ]
  },
  {
   "cell_type": "code",
   "execution_count": 56,
   "id": "2f02c6fa",
   "metadata": {},
   "outputs": [
    {
     "name": "stdout",
     "output_type": "stream",
     "text": [
      "Computed mean of the training set: 2504.06\n",
      "Computed standard deviation of the training set: 574.85\n"
     ]
    },
    {
     "data": {
      "image/png": "[encoded data removed]",
      "text/plain": [
       "<Figure size 1000x800 with 1 Axes>"
      ]
     },
     "metadata": {},
     "output_type": "display_data"
    }
   ],
   "source": [
    "# Initialize the class\n",
    "scaler_linear = StandardScaler()\n",
    "\n",
    "# Compute the mean and standard deviation of the training set using fit and then transform it\n",
    "X_train_scaled = scaler_linear.fit_transform(x_train)\n",
    "\n",
    "print(f\"Computed mean of the training set: {scaler_linear.mean_.squeeze():.2f}\")\n",
    "print(f\"Computed standard deviation of the training set: {scaler_linear.scale_.squeeze():.2f}\")\n",
    "\n",
    "\n",
    "plot_dataset(x=X_train_scaled, y=y_train, title=\"scaled input vs. target\")"
   ]
  },
  {
   "cell_type": "code",
   "execution_count": 57,
   "id": "62edb2e3",
   "metadata": {},
   "outputs": [
    {
     "data": {
      "text/html": [
       "<style>#sk-container-id-3 {color: black;background-color: white;}#sk-container-id-3 pre{padding: 0;}#sk-container-id-3 div.sk-toggleable {background-color: white;}#sk-container-id-3 label.sk-toggleable__label {cursor: pointer;display: block;width: 100%;margin-bottom: 0;padding: 0.3em;box-sizing: border-box;text-align: center;}#sk-container-id-3 label.sk-toggleable__label-arrow:before {content: \"▸\";float: left;margin-right: 0.25em;color: #696969;}#sk-container-id-3 label.sk-toggleable__label-arrow:hover:before {color: black;}#sk-container-id-3 div.sk-estimator:hover label.sk-toggleable__label-arrow:before {color: black;}#sk-container-id-3 div.sk-toggleable__content {max-height: 0;max-width: 0;overflow: hidden;text-align: left;background-color: #f0f8ff;}#sk-container-id-3 div.sk-toggleable__content pre {margin: 0.2em;color: black;border-radius: 0.25em;background-color: #f0f8ff;}#sk-container-id-3 input.sk-toggleable__control:checked~div.sk-toggleable__content {max-height: 200px;max-width: 100%;overflow: auto;}#sk-container-id-3 input.sk-toggleable__control:checked~label.sk-toggleable__label-arrow:before {content: \"▾\";}#sk-container-id-3 div.sk-estimator input.sk-toggleable__control:checked~label.sk-toggleable__label {background-color: #d4ebff;}#sk-container-id-3 div.sk-label input.sk-toggleable__control:checked~label.sk-toggleable__label {background-color: #d4ebff;}#sk-container-id-3 input.sk-hidden--visually {border: 0;clip: rect(1px 1px 1px 1px);clip: rect(1px, 1px, 1px, 1px);height: 1px;margin: -1px;overflow: hidden;padding: 0;position: absolute;width: 1px;}#sk-container-id-3 div.sk-estimator {font-family: monospace;background-color: #f0f8ff;border: 1px dotted black;border-radius: 0.25em;box-sizing: border-box;margin-bottom: 0.5em;}#sk-container-id-3 div.sk-estimator:hover {background-color: #d4ebff;}#sk-container-id-3 div.sk-parallel-item::after {content: \"\";width: 100%;border-bottom: 1px solid gray;flex-grow: 1;}#sk-container-id-3 div.sk-label:hover label.sk-toggleable__label {background-color: #d4ebff;}#sk-container-id-3 div.sk-serial::before {content: \"\";position: absolute;border-left: 1px solid gray;box-sizing: border-box;top: 0;bottom: 0;left: 50%;z-index: 0;}#sk-container-id-3 div.sk-serial {display: flex;flex-direction: column;align-items: center;background-color: white;padding-right: 0.2em;padding-left: 0.2em;position: relative;}#sk-container-id-3 div.sk-item {position: relative;z-index: 1;}#sk-container-id-3 div.sk-parallel {display: flex;align-items: stretch;justify-content: center;background-color: white;position: relative;}#sk-container-id-3 div.sk-item::before, #sk-container-id-3 div.sk-parallel-item::before {content: \"\";position: absolute;border-left: 1px solid gray;box-sizing: border-box;top: 0;bottom: 0;left: 50%;z-index: -1;}#sk-container-id-3 div.sk-parallel-item {display: flex;flex-direction: column;z-index: 1;position: relative;background-color: white;}#sk-container-id-3 div.sk-parallel-item:first-child::after {align-self: flex-end;width: 50%;}#sk-container-id-3 div.sk-parallel-item:last-child::after {align-self: flex-start;width: 50%;}#sk-container-id-3 div.sk-parallel-item:only-child::after {width: 0;}#sk-container-id-3 div.sk-dashed-wrapped {border: 1px dashed gray;margin: 0 0.4em 0.5em 0.4em;box-sizing: border-box;padding-bottom: 0.4em;background-color: white;}#sk-container-id-3 div.sk-label label {font-family: monospace;font-weight: bold;display: inline-block;line-height: 1.2em;}#sk-container-id-3 div.sk-label-container {text-align: center;}#sk-container-id-3 div.sk-container {/* jupyter's `normalize.less` sets `[hidden] { display: none; }` but bootstrap.min.css set `[hidden] { display: none !important; }` so we also need the `!important` here to be able to override the default hidden behavior on the sphinx rendered scikit-learn.org. See: https://github.com/scikit-learn/scikit-learn/issues/21755 */display: inline-block !important;position: relative;}#sk-container-id-3 div.sk-text-repr-fallback {display: none;}</style><div id=\"sk-container-id-3\" class=\"sk-top-container\"><div class=\"sk-text-repr-fallback\"><pre>LinearRegression()</pre><b>In a Jupyter environment, please rerun this cell to show the HTML representation or trust the notebook. <br />On GitHub, the HTML representation is unable to render, please try loading this page with nbviewer.org.</b></div><div class=\"sk-container\" hidden><div class=\"sk-item\"><div class=\"sk-estimator sk-toggleable\"><input class=\"sk-toggleable__control sk-hidden--visually\" id=\"sk-estimator-id-3\" type=\"checkbox\" checked><label for=\"sk-estimator-id-3\" class=\"sk-toggleable__label sk-toggleable__label-arrow\">LinearRegression</label><div class=\"sk-toggleable__content\"><pre>LinearRegression()</pre></div></div></div></div></div>"
      ],
      "text/plain": [
       "LinearRegression()"
      ]
     },
     "execution_count": 57,
     "metadata": {},
     "output_type": "execute_result"
    }
   ],
   "source": [
    "#First lets train our data with simple regression model i.e linear model of degree 1 => f(X) = w.x + b\n",
    "linear_model = LinearRegression()\n",
    "\n",
    "# Train the model\n",
    "linear_model.fit(X_train_scaled, y_train)"
   ]
  },
  {
   "cell_type": "markdown",
   "id": "bb13dfd0",
   "metadata": {},
   "source": [
    "#### Evaluate the Model\n",
    "    To evaluate the performance of your model, you will want to measure the error for the training and cross validation sets. For the training error, recall the equation for calculating the mean squared error (MSE):\n",
    "\n",
    "                         J_train = 1/2m Σ (f(X) - y)^2 \n",
    "                         \n",
    "    Scikit-learn also has a built-in mean_squared_error() function that you can use. Take note though that as per the documentation, scikit-learn's implementation only divides by m and not 2*m (where m = number of examples). Thus, to match the equation above, you can use the scikit-learn function then divide by two as shown below. We also included a for-loop implementation so you can check that it's equal.\n",
    "\n",
    "    Another thing to take note: since you trained the model on scaled values (i.e. using the z-score), you should also feed in the scaled training set instead of its raw values."
   ]
  },
  {
   "cell_type": "code",
   "execution_count": 58,
   "id": "e0526c8a",
   "metadata": {},
   "outputs": [
    {
     "name": "stdout",
     "output_type": "stream",
     "text": [
      "training MSE (using sklearn function): 406.19\n",
      "training MSE (using for loop): 406.19\n"
     ]
    }
   ],
   "source": [
    "#model evaluation\n",
    "y_train_preds = linear_model.predict(X_train_scaled)\n",
    "\n",
    "J_train_linear = mean_squared_error(y_true=y_train, y_pred=y_train_preds) / 2\n",
    "\n",
    "# Use scikit-learn's utility function and divide by 2\n",
    "print(f\"training MSE (using sklearn function): {J_train_linear:.2f}\")\n",
    "\n",
    "#for loop implementation of mse\n",
    "total_error = 0\n",
    "for i in range(len(X_train_scaled)):\n",
    "    error = (y_train_preds[i] - y_train[i]) ** 2\n",
    "    total_error += error\n",
    "total_error = total_error / (2 * len(y_train))\n",
    "print(f\"training MSE (using for loop): {total_error.squeeze():.2f}\")"
   ]
  },
  {
   "cell_type": "markdown",
   "id": "a52e8d72",
   "metadata": {},
   "source": [
    "    You can then compute the MSE for the cross validation set with basically the same equation:\n",
    "    \n",
    "                            J_cv = 1/2m Σ (f(X) - y)^2 \n",
    "\n",
    "     As with the training set, you will also want to scale the cross validation set. An important thing to note when using the z-score is you have to use the mean and standard deviation of the training set when scaling the cross validation set. This is to ensure that your input features are transformed as expected by the model. One way to gain intuition is with this scenario:\n",
    "\n",
    "        Say that your training set has an input feature equal to 500 which is scaled down to 0.5 using the z-score.\n",
    "        After training, your model is able to accurately map this scaled input x=0.5 to the target output y=300.\n",
    "        Now let's say that you deployed this model and one of your users fed it a sample equal to 500.\n",
    "        If you get this input sample's z-score using any other values of the mean and standard deviation, then it might not be scaled to 0.5 and your model will most likely make a wrong prediction (i.e. not equal to y=300).\n",
    "    \n",
    "        You will scale the cross validation set below by using the same StandardScaler you used earlier but only calling its transform() method instead of fit_transform()."
   ]
  },
  {
   "cell_type": "code",
   "execution_count": 60,
   "id": "6a684d85",
   "metadata": {},
   "outputs": [
    {
     "name": "stdout",
     "output_type": "stream",
     "text": [
      "Validation set MSE (using sklearn function): 551.78\n",
      "Validation set MSE (using for loop): 551.78\n"
     ]
    }
   ],
   "source": [
    "#scaling cross validation set and calculating cost of cv set\n",
    "\n",
    "# Scale the cross validation set using the mean and standard deviation of the training set\n",
    "X_val_scaled = scaler_linear.transform(x_val)\n",
    "\n",
    "# Feed the scaled cross validation set\n",
    "y_val_preds = linear_model.predict(X_val_scaled)\n",
    "\n",
    "#calulating cost of cross validation set\n",
    "J_val_linear = mean_squared_error(y_val, y_val_preds) / 2\n",
    "print(f\"Validation set MSE (using sklearn function): {J_val_linear:.2f}\")\n",
    "\n",
    "#for loop implementation of mse\n",
    "total_error = 0\n",
    "for i in range(len(X_val_scaled)):\n",
    "    error = (y_val_preds[i] - y_val[i]) ** 2\n",
    "    total_error += error\n",
    "total_error = total_error / (2 * len(y_val))\n",
    "print(f\"Validation set MSE (using for loop): {total_error.squeeze():.2f}\")"
   ]
  },
  {
   "cell_type": "markdown",
   "id": "c81e2e6a",
   "metadata": {},
   "source": [
    "#### Adding Polynomial Features\n",
    "    From the graphs earlier, you may have noticed that the target y rises more sharply at smaller values of x compared to higher ones. A straight line i.e linear regression might not be the best choice because the target y seems to flatten out as x increases. Also observe how the model is perfoming on the training set(check MSE) which is very bad. Needless to mention, it is performing very bad on cross validation set too.\n",
    "    \n",
    "    Now that you have these values of the training and cross validation MSE from the linear model, you can try adding polynomial features to see if you can get a better performance i.e increase the degree of model.This is the part of model selection. The code will mostly be the same but with a few extra preprocessing steps. Let's see that below.\n",
    "\n",
    "#### Create the additional features\n",
    "    First, you will generate the polynomial features from your training set. The code below demonstrates how to do this using the PolynomialFeatures class. It will create a new input feature which has the squared values of the input x (i.e. degree=2)."
   ]
  },
  {
   "cell_type": "code",
   "execution_count": 80,
   "id": "960da669",
   "metadata": {},
   "outputs": [
    {
     "name": "stdout",
     "output_type": "stream",
     "text": [
      "1\n",
      "2\n",
      "<class 'numpy.ndarray'>\n",
      "[[3.32e+03 1.11e+07]\n",
      " [2.34e+03 5.50e+06]\n",
      " [3.49e+03 1.22e+07]\n",
      " [2.63e+03 6.92e+06]\n",
      " [2.59e+03 6.71e+06]]\n"
     ]
    }
   ],
   "source": [
    "#adding more polynomial features \n",
    "\n",
    "#lets add the feature x^2 i.e increase the degree of model from 1 (linear) to 2(quadratic)\n",
    "#linear = w.x + b\n",
    "#quadratic = w1 x + w2 x^2 +  b\n",
    "\n",
    "# Instantiate the class to make polynomial features\n",
    "poly = PolynomialFeatures(degree=2, include_bias=False)\n",
    "\n",
    "# Compute the number of features and transform the training set\n",
    "X_train_mapped = poly.fit_transform(x_train)\n",
    "\n",
    "# Preview the \n",
    "#No. of features in and no. of features out\n",
    "#first 5 elements of the new training set. Left column is `x` and right column is `x^2`\n",
    "# Note: The `e+<number>` in the output denotes how many places the decimal point should \n",
    "# be moved. For example, `3.24e+03` is equal to `3240`\n",
    "print(poly.n_features_in_)\n",
    "print(poly.n_output_features_)\n",
    "print(type(X_train_mapped))\n",
    "print(X_train_mapped[:5])\n"
   ]
  },
  {
   "cell_type": "markdown",
   "id": "a7b4da5a",
   "metadata": {},
   "source": [
    "    You will then scale the inputs as before to narrow down the range of values."
   ]
  },
  {
   "cell_type": "code",
   "execution_count": 81,
   "id": "bdde7806",
   "metadata": {},
   "outputs": [
    {
     "name": "stdout",
     "output_type": "stream",
     "text": [
      "[[ 1.43  1.47]\n",
      " [-0.28 -0.36]\n",
      " [ 1.71  1.84]\n",
      " [ 0.22  0.11]\n",
      " [ 0.15  0.04]]\n"
     ]
    }
   ],
   "source": [
    "#Instantiate\n",
    "scaler_poly = StandardScaler()\n",
    "\n",
    "# Compute the mean and standard deviation of the training set then transform it\n",
    "X_train_mapped_scaled = scaler_poly.fit_transform(X_train_mapped)\n",
    "\n",
    "# Preview the first 5 elements of the scaled training set.\n",
    "print(X_train_mapped_scaled[:5])"
   ]
  },
  {
   "cell_type": "markdown",
   "id": "818d4f3f",
   "metadata": {},
   "source": [
    "    You can then proceed to train the model. After that, you will measure the model's performance against the cross validation set. Like before, you should make sure to perform the same transformations as you did in the training set. You will add the same number of polynomial features then scale the range of values."
   ]
  },
  {
   "cell_type": "code",
   "execution_count": 82,
   "id": "8da5ba4d",
   "metadata": {},
   "outputs": [
    {
     "data": {
      "text/html": [
       "<style>#sk-container-id-6 {color: black;background-color: white;}#sk-container-id-6 pre{padding: 0;}#sk-container-id-6 div.sk-toggleable {background-color: white;}#sk-container-id-6 label.sk-toggleable__label {cursor: pointer;display: block;width: 100%;margin-bottom: 0;padding: 0.3em;box-sizing: border-box;text-align: center;}#sk-container-id-6 label.sk-toggleable__label-arrow:before {content: \"▸\";float: left;margin-right: 0.25em;color: #696969;}#sk-container-id-6 label.sk-toggleable__label-arrow:hover:before {color: black;}#sk-container-id-6 div.sk-estimator:hover label.sk-toggleable__label-arrow:before {color: black;}#sk-container-id-6 div.sk-toggleable__content {max-height: 0;max-width: 0;overflow: hidden;text-align: left;background-color: #f0f8ff;}#sk-container-id-6 div.sk-toggleable__content pre {margin: 0.2em;color: black;border-radius: 0.25em;background-color: #f0f8ff;}#sk-container-id-6 input.sk-toggleable__control:checked~div.sk-toggleable__content {max-height: 200px;max-width: 100%;overflow: auto;}#sk-container-id-6 input.sk-toggleable__control:checked~label.sk-toggleable__label-arrow:before {content: \"▾\";}#sk-container-id-6 div.sk-estimator input.sk-toggleable__control:checked~label.sk-toggleable__label {background-color: #d4ebff;}#sk-container-id-6 div.sk-label input.sk-toggleable__control:checked~label.sk-toggleable__label {background-color: #d4ebff;}#sk-container-id-6 input.sk-hidden--visually {border: 0;clip: rect(1px 1px 1px 1px);clip: rect(1px, 1px, 1px, 1px);height: 1px;margin: -1px;overflow: hidden;padding: 0;position: absolute;width: 1px;}#sk-container-id-6 div.sk-estimator {font-family: monospace;background-color: #f0f8ff;border: 1px dotted black;border-radius: 0.25em;box-sizing: border-box;margin-bottom: 0.5em;}#sk-container-id-6 div.sk-estimator:hover {background-color: #d4ebff;}#sk-container-id-6 div.sk-parallel-item::after {content: \"\";width: 100%;border-bottom: 1px solid gray;flex-grow: 1;}#sk-container-id-6 div.sk-label:hover label.sk-toggleable__label {background-color: #d4ebff;}#sk-container-id-6 div.sk-serial::before {content: \"\";position: absolute;border-left: 1px solid gray;box-sizing: border-box;top: 0;bottom: 0;left: 50%;z-index: 0;}#sk-container-id-6 div.sk-serial {display: flex;flex-direction: column;align-items: center;background-color: white;padding-right: 0.2em;padding-left: 0.2em;position: relative;}#sk-container-id-6 div.sk-item {position: relative;z-index: 1;}#sk-container-id-6 div.sk-parallel {display: flex;align-items: stretch;justify-content: center;background-color: white;position: relative;}#sk-container-id-6 div.sk-item::before, #sk-container-id-6 div.sk-parallel-item::before {content: \"\";position: absolute;border-left: 1px solid gray;box-sizing: border-box;top: 0;bottom: 0;left: 50%;z-index: -1;}#sk-container-id-6 div.sk-parallel-item {display: flex;flex-direction: column;z-index: 1;position: relative;background-color: white;}#sk-container-id-6 div.sk-parallel-item:first-child::after {align-self: flex-end;width: 50%;}#sk-container-id-6 div.sk-parallel-item:last-child::after {align-self: flex-start;width: 50%;}#sk-container-id-6 div.sk-parallel-item:only-child::after {width: 0;}#sk-container-id-6 div.sk-dashed-wrapped {border: 1px dashed gray;margin: 0 0.4em 0.5em 0.4em;box-sizing: border-box;padding-bottom: 0.4em;background-color: white;}#sk-container-id-6 div.sk-label label {font-family: monospace;font-weight: bold;display: inline-block;line-height: 1.2em;}#sk-container-id-6 div.sk-label-container {text-align: center;}#sk-container-id-6 div.sk-container {/* jupyter's `normalize.less` sets `[hidden] { display: none; }` but bootstrap.min.css set `[hidden] { display: none !important; }` so we also need the `!important` here to be able to override the default hidden behavior on the sphinx rendered scikit-learn.org. See: https://github.com/scikit-learn/scikit-learn/issues/21755 */display: inline-block !important;position: relative;}#sk-container-id-6 div.sk-text-repr-fallback {display: none;}</style><div id=\"sk-container-id-6\" class=\"sk-top-container\"><div class=\"sk-text-repr-fallback\"><pre>LinearRegression()</pre><b>In a Jupyter environment, please rerun this cell to show the HTML representation or trust the notebook. <br />On GitHub, the HTML representation is unable to render, please try loading this page with nbviewer.org.</b></div><div class=\"sk-container\" hidden><div class=\"sk-item\"><div class=\"sk-estimator sk-toggleable\"><input class=\"sk-toggleable__control sk-hidden--visually\" id=\"sk-estimator-id-6\" type=\"checkbox\" checked><label for=\"sk-estimator-id-6\" class=\"sk-toggleable__label sk-toggleable__label-arrow\">LinearRegression</label><div class=\"sk-toggleable__content\"><pre>LinearRegression()</pre></div></div></div></div></div>"
      ],
      "text/plain": [
       "LinearRegression()"
      ]
     },
     "execution_count": 82,
     "metadata": {},
     "output_type": "execute_result"
    }
   ],
   "source": [
    "model = LinearRegression() #note we are  using same linear regression cuz the model is linear model but the features are polynomial features to fit the complex data\n",
    "\n",
    "#so now the model will be w1 x + w1 x^2 + b => linear model of degree 2 with polynomial features\n",
    "model.fit(X_train_mapped_scaled, y_train)"
   ]
  },
  {
   "cell_type": "code",
   "execution_count": 83,
   "id": "a953aa03",
   "metadata": {},
   "outputs": [],
   "source": [
    "#Perform the transformation on validation set\n",
    "\n",
    "#creating the polynomial features for val set\n",
    "X_val_mapped = poly.transform(x_val)\n",
    "\n",
    "#scaling the feature\n",
    "X_val_mapped_scaled = scaler_poly.transform(X_val_mapped)"
   ]
  },
  {
   "cell_type": "code",
   "execution_count": 84,
   "id": "a1720402",
   "metadata": {},
   "outputs": [
    {
     "name": "stdout",
     "output_type": "stream",
     "text": [
      "Training MSE: 49.11\n",
      "Validation MSE: 87.70\n"
     ]
    }
   ],
   "source": [
    "#Evaluating the model with training and cross validation sets\n",
    "y_train_preds = model.predict(X_train_mapped_scaled)\n",
    "J_train = mean_squared_error(y_train, y_train_preds) / 2\n",
    "print(f\"Training MSE: {J_train:.2f}\")\n",
    "\n",
    "y_val_preds = model.predict(X_val_mapped_scaled)\n",
    "J_val = mean_squared_error(y_val, y_val_preds) / 2\n",
    "print(f\"Validation MSE: {J_val:.2f}\")"
   ]
  },
  {
   "cell_type": "markdown",
   "id": "aee78cb0",
   "metadata": {},
   "source": [
    "    You'll notice that the MSEs are significantly better for both the training and cross validation set when you added the 2nd order polynomial. You may want to introduce more polynomial terms and see which one gives the best performance. As shown in class, you can have 10 different models like this:\n",
    "\n",
    "                    d = 1 ,     f(X) = w.x + b\n",
    "                    d = 2 ,     f(x) = w1 x + w2 x^2 + b (quadratic)\n",
    "                    d = 3 ,     f(x) = w1 x + w2 x^2 + w3 x^3 + b (3rd order polynomial)\n",
    "                    d = 4 ,     f(x) = w1 x + w2 x^2 + w3 x^3 + w4 x^4 + b (4th order polynomial)\n",
    "                    d = 5 ,     f(x) = w1 x + w2 x^2 + w3 x^3 + w4 x^4 + w5 x^4 + b (5th order polynomial)\n",
    "                        .\n",
    "                        .\n",
    "                    d = 10,     f(x) = w1 x + w2 x^2 + ............. + w10 x^10 + b (10th order polynomial)\n",
    "\n",
    "    You can create a loop that contains all the steps in the previous code cells. Here is one implementation that adds polynomial features up to degree=10. We'll plot it at the end to make it easier to compare the results for each model."
   ]
  },
  {
   "cell_type": "code",
   "execution_count": 104,
   "id": "2af9e377",
   "metadata": {},
   "outputs": [
    {
     "name": "stdout",
     "output_type": "stream",
     "text": [
      "[406.19374192533127, 49.11160933402512, 47.616322352982394, 47.1464664426365, 47.14257452630217, 41.383877925588145, 39.24961062724534, 38.98136379725413, 37.97170833883602, 37.03646961268759]\n",
      "[551.7789026952216, 87.69841211111911, 81.15087907197008, 79.43134912070398, 79.58685943662647, 98.74226159573267, 99.32345423634305, 99.04845553297574, 109.58952940911834, 121.85070814895998]\n"
     ]
    },
    {
     "data": {
      "image/png": "[encoded data removed]",
      "text/plain": [
       "<Figure size 1000x800 with 1 Axes>"
      ]
     },
     "metadata": {},
     "output_type": "display_data"
    }
   ],
   "source": [
    "#Model training, selection and evaluation manually\n",
    "train_mses = []\n",
    "val_mses = []\n",
    "models = []\n",
    "scalers = []\n",
    "#note: we are not saving the polynomial feature obj cuz, it  is just creating polynomial features like x^2, x^3. \n",
    "#We can directly use fit_transform for any set irrespective of training set.\n",
    "\n",
    "for i in range(1, 11):\n",
    "#     print(i) #starts from 1 to 10\n",
    "    poly = PolynomialFeatures(degree=i, include_bias=False)\n",
    "    X_train_mapped = poly.fit_transform(x_train)\n",
    "    \n",
    "    scaler_poly = StandardScaler()\n",
    "    X_train_mapped_scaled = scaler_poly.fit_transform(X_train_mapped)\n",
    "    \n",
    "    \n",
    "    model = LinearRegression()\n",
    "    model.fit(X_train_mapped_scaled, y_train)\n",
    "    y_train_preds = model.predict(X_train_mapped_scaled)\n",
    "    train_mse = mean_squared_error(y_train, y_train_preds) / 2\n",
    "    train_mses.append(train_mse)\n",
    "    \n",
    "    poly = PolynomialFeatures(degree=i, include_bias=False)\n",
    "    X_val_mapped = poly.fit_transform(x_val)\n",
    "    X_val_mapped_scaled = scaler_poly.transform(X_val_mapped)\n",
    "    \n",
    "    y_val_preds = model.predict(X_val_mapped_scaled)\n",
    "    val_mse = mean_squared_error(y_val, y_val_preds) / 2\n",
    "    val_mses.append(val_mse)\n",
    "    \n",
    "    models.append(model)\n",
    "    scalers.append(scaler_poly)\n",
    "\n",
    "degrees = range(1, 11)\n",
    "print(train_mses)\n",
    "print(val_mses)\n",
    "\n",
    "#plotting the results for model selection\n",
    "def plot_train_cv_mses(degrees, train_mses, cv_mses, title=\"degree of polynomial vs. train Mse's\"):\n",
    "    fig, ax = plt.subplots(1, 1)\n",
    "    ax.plot(degrees, train_mses, c=\"r\",  marker='o', label=\"Train MSE\")\n",
    "    ax.plot(degrees, cv_mses, c=\"b\",  marker='o', label=\"CV MSE\")\n",
    "    ax.legend()\n",
    "    ax.set_title(title)\n",
    "    ax.set_xlabel(\"Degrees\")\n",
    "    ax.set_ylabel(\"MSE\")\n",
    "    plt.show()\n",
    "    \n",
    "    \n",
    "\n",
    "plot_train_cv_mses(degrees, train_mses, val_mses, title=\"degree of polynomial vs. train and CV MSEs\")"
   ]
  },
  {
   "cell_type": "markdown",
   "id": "2e199687",
   "metadata": {},
   "source": [
    "##### Choosing the best model\n",
    "    When selecting a model, you want to choose one that performs well both on the training and cross validation set. It implies that it is able to learn the patterns from your training set without overfitting. If you used the defaults in this lab, you will notice a sharp drop in cross validation error from the models with degree=1 to degree=2. This is followed by a relatively flat line up to degree=5. After that, however, the cross validation error is generally getting worse as you add more polynomial features. Given these, you can decide to use the model with the lowest cv_mse as the one best suited for your application."
   ]
  },
  {
   "cell_type": "code",
   "execution_count": 105,
   "id": "db253065",
   "metadata": {},
   "outputs": [
    {
     "name": "stdout",
     "output_type": "stream",
     "text": [
      "Lowest CV MSE is found in the model with degree=4\n"
     ]
    }
   ],
   "source": [
    "# Get the model with the lowest CV MSE (add 1 because list indices start at 0)\n",
    "# This also corresponds to the degree of the polynomial added\n",
    "degree = np.argmin(val_mses) + 1\n",
    "print(f\"Lowest CV MSE is found in the model with degree={degree}\")"
   ]
  },
  {
   "cell_type": "markdown",
   "id": "2c044e27",
   "metadata": {},
   "source": [
    "    You can then publish the generalization error by computing the test set's MSE. As usual, you should transform this data the same way you did with the training and cross validation sets"
   ]
  },
  {
   "cell_type": "code",
   "execution_count": 107,
   "id": "db04342f",
   "metadata": {},
   "outputs": [
    {
     "name": "stdout",
     "output_type": "stream",
     "text": [
      "Training MSE: 47.15\n",
      "Cross Validation MSE: 79.43\n",
      "Test error: 104.63\n"
     ]
    }
   ],
   "source": [
    "#get the model of degree 4 from the saved models\n",
    "final_model = models[degree - 1] #idx starts from 0\n",
    "\n",
    "#creating polynomial features for test set\n",
    "poly = PolynomialFeatures(degree=degree, include_bias=False)\n",
    "X_test_mapped = poly.fit_transform(x_test)\n",
    "\n",
    "#scaling with training scaler\n",
    "final_scaler = scalers[degree-1]\n",
    "X_test_mapped_scaled = final_scaler.transform(X_test_mapped)\n",
    "\n",
    "#evaluate the final model on the test set\n",
    "y_test_preds = final_model.predict(X_test_mapped_scaled)\n",
    "test_error = mean_squared_error(y_test, y_test_preds) / 2\n",
    "print(f\"Training MSE: {train_mses[degree-1]:.2f}\")\n",
    "print(f\"Cross Validation MSE: {val_mses[degree-1]:.2f}\")\n",
    "print(f\"Test error: {test_error:.2f}\")"
   ]
  },
  {
   "cell_type": "markdown",
   "id": "7dfc50ec",
   "metadata": {},
   "source": [
    "#### Model selection for Neural Networks\n",
    "    The same model selection process can also be used when choosing between different neural network architectures. In this section, you will create the models shown below and apply it to the same regression task above.\n",
    "    \n",
    "    You will use the same training, cross validation, and test sets you generated in the previous section. From earlier lectures in this course, you may have known that neural networks can learn non-linear relationships so you can opt to skip adding polynomial features. The code is still included below in case you want to try later and see what effect it will have on your results. The default degree is set to 1 to indicate that it will just use x_train, x_cv, and x_test as is (i.e. without any additional polynomial features).\n",
    "    Next, you will scale the input features to help gradient descent converge faster. Again, notice that you are using the mean and standard deviation computed from the training set by just using transform() in the cross validation and test sets instead of fit_transform()."
   ]
  },
  {
   "cell_type": "code",
   "execution_count": 117,
   "id": "6e28453d",
   "metadata": {},
   "outputs": [
    {
     "name": "stdout",
     "output_type": "stream",
     "text": [
      "(30, 1)\n"
     ]
    }
   ],
   "source": [
    "#Neural network for regression\n",
    "\n",
    "#Preparing the training and validation data\n",
    "degree = 1\n",
    "poly = PolynomialFeatures(degree=degree, include_bias=False)\n",
    "x_train_mapped = poly.fit_transform(x_train)\n",
    "x_val_mapped = poly.transform(x_val)\n",
    "x_test_mapped = poly.transform(x_test)\n",
    "\n",
    "#scaling . we can also use tf.keras.Normalize\n",
    "scaler = StandardScaler()\n",
    "x_train_mapped_scaled = scaler.fit_transform(x_train_mapped)\n",
    "x_val_mapped_scaled = scaler.transform(x_val_mapped)\n",
    "x_test_mapped_scaled = scaler.transform(x_test_mapped)"
   ]
  },
  {
   "cell_type": "code",
   "execution_count": null,
   "id": "e7251e96",
   "metadata": {},
   "outputs": [],
   "source": [
    "#Building the model architecture to select from\n",
    "def build_models():\n",
    "    model_1 = Sequential([\n",
    "        Dense(units=25, activation=relu),\n",
    "        Dense(units=15, activation=relu),\n",
    "        Dense(units=1, activation=linear)\n",
    "\n",
    "    ], name=\"model1\")\n",
    "\n",
    "    model_2 = Sequential([\n",
    "        Dense(units=20, activation=relu),\n",
    "        Dense(units=12, activation=relu),\n",
    "        Dense(units=12, activation=relu),\n",
    "        Dense(units=20, activation=relu),\n",
    "        Dense(units=1, activation=linear)\n",
    "    ], name=\"model2\")\n",
    "\n",
    "    model_3 = Sequential([\n",
    "        Dense(units=32, activation=relu),\n",
    "        Dense(units=16, activation=relu),\n",
    "        Dense(units=18, activation=relu),\n",
    "        Dense(units=4, activation=relu),\n",
    "        Dense(units=12, activation=relu),\n",
    "        Dense(units=1, activation=linear)\n",
    "    ], name=\"model3\")\n",
    "    return(model_1, model_2, model_3)"
   ]
  },
  {
   "cell_type": "code",
   "execution_count": 119,
   "id": "2a632cdf",
   "metadata": {},
   "outputs": [
    {
     "name": "stdout",
     "output_type": "stream",
     "text": [
      "Training model1...\n",
      "Done!\n",
      "\n",
      "Training model2...\n",
      "Done!\n",
      "\n",
      "Training model3...\n",
      "Done!\n",
      "\n",
      "RESULTS:\n",
      "Model 1: Training MSE: 238.55, CV MSE: 339.08\n",
      "Model 2: Training MSE: 75.19, CV MSE: 111.82\n",
      "Model 3: Training MSE: 405.40, CV MSE: 551.32\n"
     ]
    }
   ],
   "source": [
    "#model selection process\n",
    "nn_train_mses = []\n",
    "nn_val_mses = []\n",
    "\n",
    "nn_models = build_models()\n",
    "# print(models)\n",
    "\n",
    "for model in nn_models:\n",
    "    print(f\"Training {model.name}...\")\n",
    "    model.compile(loss=\"mse\",\n",
    "                 optimizer=tf.keras.optimizers.Adam(learning_rate=0.1))\n",
    "    \n",
    "    model.fit(x_train_mapped_scaled, y_train, epochs=300, verbose=0)\n",
    "    print(\"Done!\\n\")\n",
    "    \n",
    "    #calculating training predictions\n",
    "    y_train_preds = model.predict(x_train_mapped_scaled, verbose=0)\n",
    "    \n",
    "    #calculate the training error using mean squared error\n",
    "    train_mse = mean_squared_error(y_train, y_train_preds) / 2\n",
    "    nn_train_mses.append(train_mse)\n",
    "    \n",
    "    y_val_preds = model.predict(x_val_mapped_scaled, verbose=0)\n",
    "    #calculate the validation error using mean squared error\n",
    "    val_mse = mean_squared_error(y_val, y_val_preds) / 2\n",
    "    nn_val_mses.append(val_mse)\n",
    "     \n",
    "# print results\n",
    "print(\"RESULTS:\")\n",
    "for model_num in range(len(nn_train_mses)):\n",
    "    print(\n",
    "        f\"Model {model_num + 1}: Training MSE: {nn_train_mses[model_num]:.2f}, \" +\n",
    "        f\"CV MSE: {nn_val_mses[model_num]:.2f}\"\n",
    "        )"
   ]
  },
  {
   "cell_type": "markdown",
   "id": "2fac28a4",
   "metadata": {},
   "source": [
    "    From the recorded errors, you can decide which is the best model for your application. Look at the results above and see if you agree with the selected model_num below. Finally, you will compute the test error to estimate how well it generalizes to new examples."
   ]
  },
  {
   "cell_type": "code",
   "execution_count": 123,
   "id": "59f06fee",
   "metadata": {},
   "outputs": [
    {
     "name": "stdout",
     "output_type": "stream",
     "text": [
      "1/1 [==============================] - 0s 16ms/step\n",
      "Final Model 2: Training MSE: 75.19, CV MSE: 111.82, Test Mse: 121.85\n"
     ]
    }
   ],
   "source": [
    "model_num = 2\n",
    "final_nn_model = nn_models[model_num-1]\n",
    "y_test_preds = final_nn_model.predict(x_test_mapped_scaled)\n",
    "y_test_mse = mean_squared_error(y_test, y_test_preds) / 2\n",
    "print(\n",
    "        f\"Final Model {model_num}: Training MSE: {nn_train_mses[model_num-1]:.2f}, \" +\n",
    "        f\"CV MSE: {nn_val_mses[model_num-1]:.2f}, \" +\n",
    "        f\"Test Mse: {y_test_mse:.2f}\"\n",
    "        )"
   ]
  },
  {
   "cell_type": "markdown",
   "id": "d12ebe8b",
   "metadata": {},
   "source": [
    "#### Model selection for Classification with Neural networks\n",
    "    In this last part of the lab, you will practice model evaluation and selection on a classification task. The process will be similar, with the main difference being the computation of the errors. You will see that in the following sections\n",
    "    \n",
    "    Load the Dataset\n",
    "    ----------------\n",
    "    First, you will load a dataset for a binary classification task. It has 200 examples of two input features (x1 and x2), and a target y of either 0 or 1."
   ]
  },
  {
   "cell_type": "code",
   "execution_count": 128,
   "id": "0ce5996c",
   "metadata": {},
   "outputs": [
    {
     "name": "stdout",
     "output_type": "stream",
     "text": [
      "(200, 2)\n",
      "(200, 1)\n",
      "[[1000.   1457.29]\n",
      " [1045.23 1005.03]\n",
      " [1090.45  854.27]\n",
      " [1135.68 2562.81]\n",
      " [1180.9  4623.12]]\n",
      "[0. 1.]\n"
     ]
    }
   ],
   "source": [
    "data = np.loadtxt(\"./data_w3_ex2.csv\", delimiter=\",\")\n",
    "x_bc = data[:, :-1]\n",
    "y_bc = data[:, -1]\n",
    "\n",
    "# Convert y into 2-D because the commands later will require it (x is already 2-D)\n",
    "y_bc= np.expand_dims(y_bc, axis=1)\n",
    "#y = y[:, np.newaxis]\n",
    "\n",
    "print(x_bc.shape)\n",
    "print(y_bc.shape)\n",
    "print(x_bc[:5])\n",
    "print(np.unique(y_bc))"
   ]
  },
  {
   "cell_type": "code",
   "execution_count": 145,
   "id": "525d1c30",
   "metadata": {},
   "outputs": [
    {
     "data": {
      "image/png": "[encoded data removed]",
      "text/plain": [
       "<Figure size 1000x800 with 1 Axes>"
      ]
     },
     "metadata": {},
     "output_type": "display_data"
    }
   ],
   "source": [
    "#plot the binary categorical data\n",
    "import matplotlib.lines as mlines\n",
    "\n",
    "def plot_bc_dataset(x=x_bc, y=y_bc, title=\"x1 vs. x2\"):\n",
    "#     y = y.reshape(-1)\n",
    "#     pos = y==1.\n",
    "#     neg = y==0.\n",
    "#     plt.scatter(x[pos, 0], x[pos, 1], label=\"y=1\", marker=\"x\", color=\"red\")\n",
    "#     plt.scatter(x[neg, 0], x[neg, 1], label=\"y=0\", marker=\"o\", facecolors=\"none\", edgecolors=\"blue\")\n",
    "    for i in range(len(y)):\n",
    "        marker = \"x\" if y[i]==1 else \"o\"\n",
    "        c = \"red\" if y[i]==1 else \"blue\"\n",
    "        plt.scatter(x[i, 0], x[i, 1], marker=marker, c=c);\n",
    "    \n",
    "    plt.title(\"x1 vs x2\")\n",
    "    plt.xlabel(\"X1\")\n",
    "    plt.ylabel(\"X2\")\n",
    "    #to create legend\n",
    "    y_0 = mlines.Line2D([], [], color='r', marker='x', markersize=12, linestyle='None', label='y=1')\n",
    "    y_1 = mlines.Line2D([], [], color='b', marker='o', markersize=12, linestyle='None', label='y=0')\n",
    "    plt.title(title)\n",
    "    plt.legend(handles=[y_0, y_1])\n",
    "    plt.show()\n",
    "\n",
    "plot_bc_dataset(x=x_bc, y=y_bc)"
   ]
  },
  {
   "cell_type": "code",
   "execution_count": 149,
   "id": "8fe61db9",
   "metadata": {},
   "outputs": [
    {
     "name": "stdout",
     "output_type": "stream",
     "text": [
      "the shape of the training set (input) is: (120, 2)\n",
      "the shape of the training set (target) is: (120, 1)\n",
      "\n",
      "the shape of the cross validation set (input) is: (40, 2)\n",
      "the shape of the cross validation set (target) is: (40, 1)\n",
      "\n",
      "the shape of the test set (input) is: (40, 2)\n",
      "the shape of the test set (target) is: (40, 1)\n"
     ]
    }
   ],
   "source": [
    "#Splitting the data\n",
    "# Get 60% of the dataset as the training set. Put the remaining 40% in temporary variables.\n",
    "x_bc_train, x_, y_bc_train, y_ = train_test_split(x_bc, y_bc, test_size=0.40, random_state=1)\n",
    "\n",
    "# Split the 40% subset above into two: one half for cross validation and the other for the test set\n",
    "x_bc_val, x_bc_test, y_bc_val, y_bc_test = train_test_split(x_, y_, test_size=0.50, random_state=1)\n",
    "\n",
    "# Delete temporary variables\n",
    "del x_, y_\n",
    "\n",
    "print(f\"the shape of the training set (input) is: {x_bc_train.shape}\")\n",
    "print(f\"the shape of the training set (target) is: {y_bc_train.shape}\\n\")\n",
    "print(f\"the shape of the cross validation set (input) is: {x_bc_val.shape}\")\n",
    "print(f\"the shape of the cross validation set (target) is: {y_bc_val.shape}\\n\")\n",
    "print(f\"the shape of the test set (input) is: {x_bc_test.shape}\")\n",
    "print(f\"the shape of the test set (target) is: {y_bc_test.shape}\")"
   ]
  },
  {
   "cell_type": "markdown",
   "id": "c247c4c5",
   "metadata": {},
   "source": [
    "#### Evaluating the error for classification models\n",
    "    In the previous sections on regression models, you used the mean squared error to measure how well your model is doing. For classification, you can get a similar metric by getting the fraction of the data that the model has misclassified. For example, if your model made wrong predictions for 2 samples out of 5, then you will report an error of 40% or 0.4. The code below demonstrates this using a for-loop and also with Numpy's mean() function"
   ]
  },
  {
   "cell_type": "code",
   "execution_count": 148,
   "id": "3473f32d",
   "metadata": {},
   "outputs": [
    {
     "name": "stdout",
     "output_type": "stream",
     "text": [
      "probabilities: [0.2 0.6 0.7 0.3 0.8]\n",
      "predictions with threshold=0.5: [0 1 1 0 1]\n",
      "targets: [1 1 1 1 1]\n",
      "fraction of misclassified data (for-loop): 0.4\n",
      "fraction of misclassified data (with np.mean()): 0.4\n"
     ]
    }
   ],
   "source": [
    "#counting missclasifications using for loop and np.mean\n",
    "\n",
    "# Sample model output\n",
    "probabilities = np.array([0.2, 0.6, 0.7, 0.3, 0.8])\n",
    "\n",
    "#sample Ground truth labels\n",
    "ground_truth = np.array([1, 1, 1, 1, 1])\n",
    "\n",
    "#applying threshold to get the predcitions\n",
    "predictions = np.where(probabilities >= 0.5, 1, 0)\n",
    "\n",
    "#calculating the missclassfied prediction\n",
    "misclassified = 0 #counter for misclassfied\n",
    "for i in range(len(predictions)):\n",
    "    if predictions[i] != ground_truth[i]:\n",
    "        misclassified += 1\n",
    "\n",
    "#Compute the fraction of the data that the model misclassified\n",
    "fraction_error = misclassified / len(predictions) \n",
    "    \n",
    "print(f\"probabilities: {probabilities}\")\n",
    "print(f\"predictions with threshold=0.5: {predictions}\")\n",
    "print(f\"targets: {ground_truth}\")\n",
    "print(f\"fraction of misclassified data (for-loop): {fraction_error}\")\n",
    "print(f\"fraction of misclassified data (with np.mean()): {np.mean(predictions != ground_truth)}\")"
   ]
  },
  {
   "cell_type": "markdown",
   "id": "0f08e1b9",
   "metadata": {},
   "source": [
    "#### Build and train the model\n",
    "    You will use the same neural network architectures in the previous section so you can call the build_models() function again to create new instances of these models.\n",
    "\n",
    "    You will follow the recommended approach mentioned last week where you use a linear activation for the output layer (instead of sigmoid) then set from_logits=True when declaring the loss function of the model. You will use the binary crossentropy loss because this is a binary classification problem.\n",
    "\n",
    "    After training, you will use a sigmoid function to convert the model outputs into probabilities. From there, you can set a threshold and get the fraction of misclassified examples from the training and cross validation sets.\n",
    "\n",
    "    You can see all these in the code cell below.\n",
    "    \n",
    "    Note we didnt do scaling here, but do it."
   ]
  },
  {
   "cell_type": "code",
   "execution_count": 151,
   "id": "16991759",
   "metadata": {},
   "outputs": [
    {
     "name": "stdout",
     "output_type": "stream",
     "text": [
      "Training model1...\n",
      "Done!\n",
      "\n",
      "Training model2...\n",
      "Done!\n",
      "\n",
      "Training model3...\n",
      "Done!\n",
      "\n",
      "RESULTS:\n",
      "Model 1: Training Set Classification Error: 0.18333, CV Set Classification Error: 0.12500\n",
      "Model 2: Training Set Classification Error: 0.15000, CV Set Classification Error: 0.07500\n",
      "Model 3: Training Set Classification Error: 0.41667, CV Set Classification Error: 0.47500\n"
     ]
    }
   ],
   "source": [
    "#model selection process\n",
    "nn_train_bc_fraction_errors = []\n",
    "nn_val_bc_fraction_errors = []\n",
    "\n",
    "nn_bc_models = build_models()\n",
    "# print(models)\n",
    "\n",
    "for model in nn_bc_models:\n",
    "    print(f\"Training {model.name}...\")\n",
    "    model.compile(loss=tf.keras.losses.BinaryCrossentropy(from_logits=True),\n",
    "                 optimizer=tf.keras.optimizers.Adam(learning_rate=0.01))\n",
    "    \n",
    "    model.fit(x_bc_train, y_bc_train, epochs=200, verbose=0)\n",
    "    print(\"Done!\\n\")\n",
    "    \n",
    "    #calculating training logits\n",
    "    y_train_logits = model.predict(x_bc_train, verbose=0)\n",
    "    \n",
    "    #prediction probabilities\n",
    "    y_train_probs = tf.nn.sigmoid(y_train_logits)\n",
    "    \n",
    "    #applying threshold for predictions\n",
    "    y_train_preds = np.where(y_train_probs >= 0.5, 1, 0)\n",
    "    \n",
    "    #calculate the training error using np.mean\n",
    "    train_fraction_error = np.mean(y_train_preds != y_bc_train)\n",
    "    nn_train_bc_fraction_errors.append(train_fraction_error)\n",
    "    \n",
    "    y_val_logits = model.predict(x_bc_val, verbose=0)\n",
    "    y_val_probs = tf.nn.sigmoid(y_val_logits)\n",
    "    y_val_preds = np.where(y_val_probs >= 0.5, 1, 0)\n",
    "    \n",
    "    #calculate the validation fraction error using np.mean\n",
    "    val_fraction_error = np.mean(y_val_preds != y_bc_val)\n",
    "    nn_val_bc_fraction_errors.append(val_fraction_error)\n",
    "     \n",
    "# print results\n",
    "print(\"RESULTS:\")\n",
    "for model_num in range(len(nn_train_bc_fraction_errors)):\n",
    "    print(\n",
    "        f\"Model {model_num + 1}: Training Set Classification Error: {nn_train_bc_fraction_errors[model_num]:.5f}, \" +\n",
    "        f\"CV Set Classification Error: {nn_val_bc_fraction_errors[model_num]:.5f}\"\n",
    "        )"
   ]
  },
  {
   "cell_type": "code",
   "execution_count": 153,
   "id": "66948d05",
   "metadata": {},
   "outputs": [
    {
     "name": "stdout",
     "output_type": "stream",
     "text": [
      "Selected Model: 2\n",
      "Training Set Classification Error: 0.1500\n",
      "CV Set Classification Error: 0.0750\n",
      "Test Set Classification Error: 0.1500\n"
     ]
    }
   ],
   "source": [
    "#From the output above, you can choose which one performed best. \n",
    "#If there is a tie on the cross validation set error, \n",
    "#then you can pick the one with the lower training set error. \n",
    "#Finally, you can compute the test error to report the model's generalization error.\n",
    "\n",
    "# Select the model with the lowest error\n",
    "model_num = 2\n",
    "threshold = 0.5\n",
    "\n",
    "# Compute the test error\n",
    "yhat = nn_bc_models[model_num-1].predict(x_bc_test, verbose=0)\n",
    "yhat = tf.math.sigmoid(yhat)\n",
    "yhat = np.where(yhat >= threshold, 1, 0)\n",
    "nn_test_bc_error = np.mean(yhat != y_bc_test)\n",
    "\n",
    "print(f\"Selected Model: {model_num}\")\n",
    "print(f\"Training Set Classification Error: {nn_train_bc_fraction_errors[model_num-1]:.4f}\")\n",
    "print(f\"CV Set Classification Error: {nn_val_bc_fraction_errors[model_num-1]:.4f}\")\n",
    "print(f\"Test Set Classification Error: {nn_test_bc_error:.4f}\")"
   ]
  }
 ],
 "metadata": {
  "kernelspec": {
   "display_name": "Python 3 (ipykernel)",
   "language": "python",
   "name": "python3"
  },
  "language_info": {
   "codemirror_mode": {
    "name": "ipython",
    "version": 3
   },
   "file_extension": ".py",
   "mimetype": "text/x-python",
   "name": "python",
   "nbconvert_exporter": "python",
   "pygments_lexer": "ipython3",
   "version": "3.8.10"
  }
 },
 "nbformat": 4,
 "nbformat_minor": 5
}
