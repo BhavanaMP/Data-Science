{
 "cells": [
  {
   "cell_type": "code",
   "execution_count": 19,
   "id": "ff54124d",
   "metadata": {},
   "outputs": [],
   "source": [
    "import numpy as np\n",
    "import matplotlib.pyplot as plt\n",
    "import copy, math\n",
    "%matplotlib inline\n",
    "np.set_printoptions(precision=3)"
   ]
  },
  {
   "cell_type": "code",
   "execution_count": 10,
   "id": "6669f999",
   "metadata": {},
   "outputs": [
    {
     "name": "stdout",
     "output_type": "stream",
     "text": [
      "X_train.shape: (97, 1)\n",
      "y_train.shape: (97,)\n",
      "X type: <class 'numpy.ndarray'> \n",
      "X: \n",
      "[[6.11 ]\n",
      " [5.528]\n",
      " [8.519]\n",
      " [7.003]\n",
      " [5.86 ]]\n",
      "y type: <class 'numpy.ndarray'> \n",
      "Y: \n",
      "[17.592  9.13  13.662 11.854  6.823]\n",
      "Peak to peak of X: [17.176]\n",
      "Peak to peak of Y: 26.8277\n",
      "[[6.11  5.528 8.519 7.003 5.86 ]]\n"
     ]
    }
   ],
   "source": [
    "def load_data():\n",
    "    data = np.loadtxt(\"./ex1data1.txt\", delimiter=\",\")\n",
    "    X = data[:, :1]\n",
    "    y = data[:, 1]\n",
    "    return(X, y)\n",
    "\n",
    "X_train, y_train = load_data()\n",
    "print(f\"X_train.shape: {X_train.shape}\")\n",
    "print(f\"y_train.shape: {y_train.shape}\")\n",
    "print(f\"X type: {type(X_train)} \\nX: \\n{X_train[:5]}\")\n",
    "print(f\"y type: {type(y_train)} \\nY: \\n{y_train[:5]}\")\n",
    "print(f\"Peak to peak of X: {np.ptp(X_train, axis=0)}\")\n",
    "print(f\"Peak to peak of Y: {np.ptp(y_train, axis=0)}\")\n",
    "print(X_train[:5].T)"
   ]
  },
  {
   "cell_type": "code",
   "execution_count": 81,
   "id": "0b9c2a32",
   "metadata": {},
   "outputs": [],
   "source": [
    "def calculate_cost(X, y, w, b):\n",
    "    m = X.shape[0]\n",
    "    err = (X @ w + b) - y\n",
    "    squared_err = np.square(err)\n",
    "    cost =  np.sum(squared_err) / (2*m)\n",
    "    return cost\n",
    "\n",
    "def calculate_gradients(X, y, w, b):\n",
    "    m, n = X.shape\n",
    "    err = (X @ w + b) - y\n",
    "#     print(err.shape) #97\n",
    "#     print(X.T.shape) # (1, 97)\n",
    "    dj_db = 1/m * (np.sum(err))\n",
    "    dj_dw = (1/m) * (X.T @ err) #(x1e1 + x2e2...)\n",
    "    return(dj_dw, dj_db)\n",
    "\n",
    "#     dj_dw = np.zeros((n,))\n",
    "#     dj_db = 0\n",
    "#     for i in range(m):\n",
    "#         err_i = ((X[i] @ w) + b) - y[i]\n",
    "#         dj_db = dj_db + err_i\n",
    "#         for j in range(n):\n",
    "#             dj_dw[j] = dj_dw[j] + err_i * X[i, j]\n",
    "#     dj_dw = dj_dw / m\n",
    "#     dj_db = dj_db / m\n",
    "#     return dj_dw, dj_db\n",
    "\n",
    "def gradients_descent(X_train, y_train, w, b, calculate_cost,\n",
    "                      calculate_gradients, alpha=1e-5, num_iters=1000):\n",
    "    w = copy.deepcopy(w)\n",
    "    b = b\n",
    "    hist = {}\n",
    "    hist['params'] , hist['cost'], hist['iter'], hist['grads'] = [], [], [], []\n",
    "    save_interval = np.ceil(num_iters / 10000)\n",
    "    \n",
    "    for i in range(num_iters):\n",
    "        dj_dw, dj_db = calculate_gradients(X_train, y_train, w, b)\n",
    "        w = w - alpha * dj_dw\n",
    "        b = b - alpha * dj_db\n",
    "        # Save cost J,w,b at each save interval for graphing\n",
    "        if i == 0 or i % save_interval == 0:\n",
    "            cost = calculate_cost(X_train, y_train, w, b)\n",
    "            hist['cost'].append(cost)\n",
    "            hist['params'].append([w, b])\n",
    "            hist['grads'].append([dj_dw, dj_db])\n",
    "            hist['iter'].append(i)\n",
    "        \n",
    "        # Print cost every at intervals 10 times or as many iterations if < 10\n",
    "        if i % math.ceil(num_iters / 10) == 0:\n",
    "            print(f\"Iteration: {i:4} , Cost : {float(cost):8.2f}\")\n",
    "    return(w, b, hist)\n",
    "\n",
    "def run_batch_gradient_descent(X_train, y_train, alpha=1e-7, num_iters=1000):\n",
    "    m, n = X_train.shape\n",
    "    w = np.zeros((n,)) #initial params\n",
    "    b = 0.0 #initial params\n",
    "    w_out, b_out, hist = gradients_descent(X_train, y_train, w, b, calculate_cost,\n",
    "                                           calculate_gradients, alpha, num_iters)\n",
    "    print(f\"Final parameters are: w = {w_out} , b + {b_out}\")\n",
    "    return(w_out, b_out, hist)\n",
    "    \n"
   ]
  },
  {
   "cell_type": "code",
   "execution_count": 58,
   "id": "f7440ef4",
   "metadata": {},
   "outputs": [
    {
     "name": "stdout",
     "output_type": "stream",
     "text": [
      "Iteration:    0 , Cost :     6.74\n",
      "Iteration:  150 , Cost :     5.31\n",
      "Iteration:  300 , Cost :     4.96\n",
      "Iteration:  450 , Cost :     4.76\n",
      "Iteration:  600 , Cost :     4.64\n",
      "Iteration:  750 , Cost :     4.57\n",
      "Iteration:  900 , Cost :     4.53\n",
      "Iteration: 1050 , Cost :     4.51\n",
      "Iteration: 1200 , Cost :     4.50\n",
      "Iteration: 1350 , Cost :     4.49\n",
      "Final parameters are: w = [1.166] , b + -3.63029143940436\n"
     ]
    }
   ],
   "source": [
    "w_out, b_out, hist = run_batch_gradient_descent(X_train, y_train, alpha=1e-2, num_iters=1500)\n",
    "\n",
    "#Calculate predictions for the entire dataset\n",
    "# y_pred = X_train @ w_out + b_out\n",
    "m = X_train.shape[0]\n",
    "predicted = np.zeros(m)\n",
    "\n",
    "for i in range(m):\n",
    "    predicted[i] = w * x_train[i] + b\n",
    "    \n",
    "# Plot the linear fit\n",
    "plt.plot(x_train, predicted, c = \"b\")\n",
    "\n",
    "# Create a scatter plot of the data. \n",
    "plt.scatter(x_train, y_train, marker='x', c='r') \n",
    "\n",
    "# Set the title\n",
    "plt.title(\"Profits vs. Population per city\")\n",
    "# Set the y-axis label\n",
    "plt.ylabel('Profit in $10,000')\n",
    "# Set the x-axis label\n",
    "plt.xlabel('Population of City in 10,000s')"
   ]
  },
  {
   "cell_type": "code",
   "execution_count": 83,
   "id": "f97a33b5",
   "metadata": {},
   "outputs": [
    {
     "name": "stdout",
     "output_type": "stream",
     "text": [
      "For population = 35,000, we predict a profit of $4519.77\n",
      "For population = 70,000, we predict a profit of $45342.45\n"
     ]
    }
   ],
   "source": [
    "#test set prediction\n",
    "predict1 = 3.5 * w_out + b_out #x=3.5 => 3.5*10000 = 350000. Remember i/p x is population in ranges of x/10000\n",
    "print('For population = 35,000, we predict a profit of $%.2f' % (predict1*10000))\n",
    "\n",
    "predict2 = 7.0 * w_out + b_out #x=3.5 => 3.5*10000\n",
    "print('For population = 70,000, we predict a profit of $%.2f' % (predict2*10000))"
   ]
  },
  {
   "cell_type": "code",
   "execution_count": 82,
   "id": "cf39837c",
   "metadata": {},
   "outputs": [
    {
     "name": "stdout",
     "output_type": "stream",
     "text": [
      "\u001b[92mAll tests passed!\n",
      "Using X with shape (4, 1)\n",
      "\u001b[92mAll tests passed!\n"
     ]
    }
   ],
   "source": [
    "def test_cases_cost(targetfunction):\n",
    "    # Case 1\n",
    "    x = np.array([[2, 4, 6, 8]]).T\n",
    "    y = np.array([7, 11, 15, 19]).T\n",
    "    initial_w = [2]\n",
    "    initial_b = 3.0\n",
    "    cost = targetfunction(x, y, initial_w, initial_b)\n",
    "    assert cost == 0, f\"Case 1: Cost must be 0 for a perfect prediction but got {cost}\"\n",
    "    \n",
    "    # Case 2\n",
    "    x = np.array([[2, 4, 6, 8]]).T\n",
    "    y = np.array([7, 11, 15, 19]).T\n",
    "    initial_w = [2.0]\n",
    "    initial_b = 1.0\n",
    "    cost = targetfunction(x, y, initial_w, initial_b)\n",
    "    assert cost == 2, f\"Case 2: Cost must be 2 for a perfect prediction but got {cost}\"\n",
    "    \n",
    "     # Case 3\n",
    "    x = np.array([[1.5, 2.5, 3.5, 4.5, 1.5]]).T\n",
    "    y = np.array([4, 7, 10, 13, 5]).T\n",
    "    initial_w = [1]\n",
    "    initial_b = 0.0\n",
    "    cost = targetfunction(x, y, initial_w, initial_b)\n",
    "    assert np.isclose(cost, 15.325), f\"Case 3: Cost must be 15.325 for a perfect prediction but got {cost}\"\n",
    "    \n",
    "    # Case 4\n",
    "    initial_b = 1.0\n",
    "    cost = targetfunction(x, y, initial_w, initial_b)\n",
    "    assert np.isclose(cost, 10.725), f\"Case 4: Cost must be 10.725 but got {cost}\"\n",
    "    \n",
    "    # Case 5\n",
    "    y = y - 2\n",
    "    initial_b = 1.0\n",
    "    cost = targetfunction(x, y, initial_w, initial_b)\n",
    "    assert  np.isclose(cost, 4.525), f\"Case 5: Cost must be 4.525 but got {cost}\"\n",
    "    \n",
    "    print(\"\\033[92mAll tests passed!\")\n",
    "\n",
    "def test_cases_gradient(targetfunction):\n",
    "    print(\"Using X with shape (4, 1)\")\n",
    "    # Case 1\n",
    "    x = np.array([[2, 4, 6, 8]]).T\n",
    "    y = np.array([4.5, 8.5, 12.5, 16.5]).T\n",
    "    initial_w = [2.]\n",
    "    initial_b = 0.5\n",
    "    dj_dw, dj_db = targetfunction(x, y, initial_w, initial_b)\n",
    "    assert dj_db == 0.0, f\"Case 1: dj_db is wrong: {dj_db} != 0.0\"\n",
    "    assert np.allclose(dj_dw, 0), f\"Case 1: dj_dw is wrong: {dj_dw} != [[0.0]]\"\n",
    "    \n",
    "    # Case 2 \n",
    "    x = np.array([[2, 4, 6, 8]]).T\n",
    "    y = np.array([4, 7, 10, 13]).T + 2\n",
    "    initial_w = [1.5]\n",
    "    initial_b = 1\n",
    "    dj_dw, dj_db = targetfunction(x, y, initial_w, initial_b)\n",
    "    assert dj_db == -2, f\"Case 1: dj_db is wrong: {dj_db} != -2\"\n",
    "    assert np.allclose(dj_dw, -10.0), f\"Case 1: dj_dw is wrong: {dj_dw} != -10.0\"   \n",
    "    \n",
    "    print(\"\\033[92mAll tests passed!\")\n",
    "    \n",
    "test_cases_cost(calculate_cost)\n",
    "test_cases_gradient(calculate_gradients)"
   ]
  }
 ],
 "metadata": {
  "kernelspec": {
   "display_name": "Python 3 (ipykernel)",
   "language": "python",
   "name": "python3"
  },
  "language_info": {
   "codemirror_mode": {
    "name": "ipython",
    "version": 3
   },
   "file_extension": ".py",
   "mimetype": "text/x-python",
   "name": "python",
   "nbconvert_exporter": "python",
   "pygments_lexer": "ipython3",
   "version": "3.8.10"
  }
 },
 "nbformat": 4,
 "nbformat_minor": 5
}
