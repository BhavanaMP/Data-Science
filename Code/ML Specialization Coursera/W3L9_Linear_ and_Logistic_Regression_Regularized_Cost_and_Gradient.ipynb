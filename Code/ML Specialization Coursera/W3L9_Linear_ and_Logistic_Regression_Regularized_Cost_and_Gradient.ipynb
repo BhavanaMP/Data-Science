{
 "cells": [
  {
   "cell_type": "markdown",
   "id": "0de29e59",
   "metadata": {},
   "source": [
    "### Regularization\n",
    "    Imagine we have a model whose parameters are very big"
   ]
  },
  {
   "cell_type": "code",
   "execution_count": 2,
   "id": "bdb0d971",
   "metadata": {},
   "outputs": [],
   "source": [
    "import numpy as np\n",
    "import matplotlib.pyplot as plt\n",
    "%matplotlib widget\n",
    "np.set_printoptions(precision=2)"
   ]
  },
  {
   "cell_type": "code",
   "execution_count": 57,
   "id": "f6663282",
   "metadata": {},
   "outputs": [
    {
     "name": "stdout",
     "output_type": "stream",
     "text": [
      "Regularized cost: 0.07917239320214275\n"
     ]
    }
   ],
   "source": [
    "def compute_cost_linear_reg(x, y, w, b, lambda_ = 1):\n",
    "    \"\"\"\n",
    "    Computes the cost over all examples\n",
    "    Args:\n",
    "      X (ndarray (m,n): Data, m examples with n features\n",
    "      y (ndarray (m,)): target values\n",
    "      w (ndarray (n,)): model parameters  \n",
    "      b (scalar)      : model parameter\n",
    "      lambda_ (scalar): Controls amount of regularization\n",
    "    Returns:\n",
    "      total_cost (scalar):  cost \n",
    "    \"\"\"\n",
    "    m = x.shape[0]\n",
    "    f_wb = np.dot(x, w) + b\n",
    "    cost = 1 / (2*m) * np.sum(np.square(f_wb - y)) \n",
    "    regularised_cost = (lambda_ / (2*m)) * np.sum(np.square(w))\n",
    "    total_cost = cost + regularised_cost\n",
    "    return total_cost\n",
    "\n",
    "#     m  = x.shape[0]\n",
    "#     n  = len(w)\n",
    "#     cost = 0.\n",
    "#     for i in range(m):\n",
    "#         f_wb_i = np.dot(x[i], w) + b                                   #(n,)(n,)=scalar, see np.dot\n",
    "#         cost = cost + (f_wb_i - y[i])**2                               #scalar             \n",
    "#     cost = cost / (2 * m)                                              #scalar  \n",
    " \n",
    "#     reg_cost = 0\n",
    "#     for j in range(n):\n",
    "#         reg_cost += (w[j]**2)                                          #scalar\n",
    "#     reg_cost = (lambda_/(2*m)) * reg_cost                              #scalar\n",
    "    \n",
    "#     total_cost = cost + reg_cost                                       #scalar\n",
    "#     return total_cost      \n",
    "\n",
    "np.random.seed(1)\n",
    "X_tmp = np.random.rand(5,6)\n",
    "y_tmp = np.array([0,1,0,1,0])\n",
    "w_tmp = np.random.rand(X_tmp.shape[1]).reshape(-1,)-0.5\n",
    "b_tmp = 0.5\n",
    "lambda_tmp = 0.7\n",
    "cost_tmp = compute_cost_linear_reg(X_tmp, y_tmp, w_tmp, b_tmp, lambda_tmp)\n",
    "\n",
    "print(\"Regularized cost:\", cost_tmp)"
   ]
  },
  {
   "cell_type": "code",
   "execution_count": 52,
   "id": "1acc2828",
   "metadata": {},
   "outputs": [
    {
     "name": "stdout",
     "output_type": "stream",
     "text": [
      "Regularized cost: 0.6850849138741673\n"
     ]
    }
   ],
   "source": [
    "def sigmoid(z):\n",
    "    g = 1 / (1 + np.exp(-z))\n",
    "    return g\n",
    "\n",
    "def compute_logistic_cost(x, y, w, b, mylambda):\n",
    "    \"\"\"Computes the cost over all examples\n",
    "    Args:\n",
    "    Args:\n",
    "      X (ndarray (m,n): Data, m examples with n features\n",
    "      y (ndarray (m,)): target values\n",
    "      w (ndarray (n,)): model parameters  \n",
    "      b (scalar)      : model parameter\n",
    "      lambda_ (scalar): Controls amount of regularization\n",
    "    Returns:\n",
    "      total_cost (scalar):  cost \n",
    "    \"\"\"\n",
    "    m = x.shape[0]\n",
    "    z = x @ w + b\n",
    "    f_wb = sigmoid(z)\n",
    "    cost = np.dot(-y.T, np.log(f_wb)) - np.dot((1- y).T, np.log(1-f_wb))\n",
    "    cost = cost / m\n",
    "    regularized_cost = np.sum(np.square(w))\n",
    "    regularized_cost = mylambda / (2 * m) * regularized_cost\n",
    "    total_cost = cost + regularized_cost\n",
    "    return total_cost\n",
    "#     m, n = x.shape\n",
    "#     cost = 0.0\n",
    "#     for i in range(m):\n",
    "#         z_i = np.dot(x[i], w) + b\n",
    "#         f_wb_i = sigmoid(z_i)\n",
    "#         cost += (-y[i] * np.log(f_wb_i)) - ((1 - y[i]) * np.log(1 - f_wb_i))\n",
    "#     cost = cost / m\n",
    "#     regularized_cost = 0.0\n",
    "#     for j in range(n):\n",
    "#         regularized_cost += w[j] ** 2\n",
    "#     regularized_cost = mylambda / (2*m) * regularized_cost\n",
    "#     total_cost = cost + regularized_cost\n",
    "#     return total_cost\n",
    "        \n",
    "#data\n",
    "np.random.seed(1)\n",
    "X_tmp = np.random.rand(5 ,6)\n",
    "y_tmp = np.array([0, 1, 0, 1, 0])\n",
    "w_tmp = np.random.rand(X_tmp.shape[1]).reshape(-1,) - 0.5\n",
    "b_tmp = 0.5\n",
    "lambda_tmp = 0.7\n",
    "cost_tmp = compute_logistic_cost(X_tmp, y_tmp, w_tmp, b_tmp, lambda_tmp)\n",
    "        \n",
    "print(\"Regularized cost:\", cost_tmp)\n",
    "                 \n"
   ]
  },
  {
   "cell_type": "code",
   "execution_count": 74,
   "id": "a280de00",
   "metadata": {},
   "outputs": [
    {
     "name": "stdout",
     "output_type": "stream",
     "text": [
      "dj_db: 0.6648774569425726\n",
      "Regularized dj_dw:\n",
      " [0.29653214748822276, 0.4911679625918033, 0.21645877535865857]\n"
     ]
    }
   ],
   "source": [
    "#Gradient descent for linear regression with regularization\n",
    "def calculate_gradients_linear_reg(x, y, w, b, lambda_):\n",
    "    m, n = x.shape\n",
    "    dj_dw = np.zeros((n,))\n",
    "    dj_db = 0.0\n",
    "    for i in range(m):\n",
    "        f_wb_i = np.dot(x[i], w) + b\n",
    "        err_i = f_wb_i - y[i]\n",
    "        for j in range(n):\n",
    "            dj_dw[j] += err_i * x[i, j]\n",
    "        dj_db += err_i\n",
    "    dj_db = dj_db / m\n",
    "    dj_dw = dj_dw / m\n",
    "    regularised_dj_dw = dj_dw + (lambda_ / m) * w\n",
    "    return dj_db, regularised_dj_dw\n",
    "\n",
    "np.random.seed(1)\n",
    "X_tmp = np.random.rand(5, 3)\n",
    "y_tmp = np.array([0, 1, 0, 1, 0])\n",
    "w_tmp = np.random.rand(X_tmp.shape[1]) #(3,)\n",
    "b_tmp = 0.5\n",
    "lambda_tmp = 0.7\n",
    "dj_db_tmp, dj_dw_tmp =  calculate_gradients_linear_reg(X_tmp, y_tmp, w_tmp, b_tmp, lambda_tmp)\n",
    "\n",
    "print(f\"dj_db: {dj_db_tmp}\", )\n",
    "print(f\"Regularized dj_dw:\\n {dj_dw_tmp.tolist()}\", )"
   ]
  },
  {
   "cell_type": "code",
   "execution_count": 75,
   "id": "663133a1",
   "metadata": {},
   "outputs": [
    {
     "name": "stdout",
     "output_type": "stream",
     "text": [
      "dj_db: 0.341798994972791\n",
      "Regularized dj_dw:\n",
      " [0.17380012933994293, 0.32007507881566943, 0.10776313396851499]\n"
     ]
    }
   ],
   "source": [
    "#Gradient descent for logistic regression with regularization\n",
    "def sigmoid(z):\n",
    "    g = 1 / (1 + np.exp(-z))\n",
    "    return g\n",
    "\n",
    "def calculate_gradients_logistic_reg(x, y, w, b, lambda_):\n",
    "    m, n = x.shape\n",
    "    dj_dw = np.zeros((n,))\n",
    "    dj_db = 0.0\n",
    "    for i in range(m):\n",
    "        f_wb_i = sigmoid(np.dot(x[i], w) + b)\n",
    "        err_i = f_wb_i - y[i]\n",
    "        for j in range(n):\n",
    "            dj_dw[j] += err_i * x[i, j]\n",
    "        dj_db += err_i\n",
    "    dj_db = dj_db / m\n",
    "    dj_dw = dj_dw / m\n",
    "    regularised_dj_dw = dj_dw + (lambda_ / m) * w\n",
    "    return dj_db, regularised_dj_dw\n",
    "\n",
    "\n",
    "np.random.seed(1)\n",
    "X_tmp = np.random.rand(5, 3)\n",
    "y_tmp = np.array([0, 1, 0, 1, 0])\n",
    "w_tmp = np.random.rand(X_tmp.shape[1]) #(3,)\n",
    "b_tmp = 0.5\n",
    "lambda_tmp = 0.7\n",
    "dj_db_tmp, dj_dw_tmp =  calculate_gradients_logistic_reg(X_tmp, y_tmp, w_tmp, b_tmp, lambda_tmp)\n",
    "\n",
    "print(f\"dj_db: {dj_db_tmp}\", )\n",
    "print(f\"Regularized dj_dw:\\n {dj_dw_tmp.tolist()}\", )"
   ]
  }
 ],
 "metadata": {
  "kernelspec": {
   "display_name": "Python 3 (ipykernel)",
   "language": "python",
   "name": "python3"
  },
  "language_info": {
   "codemirror_mode": {
    "name": "ipython",
    "version": 3
   },
   "file_extension": ".py",
   "mimetype": "text/x-python",
   "name": "python",
   "nbconvert_exporter": "python",
   "pygments_lexer": "ipython3",
   "version": "3.8.10"
  }
 },
 "nbformat": 4,
 "nbformat_minor": 5
}
