{
 "cells": [
  {
   "cell_type": "code",
   "execution_count": 7,
   "id": "63732f18",
   "metadata": {},
   "outputs": [
    {
     "name": "stdout",
     "output_type": "stream",
     "text": [
      "[[0.90411349 0.73587543]]\n",
      "[-2.33371631]\n",
      "[7]\n",
      "Prediction on training set: [0 0 0 1 1 1]\n",
      "Accuracy on training set: 1.0\n"
     ]
    }
   ],
   "source": [
    "from sklearn.linear_model import LogisticRegression\n",
    "import numpy as np\n",
    "\n",
    "X = np.array([[0.5, 1.5], [1,1], [1.5, 0.5], [3, 0.5], [2, 2], [1, 2.5]])\n",
    "y = np.array([0, 0, 0, 1, 1, 1])\n",
    "\n",
    "model = LogisticRegression(penalty=\"l2\")\n",
    "model.fit(X, y)\n",
    "print(model.coef_) #w\n",
    "print(model.intercept_) #b\n",
    "print(model.n_iter_)\n",
    "\n",
    "y_pred = model.predict(X)\n",
    "\n",
    "print(\"Prediction on training set:\", y_pred)\n",
    "print(\"Accuracy on training set:\", model.score(X, y))"
   ]
  }
 ],
 "metadata": {
  "kernelspec": {
   "display_name": "Python 3 (ipykernel)",
   "language": "python",
   "name": "python3"
  },
  "language_info": {
   "codemirror_mode": {
    "name": "ipython",
    "version": 3
   },
   "file_extension": ".py",
   "mimetype": "text/x-python",
   "name": "python",
   "nbconvert_exporter": "python",
   "pygments_lexer": "ipython3",
   "version": "3.8.10"
  }
 },
 "nbformat": 4,
 "nbformat_minor": 5
}
