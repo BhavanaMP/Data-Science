{
 "cells": [
  {
   "cell_type": "markdown",
   "id": "58a4b14d",
   "metadata": {},
   "source": [
    "### Maximum Likelihood\n",
    "    Maximum Likelihood is a fundamental principle in statistics and machine learning used to find the most likely parameters of a model that best explain the observed data. In comprehensible terms, it can be understood as follows:\n",
    "\n",
    "    Imagine you have some data and you want to find the best-fitting model to describe that data. Maximum Likelihood provides a way to do that. The key idea is to find the model's parameters that make the observed data most probable.\n",
    "\n",
    "    Let's take a simple example: coin tosses. You have a coin, and you want to know how likely it is to get heads or tails. You start flipping the coin multiple times and record the results (heads or tails).\n",
    "\n",
    "    Now, you want to create a model to describe this coin's behavior. Let's say the model has one parameter: the probability of getting heads, denoted by \"p.\" The probability of getting tails will be (1 - p).\n",
    "\n",
    "    With the data you collected, you can calculate the likelihood of each observed outcome (heads or tails) under the model with a certain value of \"p.\" The likelihood is a measure of how probable it is to observe the data given the model and its parameters.\n",
    "\n",
    "    Maximum Likelihood estimation aims to find the value of \"p\" that maximizes the likelihood of the observed data. In other words, you are looking for the parameter value that makes the data most likely to occur according to the model.\n",
    "\n",
    "    To achieve this, you calculate the likelihood for different values of \"p\" and find the value that gives you the highest likelihood. That value of \"p\" is the maximum likelihood estimate for the parameter of the model.\n",
    "\n",
    "    In more complex models with multiple parameters, Maximum Likelihood extends to finding the combination of parameter values that maximizes the likelihood of the data.\n",
    "\n",
    "    Overall, Maximum Likelihood is a powerful and widely used method to estimate the parameters of a model based on observed data, and it forms the foundation for many statistical and machine learning techniques."
   ]
  },
  {
   "cell_type": "markdown",
   "id": "7c870c7d",
   "metadata": {},
   "source": [
    "### MAP\n",
    "    MAP (Maximum A Posteriori) is a statistical concept used to find the most probable explanation or estimate for a certain event or unknown quantity, considering both the observed data and prior knowledge or assumptions about the event.\n",
    "\n",
    "    In simple terms, think of MAP as a way to combine what you already know (prior knowledge) with new evidence (observed data) to make the best possible guess or estimate.\n",
    "\n",
    "    Let's use a simple example to explain MAP:\n",
    "\n",
    "    Imagine you are trying to estimate the temperature outside based on a weather forecast and your past experience. The forecast predicts that it's likely to be cold today, but you know that your region usually has warmer temperatures in summer. So, you have both the forecast (prior knowledge) and your past experience (prior belief).\n",
    "\n",
    "    Now, you walk outside and feel the temperature. This new piece of evidence is the observed data.\n",
    "\n",
    "    Using MAP, you combine the weather forecast (prior knowledge) with what you felt outside (observed data) to make a better estimation of the temperature. If the forecast predicted it would be cold, but it feels warm outside, you might trust your past experience more and estimate a warmer temperature. On the other hand, if the forecast predicted warmth, and it feels cold outside, you might give more weight to the forecast and estimate a colder temperature.\n",
    "\n",
    "    In this example, MAP allows you to find the best estimate of the temperature by balancing what you knew before (prior knowledge) with what you observed (new evidence). It's a way to make more informed guesses by taking into account both your beliefs and the available data."
   ]
  },
  {
   "cell_type": "markdown",
   "id": "a8985417",
   "metadata": {},
   "source": [
    "### what is observed data and evidence here?\n",
    "\n",
    "    In the context of Maximum A Posteriori (MAP) estimation, \"observed data\" and \"evidence\" refer to the information or measurements you have gathered from the real-world situation or experiment.\n",
    "\n",
    "    Let's go back to the example of estimating the temperature outside to explain observed data and evidence:\n",
    "\n",
    "    Observed Data: The observed data is the actual information you collect from the real world. In this case, it is the temperature you feel when you walk outside. You might use a thermometer to measure the temperature, and that recorded temperature is the observed data.\n",
    "\n",
    "    Evidence: Evidence, in the context of MAP, refers to the information or measurements you use as input to make an estimation or inference. In this example, the evidence is the temperature you felt when you walked outside. It is the new information you obtained in the current situation.\n",
    "\n",
    "    In the context of MAP estimation, you combine the observed data (e.g., the temperature measured by the thermometer) with prior knowledge or beliefs (e.g., your experience that the region is usually warmer in summer or the weather forecast predicting colder temperatures). By combining both sources of information, you can make a better estimate of the true temperature outside using the MAP approach. The process of combining prior knowledge with observed data is central to MAP estimation and allows you to make more informed decisions or predictions in a probabilistic framework."
   ]
  }
 ],
 "metadata": {
  "kernelspec": {
   "display_name": "Python 3 (ipykernel)",
   "language": "python",
   "name": "python3"
  },
  "language_info": {
   "codemirror_mode": {
    "name": "ipython",
    "version": 3
   },
   "file_extension": ".py",
   "mimetype": "text/x-python",
   "name": "python",
   "nbconvert_exporter": "python",
   "pygments_lexer": "ipython3",
   "version": "3.8.10"
  }
 },
 "nbformat": 4,
 "nbformat_minor": 5
}
