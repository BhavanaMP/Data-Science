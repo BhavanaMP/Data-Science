{
 "cells": [
  {
   "cell_type": "markdown",
   "id": "40ce2617",
   "metadata": {},
   "source": [
    "    networkx is a popular Python library used for working with graphs and networks. It provides tools to create, manipulate, and analyze graphs. Below is a basic tutorial to help you get started with networkx\n",
    "    \n",
    "    Installation:\n",
    "        First, you need to install the networkx library. You can do this using pip:\n",
    "                        pip install networkx"
   ]
  },
  {
   "cell_type": "code",
   "execution_count": 5,
   "id": "22aea7ad",
   "metadata": {},
   "outputs": [
    {
     "ename": "TypeError",
     "evalue": "'_AxesStack' object is not callable",
     "output_type": "error",
     "traceback": [
      "\u001b[1;31m---------------------------------------------------------------------------\u001b[0m",
      "\u001b[1;31mTypeError\u001b[0m                                 Traceback (most recent call last)",
      "Cell \u001b[1;32mIn[5], line 21\u001b[0m\n\u001b[0;32m     18\u001b[0m \u001b[38;5;66;03m#Drawing the Graph: To visualize the graph, you can use matplotlib and the draw() function:\u001b[39;00m\n\u001b[0;32m     19\u001b[0m \u001b[38;5;28;01mimport\u001b[39;00m \u001b[38;5;21;01mmatplotlib\u001b[39;00m\u001b[38;5;21;01m.\u001b[39;00m\u001b[38;5;21;01mpyplot\u001b[39;00m \u001b[38;5;28;01mas\u001b[39;00m \u001b[38;5;21;01mplt\u001b[39;00m\n\u001b[1;32m---> 21\u001b[0m \u001b[43mnx\u001b[49m\u001b[38;5;241;43m.\u001b[39;49m\u001b[43mdraw\u001b[49m\u001b[43m(\u001b[49m\u001b[43mG\u001b[49m\u001b[43m,\u001b[49m\u001b[43m \u001b[49m\u001b[43mwith_labels\u001b[49m\u001b[38;5;241;43m=\u001b[39;49m\u001b[38;5;28;43;01mTrue\u001b[39;49;00m\u001b[43m,\u001b[49m\u001b[43m \u001b[49m\u001b[43mnode_color\u001b[49m\u001b[38;5;241;43m=\u001b[39;49m\u001b[38;5;124;43m'\u001b[39;49m\u001b[38;5;124;43mskyblue\u001b[39;49m\u001b[38;5;124;43m'\u001b[39;49m\u001b[43m,\u001b[49m\u001b[43m \u001b[49m\u001b[43mnode_size\u001b[49m\u001b[38;5;241;43m=\u001b[39;49m\u001b[38;5;241;43m800\u001b[39;49m\u001b[43m,\u001b[49m\u001b[43m \u001b[49m\u001b[43mfont_size\u001b[49m\u001b[38;5;241;43m=\u001b[39;49m\u001b[38;5;241;43m12\u001b[39;49m\u001b[43m,\u001b[49m\u001b[43m \u001b[49m\u001b[43mfont_weight\u001b[49m\u001b[38;5;241;43m=\u001b[39;49m\u001b[38;5;124;43m'\u001b[39;49m\u001b[38;5;124;43mbold\u001b[39;49m\u001b[38;5;124;43m'\u001b[39;49m\u001b[43m)\u001b[49m\n\u001b[0;32m     22\u001b[0m plt\u001b[38;5;241m.\u001b[39mshow()\n\u001b[0;32m     24\u001b[0m \u001b[38;5;66;03m#Basic Graph Properties: You can obtain basic properties of the graph:\u001b[39;00m\n\u001b[0;32m     25\u001b[0m \n\u001b[0;32m     26\u001b[0m \u001b[38;5;66;03m# Get the number of nodes and edges\u001b[39;00m\n",
      "File \u001b[1;32m~\\anaconda3\\lib\\site-packages\\networkx\\drawing\\nx_pylab.py:113\u001b[0m, in \u001b[0;36mdraw\u001b[1;34m(G, pos, ax, **kwds)\u001b[0m\n\u001b[0;32m    111\u001b[0m cf\u001b[38;5;241m.\u001b[39mset_facecolor(\u001b[38;5;124m\"\u001b[39m\u001b[38;5;124mw\u001b[39m\u001b[38;5;124m\"\u001b[39m)\n\u001b[0;32m    112\u001b[0m \u001b[38;5;28;01mif\u001b[39;00m ax \u001b[38;5;129;01mis\u001b[39;00m \u001b[38;5;28;01mNone\u001b[39;00m:\n\u001b[1;32m--> 113\u001b[0m     \u001b[38;5;28;01mif\u001b[39;00m \u001b[43mcf\u001b[49m\u001b[38;5;241;43m.\u001b[39;49m\u001b[43m_axstack\u001b[49m\u001b[43m(\u001b[49m\u001b[43m)\u001b[49m \u001b[38;5;129;01mis\u001b[39;00m \u001b[38;5;28;01mNone\u001b[39;00m:\n\u001b[0;32m    114\u001b[0m         ax \u001b[38;5;241m=\u001b[39m cf\u001b[38;5;241m.\u001b[39madd_axes((\u001b[38;5;241m0\u001b[39m, \u001b[38;5;241m0\u001b[39m, \u001b[38;5;241m1\u001b[39m, \u001b[38;5;241m1\u001b[39m))\n\u001b[0;32m    115\u001b[0m     \u001b[38;5;28;01melse\u001b[39;00m:\n",
      "\u001b[1;31mTypeError\u001b[0m: '_AxesStack' object is not callable"
     ]
    },
    {
     "data": {
      "text/plain": [
       "<Figure size 640x480 with 0 Axes>"
      ]
     },
     "metadata": {},
     "output_type": "display_data"
    }
   ],
   "source": [
    "import networkx as nx\n",
    "\n",
    "#Creating a Graph: You can create a graph using networkx by calling the Graph class:\n",
    "\n",
    "# Create an undirected graph\n",
    "G = nx.Graph()\n",
    "\n",
    "# or create a directed graph\n",
    "DG = nx.DiGraph()\n",
    "\n",
    "#Adding Nodes and Edges:You can add nodes and edges to the graph using the add_node() and add_edge() methods, respectively:\n",
    "\n",
    "G.add_node(1)\n",
    "G.add_node(2)\n",
    "\n",
    "G.add_edge(1, 2)\n",
    "\n",
    "#Drawing the Graph: To visualize the graph, you can use matplotlib and the draw() function\n",
    "import matplotlib.pyplot as plt\n",
    "\n",
    "#Draw the graph G with Matplotlib\n",
    "nx.draw(G, with_labels=True, node_color='skyblue', node_size=800, font_size=12, font_weight='bold')\n",
    "plt.show()\n",
    "\n",
    "#Basic Graph Properties: You can obtain basic properties of the graph:\n",
    "\n",
    "# Get the number of nodes and edges\n",
    "num_nodes = G.number_of_nodes()\n",
    "num_edges = G.number_of_edges()\n",
    "\n",
    "# Get the nodes and edges\n",
    "nodes = G.nodes()\n",
    "edges = G.edges()\n",
    "\n",
    "# Check if a node or edge exists\n",
    "node_exists = G.has_node(1)\n",
    "edge_exists = G.has_edge(1, 2)\n",
    "\n",
    "#Node and Edge Attributes: You can associate attributes with nodes and edges:\n",
    "\n",
    "G.add_node(1, label='A')\n",
    "G.add_node(2, label='B')\n",
    "G.add_edge(1, 2, weight=3.5)\n",
    "\n",
    "# Access node and edge attributes\n",
    "node_label = G.nodes[1]['label']\n",
    "edge_weight = G.edges[1, 2]['weight']\n",
    "\n",
    "#Graph Algorithms:\n",
    "#networkx provides various graph algorithms, \n",
    "#such as finding shortest paths, centrality measures, clustering coefficients, and more:\n",
    "\n",
    "\n",
    "# Shortest path between nodes\n",
    "shortest_path = nx.shortest_path(G, source=1, target=2)\n",
    "\n",
    "# Degree centrality of nodes\n",
    "degree_centrality = nx.degree_centrality(G)\n",
    "\n",
    "# Clustering coefficient of nodes\n",
    "clustering_coefficient = nx.clustering(G)\n",
    "\n",
    "# Breadth-First Search (BFS) traversal\n",
    "bfs_traversal = list(nx.bfs_tree(G, source=1))\n",
    "\n",
    "#Reading and Writing Graphs:\n",
    "#You can read and write graphs from and to various formats, such as GML, GEXF, GraphML, and more:\n",
    "\n",
    "\n",
    "nx.write_gml(G, \"my_graph.gml\")\n",
    "H = nx.read_gml(\"my_graph.gml\")\n"
   ]
  },
  {
   "cell_type": "code",
   "execution_count": 3,
   "id": "fb348e8a",
   "metadata": {
    "collapsed": true
   },
   "outputs": [
    {
     "name": "stdout",
     "output_type": "stream",
     "text": [
      "Collecting pyvis\n",
      "  Downloading pyvis-0.3.2-py3-none-any.whl (756 kB)\n",
      "                                              0.0/756.0 kB ? eta -:--:--\n",
      "     -----                                  112.6/756.0 kB 3.3 MB/s eta 0:00:01\n",
      "     ------------------------               481.3/756.0 kB 6.0 MB/s eta 0:00:01\n",
      "     -------------------------------------- 756.0/756.0 kB 5.3 MB/s eta 0:00:00\n",
      "Requirement already satisfied: ipython>=5.3.0 in c:\\users\\malla\\anaconda3\\lib\\site-packages (from pyvis) (8.12.0)\n",
      "Requirement already satisfied: jinja2>=2.9.6 in c:\\users\\malla\\anaconda3\\lib\\site-packages (from pyvis) (3.1.2)\n",
      "Collecting jsonpickle>=1.4.1 (from pyvis)\n",
      "  Downloading jsonpickle-3.0.1-py2.py3-none-any.whl (40 kB)\n",
      "                                              0.0/40.5 kB ? eta -:--:--\n",
      "     ---------------------------------------- 40.5/40.5 kB ? eta 0:00:00\n",
      "Requirement already satisfied: networkx>=1.11 in c:\\users\\malla\\anaconda3\\lib\\site-packages (from pyvis) (2.8.4)\n",
      "Requirement already satisfied: backcall in c:\\users\\malla\\anaconda3\\lib\\site-packages (from ipython>=5.3.0->pyvis) (0.2.0)\n",
      "Requirement already satisfied: decorator in c:\\users\\malla\\anaconda3\\lib\\site-packages (from ipython>=5.3.0->pyvis) (4.3.0)\n",
      "Requirement already satisfied: jedi>=0.16 in c:\\users\\malla\\anaconda3\\lib\\site-packages (from ipython>=5.3.0->pyvis) (0.17.2)\n",
      "Requirement already satisfied: matplotlib-inline in c:\\users\\malla\\anaconda3\\lib\\site-packages (from ipython>=5.3.0->pyvis) (0.1.6)\n",
      "Requirement already satisfied: pickleshare in c:\\users\\malla\\anaconda3\\lib\\site-packages (from ipython>=5.3.0->pyvis) (0.7.5)\n",
      "Requirement already satisfied: prompt-toolkit!=3.0.37,<3.1.0,>=3.0.30 in c:\\users\\malla\\anaconda3\\lib\\site-packages (from ipython>=5.3.0->pyvis) (3.0.36)\n",
      "Requirement already satisfied: pygments>=2.4.0 in c:\\users\\malla\\anaconda3\\lib\\site-packages (from ipython>=5.3.0->pyvis) (2.15.1)\n",
      "Requirement already satisfied: stack-data in c:\\users\\malla\\anaconda3\\lib\\site-packages (from ipython>=5.3.0->pyvis) (0.2.0)\n",
      "Requirement already satisfied: traitlets>=5 in c:\\users\\malla\\anaconda3\\lib\\site-packages (from ipython>=5.3.0->pyvis) (5.7.1)\n",
      "Requirement already satisfied: typing-extensions in c:\\users\\malla\\anaconda3\\lib\\site-packages (from ipython>=5.3.0->pyvis) (4.5.0)\n",
      "Requirement already satisfied: colorama in c:\\users\\malla\\anaconda3\\lib\\site-packages (from ipython>=5.3.0->pyvis) (0.4.6)\n",
      "Requirement already satisfied: MarkupSafe>=2.0 in c:\\users\\malla\\anaconda3\\lib\\site-packages (from jinja2>=2.9.6->pyvis) (2.1.1)\n",
      "Requirement already satisfied: parso<0.8.0,>=0.7.0 in c:\\users\\malla\\anaconda3\\lib\\site-packages (from jedi>=0.16->ipython>=5.3.0->pyvis) (0.7.0)\n",
      "Requirement already satisfied: wcwidth in c:\\users\\malla\\anaconda3\\lib\\site-packages (from prompt-toolkit!=3.0.37,<3.1.0,>=3.0.30->ipython>=5.3.0->pyvis) (0.2.5)\n",
      "Requirement already satisfied: executing in c:\\users\\malla\\anaconda3\\lib\\site-packages (from stack-data->ipython>=5.3.0->pyvis) (0.8.3)\n",
      "Requirement already satisfied: asttokens in c:\\users\\malla\\anaconda3\\lib\\site-packages (from stack-data->ipython>=5.3.0->pyvis) (2.0.5)\n",
      "Requirement already satisfied: pure-eval in c:\\users\\malla\\anaconda3\\lib\\site-packages (from stack-data->ipython>=5.3.0->pyvis) (0.2.2)\n",
      "Requirement already satisfied: six in c:\\users\\malla\\anaconda3\\lib\\site-packages (from asttokens->stack-data->ipython>=5.3.0->pyvis) (1.16.0)\n",
      "Installing collected packages: jsonpickle, pyvis\n",
      "Successfully installed jsonpickle-3.0.1 pyvis-0.3.2\n"
     ]
    },
    {
     "name": "stderr",
     "output_type": "stream",
     "text": [
      "WARNING: Ignoring invalid distribution -ensorflow-intel (c:\\users\\malla\\anaconda3\\lib\\site-packages)\n",
      "WARNING: Ignoring invalid distribution -ensorflow-intel (c:\\users\\malla\\anaconda3\\lib\\site-packages)\n"
     ]
    }
   ],
   "source": [
    "!pip install pyvis"
   ]
  },
  {
   "cell_type": "code",
   "execution_count": 4,
   "id": "43fbc291",
   "metadata": {
    "collapsed": true
   },
   "outputs": [
    {
     "name": "stdout",
     "output_type": "stream",
     "text": [
      "Warning: When  cdn_resources is 'local' jupyter notebook has issues displaying graphics on chrome/safari. Use cdn_resources='in_line' or cdn_resources='remote' if you have issues viewing graphics in a notebook.\n",
      "my_network.html\n"
     ]
    },
    {
     "data": {
      "text/html": [
       "\n",
       "        <iframe\n",
       "            width=\"100%\"\n",
       "            height=\"600px\"\n",
       "            src=\"my_network.html\"\n",
       "            frameborder=\"0\"\n",
       "            allowfullscreen\n",
       "            \n",
       "        ></iframe>\n",
       "        "
      ],
      "text/plain": [
       "<IPython.lib.display.IFrame at 0x25eba9ff3a0>"
      ]
     },
     "execution_count": 4,
     "metadata": {},
     "output_type": "execute_result"
    }
   ],
   "source": [
    "#Network Visualization:\n",
    "#For more advanced network visualization, you can use libraries like pyvis, which provides interactive visualizations:\n",
    "\n",
    "from pyvis.network import Network\n",
    "\n",
    "net = Network(notebook=True)\n",
    "net.add_node(1, label='A')\n",
    "net.add_node(2, label='B')\n",
    "net.add_edge(1, 2, value=3.5)\n",
    "net.show(\"my_network.html\")"
   ]
  }
 ],
 "metadata": {
  "kernelspec": {
   "display_name": "Python 3 (ipykernel)",
   "language": "python",
   "name": "python3"
  },
  "language_info": {
   "codemirror_mode": {
    "name": "ipython",
    "version": 3
   },
   "file_extension": ".py",
   "mimetype": "text/x-python",
   "name": "python",
   "nbconvert_exporter": "python",
   "pygments_lexer": "ipython3",
   "version": "3.8.10"
  }
 },
 "nbformat": 4,
 "nbformat_minor": 5
}
